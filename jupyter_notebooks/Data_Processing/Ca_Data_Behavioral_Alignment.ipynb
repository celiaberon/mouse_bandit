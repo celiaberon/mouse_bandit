{
 "cells": [
  {
   "cell_type": "code",
   "execution_count": 1,
   "metadata": {
    "collapsed": true
   },
   "outputs": [],
   "source": [
    "import sys\n",
    "sys.path.append('/Users/celia/GitHub/mouse_bandit/data_preprocessing_code')\n",
    "sys.path.append('/Users/celia/GitHub/mouse_bandit')\n",
    "import support_functions as sf\n",
    "import numpy as np\n",
    "import pandas as pd\n",
    "import scipy as sp\n",
    "import scipy.io as scio\n",
    "import bandit_preprocessing as bp\n",
    "import sys\n",
    "import os\n",
    "import matplotlib.pyplot as plt\n",
    "import calcium_codes as cc\n",
    "import hmm_on_behavior as hob\n",
    "%matplotlib inline"
   ]
  },
  {
   "cell_type": "code",
   "execution_count": 2,
   "metadata": {},
   "outputs": [
    {
     "ename": "NameError",
     "evalue": "name 'pd' is not defined",
     "output_type": "error",
     "traceback": [
      "\u001b[0;31m---------------------------------------------------------------------------\u001b[0m",
      "\u001b[0;31mNameError\u001b[0m                                 Traceback (most recent call last)",
      "\u001b[0;32m<ipython-input-2-5163215478d7>\u001b[0m in \u001b[0;36m<module>\u001b[0;34m()\u001b[0m\n\u001b[1;32m      4\u001b[0m \u001b[0mca_data_path\u001b[0m \u001b[0;34m=\u001b[0m \u001b[0;34m'/Volumes/Neurobio/MICROSCOPE/Celia/data/cnmfe_test/neuron_results.mat'\u001b[0m\u001b[0;34m\u001b[0m\u001b[0m\n\u001b[1;32m      5\u001b[0m \u001b[0;34m\u001b[0m\u001b[0m\n\u001b[0;32m----> 6\u001b[0;31m \u001b[0mrecord\u001b[0m \u001b[0;34m=\u001b[0m \u001b[0mpd\u001b[0m\u001b[0;34m.\u001b[0m\u001b[0mread_csv\u001b[0m\u001b[0;34m(\u001b[0m\u001b[0mrecord_path\u001b[0m\u001b[0;34m,\u001b[0m\u001b[0mindex_col\u001b[0m\u001b[0;34m=\u001b[0m\u001b[0;36m0\u001b[0m\u001b[0;34m)\u001b[0m\u001b[0;34m\u001b[0m\u001b[0m\n\u001b[0m\u001b[1;32m      7\u001b[0m \u001b[0mca_data\u001b[0m \u001b[0;34m=\u001b[0m \u001b[0mscio\u001b[0m\u001b[0;34m.\u001b[0m\u001b[0mloadmat\u001b[0m\u001b[0;34m(\u001b[0m\u001b[0mca_data_path\u001b[0m\u001b[0;34m,\u001b[0m\u001b[0msqueeze_me\u001b[0m \u001b[0;34m=\u001b[0m \u001b[0;32mTrue\u001b[0m\u001b[0;34m,\u001b[0m \u001b[0mstruct_as_record\u001b[0m \u001b[0;34m=\u001b[0m \u001b[0;32mFalse\u001b[0m\u001b[0;34m)\u001b[0m\u001b[0;34m\u001b[0m\u001b[0m\n\u001b[1;32m      8\u001b[0m \u001b[0mneuron\u001b[0m \u001b[0;34m=\u001b[0m \u001b[0mca_data\u001b[0m\u001b[0;34m[\u001b[0m\u001b[0;34m'neuron_results'\u001b[0m\u001b[0;34m]\u001b[0m\u001b[0;34m\u001b[0m\u001b[0m\n",
      "\u001b[0;31mNameError\u001b[0m: name 'pd' is not defined"
     ]
    }
   ],
   "source": [
    "record_path = '/Users/celia/GitHub/mouse_bandit/session_record.csv'\n",
    "#ca_data_path = '/Volumes/Neurobio/MICROSCOPE/Celia/data/imaging/Shay/k7_03142017_test/neuron_results.mat'\n",
    "ca_data_path = '/Volumes/Neurobio/MICROSCOPE/Celia/data/q43_03202017_bandit_8020/q43_03202017_neuron_master.mat'\n",
    "ca_data_path = '/Volumes/Neurobio/MICROSCOPE/Celia/data/cnmfe_test/neuron_results.mat'\n",
    "\n",
    "record = pd.read_csv(record_path,index_col=0)\n",
    "ca_data = scio.loadmat(ca_data_path,squeeze_me = True, struct_as_record = False)\n",
    "neuron = ca_data['neuron_results'] "
   ]
  },
  {
   "cell_type": "code",
   "execution_count": 36,
   "metadata": {},
   "outputs": [
    {
     "data": {
      "text/plain": [
       "(127, 57600)"
      ]
     },
     "execution_count": 36,
     "metadata": {},
     "output_type": "execute_result"
    }
   ],
   "source": [
    "neuron.C_raw.shape # number of neurons x number of frames"
   ]
  },
  {
   "cell_type": "code",
   "execution_count": 1,
   "metadata": {},
   "outputs": [
    {
     "ename": "NameError",
     "evalue": "name 'record' is not defined",
     "output_type": "error",
     "traceback": [
      "\u001b[0;31m---------------------------------------------------------------------------\u001b[0m",
      "\u001b[0;31mNameError\u001b[0m                                 Traceback (most recent call last)",
      "\u001b[0;32m<ipython-input-1-042516e416d0>\u001b[0m in \u001b[0;36m<module>\u001b[0;34m()\u001b[0m\n\u001b[1;32m      2\u001b[0m \u001b[0mmouse_id\u001b[0m \u001b[0;34m=\u001b[0m \u001b[0;34m'cb008'\u001b[0m\u001b[0;34m\u001b[0m\u001b[0m\n\u001b[1;32m      3\u001b[0m \u001b[0;34m\u001b[0m\u001b[0m\n\u001b[0;32m----> 4\u001b[0;31m \u001b[0mrecord\u001b[0m\u001b[0;34m[\u001b[0m\u001b[0mrecord\u001b[0m\u001b[0;34m[\u001b[0m\u001b[0;34m'Session ID'\u001b[0m\u001b[0;34m]\u001b[0m \u001b[0;34m==\u001b[0m \u001b[0msession_name\u001b[0m\u001b[0;34m]\u001b[0m \u001b[0;31m# take only rows from record that match session name\u001b[0m\u001b[0;34m\u001b[0m\u001b[0m\n\u001b[0m",
      "\u001b[0;31mNameError\u001b[0m: name 'record' is not defined"
     ]
    }
   ],
   "source": [
    "session_name  = '03202017_Q43'\n",
    "mouse_id = 'Q43'\n",
    "\n",
    "record[record['Session ID'] == session_name] # take only rows from record that match session name"
   ]
  },
  {
   "cell_type": "markdown",
   "metadata": {},
   "source": [
    "# Extract data from specific session"
   ]
  },
  {
   "cell_type": "code",
   "execution_count": 38,
   "metadata": {
    "collapsed": true
   },
   "outputs": [],
   "source": [
    "'''\n",
    "load in trial data\n",
    "'''\n",
    "columns = ['Elapsed Time (s)','Since last trial (s)','Trial Duration (s)','Port Poked',\n",
    "           'Right Reward Prob','Left Reward Prob','Reward Given',\n",
    "          'center_frame','decision_frame']\n",
    "\n",
    "root_dir = '/Users/celia/GitHub/mouse_bandit/data/trial_data'\n",
    "\n",
    "full_name = session_name + '_trials.csv'\n",
    "\n",
    "path_name = os.path.join(root_dir,full_name)\n",
    "\n",
    "trial_df = pd.read_csv(path_name,names=columns)"
   ]
  },
  {
   "cell_type": "markdown",
   "metadata": {},
   "source": [
    "### Add column for estimated by HMM using entire session as memory"
   ]
  },
  {
   "cell_type": "code",
   "execution_count": 68,
   "metadata": {},
   "outputs": [
    {
     "data": {
      "text/html": [
       "<div>\n",
       "<style>\n",
       "    .dataframe thead tr:only-child th {\n",
       "        text-align: right;\n",
       "    }\n",
       "\n",
       "    .dataframe thead th {\n",
       "        text-align: left;\n",
       "    }\n",
       "\n",
       "    .dataframe tbody tr th {\n",
       "        vertical-align: top;\n",
       "    }\n",
       "</style>\n",
       "<table border=\"1\" class=\"dataframe\">\n",
       "  <thead>\n",
       "    <tr style=\"text-align: right;\">\n",
       "      <th></th>\n",
       "      <th>Elapsed Time (s)</th>\n",
       "      <th>Since last trial (s)</th>\n",
       "      <th>Trial Duration (s)</th>\n",
       "      <th>Port Poked</th>\n",
       "      <th>Right Reward Prob</th>\n",
       "      <th>Left Reward Prob</th>\n",
       "      <th>Reward Given</th>\n",
       "      <th>center_frame</th>\n",
       "      <th>decision_frame</th>\n",
       "      <th>Belief</th>\n",
       "    </tr>\n",
       "  </thead>\n",
       "  <tbody>\n",
       "    <tr>\n",
       "      <th>0</th>\n",
       "      <td>35.902</td>\n",
       "      <td>22.129</td>\n",
       "      <td>0.621</td>\n",
       "      <td>1</td>\n",
       "      <td>0.2</td>\n",
       "      <td>0.8</td>\n",
       "      <td>0</td>\n",
       "      <td>1460</td>\n",
       "      <td>1479</td>\n",
       "      <td>0.500000</td>\n",
       "    </tr>\n",
       "    <tr>\n",
       "      <th>1</th>\n",
       "      <td>40.081</td>\n",
       "      <td>1.949</td>\n",
       "      <td>0.522</td>\n",
       "      <td>2</td>\n",
       "      <td>0.2</td>\n",
       "      <td>0.8</td>\n",
       "      <td>1</td>\n",
       "      <td>1588</td>\n",
       "      <td>1604</td>\n",
       "      <td>0.113333</td>\n",
       "    </tr>\n",
       "    <tr>\n",
       "      <th>2</th>\n",
       "      <td>41.838</td>\n",
       "      <td>1.377</td>\n",
       "      <td>0.380</td>\n",
       "      <td>2</td>\n",
       "      <td>0.2</td>\n",
       "      <td>0.8</td>\n",
       "      <td>0</td>\n",
       "      <td>1646</td>\n",
       "      <td>1657</td>\n",
       "      <td>0.030203</td>\n",
       "    </tr>\n",
       "    <tr>\n",
       "      <th>3</th>\n",
       "      <td>58.512</td>\n",
       "      <td>1.438</td>\n",
       "      <td>0.378</td>\n",
       "      <td>1</td>\n",
       "      <td>0.2</td>\n",
       "      <td>0.8</td>\n",
       "      <td>0</td>\n",
       "      <td>2146</td>\n",
       "      <td>2157</td>\n",
       "      <td>0.228299</td>\n",
       "    </tr>\n",
       "    <tr>\n",
       "      <th>4</th>\n",
       "      <td>62.833</td>\n",
       "      <td>2.381</td>\n",
       "      <td>0.491</td>\n",
       "      <td>2</td>\n",
       "      <td>0.2</td>\n",
       "      <td>0.8</td>\n",
       "      <td>1</td>\n",
       "      <td>2272</td>\n",
       "      <td>2287</td>\n",
       "      <td>0.047431</td>\n",
       "    </tr>\n",
       "  </tbody>\n",
       "</table>\n",
       "</div>"
      ],
      "text/plain": [
       "   Elapsed Time (s)  Since last trial (s)  Trial Duration (s)  Port Poked  \\\n",
       "0            35.902                22.129               0.621           1   \n",
       "1            40.081                 1.949               0.522           2   \n",
       "2            41.838                 1.377               0.380           2   \n",
       "3            58.512                 1.438               0.378           1   \n",
       "4            62.833                 2.381               0.491           2   \n",
       "\n",
       "   Right Reward Prob  Left Reward Prob  Reward Given  center_frame  \\\n",
       "0                0.2               0.8             0          1460   \n",
       "1                0.2               0.8             1          1588   \n",
       "2                0.2               0.8             0          1646   \n",
       "3                0.2               0.8             0          2146   \n",
       "4                0.2               0.8             1          2272   \n",
       "\n",
       "   decision_frame    Belief  \n",
       "0            1479  0.500000  \n",
       "1            1604  0.113333  \n",
       "2            1657  0.030203  \n",
       "3            2157  0.228299  \n",
       "4            2287  0.047431  "
      ]
     },
     "execution_count": 68,
     "metadata": {},
     "output_type": "execute_result"
    }
   ],
   "source": [
    "beliefs = hob.predictBeliefBySession(record_path, session_name, mouse_id) # generate estimate of belief for each trial\n",
    "\n",
    "columns.append('Belief') # add column named belief to data frame\n",
    "trial_df['Belief'] = beliefs # insert estimated values of belief into this new column\n",
    "trial_df.head(5) # show updated data frame"
   ]
  },
  {
   "cell_type": "code",
   "execution_count": 40,
   "metadata": {},
   "outputs": [
    {
     "data": {
      "text/plain": [
       "52353.0"
      ]
     },
     "execution_count": 40,
     "metadata": {},
     "output_type": "execute_result"
    }
   ],
   "source": [
    "trial_df.iloc[-1]['decision_frame'] - trial_df.iloc[0]['center_frame'] # check total length of session (from \n",
    "                                                                       #first center frame to last decision frame)"
   ]
  },
  {
   "cell_type": "markdown",
   "metadata": {},
   "source": [
    "# convert to feature matrix\n",
    "### Add column for beliefs using past (n) trials as memory (n <= 10)"
   ]
  },
  {
   "cell_type": "code",
   "execution_count": 42,
   "metadata": {
    "collapsed": true
   },
   "outputs": [],
   "source": [
    "feature_matrix = bp.create_feature_matrix(trial_df,10,mouse_id,session_name,feature_names='Default',imaging=True)\n",
    "\n",
    "beliefs_feat_mat = hob.predictBeliefFeatureMat(feature_matrix, 10) # generate estimates of belief based on feature matrix format\n",
    "\n",
    "feature_matrix['Belief'] = beliefs_feat_mat # insert estimated values into new column of original feature matrix"
   ]
  },
  {
   "cell_type": "code",
   "execution_count": 71,
   "metadata": {},
   "outputs": [
    {
     "data": {
      "text/html": [
       "<div>\n",
       "<style>\n",
       "    .dataframe thead tr:only-child th {\n",
       "        text-align: right;\n",
       "    }\n",
       "\n",
       "    .dataframe thead th {\n",
       "        text-align: left;\n",
       "    }\n",
       "\n",
       "    .dataframe tbody tr th {\n",
       "        vertical-align: top;\n",
       "    }\n",
       "</style>\n",
       "<table border=\"1\" class=\"dataframe\">\n",
       "  <thead>\n",
       "    <tr style=\"text-align: right;\">\n",
       "      <th></th>\n",
       "      <th>Mouse ID</th>\n",
       "      <th>Session ID</th>\n",
       "      <th>Trial</th>\n",
       "      <th>Block Trial</th>\n",
       "      <th>Block Reward</th>\n",
       "      <th>Port Streak</th>\n",
       "      <th>Reward Streak</th>\n",
       "      <th>10_Port</th>\n",
       "      <th>10_Reward</th>\n",
       "      <th>10_ITI</th>\n",
       "      <th>...</th>\n",
       "      <th>1_trialDuration</th>\n",
       "      <th>0_ITI</th>\n",
       "      <th>0_trialDuration</th>\n",
       "      <th>Decision</th>\n",
       "      <th>Switch</th>\n",
       "      <th>Higher p port</th>\n",
       "      <th>Reward</th>\n",
       "      <th>center_frame</th>\n",
       "      <th>decision_frame</th>\n",
       "      <th>Belief</th>\n",
       "    </tr>\n",
       "  </thead>\n",
       "  <tbody>\n",
       "    <tr>\n",
       "      <th>0</th>\n",
       "      <td>Q43</td>\n",
       "      <td>03202017_Q43</td>\n",
       "      <td>11.0</td>\n",
       "      <td>11.0</td>\n",
       "      <td>7.0</td>\n",
       "      <td>6.0</td>\n",
       "      <td>6.0</td>\n",
       "      <td>0.0</td>\n",
       "      <td>0.0</td>\n",
       "      <td>22.129</td>\n",
       "      <td>...</td>\n",
       "      <td>0.324</td>\n",
       "      <td>2.543</td>\n",
       "      <td>0.318</td>\n",
       "      <td>1.0</td>\n",
       "      <td>0.0</td>\n",
       "      <td>1.0</td>\n",
       "      <td>1.0</td>\n",
       "      <td>2798.0</td>\n",
       "      <td>2808.0</td>\n",
       "      <td>0.01871</td>\n",
       "    </tr>\n",
       "    <tr>\n",
       "      <th>1</th>\n",
       "      <td>Q43</td>\n",
       "      <td>03202017_Q43</td>\n",
       "      <td>12.0</td>\n",
       "      <td>12.0</td>\n",
       "      <td>8.0</td>\n",
       "      <td>7.0</td>\n",
       "      <td>7.0</td>\n",
       "      <td>1.0</td>\n",
       "      <td>1.0</td>\n",
       "      <td>1.949</td>\n",
       "      <td>...</td>\n",
       "      <td>0.318</td>\n",
       "      <td>2.195</td>\n",
       "      <td>0.345</td>\n",
       "      <td>1.0</td>\n",
       "      <td>0.0</td>\n",
       "      <td>1.0</td>\n",
       "      <td>1.0</td>\n",
       "      <td>2873.0</td>\n",
       "      <td>2884.0</td>\n",
       "      <td>0.01871</td>\n",
       "    </tr>\n",
       "    <tr>\n",
       "      <th>2</th>\n",
       "      <td>Q43</td>\n",
       "      <td>03202017_Q43</td>\n",
       "      <td>13.0</td>\n",
       "      <td>13.0</td>\n",
       "      <td>9.0</td>\n",
       "      <td>8.0</td>\n",
       "      <td>8.0</td>\n",
       "      <td>1.0</td>\n",
       "      <td>0.0</td>\n",
       "      <td>1.377</td>\n",
       "      <td>...</td>\n",
       "      <td>0.345</td>\n",
       "      <td>2.067</td>\n",
       "      <td>0.299</td>\n",
       "      <td>1.0</td>\n",
       "      <td>0.0</td>\n",
       "      <td>1.0</td>\n",
       "      <td>1.0</td>\n",
       "      <td>2946.0</td>\n",
       "      <td>2955.0</td>\n",
       "      <td>0.01871</td>\n",
       "    </tr>\n",
       "    <tr>\n",
       "      <th>3</th>\n",
       "      <td>Q43</td>\n",
       "      <td>03202017_Q43</td>\n",
       "      <td>14.0</td>\n",
       "      <td>14.0</td>\n",
       "      <td>10.0</td>\n",
       "      <td>9.0</td>\n",
       "      <td>9.0</td>\n",
       "      <td>0.0</td>\n",
       "      <td>0.0</td>\n",
       "      <td>1.438</td>\n",
       "      <td>...</td>\n",
       "      <td>0.299</td>\n",
       "      <td>2.486</td>\n",
       "      <td>0.332</td>\n",
       "      <td>1.0</td>\n",
       "      <td>0.0</td>\n",
       "      <td>1.0</td>\n",
       "      <td>1.0</td>\n",
       "      <td>3029.0</td>\n",
       "      <td>3040.0</td>\n",
       "      <td>0.01871</td>\n",
       "    </tr>\n",
       "    <tr>\n",
       "      <th>4</th>\n",
       "      <td>Q43</td>\n",
       "      <td>03202017_Q43</td>\n",
       "      <td>15.0</td>\n",
       "      <td>15.0</td>\n",
       "      <td>11.0</td>\n",
       "      <td>10.0</td>\n",
       "      <td>10.0</td>\n",
       "      <td>1.0</td>\n",
       "      <td>1.0</td>\n",
       "      <td>2.381</td>\n",
       "      <td>...</td>\n",
       "      <td>0.332</td>\n",
       "      <td>2.234</td>\n",
       "      <td>0.416</td>\n",
       "      <td>1.0</td>\n",
       "      <td>0.0</td>\n",
       "      <td>1.0</td>\n",
       "      <td>1.0</td>\n",
       "      <td>3106.0</td>\n",
       "      <td>3119.0</td>\n",
       "      <td>0.01871</td>\n",
       "    </tr>\n",
       "  </tbody>\n",
       "</table>\n",
       "<p>5 rows × 56 columns</p>\n",
       "</div>"
      ],
      "text/plain": [
       "  Mouse ID    Session ID  Trial  Block Trial  Block Reward  Port Streak  \\\n",
       "0      Q43  03202017_Q43   11.0         11.0           7.0          6.0   \n",
       "1      Q43  03202017_Q43   12.0         12.0           8.0          7.0   \n",
       "2      Q43  03202017_Q43   13.0         13.0           9.0          8.0   \n",
       "3      Q43  03202017_Q43   14.0         14.0          10.0          9.0   \n",
       "4      Q43  03202017_Q43   15.0         15.0          11.0         10.0   \n",
       "\n",
       "   Reward Streak  10_Port  10_Reward  10_ITI   ...     1_trialDuration  0_ITI  \\\n",
       "0            6.0      0.0        0.0  22.129   ...               0.324  2.543   \n",
       "1            7.0      1.0        1.0   1.949   ...               0.318  2.195   \n",
       "2            8.0      1.0        0.0   1.377   ...               0.345  2.067   \n",
       "3            9.0      0.0        0.0   1.438   ...               0.299  2.486   \n",
       "4           10.0      1.0        1.0   2.381   ...               0.332  2.234   \n",
       "\n",
       "   0_trialDuration  Decision  Switch  Higher p port  Reward  center_frame  \\\n",
       "0            0.318       1.0     0.0            1.0     1.0        2798.0   \n",
       "1            0.345       1.0     0.0            1.0     1.0        2873.0   \n",
       "2            0.299       1.0     0.0            1.0     1.0        2946.0   \n",
       "3            0.332       1.0     0.0            1.0     1.0        3029.0   \n",
       "4            0.416       1.0     0.0            1.0     1.0        3106.0   \n",
       "\n",
       "   decision_frame   Belief  \n",
       "0          2808.0  0.01871  \n",
       "1          2884.0  0.01871  \n",
       "2          2955.0  0.01871  \n",
       "3          3040.0  0.01871  \n",
       "4          3119.0  0.01871  \n",
       "\n",
       "[5 rows x 56 columns]"
      ]
     },
     "execution_count": 71,
     "metadata": {},
     "output_type": "execute_result"
    }
   ],
   "source": [
    "feature_matrix.head(5) # look at updated version of feature matrix"
   ]
  },
  {
   "cell_type": "code",
   "execution_count": 72,
   "metadata": {},
   "outputs": [
    {
     "data": {
      "text/html": [
       "<div>\n",
       "<style>\n",
       "    .dataframe thead tr:only-child th {\n",
       "        text-align: right;\n",
       "    }\n",
       "\n",
       "    .dataframe thead th {\n",
       "        text-align: left;\n",
       "    }\n",
       "\n",
       "    .dataframe tbody tr th {\n",
       "        vertical-align: top;\n",
       "    }\n",
       "</style>\n",
       "<table border=\"1\" class=\"dataframe\">\n",
       "  <thead>\n",
       "    <tr style=\"text-align: right;\">\n",
       "      <th></th>\n",
       "      <th>10_Port</th>\n",
       "      <th>10_ITI</th>\n",
       "      <th>10_trialDuration</th>\n",
       "      <th>Belief</th>\n",
       "    </tr>\n",
       "  </thead>\n",
       "  <tbody>\n",
       "    <tr>\n",
       "      <th>0</th>\n",
       "      <td>0.0</td>\n",
       "      <td>22.129</td>\n",
       "      <td>0.621</td>\n",
       "      <td>0.01871</td>\n",
       "    </tr>\n",
       "    <tr>\n",
       "      <th>1</th>\n",
       "      <td>1.0</td>\n",
       "      <td>1.949</td>\n",
       "      <td>0.522</td>\n",
       "      <td>0.01871</td>\n",
       "    </tr>\n",
       "    <tr>\n",
       "      <th>2</th>\n",
       "      <td>1.0</td>\n",
       "      <td>1.377</td>\n",
       "      <td>0.380</td>\n",
       "      <td>0.01871</td>\n",
       "    </tr>\n",
       "    <tr>\n",
       "      <th>3</th>\n",
       "      <td>0.0</td>\n",
       "      <td>1.438</td>\n",
       "      <td>0.378</td>\n",
       "      <td>0.01871</td>\n",
       "    </tr>\n",
       "    <tr>\n",
       "      <th>4</th>\n",
       "      <td>1.0</td>\n",
       "      <td>2.381</td>\n",
       "      <td>0.491</td>\n",
       "      <td>0.01871</td>\n",
       "    </tr>\n",
       "  </tbody>\n",
       "</table>\n",
       "</div>"
      ],
      "text/plain": [
       "   10_Port  10_ITI  10_trialDuration   Belief\n",
       "0      0.0  22.129             0.621  0.01871\n",
       "1      1.0   1.949             0.522  0.01871\n",
       "2      1.0   1.377             0.380  0.01871\n",
       "3      0.0   1.438             0.378  0.01871\n",
       "4      1.0   2.381             0.491  0.01871"
      ]
     },
     "execution_count": 72,
     "metadata": {},
     "output_type": "execute_result"
    }
   ],
   "source": [
    "feature_matrix[['10_Port','10_ITI','10_trialDuration', 'Belief']].head(5) # look at only a few columns"
   ]
  },
  {
   "cell_type": "code",
   "execution_count": 69,
   "metadata": {},
   "outputs": [
    {
     "data": {
      "text/html": [
       "<div>\n",
       "<style>\n",
       "    .dataframe thead tr:only-child th {\n",
       "        text-align: right;\n",
       "    }\n",
       "\n",
       "    .dataframe thead th {\n",
       "        text-align: left;\n",
       "    }\n",
       "\n",
       "    .dataframe tbody tr th {\n",
       "        vertical-align: top;\n",
       "    }\n",
       "</style>\n",
       "<table border=\"1\" class=\"dataframe\">\n",
       "  <thead>\n",
       "    <tr style=\"text-align: right;\">\n",
       "      <th></th>\n",
       "      <th>Mouse ID</th>\n",
       "      <th>Session ID</th>\n",
       "      <th>Trial</th>\n",
       "      <th>Block Trial</th>\n",
       "      <th>Block Reward</th>\n",
       "      <th>Port Streak</th>\n",
       "      <th>Reward Streak</th>\n",
       "      <th>10_Port</th>\n",
       "      <th>10_Reward</th>\n",
       "      <th>10_ITI</th>\n",
       "      <th>...</th>\n",
       "      <th>1_trialDuration</th>\n",
       "      <th>0_ITI</th>\n",
       "      <th>0_trialDuration</th>\n",
       "      <th>Decision</th>\n",
       "      <th>Switch</th>\n",
       "      <th>Higher p port</th>\n",
       "      <th>Reward</th>\n",
       "      <th>center_frame</th>\n",
       "      <th>decision_frame</th>\n",
       "      <th>Belief</th>\n",
       "    </tr>\n",
       "  </thead>\n",
       "  <tbody>\n",
       "    <tr>\n",
       "      <th>55</th>\n",
       "      <td>Q43</td>\n",
       "      <td>03202017_Q43</td>\n",
       "      <td>66.0</td>\n",
       "      <td>2.0</td>\n",
       "      <td>0.0</td>\n",
       "      <td>61.0</td>\n",
       "      <td>-2.0</td>\n",
       "      <td>1.0</td>\n",
       "      <td>1.0</td>\n",
       "      <td>2.458</td>\n",
       "      <td>...</td>\n",
       "      <td>0.383</td>\n",
       "      <td>1.404</td>\n",
       "      <td>0.371</td>\n",
       "      <td>0.0</td>\n",
       "      <td>1.0</td>\n",
       "      <td>1.0</td>\n",
       "      <td>0.0</td>\n",
       "      <td>8175.0</td>\n",
       "      <td>8186.0</td>\n",
       "      <td>0.813494</td>\n",
       "    </tr>\n",
       "    <tr>\n",
       "      <th>130</th>\n",
       "      <td>Q43</td>\n",
       "      <td>03202017_Q43</td>\n",
       "      <td>141.0</td>\n",
       "      <td>13.0</td>\n",
       "      <td>5.0</td>\n",
       "      <td>75.0</td>\n",
       "      <td>-5.0</td>\n",
       "      <td>0.0</td>\n",
       "      <td>1.0</td>\n",
       "      <td>1.388</td>\n",
       "      <td>...</td>\n",
       "      <td>0.349</td>\n",
       "      <td>1.957</td>\n",
       "      <td>0.546</td>\n",
       "      <td>1.0</td>\n",
       "      <td>1.0</td>\n",
       "      <td>1.0</td>\n",
       "      <td>1.0</td>\n",
       "      <td>14186.0</td>\n",
       "      <td>14203.0</td>\n",
       "      <td>0.019104</td>\n",
       "    </tr>\n",
       "    <tr>\n",
       "      <th>161</th>\n",
       "      <td>Q43</td>\n",
       "      <td>03202017_Q43</td>\n",
       "      <td>172.0</td>\n",
       "      <td>44.0</td>\n",
       "      <td>28.0</td>\n",
       "      <td>31.0</td>\n",
       "      <td>-2.0</td>\n",
       "      <td>1.0</td>\n",
       "      <td>1.0</td>\n",
       "      <td>1.947</td>\n",
       "      <td>...</td>\n",
       "      <td>0.696</td>\n",
       "      <td>2.520</td>\n",
       "      <td>0.381</td>\n",
       "      <td>0.0</td>\n",
       "      <td>1.0</td>\n",
       "      <td>0.0</td>\n",
       "      <td>0.0</td>\n",
       "      <td>18270.0</td>\n",
       "      <td>18281.0</td>\n",
       "      <td>0.624302</td>\n",
       "    </tr>\n",
       "    <tr>\n",
       "      <th>162</th>\n",
       "      <td>Q43</td>\n",
       "      <td>03202017_Q43</td>\n",
       "      <td>173.0</td>\n",
       "      <td>45.0</td>\n",
       "      <td>28.0</td>\n",
       "      <td>1.0</td>\n",
       "      <td>-3.0</td>\n",
       "      <td>1.0</td>\n",
       "      <td>1.0</td>\n",
       "      <td>2.026</td>\n",
       "      <td>...</td>\n",
       "      <td>0.381</td>\n",
       "      <td>2.088</td>\n",
       "      <td>0.528</td>\n",
       "      <td>1.0</td>\n",
       "      <td>1.0</td>\n",
       "      <td>1.0</td>\n",
       "      <td>1.0</td>\n",
       "      <td>18344.0</td>\n",
       "      <td>18360.0</td>\n",
       "      <td>0.167412</td>\n",
       "    </tr>\n",
       "    <tr>\n",
       "      <th>192</th>\n",
       "      <td>Q43</td>\n",
       "      <td>03202017_Q43</td>\n",
       "      <td>203.0</td>\n",
       "      <td>1.0</td>\n",
       "      <td>0.0</td>\n",
       "      <td>30.0</td>\n",
       "      <td>-1.0</td>\n",
       "      <td>1.0</td>\n",
       "      <td>1.0</td>\n",
       "      <td>1.740</td>\n",
       "      <td>...</td>\n",
       "      <td>0.494</td>\n",
       "      <td>1.635</td>\n",
       "      <td>0.400</td>\n",
       "      <td>0.0</td>\n",
       "      <td>1.0</td>\n",
       "      <td>1.0</td>\n",
       "      <td>1.0</td>\n",
       "      <td>20458.0</td>\n",
       "      <td>20470.0</td>\n",
       "      <td>0.342170</td>\n",
       "    </tr>\n",
       "  </tbody>\n",
       "</table>\n",
       "<p>5 rows × 56 columns</p>\n",
       "</div>"
      ],
      "text/plain": [
       "    Mouse ID    Session ID  Trial  Block Trial  Block Reward  Port Streak  \\\n",
       "55       Q43  03202017_Q43   66.0          2.0           0.0         61.0   \n",
       "130      Q43  03202017_Q43  141.0         13.0           5.0         75.0   \n",
       "161      Q43  03202017_Q43  172.0         44.0          28.0         31.0   \n",
       "162      Q43  03202017_Q43  173.0         45.0          28.0          1.0   \n",
       "192      Q43  03202017_Q43  203.0          1.0           0.0         30.0   \n",
       "\n",
       "     Reward Streak  10_Port  10_Reward  10_ITI    ...     1_trialDuration  \\\n",
       "55            -2.0      1.0        1.0   2.458    ...               0.383   \n",
       "130           -5.0      0.0        1.0   1.388    ...               0.349   \n",
       "161           -2.0      1.0        1.0   1.947    ...               0.696   \n",
       "162           -3.0      1.0        1.0   2.026    ...               0.381   \n",
       "192           -1.0      1.0        1.0   1.740    ...               0.494   \n",
       "\n",
       "     0_ITI  0_trialDuration  Decision  Switch  Higher p port  Reward  \\\n",
       "55   1.404            0.371       0.0     1.0            1.0     0.0   \n",
       "130  1.957            0.546       1.0     1.0            1.0     1.0   \n",
       "161  2.520            0.381       0.0     1.0            0.0     0.0   \n",
       "162  2.088            0.528       1.0     1.0            1.0     1.0   \n",
       "192  1.635            0.400       0.0     1.0            1.0     1.0   \n",
       "\n",
       "     center_frame  decision_frame    Belief  \n",
       "55         8175.0          8186.0  0.813494  \n",
       "130       14186.0         14203.0  0.019104  \n",
       "161       18270.0         18281.0  0.624302  \n",
       "162       18344.0         18360.0  0.167412  \n",
       "192       20458.0         20470.0  0.342170  \n",
       "\n",
       "[5 rows x 56 columns]"
      ]
     },
     "execution_count": 69,
     "metadata": {},
     "output_type": "execute_result"
    }
   ],
   "source": [
    "feature_matrix[feature_matrix['Switch']==1].head(5) # get rows from feature matrix where the most current trial was a switch"
   ]
  },
  {
   "cell_type": "code",
   "execution_count": 45,
   "metadata": {},
   "outputs": [
    {
     "data": {
      "text/plain": [
       "8.5116470588235273"
      ]
     },
     "execution_count": 45,
     "metadata": {},
     "output_type": "execute_result"
    }
   ],
   "source": [
    "feature_matrix[feature_matrix['Switch']==1]['0_ITI'].values.mean() # of these values, take the mean of the current ITI"
   ]
  },
  {
   "cell_type": "code",
   "execution_count": 70,
   "metadata": {},
   "outputs": [
    {
     "data": {
      "text/plain": [
       "[<matplotlib.lines.Line2D at 0x113704470>]"
      ]
     },
     "execution_count": 70,
     "metadata": {},
     "output_type": "execute_result"
    },
    {
     "data": {
      "image/png": "[encoded data removed]",
      "text/plain": [
       "<matplotlib.figure.Figure at 0x123020b70>"
      ]
     },
     "metadata": {},
     "output_type": "display_data"
    }
   ],
   "source": [
    "plt.plot(trial_df['Belief']) # plot the value of belief in blue across all trials (using prediction with full history)\n",
    "plt.plot(trial_df['Right Reward Prob'])\n",
    "\n",
    "#plt.plot(feature_matrix[feature_matrix['Reward']==1]['Trial'], feature_matrix[feature_matrix['Reward']==1]['Belief'], alpha=0.5) # using only 10 deep for history\n",
    "#plt.scatter(feature_matrix[feature_matrix['Reward']==1]['Trial'],temp[:,1,0], alpha=0.3)\n",
    "\n",
    "\n",
    "#plt.scatter(temp[:,0,0], feature_matrix[feature_matrix['Reward']==1]['Belief'])\n",
    "#temp = aligned_start.sum(axis=1)\n"
   ]
  },
  {
   "cell_type": "code",
   "execution_count": 47,
   "metadata": {},
   "outputs": [
    {
     "data": {
      "text/plain": [
       "<matplotlib.collections.PathCollection at 0x123662630>"
      ]
     },
     "execution_count": 47,
     "metadata": {},
     "output_type": "execute_result"
    },
    {
     "data": {
      "image/png": "[encoded data removed]",
      "text/plain": [
       "<matplotlib.figure.Figure at 0x112e55e80>"
      ]
     },
     "metadata": {},
     "output_type": "display_data"
    }
   ],
   "source": [
    "plt.scatter(feature_matrix[feature_matrix['Decision']==1]['Port Streak'],\n",
    "            feature_matrix[feature_matrix['Decision']==1]['Belief'])"
   ]
  },
  {
   "cell_type": "markdown",
   "metadata": {},
   "source": [
    "## function to get frames based on one to three conditions\n",
    "    First define function so it can take multiple conditions:\n",
    "    Input variables:\n",
    "        df = feature matrix\n",
    "        cond(n)_name = string containing column name (i.e. Reward, Switch) \n",
    "        cond(n) = desired identity (0,1)\n",
    "        \n",
    "    Output variables:\n",
    "        frames = (num_Trials x 2) matrix containing frame # for center poke and decision poke for each trial\n"
   ]
  },
  {
   "cell_type": "code",
   "execution_count": 48,
   "metadata": {
    "collapsed": true
   },
   "outputs": [],
   "source": [
    "def extract_frames(df, cond1_name, cond1=False, cond2_name=False,cond2=False, cond3_name=False,\n",
    "                   cond3=False, cond1_ops= '=', cond2_ops = '=', cond3_ops = '='):\n",
    "    \n",
    "    import operator\n",
    "    \n",
    "    # set up operator dictionary\n",
    "    ops = {'>': operator.gt,\n",
    "       '<': operator.lt,\n",
    "       '>=': operator.ge,\n",
    "       '<=': operator.le,\n",
    "       '=': operator.eq}\n",
    "    \n",
    "    if type(cond3_name)==str:\n",
    "        frames_c = (df[((ops[cond1_ops](df[cond1_name],cond1)) \n",
    "                    & (ops[cond2_ops](df[cond2_name], cond2))\n",
    "                    & (ops[cond3_ops](df[cond3_name],cond3)))]['center_frame'])\n",
    "        frames_d = (df[((ops[cond1_ops](df[cond1_name],cond1)) \n",
    "                    & (ops[cond2_ops](df[cond2_name], cond2))\n",
    "                    & (ops[cond3_ops](df[cond3_name],cond3)))]['decision_frame'])\n",
    "        frames = np.column_stack((frames_c, frames_d))\n",
    "        return frames\n",
    "    \n",
    "    elif type(cond2_name)==str:\n",
    "        frames_c = (df[((df[cond1_name] == cond1) \n",
    "                    & (df[cond2_name] == cond2))]['center_frame'])\n",
    "        frames_d = (df[((df[cond1_name] == cond1) \n",
    "                    & (df[cond2_name] == cond2))]['decision_frame'])\n",
    "        frames = np.column_stack((frames_c, frames_d))\n",
    "        return frames\n",
    "    \n",
    "    else:\n",
    "        frames_c =(df[(df[cond1_name] == cond1)]['center_frame'])\n",
    "        frames_d =(df[(df[cond1_name] == cond1)]['decision_frame'])\n",
    "        frames = np.column_stack((frames_c, frames_d))\n",
    "        return frames"
   ]
  },
  {
   "cell_type": "markdown",
   "metadata": {},
   "source": [
    "### Set the parameters to input into extract_frames function\n",
    "    The notebook is set to automatically run for both conditions of each condition called.\n",
    "    Setting n_variables to a value between 1 and 3 will run the corresponding number of conditions through the rest of the script.\n",
    "    (This may be confusing because here you can always define up to 3 condition identities, but if n_variables is set to a value less than 3, only the first conditions will be included)"
   ]
  },
  {
   "cell_type": "code",
   "execution_count": 49,
   "metadata": {
    "collapsed": true
   },
   "outputs": [],
   "source": [
    "\"\"\"\n",
    "Decision: 0=Right, 1=Left\n",
    "Reward: 0=unrewarded, 1=rewarded\n",
    "Switch: 0=last trial at same port, 1=last trial at different port-->switched\n",
    "Belief: 0-1 value where 0 represents right port and 1 represents left port\n",
    "\"\"\"\n",
    "\n",
    "cond1_name = 'Switch'\n",
    "cond1_a = 0\n",
    "cond1_b = 1\n",
    "cond1_ops = '='\n",
    "cond2_name = 'Decision'\n",
    "cond2_a = 0\n",
    "cond2_b = 1\n",
    "cond3_name = 'Reward'\n",
    "cond3_a = 0\n",
    "cond3_b = 1\n",
    "\n",
    "conditions = [cond1_name, cond2_name, cond3_name]\n",
    "n_variables = 2\n",
    "extension = 30\n",
    "\n",
    "cond1_ops_b='='\n",
    "if cond1_ops != '=':\n",
    "    if cond1_ops == '>':\n",
    "        cond1_ops_b = '<='\n",
    "        print(cond1_ops_b)\n",
    "    elif cond1_ops == '>=':\n",
    "        cond1_ops_b = '<'\n",
    "        print(cond1_ops_b)"
   ]
  },
  {
   "cell_type": "markdown",
   "metadata": {},
   "source": [
    "### Extract the frames for the specified conditions and create arrays containing frames for beginning and end of window of interest\n",
    "\n",
    "    Set the value of 'extension' to the # of frames added before the center poke and after the decision poke\n",
    "    fr_1x2x3x = center poke, decision poke frame #s for all trials with the corresponding conditions.\n",
    "\n",
    "    At the moment this is not set up in the most efficient way...the extract_frames function operates by calling all 3 variables (i.e. Switch, Reward) across both conditions (a=0, b=1) to generate the maximum number of combinations (8 for 3 variables). If the number of variables is less than 3, it will later use the 'groupings_x' variables to concatenate these arrays into the appropriate final arrays (for example, to go from 3 variables to 2, all beginning with 1a2a get combined)"
   ]
  },
  {
   "cell_type": "code",
   "execution_count": 50,
   "metadata": {
    "collapsed": true
   },
   "outputs": [],
   "source": [
    "# center frames in first column, decision frames in second\n",
    "fr_1a2a3a = extract_frames(feature_matrix, cond1_name, cond1_a, \n",
    "                           cond2_name, cond2_a, cond3_name, cond3_a, cond1_ops=cond1_ops)\n",
    "\n",
    "fr_1b2a3a = extract_frames(feature_matrix, cond1_name, cond1_b, \n",
    "                           cond2_name, cond2_a, cond3_name, cond3_a, cond1_ops=cond1_ops_b)\n",
    "\n",
    "fr_1a2b3a = extract_frames(feature_matrix, cond1_name, cond1_a, \n",
    "                           cond2_name, cond2_b, cond3_name, cond3_a, cond1_ops=cond1_ops)\n",
    "\n",
    "fr_1b2b3a = extract_frames(feature_matrix, cond1_name, cond1_b, \n",
    "                           cond2_name, cond2_b, cond3_name, cond3_a, cond1_ops=cond1_ops_b)\n",
    "\n",
    "fr_1a2b3b = extract_frames(feature_matrix, cond1_name, cond1_a, \n",
    "                           cond2_name, cond2_b, cond3_name, cond3_b, cond1_ops=cond1_ops)\n",
    "\n",
    "fr_1a2a3b = extract_frames(feature_matrix, cond1_name, cond1_a, \n",
    "                           cond2_name, cond2_a, cond3_name, cond3_b, cond1_ops=cond1_ops)\n",
    "\n",
    "fr_1b2a3b = extract_frames(feature_matrix, cond1_name, cond1_b, \n",
    "                           cond2_name, cond2_a, cond3_name, cond3_b, cond1_ops=cond1_ops_b)\n",
    "\n",
    "fr_1b2b3b = extract_frames(feature_matrix, cond1_name, cond1_b, \n",
    "                           cond2_name, cond2_b, cond3_name, cond3_b, cond1_ops=cond1_ops_b)\n",
    "\n",
    "var_keys = '1a2a3a', '1b2a3a', '1a2b3a', '1b2b3a', '1a2b3b', '1a2a3b', '1b2a3b', '1b2b3b'\n",
    "groupings_2 = np.stack(((0,5), (1,6), (2,4), (3,7)))\n",
    "groupings_1 = np.stack(((0,2,4,5), (1,3,6,7)))\n",
    "\n",
    "#start_stop_frames = {var_keys[0]:fr_1a2a3a, var_keys[1]:fr_1b2a3a, var_keys[2]:fr_1a2b3a, var_keys[3]:fr_1b2b3a, \n",
    "#          var_keys[4]:fr_1a2b3b, var_keys[5]:fr_1a2a3b, var_keys[6]:fr_1b2a3b, var_keys[7]:fr_1b2b3b}\n"
   ]
  },
  {
   "cell_type": "markdown",
   "metadata": {},
   "source": [
    "### Create a dictionary referencing every array of start/stop frames\n",
    "    Start-stop_frames = frame starting however long the extension value was before the center poke frame, and frame that long after the decision poke\n",
    "    Dictionary is designed to construct each array based on the number of variables (conditions) specified in the beginning...this is where the groupings variables are used to condense arrays for fewer conditions."
   ]
  },
  {
   "cell_type": "code",
   "execution_count": 51,
   "metadata": {},
   "outputs": [
    {
     "data": {
      "text/plain": [
       "dict_keys(['1a2a', '1b2a', '1a2b', '1b2b'])"
      ]
     },
     "execution_count": 51,
     "metadata": {},
     "output_type": "execute_result"
    }
   ],
   "source": [
    "n_combos = 2**n_variables\n",
    "\n",
    "for i in range(n_combos):\n",
    "    if n_variables == 3:\n",
    "        if i == 0:\n",
    "            start_stop_frames = {var_keys[i]:eval('fr_%s' %var_keys[i])}\n",
    "        if i > 0:\n",
    "            start_stop_frames.update({var_keys[i]:eval('fr_%s' %var_keys[i])})\n",
    "    if n_variables == 2:\n",
    "        if i == 0:\n",
    "            start_stop_frames = {var_keys[i][0:4]: np.transpose(np.column_stack((\n",
    "                        np.transpose(eval('fr_%s' % var_keys[groupings_2[i][0]])),\n",
    "                        np.transpose(eval('fr_%s' % var_keys[groupings_2[i][1]])))))}\n",
    "        if i > 0:\n",
    "            start_stop_frames.update({var_keys[i][0:4]: np.transpose(np.column_stack((\n",
    "                        np.transpose(eval('fr_%s' % var_keys[groupings_2[i][0]])),\n",
    "                        np.transpose(eval('fr_%s' % var_keys[groupings_2[i][1]])))))})\n",
    "            if i == np.max(n_combos)-1:\n",
    "                var_keys = list(start_stop_frames.keys())  \n",
    "\n",
    "    if n_variables == 1:\n",
    "        if i == 0:\n",
    "            start_stop_frames = {var_keys[i][0:2]: np.transpose(np.column_stack((\n",
    "                        np.transpose(eval('fr_%s' % var_keys[groupings_1[i][0]])),\n",
    "                        np.transpose(eval('fr_%s' % var_keys[groupings_1[i][1]])),\n",
    "                        np.transpose(eval('fr_%s' % var_keys[groupings_1[i][2]])),\n",
    "                        np.transpose(eval('fr_%s' % var_keys[groupings_1[i][3]])))))}\n",
    "        if i > 0:\n",
    "            start_stop_frames.update({var_keys[i][0:2]: np.transpose(np.column_stack((\n",
    "                        np.transpose(eval('fr_%s' % var_keys[groupings_1[i][0]])),\n",
    "                        np.transpose(eval('fr_%s' % var_keys[groupings_1[i][1]])),\n",
    "                        np.transpose(eval('fr_%s' % var_keys[groupings_1[i][2]])),\n",
    "                        np.transpose(eval('fr_%s' % var_keys[groupings_1[i][3]])))))})\n",
    "            if i == np.max(n_combos)-1:\n",
    "                var_keys = list(start_stop_frames.keys())            \n",
    "\n",
    "                \n",
    "#if n_variables == 2:\n",
    "#    var_keys = list(start_stop_frames.keys())     \n",
    "        \n",
    "start_stop_frames.keys()"
   ]
  },
  {
   "cell_type": "code",
   "execution_count": 52,
   "metadata": {
    "collapsed": true
   },
   "outputs": [],
   "source": [
    "for i in start_stop_frames:\n",
    "    start_stop_frames[i][:,0] = start_stop_frames[i][:,0] - extension\n",
    "    start_stop_frames[i][:,1] = start_stop_frames[i][:,1] + extension"
   ]
  },
  {
   "cell_type": "markdown",
   "metadata": {},
   "source": [
    "### Set up some other parameters to be used in the rest of the script\n",
    "    detectEvents() returns binary matrix of 0s and 1s representing frames where events occurred. Replace raw trace file with this processed file and apply a Gaussian filter over events.\n",
    "    \n",
    "    --nNeurons = number of neurons output by CNMF-e\n",
    "        Redefined as number of neurons after some initial processing:\n",
    "\n",
    "    Working on a function to combine the above with previous execution of this script on the raw trace file using a flag for 'events'. Once that's complete, will need to add back in NaN cleansing (this is already incorporated into the detectEvents() function). The following arrays will then be used.\n",
    "    \n",
    "    --nan_neurons = any neurons containing NaNs in their calcium traces\n",
    "    --good_neurons = neurons not containing NaNs -- used to redefine nNeurons"
   ]
  },
  {
   "cell_type": "code",
   "execution_count": 53,
   "metadata": {
    "collapsed": true
   },
   "outputs": [],
   "source": [
    "events = cc.detectEvents(ca_data_path)\n",
    "\n",
    "neuron.C_raw = np.copy(events)\n",
    "nNeurons = neuron.C_raw.shape[0]\n",
    "nFrames = neuron.C_raw.shape[1]\n",
    "\n",
    "#Create Gaussian filter and apply to raw trace\n",
    "sigma = 3;\n",
    "sz = 10; # total width \n",
    "\n",
    "x = np.linspace(-sz / 2, sz / 2, sz);\n",
    "gaussFilter = np.exp(-x**2 / (2*sigma**2));\n",
    "gaussFilter = gaussFilter / np.sum(gaussFilter);\n",
    "\n",
    "smoothed = np.zeros((nNeurons, neuron.C_raw.shape[1]+sz-1));\n",
    "\n",
    "for i in range(0, nNeurons):\n",
    "    smoothed[i,:] = np.convolve(neuron.C_raw[i,:], gaussFilter);\n",
    "    \n",
    "neuron.C_raw = smoothed[:,0:nFrames]"
   ]
  },
  {
   "cell_type": "code",
   "execution_count": 54,
   "metadata": {},
   "outputs": [
    {
     "data": {
      "text/plain": [
       "[<matplotlib.lines.Line2D at 0x10d431390>]"
      ]
     },
     "execution_count": 54,
     "metadata": {},
     "output_type": "execute_result"
    },
    {
     "data": {
      "image/png": "[encoded data removed]",
      "text/plain": [
       "<matplotlib.figure.Figure at 0x10d431fd0>"
      ]
     },
     "metadata": {},
     "output_type": "display_data"
    }
   ],
   "source": [
    "# This is just used to visualize the effect of the Gaussian filter on each event\n",
    "plt.plot(neuron.C_raw[0,:])\n",
    "plt.plot(events[0,:])"
   ]
  },
  {
   "cell_type": "markdown",
   "metadata": {},
   "source": [
    "### Calculate the number of frames required to span the longest trial in all conditions, and use this for all trials\n",
    "    --nTrials = list of number of trials in each condition (length = n_combos)\n",
    "\n",
    "    --max_window = find window length (number of frames) required to capture center poke to decision poke for all trials (with extensions) and then just take maximum length trial across all conditions)"
   ]
  },
  {
   "cell_type": "code",
   "execution_count": 55,
   "metadata": {
    "collapsed": true
   },
   "outputs": [],
   "source": [
    "nTrials = [start_stop_frames[var_keys[i]].shape[0] for i in range(n_combos)]\n",
    "max_window = np.zeros(n_combos) \n",
    "window_length= np.zeros((np.max(nTrials), n_combos))\n",
    "\n",
    "    \n",
    "for i in range(n_combos):\n",
    "    for iTrial in range(nTrials[i]):\n",
    "        window_length[iTrial, i] = int(((start_stop_frames[var_keys[i]][iTrial][1]-\n",
    "                                 start_stop_frames[var_keys[i]][iTrial][0])))\n",
    "    max_window[i] = np.max(window_length)\n",
    "    \n",
    "max_window = int(max_window.max())"
   ]
  },
  {
   "cell_type": "code",
   "execution_count": 56,
   "metadata": {
    "collapsed": true
   },
   "outputs": [],
   "source": [
    "med_trial_length = [np.median(window_length[0:nTrials[i],:]) for i in range(n_combos)]\n",
    "med_trial_length = np.median(med_trial_length) - 2*extension"
   ]
  },
  {
   "cell_type": "markdown",
   "metadata": {},
   "source": [
    "### Aligned to center poke\n",
    "    Pull out segements of calcium traces in designated window of frames. Calculate mean fluorescence for each neuron across all trials. \n",
    "    -- aligned_start = (number of trials x number frames x number of neurons x number of combinations)\n",
    "    -- mean_center_poke = mean fluorescence (or mean number of events) for each neuron across all trials aligned to center poke\n",
    "    \n",
    "    If using raw traces, will add back in normalization here.\n"
   ]
  },
  {
   "cell_type": "code",
   "execution_count": 57,
   "metadata": {},
   "outputs": [
    {
     "name": "stdout",
     "output_type": "stream",
     "text": [
      "43027\n"
     ]
    },
    {
     "data": {
      "text/plain": [
       "43113.0"
      ]
     },
     "execution_count": 57,
     "metadata": {},
     "output_type": "execute_result"
    }
   ],
   "source": [
    "print(int(start_stop_frames[var_keys[i]][iTrial][0]))\n",
    "start_stop_frames[var_keys[i]][iTrial][0]+max_window\n"
   ]
  },
  {
   "cell_type": "code",
   "execution_count": 58,
   "metadata": {
    "collapsed": true
   },
   "outputs": [],
   "source": [
    "aligned_start = np.zeros((np.max(nTrials), max_window, nNeurons, n_combos))\n",
    "mean_center_poke = np.zeros((max_window, nNeurons, n_combos))\n",
    "during_trial = np.zeros_like((aligned_start))\n",
    "\n",
    "for i in range(n_combos):\n",
    "\n",
    "    # create array containing segment of raw trace for each neuron for each trial \n",
    "    # aligned to center poke\n",
    "    for iNeuron in range(nNeurons): # for each neuron\n",
    "        for iTrial in range(0,nTrials[i]): # and for each trial\n",
    "            aligned_start[iTrial,:, iNeuron, i] = neuron.C_raw[iNeuron,\n",
    "                int(start_stop_frames[var_keys[i]][iTrial][0]):\n",
    "                (int(start_stop_frames[var_keys[i]][iTrial][0])+max_window)]\n",
    "            during_trial[iTrial,0:int(window_length[iTrial,i]-extension),iNeuron,i] = neuron.C_raw[iNeuron,\n",
    "                int(start_stop_frames[var_keys[i]][iTrial][0]+extension):\n",
    "                (int(start_stop_frames[var_keys[i]][iTrial][0] +window_length[iTrial,i]))]\n",
    "  \n",
    "    # take mean of fluorescent traces across all trials for each neuron, then normalize\n",
    "    # for each neuron\n",
    "    mean_center_poke[:,:,i]= np.mean(aligned_start[0:nTrials[i],:,:,i], axis=0)\n"
   ]
  },
  {
   "cell_type": "code",
   "execution_count": 59,
   "metadata": {
    "collapsed": true
   },
   "outputs": [],
   "source": [
    "pre_trial = aligned_start[:, int(extension-med_trial_length):extension, :, :].sum(axis=1)\n",
    "during_trial = during_trial.sum(axis=1)"
   ]
  },
  {
   "cell_type": "code",
   "execution_count": 60,
   "metadata": {},
   "outputs": [
    {
     "data": {
      "text/plain": [
       "(array([ 46.,  38.,  22.,   6.,   3.,   2.,   4.,   0.,   3.,   3.]),\n",
       " array([ 0.      ,  0.221875,  0.44375 ,  0.665625,  0.8875  ,  1.109375,\n",
       "         1.33125 ,  1.553125,  1.775   ,  1.996875,  2.21875 ]),\n",
       " <a list of 10 Patch objects>)"
      ]
     },
     "execution_count": 60,
     "metadata": {},
     "output_type": "execute_result"
    },
    {
     "data": {
      "image/png": "[encoded data removed]",
      "text/plain": [
       "<matplotlib.figure.Figure at 0x11324e4a8>"
      ]
     },
     "metadata": {},
     "output_type": "display_data"
    }
   ],
   "source": [
    "plt.hist(neuron.C_raw.sum(axis=1)/32)"
   ]
  },
  {
   "cell_type": "markdown",
   "metadata": {},
   "source": [
    "### Plot heatmap of average events per trial (intensity) for each neuron (y) over time (x)\n",
    "### Aligned to center poke"
   ]
  },
  {
   "cell_type": "code",
   "execution_count": 61,
   "metadata": {},
   "outputs": [
    {
     "data": {
      "image/png": "[encoded data removed]",
      "text/plain": [
       "<matplotlib.figure.Figure at 0x1136f9da0>"
      ]
     },
     "metadata": {},
     "output_type": "display_data"
    }
   ],
   "source": [
    "ydim = n_combos/2\n",
    "plt.figure(figsize=(8,ydim*4))\n",
    "for i in range(n_combos):\n",
    "\n",
    "    plt.subplot(ydim,2,i+1)  \n",
    "    plt.imshow(np.transpose(mean_center_poke[:,:,i]))#, plt.colorbar()\n",
    "    plt.axvline(x=extension, color='k', linestyle = '--', linewidth=.9)\n",
    "    plt.axis('tight')\n",
    "    plt.xlabel('Frame (center poke at %s)' % extension)\n",
    "    plt.ylabel('Neuron ID')\n",
    "    if n_variables == 3:\n",
    "        plt.title(\"%s = %s\\n %s = %s\\n%s = %s\\nNum trials = %.0f\" \n",
    "                  %(conditions[int(var_keys[i][0])-1], var_keys[i][1],\n",
    "                    conditions[int(var_keys[i][2])-1], var_keys[i][3], \n",
    "                    conditions[int(var_keys[i][4])-1],\n",
    "                    var_keys[i][5], nTrials[i])) \n",
    "    if n_variables == 2:\n",
    "        plt.title(\"%s = %s\\n %s = %s\\nNum trials = %.0f\" \n",
    "                  %(conditions[int(var_keys[i][0])-1], var_keys[i][1],\n",
    "                    conditions[int(var_keys[i][2])-1], var_keys[i][3], nTrials[i]))\n",
    "    if n_variables == 1:\n",
    "        plt.title(\"%s = %s\\nNum trials = %.0f\" \n",
    "                  %(conditions[int(var_keys[i][0])-1], var_keys[i][1], nTrials[i]))\n",
    "plt.tight_layout()"
   ]
  },
  {
   "cell_type": "markdown",
   "metadata": {},
   "source": [
    "### heatmap for calcium traces of a single neuron across all trials\n",
    "    white dashed line for center poke time\n",
    "    white vertical lines for decision poke time -- need something more subtle"
   ]
  },
  {
   "cell_type": "code",
   "execution_count": 62,
   "metadata": {},
   "outputs": [
    {
     "data": {
      "text/plain": [
       "(-0.5, 85.5, 228.5, -0.5)"
      ]
     },
     "execution_count": 62,
     "metadata": {},
     "output_type": "execute_result"
    },
    {
     "data": {
      "image/png": "[encoded data removed]",
      "text/plain": [
       "<matplotlib.figure.Figure at 0x123650be0>"
      ]
     },
     "metadata": {},
     "output_type": "display_data"
    }
   ],
   "source": [
    "sample_neuron = 10\n",
    "\n",
    "#plt.figure(figsize=(10,10))\n",
    "plt.imshow(aligned_start[0:nTrials[0],:,sample_neuron, 0])\n",
    "plt.axvline(x=extension, color='white', linestyle = '--', linewidth=.9)\n",
    "plt.ylabel('Trial Number')\n",
    "plt.xlabel('Frame (center poke at %s)' %extension)\n",
    "#plt.scatter((start_stop_times[var_keys[0][:]])-(start_stop_frames[var_keys[0]])+extension,range(nTrials[0]), color='white', marker = '|', s=10)\n",
    "plt.title('%s = %s\\n%s = %s\\nNeuron ID = %s' % (cond1_name, conditions[0], cond2_name, cond2_a, sample_neuron))\n",
    "plt.axis('tight')\n"
   ]
  },
  {
   "cell_type": "markdown",
   "metadata": {},
   "source": [
    "## aligned to decision poke\n",
    "    Same process as for aligned to center poke"
   ]
  },
  {
   "cell_type": "code",
   "execution_count": 63,
   "metadata": {
    "collapsed": true
   },
   "outputs": [],
   "source": [
    "aligned_decision = np.zeros((np.max(nTrials), max_window, nNeurons, n_combos))\n",
    "mean_decision = np.zeros((max_window, nNeurons, n_combos))\n",
    "\n",
    "for i in range(n_combos):\n",
    "\n",
    "    # create array containing segment of raw trace for each neuron for each trial \n",
    "    # aligned to decision poke\n",
    "    for iNeuron in range(nNeurons):\n",
    "        for iTrial in range(nTrials[i]):\n",
    "            aligned_decision[iTrial,:, iNeuron, i] = neuron.C_raw[iNeuron, \n",
    "                int(start_stop_frames[var_keys[i]][iTrial][1])-max_window:\n",
    "                (int(start_stop_frames[var_keys[i]][iTrial][1]))]\n",
    "\n",
    "    # take mean of fluorescent traces across all trials for each neuron\n",
    "    mean_decision[:,:,i]= np.mean(aligned_decision[0:nTrials[i],:,:,i], axis=0)\n",
    "   "
   ]
  },
  {
   "cell_type": "code",
   "execution_count": 64,
   "metadata": {
    "collapsed": true
   },
   "outputs": [],
   "source": [
    "post_trial = aligned_decision[:, int(max_window-extension):int(max_window-extension + \n",
    "             med_trial_length), :, :].sum(axis=1)"
   ]
  },
  {
   "cell_type": "code",
   "execution_count": 65,
   "metadata": {
    "scrolled": true
   },
   "outputs": [
    {
     "name": "stdout",
     "output_type": "stream",
     "text": [
      "c\n"
     ]
    },
    {
     "data": {
      "image/png": "[encoded data removed]",
      "text/plain": [
       "<matplotlib.figure.Figure at 0x10267e9e8>"
      ]
     },
     "metadata": {},
     "output_type": "display_data"
    }
   ],
   "source": [
    "[plt.scatter(window_length[:,c], during_trial[:,n,c]) for n in range(nNeurons) \n",
    " for c in range(n_combos)]\n",
    "print('c')"
   ]
  },
  {
   "cell_type": "code",
   "execution_count": 66,
   "metadata": {},
   "outputs": [
    {
     "data": {
      "text/plain": [
       "<matplotlib.lines.Line2D at 0x1237262e8>"
      ]
     },
     "execution_count": 66,
     "metadata": {},
     "output_type": "execute_result"
    },
    {
     "data": {
      "image/png": "[encoded data removed]",
      "text/plain": [
       "<matplotlib.figure.Figure at 0x112fea160>"
      ]
     },
     "metadata": {},
     "output_type": "display_data"
    }
   ],
   "source": [
    "temp = mean_decision.sum(axis=1)\n",
    "[plt.plot(np.transpose(temp[:,c])) for c in range(n_combos)]\n",
    "plt.axvline(x=max_window-extension, linestyle='--', color='k', linewidth=.9)\n",
    "plt.axvline(x=max_window-(med_trial_length+extension), linestyle='--', color='k', linewidth=.9)"
   ]
  },
  {
   "cell_type": "markdown",
   "metadata": {},
   "source": [
    "### Plot heatmap aligned to decision poke"
   ]
  },
  {
   "cell_type": "code",
   "execution_count": 67,
   "metadata": {},
   "outputs": [
    {
     "data": {
      "image/png": "[encoded data removed]",
      "text/plain": [
       "<matplotlib.figure.Figure at 0x112fea0b8>"
      ]
     },
     "metadata": {},
     "output_type": "display_data"
    }
   ],
   "source": [
    "plt.figure(figsize=(8,ydim*4))\n",
    "for i in range(n_combos):\n",
    "    plt.subplot(ydim,2,i+1)  \n",
    "    plt.imshow(np.transpose(mean_decision[:,:,i])), plt.colorbar()\n",
    "    plt.axvline(x=max_window-extension, color='k', linestyle = '--', linewidth=.9)\n",
    "    plt.xlabel('Frames (decision poke at %s)' % (max_window-extension))\n",
    "    plt.ylabel('Neuron ID')\n",
    "    plt.axis('tight')\n",
    "    if n_variables == 3:\n",
    "        plt.title(\"%s = %s\\n %s = %s\\n%s = %s\\nNum trials = %.0f\" \n",
    "                  %(conditions[int(var_keys[i][0])-1], var_keys[i][1],\n",
    "                    conditions[int(var_keys[i][2])-1], var_keys[i][3], \n",
    "                    conditions[int(var_keys[i][4])-1],\n",
    "                    var_keys[i][5], nTrials[i])) \n",
    "    if n_variables == 2:\n",
    "        plt.title(\"%s = %s\\n %s = %s\\nNum trials = %.0f\" \n",
    "                  %(conditions[int(var_keys[i][0])-1], var_keys[i][1],\n",
    "                    conditions[int(var_keys[i][2])-1], var_keys[i][3], nTrials[i]))\n",
    "    if n_variables == 1:\n",
    "        plt.title(\"%s = %s\\nNum trials = %.0f\" \n",
    "                  %(conditions[int(var_keys[i][0])-1], var_keys[i][1], nTrials[i]))\n",
    "plt.tight_layout()"
   ]
  }
 ],
 "metadata": {
  "anaconda-cloud": {},
  "kernelspec": {
   "display_name": "Python 3",
   "language": "python",
   "name": "python3"
  },
  "language_info": {
   "codemirror_mode": {
    "name": "ipython",
    "version": 3
   },
   "file_extension": ".py",
   "mimetype": "text/x-python",
   "name": "python",
   "nbconvert_exporter": "python",
   "pygments_lexer": "ipython3",
   "version": "3.6.1"
  }
 },
 "nbformat": 4,
 "nbformat_minor": 1
}
