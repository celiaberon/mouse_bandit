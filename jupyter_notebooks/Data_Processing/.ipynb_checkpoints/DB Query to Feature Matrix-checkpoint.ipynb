{
 "cells": [
  {
   "cell_type": "markdown",
   "metadata": {},
   "source": [
    "# Creating a feature matrix from a DB Query"
   ]
  },
  {
   "cell_type": "code",
   "execution_count": 1,
   "metadata": {
    "collapsed": true
   },
   "outputs": [],
   "source": [
    "import sys\n",
    "sys.path.append('/Users/celia/GitHub/mouse_bandit/data_preprocessing_code')\n",
    "sys.path.append('/Users/celia/GitHub/mouse_bandit')\n",
    "import support_functions as sf\n",
    "import numpy as np\n",
    "import pandas as pd\n",
    "import scipy as sp\n",
    "import bandit_preprocessing as bp\n",
    "from sklearn import preprocessing\n",
    "import sys\n",
    "import os\n",
    "%matplotlib inline "
   ]
  },
  {
   "cell_type": "markdown",
   "metadata": {},
   "source": [
    "## Retrieve names of sessions you want from the DB"
   ]
  },
  {
   "cell_type": "code",
   "execution_count": 2,
   "metadata": {
    "collapsed": true
   },
   "outputs": [],
   "source": [
    "#load in data base\n",
    "db = pd.read_csv('/Users/celia/GitHub/mouse_bandit/celia_session_record.csv',index_col=0)"
   ]
  },
  {
   "cell_type": "markdown",
   "metadata": {},
   "source": [
    "### Query all 80-20 sessions where performance > 0.7 and block structure was 50"
   ]
  },
  {
   "cell_type": "code",
   "execution_count": 3,
   "metadata": {
    "collapsed": true
   },
   "outputs": [],
   "source": [
    "r = db[(db['Markov']==1)]\n",
    "#r = db[((db['Left Reward Prob'] == 0.8) |  (db['Right Reward Prob'] == 0.8))].copy()\n",
    "r = r[r['p(high Port)'] > 0.7].copy()\n",
    "#r = r[r['Mouse ID'] == 'Mustard']\n",
    "session_names = r['Session ID'].values"
   ]
  },
  {
   "cell_type": "code",
   "execution_count": 4,
   "metadata": {},
   "outputs": [
    {
     "data": {
      "text/plain": [
       "(37, 18)"
      ]
     },
     "execution_count": 4,
     "metadata": {},
     "output_type": "execute_result"
    }
   ],
   "source": [
    "r.shape"
   ]
  },
  {
   "cell_type": "markdown",
   "metadata": {},
   "source": [
    "## load in csv files (from running exportTrials.m)"
   ]
  },
  {
   "cell_type": "code",
   "execution_count": 5,
   "metadata": {
    "collapsed": true
   },
   "outputs": [],
   "source": [
    "'''\n",
    "load in trial data\n",
    "'''\n",
    "columns = ['Elapsed Time (s)','Since last trial (s)','Trial Duration (s)','Port Poked',\n",
    "           'Right Reward Prob','Left Reward Prob','Reward Given',\n",
    "          'center_frame','decision_frame']\n",
    "\n",
    "root_dir = '/Users/celia/GitHub/mouse_bandit/data/trial_data'\n",
    "save_dir = '/Users/celia/GitHub/mouse_bandit/data/processed_data'\n",
    "\n",
    "trial_df = []\n",
    "\n",
    "for session in session_names:\n",
    "    full_name = session + '_trials.csv'\n",
    "    \n",
    "    path_name = os.path.join(root_dir,full_name)\n",
    "    \n",
    "    trial_df.append(pd.read_csv(path_name,names=columns))\n",
    "\n",
    "mouse_ids = r['Mouse ID'].values"
   ]
  },
  {
   "cell_type": "code",
   "execution_count": 6,
   "metadata": {},
   "outputs": [
    {
     "data": {
      "text/plain": [
       "37"
      ]
     },
     "execution_count": 6,
     "metadata": {},
     "output_type": "execute_result"
    }
   ],
   "source": [
    "len(trial_df)"
   ]
  },
  {
   "cell_type": "markdown",
   "metadata": {},
   "source": [
    "## convert into 1 feature matrix"
   ]
  },
  {
   "cell_type": "code",
   "execution_count": 7,
   "metadata": {},
   "outputs": [
    {
     "ename": "NameError",
     "evalue": "name 'i' is not defined",
     "output_type": "error",
     "traceback": [
      "\u001b[0;31m---------------------------------------------------------------------------\u001b[0m",
      "\u001b[0;31mNameError\u001b[0m                                 Traceback (most recent call last)",
      "\u001b[0;32m<ipython-input-7-0ab88cfaaa55>\u001b[0m in \u001b[0;36m<module>\u001b[0;34m()\u001b[0m\n\u001b[0;32m----> 1\u001b[0;31m \u001b[0msession_names\u001b[0m\u001b[0;34m[\u001b[0m\u001b[0mi\u001b[0m\u001b[0;34m]\u001b[0m\u001b[0;34m\u001b[0m\u001b[0m\n\u001b[0m",
      "\u001b[0;31mNameError\u001b[0m: name 'i' is not defined"
     ]
    }
   ],
   "source": [
    "session_names[i]"
   ]
  },
  {
   "cell_type": "code",
   "execution_count": null,
   "metadata": {},
   "outputs": [],
   "source": [
    "trial_df"
   ]
  },
  {
   "cell_type": "code",
   "execution_count": 8,
   "metadata": {},
   "outputs": [],
   "source": [
    "for i,df in enumerate(trial_df):\n",
    "    \n",
    "    curr_feature_matrix = bp.create_feature_matrix(df,10,mouse_ids[i],session_names[i],feature_names='Default')\n",
    "    \n",
    "    if i == 0:\n",
    "        master_matrix = curr_feature_matrix.copy()\n",
    "    else:\n",
    "        master_matrix = master_matrix.append(curr_feature_matrix)\n",
    "    "
   ]
  },
  {
   "cell_type": "code",
   "execution_count": null,
   "metadata": {
    "collapsed": true
   },
   "outputs": [],
   "source": [
    "trials = df.copy()\n",
    "n_indi=10\n",
    "curr_trial_duration=True\n",
    "imaging=False\n",
    "\n",
    "n_trials = trials.shape[0] #number of trials in this session\n",
    "    \n",
    "#minimum number of columns\n",
    "num_cols = 2 + 3+ 4*n_indi+ 1 + 4\n",
    "#2 streak cols, 3 trial & block & reward trial col, 4 cols for each past trial, \n",
    "#]1 for current trial + 4 decision/switch/higher p port/Reward\n",
    "    \n",
    "#add columns as neccesary\n",
    "if curr_trial_duration is True:\n",
    "    num_cols += 1\n",
    "if imaging is True:\n",
    "    num_cols += 2\n",
    "    \n",
    "feature_matrix = np.zeros((n_trials-n_indi,num_cols))\n",
    "    \n",
    "block_starts = np.zeros(trials.shape[0])\n",
    "block_starts[1:] = np.diff(trials['Right Reward Prob'].values) != 0\n",
    "    \n",
    "reward_block_num = 0    \n",
    "reward_block_nums = np.zeros(n_trials)\n",
    "for i in range(n_trials):\n",
    "    if block_starts[i]:\n",
    "        reward_block_num = 0\n",
    "    else:\n",
    "        reward_block_num += trials.iloc[i]['Reward Given']\n",
    "    \n",
    "    reward_block_nums[i] = reward_block_num\n",
    "\n",
    "for j,i in enumerate(np.arange(n_indi,n_trials)):\n",
    "    k = 0 #column indexer for the feature matrix\n",
    "    #extract the 'n_summary' trials we need to consider. Assume that n_summary > n_indi\n",
    "    past_trials = trials.iloc[i-n_indi:i]\n",
    "        \n",
    "    '''\n",
    "    Trial Number\n",
    "    '''\n",
    "    feature_matrix[j,k] = i+1\n",
    "    k+=1 \n",
    "    # will be added after all at once (since can be calculated for every trial with single line)\n",
    "        \n",
    "    '''\n",
    "    Block Trial Number\n",
    "    '''\n",
    "    if (j == 0): #first block number will be the sum\n",
    "        if (np.sum(block_starts[:n_indi]) == 0):\n",
    "        #then we are still in the first block, and we simply are n_indi trials in\n",
    "            feature_matrix[j,k] = n_indi+1\n",
    "        else:\n",
    "            feature_matrix[j,k] = n_indi - np.where(block_starts[:n_indi]==True)[0][0] + 1\n",
    "            # i.e. 10 - 5 + 1 = 6 or 10 - 8 + 1 = 3. it works. \n",
    "    elif block_starts[i]: #if block_starts[j] == True, start counting from 0\n",
    "        feature_matrix[j,k] = 0 \n",
    "    else:\n",
    "        feature_matrix[j,k] = feature_matrix[j-1,k] + 1\n",
    "            \n",
    "    k+=1\n",
    "        \n",
    "    '''\n",
    "    Block Reward Number\n",
    "    '''\n",
    "    feature_matrix[j,k] = reward_block_nums[i-1]\n",
    "    k+=1\n",
    "            "
   ]
  },
  {
   "cell_type": "code",
   "execution_count": null,
   "metadata": {},
   "outputs": [],
   "source": [
    "np.where(block_starts[:n_indi]==True)[0][0]"
   ]
  },
  {
   "cell_type": "code",
   "execution_count": null,
   "metadata": {},
   "outputs": [],
   "source": [
    "block_starts"
   ]
  },
  {
   "cell_type": "code",
   "execution_count": null,
   "metadata": {},
   "outputs": [],
   "source": [
    "master_matrix.head(5)"
   ]
  },
  {
   "cell_type": "code",
   "execution_count": 9,
   "metadata": {
    "scrolled": true
   },
   "outputs": [
    {
     "data": {
      "text/plain": [
       "(19031, 53)"
      ]
     },
     "execution_count": 9,
     "metadata": {},
     "output_type": "execute_result"
    }
   ],
   "source": [
    "master_matrix.shape"
   ]
  },
  {
   "cell_type": "code",
   "execution_count": null,
   "metadata": {},
   "outputs": [],
   "source": [
    "master_matrix['Higher p port'].mean()"
   ]
  },
  {
   "cell_type": "markdown",
   "metadata": {},
   "source": [
    "## Save combined feature matrix  "
   ]
  },
  {
   "cell_type": "code",
   "execution_count": 10,
   "metadata": {
    "collapsed": true
   },
   "outputs": [],
   "source": [
    "master_matrix.to_csv(os.path.join(save_dir,'markov_master_df.csv'),index=False)"
   ]
  }
 ],
 "metadata": {
  "anaconda-cloud": {},
  "kernelspec": {
   "display_name": "Python 3",
   "language": "python",
   "name": "python3"
  },
  "language_info": {
   "codemirror_mode": {
    "name": "ipython",
    "version": 3
   },
   "file_extension": ".py",
   "mimetype": "text/x-python",
   "name": "python",
   "nbconvert_exporter": "python",
   "pygments_lexer": "ipython3",
   "version": "3.6.1"
  }
 },
 "nbformat": 4,
 "nbformat_minor": 1
}
