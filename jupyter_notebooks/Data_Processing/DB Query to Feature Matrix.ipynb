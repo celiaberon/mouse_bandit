{
 "cells": [
  {
   "cell_type": "markdown",
   "metadata": {},
   "source": [
    "# Creating a feature matrix from a DB Query"
   ]
  },
  {
   "cell_type": "code",
   "execution_count": 1,
   "metadata": {
    "collapsed": true
   },
   "outputs": [],
   "source": [
    "import sys\n",
    "sys.path.append('/Users/celia/GitHub/mouse_bandit/data_preprocessing_code')\n",
    "sys.path.append('/Users/celia/GitHub/mouse_bandit')\n",
    "import support_functions as sf\n",
    "import numpy as np\n",
    "import pandas as pd\n",
    "import scipy as sp\n",
    "import bandit_preprocessing as bp\n",
    "from sklearn import preprocessing\n",
    "import sys\n",
    "import os\n",
    "%matplotlib inline "
   ]
  },
  {
   "cell_type": "markdown",
   "metadata": {},
   "source": [
    "## Retrieve names of sessions you want from the DB"
   ]
  },
  {
   "cell_type": "code",
   "execution_count": 54,
   "metadata": {
    "collapsed": true
   },
   "outputs": [],
   "source": [
    "#load in data base\n",
    "db = pd.read_csv('/Users/celia/GitHub/mouse_bandit/celia_session_record.csv',index_col=0)"
   ]
  },
  {
   "cell_type": "code",
   "execution_count": 55,
   "metadata": {},
   "outputs": [
    {
     "data": {
      "text/html": [
       "<div>\n",
       "<style>\n",
       "    .dataframe thead tr:only-child th {\n",
       "        text-align: right;\n",
       "    }\n",
       "\n",
       "    .dataframe thead th {\n",
       "        text-align: left;\n",
       "    }\n",
       "\n",
       "    .dataframe tbody tr th {\n",
       "        vertical-align: top;\n",
       "    }\n",
       "</style>\n",
       "<table border=\"1\" class=\"dataframe\">\n",
       "  <thead>\n",
       "    <tr style=\"text-align: right;\">\n",
       "      <th></th>\n",
       "      <th>Owner</th>\n",
       "      <th>Session ID</th>\n",
       "      <th>Mouse ID</th>\n",
       "      <th>Date</th>\n",
       "      <th>Phase</th>\n",
       "      <th>Markov</th>\n",
       "      <th>Left Reward Prob</th>\n",
       "      <th>Right Reward Prob</th>\n",
       "      <th>Block Range Min</th>\n",
       "      <th>Block Range Max</th>\n",
       "      <th>No. Trials</th>\n",
       "      <th>No. Blocks</th>\n",
       "      <th>No. Rewards</th>\n",
       "      <th>p(high Port)</th>\n",
       "      <th>Decision Window Duration</th>\n",
       "      <th>Min Inter-trial-interval</th>\n",
       "      <th>Left Solenoid Duration</th>\n",
       "      <th>Right Solenoid Duration</th>\n",
       "    </tr>\n",
       "  </thead>\n",
       "  <tbody>\n",
       "    <tr>\n",
       "      <th>0</th>\n",
       "      <td>celia</td>\n",
       "      <td>08032017_Baby</td>\n",
       "      <td>Baby</td>\n",
       "      <td>2017-08-03</td>\n",
       "      <td>0.0</td>\n",
       "      <td>0</td>\n",
       "      <td>1.0</td>\n",
       "      <td>1.0</td>\n",
       "      <td>1000.0</td>\n",
       "      <td>1000.0</td>\n",
       "      <td>3.0</td>\n",
       "      <td>0.0</td>\n",
       "      <td>0.0</td>\n",
       "      <td>0.0</td>\n",
       "      <td>10.0</td>\n",
       "      <td>1.0</td>\n",
       "      <td>50.0</td>\n",
       "      <td>50.0</td>\n",
       "    </tr>\n",
       "    <tr>\n",
       "      <th>1</th>\n",
       "      <td>celia</td>\n",
       "      <td>08042017_Baby</td>\n",
       "      <td>Baby</td>\n",
       "      <td>2017-08-04</td>\n",
       "      <td>1.0</td>\n",
       "      <td>0</td>\n",
       "      <td>0.9</td>\n",
       "      <td>0.9</td>\n",
       "      <td>1000.0</td>\n",
       "      <td>1000.0</td>\n",
       "      <td>19.0</td>\n",
       "      <td>0.0</td>\n",
       "      <td>15.0</td>\n",
       "      <td>0.0</td>\n",
       "      <td>15.0</td>\n",
       "      <td>1.0</td>\n",
       "      <td>60.0</td>\n",
       "      <td>60.0</td>\n",
       "    </tr>\n",
       "    <tr>\n",
       "      <th>2</th>\n",
       "      <td>celia</td>\n",
       "      <td>08072017_Baby</td>\n",
       "      <td>Baby</td>\n",
       "      <td>2017-08-07</td>\n",
       "      <td>1.0</td>\n",
       "      <td>0</td>\n",
       "      <td>0.9</td>\n",
       "      <td>0.9</td>\n",
       "      <td>1000.0</td>\n",
       "      <td>1000.0</td>\n",
       "      <td>60.0</td>\n",
       "      <td>0.0</td>\n",
       "      <td>51.0</td>\n",
       "      <td>0.0</td>\n",
       "      <td>15.0</td>\n",
       "      <td>1.0</td>\n",
       "      <td>50.0</td>\n",
       "      <td>50.0</td>\n",
       "    </tr>\n",
       "    <tr>\n",
       "      <th>3</th>\n",
       "      <td>celia</td>\n",
       "      <td>08082017_Baby</td>\n",
       "      <td>Baby</td>\n",
       "      <td>2017-08-08</td>\n",
       "      <td>1.0</td>\n",
       "      <td>0</td>\n",
       "      <td>0.9</td>\n",
       "      <td>0.9</td>\n",
       "      <td>1000.0</td>\n",
       "      <td>1000.0</td>\n",
       "      <td>76.0</td>\n",
       "      <td>0.0</td>\n",
       "      <td>71.0</td>\n",
       "      <td>0.0</td>\n",
       "      <td>10.0</td>\n",
       "      <td>1.0</td>\n",
       "      <td>50.0</td>\n",
       "      <td>50.0</td>\n",
       "    </tr>\n",
       "    <tr>\n",
       "      <th>4</th>\n",
       "      <td>celia</td>\n",
       "      <td>08092017_Baby</td>\n",
       "      <td>Baby</td>\n",
       "      <td>2017-08-09</td>\n",
       "      <td>1.0</td>\n",
       "      <td>0</td>\n",
       "      <td>0.9</td>\n",
       "      <td>0.9</td>\n",
       "      <td>1000.0</td>\n",
       "      <td>1000.0</td>\n",
       "      <td>108.0</td>\n",
       "      <td>0.0</td>\n",
       "      <td>96.0</td>\n",
       "      <td>0.0</td>\n",
       "      <td>5.0</td>\n",
       "      <td>1.0</td>\n",
       "      <td>45.0</td>\n",
       "      <td>45.0</td>\n",
       "    </tr>\n",
       "  </tbody>\n",
       "</table>\n",
       "</div>"
      ],
      "text/plain": [
       "   Owner     Session ID Mouse ID        Date  Phase  Markov  Left Reward Prob  \\\n",
       "0  celia  08032017_Baby     Baby  2017-08-03    0.0       0               1.0   \n",
       "1  celia  08042017_Baby     Baby  2017-08-04    1.0       0               0.9   \n",
       "2  celia  08072017_Baby     Baby  2017-08-07    1.0       0               0.9   \n",
       "3  celia  08082017_Baby     Baby  2017-08-08    1.0       0               0.9   \n",
       "4  celia  08092017_Baby     Baby  2017-08-09    1.0       0               0.9   \n",
       "\n",
       "   Right Reward Prob  Block Range Min  Block Range Max  No. Trials  \\\n",
       "0                1.0           1000.0           1000.0         3.0   \n",
       "1                0.9           1000.0           1000.0        19.0   \n",
       "2                0.9           1000.0           1000.0        60.0   \n",
       "3                0.9           1000.0           1000.0        76.0   \n",
       "4                0.9           1000.0           1000.0       108.0   \n",
       "\n",
       "   No. Blocks  No. Rewards  p(high Port)  Decision Window Duration  \\\n",
       "0         0.0          0.0           0.0                      10.0   \n",
       "1         0.0         15.0           0.0                      15.0   \n",
       "2         0.0         51.0           0.0                      15.0   \n",
       "3         0.0         71.0           0.0                      10.0   \n",
       "4         0.0         96.0           0.0                       5.0   \n",
       "\n",
       "   Min Inter-trial-interval  Left Solenoid Duration  Right Solenoid Duration  \n",
       "0                       1.0                    50.0                     50.0  \n",
       "1                       1.0                    60.0                     60.0  \n",
       "2                       1.0                    50.0                     50.0  \n",
       "3                       1.0                    50.0                     50.0  \n",
       "4                       1.0                    45.0                     45.0  "
      ]
     },
     "execution_count": 55,
     "metadata": {},
     "output_type": "execute_result"
    }
   ],
   "source": [
    "db.head(5)"
   ]
  },
  {
   "cell_type": "markdown",
   "metadata": {},
   "source": [
    "### Query all 80-20 sessions where performance > 0.7 and block structure was 50"
   ]
  },
  {
   "cell_type": "code",
   "execution_count": 56,
   "metadata": {
    "collapsed": true
   },
   "outputs": [],
   "source": [
    "r = db[(db['Markov']==1)]\n",
    "#r = db[((db['Left Reward Prob'] == 0.8) |  (db['Right Reward Prob'] == 0.8))].copy()\n",
    "r = r[r['p(high Port)'] > 0.7].copy()\n",
    "r = r[r['No. Blocks']>0.0].copy()\n",
    "#r = r[r['Mouse ID'] == 'Mustard']\n",
    "session_names = r['Session ID'].values"
   ]
  },
  {
   "cell_type": "code",
   "execution_count": 57,
   "metadata": {},
   "outputs": [
    {
     "data": {
      "text/plain": [
       "(60, 18)"
      ]
     },
     "execution_count": 57,
     "metadata": {},
     "output_type": "execute_result"
    }
   ],
   "source": [
    "r.shape"
   ]
  },
  {
   "cell_type": "markdown",
   "metadata": {},
   "source": [
    "## load in csv files (from running exportTrials.m)"
   ]
  },
  {
   "cell_type": "code",
   "execution_count": 58,
   "metadata": {},
   "outputs": [],
   "source": [
    "'''\n",
    "load in trial data\n",
    "'''\n",
    "columns = ['Elapsed Time (s)','Since last trial (s)','Trial Duration (s)','Port Poked',\n",
    "           'Right Reward Prob','Left Reward Prob','Reward Given',\n",
    "          'center_frame','decision_frame', 'Block ID']\n",
    "\n",
    "root_dir = '/Users/celia/GitHub/mouse_bandit/data/trial_data'\n",
    "save_dir = '/Users/celia/GitHub/mouse_bandit/data/processed_data'\n",
    "\n",
    "trial_df = []\n",
    "\n",
    "for session in session_names:\n",
    "    full_name = session + '_trials.csv'\n",
    "    \n",
    "    path_name = os.path.join(root_dir,full_name)\n",
    "    \n",
    "    trial_df.append(pd.read_csv(path_name,names=columns))\n",
    "\n",
    "mouse_ids = r['Mouse ID'].values"
   ]
  },
  {
   "cell_type": "code",
   "execution_count": 50,
   "metadata": {},
   "outputs": [
    {
     "data": {
      "text/plain": [
       "55"
      ]
     },
     "execution_count": 50,
     "metadata": {},
     "output_type": "execute_result"
    }
   ],
   "source": [
    "len(trial_df)"
   ]
  },
  {
   "cell_type": "markdown",
   "metadata": {},
   "source": [
    "## convert into 1 feature matrix"
   ]
  },
  {
   "cell_type": "code",
   "execution_count": null,
   "metadata": {},
   "outputs": [],
   "source": [
    "trial_df"
   ]
  },
  {
   "cell_type": "code",
   "execution_count": 59,
   "metadata": {},
   "outputs": [],
   "source": [
    "for i,df in enumerate(trial_df):\n",
    "    \n",
    "    curr_feature_matrix = bp.create_feature_matrix(df,10,mouse_ids[i],session_names[i],feature_names='Default')\n",
    "    \n",
    "    if i == 0:\n",
    "        master_matrix = curr_feature_matrix.copy()\n",
    "    else:\n",
    "        master_matrix = master_matrix.append(curr_feature_matrix)\n",
    "    "
   ]
  },
  {
   "cell_type": "code",
   "execution_count": null,
   "metadata": {
    "collapsed": true
   },
   "outputs": [],
   "source": [
    "trials = df.copy()\n",
    "n_indi=10\n",
    "curr_trial_duration=True\n",
    "imaging=False\n",
    "\n",
    "n_trials = trials.shape[0] #number of trials in this session\n",
    "    \n",
    "#minimum number of columns\n",
    "num_cols = 2 + 3+ 4*n_indi+ 1 + 4\n",
    "#2 streak cols, 3 trial & block & reward trial col, 4 cols for each past trial, \n",
    "#]1 for current trial + 4 decision/switch/higher p port/Reward\n",
    "    \n",
    "#add columns as neccesary\n",
    "if curr_trial_duration is True:\n",
    "    num_cols += 1\n",
    "if imaging is True:\n",
    "    num_cols += 2\n",
    "    \n",
    "feature_matrix = np.zeros((n_trials-n_indi,num_cols))\n",
    "    \n",
    "block_starts = np.zeros(trials.shape[0])\n",
    "block_starts[1:] = np.diff(trials['Right Reward Prob'].values) != 0\n",
    "    \n",
    "reward_block_num = 0    \n",
    "reward_block_nums = np.zeros(n_trials)\n",
    "for i in range(n_trials):\n",
    "    if block_starts[i]:\n",
    "        reward_block_num = 0\n",
    "    else:\n",
    "        reward_block_num += trials.iloc[i]['Reward Given']\n",
    "    \n",
    "    reward_block_nums[i] = reward_block_num\n",
    "\n",
    "for j,i in enumerate(np.arange(n_indi,n_trials)):\n",
    "    k = 0 #column indexer for the feature matrix\n",
    "    #extract the 'n_summary' trials we need to consider. Assume that n_summary > n_indi\n",
    "    past_trials = trials.iloc[i-n_indi:i]\n",
    "        \n",
    "    '''\n",
    "    Trial Number\n",
    "    '''\n",
    "    feature_matrix[j,k] = i+1\n",
    "    k+=1 \n",
    "    # will be added after all at once (since can be calculated for every trial with single line)\n",
    "        \n",
    "    '''\n",
    "    Block Trial Number\n",
    "    '''\n",
    "    if (j == 0): #first block number will be the sum\n",
    "        if (np.sum(block_starts[:n_indi]) == 0):\n",
    "        #then we are still in the first block, and we simply are n_indi trials in\n",
    "            feature_matrix[j,k] = n_indi+1\n",
    "        else:\n",
    "            feature_matrix[j,k] = n_indi - np.where(block_starts[:n_indi]==True)[0][0] + 1\n",
    "            # i.e. 10 - 5 + 1 = 6 or 10 - 8 + 1 = 3. it works. \n",
    "    elif block_starts[i]: #if block_starts[j] == True, start counting from 0\n",
    "        feature_matrix[j,k] = 0 \n",
    "    else:\n",
    "        feature_matrix[j,k] = feature_matrix[j-1,k] + 1\n",
    "            \n",
    "    k+=1\n",
    "        \n",
    "    '''\n",
    "    Block Reward Number\n",
    "    '''\n",
    "    feature_matrix[j,k] = reward_block_nums[i-1]\n",
    "    k+=1\n",
    "            "
   ]
  },
  {
   "cell_type": "code",
   "execution_count": null,
   "metadata": {},
   "outputs": [],
   "source": [
    "np.where(block_starts[:n_indi]==True)[0][0]"
   ]
  },
  {
   "cell_type": "code",
   "execution_count": null,
   "metadata": {},
   "outputs": [],
   "source": [
    "block_starts"
   ]
  },
  {
   "cell_type": "code",
   "execution_count": null,
   "metadata": {},
   "outputs": [],
   "source": [
    "master_matrix.head(5)"
   ]
  },
  {
   "cell_type": "code",
   "execution_count": 9,
   "metadata": {
    "scrolled": true
   },
   "outputs": [
    {
     "data": {
      "text/plain": [
       "(19031, 53)"
      ]
     },
     "execution_count": 9,
     "metadata": {},
     "output_type": "execute_result"
    }
   ],
   "source": [
    "master_matrix.shape"
   ]
  },
  {
   "cell_type": "code",
   "execution_count": 60,
   "metadata": {},
   "outputs": [
    {
     "data": {
      "text/plain": [
       "0.8492503354530074"
      ]
     },
     "execution_count": 60,
     "metadata": {},
     "output_type": "execute_result"
    }
   ],
   "source": [
    "master_matrix['Higher p port'].mean()"
   ]
  },
  {
   "cell_type": "markdown",
   "metadata": {},
   "source": [
    "## Save combined feature matrix  "
   ]
  },
  {
   "cell_type": "code",
   "execution_count": 61,
   "metadata": {
    "collapsed": true
   },
   "outputs": [],
   "source": [
    "master_matrix.to_csv(os.path.join(save_dir,'markov_master_df.csv'),index=False)"
   ]
  }
 ],
 "metadata": {
  "anaconda-cloud": {},
  "kernelspec": {
   "display_name": "Python 3",
   "language": "python",
   "name": "python3"
  },
  "language_info": {
   "codemirror_mode": {
    "name": "ipython",
    "version": 3
   },
   "file_extension": ".py",
   "mimetype": "text/x-python",
   "name": "python",
   "nbconvert_exporter": "python",
   "pygments_lexer": "ipython3",
   "version": "3.6.1"
  }
 },
 "nbformat": 4,
 "nbformat_minor": 1
}
