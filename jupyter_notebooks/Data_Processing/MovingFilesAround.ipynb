{
 "cells": [
  {
   "cell_type": "markdown",
   "metadata": {},
   "source": [
    "# Move files around"
   ]
  },
  {
   "cell_type": "code",
   "execution_count": 1,
   "metadata": {
    "collapsed": true
   },
   "outputs": [],
   "source": [
    "import sys\n",
    "import os\n",
    "import shutil"
   ]
  },
  {
   "cell_type": "markdown",
   "metadata": {},
   "source": [
    "# Most recent - 'datesfirst' data"
   ]
  },
  {
   "cell_type": "code",
   "execution_count": null,
   "metadata": {
    "collapsed": true
   },
   "outputs": [],
   "source": [
    "# files from Shay\n",
    "root_dir = '/Users/shayneufeld/Dropbox/Shay_BehaviorFiles/BehaviorData/datesfirst'\n",
    "dist_dir = '/Users/shayneufeld/GitHub/mouse_bandit/data/trial_data'\n",
    "\n",
    "for date_folder in os.listdir(root_dir):\n",
    "    \n",
    "    if not date_folder[0] == '.':\n",
    "        date_folder_dir = os.path.join(root_dir,date_folder)\n",
    "\n",
    "        for mouse_folder in os.listdir(date_folder_dir):\n",
    "            if not mouse_folder[0] == '.':\n",
    "                for file in os.listdir(os.path.join(date_folder_dir,mouse_folder)):\n",
    "\n",
    "                        if not file[0] == '.':\n",
    "                            file_name = os.path.join(date_folder_dir,mouse_folder,file)\n",
    "\n",
    "                            if 'trials.csv' in file:\n",
    "                                 shutil.copy(file_name, dist_dir)\n",
    "                        else:\n",
    "                            print(date_folder)\n",
    "                            print(mouse_folder)\n",
    "                            #raise ValueError('In a hidden folder')"
   ]
  },
  {
   "cell_type": "code",
   "execution_count": 2,
   "metadata": {
    "collapsed": true,
    "scrolled": false
   },
   "outputs": [],
   "source": [
    "# files from Celia\n",
    "\n",
    "root_dir = '/Users/celia/Dropbox (HMS)/Celia_BehaviorFiles/'\n",
    "MOUSE = ['Baby','Mustard','Raspberry','Sky','Wine']\n",
    "root_mouse={}\n",
    "for mouse in MOUSE: # make list of all mouse directories\n",
    "    temp_dict = {mouse:os.path.join(root_dir,mouse)}\n",
    "    root_mouse.update(temp_dict)\n",
    "date_folders = os.listdir(root_mouse[MOUSE[0]]) # assuming all mice have same dates \n",
    "date_folders = date_folders[1:]\n",
    "\n",
    "dist_dir = '/Users/celia/GitHub/mouse_bandit/data/trial_data'\n",
    "\n",
    "for mouse in MOUSE:\n",
    "    for date in date_folders:\n",
    "        for file in os.listdir(os.path.join(root_mouse[mouse], date)):\n",
    "\n",
    "            if not file[0] == '.':\n",
    "                file_name = os.path.join(root_mouse[mouse],date,file)\n",
    "                if 'trials.csv' in file:\n",
    "                    shutil.copy(file_name, dist_dir)\n",
    "                    #print(file_name)\n",
    "                else:\n",
    "                    pass\n",
    "                    #print(date_folders)\n",
    "                    #print(root_mouse[mouse])\n",
    "                    #raise ValueError('In a hidden folder')\n",
    "                    \n",
    "MOUSE = ['Dill']\n",
    "root_mouse={}\n",
    "for mouse in MOUSE: # make list of all mouse directories\n",
    "    temp_dict = {mouse:os.path.join(root_dir,mouse)}\n",
    "    root_mouse.update(temp_dict)\n",
    "date_folders = os.listdir(root_mouse[MOUSE[0]]) # assuming all mice have same dates \n",
    "date_folders = date_folders[1:]\n",
    "\n",
    "dist_dir = '/Users/celia/GitHub/mouse_bandit/data/trial_data'\n",
    "\n",
    "for mouse in MOUSE:\n",
    "    for date in date_folders:\n",
    "        for file in os.listdir(os.path.join(root_mouse[mouse], date)):\n",
    "\n",
    "            if not file[0] == '.':\n",
    "                file_name = os.path.join(root_mouse[mouse],date,file)\n",
    "                if 'trials.csv' in file:\n",
    "                    shutil.copy(file_name, dist_dir)\n",
    "                    #print(file_name)\n",
    "                else:\n",
    "                    pass\n",
    "                    #print(date_folders)\n",
    "                    #print(root_mouse[mouse])\n",
    "                    #raise ValueError('In a hidden folder')\n",
    "                    \n",
    "                    "
   ]
  },
  {
   "cell_type": "code",
   "execution_count": null,
   "metadata": {
    "collapsed": true
   },
   "outputs": [],
   "source": []
  },
  {
   "cell_type": "markdown",
   "metadata": {},
   "source": [
    "## First deal with BehaviorData_Round2\n",
    "\n",
    "Note - had to run first in the Round2 dir, and then in the WITHOUT_GUI dir"
   ]
  },
  {
   "cell_type": "code",
   "execution_count": null,
   "metadata": {
    "collapsed": true
   },
   "outputs": [],
   "source": [
    "root_dir = '/Users/shayneufeld/Dropbox/Shay_BehaviorFiles/BehaviorData_Round2/WITHOUT_GUI'\n",
    "dist_dir = '/Users/shayneufeld/GitHub/mouse_bandit/data/trial_data'\n",
    "\n",
    "for date_folder in os.listdir(root_dir):\n",
    "    \n",
    "    date_folder_dir = os.path.join(root_dir,date_folder)\n",
    "    \n",
    "    for mouse_folder in os.listdir(date_folder_dir):\n",
    "        \n",
    "        for file in os.listdir(os.path.join(date_folder_dir,mouse_folder)):\n",
    "            \n",
    "                if not file[0] == '.':\n",
    "                    file_name = os.path.join(date_folder_dir,mouse_folder,file)\n",
    "                    \n",
    "                    if 'trials.csv' in file:\n",
    "                         shutil.copy(file_name, dist_dir)\n",
    "                else:\n",
    "                    raise ValueError('In a hidden folder')"
   ]
  },
  {
   "cell_type": "markdown",
   "metadata": {},
   "source": [
    "## Now deal with 'supermice'"
   ]
  },
  {
   "cell_type": "code",
   "execution_count": null,
   "metadata": {
    "collapsed": true
   },
   "outputs": [],
   "source": [
    "root_dir = '/Users/shayneufeld/Dropbox/Shay_BehaviorFiles/BehaviorData'\n",
    "dist_dir = '/Users/shayneufeld/GitHub/mouse_bandit/data/trial_data'\n",
    "\n",
    "for mouse_folder in os.listdir(root_dir):\n",
    "    \n",
    "    if not mouse_folder[0] == '.':\n",
    "        mouse_folder_dir = os.path.join(root_dir,mouse_folder)\n",
    "\n",
    "        for date_folder in os.listdir(mouse_folder_dir):\n",
    "            if not date_folder[0] == '.':\n",
    "                \n",
    "                for file in os.listdir(os.path.join(mouse_folder_dir,date_folder)):\n",
    "\n",
    "                        if not file[0] == '.':\n",
    "                            file_name = os.path.join(mouse_folder_dir,date_folder,file)\n",
    "\n",
    "                            if 'trials.csv' in file:\n",
    "                                 shutil.copy(file_name, dist_dir)\n",
    "                        #else:\n",
    "                        #    raise ValueError('In a hidden folder')"
   ]
  },
  {
   "cell_type": "code",
   "execution_count": null,
   "metadata": {
    "collapsed": true
   },
   "outputs": [],
   "source": [
    "mouse_folder_dir"
   ]
  },
  {
   "cell_type": "code",
   "execution_count": null,
   "metadata": {
    "collapsed": true,
    "scrolled": true
   },
   "outputs": [],
   "source": [
    "file"
   ]
  },
  {
   "cell_type": "code",
   "execution_count": null,
   "metadata": {
    "collapsed": true,
    "scrolled": true
   },
   "outputs": [],
   "source": [
    "os.listdir(root_dir)"
   ]
  }
 ],
 "metadata": {
  "anaconda-cloud": {},
  "kernelspec": {
   "display_name": "Python 3",
   "language": "python",
   "name": "python3"
  },
  "language_info": {
   "codemirror_mode": {
    "name": "ipython",
    "version": 3
   },
   "file_extension": ".py",
   "mimetype": "text/x-python",
   "name": "python",
   "nbconvert_exporter": "python",
   "pygments_lexer": "ipython3",
   "version": "3.6.1"
  }
 },
 "nbformat": 4,
 "nbformat_minor": 1
}
