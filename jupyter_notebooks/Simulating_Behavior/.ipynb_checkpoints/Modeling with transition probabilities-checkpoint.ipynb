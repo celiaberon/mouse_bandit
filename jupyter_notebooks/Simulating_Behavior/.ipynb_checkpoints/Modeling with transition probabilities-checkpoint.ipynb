{
 "cells": [
  {
   "cell_type": "markdown",
   "metadata": {},
   "source": [
    "# Thompson sampling as a model for mouse decision making\n",
    "\n",
    "The experimental paradigm is roughly the following: \n",
    "- A mouse performs a sequential decision making task in an environment with three nose ports. \n",
    "- Each step in the sequence begins when the mouse puts its nose in the center port. \n",
    "- After a brief pause, the mouse must decide to then poke its head in either the left port or the right port.\n",
    "- One side yields a reward with high probability, the other with low probability.\n",
    "- The rewarded side changes after a random duration of steps, $D \\sim \\mathrm{Unif}(40, 60)$.\n",
    "\n",
    "In order to maximize its reward, the mouse must infer which side is most likely to yield reward and exploit this inference by going to that side. However, the moust must balance this tendency with the need to explore the alternative option, since the rewarded side changes periodically. \n",
    "\n",
    "One way to model the mouse's behavior is to think of it as a reinforcement learning agent that maintains a posterior distribution over which side is more likely to yield a reward and then samples its choice of side according to the probability that that side is more likely to yield a reward. This strategy is known as _Thompson sampling_.\n",
    "\n",
    "We can approximate the experimental paradigm as a hidden Markov model (HMM) with a latent state $z_t \\in \\{0,1\\}$ where 0=\"left\" and 1=\"right\". Likewise, at each time step the mouse performs an action $a_t \\in \\{0,1\\}$, denoting its choice (left or right). After the mouse makes its choice, it receives a reward $r_t \\in \\{0,1\\}$ with the following probability:\n",
    "\n",
    "$\\Pr(r_t = 1 \\mid a_t, z_t) = \\begin{cases} p & \\text{if } a_t = z_t \\\\ q & \\text{o.w.} \\end{cases}$ \n",
    "\n",
    "where typically $p > 0.5$ and $q < 0.5$. Of course, \n",
    "\n",
    "$\\Pr(r_t = 0 \\mid a_t, z_t) = 1 - \\Pr(r_t = 1 \\mid a_t, z_t).$\n",
    "\n",
    "The final piece is a model for how the latent state evolves. While the state truly switches randomly every 40 to 60 trials, this is actually a bit harder to model. Instead, we will use a very simple transition model in which the state stays the same with probability $s$ and changes with probability $1-s$. That yields the following transition matrix:\n",
    "\n",
    "$\\Pr(z_{t+1}=j \\mid z_t=i ) = P_{ij}, $\n",
    "\n",
    "where\n",
    "\n",
    "$P = \\begin{bmatrix} s & 1-s \\\\ 1-s & s \\end{bmatrix}.$\n",
    "\n",
    "**Note that this is a misspecified model!** This will generate geometrically distributed state durations, $D \\sim \\mathrm{Geom}(s)$, rather than uniform distributions, $D \\sim \\mathrm{Unif}(40,60)$. The true model is known as a _hidden semi-Markov model_ (HSMM), and while the procedure below would still work in principle, it would require a longer memory to implement.\n",
    "\n",
    "Now we can formalize the Thompson sampling mouse. First it computes,\n",
    "\n",
    "$ \\Pr(z_t \\mid a_1, r_1, \\ldots, a_{t-1}, r_{t-1}).$\n",
    "\n",
    "This is done recursively, as in the forward pass of an HMM inference algorithm.  Based on this state inference, it samples its action according to the probability that this action maximizes the reward. That is, \n",
    "\n",
    "$\\Pr(a_t = 0) = \\Pr(z_t = 0 \\mid a_1, r_1, \\ldots, a_{t-1}, r_{t-1}),$\n",
    "\n",
    "$\\Pr(a_t = 1) = \\Pr(z_t = 1 \\mid a_1, r_1, \\ldots, a_{t-1}, r_{t-1}).$\n",
    "\n",
    "In this way, the mouse still randomly explores both sides as long as there is some uncertainty over the latent state, which is always the case. \n",
    "\n",
    "To test whether this model is a good fit for the data, we can simulate the \"Thompson mouse\" and compute a probability of right vs left for each step and see how often it agrees with the mouse's actual behavior. "
   ]
  },
  {
   "cell_type": "markdown",
   "metadata": {},
   "source": [
    "Followed example for calculating forward probability from the [Forward-Backward algorithm](https://en.wikipedia.org/wiki/Forward%E2%80%93backward_algorithm) wiki page\n",
    "\n",
    "More notes on updating forward probability\n",
    "\n",
    "$ \\text{Let} \\ \\ b_{t+1} = p(z_{t+1} | r_{1:t}, a_{1:t}) $\n",
    "\n",
    "Then\n",
    "\n",
    "$ b_{t+1} = \\sum_k p(z_{t+1} | z_t=k)  * p(z_t=k | r_{1:t}, a_{1:t})  \\propto \\sum_k p(z_{t+1} | z_t=k)  * p(r_t | z_t = k, a_t) * p(z_t=k | r_{t-1}, a_{t-1}) $\n",
    "\n",
    "$ b_{t+1} = \\sum_k p(z_{t+1} | z_t=k)  * p(r_t | z_t = k, a_t) * b_{t,k} $"
   ]
  },
  {
   "cell_type": "code",
   "execution_count": 1,
   "metadata": {
    "collapsed": true
   },
   "outputs": [],
   "source": [
    "import numpy as np\n",
    "import numpy.random as npr\n",
    "from sklearn.preprocessing import normalize\n",
    "import matplotlib.pyplot as plt\n",
    "import seaborn as sns\n",
    "%matplotlib inline"
   ]
  },
  {
   "cell_type": "code",
   "execution_count": 32,
   "metadata": {
    "collapsed": true
   },
   "outputs": [],
   "source": [
    "#parameters\n",
    "n_plays = 100\n",
    "duration = 20\n",
    "\n",
    "#true latent state sequence\n",
    "state = (np.arange(n_plays)) // duration % 2 #this just returns [0,0,....,1,1,...] etc \n",
    "#for each state so we can keep track. \n",
    "\n",
    "#transition matrix\n",
    "'''\n",
    "set transition matrix T such that T[i,j] is the probability of transitioning\n",
    "from state i to state j. \n",
    "If the true number of trials before switching is 'duration', then set the\n",
    "probability of switching to be 1 / duration, and the probability of \n",
    "staying to 1 - 1 / duration\n",
    "'''\n",
    "s = 1 - 1./duration\n",
    "T = np.array([[s, 1.0-s],\n",
    "             [1.0-s,s]])\n",
    "\n",
    "#reward probabilties\n",
    "p = 0.8 # prob of reward if choose the correct side\n",
    "q = 0.2 # prob of reward if choose the incorrect side\n",
    "\n",
    "#observation array\n",
    "'''\n",
    "set up array such that O[r,z,a] = Pr(reward=r | state=z,action=a)\n",
    "\n",
    "eg. when action = L, observation matrix should be:\n",
    "O[:,:,1]    = [P(r=0 | z=0,a=0),  P(r=0 | z=1,a=0)\n",
    "               P(r=1 | z=0,a=0),  P(r=1 | z=1,a=0)]\n",
    "            = [1-p, 1-q\n",
    "                p,   q]\n",
    "'''\n",
    "O = np.zeros((2,2,2))\n",
    "# let a 'right' choice be represented by '0'\n",
    "O[:,:,0] = np.array([[1.0-p, 1.0-q],\n",
    "                     [p,q]])\n",
    "O[:,:,1] = np.array([[1.0-q, 1.0-p],\n",
    "                     [q,p]])\n",
    "\n",
    "#TEST: All conditional probability distributions must sum to one\n",
    "assert np.allclose(O.sum(0),1), \"All conditional probability distributions must sum to one!\"\n",
    "\n",
    "#Initialize an array for actions (a[i] = 0 --> right, a[i] = 1 --> left)\n",
    "actions = np.zeros(n_plays)\n",
    "\n",
    "#Initialize an array for rewards (outcomes) (1 = reward, 0 = no reward)\n",
    "rewards = np.zeros(n_plays)\n",
    "\n",
    "#Keep track of beliefs over which side will be rewarded\n",
    "#First column is left, second is right\n",
    "beliefs = np.nan*np.ones((n_plays+1,2)) # +1 since the belief is always about the next trial\n",
    "\n",
    "#initialize with both sides equally likely\n",
    "beliefs[0] = [0.5,0.5]\n",
    "\n",
    "trials = np.zeros((n_plays,4))\n",
    "\n",
    "#run the algorithm\n",
    "for play in range(n_plays):\n",
    "    assert np.allclose(beliefs[play].sum(), 1.0), \"Beliefs must sum to one!\"\n",
    "    \n",
    "    #choose an action\n",
    "    '''\n",
    "    different strategies could be employed here.\n",
    "    eg 'greedy' <-- where action[play] = np.argmax(beliefs[play]). However\n",
    "    this is actually suboptimal because it doesn't do any exploration. \n",
    "    \n",
    "    in Thompson sampling, instead want to sample from your belief probabilities:\n",
    "    ie actions[play] ~ beliefs[play]\n",
    "    '''\n",
    "    \n",
    "    '''\n",
    "    THOMPSON SAMPLING\n",
    "    '''\n",
    "    actions[play] = npr.choice(2,p=beliefs[play])\n",
    "    '''\n",
    "    GREEDY\n",
    "    ''' \n",
    "    #actions[play] = np.where(beliefs[play] == beliefs[play].max())[0][0]\n",
    "    \n",
    "    '''\n",
    "    EPSILON-GREEDY\n",
    "    '''\n",
    "    '''\n",
    "    if np.random.uniform(size=1) > epsilon:\n",
    "        actions[play] = np.where(beliefs[play] == beliefs[play].max())[0][0]\n",
    "    else:\n",
    "        actions[play] = np.where(beliefs[play] == beliefs[play].min())[0][0]\n",
    "    '''\n",
    "    \n",
    "    #recieve reward based on the action\n",
    "    p_reward = O[:,state[play],int(actions[play])]\n",
    "    rewards[play] = npr.choice(2,p=p_reward) #bc of the way we set up the outcomes matrix, the first prob corresponds\n",
    "    #to not getting a reward, so we get a 0 for no reward and a 1 for a reward :)\n",
    "    \n",
    "    \n",
    "    '''\n",
    "    update trial matrix\n",
    "    1. time\n",
    "    2. port (1=right,2=left)\n",
    "    3. right port reward porb\n",
    "    4. left port reward prob\n",
    "    5. reward given 1/0\n",
    "    \n",
    "    obviously we won't encode a time.\n",
    "    '''\n",
    "    # action (port)\n",
    "    trials[play,0] = actions[play]+5 #the 2s need to become zeros after\n",
    "    \n",
    "    \n",
    "    if state[play] == 1: #we are in a 'left' state\n",
    "        trials[play,[1,2]] = [q,p]\n",
    "    else: # we are in a 'right' state\n",
    "        trials[play,[1,2]] = [p,q]\n",
    "    \n",
    "    # outcome (reward given y/n)\n",
    "    trials[play,3] = rewards[play]\n",
    "    \n",
    "    \n",
    "    #update beliefs\n",
    "    \n",
    "    #step 1: multiply by p(r_t | z_t = k, a_t)\n",
    "    belief_temp = O[int(rewards[play]),:,int(actions[play])] * beliefs[play]\n",
    "    \n",
    "    #step 2: sum over z_t, weighting by transition matrix\n",
    "    beliefs[play+1] = T.dot(belief_temp)\n",
    "    \n",
    "    #step 3: normalize\n",
    "    beliefs[play+1] /= beliefs[play+1].sum()\n",
    "\n",
    "#switch ports\n",
    "trials[trials[:,0] == 5,0] = 1\n",
    "trials[trials[:,0] == 6,0] = 2\n"
   ]
  },
  {
   "cell_type": "code",
   "execution_count": 31,
   "metadata": {
    "scrolled": false
   },
   "outputs": [
    {
     "data": {
      "text/plain": [
       "<matplotlib.text.Text at 0x11cdeab38>"
      ]
     },
     "execution_count": 31,
     "metadata": {},
     "output_type": "execute_result"
    },
    {
     "data": {
      "image/png": "[encoded data removed]",
      "text/plain": [
       "<matplotlib.figure.Figure at 0x11cba9b70>"
      ]
     },
     "metadata": {},
     "output_type": "display_data"
    }
   ],
   "source": [
    "# Plot\n",
    "sns.set_style('white')\n",
    "plt.figure(figsize=(8,8))\n",
    "\n",
    "plt.subplot(311)\n",
    "plt.plot(state, 'ko', markersize=10, markeredgecolor=\"none\", label=\"state\",alpha=1.0)\n",
    "plt.plot(actions, 'o',color='grey', markersize=6, markeredgecolor=\"none\", label=\"action\")\n",
    "#plt.plot(actions[np.where(rewards==1)], 'go', markersize=6, markeredgecolor=\"none\", label=\"action\")\n",
    "#plt.plot(actions[np.where(rewards==0)], 'bo', markersize=6, markeredgecolor=\"none\", label=\"action\")\n",
    "\n",
    "for x in range(0,n_plays,duration):\n",
    "    label = 'state transition' if x==0 else None\n",
    "    plt.vlines(x=x, ymin=0, ymax=1, color='grey', linestyles=':', label=label)\n",
    "plt.legend(loc=\"upper left\", bbox_to_anchor=(1.2,0.5,0,0))\n",
    "plt.yticks([0,1], [\"R\", \"L\"])\n",
    "plt.ylim(-0.05,1.05)\n",
    "\n",
    "plt.subplot(312)\n",
    "plt.plot(rewards, 'o',color='grey', markersize=8)\n",
    "plt.ylabel(\"Rewards\")\n",
    "plt.yticks([0,1])\n",
    "plt.ylim(-0.05,1.05)\n",
    "\n",
    "plt.subplot(313)\n",
    "plt.plot(np.arange(n_plays), beliefs[:-1, 0], color='black', label='p(z==right)')\n",
    "plt.plot(np.arange(n_plays), beliefs[:-1, 1], color='purple', label='p(z==left)')\n",
    "sns.despine(left=True)\n",
    "for x in range(0,n_plays,duration):\n",
    "    label = 'state transition' if x==0 else None\n",
    "    plt.vlines(x=x, ymin=0, ymax=1, color='grey', linestyles=':', label=label)\n",
    "plt.legend(loc=\"upper left\", bbox_to_anchor=(1.2,0.5,0,0))\n",
    "plt.ylim(0,1)\n",
    "plt.ylabel(\"Beliefs\")"
   ]
  },
  {
   "cell_type": "code",
   "execution_count": 14,
   "metadata": {},
   "outputs": [
    {
     "data": {
      "text/plain": [
       "array([ 0.,  1.,  0.,  0.,  1.,  0.,  0.,  0.,  0.,  0.,  0.,  0.,  0.,\n",
       "        1.,  1.,  1.,  1.,  1.,  1.,  0.,  1.,  1.,  1.,  0.,  0.,  0.,\n",
       "        0.,  0.,  0.,  0.,  0.,  0.,  0.,  0.,  0.,  1.,  1.,  1.,  1.,\n",
       "        1.,  1.,  1.,  1.,  1.,  1.,  1.,  1.,  1.,  1.,  1.,  1.,  1.,\n",
       "        1.,  0.,  0.,  0.,  0.,  0.,  0.,  0.,  0.,  0.,  0.,  0.,  0.])"
      ]
     },
     "execution_count": 14,
     "metadata": {},
     "output_type": "execute_result"
    }
   ],
   "source": [
    "actions[list(map(bool,rewards))]"
   ]
  },
  {
   "cell_type": "code",
   "execution_count": 15,
   "metadata": {},
   "outputs": [
    {
     "data": {
      "text/plain": [
       "array([ 0.,  1.,  0.,  0.,  1.,  0.,  0.,  0.,  0.,  0.,  0.,  0.,  0.,\n",
       "        1.,  1.,  1.,  1.,  1.,  1.,  0.,  1.,  1.,  1.,  0.,  0.,  0.,\n",
       "        0.,  0.,  0.,  0.,  0.,  0.,  0.,  0.,  0.,  1.,  1.,  1.,  1.,\n",
       "        1.,  1.,  1.,  1.,  1.,  1.,  1.,  1.,  1.,  1.,  1.,  1.,  1.,\n",
       "        1.,  0.,  0.,  0.,  0.,  0.,  0.,  0.,  0.,  0.,  0.,  0.,  0.])"
      ]
     },
     "execution_count": 15,
     "metadata": {},
     "output_type": "execute_result"
    }
   ],
   "source": [
    "actions[np.where(rewards==1)]"
   ]
  },
  {
   "cell_type": "code",
   "execution_count": 7,
   "metadata": {
    "collapsed": true
   },
   "outputs": [],
   "source": [
    "np.savetxt('/Users/shayneufeld/GitHub/mouse_bandit/data/trials_hmm_full_7030_greedy.csv',trials,delimiter=',')"
   ]
  }
 ],
 "metadata": {
  "anaconda-cloud": {},
  "kernelspec": {
   "display_name": "Python 3",
   "language": "python",
   "name": "python3"
  },
  "language_info": {
   "codemirror_mode": {
    "name": "ipython",
    "version": 3
   },
   "file_extension": ".py",
   "mimetype": "text/x-python",
   "name": "python",
   "nbconvert_exporter": "python",
   "pygments_lexer": "ipython3",
   "version": "3.6.1"
  }
 },
 "nbformat": 4,
 "nbformat_minor": 1
}
