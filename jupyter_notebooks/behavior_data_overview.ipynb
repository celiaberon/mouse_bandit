{
 "cells": [
  {
   "cell_type": "code",
   "execution_count": 1,
   "metadata": {},
   "outputs": [],
   "source": [
    "import pandas as pd\n",
    "import numpy as np\n",
    "import seaborn as sns\n",
    "import matplotlib.pyplot as plt\n",
    "\n",
    "%matplotlib inline"
   ]
  },
  {
   "cell_type": "code",
   "execution_count": 2,
   "metadata": {
    "collapsed": true
   },
   "outputs": [],
   "source": [
    "user = 'celia'"
   ]
  },
  {
   "cell_type": "code",
   "execution_count": 3,
   "metadata": {},
   "outputs": [
    {
     "data": {
      "text/html": [
       "<div>\n",
       "<style>\n",
       "    .dataframe thead tr:only-child th {\n",
       "        text-align: right;\n",
       "    }\n",
       "\n",
       "    .dataframe thead th {\n",
       "        text-align: left;\n",
       "    }\n",
       "\n",
       "    .dataframe tbody tr th {\n",
       "        vertical-align: top;\n",
       "    }\n",
       "</style>\n",
       "<table border=\"1\" class=\"dataframe\">\n",
       "  <thead>\n",
       "    <tr style=\"text-align: right;\">\n",
       "      <th></th>\n",
       "      <th>Owner</th>\n",
       "      <th>Session ID</th>\n",
       "      <th>Mouse ID</th>\n",
       "      <th>Date</th>\n",
       "      <th>Phase</th>\n",
       "      <th>Markov</th>\n",
       "      <th>Left Reward Prob</th>\n",
       "      <th>Right Reward Prob</th>\n",
       "      <th>Block Range Min</th>\n",
       "      <th>Block Range Max</th>\n",
       "      <th>No. Trials</th>\n",
       "      <th>No. Blocks</th>\n",
       "      <th>No. Rewards</th>\n",
       "      <th>p(high Port)</th>\n",
       "      <th>Decision Window Duration</th>\n",
       "      <th>Min Inter-trial-interval</th>\n",
       "      <th>Left Solenoid Duration</th>\n",
       "      <th>Right Solenoid Duration</th>\n",
       "    </tr>\n",
       "  </thead>\n",
       "  <tbody>\n",
       "    <tr>\n",
       "      <th>0</th>\n",
       "      <td>celia</td>\n",
       "      <td>01112018_Baby</td>\n",
       "      <td>Baby</td>\n",
       "      <td>2018-01-11</td>\n",
       "      <td>2.0</td>\n",
       "      <td>1</td>\n",
       "      <td>0.8</td>\n",
       "      <td>0.2</td>\n",
       "      <td>NaN</td>\n",
       "      <td>NaN</td>\n",
       "      <td>597.0</td>\n",
       "      <td>9.0</td>\n",
       "      <td>431.0</td>\n",
       "      <td>0.88</td>\n",
       "      <td>2.0</td>\n",
       "      <td>1.0</td>\n",
       "      <td>40.0</td>\n",
       "      <td>40.0</td>\n",
       "    </tr>\n",
       "    <tr>\n",
       "      <th>1</th>\n",
       "      <td>celia</td>\n",
       "      <td>01122018_Baby</td>\n",
       "      <td>Baby</td>\n",
       "      <td>2018-01-12</td>\n",
       "      <td>2.0</td>\n",
       "      <td>1</td>\n",
       "      <td>0.2</td>\n",
       "      <td>0.8</td>\n",
       "      <td>NaN</td>\n",
       "      <td>NaN</td>\n",
       "      <td>750.0</td>\n",
       "      <td>15.0</td>\n",
       "      <td>542.0</td>\n",
       "      <td>0.86</td>\n",
       "      <td>2.0</td>\n",
       "      <td>1.0</td>\n",
       "      <td>40.0</td>\n",
       "      <td>40.0</td>\n",
       "    </tr>\n",
       "    <tr>\n",
       "      <th>2</th>\n",
       "      <td>celia</td>\n",
       "      <td>01152018_Baby</td>\n",
       "      <td>Baby</td>\n",
       "      <td>2018-01-15</td>\n",
       "      <td>2.0</td>\n",
       "      <td>1</td>\n",
       "      <td>0.8</td>\n",
       "      <td>0.2</td>\n",
       "      <td>NaN</td>\n",
       "      <td>NaN</td>\n",
       "      <td>800.0</td>\n",
       "      <td>13.0</td>\n",
       "      <td>591.0</td>\n",
       "      <td>0.88</td>\n",
       "      <td>2.0</td>\n",
       "      <td>1.0</td>\n",
       "      <td>40.0</td>\n",
       "      <td>40.0</td>\n",
       "    </tr>\n",
       "    <tr>\n",
       "      <th>3</th>\n",
       "      <td>celia</td>\n",
       "      <td>01172018_Baby</td>\n",
       "      <td>Baby</td>\n",
       "      <td>2018-01-17</td>\n",
       "      <td>2.0</td>\n",
       "      <td>1</td>\n",
       "      <td>0.2</td>\n",
       "      <td>0.8</td>\n",
       "      <td>NaN</td>\n",
       "      <td>NaN</td>\n",
       "      <td>796.0</td>\n",
       "      <td>23.0</td>\n",
       "      <td>558.0</td>\n",
       "      <td>0.84</td>\n",
       "      <td>2.0</td>\n",
       "      <td>1.0</td>\n",
       "      <td>40.0</td>\n",
       "      <td>40.0</td>\n",
       "    </tr>\n",
       "    <tr>\n",
       "      <th>4</th>\n",
       "      <td>celia</td>\n",
       "      <td>01192018_Baby</td>\n",
       "      <td>Baby</td>\n",
       "      <td>2018-01-19</td>\n",
       "      <td>2.0</td>\n",
       "      <td>1</td>\n",
       "      <td>0.8</td>\n",
       "      <td>0.2</td>\n",
       "      <td>NaN</td>\n",
       "      <td>NaN</td>\n",
       "      <td>715.0</td>\n",
       "      <td>15.0</td>\n",
       "      <td>498.0</td>\n",
       "      <td>0.83</td>\n",
       "      <td>2.0</td>\n",
       "      <td>1.0</td>\n",
       "      <td>40.0</td>\n",
       "      <td>40.0</td>\n",
       "    </tr>\n",
       "  </tbody>\n",
       "</table>\n",
       "</div>"
      ],
      "text/plain": [
       "   Owner     Session ID Mouse ID        Date  Phase  Markov  Left Reward Prob  \\\n",
       "0  celia  01112018_Baby     Baby  2018-01-11    2.0       1               0.8   \n",
       "1  celia  01122018_Baby     Baby  2018-01-12    2.0       1               0.2   \n",
       "2  celia  01152018_Baby     Baby  2018-01-15    2.0       1               0.8   \n",
       "3  celia  01172018_Baby     Baby  2018-01-17    2.0       1               0.2   \n",
       "4  celia  01192018_Baby     Baby  2018-01-19    2.0       1               0.8   \n",
       "\n",
       "   Right Reward Prob  Block Range Min  Block Range Max  No. Trials  \\\n",
       "0                0.2              NaN              NaN       597.0   \n",
       "1                0.8              NaN              NaN       750.0   \n",
       "2                0.2              NaN              NaN       800.0   \n",
       "3                0.8              NaN              NaN       796.0   \n",
       "4                0.2              NaN              NaN       715.0   \n",
       "\n",
       "   No. Blocks  No. Rewards  p(high Port)  Decision Window Duration  \\\n",
       "0         9.0        431.0          0.88                       2.0   \n",
       "1        15.0        542.0          0.86                       2.0   \n",
       "2        13.0        591.0          0.88                       2.0   \n",
       "3        23.0        558.0          0.84                       2.0   \n",
       "4        15.0        498.0          0.83                       2.0   \n",
       "\n",
       "   Min Inter-trial-interval  Left Solenoid Duration  Right Solenoid Duration  \n",
       "0                       1.0                    40.0                     40.0  \n",
       "1                       1.0                    40.0                     40.0  \n",
       "2                       1.0                    40.0                     40.0  \n",
       "3                       1.0                    40.0                     40.0  \n",
       "4                       1.0                    40.0                     40.0  "
      ]
     },
     "execution_count": 3,
     "metadata": {},
     "output_type": "execute_result"
    }
   ],
   "source": [
    "df = pd.read_csv('/Users/{}/GitHub/mouse_bandit/celia_session_record.csv'.format(user),index_col=0)\n",
    "df.head()"
   ]
  },
  {
   "cell_type": "markdown",
   "metadata": {},
   "source": [
    "## Things to look at\n",
    "\n",
    "- how many sessions for each condition\n",
    "- how many sessions f(n) of p high port\n",
    "- distribution of trials (by condition)\n",
    "- distribution of rewards (by condition)"
   ]
  },
  {
   "cell_type": "markdown",
   "metadata": {},
   "source": [
    "## how many different mice"
   ]
  },
  {
   "cell_type": "code",
   "execution_count": 4,
   "metadata": {},
   "outputs": [
    {
     "data": {
      "text/plain": [
       "Mustard      144\n",
       "Raspberry    142\n",
       "Wine         141\n",
       "Sky          140\n",
       "Baby         140\n",
       "Dill         101\n",
       "Name: Mouse ID, dtype: int64"
      ]
     },
     "execution_count": 4,
     "metadata": {},
     "output_type": "execute_result"
    }
   ],
   "source": [
    "df['Mouse ID'].value_counts()"
   ]
  },
  {
   "cell_type": "markdown",
   "metadata": {},
   "source": [
    "## Number of sessions acquired"
   ]
  },
  {
   "cell_type": "code",
   "execution_count": 5,
   "metadata": {},
   "outputs": [],
   "source": [
    "#add a condition column to simplify things. It's annoying that 80-20 can have a left reward prob of 0.8 or 0.2\n",
    "\n",
    "df['condition'] = np.nan\n",
    "\n",
    "df.loc[((df['Left Reward Prob'] == 0.9) | (df['Left Reward Prob'] == 0.1)),'condition'] = '90-10'\n",
    "df.loc[((df['Left Reward Prob'] == 0.8) | (df['Left Reward Prob'] == 0.2)),'condition'] = '80-20'\n",
    "df.loc[((df['Left Reward Prob'] == 0.7) | (df['Left Reward Prob'] == 0.3)),'condition'] = '70-30'"
   ]
  },
  {
   "cell_type": "code",
   "execution_count": 6,
   "metadata": {
    "scrolled": true
   },
   "outputs": [
    {
     "name": "stdout",
     "output_type": "stream",
     "text": [
      "Condition | # trials\n"
     ]
    },
    {
     "data": {
      "text/plain": [
       "70-30    234\n",
       "90-10    174\n",
       "80-20    169\n",
       "Name: condition, dtype: int64"
      ]
     },
     "execution_count": 6,
     "metadata": {},
     "output_type": "execute_result"
    }
   ],
   "source": [
    "df = df[df['Markov']==1]\n",
    "print('Condition | # trials')\n",
    "df.condition.value_counts()"
   ]
  },
  {
   "cell_type": "markdown",
   "metadata": {},
   "source": [
    "There are 10 100-0 sesions. Let's ignore them for now"
   ]
  },
  {
   "cell_type": "code",
   "execution_count": 7,
   "metadata": {},
   "outputs": [],
   "source": [
    "df = df[~df.condition.isnull()]"
   ]
  },
  {
   "cell_type": "code",
   "execution_count": 8,
   "metadata": {},
   "outputs": [
    {
     "data": {
      "text/plain": [
       "(-0.1, 2.65)"
      ]
     },
     "execution_count": 8,
     "metadata": {},
     "output_type": "execute_result"
    },
    {
     "data": {
      "image/png": "[encoded data removed]",
      "text/plain": [
       "<matplotlib.figure.Figure at 0x111784588>"
      ]
     },
     "metadata": {},
     "output_type": "display_data"
    }
   ],
   "source": [
    "plt.figure(figsize=(5,5))\n",
    "plt.title('# of sessions acquired')\n",
    "plt.bar(left = [0,1,2],height = df.condition.value_counts(),width=0.5,color='black')\n",
    "plt.xticks([0.25,1.25,2.25],df.condition.value_counts().keys())\n",
    "plt.xlim(-0.1,2.65)"
   ]
  },
  {
   "cell_type": "code",
   "execution_count": 9,
   "metadata": {},
   "outputs": [
    {
     "data": {
      "image/png": "[encoded data removed]",
      "text/plain": [
       "<matplotlib.figure.Figure at 0x111819208>"
      ]
     },
     "metadata": {},
     "output_type": "display_data"
    }
   ],
   "source": [
    "conditions = df.condition.unique()\n",
    "\n",
    "plt.figure(figsize=(10,8))\n",
    "i = 1\n",
    "for condition in conditions:\n",
    "    \n",
    "    d = df[df.condition == condition]\n",
    "    plt.subplot(2,2,i)\n",
    "    d['p(high Port)'].hist(cumulative=True,bins=50,alpha=0.7,label=condition,normed=False,color='black')\n",
    "    plt.title(condition)\n",
    "    #plt.ylim(0,1.05)\n",
    "    plt.xlim(0,1)\n",
    "    i+=1"
   ]
  },
  {
   "cell_type": "code",
   "execution_count": 10,
   "metadata": {
    "scrolled": false
   },
   "outputs": [
    {
     "data": {
      "text/plain": [
       "<matplotlib.legend.Legend at 0x1153fecc0>"
      ]
     },
     "execution_count": 10,
     "metadata": {},
     "output_type": "execute_result"
    },
    {
     "data": {
      "image/png": "[encoded data removed]",
      "text/plain": [
       "<matplotlib.figure.Figure at 0x1153d6358>"
      ]
     },
     "metadata": {},
     "output_type": "display_data"
    }
   ],
   "source": [
    "conditions = df.condition.unique()\n",
    "\n",
    "plt.figure(figsize=(10,8))\n",
    "i = 1\n",
    "for condition in conditions:\n",
    "    \n",
    "    d = df[df.condition == condition]\n",
    "    d['p(high Port)'].hist(cumulative=True,bins=50,alpha=0.4,label=condition,normed=True)\n",
    "    plt.ylim(0,1.05)\n",
    "    plt.xlim(0,1)\n",
    "    \n",
    "plt.legend(bbox_to_anchor = (1.2,1))"
   ]
  },
  {
   "cell_type": "code",
   "execution_count": 11,
   "metadata": {},
   "outputs": [
    {
     "data": {
      "text/plain": [
       "(-0.1, 2.65)"
      ]
     },
     "execution_count": 11,
     "metadata": {},
     "output_type": "execute_result"
    },
    {
     "data": {
      "image/png": "[encoded data removed]",
      "text/plain": [
       "<matplotlib.figure.Figure at 0x1154c67f0>"
      ]
     },
     "metadata": {},
     "output_type": "display_data"
    }
   ],
   "source": [
    "conditions = df.condition.unique()\n",
    "num_trials = {}\n",
    "for condition in conditions:\n",
    "    num_trials[condition] = df[df.condition == condition]['No. Trials'].sum()\n",
    "    \n",
    "plt.figure(figsize=(5,5))\n",
    "plt.title('# of trials acquired')\n",
    "plt.bar(left = [0,1,2],height = num_trials.values(),width=0.5,color='black')\n",
    "plt.xticks([0.25,1.25,2.25],num_trials.keys())\n",
    "plt.xlim(-0.1,2.65)"
   ]
  },
  {
   "cell_type": "code",
   "execution_count": null,
   "metadata": {
    "collapsed": true
   },
   "outputs": [],
   "source": []
  }
 ],
 "metadata": {
  "anaconda-cloud": {},
  "kernelspec": {
   "display_name": "Python 3",
   "language": "python",
   "name": "python3"
  },
  "language_info": {
   "codemirror_mode": {
    "name": "ipython",
    "version": 3
   },
   "file_extension": ".py",
   "mimetype": "text/x-python",
   "name": "python",
   "nbconvert_exporter": "python",
   "pygments_lexer": "ipython3",
   "version": "3.6.1"
  }
 },
 "nbformat": 4,
 "nbformat_minor": 1
}
