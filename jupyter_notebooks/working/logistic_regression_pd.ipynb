{
 "cells": [
  {
   "cell_type": "code",
   "execution_count": 556,
   "metadata": {},
   "outputs": [],
   "source": [
    "import numpy as np\n",
    "import pandas as pd\n",
    "import matplotlib.pyplot as plt\n",
    "import sklearn\n",
    "from sklearn.linear_model import LogisticRegression\n",
    "from sklearn.model_selection import train_test_split\n",
    "\n",
    "import getpass\n",
    "username = getpass.getuser()\n",
    "\n",
    "import sys\n",
    "sys.path.append('/Users/{:}/GitHub/mouse_bandit/data_preprocessing_code'.format(username))\n",
    "sys.path.append('/Users/{:}/GitHub/mouse_bandit'.format(username))\n",
    "import support_functions as sf\n",
    "\n",
    "%matplotlib inline"
   ]
  },
  {
   "cell_type": "code",
   "execution_count": 557,
   "metadata": {},
   "outputs": [
    {
     "data": {
      "text/html": [
       "<div>\n",
       "<table border=\"1\" class=\"dataframe\">\n",
       "  <thead>\n",
       "    <tr style=\"text-align: right;\">\n",
       "      <th></th>\n",
       "      <th>index</th>\n",
       "      <th>Mouse ID</th>\n",
       "      <th>Session ID</th>\n",
       "      <th>Trial</th>\n",
       "      <th>Block Trial</th>\n",
       "      <th>Block Reward</th>\n",
       "      <th>Port Streak</th>\n",
       "      <th>Reward Streak</th>\n",
       "      <th>10_Port</th>\n",
       "      <th>10_Reward</th>\n",
       "      <th>...</th>\n",
       "      <th>1_trialDuration</th>\n",
       "      <th>0_ITI</th>\n",
       "      <th>0_trialDuration</th>\n",
       "      <th>Decision</th>\n",
       "      <th>Switch</th>\n",
       "      <th>Higher p port</th>\n",
       "      <th>Reward</th>\n",
       "      <th>Condition</th>\n",
       "      <th>Block ID</th>\n",
       "      <th>Current Block Length</th>\n",
       "    </tr>\n",
       "  </thead>\n",
       "  <tbody>\n",
       "    <tr>\n",
       "      <th>106400</th>\n",
       "      <td>0</td>\n",
       "      <td>Baby</td>\n",
       "      <td>01112018_Baby</td>\n",
       "      <td>11.0</td>\n",
       "      <td>11.0</td>\n",
       "      <td>5.0</td>\n",
       "      <td>2.0</td>\n",
       "      <td>-2.0</td>\n",
       "      <td>0.0</td>\n",
       "      <td>1.0</td>\n",
       "      <td>...</td>\n",
       "      <td>0.566</td>\n",
       "      <td>1.544</td>\n",
       "      <td>0.560</td>\n",
       "      <td>0.0</td>\n",
       "      <td>1.0</td>\n",
       "      <td>1.0</td>\n",
       "      <td>1.0</td>\n",
       "      <td>80-20</td>\n",
       "      <td>1.0</td>\n",
       "      <td>13.0</td>\n",
       "    </tr>\n",
       "    <tr>\n",
       "      <th>106401</th>\n",
       "      <td>1</td>\n",
       "      <td>Baby</td>\n",
       "      <td>01112018_Baby</td>\n",
       "      <td>12.0</td>\n",
       "      <td>12.0</td>\n",
       "      <td>6.0</td>\n",
       "      <td>1.0</td>\n",
       "      <td>1.0</td>\n",
       "      <td>0.0</td>\n",
       "      <td>1.0</td>\n",
       "      <td>...</td>\n",
       "      <td>0.560</td>\n",
       "      <td>2.506</td>\n",
       "      <td>0.497</td>\n",
       "      <td>0.0</td>\n",
       "      <td>0.0</td>\n",
       "      <td>1.0</td>\n",
       "      <td>1.0</td>\n",
       "      <td>80-20</td>\n",
       "      <td>1.0</td>\n",
       "      <td>13.0</td>\n",
       "    </tr>\n",
       "    <tr>\n",
       "      <th>106402</th>\n",
       "      <td>2</td>\n",
       "      <td>Baby</td>\n",
       "      <td>01112018_Baby</td>\n",
       "      <td>13.0</td>\n",
       "      <td>0.0</td>\n",
       "      <td>7.0</td>\n",
       "      <td>2.0</td>\n",
       "      <td>2.0</td>\n",
       "      <td>0.0</td>\n",
       "      <td>0.0</td>\n",
       "      <td>...</td>\n",
       "      <td>0.497</td>\n",
       "      <td>2.526</td>\n",
       "      <td>0.562</td>\n",
       "      <td>0.0</td>\n",
       "      <td>0.0</td>\n",
       "      <td>0.0</td>\n",
       "      <td>0.0</td>\n",
       "      <td>80-20</td>\n",
       "      <td>2.0</td>\n",
       "      <td>53.0</td>\n",
       "    </tr>\n",
       "    <tr>\n",
       "      <th>106403</th>\n",
       "      <td>3</td>\n",
       "      <td>Baby</td>\n",
       "      <td>01112018_Baby</td>\n",
       "      <td>14.0</td>\n",
       "      <td>1.0</td>\n",
       "      <td>0.0</td>\n",
       "      <td>3.0</td>\n",
       "      <td>-1.0</td>\n",
       "      <td>1.0</td>\n",
       "      <td>0.0</td>\n",
       "      <td>...</td>\n",
       "      <td>0.562</td>\n",
       "      <td>1.780</td>\n",
       "      <td>0.587</td>\n",
       "      <td>0.0</td>\n",
       "      <td>0.0</td>\n",
       "      <td>0.0</td>\n",
       "      <td>0.0</td>\n",
       "      <td>80-20</td>\n",
       "      <td>2.0</td>\n",
       "      <td>53.0</td>\n",
       "    </tr>\n",
       "    <tr>\n",
       "      <th>106404</th>\n",
       "      <td>4</td>\n",
       "      <td>Baby</td>\n",
       "      <td>01112018_Baby</td>\n",
       "      <td>15.0</td>\n",
       "      <td>2.0</td>\n",
       "      <td>0.0</td>\n",
       "      <td>4.0</td>\n",
       "      <td>-2.0</td>\n",
       "      <td>0.0</td>\n",
       "      <td>1.0</td>\n",
       "      <td>...</td>\n",
       "      <td>0.587</td>\n",
       "      <td>4.313</td>\n",
       "      <td>0.382</td>\n",
       "      <td>1.0</td>\n",
       "      <td>1.0</td>\n",
       "      <td>1.0</td>\n",
       "      <td>1.0</td>\n",
       "      <td>80-20</td>\n",
       "      <td>2.0</td>\n",
       "      <td>53.0</td>\n",
       "    </tr>\n",
       "  </tbody>\n",
       "</table>\n",
       "<p>5 rows × 57 columns</p>\n",
       "</div>"
      ],
      "text/plain": [
       "        index Mouse ID     Session ID  Trial  Block Trial  Block Reward  \\\n",
       "106400      0     Baby  01112018_Baby   11.0         11.0           5.0   \n",
       "106401      1     Baby  01112018_Baby   12.0         12.0           6.0   \n",
       "106402      2     Baby  01112018_Baby   13.0          0.0           7.0   \n",
       "106403      3     Baby  01112018_Baby   14.0          1.0           0.0   \n",
       "106404      4     Baby  01112018_Baby   15.0          2.0           0.0   \n",
       "\n",
       "        Port Streak  Reward Streak  10_Port  10_Reward          ...           \\\n",
       "106400          2.0           -2.0      0.0        1.0          ...            \n",
       "106401          1.0            1.0      0.0        1.0          ...            \n",
       "106402          2.0            2.0      0.0        0.0          ...            \n",
       "106403          3.0           -1.0      1.0        0.0          ...            \n",
       "106404          4.0           -2.0      0.0        1.0          ...            \n",
       "\n",
       "        1_trialDuration  0_ITI  0_trialDuration  Decision  Switch  \\\n",
       "106400            0.566  1.544            0.560       0.0     1.0   \n",
       "106401            0.560  2.506            0.497       0.0     0.0   \n",
       "106402            0.497  2.526            0.562       0.0     0.0   \n",
       "106403            0.562  1.780            0.587       0.0     0.0   \n",
       "106404            0.587  4.313            0.382       1.0     1.0   \n",
       "\n",
       "        Higher p port  Reward  Condition  Block ID  Current Block Length  \n",
       "106400            1.0     1.0      80-20       1.0                  13.0  \n",
       "106401            1.0     1.0      80-20       1.0                  13.0  \n",
       "106402            0.0     0.0      80-20       2.0                  53.0  \n",
       "106403            0.0     0.0      80-20       2.0                  53.0  \n",
       "106404            1.0     1.0      80-20       2.0                  53.0  \n",
       "\n",
       "[5 rows x 57 columns]"
      ]
     },
     "execution_count": 557,
     "metadata": {},
     "output_type": "execute_result"
    }
   ],
   "source": [
    "data = pd.read_csv('/Users/{:}/Dropbox (HMS)/mouse_bandit/markov_full.csv'.format(username), index_col=0)\n",
    "#data = data[data['Mouse ID']=='Baby']\n",
    "data = data[data['Condition']=='80-20']\n",
    "data.head()"
   ]
  },
  {
   "cell_type": "markdown",
   "metadata": {},
   "source": [
    "### make some new dataframes\n",
    "    X has predictor variables (choice and reward history for past n trials) relevant variables for logit model\n",
    "    Y has dependent variable (choice on current trial)"
   ]
  },
  {
   "cell_type": "code",
   "execution_count": 558,
   "metadata": {},
   "outputs": [],
   "source": [
    "#include past 10 choice and reward values (this is most convenient given the current data structure)\n",
    "port_features = []\n",
    "reward_features = []\n",
    "for col in data.columns:\n",
    "    if '_Port' in col:\n",
    "        port_features.append(col)\n",
    "    if '_Reward' in col:\n",
    "        reward_features.append(col)\n",
    "        \n",
    "choice_history = data[port_features]\n",
    "reward_history = data[reward_features]\n",
    "\n",
    "switch_cols = ['9_Switch','8_Switch','7_Switch','6_Switch','5_Switch','4_Switch','3_Switch','2_Switch','1_Switch']\n",
    "switch_history = pd.DataFrame(np.abs(np.diff((choice_history))))\n",
    "switch_history.columns=switch_cols\n",
    "switch_history.index=reward_history.index\n",
    "\n",
    "X_choice = pd.concat([choice_history.drop('10_Port', axis=1), reward_history.drop('10_Reward', axis=1)], axis=1)\n",
    "\n",
    "X_switch = pd.concat([switch_history, reward_history.drop('10_Reward', axis=1)], axis=1)\n",
    "\n",
    "X_choice_switch = pd.concat([switch_history, choice_history.drop('10_Port', axis=1), reward_history.drop('10_Reward', axis=1)], axis=1)\n",
    "\n",
    "# value = L when choice = 0 and reward = 1 or when choice = 1 and reward = 0 \n",
    "# value = R when choice = 1 and reward = 1 or when choice = 0 and reward = 0\n",
    "X_value_history = (choice_history.values==reward_history.values).astype('int') # gives action value with R=1, L=0\n",
    "\n",
    "Y_switch = data['Switch']\n",
    "\n",
    "Y_choice = data['Decision']\n"
   ]
  },
  {
   "cell_type": "markdown",
   "metadata": {},
   "source": [
    "### Logistic regression\n",
    "Compare training on port choice (lr_port) vs training on switch (lr_switch)"
   ]
  },
  {
   "cell_type": "markdown",
   "metadata": {},
   "source": [
    "### lr1 - train on port choice to predict port choice\n",
    "#### Evaluate performance on predicting choice and predicting switches"
   ]
  },
  {
   "cell_type": "code",
   "execution_count": 559,
   "metadata": {},
   "outputs": [
    {
     "name": "stderr",
     "output_type": "stream",
     "text": [
      "/Users/celiaberon/anaconda/lib/python3.6/site-packages/sklearn/metrics/classification.py:1113: UndefinedMetricWarning: Precision and F-score are ill-defined and being set to 0.0 in labels with no predicted samples.\n",
      "  'precision', 'predicted', average, warn_for)\n"
     ]
    }
   ],
   "source": [
    "X_train, X_test, y_train, y_test_choice = train_test_split(X_choice, Y_choice, test_size=0.3, random_state=1)\n",
    "\n",
    "lr1_choice = LogisticRegression()\n",
    "lr1_choice.fit(X_train, y_train)\n",
    "\n",
    "lr1_choice_proba = lr1_choice.predict_proba(X_test)\n",
    "lr1_choice_predict = lr1_choice.predict(X_test)\n",
    "\n",
    "score_lr1_choice = lr1_choice.score(X_test, y_test_choice)\n",
    "metrics_lr1_choice = sklearn.metrics.precision_recall_fscore_support(y_test_choice, lr1_choice_predict)\n",
    "\n",
    "prev_choice = X_test['1_Port']\n",
    "true_switch = np.abs(y_test_choice-prev_choice)\n",
    "lr1_switch_predict = np.abs(lr1_choice_predict-prev_choice)\n",
    "metrics_lr1_switch = sklearn.metrics.precision_recall_fscore_support(true_switch, lr1_switch_predict)\n",
    "\n",
    "#acc_pos,acc_neg,F1=sf.score_both_and_confuse(lr1_switch_predict,Y_test_switch,confusion=False,disp=True)"
   ]
  },
  {
   "cell_type": "markdown",
   "metadata": {},
   "source": [
    "### lr2 - train on switches to predict switches"
   ]
  },
  {
   "cell_type": "code",
   "execution_count": 560,
   "metadata": {
    "collapsed": true
   },
   "outputs": [],
   "source": [
    "# redefine training and testing sets to use switch history and current switch decision\n",
    "X_train, X_test, y_train, y_test = train_test_split(X_switch, Y_switch, test_size=0.3, random_state=1)\n",
    "\n",
    "# train and test LR\n",
    "lr2_switch = LogisticRegression()\n",
    "lr2_switch.fit(X_train, y_train)\n",
    "\n",
    "lr2_switch_proba = lr2_switch.predict_proba(X_test)\n",
    "lr2_switch_predict = lr2_switch.predict(X_test)\n",
    "\n",
    "score_lr2_switch = lr2_switch.score(X_test, y_test)\n",
    "metrics_lr2_switch = sklearn.metrics.precision_recall_fscore_support(y_test, lr2_switch_predict)\n"
   ]
  },
  {
   "cell_type": "code",
   "execution_count": 561,
   "metadata": {},
   "outputs": [
    {
     "data": {
      "text/plain": [
       "(array([ 0.9673328 ,  0.33304598]),\n",
       " array([ 0.92530733,  0.54413146]),\n",
       " array([ 0.94585348,  0.41319073]),\n",
       " array([31074,  2130]))"
      ]
     },
     "execution_count": 561,
     "metadata": {},
     "output_type": "execute_result"
    }
   ],
   "source": [
    "test = lr2_switch_proba[:,1]>0.2\n",
    "sklearn.metrics.precision_recall_fscore_support(y_test, test)"
   ]
  },
  {
   "cell_type": "code",
   "execution_count": 562,
   "metadata": {},
   "outputs": [
    {
     "data": {
      "text/plain": [
       "(array([  2.53530000e+04,   2.90700000e+03,   1.88100000e+03,\n",
       "          1.56300000e+03,   7.00000000e+02,   4.15000000e+02,\n",
       "          2.11000000e+02,   1.11000000e+02,   5.40000000e+01,\n",
       "          9.00000000e+00]),\n",
       " array([ 0.00545636,  0.07950938,  0.1535624 ,  0.22761542,  0.30166844,\n",
       "         0.37572147,  0.44977449,  0.52382751,  0.59788053,  0.67193355,\n",
       "         0.74598658]),\n",
       " <a list of 10 Patch objects>)"
      ]
     },
     "execution_count": 562,
     "metadata": {},
     "output_type": "execute_result"
    },
    {
     "data": {
      "image/png": "[encoded data removed]",
      "text/plain": [
       "<matplotlib.figure.Figure at 0x138d06550>"
      ]
     },
     "metadata": {},
     "output_type": "display_data"
    }
   ],
   "source": [
    "plt.hist(lr2_switch_proba[:,1])"
   ]
  },
  {
   "cell_type": "markdown",
   "metadata": {},
   "source": [
    "### lr2.1 - change decision boundary"
   ]
  },
  {
   "cell_type": "code",
   "execution_count": 563,
   "metadata": {
    "collapsed": true
   },
   "outputs": [],
   "source": [
    "metrics_db = []\n",
    "decision_boundaries = np.arange(0.05,0.6,0.05)\n",
    "for boundary in decision_boundaries:\n",
    "    temp_predict = lr2_switch_proba[:,1]>boundary\n",
    "    metrics_temp = sklearn.metrics.precision_recall_fscore_support(y_test, temp_predict)\n",
    "    metrics_db.append(metrics_temp)"
   ]
  },
  {
   "cell_type": "code",
   "execution_count": 564,
   "metadata": {},
   "outputs": [
    {
     "data": {
      "text/plain": [
       "array([ 0.05,  0.1 ,  0.15,  0.2 ,  0.25,  0.3 ,  0.35,  0.4 ,  0.45,\n",
       "        0.5 ,  0.55])"
      ]
     },
     "execution_count": 564,
     "metadata": {},
     "output_type": "execute_result"
    }
   ],
   "source": [
    "decision_boundaries"
   ]
  },
  {
   "cell_type": "code",
   "execution_count": 565,
   "metadata": {},
   "outputs": [
    {
     "data": {
      "text/plain": [
       "[(array([ 0.98768797,  0.16608595]),\n",
       "  array([ 0.69962026,  0.87276995]),\n",
       "  array([ 0.81906377,  0.27906628]),\n",
       "  array([31074,  2130])),\n",
       " (array([ 0.98108454,  0.24606776]),\n",
       "  array([ 0.83957649,  0.76384977]),\n",
       "  array([ 0.90483127,  0.37222604]),\n",
       "  array([31074,  2130])),\n",
       " (array([ 0.97458708,  0.28316633]),\n",
       "  array([ 0.88488769,  0.66338028]),\n",
       "  array([ 0.92757388,  0.39691011]),\n",
       "  array([31074,  2130])),\n",
       " (array([ 0.9673328 ,  0.33304598]),\n",
       "  array([ 0.92530733,  0.54413146]),\n",
       "  array([ 0.94585348,  0.41319073]),\n",
       "  array([31074,  2130])),\n",
       " (array([ 0.96048266,  0.37225386]),\n",
       "  array([ 0.95034434,  0.42957746]),\n",
       "  array([ 0.95538661,  0.39886661]),\n",
       "  array([31074,  2130])),\n",
       " (array([ 0.95256131,  0.4122288 ]),\n",
       "  array([ 0.97122997,  0.2943662 ]),\n",
       "  array([ 0.96180506,  0.34346754]),\n",
       "  array([31074,  2130])),\n",
       " (array([ 0.94664762,  0.4107677 ]),\n",
       "  array([ 0.98098088,  0.19342723]),\n",
       "  array([ 0.96350849,  0.2630067 ]),\n",
       "  array([31074,  2130])),\n",
       " (array([ 0.94205389,  0.38906752]),\n",
       "  array([ 0.98777113,  0.11361502]),\n",
       "  array([ 0.96437099,  0.17587209]),\n",
       "  array([31074,  2130])),\n",
       " (array([ 0.93976418,  0.39947781]),\n",
       "  array([ 0.99259831,  0.07183099]),\n",
       "  array([ 0.96545896,  0.12176681]),\n",
       "  array([31074,  2130])),\n",
       " (array([ 0.93822816,  0.3852459 ]),\n",
       "  array([ 0.99517281,  0.04413146]),\n",
       "  array([ 0.96586189,  0.07919124]),\n",
       "  array([31074,  2130])),\n",
       " (array([ 0.93693503,  0.34645669]),\n",
       "  array([ 0.99732896,  0.02065728]),\n",
       "  array([ 0.96618915,  0.03898981]),\n",
       "  array([31074,  2130]))]"
      ]
     },
     "execution_count": 565,
     "metadata": {},
     "output_type": "execute_result"
    }
   ],
   "source": [
    "metrics_db"
   ]
  },
  {
   "cell_type": "code",
   "execution_count": 566,
   "metadata": {},
   "outputs": [],
   "source": [
    "y_predict = lr2_switch_proba[:,1] > 0.2\n",
    "\n",
    "score_switch_2 = 1-(np.sum(np.abs(y_predict - y_test)) / (len(y_test)))\n",
    "#switch_predict_2 = np.abs([y_predict[n,1] - X_test[n,8] for n in range(len(y_predict))])\n",
    "\n",
    "metrics_switch_3 = sklearn.metrics.precision_recall_fscore_support(y_test, y_predict)\n"
   ]
  },
  {
   "cell_type": "code",
   "execution_count": 567,
   "metadata": {},
   "outputs": [
    {
     "data": {
      "text/plain": [
       "<matplotlib.legend.Legend at 0x11ad0d240>"
      ]
     },
     "execution_count": 567,
     "metadata": {},
     "output_type": "execute_result"
    },
    {
     "data": {
      "image/png": "[encoded data removed]",
      "text/plain": [
       "<matplotlib.figure.Figure at 0x11ad02ef0>"
      ]
     },
     "metadata": {},
     "output_type": "display_data"
    }
   ],
   "source": [
    "height_a = [score_lr1_choice, metrics_lr1_switch[1][0], metrics_lr1_switch[1][1]]\n",
    "height_b = [score_lr2_switch, metrics_lr2_switch[1][0], metrics_lr2_switch[1][1]]\n",
    "height_c = [score_switch_2, metrics_switch_3[1][0], metrics_switch_3[1][1]]\n",
    "\n",
    "barWidth = 0.3\n",
    "# The x position of bars\n",
    "r1 = np.arange(len(height_b))\n",
    "r2 = [x + barWidth for x in r1]\n",
    "r3 = [x + barWidth for x in r2]\n",
    "\n",
    "conditions = ['full', 'stay', 'switch']\n",
    "plt.bar(r1, height_a, width=barWidth, label='lr_choice')\n",
    "plt.bar(r2, height_b, width=barWidth, label='lr_switch')\n",
    "plt.bar(r3, height_c, width=barWidth, label='lr_switch, db=.1')\n",
    "plt.xticks(range(len(height_b)), conditions)\n",
    "plt.ylabel('accuracy (f1)')\n",
    "plt.legend()"
   ]
  },
  {
   "cell_type": "markdown",
   "metadata": {},
   "source": [
    "### lr3 - use action value to predict choice"
   ]
  },
  {
   "cell_type": "code",
   "execution_count": 568,
   "metadata": {},
   "outputs": [],
   "source": [
    "# redefine training set to use value history\n",
    "X_train, X_test, y_train, y_test_choice = train_test_split(X_value_history, Y_choice, test_size=0.3, random_state=1)\n",
    "\n",
    "# train and test LR\n",
    "lr3_value = LogisticRegression()\n",
    "lr3_value.fit(X_train, y_train)\n",
    "\n",
    "lr3_value_proba = lr3_value.predict_proba(X_test)\n",
    "lr3_value_predict = lr3_value.predict(X_test)\n",
    "\n",
    "score_lr3_value_choice = lr3_value.score(X_test, y_test_choice)\n",
    "metrics_lr3_value = sklearn.metrics.precision_recall_fscore_support(y_test_choice, lr3_value_predict)\n",
    "\n",
    "lr3_switch_predict = np.abs(lr3_value_predict-prev_choice)\n",
    "#lr3_switch_predict = np.abs([lr3_value_predict[n] - X_test[n,8] for n in range(len(lr3_value_predict))])\n",
    "metrics_lr3_switch = sklearn.metrics.precision_recall_fscore_support(y_test_choice, lr3_switch_predict)\n",
    "\n",
    "#score_switch_2 = 1-(np.sum([np.abs(lr3_value_predict[i] - Y_test_switch[i]) for i in range(len(Y_test_switch))])/(len(Y_test_switch)))\n"
   ]
  },
  {
   "cell_type": "markdown",
   "metadata": {},
   "source": [
    "### what about a logistic regression with more inputs?"
   ]
  },
  {
   "cell_type": "code",
   "execution_count": 569,
   "metadata": {},
   "outputs": [
    {
     "name": "stderr",
     "output_type": "stream",
     "text": [
      "/Users/celiaberon/anaconda/lib/python3.6/site-packages/sklearn/metrics/classification.py:1113: UndefinedMetricWarning: Precision and F-score are ill-defined and being set to 0.0 in labels with no predicted samples.\n",
      "  'precision', 'predicted', average, warn_for)\n"
     ]
    }
   ],
   "source": [
    "#train on proportion of data up to the 'cutoff.' hold out the rest as test data.\n",
    "X_train, X_test, y_train, y_test_choice = train_test_split(X_choice_switch, Y_choice, test_size=0.3, random_state=1)\n",
    "\n",
    "# train and test LR\n",
    "lr4_multi = LogisticRegression()\n",
    "lr4_multi.fit(X_train, y_train)\n",
    "\n",
    "lr4_multi_proba = lr4_multi.predict_proba(X_test)\n",
    "lr4_multi_predict = lr4_multi.predict(X_test)\n",
    "\n",
    "score_lr4_multi_choice = lr4_multi.score(X_test, y_test_choice)\n",
    "metrics_lr4_choice = sklearn.metrics.precision_recall_fscore_support(y_test_choice, lr4_multi_predict)\n",
    "\n",
    "lr4_switch_predict = np.abs(lr4_multi_predict-prev_choice)\n",
    "#lr4_switch_predict = np.abs([lr4_multi_predict[n] - X_test[n,8] for n in range(len(lr4_multi_predict))])\n",
    "metrics_lr4_switch = sklearn.metrics.precision_recall_fscore_support(true_switch, lr4_switch_predict)\n",
    "\n",
    "#score_switch_2 = 1-(np.sum([np.abs(lr4_multi_predict[i] - Y_test_switch[i]) for i in range(len(Y_test_switch))])/(len(Y_test_switch)))\n",
    "\n",
    "'''\n",
    "Now train to predict switches\n",
    "'''\n",
    "\n",
    "X_train, X_test, y_train, y_test = train_test_split(X_choice_switch, Y_switch, test_size=0.3, random_state=1)\n",
    "\n",
    "lr5_multi = LogisticRegression()\n",
    "lr5_multi.fit(X_train, y_train)\n",
    "\n",
    "lr5_multi_proba = lr5_multi.predict_proba(X_test)\n",
    "lr5_multi_predict = lr5_multi.predict(X_test)\n",
    "\n",
    "score_lr5_multi_switch = lr5_multi.score(X_test, y_test)\n",
    "metrics_lr5_switch = sklearn.metrics.precision_recall_fscore_support(y_test, lr5_multi_predict)\n"
   ]
  },
  {
   "cell_type": "markdown",
   "metadata": {},
   "source": [
    "## F1 score"
   ]
  },
  {
   "cell_type": "code",
   "execution_count": 570,
   "metadata": {},
   "outputs": [
    {
     "data": {
      "text/plain": [
       "<matplotlib.legend.Legend at 0x12d86e5f8>"
      ]
     },
     "execution_count": 570,
     "metadata": {},
     "output_type": "execute_result"
    },
    {
     "data": {
      "image/png": "[encoded data removed]",
      "text/plain": [
       "<matplotlib.figure.Figure at 0x11aa2c048>"
      ]
     },
     "metadata": {},
     "output_type": "display_data"
    }
   ],
   "source": [
    "height_a = [score_lr1_choice, metrics_lr1_switch[2][0], metrics_lr1_switch[2][1]]\n",
    "height_b = [score_lr2_switch, metrics_lr2_switch[2][0], metrics_lr2_switch[2][1]]\n",
    "height_c = [score_lr3_value_choice, metrics_lr3_switch[2][0], metrics_lr3_switch[2][1]]\n",
    "height_d = [score_lr4_multi_choice, metrics_lr4_switch[2][0], metrics_lr4_switch[2][1]]\n",
    "height_e = [score_lr5_multi_switch, metrics_lr5_switch[2][0], metrics_lr5_switch[2][1]]\n",
    "\n",
    "barWidth = 0.1\n",
    "# The x position of bars\n",
    "r1 = np.arange(len(height_b))\n",
    "r2 = [x + barWidth for x in r1]\n",
    "r3 = [x + barWidth for x in r2]\n",
    "r4 = [x + barWidth for x in r3]\n",
    "r5 = [x + barWidth for x in r4]\n",
    "\n",
    "conditions = ['full', 'stay', 'switch']\n",
    "plt.bar(r1, height_a, width=barWidth, label='lr1_choice')\n",
    "plt.bar(r2, height_b, width=barWidth, label='lr2_switch')\n",
    "plt.bar(r3, height_c, width=barWidth, label='lr3_value')\n",
    "plt.bar(r4, height_d, width=barWidth, label='lr4_multi_choice')\n",
    "plt.bar(r5, height_e, width=barWidth, label='lr5_multi_switch')\n",
    "\n",
    "plt.xticks(range(len(height_b)), conditions)\n",
    "plt.ylabel('f1')\n",
    "plt.legend()"
   ]
  },
  {
   "cell_type": "markdown",
   "metadata": {},
   "source": [
    "## Accuracy/recall\n",
    "### predicted switches/stays out of total true switches/stays"
   ]
  },
  {
   "cell_type": "code",
   "execution_count": 571,
   "metadata": {},
   "outputs": [
    {
     "data": {
      "text/plain": [
       "<matplotlib.legend.Legend at 0x11e554b70>"
      ]
     },
     "execution_count": 571,
     "metadata": {},
     "output_type": "execute_result"
    },
    {
     "data": {
      "image/png": "[encoded data removed]",
      "text/plain": [
       "<matplotlib.figure.Figure at 0x11d211ef0>"
      ]
     },
     "metadata": {},
     "output_type": "display_data"
    }
   ],
   "source": [
    "height_a = [score_lr1_choice, metrics_lr1_switch[1][0], metrics_lr1_switch[1][1]]\n",
    "height_b = [score_lr2_switch, metrics_lr2_switch[1][0], metrics_lr2_switch[1][1]]\n",
    "height_c = [score_lr3_value_choice, metrics_lr3_switch[1][0], metrics_lr3_switch[1][1]]\n",
    "height_d = [score_lr4_multi_choice, metrics_lr4_switch[1][0], metrics_lr4_switch[1][1]]\n",
    "height_e = [score_lr5_multi_switch, metrics_lr5_switch[1][0], metrics_lr5_switch[1][1]]\n",
    "\n",
    "barWidth = 0.1\n",
    "# The x position of bars\n",
    "r1 = np.arange(len(height_b))\n",
    "r2 = [x + barWidth for x in r1]\n",
    "r3 = [x + barWidth for x in r2]\n",
    "r4 = [x + barWidth for x in r3]\n",
    "r5 = [x + barWidth for x in r4]\n",
    "\n",
    "conditions = ['full', 'stay', 'switch']\n",
    "plt.bar(r1, height_a, width=barWidth, label='lr1_choice')\n",
    "plt.bar(r2, height_b, width=barWidth, label='lr2_switch')\n",
    "plt.bar(r3, height_c, width=barWidth, label='lr3_value')\n",
    "plt.bar(r4, height_d, width=barWidth, label='lr4_multi_choice')\n",
    "plt.bar(r5, height_e, width=barWidth, label='lr5_multi_switch')\n",
    "\n",
    "plt.xticks(range(len(height_b)), conditions)\n",
    "plt.ylabel('accuracy')\n",
    "plt.legend()"
   ]
  },
  {
   "cell_type": "code",
   "execution_count": 572,
   "metadata": {},
   "outputs": [
    {
     "data": {
      "text/plain": [
       "<matplotlib.legend.Legend at 0x11b7e3c50>"
      ]
     },
     "execution_count": 572,
     "metadata": {},
     "output_type": "execute_result"
    },
    {
     "data": {
      "image/png": "[encoded data removed]",
      "text/plain": [
       "<matplotlib.figure.Figure at 0x11ad3af60>"
      ]
     },
     "metadata": {},
     "output_type": "display_data"
    }
   ],
   "source": [
    "from sklearn.metrics import roc_curve, roc_auc_score\n",
    "\n",
    "fpr, tpr, _ = roc_curve(y_test_choice, lr1_choice_proba[:,1])\n",
    "plt.plot(fpr, tpr, label=\"LR1_PORT\")\n",
    "\n",
    "fpr, tpr, _ = roc_curve(y_test, lr2_switch_proba[:,1])\n",
    "plt.plot(fpr, tpr, label=\"LR2_SWITCH\")\n",
    "\n",
    "fpr, tpr, _ = roc_curve(y_test_choice, lr3_value_proba[:,1])\n",
    "plt.plot(fpr, tpr, label=\"LR3_VALUE\")\n",
    "\n",
    "fpr, tpr, _ = roc_curve(y_test_choice, lr4_multi_proba[:,1])\n",
    "plt.plot(fpr, tpr, label=\"LR4_MULTI\")\n",
    "\n",
    "fpr, tpr, _ = roc_curve(y_test, lr5_multi_proba[:,1])\n",
    "plt.plot(fpr, tpr, label=\"LR5_MULTI\")\n",
    "\n",
    "plt.plot([0, 1], [0, 1], ':k')\n",
    "plt.xlabel('false postive rate')\n",
    "plt.ylabel('true positive rate')\n",
    "\n",
    "plt.legend(loc='lower right')"
   ]
  },
  {
   "cell_type": "code",
   "execution_count": 573,
   "metadata": {},
   "outputs": [
    {
     "data": {
      "text/plain": [
       "array([[  1.71109698e-01,   2.79426083e-01,   1.48025543e-01,\n",
       "          1.92838278e-01,   2.07636109e-01,   3.69509408e-01,\n",
       "          3.48499483e-01,   4.80193586e-01,   4.03263523e+00,\n",
       "          2.30711289e-02,   6.13550700e-02,  -4.90156716e-02,\n",
       "          1.03935919e-01,  -4.03401290e-02,  -2.66459878e-03,\n",
       "          6.01904951e-02,   1.75792815e-02,  -2.40016025e-02]])"
      ]
     },
     "execution_count": 573,
     "metadata": {},
     "output_type": "execute_result"
    }
   ],
   "source": [
    "lr1_choice.coef_"
   ]
  },
  {
   "cell_type": "code",
   "execution_count": 574,
   "metadata": {},
   "outputs": [],
   "source": [
    "#plt.plot(np.arange(lr1_choice.coef_.shape[1]-10),lr1_choice.coef_[0][0:10]) # to only include one type of parameters"
   ]
  }
 ],
 "metadata": {
  "kernelspec": {
   "display_name": "Python 3",
   "language": "python",
   "name": "python3"
  },
  "language_info": {
   "codemirror_mode": {
    "name": "ipython",
    "version": 3
   },
   "file_extension": ".py",
   "mimetype": "text/x-python",
   "name": "python",
   "nbconvert_exporter": "python",
   "pygments_lexer": "ipython3",
   "version": "3.6.1"
  }
 },
 "nbformat": 4,
 "nbformat_minor": 2
}
