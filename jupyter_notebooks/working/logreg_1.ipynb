{
 "cells": [
  {
   "cell_type": "code",
   "execution_count": 1,
   "metadata": {
    "collapsed": true
   },
   "outputs": [],
   "source": [
    "import getpass\n",
    "user_name = getpass.getuser()"
   ]
  },
  {
   "cell_type": "code",
   "execution_count": 2,
   "metadata": {},
   "outputs": [],
   "source": [
    "import getpass\n",
    "import pandas as pd\n",
    "import sys\n",
    "sys.path.append('/Users/{}/GitHub/mouse_bandit/jupyter_notebooks/helper_functions'.format(user_name))\n",
    "import lr_simulation\n",
    "import numpy as np"
   ]
  },
  {
   "cell_type": "code",
   "execution_count": 3,
   "metadata": {
    "collapsed": true
   },
   "outputs": [],
   "source": [
    "data = pd.read_csv('/Users/{:}/Dropbox (HMS)/mouse_bandit/markov_full.csv'.format(user_name), index_col=0)"
   ]
  },
  {
   "cell_type": "code",
   "execution_count": 4,
   "metadata": {},
   "outputs": [],
   "source": [
    "#include past 10 choice and reward values (this is most convenient given the current data structure)\n",
    "choice_history = []\n",
    "reward_history = []\n",
    "for col in data.columns:\n",
    "    if '_Port' in col:\n",
    "        choice_history.append(data[col][:])\n",
    "    elif '_Reward' in col:\n",
    "        reward_history.append(data[col][:])\n",
    "        \n",
    "choice_history = np.transpose(np.asarray(choice_history))\n",
    "reward_history = np.transpose(np.asarray(reward_history))\n",
    "switch_history = np.abs(np.diff(choice_history)) # right now just missing whether or not switched on n-10 trial\n",
    "\n",
    "#current trial decision and outcome \n",
    "choice = []\n",
    "reward = []\n",
    "switch = []\n",
    "\n",
    "for col in data.columns:\n",
    "    if 'Decision' in col:\n",
    "        #print(col)\n",
    "        choice.append(data[col][:])\n",
    "    elif 'Reward' in col:\n",
    "        #print(col)\n",
    "        reward.append(data[col][:])\n",
    "    elif 'Switch' in col:\n",
    "        switch.append(data[col][:])\n",
    "\n",
    "choice = np.transpose(np.asarray(choice))\n",
    "reward = np.transpose(np.asarray(reward))\n",
    "switch = np.transpose(np.asarray(switch))"
   ]
  },
  {
   "cell_type": "code",
   "execution_count": 13,
   "metadata": {
    "collapsed": true
   },
   "outputs": [],
   "source": [
    "# set up as X and Y for logistic regression (X contains all predictors)\n",
    "X_choice = np.column_stack((choice_history, reward_history)) # n-1 to n-10 trial choices and outcomes\n",
    "X_switch = np.column_stack((switch_history, reward_history[:,0:9])) # n-1 to n-10 trial switches and outcomes\n",
    "\n",
    "Y_choice = choice.ravel() # current trial choices\n",
    "Y_switch = switch.ravel() # current trial switches"
   ]
  },
  {
   "cell_type": "code",
   "execution_count": 14,
   "metadata": {},
   "outputs": [],
   "source": [
    "metrics, lr_predict, lr_proba, lr_score=lr_simulation.lr_bandit(X_switch, Y_switch, n_simulations=10)\n",
    "metrics2, lr_predict2, lr_proba2, lr_score2=lr_simulation.lr_bandit(X_choice, Y_choice, n_simulations=10)"
   ]
  },
  {
   "cell_type": "code",
   "execution_count": 16,
   "metadata": {},
   "outputs": [
    {
     "data": {
      "image/png": "[encoded data removed]",
      "text/plain": [
       "<matplotlib.figure.Figure at 0x116f60400>"
      ]
     },
     "metadata": {},
     "output_type": "display_data"
    }
   ],
   "source": [
    "import matplotlib.pyplot as plt\n",
    "n_simulations=10\n",
    "height_a = [np.mean(lr_score), np.mean(metrics[2,0,:]), np.mean(metrics[2,1,:])]\n",
    "ystd1 = [np.std(lr_score), np.std(metrics[2,0,:]), np.std(metrics[2,1,:])]\n",
    "yerr1 = [ystd1[i] / np.sqrt(n_simulations) for i in range(len(ystd1))]\n",
    "\n",
    "height_b = [np.mean(lr_score2), np.mean(metrics2[2,0,:]), np.mean(metrics2[2,1,:])]\n",
    "ystd2 = [np.std(lr_score2), np.std(metrics2[2,0,:]), np.std(metrics2[2,1,:])]\n",
    "yerr2 = [ystd2[i] / np.sqrt(n_simulations) for i in range(len(ystd2))]\n",
    "\n",
    "\n",
    "\n",
    "barWidth = 0.3\n",
    "# The x position of bars\n",
    "r1 = np.arange(len(height_a))\n",
    "r2 = np.arange(len(height_a))+barWidth\n",
    "\n",
    "conditions = ['full', 'stay', 'switch']\n",
    "plt.bar(r1, height_a, width=barWidth, label='lr_switch', yerr=yerr1, capsize=3)\n",
    "plt.bar(r2, height_b, width=barWidth, label='lr_choice', yerr=yerr2, capsize=3)\n",
    "\n",
    "\n",
    "plt.xticks(range(len(height_a)), conditions)\n",
    "plt.ylabel('accuracy (f1)')\n",
    "plt.legend()\n",
    "plt.show()"
   ]
  },
  {
   "cell_type": "code",
   "execution_count": null,
   "metadata": {
    "collapsed": true
   },
   "outputs": [],
   "source": []
  }
 ],
 "metadata": {
  "kernelspec": {
   "display_name": "Python 3",
   "language": "python",
   "name": "python3"
  },
  "language_info": {
   "codemirror_mode": {
    "name": "ipython",
    "version": 3
   },
   "file_extension": ".py",
   "mimetype": "text/x-python",
   "name": "python",
   "nbconvert_exporter": "python",
   "pygments_lexer": "ipython3",
   "version": "3.6.1"
  }
 },
 "nbformat": 4,
 "nbformat_minor": 2
}
