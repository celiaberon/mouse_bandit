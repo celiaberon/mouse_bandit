{
 "cells": [
  {
   "cell_type": "code",
   "execution_count": 1,
   "metadata": {
    "collapsed": true
   },
   "outputs": [],
   "source": [
    "import numpy as np\n",
    "from glob import glob\n",
    "import tifffile\n",
    "from tempfile import TemporaryFile\n",
    "import os\n",
    "import cv2 as cv"
   ]
  },
  {
   "cell_type": "code",
   "execution_count": 2,
   "metadata": {
    "collapsed": true
   },
   "outputs": [],
   "source": [
    "path_name = '/Volumes/Neurobio/MICROSCOPE/FormerLabMembers/Graduate Student/Shay/Data/in_vivo_imaging/Archive/bandit/k1_111816_bandit_8020'\n",
    "os.chdir(path_name)"
   ]
  },
  {
   "cell_type": "code",
   "execution_count": 3,
   "metadata": {},
   "outputs": [
    {
     "data": {
      "text/plain": [
       "['test_downsampled.tif',\n",
       " 'recording_20161118_161105-002.tif',\n",
       " 'recording_20161118_161105-003.tif',\n",
       " 'recording_20161118_161105-004.tif',\n",
       " 'recording_20161118_161105-005.tif',\n",
       " 'recording_20161118_161105-006.tif',\n",
       " 'recording_20161118_161105-007.tif',\n",
       " 'recording_20161118_161105-008.tif',\n",
       " 'recording_20161118_161105-009.tif',\n",
       " 'recording_20161118_161105-010.tif',\n",
       " 'recording_20161118_161105-011.tif',\n",
       " 'recording_20161118_161105-012.tif',\n",
       " 'recording_20161118_161105-013.tif',\n",
       " 'recording_20161118_161105-014.tif',\n",
       " 'recording_20161118_161105-015.tif',\n",
       " 'recording_20161118_161105-016.tif',\n",
       " 'recording_20161118_161105-017.tif',\n",
       " 'recording_20161118_161105-018.tif',\n",
       " 'recording_20161118_161105-019.tif',\n",
       " 'recording_20161118_161105-020.tif',\n",
       " 'recording_20161118_161105-021.tif',\n",
       " 'recording_20161118_161105-022.tif',\n",
       " 'recording_20161118_161105-023.tif',\n",
       " 'recording_20161118_161105-024.tif',\n",
       " 'recording_20161118_161105-025.tif',\n",
       " 'recording_20161118_161105-026.tif',\n",
       " 'recording_20161118_161105-027.tif',\n",
       " 'recording_20161118_161105-028.tif',\n",
       " 'recording_20161118_161105-029.tif',\n",
       " 'recording_20161118_161105-030.tif',\n",
       " 'recording_20161118_161105-031.tif',\n",
       " 'recording_20161118_161105-032.tif',\n",
       " 'recording_20161118_161105-033.tif',\n",
       " 'recording_20161118_161105-034.tif',\n",
       " 'recording_20161118_161105-035.tif',\n",
       " 'recording_20161118_161105.tif',\n",
       " 'test.tif',\n",
       " 'test_downsampled-000tif']"
      ]
     },
     "execution_count": 3,
     "metadata": {},
     "output_type": "execute_result"
    }
   ],
   "source": [
    "tiffs = sorted(glob('*.tif'))\n",
    "temp = tiffs[-1]\n",
    "tiffs[-1] = (tiffs[-1][0:-4]+'-000'+'tif')\n",
    "tiffs = sorted(tiffs)\n",
    "tiffs[0] = temp\n",
    "tiffs"
   ]
  },
  {
   "cell_type": "code",
   "execution_count": null,
   "metadata": {},
   "outputs": [
    {
     "name": "stderr",
     "output_type": "stream",
     "text": [
      "/Users/celia/anaconda/lib/python3.6/site-packages/tifffile/tifffile.py:2894: UserWarning: invalid page offset (3888157382)\n",
      "  warnings.warn('invalid page offset (%i)' % offset)\n"
     ]
    }
   ],
   "source": [
    "with tifffile.TiffWriter('test_downsampled.tif', bigtiff=True, append=True) as tif:\n",
    "    for tiff in range(len(tiffs)):\n",
    "        temp = tifffile.imread(tiffs[tiff]) # read in tiffs one at a time\n",
    "        dim1 = temp.shape[0] # number of frames\n",
    "        dim2 = temp.shape[1]\n",
    "        dim3 = temp.shape[2]\n",
    "        # now spatially downsample by 4\n",
    "        temp = [cv.resize(temp[i,:,:], (dim2//4, dim3//4), interpolation=cv.INTER_AREA) for i in range(dim1)]\n",
    "        for i in range(dim1):\n",
    "            tif.save(temp[i]) # save full FOV frame by frame"
   ]
  },
  {
   "cell_type": "code",
   "execution_count": 85,
   "metadata": {},
   "outputs": [
    {
     "data": {
      "text/plain": [
       "(680, 360, 270)"
      ]
     },
     "execution_count": 85,
     "metadata": {},
     "output_type": "execute_result"
    }
   ],
   "source": [
    "np.shape(temp)"
   ]
  },
  {
   "cell_type": "code",
   "execution_count": 81,
   "metadata": {},
   "outputs": [
    {
     "data": {
      "text/plain": [
       "(1349, 1080, 1440)"
      ]
     },
     "execution_count": 81,
     "metadata": {},
     "output_type": "execute_result"
    }
   ],
   "source": [
    "np.shape(temp)"
   ]
  }
 ],
 "metadata": {
  "kernelspec": {
   "display_name": "Python 3",
   "language": "python",
   "name": "python3"
  },
  "language_info": {
   "codemirror_mode": {
    "name": "ipython",
    "version": 3
   },
   "file_extension": ".py",
   "mimetype": "text/x-python",
   "name": "python",
   "nbconvert_exporter": "python",
   "pygments_lexer": "ipython3",
   "version": "3.6.1"
  }
 },
 "nbformat": 4,
 "nbformat_minor": 2
}
