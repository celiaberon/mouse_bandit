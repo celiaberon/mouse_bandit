{
 "cells": [
  {
   "cell_type": "code",
   "execution_count": 1,
   "metadata": {
    "collapsed": true
   },
   "outputs": [],
   "source": [
    "user_name = 'celia'"
   ]
  },
  {
   "cell_type": "code",
   "execution_count": 2,
   "metadata": {
    "collapsed": true
   },
   "outputs": [],
   "source": [
    "import sys\n",
    "sys.path.append('/Users/{}/GitHub/mouse_bandit/data_preprocessing_code'.format(user_name))\n",
    "sys.path.append('/Users/{}/GitHub/mouse_bandit'.format(user_name))\n",
    "import support_functions as sf\n",
    "import numpy as np\n",
    "import pandas as pd\n",
    "import scipy as sp\n",
    "import bandit_preprocessing as bp\n",
    "import os\n",
    "import matplotlib\n",
    "import matplotlib.pyplot as plt\n",
    "import seaborn as sns\n",
    "import add_columns_feature_matrix as fm_add\n",
    "%matplotlib inline"
   ]
  },
  {
   "cell_type": "code",
   "execution_count": 4,
   "metadata": {},
   "outputs": [
    {
     "data": {
      "text/plain": [
       "(259890, 53)"
      ]
     },
     "execution_count": 4,
     "metadata": {},
     "output_type": "execute_result"
    }
   ],
   "source": [
    "record = pd.read_csv('/Users/{}/GitHub/mouse_bandit/celia_session_record.csv'.format(user_name),index_col=0)\n",
    "\n",
    "data=pd.read_csv('/Users/{}/GitHub/mouse_bandit/data/processed_data/markov_master.csv'.format(user_name),index_col=0)\n",
    "data.shape"
   ]
  },
  {
   "cell_type": "code",
   "execution_count": 5,
   "metadata": {},
   "outputs": [
    {
     "data": {
      "text/html": [
       "<div>\n",
       "<style>\n",
       "    .dataframe thead tr:only-child th {\n",
       "        text-align: right;\n",
       "    }\n",
       "\n",
       "    .dataframe thead th {\n",
       "        text-align: left;\n",
       "    }\n",
       "\n",
       "    .dataframe tbody tr th {\n",
       "        vertical-align: top;\n",
       "    }\n",
       "</style>\n",
       "<table border=\"1\" class=\"dataframe\">\n",
       "  <thead>\n",
       "    <tr style=\"text-align: right;\">\n",
       "      <th></th>\n",
       "      <th>index</th>\n",
       "      <th>Mouse ID</th>\n",
       "      <th>Session ID</th>\n",
       "      <th>Trial</th>\n",
       "      <th>Block Trial</th>\n",
       "      <th>Block Reward</th>\n",
       "      <th>Port Streak</th>\n",
       "      <th>Reward Streak</th>\n",
       "      <th>10_Port</th>\n",
       "      <th>10_Reward</th>\n",
       "      <th>...</th>\n",
       "      <th>1_trialDuration</th>\n",
       "      <th>0_ITI</th>\n",
       "      <th>0_trialDuration</th>\n",
       "      <th>Decision</th>\n",
       "      <th>Switch</th>\n",
       "      <th>Higher p port</th>\n",
       "      <th>Reward</th>\n",
       "      <th>Condition</th>\n",
       "      <th>Block ID</th>\n",
       "      <th>Current Block Length</th>\n",
       "    </tr>\n",
       "  </thead>\n",
       "  <tbody>\n",
       "    <tr>\n",
       "      <th>321466</th>\n",
       "      <td>788</td>\n",
       "      <td>Dill</td>\n",
       "      <td>01262018_Dill</td>\n",
       "      <td>799.0</td>\n",
       "      <td>79.0</td>\n",
       "      <td>43.0</td>\n",
       "      <td>1.0</td>\n",
       "      <td>1.0</td>\n",
       "      <td>0.0</td>\n",
       "      <td>1.0</td>\n",
       "      <td>...</td>\n",
       "      <td>0.650</td>\n",
       "      <td>1.258</td>\n",
       "      <td>0.583</td>\n",
       "      <td>0.0</td>\n",
       "      <td>0.0</td>\n",
       "      <td>1.0</td>\n",
       "      <td>0.0</td>\n",
       "      <td>70-30</td>\n",
       "      <td>14.0</td>\n",
       "      <td>84.0</td>\n",
       "    </tr>\n",
       "    <tr>\n",
       "      <th>321467</th>\n",
       "      <td>789</td>\n",
       "      <td>Dill</td>\n",
       "      <td>01262018_Dill</td>\n",
       "      <td>800.0</td>\n",
       "      <td>80.0</td>\n",
       "      <td>43.0</td>\n",
       "      <td>2.0</td>\n",
       "      <td>-1.0</td>\n",
       "      <td>1.0</td>\n",
       "      <td>0.0</td>\n",
       "      <td>...</td>\n",
       "      <td>0.583</td>\n",
       "      <td>29.830</td>\n",
       "      <td>0.640</td>\n",
       "      <td>1.0</td>\n",
       "      <td>1.0</td>\n",
       "      <td>0.0</td>\n",
       "      <td>0.0</td>\n",
       "      <td>70-30</td>\n",
       "      <td>14.0</td>\n",
       "      <td>84.0</td>\n",
       "    </tr>\n",
       "    <tr>\n",
       "      <th>321468</th>\n",
       "      <td>790</td>\n",
       "      <td>Dill</td>\n",
       "      <td>01262018_Dill</td>\n",
       "      <td>801.0</td>\n",
       "      <td>81.0</td>\n",
       "      <td>43.0</td>\n",
       "      <td>1.0</td>\n",
       "      <td>-2.0</td>\n",
       "      <td>0.0</td>\n",
       "      <td>1.0</td>\n",
       "      <td>...</td>\n",
       "      <td>0.640</td>\n",
       "      <td>1.491</td>\n",
       "      <td>0.307</td>\n",
       "      <td>1.0</td>\n",
       "      <td>0.0</td>\n",
       "      <td>0.0</td>\n",
       "      <td>0.0</td>\n",
       "      <td>70-30</td>\n",
       "      <td>14.0</td>\n",
       "      <td>84.0</td>\n",
       "    </tr>\n",
       "    <tr>\n",
       "      <th>321469</th>\n",
       "      <td>791</td>\n",
       "      <td>Dill</td>\n",
       "      <td>01262018_Dill</td>\n",
       "      <td>802.0</td>\n",
       "      <td>82.0</td>\n",
       "      <td>43.0</td>\n",
       "      <td>2.0</td>\n",
       "      <td>-3.0</td>\n",
       "      <td>0.0</td>\n",
       "      <td>0.0</td>\n",
       "      <td>...</td>\n",
       "      <td>0.307</td>\n",
       "      <td>12.839</td>\n",
       "      <td>0.566</td>\n",
       "      <td>1.0</td>\n",
       "      <td>0.0</td>\n",
       "      <td>0.0</td>\n",
       "      <td>1.0</td>\n",
       "      <td>70-30</td>\n",
       "      <td>14.0</td>\n",
       "      <td>84.0</td>\n",
       "    </tr>\n",
       "    <tr>\n",
       "      <th>321470</th>\n",
       "      <td>792</td>\n",
       "      <td>Dill</td>\n",
       "      <td>01262018_Dill</td>\n",
       "      <td>803.0</td>\n",
       "      <td>83.0</td>\n",
       "      <td>44.0</td>\n",
       "      <td>3.0</td>\n",
       "      <td>1.0</td>\n",
       "      <td>1.0</td>\n",
       "      <td>1.0</td>\n",
       "      <td>...</td>\n",
       "      <td>0.566</td>\n",
       "      <td>1.426</td>\n",
       "      <td>0.689</td>\n",
       "      <td>1.0</td>\n",
       "      <td>0.0</td>\n",
       "      <td>0.0</td>\n",
       "      <td>0.0</td>\n",
       "      <td>70-30</td>\n",
       "      <td>14.0</td>\n",
       "      <td>84.0</td>\n",
       "    </tr>\n",
       "  </tbody>\n",
       "</table>\n",
       "<p>5 rows × 57 columns</p>\n",
       "</div>"
      ],
      "text/plain": [
       "        index Mouse ID     Session ID  Trial  Block Trial  Block Reward  \\\n",
       "321466    788     Dill  01262018_Dill  799.0         79.0          43.0   \n",
       "321467    789     Dill  01262018_Dill  800.0         80.0          43.0   \n",
       "321468    790     Dill  01262018_Dill  801.0         81.0          43.0   \n",
       "321469    791     Dill  01262018_Dill  802.0         82.0          43.0   \n",
       "321470    792     Dill  01262018_Dill  803.0         83.0          44.0   \n",
       "\n",
       "        Port Streak  Reward Streak  10_Port  10_Reward          ...           \\\n",
       "321466          1.0            1.0      0.0        1.0          ...            \n",
       "321467          2.0           -1.0      1.0        0.0          ...            \n",
       "321468          1.0           -2.0      0.0        1.0          ...            \n",
       "321469          2.0           -3.0      0.0        0.0          ...            \n",
       "321470          3.0            1.0      1.0        1.0          ...            \n",
       "\n",
       "        1_trialDuration   0_ITI  0_trialDuration  Decision  Switch  \\\n",
       "321466            0.650   1.258            0.583       0.0     0.0   \n",
       "321467            0.583  29.830            0.640       1.0     1.0   \n",
       "321468            0.640   1.491            0.307       1.0     0.0   \n",
       "321469            0.307  12.839            0.566       1.0     0.0   \n",
       "321470            0.566   1.426            0.689       1.0     0.0   \n",
       "\n",
       "        Higher p port  Reward  Condition  Block ID  Current Block Length  \n",
       "321466            1.0     0.0      70-30      14.0                  84.0  \n",
       "321467            0.0     0.0      70-30      14.0                  84.0  \n",
       "321468            0.0     0.0      70-30      14.0                  84.0  \n",
       "321469            0.0     1.0      70-30      14.0                  84.0  \n",
       "321470            0.0     0.0      70-30      14.0                  84.0  \n",
       "\n",
       "[5 rows x 57 columns]"
      ]
     },
     "execution_count": 5,
     "metadata": {},
     "output_type": "execute_result"
    }
   ],
   "source": [
    "data90 = pd.read_csv('/Users/{}/GitHub/mouse_bandit/data/processed_data/markov_9010.csv'.format(user_name),index_col=0)\n",
    "data80 = pd.read_csv('/Users/{}/GitHub/mouse_bandit/data/processed_data/markov_8020.csv'.format(user_name),index_col=0)\n",
    "data70 = pd.read_csv('/Users/{}/GitHub/mouse_bandit/data/processed_data/markov_7030.csv'.format(user_name),index_col=0)\n",
    "data90['Condition'] = '90-10'\n",
    "data80['Condition'] = '80-20'\n",
    "data70['Condition'] = '70-30'\n",
    "data = data90.append(data80)\n",
    "data = data.append(data70)\n",
    "\n",
    "# add single index sequence for all rows\n",
    "data = data.reset_index()\n",
    "data.shape\n",
    "\n",
    "data = fm_add.add_block_ids(data, record, [], user_name)\n",
    "data.tail(5)"
   ]
  },
  {
   "cell_type": "code",
   "execution_count": 6,
   "metadata": {
    "collapsed": true
   },
   "outputs": [],
   "source": [
    "data_match_blocks = data[data['Current Block Length']<90] # take only blocks with fewer than 90 trials\n",
    "data_match_blocks = data_match_blocks[data_match_blocks['Current Block Length']>50] # blocks with 30+ trials\n",
    "datas = data_match_blocks.copy()"
   ]
  },
  {
   "cell_type": "code",
   "execution_count": 13,
   "metadata": {},
   "outputs": [
    {
     "name": "stdout",
     "output_type": "stream",
     "text": [
      "TOTALS\n",
      "# trials included = 124181\n",
      "# sessions included = 440\n",
      "# blocks = 1859\n",
      "mean block length = 68.99\n"
     ]
    }
   ],
   "source": [
    "# some stats\n",
    "print('TOTALS')\n",
    "print('# trials included =', datas.shape[0])\n",
    "\n",
    "print('# sessions included =', len(np.unique(datas['Session ID'])))# sessions that contain blocks of these lengths\n",
    "\n",
    "temp = np.diff(datas['Block ID'].values)\n",
    "print('# blocks =', np.sum(np.abs(temp)>0))\n",
    "\n",
    "print('mean block length =', np.round(np.mean(datas['Current Block Length']), decimals=2))"
   ]
  },
  {
   "cell_type": "code",
   "execution_count": 23,
   "metadata": {},
   "outputs": [
    {
     "name": "stdout",
     "output_type": "stream",
     "text": [
      "\n",
      " 90-10\n",
      "# trials included for 90-10 = 51111\n",
      "# sessions included for 90-10 = 144\n",
      "# blocks for 90-10 = 798\n",
      "mean block length = 65.74\n",
      "\n",
      " 80-20\n",
      "# trials included for 80-20 = 32150\n",
      "# sessions included for 80-20 = 142\n",
      "# blocks for 80-20 = 481\n",
      "mean block length = 68.88\n",
      "\n",
      " 70-30\n",
      "# trials included for 70-30 = 40920\n",
      "# sessions included for 70-30 = 154\n",
      "# blocks for 70-30 = 578\n",
      "mean block length = 73.13\n"
     ]
    }
   ],
   "source": [
    "conditions = ['90-10', '80-20', '70-30']\n",
    "ntrials = []\n",
    "for i in conditions:\n",
    "    print('\\n', i)\n",
    "    print('# trials included for', i, '=', datas[datas['Condition']==i].shape[0])\n",
    "    ntrials.append(datas[datas['Condition']==i].shape[0])\n",
    "    print('# sessions included for', i, '=', len(np.unique(datas[datas['Condition']==i]['Session ID'])))# sessions that contain blocks of these lengths\n",
    "\n",
    "    temp = np.diff(datas[datas['Condition']==i]['Block ID'].values)\n",
    "    print('# blocks for', i, '=', np.sum(np.abs(temp)>0))\n",
    "\n",
    "    print('mean block length =', np.round(np.mean(datas[datas['Condition']==i]['Current Block Length']), decimals=2))\n",
    "    "
   ]
  },
  {
   "cell_type": "code",
   "execution_count": 32,
   "metadata": {},
   "outputs": [
    {
     "data": {
      "text/plain": [
       "{'boxes': [<matplotlib.lines.Line2D at 0x119210898>],\n",
       " 'caps': [<matplotlib.lines.Line2D at 0x119218cc0>,\n",
       "  <matplotlib.lines.Line2D at 0x11921fba8>],\n",
       " 'fliers': [<matplotlib.lines.Line2D at 0x119227c88>],\n",
       " 'means': [],\n",
       " 'medians': [<matplotlib.lines.Line2D at 0x11921fda0>],\n",
       " 'whiskers': [<matplotlib.lines.Line2D at 0x119210a90>,\n",
       "  <matplotlib.lines.Line2D at 0x119218ac8>]}"
      ]
     },
     "execution_count": 32,
     "metadata": {},
     "output_type": "execute_result"
    },
    {
     "data": {
      "image/png": "[encoded data removed]",
      "text/plain": [
       "<matplotlib.figure.Figure at 0x118d2b2b0>"
      ]
     },
     "metadata": {},
     "output_type": "display_data"
    }
   ],
   "source": [
    "plt.boxplot(ntrials, conditions)"
   ]
  },
  {
   "cell_type": "code",
   "execution_count": 40,
   "metadata": {},
   "outputs": [
    {
     "data": {
      "text/plain": [
       "<Container object of 3 artists>"
      ]
     },
     "execution_count": 40,
     "metadata": {},
     "output_type": "execute_result"
    },
    {
     "data": {
      "image/png": "[encoded data removed]",
      "text/plain": [
       "<matplotlib.figure.Figure at 0x118b69b70>"
      ]
     },
     "metadata": {},
     "output_type": "display_data"
    }
   ],
   "source": [
    "plt.bar([1,2,3], ntrials)"
   ]
  },
  {
   "cell_type": "code",
   "execution_count": null,
   "metadata": {
    "collapsed": true
   },
   "outputs": [],
   "source": []
  }
 ],
 "metadata": {
  "kernelspec": {
   "display_name": "Python 3",
   "language": "python",
   "name": "python3"
  },
  "language_info": {
   "codemirror_mode": {
    "name": "ipython",
    "version": 3
   },
   "file_extension": ".py",
   "mimetype": "text/x-python",
   "name": "python",
   "nbconvert_exporter": "python",
   "pygments_lexer": "ipython3",
   "version": "3.6.1"
  }
 },
 "nbformat": 4,
 "nbformat_minor": 2
}
