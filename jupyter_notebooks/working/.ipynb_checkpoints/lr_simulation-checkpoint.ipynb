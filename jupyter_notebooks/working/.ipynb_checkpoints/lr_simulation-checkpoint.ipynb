{
 "cells": [
  {
   "cell_type": "code",
   "execution_count": 1,
   "metadata": {
    "collapsed": true
   },
   "outputs": [],
   "source": [
    "import numpy as np\n",
    "from sklearn.linear_model import LogisticRegression\n",
    "import sklearn\n",
    "import pandas as pd\n",
    "import matplotlib.pyplot as plt"
   ]
  },
  {
   "cell_type": "code",
   "execution_count": 2,
   "metadata": {
    "collapsed": true
   },
   "outputs": [],
   "source": [
    "X = np.random.randint(2,size=100)\n",
    "X2 = np.random.randint(2,size=100)\n",
    "X = np.column_stack((X,X2))\n",
    "Y = np.transpose(np.random.randint(2,size=100))"
   ]
  },
  {
   "cell_type": "code",
   "execution_count": 9,
   "metadata": {
    "collapsed": true
   },
   "outputs": [],
   "source": [
    "def logreg_predict_proba_metrics(X, y, n_simulations=1000, cutoff=0.7, sync=False, seed=[]):\n",
    "\n",
    "    # select seed for each simulation\n",
    "    if len(seed)!=n_simulations:\n",
    "        seed = np.random.randint(100000, size=n_simulations)\n",
    "\n",
    "    # initialize arrays for LR results\n",
    "    lr_predict = np.zeros((int((1-cutoff)*len(X)),n_simulations))\n",
    "    lr_proba = np.zeros((int((1-cutoff)*len(X)), 2))\n",
    "    lr_score = np.zeros(n_simulations)\n",
    "    metrics = np.zeros((4,2))\n",
    "\n",
    "    for i in range(n_simulations):\n",
    "        np.random.seed(seed[i])\n",
    "        idx = np.random.permutation(len(X))\n",
    "        idx_train = idx[0:int(len(X)*cutoff)]\n",
    "        idx_test = idx[int(len(X)*cutoff):]\n",
    "\n",
    "        X_train = X[idx_train]\n",
    "        X_test = X[idx_test]\n",
    "\n",
    "        Y_train = Y[idx_train]\n",
    "        Y_test = Y[idx_test]\n",
    "\n",
    "        lr = LogisticRegression()\n",
    "        lr.fit(X_train, Y_train)\n",
    "        print(X_test.shape)\n",
    "        print(Y_test.shape)\n",
    "        lr_proba = np.dstack((lr_proba, lr.predict_proba(X_test)))\n",
    "        lr_predict[:,i] = lr.predict(X_test)\n",
    "        lr_score[i] = lr.score(X_test, Y_test)\n",
    "        metrics_temp = sklearn.metrics.precision_recall_fscore_support(Y_test, lr_predict[:,i])\n",
    "        metrics = np.dstack((metrics, np.array(metrics_temp)))\n",
    "        \n",
    "        #lr1_switch_predict = np.abs([lr1_choice_predict[n] - X_test[n,9] for n in range(len(lr1_choice_predict))])\n",
    "        #lr1_metrics_switch = sklearn.metrics.precision_recall_fscore_support(Y_test_switch, lr1_switch_predict[:,i])\n",
    "\n",
    "    # clean up from initializing 3d stacks with zeros\n",
    "    metrics = metrics[:,:,1:n_simulations+1]\n",
    "    lr_proba = lr_proba[:,:,1:n_simulations+1]\n",
    "    \n",
    "    \n",
    "    \n",
    "    if sync==True: \n",
    "        return metrics, lr_predict, lr_proba, lr_score, seed\n",
    "    return metrics, lr_predict, lr_proba, lr_score"
   ]
  },
  {
   "cell_type": "code",
   "execution_count": 4,
   "metadata": {},
   "outputs": [
    {
     "data": {
      "text/plain": [
       "(100,)"
      ]
     },
     "execution_count": 4,
     "metadata": {},
     "output_type": "execute_result"
    }
   ],
   "source": [
    "Y.shape"
   ]
  },
  {
   "cell_type": "code",
   "execution_count": 5,
   "metadata": {},
   "outputs": [
    {
     "data": {
      "text/plain": [
       "(100, 2)"
      ]
     },
     "execution_count": 5,
     "metadata": {},
     "output_type": "execute_result"
    }
   ],
   "source": [
    "X.shape"
   ]
  },
  {
   "cell_type": "code",
   "execution_count": 10,
   "metadata": {},
   "outputs": [
    {
     "name": "stdout",
     "output_type": "stream",
     "text": [
      "(30, 2)\n",
      "(30,)\n",
      "(30, 2)\n",
      "(30,)\n",
      "(30, 2)\n",
      "(30,)\n",
      "(30, 2)\n",
      "(30,)\n",
      "(30, 2)\n",
      "(30,)\n",
      "(30, 2)\n",
      "(30,)\n",
      "(30, 2)\n",
      "(30,)\n",
      "(30, 2)\n",
      "(30,)\n",
      "(30, 2)\n",
      "(30,)\n",
      "(30, 2)\n",
      "(30,)\n"
     ]
    }
   ],
   "source": [
    "metrics, lr_predict, lr_proba, lr_score = lr_bandit(X, Y, n_simulations=10)"
   ]
  },
  {
   "cell_type": "code",
   "execution_count": 7,
   "metadata": {},
   "outputs": [
    {
     "data": {
      "image/png": "[encoded data removed]",
      "text/plain": [
       "<matplotlib.figure.Figure at 0x111f50748>"
      ]
     },
     "metadata": {},
     "output_type": "display_data"
    }
   ],
   "source": [
    "import matplotlib.pyplot as plt\n",
    "n_simulations=10\n",
    "height_a = [np.mean(lr_score), np.mean(metrics[2,0,:]), np.mean(metrics[2,1,:])]\n",
    "ystd1 = [np.std(lr_score), np.std(metrics[2,0,:]), np.std(metrics[2,1,:])]\n",
    "yerr1 = [ystd1[i] / np.sqrt(n_simulations) for i in range(len(ystd1))]\n",
    "\n",
    "barWidth = 0.3\n",
    "# The x position of bars\n",
    "r1 = np.arange(len(height_a))\n",
    "\n",
    "conditions = ['full', 'stay', 'switch']\n",
    "plt.bar(r1, height_a, width=barWidth, label='lr_choice', yerr=yerr1, capsize=3)\n",
    "\n",
    "plt.xticks(range(len(height_a)), conditions)\n",
    "plt.ylabel('accuracy (f1)')\n",
    "plt.legend()\n",
    "plt.show()"
   ]
  },
  {
   "cell_type": "code",
   "execution_count": null,
   "metadata": {
    "collapsed": true
   },
   "outputs": [],
   "source": []
  }
 ],
 "metadata": {
  "kernelspec": {
   "display_name": "Python 3",
   "language": "python",
   "name": "python3"
  },
  "language_info": {
   "codemirror_mode": {
    "name": "ipython",
    "version": 3
   },
   "file_extension": ".py",
   "mimetype": "text/x-python",
   "name": "python",
   "nbconvert_exporter": "python",
   "pygments_lexer": "ipython3",
   "version": "3.6.1"
  }
 },
 "nbformat": 4,
 "nbformat_minor": 2
}
