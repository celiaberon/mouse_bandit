{
 "cells": [
  {
   "cell_type": "code",
   "execution_count": 2,
   "metadata": {
    "collapsed": true
   },
   "outputs": [],
   "source": [
    "import numpy as np\n",
    "from sklearn.linear_model import LogisticRegression\n",
    "import sklearn"
   ]
  },
  {
   "cell_type": "code",
   "execution_count": 34,
   "metadata": {},
   "outputs": [
    {
     "ename": "ValueError",
     "evalue": "all the input array dimensions except for the concatenation axis must match exactly",
     "output_type": "error",
     "traceback": [
      "\u001b[0;31m---------------------------------------------------------------------------\u001b[0m",
      "\u001b[0;31mValueError\u001b[0m                                Traceback (most recent call last)",
      "\u001b[0;32m<ipython-input-34-be89fcc8ff09>\u001b[0m in \u001b[0;36m<module>\u001b[0;34m()\u001b[0m\n\u001b[0;32m----> 1\u001b[0;31m \u001b[0mlr_bandit\u001b[0m\u001b[0;34m(\u001b[0m\u001b[0mX\u001b[0m\u001b[0;34m,\u001b[0m \u001b[0mY\u001b[0m\u001b[0;34m,\u001b[0m \u001b[0mn_simulations\u001b[0m\u001b[0;34m=\u001b[0m\u001b[0;36m10\u001b[0m\u001b[0;34m)\u001b[0m\u001b[0;34m\u001b[0m\u001b[0m\n\u001b[0m",
      "\u001b[0;32m<ipython-input-23-695de4a10ff3>\u001b[0m in \u001b[0;36mlr_bandit\u001b[0;34m(X, y, n_simulations, cutoff, sync)\u001b[0m\n\u001b[1;32m     27\u001b[0m         \u001b[0mlr\u001b[0m\u001b[0;34m.\u001b[0m\u001b[0mfit\u001b[0m\u001b[0;34m(\u001b[0m\u001b[0mX_train\u001b[0m\u001b[0;34m,\u001b[0m \u001b[0mY_train\u001b[0m\u001b[0;34m)\u001b[0m\u001b[0;34m\u001b[0m\u001b[0m\n\u001b[1;32m     28\u001b[0m \u001b[0;34m\u001b[0m\u001b[0m\n\u001b[0;32m---> 29\u001b[0;31m         \u001b[0mlr_proba\u001b[0m \u001b[0;34m=\u001b[0m \u001b[0mnp\u001b[0m\u001b[0;34m.\u001b[0m\u001b[0mdstack\u001b[0m\u001b[0;34m(\u001b[0m\u001b[0;34m(\u001b[0m\u001b[0mlr_proba\u001b[0m\u001b[0;34m,\u001b[0m \u001b[0mlr\u001b[0m\u001b[0;34m.\u001b[0m\u001b[0mpredict_proba\u001b[0m\u001b[0;34m(\u001b[0m\u001b[0mX_test\u001b[0m\u001b[0;34m)\u001b[0m\u001b[0;34m)\u001b[0m\u001b[0;34m)\u001b[0m\u001b[0;34m\u001b[0m\u001b[0m\n\u001b[0m\u001b[1;32m     30\u001b[0m         \u001b[0mlr_predict\u001b[0m\u001b[0;34m[\u001b[0m\u001b[0;34m:\u001b[0m\u001b[0;34m,\u001b[0m\u001b[0mi\u001b[0m\u001b[0;34m]\u001b[0m \u001b[0;34m=\u001b[0m \u001b[0mlr\u001b[0m\u001b[0;34m.\u001b[0m\u001b[0mpredict\u001b[0m\u001b[0;34m(\u001b[0m\u001b[0mX_test\u001b[0m\u001b[0;34m)\u001b[0m\u001b[0;34m\u001b[0m\u001b[0m\n\u001b[1;32m     31\u001b[0m         \u001b[0mlr_score\u001b[0m\u001b[0;34m[\u001b[0m\u001b[0mi\u001b[0m\u001b[0;34m]\u001b[0m \u001b[0;34m=\u001b[0m \u001b[0mlr\u001b[0m\u001b[0;34m.\u001b[0m\u001b[0mscore\u001b[0m\u001b[0;34m(\u001b[0m\u001b[0mX_test\u001b[0m\u001b[0;34m,\u001b[0m \u001b[0mY_test\u001b[0m\u001b[0;34m)\u001b[0m\u001b[0;34m\u001b[0m\u001b[0m\n",
      "\u001b[0;32m/Users/celiaberon/anaconda/lib/python3.6/site-packages/numpy/lib/shape_base.py\u001b[0m in \u001b[0;36mdstack\u001b[0;34m(tup)\u001b[0m\n\u001b[1;32m    374\u001b[0m \u001b[0;34m\u001b[0m\u001b[0m\n\u001b[1;32m    375\u001b[0m     \"\"\"\n\u001b[0;32m--> 376\u001b[0;31m     \u001b[0;32mreturn\u001b[0m \u001b[0m_nx\u001b[0m\u001b[0;34m.\u001b[0m\u001b[0mconcatenate\u001b[0m\u001b[0;34m(\u001b[0m\u001b[0;34m[\u001b[0m\u001b[0matleast_3d\u001b[0m\u001b[0;34m(\u001b[0m\u001b[0m_m\u001b[0m\u001b[0;34m)\u001b[0m \u001b[0;32mfor\u001b[0m \u001b[0m_m\u001b[0m \u001b[0;32min\u001b[0m \u001b[0mtup\u001b[0m\u001b[0;34m]\u001b[0m\u001b[0;34m,\u001b[0m \u001b[0;36m2\u001b[0m\u001b[0;34m)\u001b[0m\u001b[0;34m\u001b[0m\u001b[0m\n\u001b[0m\u001b[1;32m    377\u001b[0m \u001b[0;34m\u001b[0m\u001b[0m\n\u001b[1;32m    378\u001b[0m \u001b[0;32mdef\u001b[0m \u001b[0m_replace_zero_by_x_arrays\u001b[0m\u001b[0;34m(\u001b[0m\u001b[0msub_arys\u001b[0m\u001b[0;34m)\u001b[0m\u001b[0;34m:\u001b[0m\u001b[0;34m\u001b[0m\u001b[0m\n",
      "\u001b[0;31mValueError\u001b[0m: all the input array dimensions except for the concatenation axis must match exactly"
     ]
    }
   ],
   "source": [
    "lr_bandit(X, Y, n_simulations=10)"
   ]
  },
  {
   "cell_type": "code",
   "execution_count": 36,
   "metadata": {},
   "outputs": [],
   "source": [
    "def lr_bandit(X, y, n_simulations=1000, cutoff=0.7, sync=False):\n",
    "\n",
    "    # select seed for each simulation\n",
    "    seed = np.random.randint(100000, size=n_simulations)\n",
    "\n",
    "    # initialize arrays for LR results\n",
    "    lr_predict = np.zeros((int((1-cutoff)*len(X)),n_simulations))\n",
    "    lr_proba = np.zeros((int((1-cutoff)*len(X)), 2))\n",
    "    lr_score = np.zeros(n_simulations)\n",
    "    metrics = np.zeros((4,2))\n",
    "\n",
    "    for i in range(n_simulations):\n",
    "        np.random.seed(seed[i])\n",
    "        idx = np.random.permutation(len(X))\n",
    "        idx_train = idx[0:int(len(X)*cutoff)]\n",
    "        idx_test = idx[int(len(X)*cutoff):]\n",
    "\n",
    "        X_train = X[idx_train]\n",
    "        X_test = X[idx_test]\n",
    "\n",
    "        Y_train = Y[idx_train]\n",
    "        Y_test = Y[idx_test]\n",
    "\n",
    "        lr = LogisticRegression()\n",
    "        lr.fit(X_train, Y_train)\n",
    "\n",
    "        #lr_proba = np.dstack((lr_proba, lr.predict_proba(X_test)))\n",
    "        lr_predict[:,i] = lr.predict(X_test)\n",
    "        lr_score[i] = lr.score(X_test, Y_test)\n",
    "        metrics_temp = sklearn.metrics.precision_recall_fscore_support(Y_test, lr_predict[:,i])\n",
    "        metrics = np.dstack((metrics, np.array(metrics_temp)))\n",
    "        \n",
    "        #lr1_switch_predict = np.abs([lr1_choice_predict[n] - X_test[n,9] for n in range(len(lr1_choice_predict))])\n",
    "        #lr1_metrics_switch = sklearn.metrics.precision_recall_fscore_support(Y_test_switch, lr1_switch_predict[:,i])\n",
    "\n",
    "    # clean up from initializing 3d stacks with zeros\n",
    "    metrics = metrics[:,:,1:n_simulations+1]\n",
    "    lr_proba = lr_proba[:,:,1:n_simulations+1]\n",
    "    \n",
    "    if sync==True: \n",
    "        return metrics, lr_predict, lr_proba, lr_score, seed\n",
    "    return lr_metrics, lr_predict, lr_proba, score"
   ]
  },
  {
   "cell_type": "code",
   "execution_count": 33,
   "metadata": {},
   "outputs": [],
   "source": [
    "X = np.random.randint(10,size=100)\n",
    "X2 = np.random.randint(10,size=100)\n",
    "X = np.column_stack((X,X2))\n",
    "Y = np.transpose(np.random.randint(10,size=100))"
   ]
  },
  {
   "cell_type": "code",
   "execution_count": 35,
   "metadata": {},
   "outputs": [
    {
     "data": {
      "text/plain": [
       "array([[8, 6],\n",
       "       [9, 8],\n",
       "       [1, 3],\n",
       "       [5, 2],\n",
       "       [0, 4],\n",
       "       [2, 3],\n",
       "       [2, 5],\n",
       "       [0, 5],\n",
       "       [0, 0],\n",
       "       [9, 5],\n",
       "       [3, 0],\n",
       "       [5, 1],\n",
       "       [3, 4],\n",
       "       [7, 2],\n",
       "       [9, 1],\n",
       "       [4, 2],\n",
       "       [1, 2],\n",
       "       [0, 2],\n",
       "       [0, 6],\n",
       "       [7, 2],\n",
       "       [0, 9],\n",
       "       [3, 7],\n",
       "       [7, 4],\n",
       "       [0, 5],\n",
       "       [3, 3],\n",
       "       [7, 6],\n",
       "       [1, 1],\n",
       "       [4, 6],\n",
       "       [4, 9],\n",
       "       [4, 8],\n",
       "       [3, 9],\n",
       "       [7, 3],\n",
       "       [5, 5],\n",
       "       [1, 6],\n",
       "       [0, 3],\n",
       "       [2, 9],\n",
       "       [0, 1],\n",
       "       [1, 9],\n",
       "       [2, 1],\n",
       "       [0, 6],\n",
       "       [4, 9],\n",
       "       [5, 5],\n",
       "       [3, 5],\n",
       "       [8, 1],\n",
       "       [9, 9],\n",
       "       [1, 6],\n",
       "       [2, 5],\n",
       "       [8, 0],\n",
       "       [0, 6],\n",
       "       [9, 1],\n",
       "       [4, 8],\n",
       "       [3, 5],\n",
       "       [5, 3],\n",
       "       [9, 6],\n",
       "       [0, 7],\n",
       "       [4, 1],\n",
       "       [6, 5],\n",
       "       [1, 7],\n",
       "       [5, 5],\n",
       "       [8, 1],\n",
       "       [2, 4],\n",
       "       [1, 6],\n",
       "       [5, 2],\n",
       "       [3, 9],\n",
       "       [8, 2],\n",
       "       [9, 8],\n",
       "       [1, 1],\n",
       "       [2, 5],\n",
       "       [8, 4],\n",
       "       [3, 7],\n",
       "       [5, 5],\n",
       "       [5, 2],\n",
       "       [7, 7],\n",
       "       [6, 0],\n",
       "       [0, 5],\n",
       "       [7, 4],\n",
       "       [1, 5],\n",
       "       [6, 6],\n",
       "       [9, 4],\n",
       "       [4, 8],\n",
       "       [0, 0],\n",
       "       [9, 8],\n",
       "       [8, 2],\n",
       "       [4, 0],\n",
       "       [1, 1],\n",
       "       [1, 7],\n",
       "       [3, 1],\n",
       "       [7, 9],\n",
       "       [0, 5],\n",
       "       [3, 3],\n",
       "       [8, 8],\n",
       "       [2, 0],\n",
       "       [7, 5],\n",
       "       [2, 7],\n",
       "       [4, 4],\n",
       "       [8, 2],\n",
       "       [7, 0],\n",
       "       [9, 7],\n",
       "       [4, 5],\n",
       "       [7, 9]])"
      ]
     },
     "execution_count": 35,
     "metadata": {},
     "output_type": "execute_result"
    }
   ],
   "source": [
    "X"
   ]
  },
  {
   "cell_type": "code",
   "execution_count": null,
   "metadata": {
    "collapsed": true
   },
   "outputs": [],
   "source": []
  }
 ],
 "metadata": {
  "kernelspec": {
   "display_name": "Python 3",
   "language": "python",
   "name": "python3"
  },
  "language_info": {
   "codemirror_mode": {
    "name": "ipython",
    "version": 3
   },
   "file_extension": ".py",
   "mimetype": "text/x-python",
   "name": "python",
   "nbconvert_exporter": "python",
   "pygments_lexer": "ipython3",
   "version": "3.6.1"
  }
 },
 "nbformat": 4,
 "nbformat_minor": 2
}
