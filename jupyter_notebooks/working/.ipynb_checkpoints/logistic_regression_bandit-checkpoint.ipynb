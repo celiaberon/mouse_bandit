{
 "cells": [
  {
   "cell_type": "code",
   "execution_count": 173,
   "metadata": {
    "collapsed": true
   },
   "outputs": [],
   "source": [
    "import numpy as np\n",
    "import pandas as pd\n",
    "import matplotlib.pyplot as plt\n",
    "import sklearn\n",
    "from sklearn.linear_model import LogisticRegression\n",
    "import getpass\n",
    "%matplotlib inline"
   ]
  },
  {
   "cell_type": "code",
   "execution_count": 174,
   "metadata": {},
   "outputs": [],
   "source": [
    "username = getpass.getuser()"
   ]
  },
  {
   "cell_type": "code",
   "execution_count": 175,
   "metadata": {},
   "outputs": [
    {
     "data": {
      "text/html": [
       "<div>\n",
       "<table border=\"1\" class=\"dataframe\">\n",
       "  <thead>\n",
       "    <tr style=\"text-align: right;\">\n",
       "      <th></th>\n",
       "      <th>index</th>\n",
       "      <th>Mouse ID</th>\n",
       "      <th>Session ID</th>\n",
       "      <th>Trial</th>\n",
       "      <th>Block Trial</th>\n",
       "      <th>Block Reward</th>\n",
       "      <th>Port Streak</th>\n",
       "      <th>Reward Streak</th>\n",
       "      <th>10_Port</th>\n",
       "      <th>10_Reward</th>\n",
       "      <th>...</th>\n",
       "      <th>1_trialDuration</th>\n",
       "      <th>0_ITI</th>\n",
       "      <th>0_trialDuration</th>\n",
       "      <th>Decision</th>\n",
       "      <th>Switch</th>\n",
       "      <th>Higher p port</th>\n",
       "      <th>Reward</th>\n",
       "      <th>Condition</th>\n",
       "      <th>Block ID</th>\n",
       "      <th>Current Block Length</th>\n",
       "    </tr>\n",
       "  </thead>\n",
       "  <tbody>\n",
       "    <tr>\n",
       "      <th>18716</th>\n",
       "      <td>0</td>\n",
       "      <td>Mustard</td>\n",
       "      <td>04182018_Mustard</td>\n",
       "      <td>11.0</td>\n",
       "      <td>4.0</td>\n",
       "      <td>2.0</td>\n",
       "      <td>1.0</td>\n",
       "      <td>2.0</td>\n",
       "      <td>1.0</td>\n",
       "      <td>0.0</td>\n",
       "      <td>...</td>\n",
       "      <td>0.509</td>\n",
       "      <td>1.275</td>\n",
       "      <td>0.303</td>\n",
       "      <td>1.0</td>\n",
       "      <td>1.0</td>\n",
       "      <td>0.0</td>\n",
       "      <td>1.0</td>\n",
       "      <td>90-10</td>\n",
       "      <td>3.0</td>\n",
       "      <td>38.0</td>\n",
       "    </tr>\n",
       "    <tr>\n",
       "      <th>18717</th>\n",
       "      <td>1</td>\n",
       "      <td>Mustard</td>\n",
       "      <td>04182018_Mustard</td>\n",
       "      <td>12.0</td>\n",
       "      <td>5.0</td>\n",
       "      <td>0.0</td>\n",
       "      <td>1.0</td>\n",
       "      <td>3.0</td>\n",
       "      <td>1.0</td>\n",
       "      <td>0.0</td>\n",
       "      <td>...</td>\n",
       "      <td>0.303</td>\n",
       "      <td>4.669</td>\n",
       "      <td>0.396</td>\n",
       "      <td>0.0</td>\n",
       "      <td>1.0</td>\n",
       "      <td>1.0</td>\n",
       "      <td>1.0</td>\n",
       "      <td>90-10</td>\n",
       "      <td>3.0</td>\n",
       "      <td>38.0</td>\n",
       "    </tr>\n",
       "    <tr>\n",
       "      <th>18718</th>\n",
       "      <td>2</td>\n",
       "      <td>Mustard</td>\n",
       "      <td>04182018_Mustard</td>\n",
       "      <td>13.0</td>\n",
       "      <td>6.0</td>\n",
       "      <td>1.0</td>\n",
       "      <td>1.0</td>\n",
       "      <td>4.0</td>\n",
       "      <td>1.0</td>\n",
       "      <td>0.0</td>\n",
       "      <td>...</td>\n",
       "      <td>0.396</td>\n",
       "      <td>1.799</td>\n",
       "      <td>0.293</td>\n",
       "      <td>0.0</td>\n",
       "      <td>0.0</td>\n",
       "      <td>1.0</td>\n",
       "      <td>1.0</td>\n",
       "      <td>90-10</td>\n",
       "      <td>3.0</td>\n",
       "      <td>38.0</td>\n",
       "    </tr>\n",
       "    <tr>\n",
       "      <th>18719</th>\n",
       "      <td>3</td>\n",
       "      <td>Mustard</td>\n",
       "      <td>04182018_Mustard</td>\n",
       "      <td>14.0</td>\n",
       "      <td>7.0</td>\n",
       "      <td>2.0</td>\n",
       "      <td>2.0</td>\n",
       "      <td>5.0</td>\n",
       "      <td>1.0</td>\n",
       "      <td>0.0</td>\n",
       "      <td>...</td>\n",
       "      <td>0.293</td>\n",
       "      <td>2.027</td>\n",
       "      <td>0.344</td>\n",
       "      <td>0.0</td>\n",
       "      <td>0.0</td>\n",
       "      <td>1.0</td>\n",
       "      <td>1.0</td>\n",
       "      <td>90-10</td>\n",
       "      <td>3.0</td>\n",
       "      <td>38.0</td>\n",
       "    </tr>\n",
       "    <tr>\n",
       "      <th>18720</th>\n",
       "      <td>4</td>\n",
       "      <td>Mustard</td>\n",
       "      <td>04182018_Mustard</td>\n",
       "      <td>15.0</td>\n",
       "      <td>8.0</td>\n",
       "      <td>3.0</td>\n",
       "      <td>3.0</td>\n",
       "      <td>6.0</td>\n",
       "      <td>0.0</td>\n",
       "      <td>1.0</td>\n",
       "      <td>...</td>\n",
       "      <td>0.344</td>\n",
       "      <td>1.654</td>\n",
       "      <td>0.384</td>\n",
       "      <td>0.0</td>\n",
       "      <td>0.0</td>\n",
       "      <td>1.0</td>\n",
       "      <td>0.0</td>\n",
       "      <td>90-10</td>\n",
       "      <td>3.0</td>\n",
       "      <td>38.0</td>\n",
       "    </tr>\n",
       "  </tbody>\n",
       "</table>\n",
       "<p>5 rows × 57 columns</p>\n",
       "</div>"
      ],
      "text/plain": [
       "       index Mouse ID        Session ID  Trial  Block Trial  Block Reward  \\\n",
       "18716      0  Mustard  04182018_Mustard   11.0          4.0           2.0   \n",
       "18717      1  Mustard  04182018_Mustard   12.0          5.0           0.0   \n",
       "18718      2  Mustard  04182018_Mustard   13.0          6.0           1.0   \n",
       "18719      3  Mustard  04182018_Mustard   14.0          7.0           2.0   \n",
       "18720      4  Mustard  04182018_Mustard   15.0          8.0           3.0   \n",
       "\n",
       "       Port Streak  Reward Streak  10_Port  10_Reward          ...           \\\n",
       "18716          1.0            2.0      1.0        0.0          ...            \n",
       "18717          1.0            3.0      1.0        0.0          ...            \n",
       "18718          1.0            4.0      1.0        0.0          ...            \n",
       "18719          2.0            5.0      1.0        0.0          ...            \n",
       "18720          3.0            6.0      0.0        1.0          ...            \n",
       "\n",
       "       1_trialDuration  0_ITI  0_trialDuration  Decision  Switch  \\\n",
       "18716            0.509  1.275            0.303       1.0     1.0   \n",
       "18717            0.303  4.669            0.396       0.0     1.0   \n",
       "18718            0.396  1.799            0.293       0.0     0.0   \n",
       "18719            0.293  2.027            0.344       0.0     0.0   \n",
       "18720            0.344  1.654            0.384       0.0     0.0   \n",
       "\n",
       "       Higher p port  Reward  Condition  Block ID  Current Block Length  \n",
       "18716            0.0     1.0      90-10       3.0                  38.0  \n",
       "18717            1.0     1.0      90-10       3.0                  38.0  \n",
       "18718            1.0     1.0      90-10       3.0                  38.0  \n",
       "18719            1.0     1.0      90-10       3.0                  38.0  \n",
       "18720            1.0     0.0      90-10       3.0                  38.0  \n",
       "\n",
       "[5 rows x 57 columns]"
      ]
     },
     "execution_count": 175,
     "metadata": {},
     "output_type": "execute_result"
    }
   ],
   "source": [
    "data = pd.read_csv('/Users/{:}/Dropbox (HMS)/mouse_bandit/markov_full.csv'.format(username), index_col=0)\n",
    "data = data[data['Mouse ID']=='Mustard']\n",
    "data.head()"
   ]
  },
  {
   "cell_type": "markdown",
   "metadata": {},
   "source": [
    "### make some new dataframes\n",
    "    X has predictor variables (choice and reward history for past n trials) relevant variables for logit model\n",
    "    Y has dependent variable (choice on current trial)"
   ]
  },
  {
   "cell_type": "code",
   "execution_count": 176,
   "metadata": {},
   "outputs": [],
   "source": [
    "#include past 10 choice and reward values (this is most convenient given the current data structure)\n",
    "choice_history = []\n",
    "reward_history = []\n",
    "for col in data.columns:\n",
    "    if '_Port' in col:\n",
    "        choice_history.append(data[col][:])\n",
    "    elif '_Reward' in col:\n",
    "        reward_history.append(data[col][:])\n",
    "        \n",
    "choice_history = np.transpose(np.asarray(choice_history))\n",
    "reward_history = np.transpose(np.asarray(reward_history))\n",
    "switch_history = np.abs(np.diff(choice_history)) # right now just missing whether or not switched on n-10 trial\n",
    "\n",
    "#current trial decision and outcome \n",
    "choice = []\n",
    "reward = []\n",
    "switch = []\n",
    "\n",
    "for col in data.columns:\n",
    "    if 'Decision' in col:\n",
    "        #print(col)\n",
    "        choice.append(data[col][:])\n",
    "    elif 'Reward' in col:\n",
    "        #print(col)\n",
    "        reward.append(data[col][:])\n",
    "    elif 'Switch' in col:\n",
    "        switch.append(data[col][:])\n",
    "\n",
    "choice = np.transpose(np.asarray(choice))\n",
    "reward = np.transpose(np.asarray(reward))\n",
    "switch = np.transpose(np.asarray(switch))"
   ]
  },
  {
   "cell_type": "markdown",
   "metadata": {},
   "source": [
    "### set up which datasets will be predictor and target"
   ]
  },
  {
   "cell_type": "code",
   "execution_count": 192,
   "metadata": {
    "collapsed": true
   },
   "outputs": [],
   "source": [
    "# set up as X and Y for logistic regression (X contains all predictors)\n",
    "X = np.column_stack((choice_history, reward_history))\n",
    "Y_choice = choice.ravel()\n",
    "Y_switch = switch.ravel()"
   ]
  },
  {
   "cell_type": "markdown",
   "metadata": {},
   "source": [
    "### split data into training and testing datasets\n",
    "--right now 70% to train, 30% test\n",
    "\n",
    "--X (train and test) mxn matrix with m trials and [n/2 choice, n/2 corresponding reward outcomes]\n",
    "            \n",
    "            X[:,0:9] = choice_history\n",
    "            \n",
    "            X[:,10:19] = reward_history\n",
    "\n",
    "--Y (train and test) mx1 matrix with m trials and 1 choice outcome\n"
   ]
  },
  {
   "cell_type": "code",
   "execution_count": 193,
   "metadata": {
    "collapsed": true
   },
   "outputs": [],
   "source": [
    "#train on proportion of data up to the 'cutoff.' hold out the rest as test data.\n",
    "idx = np.random.permutation(len(X))\n",
    "cutoff = 0.7\n",
    "idx_train = idx[0:int(len(X)*cutoff)]\n",
    "idx_test = idx[int(len(X)*cutoff):]\n",
    "\n",
    "X_train = X[idx_train]\n",
    "X_test = X[idx_test]\n",
    "\n",
    "Y_train_choice = Y_choice[idx_train]\n",
    "Y_test_choice = Y_choice[idx_test]\n",
    "\n",
    "Y_train_switch = Y_switch[idx_train]\n",
    "Y_test_switch = Y_switch[idx_test]"
   ]
  },
  {
   "cell_type": "markdown",
   "metadata": {},
   "source": [
    "### Logistic regression\n",
    "Compare training on port choice (lr_port) vs training on switch (lr_switch)"
   ]
  },
  {
   "cell_type": "code",
   "execution_count": 194,
   "metadata": {},
   "outputs": [
    {
     "name": "stdout",
     "output_type": "stream",
     "text": [
      "performance = 0.913\n"
     ]
    }
   ],
   "source": [
    "lr_choice = LogisticRegression()\n",
    "lr_choice.fit(X_train, Y_train_choice)\n",
    "\n",
    "lr_predict_prob_choice = lr_choice.predict_proba(X_test)\n",
    "lr_predict_choice = lr_choice.predict(X_test)\n",
    "score_choice = lr_choice.score(X_test, Y_test_choice)\n",
    "print('performance = {:.3f}'.format(score_choice))"
   ]
  },
  {
   "cell_type": "code",
   "execution_count": 267,
   "metadata": {},
   "outputs": [],
   "source": [
    "switch_true = np.abs([Y_test_choice[i] - X_test[i,9] for i in range(len(Y_test_choice))]) # actually switches from test port (n) vs n-1 port (test[i,9])\n",
    "switch_predict = np.abs([lr_predict_choice[i] - X_test[i,9] for i in range(len(lr_predict_choice))])"
   ]
  },
  {
   "cell_type": "code",
   "execution_count": null,
   "metadata": {
    "collapsed": true
   },
   "outputs": [],
   "source": []
  },
  {
   "cell_type": "code",
   "execution_count": 269,
   "metadata": {},
   "outputs": [
    {
     "name": "stderr",
     "output_type": "stream",
     "text": [
      "/Users/celiaberon/anaconda/lib/python3.6/site-packages/sklearn/metrics/classification.py:1113: UndefinedMetricWarning: Precision and F-score are ill-defined and being set to 0.0 in labels with no predicted samples.\n",
      "  'precision', 'predicted', average, warn_for)\n"
     ]
    },
    {
     "data": {
      "text/plain": [
       "(array([ 0.91318649,  0.        ]),\n",
       " array([ 1.,  0.]),\n",
       " array([ 0.9546236,  0.       ]),\n",
       " array([15547,  1478]))"
      ]
     },
     "execution_count": 269,
     "metadata": {},
     "output_type": "execute_result"
    }
   ],
   "source": [
    "metrics_switch = sklearn.metrics.precision_recall_fscore_support(switch_true, switch_predict)\n",
    "metrics_switch"
   ]
  },
  {
   "cell_type": "code",
   "execution_count": 277,
   "metadata": {},
   "outputs": [
    {
     "data": {
      "text/plain": [
       "(array([ 0.90626158,  0.91946685]),\n",
       " array([ 0.91076083,  0.91536574]),\n",
       " array([ 0.90850563,  0.91741171]),\n",
       " array([8057, 8968]))"
      ]
     },
     "execution_count": 277,
     "metadata": {},
     "output_type": "execute_result"
    }
   ],
   "source": [
    "metrics_choice = sklearn.metrics.precision_recall_fscore_support(Y_test_choice, lr_predict_choice)\n",
    "metrics_choice"
   ]
  },
  {
   "cell_type": "code",
   "execution_count": null,
   "metadata": {
    "collapsed": true
   },
   "outputs": [],
   "source": []
  },
  {
   "cell_type": "code",
   "execution_count": 228,
   "metadata": {},
   "outputs": [
    {
     "name": "stdout",
     "output_type": "stream",
     "text": [
      "fraction of predicted switch trials = 0.000\n"
     ]
    }
   ],
   "source": [
    "switch_idx = [lr_predict_choice[i] - X_test[i,9] for i in range(len(Y_test))] # comparing predicted port to port of n-1 trial \n",
    "switch_idx = np.abs(switch_idx).astype(bool)\n",
    "print('fraction of predicted switch trials = {:.3f}'.format(np.sum(switch_idx)/len(switch_idx)))"
   ]
  },
  {
   "cell_type": "code",
   "execution_count": 229,
   "metadata": {},
   "outputs": [
    {
     "name": "stdout",
     "output_type": "stream",
     "text": [
      "fraction of switch trials = 0.596\n",
      "total number of switches in test dataset = 84\n"
     ]
    }
   ],
   "source": [
    "switch_idx = [Y_test[i] - X_test[i,9] for i in range(len(Y_test))] # actual switches from test port (n) vs n-1 port (test[i,9])\n",
    "switch_idx = np.abs(switch_idx).astype(bool)\n",
    "print('fraction of switch trials = {:.3f}'.format(np.sum(switch_idx)/len(switch_idx)))\n",
    "print('total number of switches in test dataset = {:.0f}'.format(switch_idx.sum()))"
   ]
  },
  {
   "cell_type": "code",
   "execution_count": 199,
   "metadata": {},
   "outputs": [
    {
     "name": "stderr",
     "output_type": "stream",
     "text": [
      "/Users/celiaberon/anaconda/lib/python3.6/site-packages/ipykernel_launcher.py:2: VisibleDeprecationWarning: boolean index did not match indexed array along dimension 0; dimension is 17025 but corresponding boolean dimension is 141\n",
      "  \n"
     ]
    },
    {
     "data": {
      "text/plain": [
       "0.4642857142857143"
      ]
     },
     "execution_count": 199,
     "metadata": {},
     "output_type": "execute_result"
    }
   ],
   "source": [
    "# calculate accuracy of model at predicting switches\n",
    "accuracy_mat = np.abs(Y_test[switch_idx] - lr_predict_port[switch_idx])\n",
    "accuracy_switch = (np.sum(switch_idx)-accuracy_mat.sum())/np.sum(switch_idx)\n",
    "accuracy_switch"
   ]
  },
  {
   "cell_type": "code",
   "execution_count": 200,
   "metadata": {},
   "outputs": [
    {
     "name": "stderr",
     "output_type": "stream",
     "text": [
      "/Users/celiaberon/anaconda/lib/python3.6/site-packages/ipykernel_launcher.py:2: VisibleDeprecationWarning: boolean index did not match indexed array along dimension 0; dimension is 17025 but corresponding boolean dimension is 141\n",
      "  \n"
     ]
    },
    {
     "data": {
      "text/plain": [
       "1.0"
      ]
     },
     "execution_count": 200,
     "metadata": {},
     "output_type": "execute_result"
    }
   ],
   "source": [
    "# calculate accuracy of model at predicting stays\n",
    "accuracy_mat = np.abs(Y_test[~switch_idx] - lr_predict_choice[~switch_idx])\n",
    "accuracy_stay = (np.sum(~switch_idx)-accuracy_mat.sum())/np.sum(~switch_idx)\n",
    "accuracy_stay"
   ]
  },
  {
   "cell_type": "code",
   "execution_count": 201,
   "metadata": {},
   "outputs": [
    {
     "data": {
      "text/plain": [
       "([<matplotlib.axis.XTick at 0x1132cd400>,\n",
       "  <matplotlib.axis.XTick at 0x11122b5f8>,\n",
       "  <matplotlib.axis.XTick at 0x111c00630>],\n",
       " <a list of 3 Text xticklabel objects>)"
      ]
     },
     "execution_count": 201,
     "metadata": {},
     "output_type": "execute_result"
    },
    {
     "data": {
      "image/png": "[encoded data removed]",
      "text/plain": [
       "<matplotlib.figure.Figure at 0x112df4198>"
      ]
     },
     "metadata": {},
     "output_type": "display_data"
    }
   ],
   "source": [
    "height = [score_choice, accuracy_stay, accuracy_switch]\n",
    "conditions = ['full', 'stay', 'switch']\n",
    "plt.bar(range(len(height)), height)\n",
    "plt.xticks(range(len(height)), conditions)"
   ]
  },
  {
   "cell_type": "markdown",
   "metadata": {},
   "source": [
    "### now train to predict switches"
   ]
  },
  {
   "cell_type": "code",
   "execution_count": 202,
   "metadata": {},
   "outputs": [
    {
     "name": "stdout",
     "output_type": "stream",
     "text": [
      "performance = 0.913\n"
     ]
    }
   ],
   "source": [
    "# train and test LR\n",
    "lr_switch = LogisticRegression()\n",
    "lr_switch.fit(X_train, Y_train_switch)\n",
    "\n",
    "lr_predict_prob_switch = lr_switch.predict_proba(X_test)\n",
    "lr_predict_switch = lr_switch.predict(X_test)\n",
    "score_switch = lr_switch.score(X_test, Y_test_switch)\n",
    "print('performance = {:.3f}'.format(score_switch))"
   ]
  },
  {
   "cell_type": "code",
   "execution_count": 203,
   "metadata": {},
   "outputs": [
    {
     "data": {
      "text/plain": [
       "(array([ 0.91316609,  0.        ]),\n",
       " array([ 0.99974272,  0.        ]),\n",
       " array([ 0.95449521,  0.        ]),\n",
       " array([15547,  1478]))"
      ]
     },
     "execution_count": 203,
     "metadata": {},
     "output_type": "execute_result"
    }
   ],
   "source": [
    "sklearn.metrics.precision_recall_fscore_support(Y_test_switch, lr_predict_switch)"
   ]
  },
  {
   "cell_type": "code",
   "execution_count": 206,
   "metadata": {},
   "outputs": [
    {
     "data": {
      "text/plain": [
       "4.0"
      ]
     },
     "execution_count": 206,
     "metadata": {},
     "output_type": "execute_result"
    }
   ],
   "source": [
    "lr_predict_switch.sum() # total number of switches predicted by model"
   ]
  },
  {
   "cell_type": "code",
   "execution_count": 208,
   "metadata": {
    "scrolled": true
   },
   "outputs": [
    {
     "name": "stdout",
     "output_type": "stream",
     "text": [
      "fraction of switch trials = 0.087\n",
      "total number of switches in test dataset = 1478\n"
     ]
    }
   ],
   "source": [
    "print('fraction of switch trials = {:.3f}'.format(np.sum(Y_test_switch)/len(Y_test_switch)))\n",
    "print('total number of switches in test dataset = {:.0f}'.format(Y_test_switch.sum()))"
   ]
  },
  {
   "cell_type": "code",
   "execution_count": 211,
   "metadata": {
    "collapsed": true
   },
   "outputs": [],
   "source": [
    "switch_idx = np.where(Y_test_switch==1)\n",
    "stay_idx = np.where(Y_test_switch==0)"
   ]
  },
  {
   "cell_type": "code",
   "execution_count": 223,
   "metadata": {},
   "outputs": [
    {
     "data": {
      "text/plain": [
       "(15547,)"
      ]
     },
     "execution_count": 223,
     "metadata": {},
     "output_type": "execute_result"
    }
   ],
   "source": [
    "stay_idx[0].shape"
   ]
  },
  {
   "cell_type": "code",
   "execution_count": 218,
   "metadata": {},
   "outputs": [
    {
     "data": {
      "text/plain": [
       "0.0"
      ]
     },
     "execution_count": 218,
     "metadata": {},
     "output_type": "execute_result"
    }
   ],
   "source": [
    "# calculate accuracy of model at predicting switches -- switch recall\n",
    "accuracy_mat = np.abs(Y_test_switch[switch_idx] - lr_predict_switch[switch_idx])\n",
    "accuracy_switch = (np.sum(Y_test_switch)-accuracy_mat.sum())/np.sum(Y_test_switch)\n",
    "accuracy_switch"
   ]
  },
  {
   "cell_type": "code",
   "execution_count": 224,
   "metadata": {},
   "outputs": [
    {
     "data": {
      "text/plain": [
       "array([ 0.99974272])"
      ]
     },
     "execution_count": 224,
     "metadata": {},
     "output_type": "execute_result"
    }
   ],
   "source": [
    "# calculate accuracy of model at predicting stays -- stay recall\n",
    "accuracy_mat = np.abs(Y_test_switch[stay_idx] - lr_predict_switch[stay_idx])\n",
    "accuracy_stay = (stay_idx[0].shape-accuracy_mat.sum())/stay_idx[0].shape\n",
    "accuracy_stay"
   ]
  },
  {
   "cell_type": "code",
   "execution_count": 86,
   "metadata": {},
   "outputs": [
    {
     "data": {
      "text/plain": [
       "([<matplotlib.axis.XTick at 0x112068a90>,\n",
       "  <matplotlib.axis.XTick at 0x111be8d30>,\n",
       "  <matplotlib.axis.XTick at 0x111d23160>],\n",
       " <a list of 3 Text xticklabel objects>)"
      ]
     },
     "execution_count": 86,
     "metadata": {},
     "output_type": "execute_result"
    },
    {
     "data": {
      "image/png": "[encoded data removed]",
      "text/plain": [
       "<matplotlib.figure.Figure at 0x111c26dd8>"
      ]
     },
     "metadata": {},
     "output_type": "display_data"
    }
   ],
   "source": [
    "height = [score_switch, accuracy_stay, accuracy_switch]\n",
    "conditions = ['full', 'stay', 'switch']\n",
    "plt.bar(range(len(height)), height)\n",
    "plt.xticks(range(len(height)), conditions)"
   ]
  },
  {
   "cell_type": "code",
   "execution_count": 87,
   "metadata": {
    "scrolled": true
   },
   "outputs": [
    {
     "data": {
      "text/plain": [
       "<matplotlib.legend.Legend at 0x1120606d8>"
      ]
     },
     "execution_count": 87,
     "metadata": {},
     "output_type": "execute_result"
    },
    {
     "data": {
      "image/png": "[encoded data removed]",
      "text/plain": [
       "<matplotlib.figure.Figure at 0x112060898>"
      ]
     },
     "metadata": {},
     "output_type": "display_data"
    }
   ],
   "source": [
    "from sklearn.metrics import roc_curve, roc_auc_score\n",
    "\n",
    "fpr, tpr, _ = roc_curve(Y_test, lr_predict_prob_switch[:,1])\n",
    "plt.plot(fpr, tpr, label=\"LR_SWITCH\")\n",
    "\n",
    "fpr, tpr, _ = roc_curve(Y_test, lr_predict_prob_port[:,1])\n",
    "plt.plot(fpr, tpr, label=\"LR_PORT\")\n",
    "\n",
    "plt.legend(loc='lower right')"
   ]
  },
  {
   "cell_type": "markdown",
   "metadata": {},
   "source": [
    "### train on switches to predict switches"
   ]
  },
  {
   "cell_type": "code",
   "execution_count": 88,
   "metadata": {},
   "outputs": [
    {
     "name": "stdout",
     "output_type": "stream",
     "text": [
      "performance = 0.901\n"
     ]
    }
   ],
   "source": [
    "X = np.column_stack((switch_history, reward_history[:,0:8]))\n",
    "X_train = X[idx_train]\n",
    "X_test = X[idx_test]\n",
    "\n",
    "# train and test LR\n",
    "lr_switch = LogisticRegression()\n",
    "lr_switch.fit(X_train, Y_train)\n",
    "\n",
    "lr_predict_prob_switch = lr_switch.predict_proba(X_test)\n",
    "lr_predict_switch = lr_switch.predict(X_test)\n",
    "score_switch = lr_switch.score(X_test, Y_test)\n",
    "print('performance = {:.3f}'.format(score_switch))"
   ]
  },
  {
   "cell_type": "code",
   "execution_count": null,
   "metadata": {
    "collapsed": true
   },
   "outputs": [],
   "source": []
  },
  {
   "cell_type": "code",
   "execution_count": 89,
   "metadata": {},
   "outputs": [
    {
     "name": "stdout",
     "output_type": "stream",
     "text": [
      "fraction of switch trials = 0.092\n",
      "total number of switches in test dataset = 13\n"
     ]
    }
   ],
   "source": [
    "print('fraction of switch trials = {:.3f}'.format(np.sum(Y_test)/len(Y_test)))\n",
    "print('total number of switches in test dataset = {:.0f}'.format(Y_test.sum()))"
   ]
  },
  {
   "cell_type": "code",
   "execution_count": 90,
   "metadata": {},
   "outputs": [
    {
     "data": {
      "text/plain": [
       "0.75471698113207553"
      ]
     },
     "execution_count": 90,
     "metadata": {},
     "output_type": "execute_result"
    }
   ],
   "source": [
    "# calculate accuracy of model at predicting switches\n",
    "accuracy_mat = np.abs(Y_test[switch_idx] - lr_predict_switch[switch_idx])\n",
    "accuracy_switch = (np.sum(switch)-accuracy_mat.sum())/np.sum(switch)\n",
    "accuracy_switch"
   ]
  },
  {
   "cell_type": "code",
   "execution_count": 91,
   "metadata": {},
   "outputs": [
    {
     "data": {
      "text/plain": [
       "0.99988933156263837"
      ]
     },
     "execution_count": 91,
     "metadata": {},
     "output_type": "execute_result"
    }
   ],
   "source": [
    "# calculate accuracy of model at predicting stays\n",
    "accuracy_mat = np.abs(Y_test[stay_idx] - lr_predict_switch[stay_idx])\n",
    "accuracy_stay = (np.sum(stay_idx)-accuracy_mat.sum())/np.sum(stay_idx)\n",
    "accuracy_stay"
   ]
  },
  {
   "cell_type": "code",
   "execution_count": 92,
   "metadata": {},
   "outputs": [
    {
     "data": {
      "text/plain": [
       "([<matplotlib.axis.XTick at 0x112326e10>,\n",
       "  <matplotlib.axis.XTick at 0x111fae978>,\n",
       "  <matplotlib.axis.XTick at 0x11200f240>],\n",
       " <a list of 3 Text xticklabel objects>)"
      ]
     },
     "execution_count": 92,
     "metadata": {},
     "output_type": "execute_result"
    },
    {
     "data": {
      "image/png": "[encoded data removed]",
      "text/plain": [
       "<matplotlib.figure.Figure at 0x112007550>"
      ]
     },
     "metadata": {},
     "output_type": "display_data"
    }
   ],
   "source": [
    "height = [score_switch, accuracy_stay, accuracy_switch]\n",
    "conditions = ['full', 'stay', 'switch']\n",
    "plt.bar(range(len(height)), height)\n",
    "plt.xticks(range(len(height)), conditions)"
   ]
  },
  {
   "cell_type": "code",
   "execution_count": null,
   "metadata": {
    "collapsed": true
   },
   "outputs": [],
   "source": []
  }
 ],
 "metadata": {
  "kernelspec": {
   "display_name": "Python 3",
   "language": "python",
   "name": "python3"
  },
  "language_info": {
   "codemirror_mode": {
    "name": "ipython",
    "version": 3
   },
   "file_extension": ".py",
   "mimetype": "text/x-python",
   "name": "python",
   "nbconvert_exporter": "python",
   "pygments_lexer": "ipython3",
   "version": "3.6.1"
  }
 },
 "nbformat": 4,
 "nbformat_minor": 2
}
