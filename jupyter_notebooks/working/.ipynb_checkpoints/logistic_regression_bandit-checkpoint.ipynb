{
 "cells": [
  {
   "cell_type": "code",
   "execution_count": 23,
   "metadata": {
    "collapsed": true
   },
   "outputs": [],
   "source": [
    "import numpy as np\n",
    "import pandas as pd\n",
    "import matplotlib.pyplot as plt\n",
    "import sklearn\n",
    "from sklearn.linear_model import LogisticRegression\n",
    "import getpass\n",
    "%matplotlib inline"
   ]
  },
  {
   "cell_type": "code",
   "execution_count": 24,
   "metadata": {
    "collapsed": true
   },
   "outputs": [],
   "source": [
    "username = getpass.getuser()"
   ]
  },
  {
   "cell_type": "code",
   "execution_count": 91,
   "metadata": {},
   "outputs": [
    {
     "data": {
      "text/html": [
       "<div>\n",
       "<table border=\"1\" class=\"dataframe\">\n",
       "  <thead>\n",
       "    <tr style=\"text-align: right;\">\n",
       "      <th></th>\n",
       "      <th>index</th>\n",
       "      <th>Mouse ID</th>\n",
       "      <th>Session ID</th>\n",
       "      <th>Trial</th>\n",
       "      <th>Block Trial</th>\n",
       "      <th>Block Reward</th>\n",
       "      <th>Port Streak</th>\n",
       "      <th>Reward Streak</th>\n",
       "      <th>10_Port</th>\n",
       "      <th>10_Reward</th>\n",
       "      <th>...</th>\n",
       "      <th>1_trialDuration</th>\n",
       "      <th>0_ITI</th>\n",
       "      <th>0_trialDuration</th>\n",
       "      <th>Decision</th>\n",
       "      <th>Switch</th>\n",
       "      <th>Higher p port</th>\n",
       "      <th>Reward</th>\n",
       "      <th>Condition</th>\n",
       "      <th>Block ID</th>\n",
       "      <th>Current Block Length</th>\n",
       "    </tr>\n",
       "  </thead>\n",
       "  <tbody>\n",
       "    <tr>\n",
       "      <th>0</th>\n",
       "      <td>0</td>\n",
       "      <td>Baby</td>\n",
       "      <td>04192018_Baby</td>\n",
       "      <td>11.0</td>\n",
       "      <td>11.0</td>\n",
       "      <td>6.0</td>\n",
       "      <td>8.0</td>\n",
       "      <td>1.0</td>\n",
       "      <td>0.0</td>\n",
       "      <td>0.0</td>\n",
       "      <td>...</td>\n",
       "      <td>0.432</td>\n",
       "      <td>1.262</td>\n",
       "      <td>0.522</td>\n",
       "      <td>1.0</td>\n",
       "      <td>0.0</td>\n",
       "      <td>1.0</td>\n",
       "      <td>1.0</td>\n",
       "      <td>90-10</td>\n",
       "      <td>1.0</td>\n",
       "      <td>59.0</td>\n",
       "    </tr>\n",
       "    <tr>\n",
       "      <th>1</th>\n",
       "      <td>1</td>\n",
       "      <td>Baby</td>\n",
       "      <td>04192018_Baby</td>\n",
       "      <td>12.0</td>\n",
       "      <td>12.0</td>\n",
       "      <td>7.0</td>\n",
       "      <td>9.0</td>\n",
       "      <td>2.0</td>\n",
       "      <td>0.0</td>\n",
       "      <td>0.0</td>\n",
       "      <td>...</td>\n",
       "      <td>0.522</td>\n",
       "      <td>2.181</td>\n",
       "      <td>0.531</td>\n",
       "      <td>1.0</td>\n",
       "      <td>0.0</td>\n",
       "      <td>1.0</td>\n",
       "      <td>1.0</td>\n",
       "      <td>90-10</td>\n",
       "      <td>1.0</td>\n",
       "      <td>59.0</td>\n",
       "    </tr>\n",
       "    <tr>\n",
       "      <th>2</th>\n",
       "      <td>2</td>\n",
       "      <td>Baby</td>\n",
       "      <td>04192018_Baby</td>\n",
       "      <td>13.0</td>\n",
       "      <td>13.0</td>\n",
       "      <td>8.0</td>\n",
       "      <td>10.0</td>\n",
       "      <td>3.0</td>\n",
       "      <td>1.0</td>\n",
       "      <td>1.0</td>\n",
       "      <td>...</td>\n",
       "      <td>0.531</td>\n",
       "      <td>1.737</td>\n",
       "      <td>0.540</td>\n",
       "      <td>1.0</td>\n",
       "      <td>0.0</td>\n",
       "      <td>1.0</td>\n",
       "      <td>1.0</td>\n",
       "      <td>90-10</td>\n",
       "      <td>1.0</td>\n",
       "      <td>59.0</td>\n",
       "    </tr>\n",
       "    <tr>\n",
       "      <th>3</th>\n",
       "      <td>3</td>\n",
       "      <td>Baby</td>\n",
       "      <td>04192018_Baby</td>\n",
       "      <td>14.0</td>\n",
       "      <td>14.0</td>\n",
       "      <td>9.0</td>\n",
       "      <td>11.0</td>\n",
       "      <td>4.0</td>\n",
       "      <td>1.0</td>\n",
       "      <td>0.0</td>\n",
       "      <td>...</td>\n",
       "      <td>0.540</td>\n",
       "      <td>1.791</td>\n",
       "      <td>0.248</td>\n",
       "      <td>1.0</td>\n",
       "      <td>0.0</td>\n",
       "      <td>1.0</td>\n",
       "      <td>1.0</td>\n",
       "      <td>90-10</td>\n",
       "      <td>1.0</td>\n",
       "      <td>59.0</td>\n",
       "    </tr>\n",
       "    <tr>\n",
       "      <th>4</th>\n",
       "      <td>4</td>\n",
       "      <td>Baby</td>\n",
       "      <td>04192018_Baby</td>\n",
       "      <td>15.0</td>\n",
       "      <td>15.0</td>\n",
       "      <td>10.0</td>\n",
       "      <td>12.0</td>\n",
       "      <td>5.0</td>\n",
       "      <td>1.0</td>\n",
       "      <td>1.0</td>\n",
       "      <td>...</td>\n",
       "      <td>0.248</td>\n",
       "      <td>1.275</td>\n",
       "      <td>0.360</td>\n",
       "      <td>1.0</td>\n",
       "      <td>0.0</td>\n",
       "      <td>1.0</td>\n",
       "      <td>1.0</td>\n",
       "      <td>90-10</td>\n",
       "      <td>1.0</td>\n",
       "      <td>59.0</td>\n",
       "    </tr>\n",
       "  </tbody>\n",
       "</table>\n",
       "<p>5 rows × 57 columns</p>\n",
       "</div>"
      ],
      "text/plain": [
       "   index Mouse ID     Session ID  Trial  Block Trial  Block Reward  \\\n",
       "0      0     Baby  04192018_Baby   11.0         11.0           6.0   \n",
       "1      1     Baby  04192018_Baby   12.0         12.0           7.0   \n",
       "2      2     Baby  04192018_Baby   13.0         13.0           8.0   \n",
       "3      3     Baby  04192018_Baby   14.0         14.0           9.0   \n",
       "4      4     Baby  04192018_Baby   15.0         15.0          10.0   \n",
       "\n",
       "   Port Streak  Reward Streak  10_Port  10_Reward          ...           \\\n",
       "0          8.0            1.0      0.0        0.0          ...            \n",
       "1          9.0            2.0      0.0        0.0          ...            \n",
       "2         10.0            3.0      1.0        1.0          ...            \n",
       "3         11.0            4.0      1.0        0.0          ...            \n",
       "4         12.0            5.0      1.0        1.0          ...            \n",
       "\n",
       "   1_trialDuration  0_ITI  0_trialDuration  Decision  Switch  Higher p port  \\\n",
       "0            0.432  1.262            0.522       1.0     0.0            1.0   \n",
       "1            0.522  2.181            0.531       1.0     0.0            1.0   \n",
       "2            0.531  1.737            0.540       1.0     0.0            1.0   \n",
       "3            0.540  1.791            0.248       1.0     0.0            1.0   \n",
       "4            0.248  1.275            0.360       1.0     0.0            1.0   \n",
       "\n",
       "   Reward  Condition  Block ID  Current Block Length  \n",
       "0     1.0      90-10       1.0                  59.0  \n",
       "1     1.0      90-10       1.0                  59.0  \n",
       "2     1.0      90-10       1.0                  59.0  \n",
       "3     1.0      90-10       1.0                  59.0  \n",
       "4     1.0      90-10       1.0                  59.0  \n",
       "\n",
       "[5 rows x 57 columns]"
      ]
     },
     "execution_count": 91,
     "metadata": {},
     "output_type": "execute_result"
    }
   ],
   "source": [
    "data = pd.read_csv('/Users/{:}/Dropbox (HMS)/mouse_bandit/markov_full.csv'.format(username), index_col=0)\n",
    "#data = data[data['Mouse ID']=='Baby']\n",
    "#data = data[data['Condition']=='90-10']\n",
    "data.head()"
   ]
  },
  {
   "cell_type": "markdown",
   "metadata": {},
   "source": [
    "### make some new dataframes\n",
    "    X has predictor variables (choice and reward history for past n trials) relevant variables for logit model\n",
    "    Y has dependent variable (choice on current trial)"
   ]
  },
  {
   "cell_type": "code",
   "execution_count": 46,
   "metadata": {
    "collapsed": true
   },
   "outputs": [],
   "source": [
    "#include past 10 choice and reward values (this is most convenient given the current data structure)\n",
    "choice_history = []\n",
    "reward_history = []\n",
    "for col in data.columns:\n",
    "    if '_Port' in col:\n",
    "        choice_history.append(data[col][:])\n",
    "    elif '_Reward' in col:\n",
    "        reward_history.append(data[col][:])\n",
    "        \n",
    "choice_history = np.transpose(np.asarray(choice_history))\n",
    "reward_history = np.transpose(np.asarray(reward_history))\n",
    "switch_history = np.abs(np.diff(choice_history)) # right now just missing whether or not switched on n-10 trial\n",
    "\n",
    "#current trial decision and outcome \n",
    "choice = []\n",
    "reward = []\n",
    "switch = []\n",
    "\n",
    "for col in data.columns:\n",
    "    if 'Decision' in col:\n",
    "        #print(col)\n",
    "        choice.append(data[col][:])\n",
    "    elif 'Reward' in col:\n",
    "        #print(col)\n",
    "        reward.append(data[col][:])\n",
    "    elif 'Switch' in col:\n",
    "        switch.append(data[col][:])\n",
    "\n",
    "choice = np.transpose(np.asarray(choice))\n",
    "reward = np.transpose(np.asarray(reward))\n",
    "switch = np.transpose(np.asarray(switch))"
   ]
  },
  {
   "cell_type": "markdown",
   "metadata": {},
   "source": [
    "### set up which datasets will be predictor and target"
   ]
  },
  {
   "cell_type": "code",
   "execution_count": 47,
   "metadata": {
    "collapsed": true
   },
   "outputs": [],
   "source": [
    "# set up as X and Y for logistic regression (X contains all predictors)\n",
    "X_choice = np.column_stack((choice_history, reward_history)) # n-1 to n-10 trial choices and outcomes\n",
    "X_switch = np.column_stack((switch_history, reward_history[:,0:9])) # n-1 to n-10 trial switches and outcomes\n",
    "X_choice_switch = np.column_stack((switch_history, choice_history[:,0:9], reward_history[:,0:9]))\n",
    "\n",
    "Y_choice = choice.ravel() # current trial choices\n",
    "Y_switch = switch.ravel() # current trial switches"
   ]
  },
  {
   "cell_type": "markdown",
   "metadata": {},
   "source": [
    "### split data into training and testing datasets\n",
    "--right now 70% to train, 30% test\n",
    "\n",
    "--X (train and test) mxn matrix with m trials and [n/2 choice, n/2 corresponding reward outcomes]\n",
    "            \n",
    "            X[:,0:9] = choice_history\n",
    "            \n",
    "            X[:,10:19] = reward_history\n",
    "\n",
    "--Y (train and test) mx1 matrix with m trials and 1 choice outcome\n"
   ]
  },
  {
   "cell_type": "code",
   "execution_count": 48,
   "metadata": {
    "collapsed": true
   },
   "outputs": [],
   "source": [
    "#train on proportion of data up to the 'cutoff.' hold out the rest as test data.\n",
    "idx = np.random.permutation(len(X_choice))\n",
    "cutoff = 0.7\n",
    "idx_train = idx[0:int(len(X_choice)*cutoff)]\n",
    "idx_test = idx[int(len(X_choice)*cutoff):]\n",
    "\n",
    "X_train = X_choice[idx_train]\n",
    "X_test = X_choice[idx_test]\n",
    "\n",
    "Y_train_choice = Y_choice[idx_train]\n",
    "Y_test_choice = Y_choice[idx_test]\n",
    "\n",
    "Y_train_switch = Y_switch[idx_train]\n",
    "Y_test_switch = Y_switch[idx_test]"
   ]
  },
  {
   "cell_type": "markdown",
   "metadata": {},
   "source": [
    "### Logistic regression\n",
    "Compare training on port choice (lr_port) vs training on switch (lr_switch)"
   ]
  },
  {
   "cell_type": "markdown",
   "metadata": {},
   "source": [
    "### lr1 - train on port choice to predict port choice\n",
    "#### Evaluate performance on predicting choice and predicting switches"
   ]
  },
  {
   "cell_type": "code",
   "execution_count": 49,
   "metadata": {},
   "outputs": [
    {
     "name": "stderr",
     "output_type": "stream",
     "text": [
      "/Users/celiaberon/anaconda/lib/python3.6/site-packages/sklearn/metrics/classification.py:1113: UndefinedMetricWarning: Precision and F-score are ill-defined and being set to 0.0 in labels with no predicted samples.\n",
      "  'precision', 'predicted', average, warn_for)\n"
     ]
    }
   ],
   "source": [
    "lr1_choice = LogisticRegression()\n",
    "lr1_choice.fit(X_train, Y_train_choice)\n",
    "\n",
    "lr1_choice_proba = lr1_choice.predict_proba(X_test)\n",
    "lr1_choice_predict = lr1_choice.predict(X_test)\n",
    "\n",
    "score_lr1_choice = lr1_choice.score(X_test, Y_test_choice)\n",
    "metrics_lr1_choice = sklearn.metrics.precision_recall_fscore_support(Y_test_choice, lr1_choice_predict)\n",
    "\n",
    "#switch_true = np.abs([Y_test_choice[n] - X_test[n,9] for n in range(len(Y_test_choice))]) # actual switches from test port (n) vs n-1 port (test[i,9]) -- matches Y_test_switch\n",
    "lr1_switch_predict = np.abs([lr1_choice_predict[n] - X_test[n,9] for n in range(len(lr1_choice_predict))])\n",
    "metrics_lr1_switch = sklearn.metrics.precision_recall_fscore_support(Y_test_switch, lr1_switch_predict)\n"
   ]
  },
  {
   "cell_type": "markdown",
   "metadata": {},
   "source": [
    "### lr2 - train on switches to predict switches"
   ]
  },
  {
   "cell_type": "code",
   "execution_count": 53,
   "metadata": {
    "collapsed": true
   },
   "outputs": [],
   "source": [
    "# redefine training and testing sets to use switch history and current switch decision\n",
    "X = np.column_stack((switch_history, reward_history[:,0:8]))\n",
    "X_train = X[idx_train]\n",
    "X_test = X[idx_test]\n",
    "\n",
    "\n",
    "# train and test LR\n",
    "lr2_switch = LogisticRegression()\n",
    "lr2_switch.fit(X_train, Y_train_switch)\n",
    "\n",
    "lr2_switch_proba = lr2_switch.predict_proba(X_test)\n",
    "lr2_switch_predict = lr2_switch.predict(X_test)\n",
    "\n",
    "score_lr2_switch = lr2_switch.score(X_test, Y_test_switch)\n",
    "metrics_lr2_switch = sklearn.metrics.precision_recall_fscore_support(Y_test_switch, lr2_switch_predict)\n"
   ]
  },
  {
   "cell_type": "code",
   "execution_count": 54,
   "metadata": {},
   "outputs": [
    {
     "data": {
      "text/plain": [
       "(array([  2.50190000e+04,   3.55900000e+03,   1.33700000e+03,\n",
       "          5.43000000e+02,   6.50000000e+02,   4.57000000e+02,\n",
       "          2.23000000e+02,   8.70000000e+01,   3.50000000e+01,\n",
       "          1.00000000e+01]),\n",
       " array([ 0.04073286,  0.09529789,  0.14986293,  0.20442797,  0.25899301,\n",
       "         0.31355805,  0.36812309,  0.42268813,  0.47725317,  0.53181821,\n",
       "         0.58638325]),\n",
       " <a list of 10 Patch objects>)"
      ]
     },
     "execution_count": 54,
     "metadata": {},
     "output_type": "execute_result"
    },
    {
     "data": {
      "image/png": "[encoded data removed]",
      "text/plain": [
       "<matplotlib.figure.Figure at 0x1150fe208>"
      ]
     },
     "metadata": {},
     "output_type": "display_data"
    }
   ],
   "source": [
    "plt.hist(lr2_switch_proba[:,1])"
   ]
  },
  {
   "cell_type": "markdown",
   "metadata": {},
   "source": [
    "### lr2.1 - change decision boundary"
   ]
  },
  {
   "cell_type": "code",
   "execution_count": 96,
   "metadata": {},
   "outputs": [],
   "source": [
    "metrics_db = []\n",
    "decision_boundaries = np.arange(0.05,0.6,0.05)\n",
    "for boundary in decision_boundaries:\n",
    "    temp_predict = lr2_switch_proba[:,1]>boundary\n",
    "    metrics_temp = sklearn.metrics.precision_recall_fscore_support(Y_test_switch, temp_predict)\n",
    "    metrics_db.append(metrics_temp)"
   ]
  },
  {
   "cell_type": "code",
   "execution_count": 97,
   "metadata": {},
   "outputs": [
    {
     "data": {
      "text/plain": [
       "array([ 0.05,  0.1 ,  0.15,  0.2 ,  0.25,  0.3 ,  0.35,  0.4 ,  0.45,\n",
       "        0.5 ,  0.55])"
      ]
     },
     "execution_count": 97,
     "metadata": {},
     "output_type": "execute_result"
    }
   ],
   "source": [
    "decision_boundaries"
   ]
  },
  {
   "cell_type": "code",
   "execution_count": 98,
   "metadata": {},
   "outputs": [
    {
     "data": {
      "text/plain": [
       "[(array([ 0.96931433,  0.12488729]),\n",
       "  array([ 0.46947282,  0.83591098]),\n",
       "  array([ 0.63256992,  0.21730816]),\n",
       "  array([29269,  2651])),\n",
       " (array([ 0.95194688,  0.22074509]),\n",
       "  array([ 0.82777   ,  0.53866465]),\n",
       "  array([ 0.88552632,  0.31315789]),\n",
       "  array([29269,  2651])),\n",
       " (array([ 0.93128302,  0.20575022]),\n",
       "  array([ 0.90939219,  0.25914749]),\n",
       "  array([ 0.92020743,  0.2293823 ]),\n",
       "  array([29269,  2651])),\n",
       " (array([ 0.92497069,  0.19903148]),\n",
       "  array([ 0.9434897 ,  0.15503584]),\n",
       "  array([ 0.93413842,  0.17430025]),\n",
       "  array([29269,  2651])),\n",
       " (array([ 0.9213705 ,  0.17046194]),\n",
       "  array([ 0.95643855,  0.09883063]),\n",
       "  array([ 0.93857708,  0.12511939]),\n",
       "  array([29269,  2651])),\n",
       " (array([ 0.91971535,  0.1681592 ]),\n",
       "  array([ 0.97143736,  0.06374953]),\n",
       "  array([ 0.94486907,  0.09245077]),\n",
       "  array([29269,  2651])),\n",
       " (array([ 0.91872556,  0.20169851]),\n",
       "  array([ 0.98715364,  0.03583553]),\n",
       "  array([ 0.95171119,  0.06085842]),\n",
       "  array([29269,  2651])),\n",
       " (array([ 0.91771753,  0.205     ]),\n",
       "  array([ 0.99456763,  0.01546586]),\n",
       "  array([ 0.95459837,  0.02876184]),\n",
       "  array([29269,  2651])),\n",
       " (array([ 0.91720325,  0.18072289]),\n",
       "  array([ 0.99767672,  0.00565824]),\n",
       "  array([ 0.95574903,  0.01097293]),\n",
       "  array([29269,  2651])),\n",
       " (array([ 0.91711096,  0.23529412]),\n",
       "  array([ 0.99911169,  0.00301773]),\n",
       "  array([ 0.9563568 ,  0.00595903]),\n",
       "  array([29269,  2651])),\n",
       " (array([ 0.91696955,  0.25      ]),\n",
       "  array([  9.99897502e-01,   3.77216145e-04]),\n",
       "  array([  9.56639699e-01,   7.53295669e-04]),\n",
       "  array([29269,  2651]))]"
      ]
     },
     "execution_count": 98,
     "metadata": {},
     "output_type": "execute_result"
    }
   ],
   "source": [
    "metrics_db"
   ]
  },
  {
   "cell_type": "code",
   "execution_count": 112,
   "metadata": {
    "collapsed": true
   },
   "outputs": [],
   "source": [
    "y_predict = np.zeros_like(lr2_switch_proba)\n",
    "y_predict[lr2_switch_proba > 0.2] = 1\n",
    "\n",
    "score_switch_2 = 1-(np.sum([np.abs(y_predict[i,1] - Y_test_switch[i]) for i in range(len(Y_test_switch))])/(len(Y_test_switch)))\n",
    "switch_predict_2 = np.abs([y_predict[n,1] - X_test[n,8] for n in range(len(y_predict))])\n",
    "\n",
    "metrics_switch_3 = sklearn.metrics.precision_recall_fscore_support(Y_test_switch, switch_predict_2)\n"
   ]
  },
  {
   "cell_type": "code",
   "execution_count": 117,
   "metadata": {},
   "outputs": [
    {
     "data": {
      "text/plain": [
       "(array([ 0.92599073,  0.34655335]),\n",
       " array([ 0.97635724,  0.13843833]),\n",
       " array([ 0.95050723,  0.19784367]),\n",
       " array([29269,  2651]))"
      ]
     },
     "execution_count": 117,
     "metadata": {},
     "output_type": "execute_result"
    }
   ],
   "source": [
    "metrics_switch_3"
   ]
  },
  {
   "cell_type": "code",
   "execution_count": 120,
   "metadata": {},
   "outputs": [
    {
     "data": {
      "text/plain": [
       "<matplotlib.legend.Legend at 0x119d68208>"
      ]
     },
     "execution_count": 120,
     "metadata": {},
     "output_type": "execute_result"
    },
    {
     "data": {
      "image/png": "[encoded data removed]",
      "text/plain": [
       "<matplotlib.figure.Figure at 0x119c638d0>"
      ]
     },
     "metadata": {},
     "output_type": "display_data"
    }
   ],
   "source": [
    "## height_a = [score_lr1_choice, metrics_lr1_switch[2][0], metrics_lr1_switch[2][1]]\n",
    "height_b = [score_lr2_switch, metrics_lr2_switch[1][0], metrics_lr2_switch[1][1]]\n",
    "height_c = [score_switch_2, metrics_switch_3[1][0], metrics_switch_3[1][1]]\n",
    "\n",
    "barWidth = 0.3\n",
    "# The x position of bars\n",
    "r1 = np.arange(len(height_b))\n",
    "r2 = [x + barWidth for x in r1]\n",
    "r3 = [x + barWidth for x in r2]\n",
    "\n",
    "conditions = ['full', 'stay', 'switch']\n",
    "plt.bar(r1, height_a, width=barWidth, label='lr_choice')\n",
    "plt.bar(r2, height_b, width=barWidth, label='lr_switch')\n",
    "plt.bar(r3, height_c, width=barWidth, label='lr_switch, db=.1')\n",
    "plt.xticks(range(len(height_b)), conditions)\n",
    "plt.ylabel('accuracy (f1)')\n",
    "plt.legend()"
   ]
  },
  {
   "cell_type": "markdown",
   "metadata": {},
   "source": [
    "### restructure dataset to reflect action value instead of raw actions"
   ]
  },
  {
   "cell_type": "code",
   "execution_count": 57,
   "metadata": {
    "collapsed": true
   },
   "outputs": [],
   "source": [
    "# value = L when choice = 0 and reward = 1 or when choice = 1 and reward = 0 \n",
    "# value = R when choice = 1 and reward = 1 or when choice = 0 and reward = 0\n",
    "value_history = (choice_history==reward_history).astype('int') # gives action value with R=1, L=0"
   ]
  },
  {
   "cell_type": "markdown",
   "metadata": {},
   "source": [
    "### lr3 - use action value to predict choice"
   ]
  },
  {
   "cell_type": "code",
   "execution_count": 58,
   "metadata": {
    "collapsed": true
   },
   "outputs": [],
   "source": [
    "# redefine training set to use value history\n",
    "X = value_history\n",
    "X_train = X[idx_train]\n",
    "X_test = X[idx_test]\n",
    "\n",
    "# train and test LR\n",
    "lr3_value = LogisticRegression()\n",
    "lr3_value.fit(X_train, Y_train_choice)\n",
    "\n",
    "lr3_value_proba = lr3_value.predict_proba(X_test)\n",
    "lr3_value_predict = lr3_value.predict(X_test)\n",
    "\n",
    "score_lr3_value_choice = lr3_value.score(X_test, Y_test_choice)\n",
    "metrics_lr3_value = sklearn.metrics.precision_recall_fscore_support(Y_test_choice, lr3_value_predict)\n",
    "\n",
    "lr3_switch_predict = np.abs([lr3_value_predict[n] - X_test[n,8] for n in range(len(lr3_value_predict))])\n",
    "metrics_lr3_switch = sklearn.metrics.precision_recall_fscore_support(Y_test_switch, lr3_switch_predict)\n",
    "\n",
    "score_switch_2 = 1-(np.sum([np.abs(lr3_value_predict[i] - Y_test_switch[i]) for i in range(len(Y_test_switch))])/(len(Y_test_switch)))\n"
   ]
  },
  {
   "cell_type": "code",
   "execution_count": 59,
   "metadata": {},
   "outputs": [
    {
     "data": {
      "text/plain": [
       "3749.0"
      ]
     },
     "execution_count": 59,
     "metadata": {},
     "output_type": "execute_result"
    }
   ],
   "source": [
    "np.sum(switch_predict_2)"
   ]
  },
  {
   "cell_type": "code",
   "execution_count": 60,
   "metadata": {},
   "outputs": [
    {
     "data": {
      "text/plain": [
       "<matplotlib.legend.Legend at 0x11568ba58>"
      ]
     },
     "execution_count": 60,
     "metadata": {},
     "output_type": "execute_result"
    },
    {
     "data": {
      "image/png": "[encoded data removed]",
      "text/plain": [
       "<matplotlib.figure.Figure at 0x113ca35c0>"
      ]
     },
     "metadata": {},
     "output_type": "display_data"
    }
   ],
   "source": [
    "from sklearn.metrics import roc_curve, roc_auc_score\n",
    "\n",
    "fpr, tpr, _ = roc_curve(Y_test_choice, lr1_choice_proba[:,1])\n",
    "plt.plot(fpr, tpr, label=\"LR1_PORT\")\n",
    "\n",
    "fpr, tpr, _ = roc_curve(Y_test_switch, lr2_switch_proba[:,1])\n",
    "plt.plot(fpr, tpr, label=\"LR2_SWITCH\")\n",
    "\n",
    "fpr, tpr, _ = roc_curve(Y_test_choice, lr3_value_proba[:,1])\n",
    "plt.plot(fpr, tpr, label=\"LR3_VALUE\")\n",
    "\n",
    "plt.plot([0, 1], [0, 1], ':k')\n",
    "plt.xlabel('false postive rate')\n",
    "plt.ylabel('true positive rate')\n",
    "\n",
    "plt.legend(loc='lower right')"
   ]
  },
  {
   "cell_type": "markdown",
   "metadata": {},
   "source": [
    "### what about a logistic regression with more inputs?"
   ]
  },
  {
   "cell_type": "code",
   "execution_count": 61,
   "metadata": {
    "collapsed": true
   },
   "outputs": [],
   "source": [
    "#train on proportion of data up to the 'cutoff.' hold out the rest as test data.\n",
    "X_train = X_choice_switch[idx_train]\n",
    "X_test = X_choice_switch[idx_test]\n",
    "\n",
    "# train and test LR\n",
    "lr4_multi = LogisticRegression()\n",
    "lr4_multi.fit(X_train, Y_train_choice)\n",
    "\n",
    "lr4_multi_proba = lr4_multi.predict_proba(X_test)\n",
    "lr4_multi_predict = lr4_multi.predict(X_test)\n",
    "\n",
    "score_lr4_multi_choice = lr4_multi.score(X_test, Y_test_choice)\n",
    "metrics_lr4_choice = sklearn.metrics.precision_recall_fscore_support(Y_test_choice, lr4_multi_predict)\n",
    "\n",
    "lr4_switch_predict = np.abs([lr4_multi_predict[n] - X_test[n,8] for n in range(len(lr4_multi_predict))])\n",
    "metrics_lr4_switch = sklearn.metrics.precision_recall_fscore_support(Y_test_switch, lr4_switch_predict)\n",
    "\n",
    "score_switch_2 = 1-(np.sum([np.abs(lr4_multi_predict[i] - Y_test_switch[i]) for i in range(len(Y_test_switch))])/(len(Y_test_switch)))\n",
    "\n",
    "'''\n",
    "Now train to predict switches\n",
    "'''\n",
    "\n",
    "lr5_multi = LogisticRegression()\n",
    "lr5_multi.fit(X_train, Y_train_switch)\n",
    "\n",
    "lr5_multi_proba = lr5_multi.predict_proba(X_test)\n",
    "lr5_multi_predict = lr5_multi.predict(X_test)\n",
    "\n",
    "score_lr5_multi_switch = lr5_multi.score(X_test, Y_test_switch)\n",
    "metrics_lr5_switch = sklearn.metrics.precision_recall_fscore_support(Y_test_switch, lr5_multi_predict)\n"
   ]
  },
  {
   "cell_type": "code",
   "execution_count": 62,
   "metadata": {},
   "outputs": [
    {
     "data": {
      "text/plain": [
       "(array([ 0.91705618,  0.1627907 ]),\n",
       " array([ 0.99877003,  0.00264051]),\n",
       " array([ 0.95617048,  0.00519673]),\n",
       " array([29269,  2651]))"
      ]
     },
     "execution_count": 62,
     "metadata": {},
     "output_type": "execute_result"
    }
   ],
   "source": [
    "metrics_lr5_switch"
   ]
  },
  {
   "cell_type": "markdown",
   "metadata": {},
   "source": [
    "## F1 score"
   ]
  },
  {
   "cell_type": "code",
   "execution_count": 129,
   "metadata": {},
   "outputs": [
    {
     "data": {
      "text/plain": [
       "0.87742495370767171"
      ]
     },
     "execution_count": 129,
     "metadata": {},
     "output_type": "execute_result"
    }
   ],
   "source": [
    "(metrics_lr2_switch[2][0]*(metrics_lr2_switch[3][0]/len(Y_test_switch)))+(metrics_lr2_switch[2][1]*(metrics_lr2_switch[3][1]/len(Y_test_switch)))\n",
    "                                                                         \n",
    "                                                                         \n",
    "                                                                         "
   ]
  },
  {
   "cell_type": "code",
   "execution_count": 131,
   "metadata": {
    "collapsed": true
   },
   "outputs": [],
   "source": [
    "LogisticRegression.score?"
   ]
  },
  {
   "cell_type": "code",
   "execution_count": 130,
   "metadata": {},
   "outputs": [
    {
     "data": {
      "text/plain": [
       "0.91638471177944858"
      ]
     },
     "execution_count": 130,
     "metadata": {},
     "output_type": "execute_result"
    }
   ],
   "source": [
    "score_lr2_switch"
   ]
  },
  {
   "cell_type": "code",
   "execution_count": null,
   "metadata": {
    "collapsed": true
   },
   "outputs": [],
   "source": [
    "height_a = [score_lr1_choice, metrics_lr1_switch[2][0], metrics_lr1_switch[2][1]]\n",
    "height_b = [score_lr2_switch, metrics_lr2_switch[2][0], metrics_lr2_switch[2][1]]\n",
    "height_c = [score_lr3_value_choice, metrics_lr3_switch[2][0], metrics_lr3_switch[2][1]]\n",
    "height_d = [score_lr4_multi_choice, metrics_lr4_switch[2][0], metrics_lr4_switch[2][1]]\n",
    "height_e = [score_lr5_multi_switch, metrics_lr5_switch[2][0], metrics_lr5_switch[2][1]]\n",
    "\n",
    "barWidth = 0.1\n",
    "# The x position of bars\n",
    "r1 = np.arange(len(height_b))\n",
    "r2 = [x + barWidth for x in r1]\n",
    "r3 = [x + barWidth for x in r2]\n",
    "r4 = [x + barWidth for x in r3]\n",
    "r5 = [x + barWidth for x in r4]\n",
    "\n",
    "conditions = ['full', 'stay', 'switch']\n",
    "plt.bar(r1, height_a, width=barWidth, label='lr1_choice')\n",
    "plt.bar(r2, height_b, width=barWidth, label='lr2_switch')\n",
    "plt.bar(r3, height_c, width=barWidth, label='lr3_value')\n",
    "plt.bar(r4, height_d, width=barWidth, label='lr4_multi')\n",
    "plt.bar(r5, height_e, width=barWidth, label='lr5_multi')\n",
    "\n",
    "plt.xticks(range(len(height_b)), conditions)\n",
    "plt.ylabel('accuracy (f1)')\n",
    "plt.legend()"
   ]
  },
  {
   "cell_type": "markdown",
   "metadata": {},
   "source": [
    "### Recall"
   ]
  },
  {
   "cell_type": "code",
   "execution_count": 121,
   "metadata": {},
   "outputs": [
    {
     "data": {
      "text/plain": [
       "<matplotlib.legend.Legend at 0x119f78ba8>"
      ]
     },
     "execution_count": 121,
     "metadata": {},
     "output_type": "execute_result"
    },
    {
     "data": {
      "image/png": "[encoded data removed]",
      "text/plain": [
       "<matplotlib.figure.Figure at 0x119bcfac8>"
      ]
     },
     "metadata": {},
     "output_type": "display_data"
    }
   ],
   "source": [
    "\n",
    "height_a = [score_lr1_choice, metrics_lr1_switch[1][0], metrics_lr1_switch[1][1]]\n",
    "height_b = [score_lr2_switch, metrics_lr2_switch[1][0], metrics_lr2_switch[1][1]]\n",
    "height_c = [score_lr3_value_choice, metrics_lr3_switch[1][0], metrics_lr3_switch[1][1]]\n",
    "height_d = [score_lr4_multi_choice, metrics_lr4_switch[1][0], metrics_lr4_switch[1][1]]\n",
    "height_e = [score_lr5_multi_switch, metrics_lr5_switch[1][0], metrics_lr5_switch[1][1]]\n",
    "\n",
    "barWidth = 0.1\n",
    "# The x position of bars\n",
    "r1 = np.arange(len(height_b))\n",
    "r2 = [x + barWidth for x in r1]\n",
    "r3 = [x + barWidth for x in r2]\n",
    "r4 = [x + barWidth for x in r3]\n",
    "r5 = [x + barWidth for x in r4]\n",
    "\n",
    "conditions = ['full', 'stay', 'switch']\n",
    "plt.bar(r1, height_a, width=barWidth, label='lr1_choice')\n",
    "plt.bar(r2, height_b, width=barWidth, label='lr2_switch')\n",
    "plt.bar(r3, height_c, width=barWidth, label='lr3_value')\n",
    "plt.bar(r4, height_d, width=barWidth, label='lr4_multi')\n",
    "plt.bar(r5, height_e, width=barWidth, label='lr5_multi')\n",
    "\n",
    "plt.xticks(range(len(height_b)), conditions)\n",
    "plt.ylabel('accuracy (f1)')\n",
    "plt.legend()"
   ]
  },
  {
   "cell_type": "markdown",
   "metadata": {},
   "source": [
    "### accuracy = % correct (number correct/total number)"
   ]
  },
  {
   "cell_type": "code",
   "execution_count": 64,
   "metadata": {},
   "outputs": [
    {
     "data": {
      "text/plain": [
       "<matplotlib.legend.Legend at 0x11768ab38>"
      ]
     },
     "execution_count": 64,
     "metadata": {},
     "output_type": "execute_result"
    },
    {
     "data": {
      "image/png": "[encoded data removed]",
      "text/plain": [
       "<matplotlib.figure.Figure at 0x118cf1e10>"
      ]
     },
     "metadata": {},
     "output_type": "display_data"
    }
   ],
   "source": [
    "from sklearn.metrics import roc_curve, roc_auc_score\n",
    "\n",
    "fpr, tpr, _ = roc_curve(Y_test_choice, lr1_choice_proba[:,1])\n",
    "plt.plot(fpr, tpr, label=\"LR1_PORT\")\n",
    "\n",
    "fpr, tpr, _ = roc_curve(Y_test_switch, lr2_switch_proba[:,1])\n",
    "plt.plot(fpr, tpr, label=\"LR2_SWITCH\")\n",
    "\n",
    "fpr, tpr, _ = roc_curve(Y_test_choice, lr3_value_proba[:,1])\n",
    "plt.plot(fpr, tpr, label=\"LR3_VALUE\")\n",
    "\n",
    "fpr, tpr, _ = roc_curve(Y_test_choice, lr4_multi_proba[:,1])\n",
    "plt.plot(fpr, tpr, label=\"LR4_MULTI\")\n",
    "\n",
    "fpr, tpr, _ = roc_curve(Y_test_switch, lr5_multi_proba[:,1])\n",
    "plt.plot(fpr, tpr, label=\"LR5_MULTI\")\n",
    "\n",
    "plt.plot([0, 1], [0, 1], ':k')\n",
    "plt.xlabel('false postive rate')\n",
    "plt.ylabel('true positive rate')\n",
    "\n",
    "plt.legend(loc='lower right')"
   ]
  },
  {
   "cell_type": "code",
   "execution_count": 66,
   "metadata": {},
   "outputs": [
    {
     "data": {
      "text/plain": [
       "array([[  1.74444720e-01,   3.12570518e-02,   1.89791913e-01,\n",
       "          1.54518226e-01,   2.81410310e-01,   2.16030940e-01,\n",
       "          2.77158351e-01,   4.54941815e-01,   7.03188432e-01,\n",
       "          3.42204015e+00,  -3.06531398e-02,  -2.20773244e-02,\n",
       "         -2.21741620e-02,  -7.26361422e-03,  -1.37672013e-03,\n",
       "         -2.61835849e-02,  -3.29161408e-03,  -1.60980311e-01,\n",
       "          5.09749841e-03,  -8.88580384e-03]])"
      ]
     },
     "execution_count": 66,
     "metadata": {},
     "output_type": "execute_result"
    }
   ],
   "source": [
    "lr1_choice.coef_"
   ]
  },
  {
   "cell_type": "code",
   "execution_count": 90,
   "metadata": {},
   "outputs": [
    {
     "data": {
      "text/plain": [
       "[<matplotlib.lines.Line2D at 0x119a3c4e0>]"
      ]
     },
     "execution_count": 90,
     "metadata": {},
     "output_type": "execute_result"
    },
    {
     "data": {
      "image/png": "[encoded data removed]",
      "text/plain": [
       "<matplotlib.figure.Figure at 0x119977da0>"
      ]
     },
     "metadata": {},
     "output_type": "display_data"
    }
   ],
   "source": [
    "plt.plot(np.arange(lr1_choice.coef_.shape[1]-10),lr1_choice.coef_[0][0:10]) # to only include one type of parameters"
   ]
  },
  {
   "cell_type": "code",
   "execution_count": null,
   "metadata": {
    "collapsed": true
   },
   "outputs": [],
   "source": []
  },
  {
   "cell_type": "code",
   "execution_count": null,
   "metadata": {
    "collapsed": true
   },
   "outputs": [],
   "source": []
  }
 ],
 "metadata": {
  "kernelspec": {
   "display_name": "Python 3",
   "language": "python",
   "name": "python3"
  },
  "language_info": {
   "codemirror_mode": {
    "name": "ipython",
    "version": 3
   },
   "file_extension": ".py",
   "mimetype": "text/x-python",
   "name": "python",
   "nbconvert_exporter": "python",
   "pygments_lexer": "ipython3",
   "version": "3.6.1"
  }
 },
 "nbformat": 4,
 "nbformat_minor": 2
}
