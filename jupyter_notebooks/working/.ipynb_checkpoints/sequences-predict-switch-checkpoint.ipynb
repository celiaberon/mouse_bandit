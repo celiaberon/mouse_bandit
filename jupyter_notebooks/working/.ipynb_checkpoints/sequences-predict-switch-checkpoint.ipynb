{
 "cells": [
  {
   "cell_type": "code",
   "execution_count": 517,
   "metadata": {},
   "outputs": [],
   "source": [
    "import numpy as np\n",
    "import pandas as pd\n",
    "import matplotlib.pyplot as plt\n",
    "import sklearn\n",
    "from sklearn.linear_model import LogisticRegression\n",
    "from sklearn.model_selection import train_test_split\n",
    "\n",
    "\n",
    "import getpass\n",
    "username = getpass.getuser()\n",
    "\n",
    "import sys\n",
    "sys.path.append('/Users/{:}/GitHub/mouse_bandit/data_preprocessing_code'.format(username))\n",
    "sys.path.append('/Users/{:}/GitHub/mouse_bandit'.format(username))\n",
    "import support_functions as sf\n",
    "%matplotlib inline"
   ]
  },
  {
   "cell_type": "code",
   "execution_count": 518,
   "metadata": {},
   "outputs": [
    {
     "data": {
      "text/html": [
       "<div>\n",
       "<table border=\"1\" class=\"dataframe\">\n",
       "  <thead>\n",
       "    <tr style=\"text-align: right;\">\n",
       "      <th></th>\n",
       "      <th>index</th>\n",
       "      <th>Mouse ID</th>\n",
       "      <th>Session ID</th>\n",
       "      <th>Trial</th>\n",
       "      <th>Block Trial</th>\n",
       "      <th>Block Reward</th>\n",
       "      <th>Port Streak</th>\n",
       "      <th>Reward Streak</th>\n",
       "      <th>10_Port</th>\n",
       "      <th>10_Reward</th>\n",
       "      <th>...</th>\n",
       "      <th>1_trialDuration</th>\n",
       "      <th>0_ITI</th>\n",
       "      <th>0_trialDuration</th>\n",
       "      <th>Decision</th>\n",
       "      <th>Switch</th>\n",
       "      <th>Higher p port</th>\n",
       "      <th>Reward</th>\n",
       "      <th>Condition</th>\n",
       "      <th>Block ID</th>\n",
       "      <th>Current Block Length</th>\n",
       "    </tr>\n",
       "  </thead>\n",
       "  <tbody>\n",
       "    <tr>\n",
       "      <th>0</th>\n",
       "      <td>0</td>\n",
       "      <td>Baby</td>\n",
       "      <td>04192018_Baby</td>\n",
       "      <td>11.0</td>\n",
       "      <td>11.0</td>\n",
       "      <td>6.0</td>\n",
       "      <td>8.0</td>\n",
       "      <td>1.0</td>\n",
       "      <td>0.0</td>\n",
       "      <td>0.0</td>\n",
       "      <td>...</td>\n",
       "      <td>0.432</td>\n",
       "      <td>1.262</td>\n",
       "      <td>0.522</td>\n",
       "      <td>1.0</td>\n",
       "      <td>0.0</td>\n",
       "      <td>1.0</td>\n",
       "      <td>1.0</td>\n",
       "      <td>90-10</td>\n",
       "      <td>1.0</td>\n",
       "      <td>59.0</td>\n",
       "    </tr>\n",
       "    <tr>\n",
       "      <th>1</th>\n",
       "      <td>1</td>\n",
       "      <td>Baby</td>\n",
       "      <td>04192018_Baby</td>\n",
       "      <td>12.0</td>\n",
       "      <td>12.0</td>\n",
       "      <td>7.0</td>\n",
       "      <td>9.0</td>\n",
       "      <td>2.0</td>\n",
       "      <td>0.0</td>\n",
       "      <td>0.0</td>\n",
       "      <td>...</td>\n",
       "      <td>0.522</td>\n",
       "      <td>2.181</td>\n",
       "      <td>0.531</td>\n",
       "      <td>1.0</td>\n",
       "      <td>0.0</td>\n",
       "      <td>1.0</td>\n",
       "      <td>1.0</td>\n",
       "      <td>90-10</td>\n",
       "      <td>1.0</td>\n",
       "      <td>59.0</td>\n",
       "    </tr>\n",
       "    <tr>\n",
       "      <th>2</th>\n",
       "      <td>2</td>\n",
       "      <td>Baby</td>\n",
       "      <td>04192018_Baby</td>\n",
       "      <td>13.0</td>\n",
       "      <td>13.0</td>\n",
       "      <td>8.0</td>\n",
       "      <td>10.0</td>\n",
       "      <td>3.0</td>\n",
       "      <td>1.0</td>\n",
       "      <td>1.0</td>\n",
       "      <td>...</td>\n",
       "      <td>0.531</td>\n",
       "      <td>1.737</td>\n",
       "      <td>0.540</td>\n",
       "      <td>1.0</td>\n",
       "      <td>0.0</td>\n",
       "      <td>1.0</td>\n",
       "      <td>1.0</td>\n",
       "      <td>90-10</td>\n",
       "      <td>1.0</td>\n",
       "      <td>59.0</td>\n",
       "    </tr>\n",
       "    <tr>\n",
       "      <th>3</th>\n",
       "      <td>3</td>\n",
       "      <td>Baby</td>\n",
       "      <td>04192018_Baby</td>\n",
       "      <td>14.0</td>\n",
       "      <td>14.0</td>\n",
       "      <td>9.0</td>\n",
       "      <td>11.0</td>\n",
       "      <td>4.0</td>\n",
       "      <td>1.0</td>\n",
       "      <td>0.0</td>\n",
       "      <td>...</td>\n",
       "      <td>0.540</td>\n",
       "      <td>1.791</td>\n",
       "      <td>0.248</td>\n",
       "      <td>1.0</td>\n",
       "      <td>0.0</td>\n",
       "      <td>1.0</td>\n",
       "      <td>1.0</td>\n",
       "      <td>90-10</td>\n",
       "      <td>1.0</td>\n",
       "      <td>59.0</td>\n",
       "    </tr>\n",
       "    <tr>\n",
       "      <th>4</th>\n",
       "      <td>4</td>\n",
       "      <td>Baby</td>\n",
       "      <td>04192018_Baby</td>\n",
       "      <td>15.0</td>\n",
       "      <td>15.0</td>\n",
       "      <td>10.0</td>\n",
       "      <td>12.0</td>\n",
       "      <td>5.0</td>\n",
       "      <td>1.0</td>\n",
       "      <td>1.0</td>\n",
       "      <td>...</td>\n",
       "      <td>0.248</td>\n",
       "      <td>1.275</td>\n",
       "      <td>0.360</td>\n",
       "      <td>1.0</td>\n",
       "      <td>0.0</td>\n",
       "      <td>1.0</td>\n",
       "      <td>1.0</td>\n",
       "      <td>90-10</td>\n",
       "      <td>1.0</td>\n",
       "      <td>59.0</td>\n",
       "    </tr>\n",
       "  </tbody>\n",
       "</table>\n",
       "<p>5 rows × 57 columns</p>\n",
       "</div>"
      ],
      "text/plain": [
       "   index Mouse ID     Session ID  Trial  Block Trial  Block Reward  \\\n",
       "0      0     Baby  04192018_Baby   11.0         11.0           6.0   \n",
       "1      1     Baby  04192018_Baby   12.0         12.0           7.0   \n",
       "2      2     Baby  04192018_Baby   13.0         13.0           8.0   \n",
       "3      3     Baby  04192018_Baby   14.0         14.0           9.0   \n",
       "4      4     Baby  04192018_Baby   15.0         15.0          10.0   \n",
       "\n",
       "   Port Streak  Reward Streak  10_Port  10_Reward          ...           \\\n",
       "0          8.0            1.0      0.0        0.0          ...            \n",
       "1          9.0            2.0      0.0        0.0          ...            \n",
       "2         10.0            3.0      1.0        1.0          ...            \n",
       "3         11.0            4.0      1.0        0.0          ...            \n",
       "4         12.0            5.0      1.0        1.0          ...            \n",
       "\n",
       "   1_trialDuration  0_ITI  0_trialDuration  Decision  Switch  Higher p port  \\\n",
       "0            0.432  1.262            0.522       1.0     0.0            1.0   \n",
       "1            0.522  2.181            0.531       1.0     0.0            1.0   \n",
       "2            0.531  1.737            0.540       1.0     0.0            1.0   \n",
       "3            0.540  1.791            0.248       1.0     0.0            1.0   \n",
       "4            0.248  1.275            0.360       1.0     0.0            1.0   \n",
       "\n",
       "   Reward  Condition  Block ID  Current Block Length  \n",
       "0     1.0      90-10       1.0                  59.0  \n",
       "1     1.0      90-10       1.0                  59.0  \n",
       "2     1.0      90-10       1.0                  59.0  \n",
       "3     1.0      90-10       1.0                  59.0  \n",
       "4     1.0      90-10       1.0                  59.0  \n",
       "\n",
       "[5 rows x 57 columns]"
      ]
     },
     "execution_count": 518,
     "metadata": {},
     "output_type": "execute_result"
    }
   ],
   "source": [
    "data = pd.read_csv('/Users/{:}/Dropbox (HMS)/mouse_bandit/markov_full.csv'.format(username), index_col=0)\n",
    "#data = data[data['Mouse ID']=='Baby']\n",
    "data = data[data['Condition']=='90-10']\n",
    "data.head()"
   ]
  },
  {
   "cell_type": "markdown",
   "metadata": {},
   "source": [
    "### make some new dataframes\n",
    "    X has predictor variables (choice and reward history for past n trials) relevant variables for logit model\n",
    "    Y has dependent variable (choice on current trial)"
   ]
  },
  {
   "cell_type": "code",
   "execution_count": 519,
   "metadata": {},
   "outputs": [],
   "source": [
    "#include past 10 choice and reward values (this is most convenient given the current data structure)\n",
    "port_features = []\n",
    "reward_features = []\n",
    "for col in data.columns:\n",
    "    if '_Port' in col:\n",
    "        port_features.append(col)\n",
    "    if '_Reward' in col:\n",
    "        reward_features.append(col)\n",
    "        \n",
    "choice_history = data[port_features]\n",
    "reward_history = data[reward_features]\n",
    "\n",
    "switch_cols = ['9_Switch','8_Switch','7_Switch','6_Switch','5_Switch','4_Switch','3_Switch','2_Switch','1_Switch']\n",
    "switch_history = pd.DataFrame(np.abs(np.diff((choice_history))))\n",
    "switch_history.columns=switch_cols\n",
    "switch_history.index=reward_history.index\n",
    "\n",
    "X_choice = pd.concat([choice_history.drop('10_Port', axis=1), reward_history.drop('10_Reward', axis=1)], axis=1)\n",
    "\n",
    "X_switch = pd.concat([switch_history, reward_history.drop('10_Reward', axis=1)], axis=1)\n",
    "\n",
    "X_choice_switch = pd.concat([switch_history, choice_history.drop('10_Port', axis=1), reward_history.drop('10_Reward', axis=1)], axis=1)\n",
    "\n",
    "# value = L when choice = 0 and reward = 1 or when choice = 1 and reward = 0 \n",
    "# value = R when choice = 1 and reward = 1 or when choice = 0 and reward = 0\n",
    "X_value_history = (choice_history.values==reward_history.values).astype('int') # gives action value with R=1, L=0\n",
    "\n",
    "Y_switch = data['Switch']\n",
    "\n",
    "Y_choice = data['Decision']\n"
   ]
  },
  {
   "cell_type": "markdown",
   "metadata": {},
   "source": [
    "### Logistic regression\n",
    "Compare training on port choice (lr_port) vs training on switch (lr_switch)"
   ]
  },
  {
   "cell_type": "markdown",
   "metadata": {},
   "source": [
    "### lr1 - train on port choice to predict port choice\n",
    "#### Evaluate performance on predicting choice and predicting switches"
   ]
  },
  {
   "cell_type": "code",
   "execution_count": 520,
   "metadata": {},
   "outputs": [
    {
     "name": "stderr",
     "output_type": "stream",
     "text": [
      "/Users/celiaberon/anaconda/lib/python3.6/site-packages/sklearn/metrics/classification.py:1113: UndefinedMetricWarning: Precision and F-score are ill-defined and being set to 0.0 in labels with no predicted samples.\n",
      "  'precision', 'predicted', average, warn_for)\n"
     ]
    }
   ],
   "source": [
    "X_train, X_test, y_train, y_test_choice = train_test_split(X_choice, Y_choice, test_size=0.3, random_state=1)\n",
    "\n",
    "lr1_choice = LogisticRegression()\n",
    "lr1_choice.fit(X_train, y_train)\n",
    "\n",
    "lr1_choice_proba = lr1_choice.predict_proba(X_test)\n",
    "lr1_choice_predict = lr1_choice.predict(X_test)\n",
    "\n",
    "score_lr1_choice = lr1_choice.score(X_test, y_test_choice)\n",
    "metrics_lr1_choice = sklearn.metrics.precision_recall_fscore_support(y_test_choice, lr1_choice_predict)\n",
    "\n",
    "prev_choice = X_test['1_Port']\n",
    "true_switch = np.abs(y_test_choice-prev_choice)\n",
    "lr1_switch_predict = np.abs(lr1_choice_predict-prev_choice)\n",
    "metrics_lr1_switch = sklearn.metrics.precision_recall_fscore_support(true_switch, lr1_switch_predict)\n",
    "\n",
    "#acc_pos,acc_neg,F1=sf.score_both_and_confuse(lr1_switch_predict,Y_test_switch,confusion=False,disp=True)"
   ]
  },
  {
   "cell_type": "markdown",
   "metadata": {},
   "source": [
    "### lr2 - train on switches to predict switches"
   ]
  },
  {
   "cell_type": "code",
   "execution_count": 521,
   "metadata": {
    "collapsed": true
   },
   "outputs": [],
   "source": [
    "# redefine training and testing sets to use switch history and current switch decision\n",
    "X_train, X_test, y_train, y_test = train_test_split(X_switch, Y_switch, test_size=0.3, random_state=1)\n",
    "\n",
    "# train and test LR\n",
    "lr2_switch = LogisticRegression()\n",
    "lr2_switch.fit(X_train, y_train)\n",
    "\n",
    "lr2_switch_proba = lr2_switch.predict_proba(X_test)\n",
    "lr2_switch_predict = lr2_switch.predict(X_test)\n",
    "\n",
    "score_lr2_switch = lr2_switch.score(X_test, y_test)\n",
    "metrics_lr2_switch = sklearn.metrics.precision_recall_fscore_support(y_test, lr2_switch_predict)\n"
   ]
  },
  {
   "cell_type": "code",
   "execution_count": 522,
   "metadata": {},
   "outputs": [
    {
     "data": {
      "text/plain": [
       "(array([ 0.96534149,  0.38656783]),\n",
       " array([ 0.9066229 ,  0.64384587]),\n",
       " array([ 0.93506127,  0.48308772]),\n",
       " array([29247,  2673]))"
      ]
     },
     "execution_count": 522,
     "metadata": {},
     "output_type": "execute_result"
    }
   ],
   "source": [
    "test = lr2_switch_proba[:,1]>0.2\n",
    "sklearn.metrics.precision_recall_fscore_support(y_test, test)"
   ]
  },
  {
   "cell_type": "code",
   "execution_count": 523,
   "metadata": {},
   "outputs": [
    {
     "data": {
      "text/plain": [
       "(array([  2.36710000e+04,   3.11800000e+03,   1.19700000e+03,\n",
       "          1.80000000e+03,   1.01400000e+03,   5.87000000e+02,\n",
       "          3.19000000e+02,   1.54000000e+02,   5.00000000e+01,\n",
       "          1.00000000e+01]),\n",
       " array([ 0.01402306,  0.09280578,  0.1715885 ,  0.25037122,  0.32915394,\n",
       "         0.40793666,  0.48671938,  0.5655021 ,  0.64428482,  0.72306754,\n",
       "         0.80185026]),\n",
       " <a list of 10 Patch objects>)"
      ]
     },
     "execution_count": 523,
     "metadata": {},
     "output_type": "execute_result"
    },
    {
     "data": {
      "image/png": "[encoded data removed]",
      "text/plain": [
       "<matplotlib.figure.Figure at 0x11db29470>"
      ]
     },
     "metadata": {},
     "output_type": "display_data"
    }
   ],
   "source": [
    "plt.hist(lr2_switch_proba[:,1])"
   ]
  },
  {
   "cell_type": "markdown",
   "metadata": {},
   "source": [
    "### lr2.1 - change decision boundary"
   ]
  },
  {
   "cell_type": "code",
   "execution_count": 524,
   "metadata": {
    "collapsed": true
   },
   "outputs": [],
   "source": [
    "metrics_db = []\n",
    "decision_boundaries = np.arange(0.05,0.6,0.05)\n",
    "for boundary in decision_boundaries:\n",
    "    temp_predict = lr2_switch_proba[:,1]>boundary\n",
    "    metrics_temp = sklearn.metrics.precision_recall_fscore_support(y_test, temp_predict)\n",
    "    metrics_db.append(metrics_temp)"
   ]
  },
  {
   "cell_type": "code",
   "execution_count": 525,
   "metadata": {},
   "outputs": [
    {
     "data": {
      "text/plain": [
       "array([ 0.05,  0.1 ,  0.15,  0.2 ,  0.25,  0.3 ,  0.35,  0.4 ,  0.45,\n",
       "        0.5 ,  0.55])"
      ]
     },
     "execution_count": 525,
     "metadata": {},
     "output_type": "execute_result"
    }
   ],
   "source": [
    "decision_boundaries"
   ]
  },
  {
   "cell_type": "code",
   "execution_count": 526,
   "metadata": {},
   "outputs": [
    {
     "data": {
      "text/plain": [
       "[(array([ 0.97930013,  0.24495709]),\n",
       "  array([ 0.76835231,  0.82229704]),\n",
       "  array([ 0.86109515,  0.37746866]),\n",
       "  array([29247,  2673])),\n",
       " (array([ 0.97654513,  0.2614072 ]),\n",
       "  array([ 0.79577393,  0.79087168]),\n",
       "  array([ 0.87694047,  0.3929368 ]),\n",
       "  array([29247,  2673])),\n",
       " (array([ 0.9699228 ,  0.32777198]),\n",
       "  array([ 0.86774712,  0.70557426]),\n",
       "  array([ 0.91599444,  0.44760888]),\n",
       "  array([29247,  2673])),\n",
       " (array([ 0.96534149,  0.38656783]),\n",
       "  array([ 0.9066229 ,  0.64384587]),\n",
       "  array([ 0.93506127,  0.48308772]),\n",
       "  array([29247,  2673])),\n",
       " (array([ 0.96232828,  0.40826613]),\n",
       "  array([ 0.91971826,  0.60606061]),\n",
       "  array([ 0.94054092,  0.48787833]),\n",
       "  array([29247,  2673])),\n",
       " (array([ 0.95145264,  0.44479718]),\n",
       "  array([ 0.94618251,  0.47175458]),\n",
       "  array([ 0.94881026,  0.45787945]),\n",
       "  array([29247,  2673])),\n",
       " (array([ 0.93889055,  0.47132311]),\n",
       "  array([ 0.96816768,  0.31051253]),\n",
       "  array([ 0.95330438,  0.37437979]),\n",
       "  array([29247,  2673])),\n",
       " (array([ 0.93132628,  0.47112971]),\n",
       "  array([ 0.97839095,  0.21062477]),\n",
       "  array([ 0.95427866,  0.29110651]),\n",
       "  array([29247,  2673])),\n",
       " (array([ 0.92616867,  0.47169811]),\n",
       "  array([ 0.98563955,  0.14029181]),\n",
       "  array([ 0.95497913,  0.21626298]),\n",
       "  array([29247,  2673])),\n",
       " (array([ 0.92221798,  0.4691358 ]),\n",
       "  array([ 0.99117858,  0.08529742]),\n",
       "  array([ 0.95545558,  0.14434948]),\n",
       "  array([29247,  2673])),\n",
       " (array([ 0.91924936,  0.43820225]),\n",
       "  array([ 0.99487127,  0.04377104]),\n",
       "  array([ 0.9555665 ,  0.07959184]),\n",
       "  array([29247,  2673]))]"
      ]
     },
     "execution_count": 526,
     "metadata": {},
     "output_type": "execute_result"
    }
   ],
   "source": [
    "metrics_db"
   ]
  },
  {
   "cell_type": "code",
   "execution_count": 527,
   "metadata": {},
   "outputs": [],
   "source": [
    "y_predict = lr2_switch_proba[:,1] > 0.2\n",
    "\n",
    "score_switch_2 = 1-(np.sum(np.abs(y_predict - y_test)) / (len(y_test)))\n",
    "#switch_predict_2 = np.abs([y_predict[n,1] - X_test[n,8] for n in range(len(y_predict))])\n",
    "\n",
    "metrics_switch_3 = sklearn.metrics.precision_recall_fscore_support(y_test, y_predict)\n"
   ]
  },
  {
   "cell_type": "code",
   "execution_count": 528,
   "metadata": {},
   "outputs": [
    {
     "data": {
      "text/plain": [
       "<matplotlib.legend.Legend at 0x11db72048>"
      ]
     },
     "execution_count": 528,
     "metadata": {},
     "output_type": "execute_result"
    },
    {
     "data": {
      "image/png": "[encoded data removed]",
      "text/plain": [
       "<matplotlib.figure.Figure at 0x11db625c0>"
      ]
     },
     "metadata": {},
     "output_type": "display_data"
    }
   ],
   "source": [
    "height_a = [score_lr1_choice, metrics_lr1_switch[1][0], metrics_lr1_switch[1][1]]\n",
    "height_b = [score_lr2_switch, metrics_lr2_switch[1][0], metrics_lr2_switch[1][1]]\n",
    "height_c = [score_switch_2, metrics_switch_3[1][0], metrics_switch_3[1][1]]\n",
    "\n",
    "barWidth = 0.3\n",
    "# The x position of bars\n",
    "r1 = np.arange(len(height_b))\n",
    "r2 = [x + barWidth for x in r1]\n",
    "r3 = [x + barWidth for x in r2]\n",
    "\n",
    "conditions = ['full', 'stay', 'switch']\n",
    "plt.bar(r1, height_a, width=barWidth, label='lr_choice')\n",
    "plt.bar(r2, height_b, width=barWidth, label='lr_switch')\n",
    "plt.bar(r3, height_c, width=barWidth, label='lr_switch, db=.1')\n",
    "plt.xticks(range(len(height_b)), conditions)\n",
    "plt.ylabel('accuracy (f1)')\n",
    "plt.legend()"
   ]
  },
  {
   "cell_type": "markdown",
   "metadata": {},
   "source": [
    "### lr3 - use action value to predict choice"
   ]
  },
  {
   "cell_type": "code",
   "execution_count": 529,
   "metadata": {},
   "outputs": [],
   "source": [
    "# redefine training set to use value history\n",
    "X_train, X_test, y_train, y_test_choice = train_test_split(X_value_history, Y_choice, test_size=0.3, random_state=1)\n",
    "\n",
    "# train and test LR\n",
    "lr3_value = LogisticRegression()\n",
    "lr3_value.fit(X_train, y_train)\n",
    "\n",
    "lr3_value_proba = lr3_value.predict_proba(X_test)\n",
    "lr3_value_predict = lr3_value.predict(X_test)\n",
    "\n",
    "score_lr3_value_choice = lr3_value.score(X_test, y_test_choice)\n",
    "metrics_lr3_value = sklearn.metrics.precision_recall_fscore_support(y_test_choice, lr3_value_predict)\n",
    "\n",
    "lr3_switch_predict = np.abs(lr3_value_predict-prev_choice)\n",
    "#lr3_switch_predict = np.abs([lr3_value_predict[n] - X_test[n,8] for n in range(len(lr3_value_predict))])\n",
    "metrics_lr3_switch = sklearn.metrics.precision_recall_fscore_support(y_test_choice, lr3_switch_predict)\n",
    "\n",
    "#score_switch_2 = 1-(np.sum([np.abs(lr3_value_predict[i] - Y_test_switch[i]) for i in range(len(Y_test_switch))])/(len(Y_test_switch)))\n"
   ]
  },
  {
   "cell_type": "markdown",
   "metadata": {},
   "source": [
    "### what about a logistic regression with more inputs?"
   ]
  },
  {
   "cell_type": "code",
   "execution_count": 530,
   "metadata": {},
   "outputs": [
    {
     "name": "stderr",
     "output_type": "stream",
     "text": [
      "/Users/celiaberon/anaconda/lib/python3.6/site-packages/sklearn/metrics/classification.py:1113: UndefinedMetricWarning: Precision and F-score are ill-defined and being set to 0.0 in labels with no predicted samples.\n",
      "  'precision', 'predicted', average, warn_for)\n"
     ]
    }
   ],
   "source": [
    "#train on proportion of data up to the 'cutoff.' hold out the rest as test data.\n",
    "X_train, X_test, y_train, y_test_choice = train_test_split(X_choice_switch, Y_choice, test_size=0.3, random_state=1)\n",
    "\n",
    "# train and test LR\n",
    "lr4_multi = LogisticRegression()\n",
    "lr4_multi.fit(X_train, y_train)\n",
    "\n",
    "lr4_multi_proba = lr4_multi.predict_proba(X_test)\n",
    "lr4_multi_predict = lr4_multi.predict(X_test)\n",
    "\n",
    "score_lr4_multi_choice = lr4_multi.score(X_test, y_test_choice)\n",
    "metrics_lr4_choice = sklearn.metrics.precision_recall_fscore_support(y_test_choice, lr4_multi_predict)\n",
    "\n",
    "lr4_switch_predict = np.abs(lr4_multi_predict-prev_choice)\n",
    "#lr4_switch_predict = np.abs([lr4_multi_predict[n] - X_test[n,8] for n in range(len(lr4_multi_predict))])\n",
    "metrics_lr4_switch = sklearn.metrics.precision_recall_fscore_support(true_switch, lr4_switch_predict)\n",
    "\n",
    "#score_switch_2 = 1-(np.sum([np.abs(lr4_multi_predict[i] - Y_test_switch[i]) for i in range(len(Y_test_switch))])/(len(Y_test_switch)))\n",
    "\n",
    "'''\n",
    "Now train to predict switches\n",
    "'''\n",
    "\n",
    "X_train, X_test, y_train, y_test = train_test_split(X_choice_switch, Y_switch, test_size=0.3, random_state=1)\n",
    "\n",
    "lr5_multi = LogisticRegression()\n",
    "lr5_multi.fit(X_train, y_train)\n",
    "\n",
    "lr5_multi_proba = lr5_multi.predict_proba(X_test)\n",
    "lr5_multi_predict = lr5_multi.predict(X_test)\n",
    "\n",
    "score_lr5_multi_switch = lr5_multi.score(X_test, y_test)\n",
    "metrics_lr5_switch = sklearn.metrics.precision_recall_fscore_support(y_test, lr5_multi_predict)\n"
   ]
  },
  {
   "cell_type": "markdown",
   "metadata": {},
   "source": [
    "## F1 score"
   ]
  },
  {
   "cell_type": "code",
   "execution_count": 531,
   "metadata": {},
   "outputs": [
    {
     "data": {
      "text/plain": [
       "<matplotlib.legend.Legend at 0x11b5fe4e0>"
      ]
     },
     "execution_count": 531,
     "metadata": {},
     "output_type": "execute_result"
    },
    {
     "data": {
      "image/png": "[encoded data removed]",
      "text/plain": [
       "<matplotlib.figure.Figure at 0x11c224828>"
      ]
     },
     "metadata": {},
     "output_type": "display_data"
    }
   ],
   "source": [
    "height_a = [score_lr1_choice, metrics_lr1_switch[2][0], metrics_lr1_switch[2][1]]\n",
    "height_b = [score_lr2_switch, metrics_lr2_switch[2][0], metrics_lr2_switch[2][1]]\n",
    "height_c = [score_lr3_value_choice, metrics_lr3_switch[2][0], metrics_lr3_switch[2][1]]\n",
    "height_d = [score_lr4_multi_choice, metrics_lr4_switch[2][0], metrics_lr4_switch[2][1]]\n",
    "height_e = [score_lr5_multi_switch, metrics_lr5_switch[2][0], metrics_lr5_switch[2][1]]\n",
    "\n",
    "barWidth = 0.1\n",
    "# The x position of bars\n",
    "r1 = np.arange(len(height_b))\n",
    "r2 = [x + barWidth for x in r1]\n",
    "r3 = [x + barWidth for x in r2]\n",
    "r4 = [x + barWidth for x in r3]\n",
    "r5 = [x + barWidth for x in r4]\n",
    "\n",
    "conditions = ['full', 'stay', 'switch']\n",
    "plt.bar(r1, height_a, width=barWidth, label='lr1_choice')\n",
    "plt.bar(r2, height_b, width=barWidth, label='lr2_switch')\n",
    "plt.bar(r3, height_c, width=barWidth, label='lr3_value')\n",
    "plt.bar(r4, height_d, width=barWidth, label='lr4_multi_choice')\n",
    "plt.bar(r5, height_e, width=barWidth, label='lr5_multi_switch')\n",
    "\n",
    "plt.xticks(range(len(height_b)), conditions)\n",
    "plt.ylabel('f1')\n",
    "plt.legend()"
   ]
  },
  {
   "cell_type": "markdown",
   "metadata": {},
   "source": [
    "## Accuracy/recall\n",
    "### predicted switches/stays out of total true switches/stays"
   ]
  },
  {
   "cell_type": "code",
   "execution_count": 532,
   "metadata": {},
   "outputs": [
    {
     "data": {
      "text/plain": [
       "<matplotlib.legend.Legend at 0x11ec7f908>"
      ]
     },
     "execution_count": 532,
     "metadata": {},
     "output_type": "execute_result"
    },
    {
     "data": {
      "image/png": "[encoded data removed]",
      "text/plain": [
       "<matplotlib.figure.Figure at 0x11ec63080>"
      ]
     },
     "metadata": {},
     "output_type": "display_data"
    }
   ],
   "source": [
    "height_a = [score_lr1_choice, metrics_lr1_switch[1][0], metrics_lr1_switch[1][1]]\n",
    "height_b = [score_lr2_switch, metrics_lr2_switch[1][0], metrics_lr2_switch[1][1]]\n",
    "height_c = [score_lr3_value_choice, metrics_lr3_switch[1][0], metrics_lr3_switch[1][1]]\n",
    "height_d = [score_lr4_multi_choice, metrics_lr4_switch[1][0], metrics_lr4_switch[1][1]]\n",
    "height_e = [score_lr5_multi_switch, metrics_lr5_switch[1][0], metrics_lr5_switch[1][1]]\n",
    "\n",
    "barWidth = 0.1\n",
    "# The x position of bars\n",
    "r1 = np.arange(len(height_b))\n",
    "r2 = [x + barWidth for x in r1]\n",
    "r3 = [x + barWidth for x in r2]\n",
    "r4 = [x + barWidth for x in r3]\n",
    "r5 = [x + barWidth for x in r4]\n",
    "\n",
    "conditions = ['full', 'stay', 'switch']\n",
    "plt.bar(r1, height_a, width=barWidth, label='lr1_choice')\n",
    "plt.bar(r2, height_b, width=barWidth, label='lr2_switch')\n",
    "plt.bar(r3, height_c, width=barWidth, label='lr3_value')\n",
    "plt.bar(r4, height_d, width=barWidth, label='lr4_multi_choice')\n",
    "plt.bar(r5, height_e, width=barWidth, label='lr5_multi_switch')\n",
    "\n",
    "plt.xticks(range(len(height_b)), conditions)\n",
    "plt.ylabel('accuracy')\n",
    "plt.legend()"
   ]
  },
  {
   "cell_type": "code",
   "execution_count": 533,
   "metadata": {},
   "outputs": [
    {
     "data": {
      "text/plain": [
       "<matplotlib.legend.Legend at 0x11d861a58>"
      ]
     },
     "execution_count": 533,
     "metadata": {},
     "output_type": "execute_result"
    },
    {
     "data": {
      "image/png": "[encoded data removed]",
      "text/plain": [
       "<matplotlib.figure.Figure at 0x11ed47eb8>"
      ]
     },
     "metadata": {},
     "output_type": "display_data"
    }
   ],
   "source": [
    "from sklearn.metrics import roc_curve, roc_auc_score\n",
    "\n",
    "fpr, tpr, _ = roc_curve(y_test_choice, lr1_choice_proba[:,1])\n",
    "plt.plot(fpr, tpr, label=\"LR1_PORT\")\n",
    "\n",
    "fpr, tpr, _ = roc_curve(y_test, lr2_switch_proba[:,1])\n",
    "plt.plot(fpr, tpr, label=\"LR2_SWITCH\")\n",
    "\n",
    "fpr, tpr, _ = roc_curve(y_test_choice, lr3_value_proba[:,1])\n",
    "plt.plot(fpr, tpr, label=\"LR3_VALUE\")\n",
    "\n",
    "fpr, tpr, _ = roc_curve(y_test_choice, lr4_multi_proba[:,1])\n",
    "plt.plot(fpr, tpr, label=\"LR4_MULTI\")\n",
    "\n",
    "fpr, tpr, _ = roc_curve(y_test, lr5_multi_proba[:,1])\n",
    "plt.plot(fpr, tpr, label=\"LR5_MULTI\")\n",
    "\n",
    "plt.plot([0, 1], [0, 1], ':k')\n",
    "plt.xlabel('false postive rate')\n",
    "plt.ylabel('true positive rate')\n",
    "\n",
    "plt.legend(loc='lower right')"
   ]
  },
  {
   "cell_type": "code",
   "execution_count": 534,
   "metadata": {},
   "outputs": [
    {
     "data": {
      "text/plain": [
       "array([[  2.00319298e-01,   2.88223725e-01,   1.10727604e-01,\n",
       "          2.26587765e-01,   2.28339440e-01,   2.82120121e-01,\n",
       "          4.19671265e-01,   6.99933968e-01,   3.44208642e+00,\n",
       "         -3.63325498e-02,  -2.83463230e-02,  -1.22434001e-02,\n",
       "         -1.48900409e-02,  -2.82139015e-02,   1.67285570e-02,\n",
       "         -1.22093245e-01,  -2.82289268e-02,  -2.41872953e-03]])"
      ]
     },
     "execution_count": 534,
     "metadata": {},
     "output_type": "execute_result"
    }
   ],
   "source": [
    "lr1_choice.coef_"
   ]
  },
  {
   "cell_type": "code",
   "execution_count": 535,
   "metadata": {},
   "outputs": [],
   "source": [
    "#plt.plot(np.arange(lr1_choice.coef_.shape[1]-10),lr1_choice.coef_[0][0:10]) # to only include one type of parameters"
   ]
  },
  {
   "cell_type": "code",
   "execution_count": 536,
   "metadata": {},
   "outputs": [
    {
     "data": {
      "text/html": [
       "<div>\n",
       "<table border=\"1\" class=\"dataframe\">\n",
       "  <thead>\n",
       "    <tr style=\"text-align: right;\">\n",
       "      <th></th>\n",
       "      <th>1_Switch</th>\n",
       "      <th>2_Switch</th>\n",
       "      <th>3_Switch</th>\n",
       "      <th>1_Reward</th>\n",
       "      <th>2_Reward</th>\n",
       "      <th>3_Reward</th>\n",
       "    </tr>\n",
       "  </thead>\n",
       "  <tbody>\n",
       "    <tr>\n",
       "      <th>0</th>\n",
       "      <td>0.0</td>\n",
       "      <td>0.0</td>\n",
       "      <td>0.0</td>\n",
       "      <td>1.0</td>\n",
       "      <td>0.0</td>\n",
       "      <td>1.0</td>\n",
       "    </tr>\n",
       "    <tr>\n",
       "      <th>1</th>\n",
       "      <td>0.0</td>\n",
       "      <td>0.0</td>\n",
       "      <td>0.0</td>\n",
       "      <td>1.0</td>\n",
       "      <td>1.0</td>\n",
       "      <td>0.0</td>\n",
       "    </tr>\n",
       "    <tr>\n",
       "      <th>2</th>\n",
       "      <td>0.0</td>\n",
       "      <td>0.0</td>\n",
       "      <td>0.0</td>\n",
       "      <td>1.0</td>\n",
       "      <td>1.0</td>\n",
       "      <td>1.0</td>\n",
       "    </tr>\n",
       "    <tr>\n",
       "      <th>3</th>\n",
       "      <td>0.0</td>\n",
       "      <td>0.0</td>\n",
       "      <td>0.0</td>\n",
       "      <td>1.0</td>\n",
       "      <td>1.0</td>\n",
       "      <td>1.0</td>\n",
       "    </tr>\n",
       "    <tr>\n",
       "      <th>4</th>\n",
       "      <td>0.0</td>\n",
       "      <td>0.0</td>\n",
       "      <td>0.0</td>\n",
       "      <td>1.0</td>\n",
       "      <td>1.0</td>\n",
       "      <td>1.0</td>\n",
       "    </tr>\n",
       "  </tbody>\n",
       "</table>\n",
       "</div>"
      ],
      "text/plain": [
       "   1_Switch  2_Switch  3_Switch  1_Reward  2_Reward  3_Reward\n",
       "0       0.0       0.0       0.0       1.0       0.0       1.0\n",
       "1       0.0       0.0       0.0       1.0       1.0       0.0\n",
       "2       0.0       0.0       0.0       1.0       1.0       1.0\n",
       "3       0.0       0.0       0.0       1.0       1.0       1.0\n",
       "4       0.0       0.0       0.0       1.0       1.0       1.0"
      ]
     },
     "execution_count": 536,
     "metadata": {},
     "output_type": "execute_result"
    }
   ],
   "source": [
    "temp = X_switch[['1_Switch','2_Switch','3_Switch','1_Reward','2_Reward','3_Reward']]\n",
    "temp.head()"
   ]
  },
  {
   "cell_type": "code",
   "execution_count": 537,
   "metadata": {},
   "outputs": [
    {
     "data": {
      "text/html": [
       "<div>\n",
       "<table border=\"1\" class=\"dataframe\">\n",
       "  <thead>\n",
       "    <tr style=\"text-align: right;\">\n",
       "      <th></th>\n",
       "      <th>3_Switch</th>\n",
       "      <th>2_Switch</th>\n",
       "      <th>1_Switch</th>\n",
       "      <th>3_Reward</th>\n",
       "      <th>2_Reward</th>\n",
       "      <th>1_Reward</th>\n",
       "    </tr>\n",
       "  </thead>\n",
       "  <tbody>\n",
       "    <tr>\n",
       "      <th>0</th>\n",
       "      <td>0.0</td>\n",
       "      <td>0.0</td>\n",
       "      <td>0.0</td>\n",
       "      <td>1.0</td>\n",
       "      <td>0.0</td>\n",
       "      <td>1.0</td>\n",
       "    </tr>\n",
       "    <tr>\n",
       "      <th>1</th>\n",
       "      <td>0.0</td>\n",
       "      <td>0.0</td>\n",
       "      <td>0.0</td>\n",
       "      <td>0.0</td>\n",
       "      <td>1.0</td>\n",
       "      <td>1.0</td>\n",
       "    </tr>\n",
       "    <tr>\n",
       "      <th>2</th>\n",
       "      <td>0.0</td>\n",
       "      <td>0.0</td>\n",
       "      <td>0.0</td>\n",
       "      <td>1.0</td>\n",
       "      <td>1.0</td>\n",
       "      <td>1.0</td>\n",
       "    </tr>\n",
       "    <tr>\n",
       "      <th>3</th>\n",
       "      <td>0.0</td>\n",
       "      <td>0.0</td>\n",
       "      <td>0.0</td>\n",
       "      <td>1.0</td>\n",
       "      <td>1.0</td>\n",
       "      <td>1.0</td>\n",
       "    </tr>\n",
       "    <tr>\n",
       "      <th>4</th>\n",
       "      <td>0.0</td>\n",
       "      <td>0.0</td>\n",
       "      <td>0.0</td>\n",
       "      <td>1.0</td>\n",
       "      <td>1.0</td>\n",
       "      <td>1.0</td>\n",
       "    </tr>\n",
       "  </tbody>\n",
       "</table>\n",
       "</div>"
      ],
      "text/plain": [
       "   3_Switch  2_Switch  1_Switch  3_Reward  2_Reward  1_Reward\n",
       "0       0.0       0.0       0.0       1.0       0.0       1.0\n",
       "1       0.0       0.0       0.0       0.0       1.0       1.0\n",
       "2       0.0       0.0       0.0       1.0       1.0       1.0\n",
       "3       0.0       0.0       0.0       1.0       1.0       1.0\n",
       "4       0.0       0.0       0.0       1.0       1.0       1.0"
      ]
     },
     "execution_count": 537,
     "metadata": {},
     "output_type": "execute_result"
    }
   ],
   "source": [
    "switch_reward_mat = X_switch[['3_Switch','2_Switch','1_Switch','3_Reward','2_Reward','1_Reward']]\n",
    "switch_reward_mat.head()"
   ]
  },
  {
   "cell_type": "code",
   "execution_count": 538,
   "metadata": {
    "collapsed": true
   },
   "outputs": [],
   "source": [
    "import itertools\n",
    "sequence_length = 3\n",
    "reward_combos = list(itertools.product([0,1], repeat=sequence_length*2))"
   ]
  },
  {
   "cell_type": "code",
   "execution_count": 539,
   "metadata": {
    "collapsed": true
   },
   "outputs": [],
   "source": [
    "switch_reward_sequence = []\n",
    "for i in range(len(X_switch)):\n",
    "    switch_reward_sequence.append(np.where(np.sum(reward_combos==switch_reward_mat.values[i], axis=1)==6)[0][0])"
   ]
  },
  {
   "cell_type": "code",
   "execution_count": 540,
   "metadata": {},
   "outputs": [
    {
     "data": {
      "text/plain": [
       "(0, 0, 0, 1, 1, 1)"
      ]
     },
     "execution_count": 540,
     "metadata": {},
     "output_type": "execute_result"
    }
   ],
   "source": [
    "from statistics import mode\n",
    "reward_combos[mode(switch_reward_sequence)] # by far the most common sequence is 3 rewarded stays"
   ]
  },
  {
   "cell_type": "code",
   "execution_count": 541,
   "metadata": {},
   "outputs": [
    {
     "name": "stdout",
     "output_type": "stream",
     "text": [
      "\n"
     ]
    },
    {
     "data": {
      "image/png": "[encoded data removed]",
      "text/plain": [
       "<matplotlib.figure.Figure at 0x11db7b048>"
      ]
     },
     "metadata": {},
     "output_type": "display_data"
    }
   ],
   "source": [
    "plt.hist(switch_reward_sequence,bins=64)\n",
    "print()"
   ]
  },
  {
   "cell_type": "code",
   "execution_count": 542,
   "metadata": {},
   "outputs": [],
   "source": [
    "idx=[] # create vector with indices for where each sequence in reward combos occurs in test\n",
    "for i in range(len(reward_combos)):\n",
    "    idx.append(np.where([switch_reward_sequence[n]==i for n in range(len(switch_reward_sequence))])[0])"
   ]
  },
  {
   "cell_type": "code",
   "execution_count": 543,
   "metadata": {},
   "outputs": [],
   "source": [
    "prob_switch = [Y_switch.iloc[idx[i]].sum()/len(idx[i]) for i in range(len(reward_combos)-1)]\n",
    "prob_switch.append(0)\n",
    "prob_switch_counts = np.array([len(idx[i]) for i in range(len(reward_combos))])"
   ]
  },
  {
   "cell_type": "code",
   "execution_count": 544,
   "metadata": {},
   "outputs": [
    {
     "name": "stdout",
     "output_type": "stream",
     "text": [
      "\n"
     ]
    },
    {
     "data": {
      "image/png": "[encoded data removed]",
      "text/plain": [
       "<matplotlib.figure.Figure at 0x135023ba8>"
      ]
     },
     "metadata": {},
     "output_type": "display_data"
    }
   ],
   "source": [
    "plt.figure(figsize=(20,8))\n",
    "plt.bar(left=np.arange(len(reward_combos)) ,height=prob_switch)\n",
    "plt.xticks(range(len(reward_combos)), reward_combos, rotation='vertical')\n",
    "plt.ylabel('p_switch')\n",
    "plt.xlabel('sequence - switch, reward')\n",
    "print()"
   ]
  },
  {
   "cell_type": "markdown",
   "metadata": {},
   "source": [
    "### plot p(switch) after n-3 sequence with color coding for reward history"
   ]
  },
  {
   "cell_type": "code",
   "execution_count": 545,
   "metadata": {},
   "outputs": [
    {
     "name": "stdout",
     "output_type": "stream",
     "text": [
      "\n"
     ]
    },
    {
     "data": {
      "image/png": "[encoded data removed]",
      "text/plain": [
       "<matplotlib.figure.Figure at 0x11b9110b8>"
      ]
     },
     "metadata": {},
     "output_type": "display_data"
    }
   ],
   "source": [
    "prob_switch=np.array(prob_switch)\n",
    "idx = prob_switch.argsort()\n",
    "reward_combos_sorted=np.array(reward_combos)[idx]\n",
    "prob_switch_sorted=prob_switch[idx]\n",
    "prob_switch_counts_sorted=prob_switch_counts[idx]\n",
    "\n",
    "reward_intensity = [reward_combos_sorted[i][3:6].sum() for i in range(len(reward_combos_sorted))]\n",
    "colors_dict={0:'whitesmoke', 1:'silver', 2:'dimgray', 3:'black'}\n",
    "colors = [colors_dict[reward_intensity[i]] for i in range(len(reward_intensity))]\n",
    "\n",
    "plt.figure(figsize=(20,8))\n",
    "plt.bar(left=np.arange(len(reward_combos)) ,height=prob_switch_sorted, color=colors)\n",
    "plt.xticks(range(len(reward_combos)), reward_combos_sorted, rotation='vertical')\n",
    "plt.ylabel('p_switch')\n",
    "plt.xlabel('sequence - switch, reward')\n",
    "print()\n",
    "plt.legend(colors_dict, loc='upper left')\n",
    "\n",
    "for i in range(len(reward_combos)):\n",
    "    plt.text(x = np.arange(len(reward_combos))[i]-.5 , y = prob_switch_sorted[i]+0.01, s = str(prob_switch_counts_sorted[i]), size = 8)\n",
    " \n"
   ]
  },
  {
   "cell_type": "markdown",
   "metadata": {},
   "source": [
    "### plot with color coding for switch history"
   ]
  },
  {
   "cell_type": "code",
   "execution_count": 546,
   "metadata": {},
   "outputs": [
    {
     "name": "stdout",
     "output_type": "stream",
     "text": [
      "\n"
     ]
    },
    {
     "data": {
      "text/plain": [
       "<matplotlib.legend.Legend at 0x12d9d90b8>"
      ]
     },
     "execution_count": 546,
     "metadata": {},
     "output_type": "execute_result"
    },
    {
     "data": {
      "image/png": "[encoded data removed]",
      "text/plain": [
       "<matplotlib.figure.Figure at 0x11d5cd400>"
      ]
     },
     "metadata": {},
     "output_type": "display_data"
    }
   ],
   "source": [
    "switch_intensity = [reward_combos_sorted[i][0:3].sum() for i in range(len(reward_combos_sorted))]\n",
    "colors_dict={0:'whitesmoke', 1:'silver', 2:'dimgray', 3:'black'}\n",
    "colors = [colors_dict[switch_intensity[i]] for i in range(len(reward_intensity))]\n",
    "\n",
    "plt.figure(figsize=(20,8))\n",
    "plt.bar(left=np.arange(len(reward_combos)) ,height=prob_switch_sorted, color=colors)\n",
    "plt.xticks(range(len(reward_combos)), reward_combos_sorted, rotation='vertical')\n",
    "plt.ylabel('p_switch')\n",
    "plt.xlabel('sequence - switch, reward')\n",
    "print()\n",
    "plt.legend(colors_dict, loc='upper left')"
   ]
  },
  {
   "cell_type": "code",
   "execution_count": 547,
   "metadata": {},
   "outputs": [
    {
     "data": {
      "text/plain": [
       "(64,)"
      ]
     },
     "execution_count": 547,
     "metadata": {},
     "output_type": "execute_result"
    }
   ],
   "source": [
    "prob_switch_from_half = np.abs(prob_switch-0.5) # acts as kind of a proxy for consistency\n",
    "prob_switch_from_half.shape"
   ]
  },
  {
   "cell_type": "markdown",
   "metadata": {},
   "source": [
    "### plot as distance from chance to determine consistency"
   ]
  },
  {
   "cell_type": "code",
   "execution_count": 548,
   "metadata": {},
   "outputs": [
    {
     "name": "stdout",
     "output_type": "stream",
     "text": [
      "\n"
     ]
    },
    {
     "data": {
      "text/plain": [
       "<matplotlib.legend.Legend at 0x138ccc080>"
      ]
     },
     "execution_count": 548,
     "metadata": {},
     "output_type": "execute_result"
    },
    {
     "data": {
      "image/png": "[encoded data removed]",
      "text/plain": [
       "<matplotlib.figure.Figure at 0x12da54978>"
      ]
     },
     "metadata": {},
     "output_type": "display_data"
    }
   ],
   "source": [
    "colors = [colors_dict[reward_intensity[i]] for i in range(len(reward_intensity))]\n",
    "\n",
    "plt.figure(figsize=(20,8))\n",
    "plt.bar(left=np.arange(len(reward_combos)) ,height=prob_switch_from_half, color=colors)\n",
    "plt.xticks(range(len(reward_combos)), reward_combos, rotation='vertical')\n",
    "print()\n",
    "for i in range(len(reward_combos)):\n",
    "    plt.text(x = np.arange(len(reward_combos))[i]-.4 , y = prob_switch_from_half[i]+0.01, \n",
    "             s = \"{:.1f}\".format((prob_switch_counts[i]/prob_switch_counts.sum())*100), size = 8)\n",
    "plt.ylabel('reproducibility (distance from chance=0.5)')\n",
    "plt.xlabel('switch-reward sequence')\n",
    "plt.legend([\"0\",\"1\", \"2\", \"3\"] , loc='upper left')"
   ]
  }
 ],
 "metadata": {
  "kernelspec": {
   "display_name": "Python 3",
   "language": "python",
   "name": "python3"
  },
  "language_info": {
   "codemirror_mode": {
    "name": "ipython",
    "version": 3
   },
   "file_extension": ".py",
   "mimetype": "text/x-python",
   "name": "python",
   "nbconvert_exporter": "python",
   "pygments_lexer": "ipython3",
   "version": "3.6.1"
  }
 },
 "nbformat": 4,
 "nbformat_minor": 2
}
