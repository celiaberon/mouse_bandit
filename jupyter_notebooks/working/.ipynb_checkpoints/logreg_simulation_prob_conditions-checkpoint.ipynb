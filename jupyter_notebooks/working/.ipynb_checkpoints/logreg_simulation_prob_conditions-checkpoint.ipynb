{
 "cells": [
  {
   "cell_type": "code",
   "execution_count": 21,
   "metadata": {
    "collapsed": true
   },
   "outputs": [],
   "source": [
    "import numpy as np\n",
    "from sklearn.linear_model import LogisticRegression\n",
    "import sklearn\n",
    "import pandas as pd\n",
    "import matplotlib.pyplot as plt\n",
    "from sklearn.model_selection import train_test_split\n",
    "import getpass"
   ]
  },
  {
   "cell_type": "code",
   "execution_count": 109,
   "metadata": {
    "collapsed": true
   },
   "outputs": [],
   "source": [
    "def get_choice_and_reward_history(data):\n",
    "    #include past 10 choice and reward values (this is most convenient given the current data structure)\n",
    "    port_features = []\n",
    "    reward_features = []\n",
    "    for col in data.columns:\n",
    "        if '_Port' in col:\n",
    "            port_features.append(col)\n",
    "        if '_Reward' in col:\n",
    "            reward_features.append(col)\n",
    "\n",
    "    choice_history = data[port_features]\n",
    "    reward_history = data[reward_features]\n",
    "    \n",
    "    return choice_history, reward_history"
   ]
  },
  {
   "cell_type": "code",
   "execution_count": 83,
   "metadata": {
    "collapsed": true
   },
   "outputs": [],
   "source": [
    "def logreg_predict_proba_metrics(X, y, n_simulations=1000, test=0.3, sync=False, seed=[]):\n",
    "\n",
    "    # select seed for each simulation\n",
    "    if len(seed)!=n_simulations:\n",
    "        seed = np.random.randint(100000, size=n_simulations)\n",
    "\n",
    "    # initialize arrays for LR results\n",
    "    lr_predict = np.zeros((int(np.round(test*len(X))),n_simulations))\n",
    "    lr_proba = np.zeros((int(np.round(test*len(X))), 2))\n",
    "    lr_score = np.zeros(n_simulations)\n",
    "    metrics = np.zeros((4,2))\n",
    "\n",
    "    for i in range(n_simulations):\n",
    "        X_train, X_test, y_train, y_test = train_test_split(X, y, test_size=test, random_state=seed[i])\n",
    "\n",
    "        lr = LogisticRegression()\n",
    "        lr.fit(X_train, y_train)\n",
    "\n",
    "        lr_proba = np.dstack((lr_proba, lr.predict_proba(X_test)))\n",
    "        lr_predict[:,i] = lr.predict(X_test)\n",
    "        lr_score[i] = lr.score(X_test, y_test)\n",
    "        metrics_temp = sklearn.metrics.precision_recall_fscore_support(y_test, lr_predict[:,i])\n",
    "        metrics = np.dstack((metrics, np.array(metrics_temp)))\n",
    "        \n",
    "        #lr1_switch_predict = np.abs([lr1_choice_predict[n] - X_test[n,9] for n in range(len(lr1_choice_predict))])\n",
    "        #lr1_metrics_switch = sklearn.metrics.precision_recall_fscore_support(Y_test_switch, lr1_switch_predict[:,i])\n",
    "\n",
    "    # clean up from initializing 3d stacks with zeros\n",
    "    metrics = metrics[:,:,1:n_simulations+1]\n",
    "    lr_proba = lr_proba[:,:,1:n_simulations+1]\n",
    "    \n",
    "    if sync==True: \n",
    "        return metrics, lr_predict, lr_proba, lr_score, seed\n",
    "    return metrics, lr_predict, lr_proba, lr_score"
   ]
  },
  {
   "cell_type": "code",
   "execution_count": 117,
   "metadata": {},
   "outputs": [
    {
     "name": "stderr",
     "output_type": "stream",
     "text": [
      "/Users/celiaberon/anaconda/lib/python3.6/site-packages/sklearn/metrics/classification.py:1113: UndefinedMetricWarning: Precision and F-score are ill-defined and being set to 0.0 in labels with no predicted samples.\n",
      "  'precision', 'predicted', average, warn_for)\n"
     ]
    }
   ],
   "source": [
    "username = getpass.getuser()\n",
    "data = pd.read_csv('/Users/{:}/Dropbox (HMS)/mouse_bandit/markov_full.csv'.format(username), index_col=0)\n",
    "data_8020 = data[data['Condition']=='80-20']\n",
    "data_9010 = data[data['Condition']=='90-10']\n",
    "data_7030 = data[data['Condition']=='70-30']\n",
    "\n",
    "choice_9010, reward_9010 = get_choice_and_reward_history(data_9010)\n",
    "choice_8020, reward_8020 = get_choice_and_reward_history(data_8020)\n",
    "choice_7030, reward_7030 = get_choice_and_reward_history(data_7030)\n",
    "\n",
    "seed1 = np.random.randint(100000,size=10)\n",
    "\n",
    "\n",
    "X_9010 = pd.concat([choice_9010.drop('10_Port', axis=1), reward_9010.drop('10_Reward', axis=1)], axis=1)\n",
    "y_9010 = data_9010['Switch']\n",
    "metrics9010, lr_predict9010, lr_proba9010, lr_score9010 = logreg_predict_proba_metrics(X_9010, \n",
    "                                                                            y_9010, n_simulations=10, seed=seed1)\n",
    "\n",
    "X_8020 = pd.concat([choice_8020.drop('10_Port', axis=1), reward_8020.drop('10_Reward', axis=1)], axis=1)\n",
    "y_8020 = data_8020['Switch']\n",
    "metrics8020, lr_predict8020, lr_proba8020, lr_score8020 = logreg_predict_proba_metrics(X_8020, \n",
    "                                                                            y_8020, n_simulations=10, seed=seed1)\n",
    "\n",
    "X_7030 = pd.concat([choice_7030.drop('10_Port', axis=1), reward_7030.drop('10_Reward', axis=1)], axis=1)\n",
    "y_7030 = data_7030['Switch']\n",
    "metrics7030, lr_predict7030, lr_proba7030, lr_score7030 = logreg_predict_proba_metrics(X_7030, \n",
    "                                                                            y_7030, n_simulations=10, seed=seed1)\n"
   ]
  },
  {
   "cell_type": "code",
   "execution_count": 118,
   "metadata": {},
   "outputs": [
    {
     "data": {
      "image/png": "[encoded data removed]",
      "text/plain": [
       "<matplotlib.figure.Figure at 0x11d2f7e10>"
      ]
     },
     "metadata": {},
     "output_type": "display_data"
    }
   ],
   "source": [
    "n_simulations=10\n",
    "height_9010 = [np.mean(lr_score9010), np.mean(metrics9010[2,0,:]), np.mean(metrics9010[2,1,:])]\n",
    "ystd1 = [np.std(lr_score9010), np.std(metrics9010[2,0,:]), np.std(metrics9010[2,1,:])]\n",
    "yerr1 = [ystd1[i] / np.sqrt(n_simulations) for i in range(len(ystd1))]\n",
    "\n",
    "height_8020 = [np.mean(lr_score8020), np.mean(metrics8020[2,0,:]), np.mean(metrics8020[2,1,:])]\n",
    "ystd2 = [np.std(lr_score8020), np.std(metrics8020[2,0,:]), np.std(metrics8020[2,1,:])]\n",
    "yerr2 = [ystd2[i] / np.sqrt(n_simulations) for i in range(len(ystd2))]\n",
    "\n",
    "height_7030 = [np.mean(lr_score7030), np.mean(metrics7030[2,0,:]), np.mean(metrics7030[2,1,:])]\n",
    "ystd3 = [np.std(lr_score7030), np.std(metrics7030[2,0,:]), np.std(metrics7030[2,1,:])]\n",
    "yerr3 = [ystd3[i] / np.sqrt(n_simulations) for i in range(len(ystd3))]\n",
    "\n",
    "barWidth = 0.2\n",
    "# The x position of bars\n",
    "r1 = np.arange(len(height_9010))\n",
    "r2 = [x + barWidth for x in r1]\n",
    "r3 = [x + barWidth for x in r2]\n",
    "\n",
    "conditions = ['full', 'stay', 'switch']\n",
    "plt.bar(r1, height_9010, width=barWidth, label='9010', yerr=yerr1, capsize=3)\n",
    "plt.bar(r2, height_8020, width=barWidth, label='8020', yerr=yerr2, capsize=3)\n",
    "plt.bar(r3, height_7030, width=barWidth, label='7030', yerr=yerr3, capsize=3)\n",
    "\n",
    "plt.xticks(range(len(height_a)), conditions)\n",
    "plt.ylabel('accuracy (f1)')\n",
    "plt.legend()\n",
    "plt.show()"
   ]
  }
 ],
 "metadata": {
  "kernelspec": {
   "display_name": "Python 3",
   "language": "python",
   "name": "python3"
  },
  "language_info": {
   "codemirror_mode": {
    "name": "ipython",
    "version": 3
   },
   "file_extension": ".py",
   "mimetype": "text/x-python",
   "name": "python",
   "nbconvert_exporter": "python",
   "pygments_lexer": "ipython3",
   "version": "3.6.1"
  }
 },
 "nbformat": 4,
 "nbformat_minor": 2
}
