{
 "cells": [
  {
   "cell_type": "code",
   "execution_count": 1,
   "metadata": {
    "collapsed": true
   },
   "outputs": [],
   "source": [
    "import numpy as np\n",
    "import pandas as pd\n",
    "import matplotlib.pyplot as plt\n",
    "import sklearn\n",
    "from sklearn.linear_model import LogisticRegression\n",
    "from sklearn.model_selection import train_test_split\n",
    "import getpass\n",
    "%matplotlib inline"
   ]
  },
  {
   "cell_type": "code",
   "execution_count": 16,
   "metadata": {
    "collapsed": true
   },
   "outputs": [],
   "source": [
    "username = getpass.getuser()\n",
    "data = pd.read_csv('/Users/{:}/Dropbox (HMS)/mouse_bandit/markov_full.csv'.format(username), index_col=0)"
   ]
  },
  {
   "cell_type": "markdown",
   "metadata": {},
   "source": [
    "### make some new dataframes\n",
    "    X has predictor variables (choice and reward history for past n trials) relevant variables for logit model\n",
    "    Y has dependent variable (choice on current trial)"
   ]
  },
  {
   "cell_type": "code",
   "execution_count": 4,
   "metadata": {
    "collapsed": true
   },
   "outputs": [],
   "source": [
    "#include past 10 choice and reward values (this is most convenient given the current data structure)\n",
    "port_features = []\n",
    "reward_features = []\n",
    "for col in data.columns:\n",
    "    if '_Port' in col:\n",
    "        port_features.append(col)\n",
    "    if '_Reward' in col:\n",
    "        reward_features.append(col)\n",
    "        \n",
    "choice_history = data[port_features]\n",
    "reward_history = data[reward_features]\n",
    "\n",
    "switch_cols = ['9_Switch','8_Switch','7_Switch','6_Switch','5_Switch','4_Switch','3_Switch','2_Switch','1_Switch']\n",
    "switch_history = pd.DataFrame(np.abs(np.diff(choice_history)))\n",
    "switch_history.columns=switch_cols"
   ]
  },
  {
   "cell_type": "code",
   "execution_count": 5,
   "metadata": {},
   "outputs": [],
   "source": [
    "X_choice = pd.concat([choice_history.drop('10_Port', axis=1), reward_history.drop('10_Reward', axis=1)], axis=1)\n",
    "\n",
    "X_switch = pd.concat([switch_history, reward_history.drop('10_Reward', axis=1)], axis=1)\n",
    "\n",
    "X_choice_switch = pd.concat([switch_history, choice_history.drop('10_Port', axis=1), reward_history.drop('10_Reward', axis=1)], axis=1)\n",
    "\n",
    "X_value_history = (choice_history.values==reward_history.values).astype('int') # gives action value with R=1, L=0"
   ]
  },
  {
   "cell_type": "code",
   "execution_count": 42,
   "metadata": {},
   "outputs": [],
   "source": [
    "Y_switch_right = data['Decision'] + data['Switch'] == 2\n",
    "Y_switch_left = data['Decision'].values + data['Switch']*2 == 2\n",
    "Y_switch_full = data['Switch']\n",
    "\n",
    "#Y_switch_right_history = (choice_history.drop('10_Port',axis=1).values + switch_history.values) == 2\n",
    "#Y_switch_left_history = (choice_history.drop('10_Port', axis=1).values + switch_history.values*2) == 2"
   ]
  },
  {
   "cell_type": "markdown",
   "metadata": {},
   "source": [
    "### set up which datasets will be predictor and target"
   ]
  },
  {
   "cell_type": "markdown",
   "metadata": {},
   "source": [
    "### lr1 - train on port choice to predict port choice"
   ]
  },
  {
   "cell_type": "code",
   "execution_count": 48,
   "metadata": {},
   "outputs": [],
   "source": [
    "'''LEFT'''\n",
    "X_train, X_test, y_train, y_test = train_test_split(X_choice, Y_switch_left, test_size=0.3, random_state=1)\n",
    "\n",
    "lr1 = LogisticRegression()\n",
    "lr1.fit(X_train, y_train)\n",
    "\n",
    "lr1_proba_L = lr1.predict_proba(X_test)\n",
    "lr1_predict_L = lr1.predict(X_test)\n",
    "\n",
    "score_lr1_L = lr1.score(X_test, y_test)\n",
    "metrics_lr1_L = sklearn.metrics.precision_recall_fscore_support(y_test, lr1_predict_L)\n",
    "\n",
    "'''RIGHT'''\n",
    "\n",
    "X_train, X_test, y_train, y_test = train_test_split(X_choice, Y_switch_right, test_size=0.3, random_state=1)\n",
    "\n",
    "lr1 = LogisticRegression()\n",
    "lr1.fit(X_train, y_train)\n",
    "\n",
    "lr1_proba_R = lr1.predict_proba(X_test)\n",
    "lr1_predict_R = lr1.predict(X_test)\n",
    "\n",
    "score_lr1_R = lr1.score(X_test, y_test)\n",
    "metrics_lr1_R = sklearn.metrics.precision_recall_fscore_support(y_test, lr1_predict_R)\n",
    "\n",
    "\n",
    "'''INTEGRATED'''\n",
    "X_train, X_test, y_train, y_test_full = train_test_split(X_choice, Y_switch_full, test_size=0.3, random_state=1)\n",
    "\n",
    "y_proba = np.array([max(lr1_proba_L[i,1], lr1_proba_R[i,1]) for i in range(lr1_proba_L.shape[0])])\n",
    "y_predict = y_proba[:]>0.2\n",
    "np.sum(y_predict)\n",
    "metrics_lr1 = sklearn.metrics.precision_recall_fscore_support(y_test_full, y_predict)"
   ]
  },
  {
   "cell_type": "code",
   "execution_count": 9,
   "metadata": {
    "scrolled": false
   },
   "outputs": [
    {
     "name": "stdout",
     "output_type": "stream",
     "text": [
      "predicted switches left = 464\n",
      "predicted switches right = 750\n",
      "overlapping predicted switches = 0\n"
     ]
    }
   ],
   "source": [
    "print('predicted switches left =', np.sum(lr1_predict_L))\n",
    "print('predicted switches right =', np.sum(lr1_predict_R))\n",
    "print('overlapping predicted switches =', np.sum(lr1_predict_L + lr1_predict_R ==2))"
   ]
  },
  {
   "cell_type": "code",
   "execution_count": 10,
   "metadata": {},
   "outputs": [
    {
     "data": {
      "text/plain": [
       "[<matplotlib.lines.Line2D at 0x11f775128>]"
      ]
     },
     "execution_count": 10,
     "metadata": {},
     "output_type": "execute_result"
    },
    {
     "data": {
      "image/png": "[encoded data removed]",
      "text/plain": [
       "<matplotlib.figure.Figure at 0x11b9248d0>"
      ]
     },
     "metadata": {},
     "output_type": "display_data"
    }
   ],
   "source": [
    "plt.plot(lr1_proba_L[0:100,1], 'b')\n",
    "plt.plot(lr1_proba_R[0:100,1], 'r')\n",
    "plt.plot(Y_switch_right[0:100], 'g')"
   ]
  },
  {
   "cell_type": "markdown",
   "metadata": {},
   "source": [
    "### lr2 - train on switches to predict switches"
   ]
  },
  {
   "cell_type": "code",
   "execution_count": 11,
   "metadata": {},
   "outputs": [],
   "source": [
    "'''LEFT'''\n",
    "X_train, X_test, y_train, y_test = train_test_split(X_switch, Y_switch_left, test_size=0.3, random_state=1)\n",
    "\n",
    "lr2 = LogisticRegression()\n",
    "lr2.fit(X_train, y_train)\n",
    "\n",
    "lr2_proba_L = lr2.predict_proba(X_test)\n",
    "lr2_predict_L = lr2.predict(X_test)\n",
    "\n",
    "score_lr2_L = lr2.score(X_test, y_test)\n",
    "metrics_lr2_L = sklearn.metrics.precision_recall_fscore_support(y_test, lr2_predict_L)\n",
    "\n",
    "'''RIGHT'''\n",
    "X_train, X_test, y_train, y_test = train_test_split(X_switch, Y_switch_right, test_size=0.3, random_state=1)\n",
    "\n",
    "lr2 = LogisticRegression()\n",
    "lr2.fit(X_train, y_train)\n",
    "\n",
    "lr2_proba_R = lr2.predict_proba(X_test)\n",
    "lr2_predict_R = lr2.predict(X_test)\n",
    "\n",
    "score_lr2_R = lr2.score(X_test, y_test)\n",
    "metrics_lr2_R = sklearn.metrics.precision_recall_fscore_support(y_test, lr2_predict_R)"
   ]
  },
  {
   "cell_type": "markdown",
   "metadata": {},
   "source": [
    "### lr3 - use action value to predict choice"
   ]
  },
  {
   "cell_type": "code",
   "execution_count": 12,
   "metadata": {},
   "outputs": [
    {
     "name": "stderr",
     "output_type": "stream",
     "text": [
      "/Users/celiaberon/anaconda/lib/python3.6/site-packages/sklearn/metrics/classification.py:1113: UndefinedMetricWarning: Precision and F-score are ill-defined and being set to 0.0 in labels with no predicted samples.\n",
      "  'precision', 'predicted', average, warn_for)\n"
     ]
    }
   ],
   "source": [
    "'''LEFT'''\n",
    "X_train, X_test, y_train, y_test = train_test_split(X_value_history, Y_switch_left, test_size=0.3, random_state=1)\n",
    "\n",
    "lr3 = LogisticRegression()\n",
    "lr3.fit(X_train, y_train)\n",
    "\n",
    "lr3_proba_L = lr3.predict_proba(X_test)\n",
    "lr3_predict_L = lr3.predict(X_test)\n",
    "\n",
    "score_lr3_L = lr3.score(X_test, y_test)\n",
    "metrics_lr3_L = sklearn.metrics.precision_recall_fscore_support(y_test, lr3_predict_L)\n",
    "\n",
    "\n",
    "'''RIGHT'''\n",
    "X_train, X_test, y_train, y_test = train_test_split(X_value_history, Y_switch_right, test_size=0.3, random_state=1)\n",
    "\n",
    "lr3 = LogisticRegression()\n",
    "lr3.fit(X_train, y_train)\n",
    "\n",
    "lr3_proba_R = lr3.predict_proba(X_test)\n",
    "lr3_predict_R = lr3.predict(X_test)\n",
    "\n",
    "score_lr3_R = lr3.score(X_test, y_test)\n",
    "metrics_lr3_R = sklearn.metrics.precision_recall_fscore_support(y_test, lr3_predict_R)\n"
   ]
  },
  {
   "cell_type": "markdown",
   "metadata": {},
   "source": [
    "### what about a logistic regression with more inputs?"
   ]
  },
  {
   "cell_type": "code",
   "execution_count": 13,
   "metadata": {},
   "outputs": [],
   "source": [
    "X_train, X_test, y_train, y_test = train_test_split(X_choice_switch, Y_switch_left, test_size=0.3, random_state=1)\n",
    "\n",
    "'''Left'''\n",
    "lr4 = LogisticRegression()\n",
    "lr4.fit(X_train, y_train)\n",
    "\n",
    "lr4_proba_L = lr4.predict_proba(X_test)\n",
    "lr4_predict_L = lr4.predict(X_test)\n",
    "\n",
    "score_lr4_L = lr4.score(X_test, y_test)\n",
    "metrics_lr4_L = sklearn.metrics.precision_recall_fscore_support(y_test, lr4_predict_L)\n",
    "\n",
    "'''RIGHT'''\n",
    "X_train, X_test, y_train, y_test = train_test_split(X_choice_switch, Y_switch_right, test_size=0.3, random_state=1)\n",
    "\n",
    "\n",
    "lr4 = LogisticRegression()\n",
    "lr4.fit(X_train, y_train)\n",
    "\n",
    "lr4_proba_R = lr4.predict_proba(X_test)\n",
    "lr4_predict_R = lr4.predict(X_test)\n",
    "\n",
    "score_lr4_R = lr4.score(X_test, y_test)\n",
    "metrics_lr4_R = sklearn.metrics.precision_recall_fscore_support(y_test, lr4_predict_R)"
   ]
  },
  {
   "cell_type": "code",
   "execution_count": 55,
   "metadata": {},
   "outputs": [
    {
     "data": {
      "text/plain": [
       "<matplotlib.legend.Legend at 0x121203b70>"
      ]
     },
     "execution_count": 55,
     "metadata": {},
     "output_type": "execute_result"
    },
    {
     "data": {
      "image/png": "[encoded data removed]",
      "text/plain": [
       "<matplotlib.figure.Figure at 0x1210fc400>"
      ]
     },
     "metadata": {},
     "output_type": "display_data"
    }
   ],
   "source": [
    "height_a = [score_lr1_R, metrics_lr1_R[2][0], metrics_lr1_R[2][1]]\n",
    "height_b = [score_lr2_R, metrics_lr2_R[2][0], metrics_lr2_R[2][1]]\n",
    "height_c = [score_lr3_R, metrics_lr3_R[2][0], metrics_lr3_R[2][1]]\n",
    "height_d = [score_lr4_R, metrics_lr4_R[2][0], metrics_lr4_R[2][1]]\n",
    "height_e = [0, metrics_lr1[2][0], metrics_lr1[2][1]]\n",
    "\n",
    "barWidth = 0.1\n",
    "# The x position of bars\n",
    "r1 = np.arange(len(height_b))\n",
    "r2 = [x + barWidth for x in r1]\n",
    "r3 = [x + barWidth for x in r2]\n",
    "r4 = [x + barWidth for x in r3]\n",
    "r5 = [x + barWidth for x in r4]\n",
    "\n",
    "conditions = ['full', 'stay', 'switch']\n",
    "plt.bar(r1, height_a, width=barWidth, label='lr1_choice')\n",
    "plt.bar(r2, height_b, width=barWidth, label='lr2_switch')\n",
    "plt.bar(r3, height_c, width=barWidth, label='lr3_value')\n",
    "plt.bar(r4, height_d, width=barWidth, label='lr4_multi')\n",
    "plt.bar(r5, height_e, width=barWidth, label='lr5_multi')\n",
    "\n",
    "plt.xticks(range(len(height_b)), conditions)\n",
    "plt.ylabel('accuracy (f1)')\n",
    "plt.legend()"
   ]
  },
  {
   "cell_type": "code",
   "execution_count": 51,
   "metadata": {},
   "outputs": [
    {
     "data": {
      "text/plain": [
       "<matplotlib.legend.Legend at 0x11f8a99e8>"
      ]
     },
     "execution_count": 51,
     "metadata": {},
     "output_type": "execute_result"
    },
    {
     "data": {
      "image/png": "[encoded data removed]",
      "text/plain": [
       "<matplotlib.figure.Figure at 0x120faa160>"
      ]
     },
     "metadata": {},
     "output_type": "display_data"
    }
   ],
   "source": [
    "from sklearn.metrics import roc_curve, roc_auc_score\n",
    "\n",
    "fpr, tpr, _ = roc_curve(y_test, lr1_proba_R[:,1])\n",
    "plt.plot(fpr, tpr, label=\"LR1_PORT\")\n",
    "\n",
    "fpr, tpr, _ = roc_curve(y_test, lr2_proba_R[:,1])\n",
    "plt.plot(fpr, tpr, label=\"LR2_SWITCH\")\n",
    "\n",
    "fpr, tpr, _ = roc_curve(y_test, lr3_proba_R[:,1])\n",
    "plt.plot(fpr, tpr, label=\"LR3_VALUE\")\n",
    "\n",
    "fpr, tpr, _ = roc_curve(y_test, lr4_proba_R[:,1])\n",
    "plt.plot(fpr, tpr, label=\"LR3_MULTI\")\n",
    "\n",
    "\n",
    "plt.plot([0, 1], [0, 1], ':k')\n",
    "plt.xlabel('false postive rate')\n",
    "plt.ylabel('true positive rate')\n",
    "\n",
    "plt.legend(loc='lower right')"
   ]
  },
  {
   "cell_type": "code",
   "execution_count": null,
   "metadata": {
    "collapsed": true
   },
   "outputs": [],
   "source": []
  }
 ],
 "metadata": {
  "kernelspec": {
   "display_name": "Python 3",
   "language": "python",
   "name": "python3"
  },
  "language_info": {
   "codemirror_mode": {
    "name": "ipython",
    "version": 3
   },
   "file_extension": ".py",
   "mimetype": "text/x-python",
   "name": "python",
   "nbconvert_exporter": "python",
   "pygments_lexer": "ipython3",
   "version": "3.6.1"
  }
 },
 "nbformat": 4,
 "nbformat_minor": 2
}
