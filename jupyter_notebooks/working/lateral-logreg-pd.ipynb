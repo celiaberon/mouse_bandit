{
 "cells": [
  {
   "cell_type": "code",
   "execution_count": 1,
   "metadata": {
    "collapsed": true
   },
   "outputs": [],
   "source": [
    "import numpy as np\n",
    "import pandas as pd\n",
    "import matplotlib.pyplot as plt\n",
    "import sklearn\n",
    "from sklearn.linear_model import LogisticRegression\n",
    "from sklearn.model_selection import train_test_split\n",
    "import getpass\n",
    "%matplotlib inline"
   ]
  },
  {
   "cell_type": "code",
   "execution_count": 28,
   "metadata": {},
   "outputs": [
    {
     "data": {
      "text/html": [
       "<div>\n",
       "<table border=\"1\" class=\"dataframe\">\n",
       "  <thead>\n",
       "    <tr style=\"text-align: right;\">\n",
       "      <th></th>\n",
       "      <th>index</th>\n",
       "      <th>Mouse ID</th>\n",
       "      <th>Session ID</th>\n",
       "      <th>Trial</th>\n",
       "      <th>Block Trial</th>\n",
       "      <th>Block Reward</th>\n",
       "      <th>Port Streak</th>\n",
       "      <th>Reward Streak</th>\n",
       "      <th>10_Port</th>\n",
       "      <th>10_Reward</th>\n",
       "      <th>...</th>\n",
       "      <th>1_trialDuration</th>\n",
       "      <th>0_ITI</th>\n",
       "      <th>0_trialDuration</th>\n",
       "      <th>Decision</th>\n",
       "      <th>Switch</th>\n",
       "      <th>Higher p port</th>\n",
       "      <th>Reward</th>\n",
       "      <th>Condition</th>\n",
       "      <th>Block ID</th>\n",
       "      <th>Current Block Length</th>\n",
       "    </tr>\n",
       "  </thead>\n",
       "  <tbody>\n",
       "    <tr>\n",
       "      <th>106400</th>\n",
       "      <td>0</td>\n",
       "      <td>Baby</td>\n",
       "      <td>01112018_Baby</td>\n",
       "      <td>11.0</td>\n",
       "      <td>11.0</td>\n",
       "      <td>5.0</td>\n",
       "      <td>2.0</td>\n",
       "      <td>-2.0</td>\n",
       "      <td>0.0</td>\n",
       "      <td>1.0</td>\n",
       "      <td>...</td>\n",
       "      <td>0.566</td>\n",
       "      <td>1.544</td>\n",
       "      <td>0.560</td>\n",
       "      <td>0.0</td>\n",
       "      <td>1.0</td>\n",
       "      <td>1.0</td>\n",
       "      <td>1.0</td>\n",
       "      <td>80-20</td>\n",
       "      <td>1.0</td>\n",
       "      <td>13.0</td>\n",
       "    </tr>\n",
       "    <tr>\n",
       "      <th>106401</th>\n",
       "      <td>1</td>\n",
       "      <td>Baby</td>\n",
       "      <td>01112018_Baby</td>\n",
       "      <td>12.0</td>\n",
       "      <td>12.0</td>\n",
       "      <td>6.0</td>\n",
       "      <td>1.0</td>\n",
       "      <td>1.0</td>\n",
       "      <td>0.0</td>\n",
       "      <td>1.0</td>\n",
       "      <td>...</td>\n",
       "      <td>0.560</td>\n",
       "      <td>2.506</td>\n",
       "      <td>0.497</td>\n",
       "      <td>0.0</td>\n",
       "      <td>0.0</td>\n",
       "      <td>1.0</td>\n",
       "      <td>1.0</td>\n",
       "      <td>80-20</td>\n",
       "      <td>1.0</td>\n",
       "      <td>13.0</td>\n",
       "    </tr>\n",
       "    <tr>\n",
       "      <th>106402</th>\n",
       "      <td>2</td>\n",
       "      <td>Baby</td>\n",
       "      <td>01112018_Baby</td>\n",
       "      <td>13.0</td>\n",
       "      <td>0.0</td>\n",
       "      <td>7.0</td>\n",
       "      <td>2.0</td>\n",
       "      <td>2.0</td>\n",
       "      <td>0.0</td>\n",
       "      <td>0.0</td>\n",
       "      <td>...</td>\n",
       "      <td>0.497</td>\n",
       "      <td>2.526</td>\n",
       "      <td>0.562</td>\n",
       "      <td>0.0</td>\n",
       "      <td>0.0</td>\n",
       "      <td>0.0</td>\n",
       "      <td>0.0</td>\n",
       "      <td>80-20</td>\n",
       "      <td>2.0</td>\n",
       "      <td>53.0</td>\n",
       "    </tr>\n",
       "    <tr>\n",
       "      <th>106403</th>\n",
       "      <td>3</td>\n",
       "      <td>Baby</td>\n",
       "      <td>01112018_Baby</td>\n",
       "      <td>14.0</td>\n",
       "      <td>1.0</td>\n",
       "      <td>0.0</td>\n",
       "      <td>3.0</td>\n",
       "      <td>-1.0</td>\n",
       "      <td>1.0</td>\n",
       "      <td>0.0</td>\n",
       "      <td>...</td>\n",
       "      <td>0.562</td>\n",
       "      <td>1.780</td>\n",
       "      <td>0.587</td>\n",
       "      <td>0.0</td>\n",
       "      <td>0.0</td>\n",
       "      <td>0.0</td>\n",
       "      <td>0.0</td>\n",
       "      <td>80-20</td>\n",
       "      <td>2.0</td>\n",
       "      <td>53.0</td>\n",
       "    </tr>\n",
       "    <tr>\n",
       "      <th>106404</th>\n",
       "      <td>4</td>\n",
       "      <td>Baby</td>\n",
       "      <td>01112018_Baby</td>\n",
       "      <td>15.0</td>\n",
       "      <td>2.0</td>\n",
       "      <td>0.0</td>\n",
       "      <td>4.0</td>\n",
       "      <td>-2.0</td>\n",
       "      <td>0.0</td>\n",
       "      <td>1.0</td>\n",
       "      <td>...</td>\n",
       "      <td>0.587</td>\n",
       "      <td>4.313</td>\n",
       "      <td>0.382</td>\n",
       "      <td>1.0</td>\n",
       "      <td>1.0</td>\n",
       "      <td>1.0</td>\n",
       "      <td>1.0</td>\n",
       "      <td>80-20</td>\n",
       "      <td>2.0</td>\n",
       "      <td>53.0</td>\n",
       "    </tr>\n",
       "  </tbody>\n",
       "</table>\n",
       "<p>5 rows × 57 columns</p>\n",
       "</div>"
      ],
      "text/plain": [
       "        index Mouse ID     Session ID  Trial  Block Trial  Block Reward  \\\n",
       "106400      0     Baby  01112018_Baby   11.0         11.0           5.0   \n",
       "106401      1     Baby  01112018_Baby   12.0         12.0           6.0   \n",
       "106402      2     Baby  01112018_Baby   13.0          0.0           7.0   \n",
       "106403      3     Baby  01112018_Baby   14.0          1.0           0.0   \n",
       "106404      4     Baby  01112018_Baby   15.0          2.0           0.0   \n",
       "\n",
       "        Port Streak  Reward Streak  10_Port  10_Reward          ...           \\\n",
       "106400          2.0           -2.0      0.0        1.0          ...            \n",
       "106401          1.0            1.0      0.0        1.0          ...            \n",
       "106402          2.0            2.0      0.0        0.0          ...            \n",
       "106403          3.0           -1.0      1.0        0.0          ...            \n",
       "106404          4.0           -2.0      0.0        1.0          ...            \n",
       "\n",
       "        1_trialDuration  0_ITI  0_trialDuration  Decision  Switch  \\\n",
       "106400            0.566  1.544            0.560       0.0     1.0   \n",
       "106401            0.560  2.506            0.497       0.0     0.0   \n",
       "106402            0.497  2.526            0.562       0.0     0.0   \n",
       "106403            0.562  1.780            0.587       0.0     0.0   \n",
       "106404            0.587  4.313            0.382       1.0     1.0   \n",
       "\n",
       "        Higher p port  Reward  Condition  Block ID  Current Block Length  \n",
       "106400            1.0     1.0      80-20       1.0                  13.0  \n",
       "106401            1.0     1.0      80-20       1.0                  13.0  \n",
       "106402            0.0     0.0      80-20       2.0                  53.0  \n",
       "106403            0.0     0.0      80-20       2.0                  53.0  \n",
       "106404            1.0     1.0      80-20       2.0                  53.0  \n",
       "\n",
       "[5 rows x 57 columns]"
      ]
     },
     "execution_count": 28,
     "metadata": {},
     "output_type": "execute_result"
    }
   ],
   "source": [
    "username = getpass.getuser()\n",
    "data = pd.read_csv('/Users/{:}/Dropbox (HMS)/mouse_bandit/markov_full.csv'.format(username), index_col=0)\n",
    "data = data[data['Condition']=='80-20']\n",
    "data.head()"
   ]
  },
  {
   "cell_type": "markdown",
   "metadata": {},
   "source": [
    "### make some new dataframes\n",
    "    X has predictor variables (choice and reward history for past n trials) relevant variables for logit model\n",
    "    Y has dependent variable (choice on current trial)"
   ]
  },
  {
   "cell_type": "code",
   "execution_count": 62,
   "metadata": {
    "collapsed": true
   },
   "outputs": [],
   "source": [
    "#include past 10 choice and reward values (this is most convenient given the current data structure)\n",
    "port_features = []\n",
    "reward_features = []\n",
    "for col in data.columns:\n",
    "    if '_Port' in col:\n",
    "        port_features.append(col)\n",
    "    if '_Reward' in col:\n",
    "        reward_features.append(col)\n",
    "        \n",
    "choice_history = data[port_features]\n",
    "reward_history = data[reward_features]\n",
    "\n",
    "switch_cols = ['9_Switch','8_Switch','7_Switch','6_Switch','5_Switch','4_Switch','3_Switch','2_Switch','1_Switch']\n",
    "switch_history = pd.DataFrame(np.abs(np.diff((choice_history))))\n",
    "switch_history.columns=switch_cols\n",
    "switch_history.index=reward_history.index"
   ]
  },
  {
   "cell_type": "code",
   "execution_count": 75,
   "metadata": {
    "collapsed": true
   },
   "outputs": [],
   "source": [
    "X_choice = pd.concat([choice_history.drop('10_Port', axis=1), reward_history.drop('10_Reward', axis=1)], axis=1)\n",
    "\n",
    "X_switch = pd.concat([switch_history, reward_history.drop('10_Reward', axis=1)], axis=1)\n",
    "\n",
    "X_choice_switch = pd.concat([switch_history, choice_history.drop('10_Port', axis=1), reward_history.drop('10_Reward', axis=1)], axis=1)\n",
    "\n",
    "X_value_history = (choice_history.values==reward_history.values).astype('int') # gives action value with R=1, L=0"
   ]
  },
  {
   "cell_type": "code",
   "execution_count": 78,
   "metadata": {
    "collapsed": true
   },
   "outputs": [],
   "source": [
    "Y_switch_right = data['Decision'] + data['Switch'] == 2\n",
    "Y_switch_left = data['Decision'].values + data['Switch']*2 == 2\n",
    "Y_switch_full = data['Switch']\n",
    "\n",
    "#Y_switch_right_history = (choice_history.drop('10_Port',axis=1).values + switch_history.values) == 2\n",
    "#Y_switch_left_history = (choice_history.drop('10_Port', axis=1).values + switch_history.values*2) == 2"
   ]
  },
  {
   "cell_type": "markdown",
   "metadata": {},
   "source": [
    "### set up which datasets will be predictor and target"
   ]
  },
  {
   "cell_type": "markdown",
   "metadata": {},
   "source": [
    "### lr1 - train on port choice to predict port choice"
   ]
  },
  {
   "cell_type": "code",
   "execution_count": 157,
   "metadata": {},
   "outputs": [],
   "source": [
    "'''LEFT'''\n",
    "X_train, X_test, y_train, y_test = train_test_split(X_choice, Y_switch_left, test_size=0.3, random_state=1)\n",
    "\n",
    "lr1 = LogisticRegression()\n",
    "lr1.fit(X_train, y_train)\n",
    "\n",
    "lr1_proba_L = lr1.predict_proba(X_test)\n",
    "lr1_predict_L = lr1.predict(X_test)\n",
    "#lr1_predict_L = lr1_predict_L>0.2\n",
    "\n",
    "score_lr1_L = lr1.score(X_test, y_test)\n",
    "metrics_lr1_L = sklearn.metrics.precision_recall_fscore_support(y_test, lr1_predict_L)\n",
    "\n",
    "'''RIGHT'''\n",
    "\n",
    "X_train, X_test, y_train, y_test = train_test_split(X_choice, Y_switch_right, test_size=0.3, random_state=1)\n",
    "\n",
    "lr1 = LogisticRegression(C=1)\n",
    "lr1.fit(X_train, y_train)\n",
    "\n",
    "lr1_proba_R = lr1.predict_proba(X_test)\n",
    "lr1_predict_R = lr1.predict(X_test)\n",
    "#lr1_predict_R = lr1_predict_R>0.2\n",
    "\n",
    "score_lr1_R = lr1.score(X_test, y_test)\n",
    "metrics_lr1_R = sklearn.metrics.precision_recall_fscore_support(y_test, lr1_predict_R)\n",
    "\n",
    "'''INTEGRATED'''\n",
    "X_train, X_test, y_train, y_test_full = train_test_split(X_choice, Y_switch_full, test_size=0.3, random_state=1)\n",
    "\n",
    "y_proba = np.array([max(lr1_proba_L[i,1], lr1_proba_R[i,1]) for i in range(lr1_proba_L.shape[0])])\n",
    "y_predict = y_proba[:]>0.2\n",
    "np.sum(y_predict)\n",
    "metrics_lr1 = sklearn.metrics.precision_recall_fscore_support(y_test_full, y_predict)\n",
    "\n",
    "lr1_score = 1-np.abs(y_predict-y_test_full).sum()/len(y_test_full)"
   ]
  },
  {
   "cell_type": "code",
   "execution_count": 127,
   "metadata": {},
   "outputs": [
    {
     "name": "stderr",
     "output_type": "stream",
     "text": [
      "/Users/celiaberon/anaconda/lib/python3.6/site-packages/sklearn/metrics/classification.py:1113: UndefinedMetricWarning: Precision and F-score are ill-defined and being set to 0.0 in labels with no predicted samples.\n",
      "  'precision', 'predicted', average, warn_for)\n"
     ]
    }
   ],
   "source": [
    "metrics_db = []\n",
    "decision_boundaries = np.arange(0,1,0.05)\n",
    "for boundary in decision_boundaries:\n",
    "    temp_predict = lr1_proba_R[:,1]>boundary\n",
    "    metrics_temp = sklearn.metrics.precision_recall_fscore_support(y_test, temp_predict)\n",
    "    metrics_db.append(metrics_temp)"
   ]
  },
  {
   "cell_type": "code",
   "execution_count": 151,
   "metadata": {},
   "outputs": [
    {
     "data": {
      "text/plain": [
       "(array([ 0.        ,  0.03144199]),\n",
       " array([ 0.,  1.]),\n",
       " array([ 0.        ,  0.06096706]),\n",
       " array([32160,  1044]))"
      ]
     },
     "execution_count": 151,
     "metadata": {},
     "output_type": "execute_result"
    }
   ],
   "source": [
    "metrics_db[0]"
   ]
  },
  {
   "cell_type": "code",
   "execution_count": 81,
   "metadata": {
    "scrolled": false
   },
   "outputs": [
    {
     "name": "stdout",
     "output_type": "stream",
     "text": [
      "predicted switches left = 119\n",
      "predicted switches right = 227\n",
      "overlapping predicted switches = 0\n"
     ]
    }
   ],
   "source": [
    "print('predicted switches left =', np.sum(lr1_predict_L))\n",
    "print('predicted switches right =', np.sum(lr1_predict_R))\n",
    "print('overlapping predicted switches =', np.sum(lr1_predict_L + lr1_predict_R ==2))"
   ]
  },
  {
   "cell_type": "code",
   "execution_count": 82,
   "metadata": {},
   "outputs": [
    {
     "data": {
      "text/plain": [
       "{'C': 1,\n",
       " 'class_weight': None,\n",
       " 'dual': False,\n",
       " 'fit_intercept': True,\n",
       " 'intercept_scaling': 1,\n",
       " 'max_iter': 100,\n",
       " 'multi_class': 'ovr',\n",
       " 'n_jobs': 1,\n",
       " 'penalty': 'l2',\n",
       " 'random_state': None,\n",
       " 'solver': 'liblinear',\n",
       " 'tol': 0.0001,\n",
       " 'verbose': 0,\n",
       " 'warm_start': False}"
      ]
     },
     "execution_count": 82,
     "metadata": {},
     "output_type": "execute_result"
    }
   ],
   "source": [
    "lr1.get_params()"
   ]
  },
  {
   "cell_type": "code",
   "execution_count": 83,
   "metadata": {},
   "outputs": [
    {
     "name": "stdout",
     "output_type": "stream",
     "text": [
      "Best Penalty: l1\n",
      "Best C: 1.0\n"
     ]
    }
   ],
   "source": [
    "# some code for optimizing parameters, come back to later\n",
    "\n",
    "penalty = ['l1', 'l2']\n",
    "C = np.logspace(0,4,10)\n",
    "hyperparameters = dict(C=C, penalty=penalty)\n",
    "lr_gridsearch = sklearn.model_selection.GridSearchCV(LogisticRegression(), hyperparameters, cv=5, verbose=0)\n",
    "    \n",
    "best_model = lr_gridsearch.fit(X_train, y_train)\n",
    "\n",
    "print('Best Penalty:', best_model.best_estimator_.get_params()['penalty'])\n",
    "print('Best C:', best_model.best_estimator_.get_params()['C'])\n",
    "\n",
    "y_predict = best_model.predict(X_test)\n",
    "y_proba = best_model.predict_proba(X_test)"
   ]
  },
  {
   "cell_type": "markdown",
   "metadata": {},
   "source": [
    "### take a look at probabilities from each model to switch right or left to compare predictions"
   ]
  },
  {
   "cell_type": "code",
   "execution_count": 84,
   "metadata": {},
   "outputs": [
    {
     "data": {
      "text/plain": [
       "<matplotlib.legend.Legend at 0x12347c710>"
      ]
     },
     "execution_count": 84,
     "metadata": {},
     "output_type": "execute_result"
    },
    {
     "data": {
      "image/png": "[encoded data removed]",
      "text/plain": [
       "<matplotlib.figure.Figure at 0x10d8b8ba8>"
      ]
     },
     "metadata": {},
     "output_type": "display_data"
    }
   ],
   "source": [
    "plt.plot(lr1_proba_L[0:100,1], 'b', label='left switch')\n",
    "plt.plot(lr1_proba_R[0:100,1], 'r', label='right switch')\n",
    "#plt.plot(Y_switch_left[0:100], '.b', label='true left switch')\n",
    "#plt.plot(Y_switch_right[0:100], '.r', label='true right switch')\n",
    "\n",
    "plt.xlabel('trial #')\n",
    "plt.ylabel('p(switch)')\n",
    "plt.legend()"
   ]
  },
  {
   "cell_type": "markdown",
   "metadata": {},
   "source": [
    "### lr2 - train on switches to predict switches"
   ]
  },
  {
   "cell_type": "code",
   "execution_count": 158,
   "metadata": {},
   "outputs": [
    {
     "name": "stderr",
     "output_type": "stream",
     "text": [
      "/Users/celiaberon/anaconda/lib/python3.6/site-packages/sklearn/metrics/classification.py:1113: UndefinedMetricWarning: Precision and F-score are ill-defined and being set to 0.0 in labels with no predicted samples.\n",
      "  'precision', 'predicted', average, warn_for)\n"
     ]
    }
   ],
   "source": [
    "'''LEFT'''\n",
    "X_train, X_test, y_train, y_test = train_test_split(X_switch, Y_switch_left, test_size=0.3, random_state=1)\n",
    "\n",
    "lr2 = LogisticRegression()\n",
    "lr2.fit(X_train, y_train)\n",
    "\n",
    "lr2_proba_L = lr2.predict_proba(X_test)\n",
    "lr2_predict_L = lr2.predict(X_test)\n",
    "\n",
    "score_lr2_L = lr2.score(X_test, y_test)\n",
    "metrics_lr2_L = sklearn.metrics.precision_recall_fscore_support(y_test, lr2_predict_L)\n",
    "\n",
    "'''RIGHT'''\n",
    "X_train, X_test, y_train, y_test = train_test_split(X_switch, Y_switch_right, test_size=0.3, random_state=1)\n",
    "\n",
    "lr2 = LogisticRegression()\n",
    "lr2.fit(X_train, y_train)\n",
    "\n",
    "lr2_proba_R = lr2.predict_proba(X_test)\n",
    "lr2_predict_R = lr2.predict(X_test)\n",
    "\n",
    "score_lr2_R = lr2.score(X_test, y_test)\n",
    "metrics_lr2_R = sklearn.metrics.precision_recall_fscore_support(y_test, lr2_predict_R)\n",
    "\n",
    "'''INTEGRATED'''\n",
    "X_train, X_test, y_train, y_test_full = train_test_split(X_switch, Y_switch_full, test_size=0.3, random_state=1)\n",
    "\n",
    "y_proba = np.array([max(lr2_proba_L[i,1], lr2_proba_R[i,1]) for i in range(lr2_proba_L.shape[0])])\n",
    "y_predict = y_proba[:]>0.2\n",
    "np.sum(y_predict)\n",
    "metrics_lr2 = sklearn.metrics.precision_recall_fscore_support(y_test_full, y_predict)\n",
    "\n",
    "lr2_score = 1-np.abs(y_predict-y_test_full).sum()/len(y_test_full)\n"
   ]
  },
  {
   "cell_type": "markdown",
   "metadata": {},
   "source": [
    "### lr3 - use action value to predict choice"
   ]
  },
  {
   "cell_type": "code",
   "execution_count": 159,
   "metadata": {},
   "outputs": [
    {
     "name": "stderr",
     "output_type": "stream",
     "text": [
      "/Users/celiaberon/anaconda/lib/python3.6/site-packages/sklearn/metrics/classification.py:1113: UndefinedMetricWarning: Precision and F-score are ill-defined and being set to 0.0 in labels with no predicted samples.\n",
      "  'precision', 'predicted', average, warn_for)\n"
     ]
    }
   ],
   "source": [
    "'''LEFT'''\n",
    "X_train, X_test, y_train, y_test = train_test_split(X_value_history, Y_switch_left, test_size=0.3, random_state=1)\n",
    "\n",
    "lr3 = LogisticRegression()\n",
    "lr3.fit(X_train, y_train)\n",
    "\n",
    "lr3_proba_L = lr3.predict_proba(X_test)\n",
    "lr3_predict_L = lr3.predict(X_test)\n",
    "\n",
    "score_lr3_L = lr3.score(X_test, y_test)\n",
    "metrics_lr3_L = sklearn.metrics.precision_recall_fscore_support(y_test, lr3_predict_L)\n",
    "\n",
    "\n",
    "'''RIGHT'''\n",
    "X_train, X_test, y_train, y_test = train_test_split(X_value_history, Y_switch_right, test_size=0.3, random_state=1)\n",
    "\n",
    "lr3 = LogisticRegression()\n",
    "lr3.fit(X_train, y_train)\n",
    "\n",
    "lr3_proba_R = lr3.predict_proba(X_test)\n",
    "lr3_predict_R = lr3.predict(X_test)\n",
    "\n",
    "score_lr3_R = lr3.score(X_test, y_test)\n",
    "metrics_lr3_R = sklearn.metrics.precision_recall_fscore_support(y_test, lr3_predict_R)\n",
    "\n",
    "'''INTEGRATED'''\n",
    "X_train, X_test, y_train, y_test_full = train_test_split(X_value_history, Y_switch_full, test_size=0.3, random_state=1)\n",
    "\n",
    "y_proba = np.array([max(lr3_proba_L[i,1], lr3_proba_R[i,1]) for i in range(lr3_proba_L.shape[0])])\n",
    "y_predict = y_proba[:]>0.2\n",
    "np.sum(y_predict)\n",
    "metrics_lr3 = sklearn.metrics.precision_recall_fscore_support(y_test_full, y_predict)\n",
    "\n",
    "lr3_score = 1-np.abs(y_predict-y_test_full).sum()/len(y_test_full)\n"
   ]
  },
  {
   "cell_type": "markdown",
   "metadata": {},
   "source": [
    "### what about a logistic regression with more inputs?"
   ]
  },
  {
   "cell_type": "code",
   "execution_count": 160,
   "metadata": {},
   "outputs": [],
   "source": [
    "X_train, X_test, y_train, y_test = train_test_split(X_choice_switch, Y_switch_left, test_size=0.3, random_state=1)\n",
    "\n",
    "'''Left'''\n",
    "lr4 = LogisticRegression()\n",
    "lr4.fit(X_train, y_train)\n",
    "\n",
    "lr4_proba_L = lr4.predict_proba(X_test)\n",
    "lr4_predict_L = lr4.predict(X_test)\n",
    "\n",
    "score_lr4_L = lr4.score(X_test, y_test)\n",
    "metrics_lr4_L = sklearn.metrics.precision_recall_fscore_support(y_test, lr4_predict_L)\n",
    "\n",
    "'''RIGHT'''\n",
    "X_train, X_test, y_train, y_test = train_test_split(X_choice_switch, Y_switch_right, test_size=0.3, random_state=1)\n",
    "\n",
    "\n",
    "lr4 = LogisticRegression()\n",
    "lr4.fit(X_train, y_train)\n",
    "\n",
    "lr4_proba_R = lr4.predict_proba(X_test)\n",
    "lr4_predict_R = lr4.predict(X_test)\n",
    "lr4_predict_R = lr4_predict_R>0.1\n",
    "\n",
    "score_lr4_R = lr4.score(X_test, y_test)\n",
    "metrics_lr4_R = sklearn.metrics.precision_recall_fscore_support(y_test, lr4_predict_R)\n",
    "\n",
    "'''INTEGRATED'''\n",
    "X_train, X_test, y_train, y_test_full = train_test_split(X_choice_switch, Y_switch_full, test_size=0.3, random_state=1)\n",
    "\n",
    "y_proba = np.array([max(lr4_proba_L[i,1], lr4_proba_R[i,1]) for i in range(lr4_proba_L.shape[0])])\n",
    "y_predict = y_proba[:]>0.2\n",
    "np.sum(y_predict)\n",
    "metrics_lr4 = sklearn.metrics.precision_recall_fscore_support(y_test_full, y_predict)\n",
    "\n",
    "lr4_score = 1-np.abs(y_predict-y_test_full).sum()/len(y_test_full)"
   ]
  },
  {
   "cell_type": "code",
   "execution_count": 108,
   "metadata": {},
   "outputs": [
    {
     "data": {
      "text/plain": [
       "(array([  2.83990000e+04,   2.13100000e+03,   9.18000000e+02,\n",
       "          7.43000000e+02,   3.01000000e+02,   1.87000000e+02,\n",
       "          1.81000000e+02,   2.00000000e+02,   1.19000000e+02,\n",
       "          2.50000000e+01]),\n",
       " array([  4.92793395e-06,   6.63879265e-02,   1.32770925e-01,\n",
       "          1.99153924e-01,   2.65536922e-01,   3.31919921e-01,\n",
       "          3.98302919e-01,   4.64685918e-01,   5.31068916e-01,\n",
       "          5.97451915e-01,   6.63834914e-01]),\n",
       " <a list of 10 Patch objects>)"
      ]
     },
     "execution_count": 108,
     "metadata": {},
     "output_type": "execute_result"
    },
    {
     "data": {
      "image/png": "[encoded data removed]",
      "text/plain": [
       "<matplotlib.figure.Figure at 0x11d5d55f8>"
      ]
     },
     "metadata": {},
     "output_type": "display_data"
    }
   ],
   "source": [
    "plt.hist(lr4_proba_R[:,1])"
   ]
  },
  {
   "cell_type": "code",
   "execution_count": 161,
   "metadata": {},
   "outputs": [
    {
     "data": {
      "text/plain": [
       "<matplotlib.legend.Legend at 0x11d598a58>"
      ]
     },
     "execution_count": 161,
     "metadata": {},
     "output_type": "execute_result"
    },
    {
     "data": {
      "image/png": "[encoded data removed]",
      "text/plain": [
       "<matplotlib.figure.Figure at 0x11f0e52b0>"
      ]
     },
     "metadata": {},
     "output_type": "display_data"
    }
   ],
   "source": [
    "#height_a = [score_lr1_R, metrics_lr1_R[1][0], metrics_lr1_R[1][1]]\n",
    "#height_b = [score_lr2_R, metrics_lr2_R[1][0], metrics_lr2_R[1][1]]\n",
    "#height_c = [score_lr3_R, metrics_lr3_R[1][0], metrics_lr3_R[1][1]]\n",
    "#height_d = [score_lr4_R, metrics_lr4_R[1][0], metrics_lr4_R[1][1]]\n",
    "height_a = [lr1_score, metrics_lr1[1][0], metrics_lr1[1][1]]\n",
    "height_b = [lr2_score, metrics_lr2[1][0], metrics_lr2[1][1]]\n",
    "height_c = [lr3_score, metrics_lr3[1][0], metrics_lr3[1][1]]\n",
    "height_d = [lr4_score, metrics_lr4[1][0], metrics_lr4[1][1]]\n",
    "\n",
    "\n",
    "barWidth = 0.1\n",
    "# The x position of bars\n",
    "r1 = np.arange(len(height_b))\n",
    "r2 = [x + barWidth for x in r1]\n",
    "r3 = [x + barWidth for x in r2]\n",
    "r4 = [x + barWidth for x in r3]\n",
    "r5 = [x + barWidth for x in r4]\n",
    "\n",
    "conditions = ['full', 'stay', 'switch']\n",
    "plt.bar(r1, height_a, width=barWidth, label='lr1_choice')\n",
    "plt.bar(r2, height_b, width=barWidth, label='lr2_switch')\n",
    "plt.bar(r3, height_c, width=barWidth, label='lr3_value')\n",
    "plt.bar(r4, height_d, width=barWidth, label='lr4_multi')\n",
    "#plt.bar(r5, height_e, width=barWidth, label='lr5_port_integrated')\n",
    "\n",
    "plt.xticks(range(len(height_b)), conditions)\n",
    "plt.ylabel('accuracy')\n",
    "plt.legend()"
   ]
  },
  {
   "cell_type": "code",
   "execution_count": 91,
   "metadata": {},
   "outputs": [
    {
     "data": {
      "text/plain": [
       "<matplotlib.legend.Legend at 0x11c0e44e0>"
      ]
     },
     "execution_count": 91,
     "metadata": {},
     "output_type": "execute_result"
    },
    {
     "data": {
      "image/png": "[encoded data removed]",
      "text/plain": [
       "<matplotlib.figure.Figure at 0x11d0d17f0>"
      ]
     },
     "metadata": {},
     "output_type": "display_data"
    }
   ],
   "source": [
    "from sklearn.metrics import roc_curve, roc_auc_score\n",
    "\n",
    "fpr, tpr, _ = roc_curve(y_test, lr1_proba_R[:,1])\n",
    "plt.plot(fpr, tpr, label=\"LR1_PORT\")\n",
    "\n",
    "fpr, tpr, _ = roc_curve(y_test, lr2_proba_R[:,1])\n",
    "plt.plot(fpr, tpr, label=\"LR2_SWITCH\")\n",
    "\n",
    "fpr, tpr, _ = roc_curve(y_test, lr3_proba_R[:,1])\n",
    "plt.plot(fpr, tpr, label=\"LR3_VALUE\")\n",
    "\n",
    "fpr, tpr, _ = roc_curve(y_test, lr4_proba_R[:,1])\n",
    "plt.plot(fpr, tpr, label=\"LR3_MULTI\")\n",
    "\n",
    "\n",
    "plt.plot([0, 1], [0, 1], ':k')\n",
    "plt.xlabel('false postive rate')\n",
    "plt.ylabel('true positive rate')\n",
    "\n",
    "plt.legend(loc='lower right')"
   ]
  },
  {
   "cell_type": "code",
   "execution_count": null,
   "metadata": {
    "collapsed": true
   },
   "outputs": [],
   "source": []
  }
 ],
 "metadata": {
  "kernelspec": {
   "display_name": "Python 3",
   "language": "python",
   "name": "python3"
  },
  "language_info": {
   "codemirror_mode": {
    "name": "ipython",
    "version": 3
   },
   "file_extension": ".py",
   "mimetype": "text/x-python",
   "name": "python",
   "nbconvert_exporter": "python",
   "pygments_lexer": "ipython3",
   "version": "3.6.1"
  }
 },
 "nbformat": 4,
 "nbformat_minor": 2
}
