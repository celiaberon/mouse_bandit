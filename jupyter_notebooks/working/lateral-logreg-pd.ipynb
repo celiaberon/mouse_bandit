{
 "cells": [
  {
   "cell_type": "code",
   "execution_count": 1,
   "metadata": {
    "collapsed": true
   },
   "outputs": [],
   "source": [
    "import numpy as np\n",
    "import pandas as pd\n",
    "import matplotlib.pyplot as plt\n",
    "import sklearn\n",
    "from sklearn.linear_model import LogisticRegression\n",
    "from sklearn.model_selection import train_test_split\n",
    "import getpass\n",
    "%matplotlib inline"
   ]
  },
  {
   "cell_type": "code",
   "execution_count": 28,
   "metadata": {},
   "outputs": [
    {
     "data": {
      "text/html": [
       "<div>\n",
       "<table border=\"1\" class=\"dataframe\">\n",
       "  <thead>\n",
       "    <tr style=\"text-align: right;\">\n",
       "      <th></th>\n",
       "      <th>index</th>\n",
       "      <th>Mouse ID</th>\n",
       "      <th>Session ID</th>\n",
       "      <th>Trial</th>\n",
       "      <th>Block Trial</th>\n",
       "      <th>Block Reward</th>\n",
       "      <th>Port Streak</th>\n",
       "      <th>Reward Streak</th>\n",
       "      <th>10_Port</th>\n",
       "      <th>10_Reward</th>\n",
       "      <th>...</th>\n",
       "      <th>1_trialDuration</th>\n",
       "      <th>0_ITI</th>\n",
       "      <th>0_trialDuration</th>\n",
       "      <th>Decision</th>\n",
       "      <th>Switch</th>\n",
       "      <th>Higher p port</th>\n",
       "      <th>Reward</th>\n",
       "      <th>Condition</th>\n",
       "      <th>Block ID</th>\n",
       "      <th>Current Block Length</th>\n",
       "    </tr>\n",
       "  </thead>\n",
       "  <tbody>\n",
       "    <tr>\n",
       "      <th>106400</th>\n",
       "      <td>0</td>\n",
       "      <td>Baby</td>\n",
       "      <td>01112018_Baby</td>\n",
       "      <td>11.0</td>\n",
       "      <td>11.0</td>\n",
       "      <td>5.0</td>\n",
       "      <td>2.0</td>\n",
       "      <td>-2.0</td>\n",
       "      <td>0.0</td>\n",
       "      <td>1.0</td>\n",
       "      <td>...</td>\n",
       "      <td>0.566</td>\n",
       "      <td>1.544</td>\n",
       "      <td>0.560</td>\n",
       "      <td>0.0</td>\n",
       "      <td>1.0</td>\n",
       "      <td>1.0</td>\n",
       "      <td>1.0</td>\n",
       "      <td>80-20</td>\n",
       "      <td>1.0</td>\n",
       "      <td>13.0</td>\n",
       "    </tr>\n",
       "    <tr>\n",
       "      <th>106401</th>\n",
       "      <td>1</td>\n",
       "      <td>Baby</td>\n",
       "      <td>01112018_Baby</td>\n",
       "      <td>12.0</td>\n",
       "      <td>12.0</td>\n",
       "      <td>6.0</td>\n",
       "      <td>1.0</td>\n",
       "      <td>1.0</td>\n",
       "      <td>0.0</td>\n",
       "      <td>1.0</td>\n",
       "      <td>...</td>\n",
       "      <td>0.560</td>\n",
       "      <td>2.506</td>\n",
       "      <td>0.497</td>\n",
       "      <td>0.0</td>\n",
       "      <td>0.0</td>\n",
       "      <td>1.0</td>\n",
       "      <td>1.0</td>\n",
       "      <td>80-20</td>\n",
       "      <td>1.0</td>\n",
       "      <td>13.0</td>\n",
       "    </tr>\n",
       "    <tr>\n",
       "      <th>106402</th>\n",
       "      <td>2</td>\n",
       "      <td>Baby</td>\n",
       "      <td>01112018_Baby</td>\n",
       "      <td>13.0</td>\n",
       "      <td>0.0</td>\n",
       "      <td>7.0</td>\n",
       "      <td>2.0</td>\n",
       "      <td>2.0</td>\n",
       "      <td>0.0</td>\n",
       "      <td>0.0</td>\n",
       "      <td>...</td>\n",
       "      <td>0.497</td>\n",
       "      <td>2.526</td>\n",
       "      <td>0.562</td>\n",
       "      <td>0.0</td>\n",
       "      <td>0.0</td>\n",
       "      <td>0.0</td>\n",
       "      <td>0.0</td>\n",
       "      <td>80-20</td>\n",
       "      <td>2.0</td>\n",
       "      <td>53.0</td>\n",
       "    </tr>\n",
       "    <tr>\n",
       "      <th>106403</th>\n",
       "      <td>3</td>\n",
       "      <td>Baby</td>\n",
       "      <td>01112018_Baby</td>\n",
       "      <td>14.0</td>\n",
       "      <td>1.0</td>\n",
       "      <td>0.0</td>\n",
       "      <td>3.0</td>\n",
       "      <td>-1.0</td>\n",
       "      <td>1.0</td>\n",
       "      <td>0.0</td>\n",
       "      <td>...</td>\n",
       "      <td>0.562</td>\n",
       "      <td>1.780</td>\n",
       "      <td>0.587</td>\n",
       "      <td>0.0</td>\n",
       "      <td>0.0</td>\n",
       "      <td>0.0</td>\n",
       "      <td>0.0</td>\n",
       "      <td>80-20</td>\n",
       "      <td>2.0</td>\n",
       "      <td>53.0</td>\n",
       "    </tr>\n",
       "    <tr>\n",
       "      <th>106404</th>\n",
       "      <td>4</td>\n",
       "      <td>Baby</td>\n",
       "      <td>01112018_Baby</td>\n",
       "      <td>15.0</td>\n",
       "      <td>2.0</td>\n",
       "      <td>0.0</td>\n",
       "      <td>4.0</td>\n",
       "      <td>-2.0</td>\n",
       "      <td>0.0</td>\n",
       "      <td>1.0</td>\n",
       "      <td>...</td>\n",
       "      <td>0.587</td>\n",
       "      <td>4.313</td>\n",
       "      <td>0.382</td>\n",
       "      <td>1.0</td>\n",
       "      <td>1.0</td>\n",
       "      <td>1.0</td>\n",
       "      <td>1.0</td>\n",
       "      <td>80-20</td>\n",
       "      <td>2.0</td>\n",
       "      <td>53.0</td>\n",
       "    </tr>\n",
       "  </tbody>\n",
       "</table>\n",
       "<p>5 rows × 57 columns</p>\n",
       "</div>"
      ],
      "text/plain": [
       "        index Mouse ID     Session ID  Trial  Block Trial  Block Reward  \\\n",
       "106400      0     Baby  01112018_Baby   11.0         11.0           5.0   \n",
       "106401      1     Baby  01112018_Baby   12.0         12.0           6.0   \n",
       "106402      2     Baby  01112018_Baby   13.0          0.0           7.0   \n",
       "106403      3     Baby  01112018_Baby   14.0          1.0           0.0   \n",
       "106404      4     Baby  01112018_Baby   15.0          2.0           0.0   \n",
       "\n",
       "        Port Streak  Reward Streak  10_Port  10_Reward          ...           \\\n",
       "106400          2.0           -2.0      0.0        1.0          ...            \n",
       "106401          1.0            1.0      0.0        1.0          ...            \n",
       "106402          2.0            2.0      0.0        0.0          ...            \n",
       "106403          3.0           -1.0      1.0        0.0          ...            \n",
       "106404          4.0           -2.0      0.0        1.0          ...            \n",
       "\n",
       "        1_trialDuration  0_ITI  0_trialDuration  Decision  Switch  \\\n",
       "106400            0.566  1.544            0.560       0.0     1.0   \n",
       "106401            0.560  2.506            0.497       0.0     0.0   \n",
       "106402            0.497  2.526            0.562       0.0     0.0   \n",
       "106403            0.562  1.780            0.587       0.0     0.0   \n",
       "106404            0.587  4.313            0.382       1.0     1.0   \n",
       "\n",
       "        Higher p port  Reward  Condition  Block ID  Current Block Length  \n",
       "106400            1.0     1.0      80-20       1.0                  13.0  \n",
       "106401            1.0     1.0      80-20       1.0                  13.0  \n",
       "106402            0.0     0.0      80-20       2.0                  53.0  \n",
       "106403            0.0     0.0      80-20       2.0                  53.0  \n",
       "106404            1.0     1.0      80-20       2.0                  53.0  \n",
       "\n",
       "[5 rows x 57 columns]"
      ]
     },
     "execution_count": 28,
     "metadata": {},
     "output_type": "execute_result"
    }
   ],
   "source": [
    "username = getpass.getuser()\n",
    "data = pd.read_csv('/Users/{:}/Dropbox (HMS)/mouse_bandit/markov_full.csv'.format(username), index_col=0)\n",
    "data = data[data['Condition']=='80-20']\n",
    "data.head()"
   ]
  },
  {
   "cell_type": "markdown",
   "metadata": {},
   "source": [
    "### make some new dataframes\n",
    "    X has predictor variables (choice and reward history for past n trials) relevant variables for logit model\n",
    "    Y has dependent variable (choice on current trial)"
   ]
  },
  {
   "cell_type": "code",
   "execution_count": 62,
   "metadata": {
    "collapsed": true
   },
   "outputs": [],
   "source": [
    "#include past 10 choice and reward values (this is most convenient given the current data structure)\n",
    "port_features = []\n",
    "reward_features = []\n",
    "for col in data.columns:\n",
    "    if '_Port' in col:\n",
    "        port_features.append(col)\n",
    "    if '_Reward' in col:\n",
    "        reward_features.append(col)\n",
    "        \n",
    "choice_history = data[port_features]\n",
    "reward_history = data[reward_features]\n",
    "\n",
    "switch_cols = ['9_Switch','8_Switch','7_Switch','6_Switch','5_Switch','4_Switch','3_Switch','2_Switch','1_Switch']\n",
    "switch_history = pd.DataFrame(np.abs(np.diff((choice_history))))\n",
    "switch_history.columns=switch_cols\n",
    "switch_history.index=reward_history.index"
   ]
  },
  {
   "cell_type": "code",
   "execution_count": 75,
   "metadata": {
    "collapsed": true
   },
   "outputs": [],
   "source": [
    "X_choice = pd.concat([choice_history.drop('10_Port', axis=1), reward_history.drop('10_Reward', axis=1)], axis=1)\n",
    "\n",
    "X_switch = pd.concat([switch_history, reward_history.drop('10_Reward', axis=1)], axis=1)\n",
    "\n",
    "X_choice_switch = pd.concat([switch_history, choice_history.drop('10_Port', axis=1), reward_history.drop('10_Reward', axis=1)], axis=1)\n",
    "\n",
    "X_value_history = (choice_history.values==reward_history.values).astype('int') # gives action value with R=1, L=0"
   ]
  },
  {
   "cell_type": "code",
   "execution_count": 78,
   "metadata": {
    "collapsed": true
   },
   "outputs": [],
   "source": [
    "Y_switch_right = data['Decision'] + data['Switch'] == 2\n",
    "Y_switch_left = data['Decision'].values + data['Switch']*2 == 2\n",
    "Y_switch_full = data['Switch']\n",
    "\n",
    "#Y_switch_right_history = (choice_history.drop('10_Port',axis=1).values + switch_history.values) == 2\n",
    "#Y_switch_left_history = (choice_history.drop('10_Port', axis=1).values + switch_history.values*2) == 2"
   ]
  },
  {
   "cell_type": "markdown",
   "metadata": {},
   "source": [
    "### set up which datasets will be predictor and target"
   ]
  },
  {
   "cell_type": "markdown",
   "metadata": {},
   "source": [
    "### lr1 - train on port choice to predict port choice"
   ]
  },
  {
   "cell_type": "code",
   "execution_count": 94,
   "metadata": {
    "collapsed": true
   },
   "outputs": [],
   "source": [
    "'''LEFT'''\n",
    "X_train, X_test, y_train, y_test = train_test_split(X_choice, Y_switch_left, test_size=0.3, random_state=1)\n",
    "\n",
    "lr1 = LogisticRegression()\n",
    "lr1.fit(X_train, y_train)\n",
    "\n",
    "lr1_proba_L = lr1.predict_proba(X_test)\n",
    "lr1_predict_L = lr1.predict(X_test)\n",
    "lr1_predict_L = lr1_predict_L>0.2\n",
    "\n",
    "score_lr1_L = lr1.score(X_test, y_test)\n",
    "metrics_lr1_L = sklearn.metrics.precision_recall_fscore_support(y_test, lr1_predict_L)\n",
    "\n",
    "'''RIGHT'''\n",
    "\n",
    "X_train, X_test, y_train, y_test = train_test_split(X_choice, Y_switch_right, test_size=0.3, random_state=1)\n",
    "\n",
    "lr1 = LogisticRegression(C=1)\n",
    "lr1.fit(X_train, y_train)\n",
    "\n",
    "lr1_proba_R = lr1.predict_proba(X_test)\n",
    "lr1_predict_R = lr1.predict(X_test)\n",
    "lr1_predict_R = lr1_predict_R>0.2\n",
    "\n",
    "score_lr1_R = lr1.score(X_test, y_test)\n",
    "metrics_lr1_R = sklearn.metrics.precision_recall_fscore_support(y_test, lr1_predict_R)\n",
    "\n",
    "'''INTEGRATED'''\n",
    "X_train, X_test, y_train, y_test_full = train_test_split(X_choice, Y_switch_full, test_size=0.3, random_state=1)\n",
    "\n",
    "y_proba = np.array([max(lr1_proba_L[i,1], lr1_proba_R[i,1]) for i in range(lr1_proba_L.shape[0])])\n",
    "y_predict = y_proba[:]>0.2\n",
    "np.sum(y_predict)\n",
    "metrics_lr1 = sklearn.metrics.precision_recall_fscore_support(y_test_full, y_predict)"
   ]
  },
  {
   "cell_type": "code",
   "execution_count": 80,
   "metadata": {},
   "outputs": [
    {
     "data": {
      "text/plain": [
       "(array([ 0.96871629,  0.33954802]),\n",
       " array([ 0.92476025,  0.56431925]),\n",
       " array([ 0.94622806,  0.42398589]),\n",
       " array([31074,  2130]))"
      ]
     },
     "execution_count": 80,
     "metadata": {},
     "output_type": "execute_result"
    }
   ],
   "source": [
    "metrics_lr1"
   ]
  },
  {
   "cell_type": "code",
   "execution_count": 81,
   "metadata": {
    "scrolled": false
   },
   "outputs": [
    {
     "name": "stdout",
     "output_type": "stream",
     "text": [
      "predicted switches left = 119\n",
      "predicted switches right = 227\n",
      "overlapping predicted switches = 0\n"
     ]
    }
   ],
   "source": [
    "print('predicted switches left =', np.sum(lr1_predict_L))\n",
    "print('predicted switches right =', np.sum(lr1_predict_R))\n",
    "print('overlapping predicted switches =', np.sum(lr1_predict_L + lr1_predict_R ==2))"
   ]
  },
  {
   "cell_type": "code",
   "execution_count": 82,
   "metadata": {},
   "outputs": [
    {
     "data": {
      "text/plain": [
       "{'C': 1,\n",
       " 'class_weight': None,\n",
       " 'dual': False,\n",
       " 'fit_intercept': True,\n",
       " 'intercept_scaling': 1,\n",
       " 'max_iter': 100,\n",
       " 'multi_class': 'ovr',\n",
       " 'n_jobs': 1,\n",
       " 'penalty': 'l2',\n",
       " 'random_state': None,\n",
       " 'solver': 'liblinear',\n",
       " 'tol': 0.0001,\n",
       " 'verbose': 0,\n",
       " 'warm_start': False}"
      ]
     },
     "execution_count": 82,
     "metadata": {},
     "output_type": "execute_result"
    }
   ],
   "source": [
    "lr1.get_params()"
   ]
  },
  {
   "cell_type": "code",
   "execution_count": 83,
   "metadata": {},
   "outputs": [
    {
     "name": "stdout",
     "output_type": "stream",
     "text": [
      "Best Penalty: l1\n",
      "Best C: 1.0\n"
     ]
    }
   ],
   "source": [
    "# some code for optimizing parameters, come back to later\n",
    "\n",
    "penalty = ['l1', 'l2']\n",
    "C = np.logspace(0,4,10)\n",
    "hyperparameters = dict(C=C, penalty=penalty)\n",
    "lr_gridsearch = sklearn.model_selection.GridSearchCV(LogisticRegression(), hyperparameters, cv=5, verbose=0)\n",
    "    \n",
    "best_model = lr_gridsearch.fit(X_train, y_train)\n",
    "\n",
    "print('Best Penalty:', best_model.best_estimator_.get_params()['penalty'])\n",
    "print('Best C:', best_model.best_estimator_.get_params()['C'])\n",
    "\n",
    "y_predict = best_model.predict(X_test)\n",
    "y_proba = best_model.predict_proba(X_test)"
   ]
  },
  {
   "cell_type": "markdown",
   "metadata": {},
   "source": [
    "### take a look at probabilities from each model to switch right or left to compare predictions"
   ]
  },
  {
   "cell_type": "code",
   "execution_count": 84,
   "metadata": {},
   "outputs": [
    {
     "data": {
      "text/plain": [
       "<matplotlib.legend.Legend at 0x12347c710>"
      ]
     },
     "execution_count": 84,
     "metadata": {},
     "output_type": "execute_result"
    },
    {
     "data": {
      "image/png": "[encoded data removed]",
      "text/plain": [
       "<matplotlib.figure.Figure at 0x10d8b8ba8>"
      ]
     },
     "metadata": {},
     "output_type": "display_data"
    }
   ],
   "source": [
    "plt.plot(lr1_proba_L[0:100,1], 'b', label='left switch')\n",
    "plt.plot(lr1_proba_R[0:100,1], 'r', label='right switch')\n",
    "#plt.plot(Y_switch_left[0:100], '.b', label='true left switch')\n",
    "#plt.plot(Y_switch_right[0:100], '.r', label='true right switch')\n",
    "\n",
    "plt.xlabel('trial #')\n",
    "plt.ylabel('p(switch)')\n",
    "plt.legend()"
   ]
  },
  {
   "cell_type": "markdown",
   "metadata": {},
   "source": [
    "### lr2 - train on switches to predict switches"
   ]
  },
  {
   "cell_type": "code",
   "execution_count": 87,
   "metadata": {},
   "outputs": [
    {
     "name": "stderr",
     "output_type": "stream",
     "text": [
      "/Users/celiaberon/anaconda/lib/python3.6/site-packages/sklearn/metrics/classification.py:1113: UndefinedMetricWarning: Precision and F-score are ill-defined and being set to 0.0 in labels with no predicted samples.\n",
      "  'precision', 'predicted', average, warn_for)\n"
     ]
    }
   ],
   "source": [
    "'''LEFT'''\n",
    "X_train, X_test, y_train, y_test = train_test_split(X_switch, Y_switch_left, test_size=0.3, random_state=1)\n",
    "\n",
    "lr2 = LogisticRegression()\n",
    "lr2.fit(X_train, y_train)\n",
    "\n",
    "lr2_proba_L = lr2.predict_proba(X_test)\n",
    "lr2_predict_L = lr2.predict(X_test)\n",
    "\n",
    "score_lr2_L = lr2.score(X_test, y_test)\n",
    "metrics_lr2_L = sklearn.metrics.precision_recall_fscore_support(y_test, lr2_predict_L)\n",
    "\n",
    "'''RIGHT'''\n",
    "X_train, X_test, y_train, y_test = train_test_split(X_switch, Y_switch_right, test_size=0.3, random_state=1)\n",
    "\n",
    "lr2 = LogisticRegression()\n",
    "lr2.fit(X_train, y_train)\n",
    "\n",
    "lr2_proba_R = lr2.predict_proba(X_test)\n",
    "lr2_predict_R = lr2.predict(X_test)\n",
    "\n",
    "score_lr2_R = lr2.score(X_test, y_test)\n",
    "metrics_lr2_R = sklearn.metrics.precision_recall_fscore_support(y_test, lr2_predict_R)"
   ]
  },
  {
   "cell_type": "markdown",
   "metadata": {},
   "source": [
    "### lr3 - use action value to predict choice"
   ]
  },
  {
   "cell_type": "code",
   "execution_count": 88,
   "metadata": {},
   "outputs": [
    {
     "name": "stderr",
     "output_type": "stream",
     "text": [
      "/Users/celiaberon/anaconda/lib/python3.6/site-packages/sklearn/metrics/classification.py:1113: UndefinedMetricWarning: Precision and F-score are ill-defined and being set to 0.0 in labels with no predicted samples.\n",
      "  'precision', 'predicted', average, warn_for)\n"
     ]
    }
   ],
   "source": [
    "'''LEFT'''\n",
    "X_train, X_test, y_train, y_test = train_test_split(X_value_history, Y_switch_left, test_size=0.3, random_state=1)\n",
    "\n",
    "lr3 = LogisticRegression()\n",
    "lr3.fit(X_train, y_train)\n",
    "\n",
    "lr3_proba_L = lr3.predict_proba(X_test)\n",
    "lr3_predict_L = lr3.predict(X_test)\n",
    "\n",
    "score_lr3_L = lr3.score(X_test, y_test)\n",
    "metrics_lr3_L = sklearn.metrics.precision_recall_fscore_support(y_test, lr3_predict_L)\n",
    "\n",
    "\n",
    "'''RIGHT'''\n",
    "X_train, X_test, y_train, y_test = train_test_split(X_value_history, Y_switch_right, test_size=0.3, random_state=1)\n",
    "\n",
    "lr3 = LogisticRegression()\n",
    "lr3.fit(X_train, y_train)\n",
    "\n",
    "lr3_proba_R = lr3.predict_proba(X_test)\n",
    "lr3_predict_R = lr3.predict(X_test)\n",
    "\n",
    "score_lr3_R = lr3.score(X_test, y_test)\n",
    "metrics_lr3_R = sklearn.metrics.precision_recall_fscore_support(y_test, lr3_predict_R)\n"
   ]
  },
  {
   "cell_type": "markdown",
   "metadata": {},
   "source": [
    "### what about a logistic regression with more inputs?"
   ]
  },
  {
   "cell_type": "code",
   "execution_count": 99,
   "metadata": {},
   "outputs": [],
   "source": [
    "X_train, X_test, y_train, y_test = train_test_split(X_choice_switch, Y_switch_left, test_size=0.3, random_state=1)\n",
    "\n",
    "'''Left'''\n",
    "lr4 = LogisticRegression()\n",
    "lr4.fit(X_train, y_train)\n",
    "\n",
    "lr4_proba_L = lr4.predict_proba(X_test)\n",
    "lr4_predict_L = lr4.predict(X_test)\n",
    "\n",
    "score_lr4_L = lr4.score(X_test, y_test)\n",
    "metrics_lr4_L = sklearn.metrics.precision_recall_fscore_support(y_test, lr4_predict_L)\n",
    "\n",
    "'''RIGHT'''\n",
    "X_train, X_test, y_train, y_test = train_test_split(X_choice_switch, Y_switch_right, test_size=0.3, random_state=1)\n",
    "\n",
    "\n",
    "lr4 = LogisticRegression()\n",
    "lr4.fit(X_train, y_train)\n",
    "\n",
    "lr4_proba_R = lr4.predict_proba(X_test)\n",
    "lr4_predict_R = lr4.predict(X_test)\n",
    "lr4_predict_R = lr4_predict_R>0.1\n",
    "\n",
    "score_lr4_R = lr4.score(X_test, y_test)\n",
    "metrics_lr4_R = sklearn.metrics.precision_recall_fscore_support(y_test, lr4_predict_R)"
   ]
  },
  {
   "cell_type": "code",
   "execution_count": 106,
   "metadata": {},
   "outputs": [
    {
     "data": {
      "text/plain": [
       "array([[  9.86542023e-01,   1.34579765e-02],\n",
       "       [  9.99955090e-01,   4.49095658e-05],\n",
       "       [  9.99560421e-01,   4.39578843e-04],\n",
       "       [  9.99523896e-01,   4.76103868e-04],\n",
       "       [  9.99985988e-01,   1.40124376e-05],\n",
       "       [  9.91320916e-01,   8.67908425e-03],\n",
       "       [  9.99991518e-01,   8.48166305e-06],\n",
       "       [  9.99921645e-01,   7.83548713e-05],\n",
       "       [  9.92619237e-01,   7.38076261e-03],\n",
       "       [  9.99990556e-01,   9.44365458e-06],\n",
       "       [  9.91864719e-01,   8.13528117e-03],\n",
       "       [  9.13178224e-01,   8.68217765e-02],\n",
       "       [  9.93294467e-01,   6.70553309e-03],\n",
       "       [  7.38557897e-01,   2.61442103e-01],\n",
       "       [  9.28595019e-01,   7.14049811e-02],\n",
       "       [  9.87956349e-01,   1.20436515e-02],\n",
       "       [  9.99982787e-01,   1.72125649e-05],\n",
       "       [  9.08797784e-01,   9.12022164e-02],\n",
       "       [  8.26214616e-01,   1.73785384e-01],\n",
       "       [  9.94021517e-01,   5.97848255e-03],\n",
       "       [  9.94021517e-01,   5.97848255e-03],\n",
       "       [  9.99963674e-01,   3.63261369e-05],\n",
       "       [  9.93527740e-01,   6.47226030e-03],\n",
       "       [  9.92907484e-01,   7.09251587e-03],\n",
       "       [  9.99985568e-01,   1.44316258e-05],\n",
       "       [  9.99978734e-01,   2.12661216e-05],\n",
       "       [  9.83047145e-01,   1.69528547e-02],\n",
       "       [  9.99979727e-01,   2.02729957e-05],\n",
       "       [  9.99987287e-01,   1.27130472e-05],\n",
       "       [  9.99990342e-01,   9.65780453e-06],\n",
       "       [  9.85970783e-01,   1.40292168e-02],\n",
       "       [  9.94021517e-01,   5.97848255e-03],\n",
       "       [  9.99984962e-01,   1.50384668e-05],\n",
       "       [  9.91196485e-01,   8.80351460e-03],\n",
       "       [  9.99982158e-01,   1.78417375e-05],\n",
       "       [  9.99978585e-01,   2.14146394e-05],\n",
       "       [  9.99625859e-01,   3.74140988e-04],\n",
       "       [  9.99523896e-01,   4.76103868e-04],\n",
       "       [  9.99985988e-01,   1.40124376e-05],\n",
       "       [  9.99579716e-01,   4.20283686e-04],\n",
       "       [  9.94719048e-01,   5.28095157e-03],\n",
       "       [  9.99984175e-01,   1.58245077e-05],\n",
       "       [  9.99254071e-01,   7.45928559e-04],\n",
       "       [  9.50134813e-01,   4.98651866e-02],\n",
       "       [  9.99985349e-01,   1.46506322e-05],\n",
       "       [  9.87600520e-01,   1.23994802e-02],\n",
       "       [  9.99985045e-01,   1.49552730e-05],\n",
       "       [  9.99989090e-01,   1.09100990e-05],\n",
       "       [  9.99987055e-01,   1.29446126e-05],\n",
       "       [  9.99986676e-01,   1.33240097e-05],\n",
       "       [  9.99986676e-01,   1.33240097e-05],\n",
       "       [  9.99766245e-01,   2.33755157e-04],\n",
       "       [  9.99981656e-01,   1.83438249e-05],\n",
       "       [  9.99986676e-01,   1.33240097e-05],\n",
       "       [  9.99808200e-01,   1.91799939e-04],\n",
       "       [  6.84323592e-01,   3.15676408e-01],\n",
       "       [  5.26185419e-01,   4.73814581e-01],\n",
       "       [  9.99963674e-01,   3.63261369e-05],\n",
       "       [  9.99950449e-01,   4.95510848e-05],\n",
       "       [  4.24812855e-01,   5.75187145e-01],\n",
       "       [  9.80514206e-01,   1.94857944e-02],\n",
       "       [  9.99956395e-01,   4.36051390e-05],\n",
       "       [  9.99988049e-01,   1.19511223e-05],\n",
       "       [  9.94021517e-01,   5.97848255e-03],\n",
       "       [  9.84327889e-01,   1.56721105e-02],\n",
       "       [  9.34918292e-01,   6.50817082e-02],\n",
       "       [  9.11211713e-01,   8.87882874e-02],\n",
       "       [  9.99949764e-01,   5.02355198e-05],\n",
       "       [  9.99987538e-01,   1.24619931e-05],\n",
       "       [  7.21695825e-01,   2.78304175e-01],\n",
       "       [  9.08797784e-01,   9.12022164e-02],\n",
       "       [  9.99985928e-01,   1.40717742e-05],\n",
       "       [  9.99985928e-01,   1.40717742e-05],\n",
       "       [  9.99988503e-01,   1.14969813e-05],\n",
       "       [  9.94719048e-01,   5.28095157e-03],\n",
       "       [  7.70304210e-01,   2.29695790e-01],\n",
       "       [  9.99985928e-01,   1.40717742e-05],\n",
       "       [  9.92619237e-01,   7.38076261e-03],\n",
       "       [  9.91778331e-01,   8.22166941e-03],\n",
       "       [  9.99857640e-01,   1.42360074e-04],\n",
       "       [  8.14448385e-01,   1.85551615e-01],\n",
       "       [  9.93688109e-01,   6.31189133e-03],\n",
       "       [  9.73257121e-01,   2.67428790e-02],\n",
       "       [  9.99848214e-01,   1.51785721e-04],\n",
       "       [  9.88341096e-01,   1.16589045e-02],\n",
       "       [  9.85504894e-01,   1.44951056e-02],\n",
       "       [  9.99985568e-01,   1.44316258e-05],\n",
       "       [  9.99987063e-01,   1.29369936e-05],\n",
       "       [  9.94021517e-01,   5.97848255e-03],\n",
       "       [  9.93294467e-01,   6.70553309e-03],\n",
       "       [  9.99918392e-01,   8.16078679e-05],\n",
       "       [  7.63811297e-01,   2.36188703e-01],\n",
       "       [  9.99961096e-01,   3.89038572e-05],\n",
       "       [  9.99777727e-01,   2.22273219e-04],\n",
       "       [  9.81587469e-01,   1.84125308e-02],\n",
       "       [  9.99985928e-01,   1.40717742e-05],\n",
       "       [  9.98573040e-01,   1.42695982e-03],\n",
       "       [  9.89395663e-01,   1.06043367e-02],\n",
       "       [  9.62084002e-01,   3.79159982e-02]])"
      ]
     },
     "execution_count": 106,
     "metadata": {},
     "output_type": "execute_result"
    }
   ],
   "source": [
    "lr4_proba_R[1:100,:]"
   ]
  },
  {
   "cell_type": "code",
   "execution_count": 102,
   "metadata": {},
   "outputs": [
    {
     "data": {
      "text/plain": [
       "(array([ 1.,  0.,  0.,  0.,  0.,  0.,  0.,  0.,  0.,  1.]),\n",
       " array([ 0.03104176,  0.12483341,  0.21862506,  0.3124167 ,  0.40620835,\n",
       "         0.5       ,  0.59379165,  0.6875833 ,  0.78137494,  0.87516659,\n",
       "         0.96895824]),\n",
       " <a list of 10 Patch objects>)"
      ]
     },
     "execution_count": 102,
     "metadata": {},
     "output_type": "execute_result"
    },
    {
     "data": {
      "image/png": "[encoded data removed]",
      "text/plain": [
       "<matplotlib.figure.Figure at 0x11da33d68>"
      ]
     },
     "metadata": {},
     "output_type": "display_data"
    }
   ],
   "source": [
    "plt.hist(lr4_proba_R)"
   ]
  },
  {
   "cell_type": "code",
   "execution_count": 100,
   "metadata": {},
   "outputs": [
    {
     "data": {
      "text/plain": [
       "<matplotlib.legend.Legend at 0x11d62beb8>"
      ]
     },
     "execution_count": 100,
     "metadata": {},
     "output_type": "execute_result"
    },
    {
     "data": {
      "image/png": "[encoded data removed]",
      "text/plain": [
       "<matplotlib.figure.Figure at 0x11cc137b8>"
      ]
     },
     "metadata": {},
     "output_type": "display_data"
    }
   ],
   "source": [
    "height_a = [score_lr1_R, metrics_lr1_R[2][0], metrics_lr1_R[2][1]]\n",
    "height_b = [score_lr2_R, metrics_lr2_R[2][0], metrics_lr2_R[2][1]]\n",
    "height_c = [score_lr3_R, metrics_lr3_R[2][0], metrics_lr3_R[2][1]]\n",
    "height_d = [score_lr4_R, metrics_lr4_R[2][0], metrics_lr4_R[2][1]]\n",
    "height_e = [0, metrics_lr1[2][0], metrics_lr1[2][1]]\n",
    "\n",
    "barWidth = 0.1\n",
    "# The x position of bars\n",
    "r1 = np.arange(len(height_b))\n",
    "r2 = [x + barWidth for x in r1]\n",
    "r3 = [x + barWidth for x in r2]\n",
    "r4 = [x + barWidth for x in r3]\n",
    "r5 = [x + barWidth for x in r4]\n",
    "\n",
    "conditions = ['full', 'stay', 'switch']\n",
    "plt.bar(r1, height_a, width=barWidth, label='lr1_choice')\n",
    "plt.bar(r2, height_b, width=barWidth, label='lr2_switch')\n",
    "plt.bar(r3, height_c, width=barWidth, label='lr3_value')\n",
    "plt.bar(r4, height_d, width=barWidth, label='lr4_multi')\n",
    "plt.bar(r5, height_e, width=barWidth, label='lr5_port_integrated')\n",
    "\n",
    "plt.xticks(range(len(height_b)), conditions)\n",
    "plt.ylabel('accuracy (f1)')\n",
    "plt.legend()"
   ]
  },
  {
   "cell_type": "code",
   "execution_count": 91,
   "metadata": {},
   "outputs": [
    {
     "data": {
      "text/plain": [
       "<matplotlib.legend.Legend at 0x11c0e44e0>"
      ]
     },
     "execution_count": 91,
     "metadata": {},
     "output_type": "execute_result"
    },
    {
     "data": {
      "image/png": "[encoded data removed]",
      "text/plain": [
       "<matplotlib.figure.Figure at 0x11d0d17f0>"
      ]
     },
     "metadata": {},
     "output_type": "display_data"
    }
   ],
   "source": [
    "from sklearn.metrics import roc_curve, roc_auc_score\n",
    "\n",
    "fpr, tpr, _ = roc_curve(y_test, lr1_proba_R[:,1])\n",
    "plt.plot(fpr, tpr, label=\"LR1_PORT\")\n",
    "\n",
    "fpr, tpr, _ = roc_curve(y_test, lr2_proba_R[:,1])\n",
    "plt.plot(fpr, tpr, label=\"LR2_SWITCH\")\n",
    "\n",
    "fpr, tpr, _ = roc_curve(y_test, lr3_proba_R[:,1])\n",
    "plt.plot(fpr, tpr, label=\"LR3_VALUE\")\n",
    "\n",
    "fpr, tpr, _ = roc_curve(y_test, lr4_proba_R[:,1])\n",
    "plt.plot(fpr, tpr, label=\"LR3_MULTI\")\n",
    "\n",
    "\n",
    "plt.plot([0, 1], [0, 1], ':k')\n",
    "plt.xlabel('false postive rate')\n",
    "plt.ylabel('true positive rate')\n",
    "\n",
    "plt.legend(loc='lower right')"
   ]
  },
  {
   "cell_type": "code",
   "execution_count": null,
   "metadata": {
    "collapsed": true
   },
   "outputs": [],
   "source": []
  }
 ],
 "metadata": {
  "kernelspec": {
   "display_name": "Python 3",
   "language": "python",
   "name": "python3"
  },
  "language_info": {
   "codemirror_mode": {
    "name": "ipython",
    "version": 3
   },
   "file_extension": ".py",
   "mimetype": "text/x-python",
   "name": "python",
   "nbconvert_exporter": "python",
   "pygments_lexer": "ipython3",
   "version": "3.6.1"
  }
 },
 "nbformat": 4,
 "nbformat_minor": 2
}
