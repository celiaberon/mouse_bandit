{
 "cells": [
  {
   "cell_type": "code",
   "execution_count": null,
   "metadata": {
    "collapsed": true
   },
   "outputs": [],
   "source": [
    "import numpy as np\n",
    "import scipy.io as scio\n",
    "import sys\n",
    "sys.path.append('/Users/celia/GitHub/mouse_bandit/data_preprocessing_code')\n",
    "sys.path.append('/Users/celia/GitHub/mouse_bandit')\n",
    "import pandas as pd\n",
    "import bandit_preprocessing as bp\n",
    "import sys\n",
    "import os"
   ]
  },
  {
   "cell_type": "code",
   "execution_count": 16,
   "metadata": {},
   "outputs": [],
   "source": [
    "# set model traces to its own variable\n",
    "\n",
    "nNeurons = neuron.C.shape[0] #number of neurons\n",
    "\n",
    "nan_neurons = []\n",
    "for iNeuron in range(nNeurons):\n",
    "    if any(np.isnan(neuron.C_raw[iNeuron,:])) == True:\n",
    "        nan_neurons.append(iNeuron)\n",
    "good_neurons = [x for x in range(0, nNeurons) if x not in nan_neurons]"
   ]
  },
  {
   "cell_type": "code",
   "execution_count": 25,
   "metadata": {},
   "outputs": [
    {
     "name": "stderr",
     "output_type": "stream",
     "text": [
      "/Users/celia/anaconda/lib/python3.6/site-packages/ipykernel_launcher.py:34: RuntimeWarning: invalid value encountered in true_divide\n",
      "/Users/celia/anaconda/lib/python3.6/site-packages/ipykernel_launcher.py:36: RuntimeWarning: invalid value encountered in greater\n",
      "/Users/celia/anaconda/lib/python3.6/site-packages/ipykernel_launcher.py:45: DeprecationWarning: numpy boolean subtract, the `-` operator, is deprecated, use the bitwise_xor, the `^` operator, or the logical_xor function instead.\n"
     ]
    }
   ],
   "source": [
    "# remove neurons with NaNs from relevant variables\n",
    "neuron.C = neuron.C[good_neurons, :]\n",
    "neuron.C_raw = neuron.C_raw[good_neurons,:]\n",
    "\n",
    "# refined count for neurons after cleansing NaNs\n",
    "nNeurons = neuron.C.shape[0]\n",
    "\n",
    "\"\"\"\n",
    "set up system to detect events:\n",
    "first detect any events above a threshold\n",
    "then make sure the events are a least a minimum duration?\n",
    "only mark events at the beginning\n",
    "\"\"\"\n",
    "\n",
    "#Create Gaussian filter and apply to raw trace\n",
    "sigma = 1.5;\n",
    "sz = 5;  \n",
    "\n",
    "x = np.linspace(-sz / 2, sz / 2, sz);\n",
    "gaussFilter = np.exp(-x**2 / (2*sigma**2));\n",
    "gaussFilter = gaussFilter / np.sum(gaussFilter);\n",
    "\n",
    "smoothed = np.zeros((nNeurons, neuron.C_raw.shape[1]+sz-1));\n",
    "\n",
    "for i in range(0, nNeurons):\n",
    "    smoothed[i,:] = np.convolve(neuron.C_raw[i,:], gaussFilter);\n",
    "\n",
    "\"\"\"\n",
    "Z-score neurons and set threshold for events. Shift by 1 and subtract to produce 0s and 1s.\n",
    "\"\"\"\n",
    "\n",
    "z_neuron = np.zeros((nNeurons, neuron.C_raw.shape[1]))\n",
    "for i in range(0,nNeurons):\n",
    "    z_neuron[i,:] = (neuron.C_raw[i,:] - np.mean(neuron.C_raw[i,:], axis=0)) / np.std(neuron.C_raw[i,:], axis=0)\n",
    "thresh = 5.\n",
    "thresh_neuron = z_neuron > thresh\n",
    "\n",
    "thresh_shift = np.insert(thresh_neuron, 0, 0 , axis=1)\n",
    "thresh_shift = thresh_shift[:,0:thresh_shift.shape[1]-1]\n",
    "\n",
    "\"\"\"\n",
    "Remove timepoints of decay so events only mark onset times\n",
    "\"\"\"\n",
    "\n",
    "events_on_off = thresh_neuron - thresh_shift\n",
    "events = events_on_off \n",
    "\n",
    "for iNeuron in range(0,nNeurons):\n",
    "    indices = np.nonzero(events[iNeuron,:])\n",
    "for ind in range(0,np.size(indices)):\n",
    "    if smoothed[iNeuron,indices[0][ind]] - smoothed[iNeuron,(indices[0][ind]-1)]<0:\n",
    "        events[iNeuron,indices[0][ind]] = 0\n",
    "        indices[0][ind] = 0\n",
    "    if ind>0:\n",
    "        if indices[0][ind]-4 <= indices[0][ind-1]:\n",
    "            events[iNeuron, indices[0][ind]] = 0\n",
    "#indices[0][ind] = 0"
   ]
  },
  {
   "cell_type": "code",
   "execution_count": 30,
   "metadata": {},
   "outputs": [
    {
     "data": {
      "text/plain": [
       "0.0"
      ]
     },
     "execution_count": 30,
     "metadata": {},
     "output_type": "execute_result"
    }
   ],
   "source": [
    "np.sum(smoothed)"
   ]
  },
  {
   "cell_type": "code",
   "execution_count": null,
   "metadata": {
    "collapsed": true
   },
   "outputs": [],
   "source": []
  }
 ],
 "metadata": {
  "kernelspec": {
   "display_name": "Python 3",
   "language": "python",
   "name": "python3"
  },
  "language_info": {
   "codemirror_mode": {
    "name": "ipython",
    "version": 3
   },
   "file_extension": ".py",
   "mimetype": "text/x-python",
   "name": "python",
   "nbconvert_exporter": "python",
   "pygments_lexer": "ipython3",
   "version": "3.6.1"
  }
 },
 "nbformat": 4,
 "nbformat_minor": 2
}
