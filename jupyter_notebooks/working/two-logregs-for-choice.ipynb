{
 "cells": [
  {
   "cell_type": "code",
   "execution_count": 18,
   "metadata": {
    "collapsed": true
   },
   "outputs": [],
   "source": [
    "import numpy as np\n",
    "import pandas as pd\n",
    "import matplotlib.pyplot as plt\n",
    "import sklearn\n",
    "from sklearn.linear_model import LogisticRegression\n",
    "from sklearn.model_selection import train_test_split\n",
    "import getpass\n",
    "username = getpass.getuser()\n",
    "\n",
    "import sys\n",
    "sys.path.append('/Users/{:}/GitHub/mouse_bandit/jupyter_notebooks/helper_functions'.format(username))\n",
    "import bandit_modeling as bm\n",
    "\n",
    "sys.path.append('/Users/{:}/GitHub/mouse_bandit/data_preprocessing_code'.format(username))\n",
    "sys.path.append('/Users/{:}/GitHub/mouse_bandit'.format(username))\n",
    "import support_functions as sf\n",
    "\n",
    "%matplotlib inline"
   ]
  },
  {
   "cell_type": "code",
   "execution_count": 19,
   "metadata": {
    "collapsed": true
   },
   "outputs": [],
   "source": [
    "data = pd.read_csv('/Users/{:}/Dropbox (HMS)/mouse_bandit/markov_full.csv'.format(username), index_col=0)\n",
    "#data = data[data['Condition']=='80-20']\n",
    "#data.head()"
   ]
  },
  {
   "cell_type": "markdown",
   "metadata": {},
   "source": [
    "### Logistic regressions:\n",
    "     Left:\n",
    "          -1 = left, unrewarded\n",
    "           1 = left, rewarded\n",
    "           0 = right (all)\n",
    "           \n",
    "     Right:\n",
    "          -1 = right, unrewarded\n",
    "           1 = right, rewarded\n",
    "           0 = left (all)\n",
    "           \n",
    "     Full: uses merging policy -- takes whichever side has higher probability\n"
   ]
  },
  {
   "cell_type": "code",
   "execution_count": 20,
   "metadata": {
    "collapsed": true
   },
   "outputs": [],
   "source": [
    "X_left, X_right, y_left, y_right, c = bm.choice_history_lateral(data)\n",
    "\n",
    "'''RIGHT'''\n",
    "\n",
    "X_train, X_test, y_train, y_test = train_test_split(X_right, y_right, test_size=0.3, random_state=1)\n",
    "\n",
    "lr1 = LogisticRegression()\n",
    "lr1.fit(X_train, y_train)\n",
    "    \n",
    "lr1_proba_R = lr1.predict_proba(X_test)\n",
    "lr1_predict_R = lr1.predict(X_test)\n",
    "\n",
    "score_lr1_R = lr1.score(X_test, y_test)\n",
    "metrics_lr1_R = sklearn.metrics.precision_recall_fscore_support(y_test, lr1_predict_R)\n",
    "\n",
    "\n",
    "'''LEFT'''\n",
    "X_train, X_test, y_train, y_test = train_test_split(X_left, y_left, test_size=0.3, random_state=1)\n",
    "\n",
    "lr1 = LogisticRegression()\n",
    "lr1.fit(X_train, y_train)\n",
    "\n",
    "lr1_proba_L = lr1.predict_proba(X_test)\n",
    "lr1_predict_L = lr1.predict(X_test)\n",
    "#lr1_predict_L = lr1_predict_L>0.2\n",
    "\n",
    "score_lr1_L = lr1.score(X_test, y_test)\n",
    "metrics_lr1_L = sklearn.metrics.precision_recall_fscore_support(y_test, lr1_predict_L)\n",
    "\n",
    "'''INTEGRATED'''\n",
    "# go to whichever port has a higher probability from its model\n",
    "c_train, c_test = train_test_split(c, test_size=0.3, random_state=1)\n",
    "\n",
    "lr1_proba = np.row_stack((lr1_proba_L[:,1],lr1_proba_R[:,1]))\n",
    "lr1_proba_norm_L = [lr1_proba[1,i]/np.sum(lr1_proba[:,i]) for i in range(lr1_proba.shape[1])]\n",
    "lr1_proba_norm_R = [lr1_proba[0,i]/np.sum(lr1_proba[:,i]) for i in range(lr1_proba.shape[1])]\n",
    "lr1_proba_norm = np.row_stack((lr1_proba_norm_L, lr1_proba_norm_R))\n",
    "\n",
    "y_predict = lr1_proba_L[:,1]>lr1_proba_R[:,1] # predict 1s for L, 0s for R\n",
    "metrics_choice = sklearn.metrics.precision_recall_fscore_support(y_test, y_predict)\n",
    "    \n",
    "lr1_score=1-np.abs(y_predict-y_test).sum()/len(y_test)\n",
    "    \n",
    "prev_choice = c_test['1_Port']\n",
    "s_predict = (np.abs(y_predict-prev_choice)).astype('int')\n",
    "s_test = np.abs(y_test-prev_choice).astype('int')\n",
    "    \n",
    "metrics_lr1 = sklearn.metrics.precision_recall_fscore_support(s_test, s_predict)"
   ]
  },
  {
   "cell_type": "code",
   "execution_count": 21,
   "metadata": {},
   "outputs": [
    {
     "name": "stdout",
     "output_type": "stream",
     "text": [
      "          Predicted NO  Predicted YES\n",
      "True NO        79775.0        11332.0\n",
      "True YES        3241.0         3809.0\n",
      "\n",
      "F1: 0.343\n",
      "\n",
      "Accuracy on class 0: 0.88\n",
      "Accuracy on class 1: 0.54\n",
      "\n"
     ]
    }
   ],
   "source": [
    "acc_pos,acc_neg,F1=sf.score_both_and_confuse(s_predict.values, s_test.values, confusion=False,disp=True)"
   ]
  },
  {
   "cell_type": "code",
   "execution_count": 22,
   "metadata": {},
   "outputs": [
    {
     "data": {
      "text/plain": [
       "(array([ 0.96095933,  0.25156859]),\n",
       " array([ 0.87561878,  0.54028369]),\n",
       " array([ 0.91630629,  0.34329233]),\n",
       " array([91107,  7050]))"
      ]
     },
     "execution_count": 22,
     "metadata": {},
     "output_type": "execute_result"
    }
   ],
   "source": [
    "metrics_lr1"
   ]
  },
  {
   "cell_type": "code",
   "execution_count": 23,
   "metadata": {},
   "outputs": [
    {
     "data": {
      "text/plain": [
       "0.8515337673319274"
      ]
     },
     "execution_count": 23,
     "metadata": {},
     "output_type": "execute_result"
    }
   ],
   "source": [
    "lr1_score"
   ]
  },
  {
   "cell_type": "code",
   "execution_count": 24,
   "metadata": {
    "collapsed": true
   },
   "outputs": [],
   "source": [
    "confidence = np.abs(np.diff(lr1_proba_norm, axis=0))\n",
    "threshold = 0.6\n",
    "\n",
    "confidence_predict = []\n",
    "for i in range(len(y_test)):\n",
    "    if (lr1_proba_norm_R[i]<lr1_proba_norm_L[i]): # if 2 models predict R choice (0)\n",
    "        if prev_choice.values[i]==0: # and previous choice was to R\n",
    "            confidence_predict.append(0) # go R\n",
    "        elif (prev_choice.values[i]==1) & (confidence[0,i] > threshold): #if previous choice was L but mouse is confident\n",
    "            confidence_predict.append(0) # go R\n",
    "        else:\n",
    "            confidence_predict.append(1)\n",
    "    else: # if 2 models predict L\n",
    "        if prev_choice.values[i]==1:\n",
    "            confidence_predict.append(1)\n",
    "        elif (prev_choice.values[i]==0) & (confidence[0,i]>threshold): # if predicts switch but not confident, stay\n",
    "            confidence_predict.append(1)\n",
    "        else:\n",
    "            confidence_predict.append(0) # otherwise go L\n",
    "            \n",
    "confidence_switch = (np.abs(confidence_predict-prev_choice.values)).astype('int')"
   ]
  },
  {
   "cell_type": "code",
   "execution_count": 25,
   "metadata": {},
   "outputs": [
    {
     "data": {
      "text/plain": [
       "(array([ 0.94682739,  0.34266287]),\n",
       " array([ 0.95437233,  0.30737589]),\n",
       " array([ 0.95058489,  0.32406161]),\n",
       " array([91107,  7050]))"
      ]
     },
     "execution_count": 25,
     "metadata": {},
     "output_type": "execute_result"
    }
   ],
   "source": [
    "sklearn.metrics.precision_recall_fscore_support(s_test, confidence_switch)"
   ]
  },
  {
   "cell_type": "code",
   "execution_count": 26,
   "metadata": {},
   "outputs": [
    {
     "name": "stdout",
     "output_type": "stream",
     "text": [
      "          Predicted NO  Predicted YES\n",
      "True NO        86950.0         4157.0\n",
      "True YES        4883.0         2167.0\n",
      "\n",
      "F1: 0.324\n",
      "\n",
      "Accuracy on class 0: 0.95\n",
      "Accuracy on class 1: 0.31\n",
      "\n"
     ]
    }
   ],
   "source": [
    "acc_pos,acc_neg,F1=sf.score_both_and_confuse(confidence_switch, s_test.values, confusion=False,disp=True)"
   ]
  },
  {
   "cell_type": "code",
   "execution_count": 27,
   "metadata": {},
   "outputs": [
    {
     "name": "stderr",
     "output_type": "stream",
     "text": [
      "/Users/celiaberon/anaconda/lib/python3.6/site-packages/matplotlib/axes/_axes.py:545: UserWarning: No labelled objects found. Use label='...' kwarg on individual plots.\n",
      "  warnings.warn(\"No labelled objects found. \"\n"
     ]
    },
    {
     "data": {
      "image/png": "[encoded data removed]",
      "text/plain": [
       "<matplotlib.figure.Figure at 0x11d3d4dd8>"
      ]
     },
     "metadata": {},
     "output_type": "display_data"
    }
   ],
   "source": [
    "height_a = [lr1_score, metrics_lr1[1][0], metrics_lr1[1][1]]\n",
    "\n",
    "barWidth = 0.2\n",
    "# The x position of bars\n",
    "r1 = np.arange(len(height_a))\n",
    "\n",
    "plt.bar(r1, height_a, width=barWidth)\n",
    "\n",
    "conditions=['full','stay','switch']\n",
    "plt.xticks(range(len(height_a)), conditions)\n",
    "plt.ylabel('accuracy')\n",
    "plt.legend()"
   ]
  },
  {
   "cell_type": "markdown",
   "metadata": {},
   "source": [
    "### take a look at probabilities from each model to switch right or left to compare predictions"
   ]
  },
  {
   "cell_type": "code",
   "execution_count": 28,
   "metadata": {},
   "outputs": [
    {
     "data": {
      "text/plain": [
       "<matplotlib.legend.Legend at 0x11cd6b128>"
      ]
     },
     "execution_count": 28,
     "metadata": {},
     "output_type": "execute_result"
    },
    {
     "data": {
      "image/png": "[encoded data removed]",
      "text/plain": [
       "<matplotlib.figure.Figure at 0x11d3da400>"
      ]
     },
     "metadata": {},
     "output_type": "display_data"
    }
   ],
   "source": [
    "plt.plot(lr1_proba_L[0:50,1], 'b', label='left switch')\n",
    "plt.plot(lr1_proba_R[0:50,1], 'r', label='right switch')\n",
    "\n",
    "plt.xlabel('trial #')\n",
    "plt.ylabel('p(switch)')\n",
    "plt.legend()"
   ]
  },
  {
   "cell_type": "code",
   "execution_count": 29,
   "metadata": {},
   "outputs": [
    {
     "data": {
      "text/plain": [
       "<matplotlib.text.Text at 0x11ce850b8>"
      ]
     },
     "execution_count": 29,
     "metadata": {},
     "output_type": "execute_result"
    },
    {
     "data": {
      "image/png": "[encoded data removed]",
      "text/plain": [
       "<matplotlib.figure.Figure at 0x11cfbee48>"
      ]
     },
     "metadata": {},
     "output_type": "display_data"
    }
   ],
   "source": [
    "from sklearn.metrics import roc_curve, roc_auc_score\n",
    "\n",
    "fpr, tpr, _ = roc_curve(y_test, lr1_proba[0])\n",
    "plt.plot(fpr, tpr)\n",
    "\n",
    "plt.plot([0, 1], [0, 1], ':k')\n",
    "plt.xlabel('false postive rate')\n",
    "plt.ylabel('true positive rate')"
   ]
  },
  {
   "cell_type": "code",
   "execution_count": 30,
   "metadata": {},
   "outputs": [
    {
     "data": {
      "text/plain": [
       "(array([ 0.96095933,  0.25156859]),\n",
       " array([ 0.87561878,  0.54028369]),\n",
       " array([ 0.91630629,  0.34329233]),\n",
       " array([91107,  7050]))"
      ]
     },
     "execution_count": 30,
     "metadata": {},
     "output_type": "execute_result"
    }
   ],
   "source": [
    "metrics_lr1"
   ]
  },
  {
   "cell_type": "markdown",
   "metadata": {},
   "source": [
    "### null model (single logistic regression) to compare against)"
   ]
  },
  {
   "cell_type": "code",
   "execution_count": 31,
   "metadata": {},
   "outputs": [
    {
     "data": {
      "image/png": "[encoded data removed]",
      "text/plain": [
       "<matplotlib.figure.Figure at 0x10d93d9e8>"
      ]
     },
     "metadata": {},
     "output_type": "display_data"
    }
   ],
   "source": [
    "bm.logreg_sim_plot(data) # null model (trained on both ports together) on each condition"
   ]
  },
  {
   "cell_type": "markdown",
   "metadata": {},
   "source": [
    "### tuning the bias of the mouse to left or right port - not worth pursuing"
   ]
  },
  {
   "cell_type": "code",
   "execution_count": 32,
   "metadata": {},
   "outputs": [
    {
     "name": "stdout",
     "output_type": "stream",
     "text": [
      "decision boundary at 0.0\n",
      "          Predicted NO  Predicted YES\n",
      "True NO            0.0        49564.0\n",
      "True YES           0.0        48593.0\n",
      "\n",
      "F1: 0.662\n",
      "\n",
      "Accuracy on class 0: 0.00\n",
      "Accuracy on class 1: 1.00\n",
      "\n",
      "decision boundary at 0.1\n",
      "          Predicted NO  Predicted YES\n",
      "True NO         3701.0        45863.0\n",
      "True YES        2665.0        45928.0\n",
      "\n",
      "F1: 0.654\n",
      "\n",
      "Accuracy on class 0: 0.07\n",
      "Accuracy on class 1: 0.95\n",
      "\n",
      "decision boundary at 0.2\n",
      "          Predicted NO  Predicted YES\n",
      "True NO         9576.0        39988.0\n",
      "True YES        5087.0        43506.0\n",
      "\n",
      "F1: 0.659\n",
      "\n",
      "Accuracy on class 0: 0.19\n",
      "Accuracy on class 1: 0.90\n",
      "\n",
      "decision boundary at 0.3\n",
      "          Predicted NO  Predicted YES\n",
      "True NO        14125.0        35439.0\n",
      "True YES        6909.0        41684.0\n",
      "\n",
      "F1: 0.663\n",
      "\n",
      "Accuracy on class 0: 0.28\n",
      "Accuracy on class 1: 0.86\n",
      "\n",
      "decision boundary at 0.4\n",
      "          Predicted NO  Predicted YES\n",
      "True NO        45825.0         3739.0\n",
      "True YES       10084.0        38509.0\n",
      "\n",
      "F1: 0.848\n",
      "\n",
      "Accuracy on class 0: 0.92\n",
      "Accuracy on class 1: 0.79\n",
      "\n",
      "decision boundary at 0.5\n",
      "          Predicted NO  Predicted YES\n",
      "True NO        46961.0         2603.0\n",
      "True YES       12732.0        35861.0\n",
      "\n",
      "F1: 0.824\n",
      "\n",
      "Accuracy on class 0: 0.95\n",
      "Accuracy on class 1: 0.74\n",
      "\n",
      "decision boundary at 0.6\n",
      "          Predicted NO  Predicted YES\n",
      "True NO        47562.0         2002.0\n",
      "True YES       15092.0        33501.0\n",
      "\n",
      "F1: 0.797\n",
      "\n",
      "Accuracy on class 0: 0.96\n",
      "Accuracy on class 1: 0.69\n",
      "\n",
      "decision boundary at 0.7\n",
      "          Predicted NO  Predicted YES\n",
      "True NO        48082.0         1482.0\n",
      "True YES       18139.0        30454.0\n",
      "\n",
      "F1: 0.756\n",
      "\n",
      "Accuracy on class 0: 0.97\n",
      "Accuracy on class 1: 0.63\n",
      "\n",
      "decision boundary at 0.8\n",
      "          Predicted NO  Predicted YES\n",
      "True NO        48549.0         1015.0\n",
      "True YES       22538.0        26055.0\n",
      "\n",
      "F1: 0.689\n",
      "\n",
      "Accuracy on class 0: 0.98\n",
      "Accuracy on class 1: 0.54\n",
      "\n",
      "decision boundary at 0.9\n",
      "          Predicted NO  Predicted YES\n",
      "True NO        49011.0          553.0\n",
      "True YES       29508.0        19085.0\n",
      "\n",
      "F1: 0.559\n",
      "\n",
      "Accuracy on class 0: 0.99\n",
      "Accuracy on class 1: 0.39\n",
      "\n",
      "decision boundary at 1.0\n",
      "          Predicted NO  Predicted YES\n",
      "True NO        49564.0            0.0\n",
      "True YES       48593.0            0.0\n",
      "\n",
      "F1: 0.000\n",
      "\n",
      "Accuracy on class 0: 1.00\n",
      "Accuracy on class 1: 0.00\n",
      "\n"
     ]
    }
   ],
   "source": [
    "for i in np.arange(0,1.1,0.1):\n",
    "    print('decision boundary at', i)\n",
    "    test_predict = lr1_proba[0]>i\n",
    "    acc_pos,acc_neg,F1=sf.score_both_and_confuse(test_predict, y_test.values, confusion=False,disp=True)\n",
    "    "
   ]
  },
  {
   "cell_type": "code",
   "execution_count": 33,
   "metadata": {
    "scrolled": true
   },
   "outputs": [
    {
     "data": {
      "text/plain": [
       "<matplotlib.legend.Legend at 0x11c4b4128>"
      ]
     },
     "execution_count": 33,
     "metadata": {},
     "output_type": "execute_result"
    },
    {
     "data": {
      "image/png": "[encoded data removed]",
      "text/plain": [
       "<matplotlib.figure.Figure at 0x11c4835f8>"
      ]
     },
     "metadata": {},
     "output_type": "display_data"
    }
   ],
   "source": [
    "conditions = ['90-10', '80-20', '70-30']\n",
    "\n",
    "lr1_score=[]\n",
    "metrics_lr1 = np.zeros((4,2))\n",
    "\n",
    "for condition in conditions:\n",
    "    d=data.copy()\n",
    "    d=d[data['Condition']==condition]\n",
    "    \n",
    "    X_left, X_right, y_left, y_right, c = bm.choice_history_lateral(d)\n",
    "\n",
    "    '''RIGHT'''\n",
    "\n",
    "    X_train, X_test, y_train, y_test = train_test_split(X_right, y_right, test_size=0.3, random_state=1)\n",
    "\n",
    "    lr1 = LogisticRegression(C=1)\n",
    "    lr1.fit(X_train, y_train)\n",
    "\n",
    "    lr1_proba_R = lr1.predict_proba(X_test)\n",
    "    lr1_predict_R = lr1.predict(X_test)\n",
    "    #lr1_predict_R = lr1_predict_R>0.2\n",
    "\n",
    "    score_lr1_R = lr1.score(X_test, y_test)\n",
    "    metrics_lr1_R = sklearn.metrics.precision_recall_fscore_support(y_test, lr1_predict_R)\n",
    "    \n",
    "    \n",
    "    '''LEFT'''\n",
    "    X_train, X_test, y_train, y_test = train_test_split(X_left, y_left, test_size=0.3, random_state=1)\n",
    "\n",
    "    lr1 = LogisticRegression()\n",
    "    lr1.fit(X_train, y_train)\n",
    "\n",
    "    lr1_proba_L = lr1.predict_proba(X_test)\n",
    "    lr1_predict_L = lr1.predict(X_test)\n",
    "    #lr1_predict_L = lr1_predict_L>0.2\n",
    "\n",
    "    score_lr1_L = lr1.score(X_test, y_test)\n",
    "    metrics_lr1_L = sklearn.metrics.precision_recall_fscore_support(y_test, lr1_predict_L)\n",
    "\n",
    "\n",
    "    '''INTEGRATED'''\n",
    "    # go to whichever port has a higher probability from its model\n",
    "    c_train, c_test = train_test_split(c, test_size=0.3, random_state=1)\n",
    "\n",
    "    lr1_proba = [lr1_proba_L[:,1], lr1_proba_R[:,1]]\n",
    "    y_predict = lr1_proba_L[:,1]>lr1_proba_R[:,1]\n",
    "    metrics = sklearn.metrics.precision_recall_fscore_support(y_test, y_predict)\n",
    "    \n",
    "    lr1_score.append(1-np.abs(y_predict-y_test).sum()/len(y_test))\n",
    "    \n",
    "    prev_choice = c_test['1_Port']\n",
    "    s_predict = (np.abs(y_predict-prev_choice)).astype('int')\n",
    "    s_test = np.abs(y_test-prev_choice).astype('int')\n",
    "    \n",
    "    metrics_temp = sklearn.metrics.precision_recall_fscore_support(s_test, s_predict)\n",
    "    metrics_lr1 = np.dstack((metrics_lr1, np.array(metrics_temp)))\n",
    "\n",
    "metrics_lr1 = metrics_lr1[:,:,1:len(conditions)+1]\n",
    "\n",
    "'''plot results'''\n",
    "\n",
    "height_a = [lr1_score[0], metrics_lr1[1,0,0], metrics_lr1[1,1,0]]\n",
    "height_b = [lr1_score[1], metrics_lr1[1,0,1], metrics_lr1[1,1,1]]\n",
    "height_c = [lr1_score[2], metrics_lr1[1,0,2], metrics_lr1[1,1,2]]\n",
    "\n",
    "barWidth = 0.2\n",
    "# The x position of bars\n",
    "r1 = np.arange(len(height_a))\n",
    "r2 = [x + barWidth for x in r1]\n",
    "r3 = [x + barWidth for x in r2]\n",
    "\n",
    "prob_labels = ['full', 'stay', 'switch']\n",
    "plt.bar(r1, height_a, width=barWidth, label='9010')\n",
    "plt.bar(r2, height_b, width=barWidth, label='8020')\n",
    "plt.bar(r3, height_c, width=barWidth, label='7030')\n",
    "\n",
    "plt.xticks(r2, prob_labels, size=15)\n",
    "plt.ylabel('accuracy', size=15)\n",
    "plt.legend()"
   ]
  },
  {
   "cell_type": "code",
   "execution_count": 58,
   "metadata": {},
   "outputs": [
    {
     "data": {
      "text/plain": [
       "<matplotlib.legend.Legend at 0x1193697f0>"
      ]
     },
     "execution_count": 58,
     "metadata": {},
     "output_type": "execute_result"
    },
    {
     "data": {
      "image/png": "[encoded data removed]",
      "text/plain": [
       "<matplotlib.figure.Figure at 0x118f842e8>"
      ]
     },
     "metadata": {},
     "output_type": "display_data"
    }
   ],
   "source": [
    "n_sims=100\n",
    "seed1 = np.random.randint(100000,size=n_sims)\n",
    "\n",
    "conditions = ['90-10', '80-20', '70-30']\n",
    "\n",
    "lr1_score=[]\n",
    "metrics_lr1 = np.zeros((4,2))\n",
    "acc_switch=[]\n",
    "acc_stay=[]\n",
    "\n",
    "for condition in conditions:\n",
    "    #acc_switch.append(np.mean(metrics_lr1[1,1,0]))\n",
    "    d=data.copy()\n",
    "    d=d[data['Condition']==condition]\n",
    "    \n",
    "    X_left, X_right, y_left, y_right, c = bm.choice_history_lateral(d)\n",
    "    \n",
    "    for n in range(1,n_sims):\n",
    "\n",
    "        '''RIGHT'''\n",
    "\n",
    "        X_train, X_test, y_train, y_test = train_test_split(X_right, y_right, test_size=0.3, random_state=seed1[n])\n",
    "\n",
    "        lr1 = LogisticRegression(C=1)\n",
    "        lr1.fit(X_train, y_train)\n",
    "\n",
    "        lr1_proba_R = lr1.predict_proba(X_test)\n",
    "        lr1_predict_R = lr1.predict(X_test)\n",
    "        #lr1_predict_R = lr1_predict_R>0.2\n",
    "\n",
    "        score_lr1_R = lr1.score(X_test, y_test)\n",
    "        metrics_lr1_R = sklearn.metrics.precision_recall_fscore_support(y_test, lr1_predict_R)\n",
    "\n",
    "    \n",
    "        '''LEFT'''\n",
    "        X_train, X_test, y_train, y_test = train_test_split(X_left, y_left, test_size=0.3, random_state=seed1[n])\n",
    "\n",
    "        lr1 = LogisticRegression()\n",
    "        lr1.fit(X_train, y_train)\n",
    "\n",
    "        lr1_proba_L = lr1.predict_proba(X_test)\n",
    "        lr1_predict_L = lr1.predict(X_test)\n",
    "        #lr1_predict_L = lr1_predict_L>0.2\n",
    "\n",
    "        score_lr1_L = lr1.score(X_test, y_test)\n",
    "        metrics_lr1_L = sklearn.metrics.precision_recall_fscore_support(y_test, lr1_predict_L)\n",
    "\n",
    "\n",
    "        '''INTEGRATED'''\n",
    "        # go to whichever port has a higher probability from its model\n",
    "        c_train, c_test = train_test_split(c, test_size=0.3, random_state=seed1[n])\n",
    "\n",
    "        lr1_proba = [lr1_proba_L[:,1], lr1_proba_R[:,1]]\n",
    "        y_predict = lr1_proba_L[:,1]>lr1_proba_R[:,1]\n",
    "        metrics = sklearn.metrics.precision_recall_fscore_support(y_test, y_predict)\n",
    "\n",
    "        lr1_score.append(1-np.abs(y_predict-y_test).sum()/len(y_test))\n",
    "\n",
    "        prev_choice = c_test['1_Port']\n",
    "        s_predict = (np.abs(y_predict-prev_choice)).astype('int')\n",
    "        s_test = np.abs(y_test-prev_choice).astype('int')\n",
    "\n",
    "        metrics_temp = sklearn.metrics.precision_recall_fscore_support(s_test, s_predict)\n",
    "        metrics_lr1 = np.dstack((metrics_lr1, np.array(metrics_temp)))\n",
    "        acc_switch.append(metrics_temp[1][1])\n",
    "        acc_stay.append(metrics_temp[1][0])\n",
    "\n",
    "metrics_lr1 = metrics_lr1[:,:,1:len(conditions)+1]\n",
    "\n",
    "'''plot results'''\n",
    "\n",
    "height_a = [np.mean(lr1_score[0:(n_sims-1)]), np.mean(acc_stay[0:(n_sims-1)]), np.mean(acc_switch[0:(n_sims-1)])]\n",
    "height_b = [np.mean(lr1_score[n_sims-1:2*(n_sims-1)]), np.mean(acc_stay[(n_sims-1):2*(n_sims-1)]), np.mean(acc_switch[(n_sims-1):2*(n_sims-1)])]\n",
    "height_c = [np.mean(lr1_score[2*(n_sims-1):]), np.mean(acc_stay[2*(n_sims-1):]), np.mean(acc_switch[2*(n_sims-1):])]\n",
    "\n",
    "ystd1 = [np.std(lr1_score[0:(n_sims-1)]), np.std(acc_stay[0:(n_sims-1)]), np.std(acc_switch[0:(n_sims-1)])]\n",
    "yerr1 = [ystd1[i] / np.sqrt(n_sims) for i in range(len(ystd1))]\n",
    "\n",
    "ystd2 = [np.std(lr1_score[n_sims-1:2*(n_sims-1)]), np.std(acc_stay[(n_sims-1):2*(n_sims-1)]), np.std(acc_switch[(n_sims-1):2*(n_sims-1)])]\n",
    "yerr2 = [ystd2[i] / np.sqrt(n_sims) for i in range(len(ystd2))]\n",
    "\n",
    "ystd3 = [np.std(lr1_score[2*(n_sims-1):]), np.std(acc_stay[2*(n_sims-1):]), np.std(acc_switch[2*(n_sims-1):])]\n",
    "yerr3 = [ystd3[i] / np.sqrt(n_sims) for i in range(len(ystd3))]\n",
    "\n",
    "barWidth = 0.2\n",
    "# The x position of bars\n",
    "r1 = np.arange(len(height_a))\n",
    "r2 = [x + barWidth for x in r1]\n",
    "r3 = [x + barWidth for x in r2]\n",
    "\n",
    "prob_labels = ['full', 'stay', 'switch']\n",
    "plt.bar(r1, height_a, width=barWidth, yerr=yerr1, capsize=3, label='9010')\n",
    "plt.bar(r2, height_b, width=barWidth, yerr=yerr2, capsize=3, label='8020')\n",
    "plt.bar(r3, height_c, width=barWidth, yerr=yerr3, capsize=3, label='7030')\n",
    "\n",
    "plt.xticks(r2, prob_labels, size=15)\n",
    "plt.ylabel('accuracy', size=15)\n",
    "plt.legend()\n"
   ]
  },
  {
   "cell_type": "code",
   "execution_count": 51,
   "metadata": {},
   "outputs": [
    {
     "data": {
      "text/plain": [
       "[0.89465368244550492,\n",
       " 0.89624254152556038,\n",
       " 0.89560032232070907,\n",
       " 0.89311821724149032,\n",
       " 0.89223817976440212,\n",
       " 0.89287094281298296,\n",
       " 0.89260296911731551,\n",
       " 0.89292043953211098,\n",
       " 0.89141788638854857]"
      ]
     },
     "execution_count": 51,
     "metadata": {},
     "output_type": "execute_result"
    }
   ],
   "source": [
    "acc_stay[(n_sims-1):2*(n_sims-1)]"
   ]
  },
  {
   "cell_type": "markdown",
   "metadata": {},
   "source": [
    "### Shuffled"
   ]
  },
  {
   "cell_type": "code",
   "execution_count": 70,
   "metadata": {},
   "outputs": [
    {
     "data": {
      "text/plain": [
       "(31920, 10)"
      ]
     },
     "execution_count": 70,
     "metadata": {},
     "output_type": "execute_result"
    }
   ],
   "source": [
    "X_test.shape"
   ]
  },
  {
   "cell_type": "code",
   "execution_count": 107,
   "metadata": {
    "collapsed": true
   },
   "outputs": [],
   "source": [
    "seed1 = np.random.randint(100000,size=n_sims)"
   ]
  },
  {
   "cell_type": "code",
   "execution_count": 108,
   "metadata": {},
   "outputs": [
    {
     "data": {
      "text/plain": [
       "<matplotlib.legend.Legend at 0x1280b9fd0>"
      ]
     },
     "execution_count": 108,
     "metadata": {},
     "output_type": "execute_result"
    },
    {
     "data": {
      "image/png": "[encoded data removed]",
      "text/plain": [
       "<matplotlib.figure.Figure at 0x1280b9eb8>"
      ]
     },
     "metadata": {},
     "output_type": "display_data"
    }
   ],
   "source": [
    "n_sims=100\n",
    "#seed1 = np.random.randint(100000,size=n_sims)\n",
    "\n",
    "conditions = ['90-10', '80-20', '70-30']\n",
    "\n",
    "lr1_score=[]\n",
    "metrics_lr1 = np.zeros((4,2))\n",
    "metrics_lr1_shuffled = np.zeros((4,2))\n",
    "acc_switch=[]\n",
    "acc_stay=[]\n",
    "\n",
    "for condition in conditions:\n",
    "    #acc_switch.append(np.mean(metrics_lr1[1,1,0]))\n",
    "    d=data.copy()\n",
    "    d=d[data['Condition']==condition]\n",
    "    \n",
    "    X_left, X_right, y_left, y_right, c = bm.choice_history_lateral(d)\n",
    "    \n",
    "    for n in range(1,n_sims):\n",
    "\n",
    "        '''RIGHT'''\n",
    "\n",
    "        X_train, X_test, y_train, y_test = train_test_split(X_right, y_right, test_size=0.3, random_state=seed1[n])\n",
    "\n",
    "        lr1 = LogisticRegression(C=1)\n",
    "        lr1.fit(X_train, y_train)\n",
    "\n",
    "        lr1_proba_R = lr1.predict_proba(X_test)\n",
    "        lr1_predict_R = lr1.predict(X_test)\n",
    "        #lr1_predict_R = lr1_predict_R>0.2\n",
    "\n",
    "        score_lr1_R = lr1.score(X_test, y_test)\n",
    "        metrics_lr1_R = sklearn.metrics.precision_recall_fscore_support(y_test, lr1_predict_R)\n",
    "\n",
    "    \n",
    "        '''LEFT'''\n",
    "        X_train, X_test, y_train, y_test = train_test_split(X_left, y_left, test_size=0.3, random_state=seed1[n])\n",
    "\n",
    "        lr1 = LogisticRegression()\n",
    "        lr1.fit(X_train, y_train)\n",
    "\n",
    "        lr1_proba_L = lr1.predict_proba(X_test)\n",
    "        lr1_predict_L = lr1.predict(X_test)\n",
    "        #lr1_predict_L = lr1_predict_L>0.2\n",
    "\n",
    "        score_lr1_L = lr1.score(X_test, y_test)\n",
    "        metrics_lr1_L = sklearn.metrics.precision_recall_fscore_support(y_test, lr1_predict_L)\n",
    "\n",
    "\n",
    "        '''INTEGRATED'''\n",
    "        # go to whichever port has a higher probability from its model\n",
    "        c_train, c_test = train_test_split(c, test_size=0.3, random_state=seed1[n])\n",
    "\n",
    "        lr1_proba = [lr1_proba_L[:,1], lr1_proba_R[:,1]]\n",
    "        y_predict = lr1_proba_L[:,1]>lr1_proba_R[:,1]\n",
    "        metrics = sklearn.metrics.precision_recall_fscore_support(y_test, y_predict)\n",
    "\n",
    "        lr1_score.append(1-np.abs(y_predict-y_test).sum()/len(y_test))\n",
    "\n",
    "        prev_choice = c_test['1_Port']\n",
    "        s_predict = (np.abs(y_predict-prev_choice)).astype('int')\n",
    "        s_test = np.abs(y_test-prev_choice).astype('int')\n",
    "        \n",
    "        metrics_temp = sklearn.metrics.precision_recall_fscore_support(s_test, s_predict)\n",
    "        metrics_lr1 = np.dstack((metrics_lr1, np.array(metrics_temp)))\n",
    "        np.random.shuffle(s_test.values)\n",
    "        metrics_temp_shuffled = sklearn.metrics.precision_recall_fscore_support(s_test, s_predict)\n",
    "        metrics_lr1_shuffled = np.dstack((metrics_lr1_shuffled, np.array(metrics_temp_shuffled)))\n",
    "        acc_switch.append(metrics_temp[1][1])\n",
    "        acc_stay.append(metrics_temp[1][0])\n",
    "\n",
    "metrics_lr1 = metrics_lr1[:,:,1:len(conditions)+1]\n",
    "metrics_lr1_shuffled = metrics_lr1_shuffled[:,:,1:len(conditions)+1]\n",
    "\n",
    "\n",
    "'''plot results'''\n",
    "\n",
    "height_a = [np.mean(lr1_score[0:(n_sims-1)]), np.mean(acc_stay[0:(n_sims-1)]), np.mean(acc_switch[0:(n_sims-1)])]\n",
    "height_b = [np.mean(lr1_score[n_sims-1:2*(n_sims-1)]), np.mean(acc_stay[(n_sims-1):2*(n_sims-1)]), np.mean(acc_switch[(n_sims-1):2*(n_sims-1)])]\n",
    "height_c = [np.mean(lr1_score[2*(n_sims-1):]), np.mean(acc_stay[2*(n_sims-1):]), np.mean(acc_switch[2*(n_sims-1):])]\n",
    "\n",
    "ystd1 = [np.std(lr1_score[0:(n_sims-1)]), np.std(acc_stay[0:(n_sims-1)]), np.std(acc_switch[0:(n_sims-1)])]\n",
    "yerr1 = [ystd1[i] / np.sqrt(n_sims) for i in range(len(ystd1))]\n",
    "\n",
    "ystd2 = [np.std(lr1_score[n_sims-1:2*(n_sims-1)]), np.std(acc_stay[(n_sims-1):2*(n_sims-1)]), np.std(acc_switch[(n_sims-1):2*(n_sims-1)])]\n",
    "yerr2 = [ystd2[i] / np.sqrt(n_sims) for i in range(len(ystd2))]\n",
    "\n",
    "ystd3 = [np.std(lr1_score[2*(n_sims-1):]), np.std(acc_stay[2*(n_sims-1):]), np.std(acc_switch[2*(n_sims-1):])]\n",
    "yerr3 = [ystd3[i] / np.sqrt(n_sims) for i in range(len(ystd3))]\n",
    "\n",
    "height_a_shuffled = np.mean(metrics_lr1_shuffled[1,1,0])\n",
    "height_b_shuffled = np.mean(metrics_lr1_shuffled[1,1,1])\n",
    "height_c_shuffled = np.mean(metrics_lr1_shuffled[1,1,2])\n",
    "\n",
    "yerr1_shuffled = np.std(acc_switch[0:(n_sims-1)]) / np.sqrt(n_sims)\n",
    "\n",
    "yerr2_shuffled = np.std(acc_switch[(n_sims-1):2*(n_sims-1)]) / np.sqrt(n_sims)\n",
    "\n",
    "yerr3_shuffled = np.std(acc_switch[2*(n_sims-1):]) / np.sqrt(n_sims)\n",
    "\n",
    "barWidth = 0.2\n",
    "# The x position of bars\n",
    "r1 = np.arange(len(height_a))\n",
    "r2 = [x + barWidth for x in r1]\n",
    "r3 = [x + barWidth for x in r2]\n",
    "\n",
    "prob_labels = ['full', 'stay', 'switch']\n",
    "plt.bar(r1, height_a, width=barWidth, yerr=yerr1, capsize=3, label='90-10')\n",
    "plt.bar(r2, height_b, width=barWidth, yerr=yerr2, capsize=3, label='80-20')\n",
    "plt.bar(r3, height_c, width=barWidth, yerr=yerr3, capsize=3, label='70-30')\n",
    "plt.bar(r1[2], height_a_shuffled, width=barWidth, label='shuffled', color='gray', alpha=0.8, edgeColor='gray')\n",
    "plt.bar(r2[2], height_b_shuffled, width=barWidth, color='gray', alpha=0.8)\n",
    "plt.bar(r3[2], height_c_shuffled, width=barWidth, color='gray', alpha=0.8)\n",
    "\n",
    "\n",
    "plt.xticks(r2, prob_labels, size=15)\n",
    "plt.ylabel('accuracy', size=15)\n",
    "plt.legend()\n",
    "\n"
   ]
  },
  {
   "cell_type": "code",
   "execution_count": 111,
   "metadata": {},
   "outputs": [
    {
     "data": {
      "text/plain": [
       "<matplotlib.legend.Legend at 0x118dfdd30>"
      ]
     },
     "execution_count": 111,
     "metadata": {},
     "output_type": "execute_result"
    },
    {
     "data": {
      "image/png": "[encoded data removed]",
      "text/plain": [
       "<matplotlib.figure.Figure at 0x119068e10>"
      ]
     },
     "metadata": {},
     "output_type": "display_data"
    }
   ],
   "source": [
    "prob_labels = ['full', 'stay', 'switch']\n",
    "plt.bar(r1, height_a, width=barWidth, yerr=yerr1, capsize=3, label='90-10')\n",
    "plt.bar(r2, height_b, width=barWidth, yerr=yerr2, capsize=3, label='80-20')\n",
    "plt.bar(r3, height_c, width=barWidth, yerr=yerr3, capsize=3, label='70-30')\n",
    "plt.bar(r1[2], height_a_shuffled, width=barWidth, label='shuffled', color='gray', alpha=0.8, edgeColor='gray')\n",
    "plt.bar(r2[2], height_b_shuffled, width=barWidth, color='gray', alpha=0.8)\n",
    "plt.bar(r3[2], height_c_shuffled, width=barWidth, color='gray', alpha=0.8)\n",
    "\n",
    "\n",
    "plt.xticks(r2, prob_labels, size=15)\n",
    "plt.ylabel('accuracy', size=15)\n",
    "plt.legend()\n",
    "\n",
    "\n"
   ]
  },
  {
   "cell_type": "code",
   "execution_count": 94,
   "metadata": {},
   "outputs": [
    {
     "data": {
      "text/plain": [
       "0.10041060097051138"
      ]
     },
     "execution_count": 94,
     "metadata": {},
     "output_type": "execute_result"
    }
   ],
   "source": [
    "metrics_lr1_shuffled[1,1,0]"
   ]
  },
  {
   "cell_type": "code",
   "execution_count": 77,
   "metadata": {},
   "outputs": [],
   "source": [
    "np.random.shuffle(s_test.values)"
   ]
  },
  {
   "cell_type": "code",
   "execution_count": null,
   "metadata": {
    "collapsed": true
   },
   "outputs": [],
   "source": []
  }
 ],
 "metadata": {
  "kernelspec": {
   "display_name": "Python 3",
   "language": "python",
   "name": "python3"
  },
  "language_info": {
   "codemirror_mode": {
    "name": "ipython",
    "version": 3
   },
   "file_extension": ".py",
   "mimetype": "text/x-python",
   "name": "python",
   "nbconvert_exporter": "python",
   "pygments_lexer": "ipython3",
   "version": "3.6.1"
  }
 },
 "nbformat": 4,
 "nbformat_minor": 2
}
