{
 "cells": [
  {
   "cell_type": "markdown",
   "metadata": {},
   "source": [
    "This notebook aligns calcium imaging data to behavioral events. The user can then define different conditions to subset the data from comparison of activity patterns aligned these events. The notebook then returns a series of plots, heatmaps of both raw and event-based calcium signal for each epoch."
   ]
  },
  {
   "cell_type": "code",
   "execution_count": 1,
   "metadata": {
    "collapsed": true
   },
   "outputs": [],
   "source": [
    "user_name = 'celia'"
   ]
  },
  {
   "cell_type": "code",
   "execution_count": 2,
   "metadata": {},
   "outputs": [],
   "source": [
    "import sys\n",
    "sys.path.append('/Users/{}/GitHub/mouse_bandit/data_preprocessing_code'.format(user_name))\n",
    "import support_functions as sf\n",
    "import numpy as np\n",
    "import pandas as pd\n",
    "import scipy as sp\n",
    "import scipy.io as scio\n",
    "import bandit_preprocessing as bp\n",
    "import hmm_on_behavior as hob\n",
    "import calcium_codes as cc\n",
    "sys.path.append('/Users/{}/GitHub/mouse_bandit/jupyter_notebooks/helper_functions'.format(user_name))\n",
    "import hf_behavior_imaging as hf\n",
    "import os\n",
    "import matplotlib.pyplot as plt\n",
    "import itertools\n",
    "%matplotlib inline"
   ]
  },
  {
   "cell_type": "code",
   "execution_count": 3,
   "metadata": {},
   "outputs": [],
   "source": [
    "'''Initialize paths and import data'''\n",
    "\n",
    "record_path = '/Users/{}/GitHub/mouse_bandit/session_record.csv'.format(user_name) # session record of behavioral data\n",
    "ca_data_path = '/Volumes/Neurobio/MICROSCOPE/Celia/data/imaging/Shay/Extracted/k13_031017_bandit_8020/k13_03102017_bandit_8020_neuron_results.mat'\n",
    "#ca_data_path = '/Volumes/Neurobio/MICROSCOPE/Celia/data/imaging/Shay/Extracted/q43_111716_bandit_8020/q43_111716_bandit_8020_neuron_results.mat'\n",
    "#ca_data_path = '/Users/{}/Documents/mouse_bandit/k13_03102017_bandit_8020_neuron_results.mat'.format(user_name)\n",
    "#ca_data_path = '/Users/celiaberon/Documents/mouse_bandit/k1_111616_bandit_9010_neuron_results.mat'\n",
    "\n",
    "\n",
    "record = pd.read_csv(record_path,index_col=0) # session record is panda df\n",
    "ca_data = scio.loadmat(ca_data_path,squeeze_me = True, struct_as_record = False)\n",
    "neuron = ca_data['neuron_results'] # set neuron variable to just contain neuron_results structure\n",
    "\n",
    "\n",
    "'''Specify mouse and session of interest'''\n",
    "\n",
    "session_name  = '03102017_K13'\n",
    "mouse_id = 'k13'\n",
    "\n",
    "record[record['Session ID'] == session_name] # take only rows from record that match session name\n",
    "\n",
    "\n",
    "'''Load in trial data from specific session'''\n",
    "\n",
    "columns = ['Elapsed Time (s)','Since last trial (s)','Trial Duration (s)','Port Poked',\n",
    "           'Right Reward Prob','Left Reward Prob','Reward Given',\n",
    "          'center_frame','decision_frame']\n",
    "\n",
    "root_dir = '/Users/{}/GitHub/mouse_bandit/data/trial_data'.format(user_name)\n",
    "\n",
    "full_name = session_name + '_trials.csv'\n",
    "\n",
    "path_name = os.path.join(root_dir,full_name)\n",
    "\n",
    "trial_df = pd.read_csv(path_name,names=columns)"
   ]
  },
  {
   "cell_type": "code",
   "execution_count": 4,
   "metadata": {},
   "outputs": [
    {
     "data": {
      "text/plain": [
       "(364, 9)"
      ]
     },
     "execution_count": 4,
     "metadata": {},
     "output_type": "execute_result"
    }
   ],
   "source": [
    "trial_df.shape"
   ]
  },
  {
   "cell_type": "code",
   "execution_count": 5,
   "metadata": {
    "collapsed": true
   },
   "outputs": [],
   "source": [
    "np.set_printoptions(threshold=np.inf)"
   ]
  },
  {
   "cell_type": "code",
   "execution_count": 6,
   "metadata": {},
   "outputs": [
    {
     "data": {
      "text/html": [
       "<div>\n",
       "<style>\n",
       "    .dataframe thead tr:only-child th {\n",
       "        text-align: right;\n",
       "    }\n",
       "\n",
       "    .dataframe thead th {\n",
       "        text-align: left;\n",
       "    }\n",
       "\n",
       "    .dataframe tbody tr th {\n",
       "        vertical-align: top;\n",
       "    }\n",
       "</style>\n",
       "<table border=\"1\" class=\"dataframe\">\n",
       "  <thead>\n",
       "    <tr style=\"text-align: right;\">\n",
       "      <th></th>\n",
       "      <th>Owner</th>\n",
       "      <th>Session ID</th>\n",
       "      <th>Mouse ID</th>\n",
       "      <th>Date</th>\n",
       "      <th>Phase</th>\n",
       "      <th>Markov</th>\n",
       "      <th>Left Reward Prob</th>\n",
       "      <th>Right Reward Prob</th>\n",
       "      <th>Block Range Min</th>\n",
       "      <th>Block Range Max</th>\n",
       "      <th>No. Trials</th>\n",
       "      <th>No. Blocks</th>\n",
       "      <th>No. Rewards</th>\n",
       "      <th>p(high Port)</th>\n",
       "      <th>Decision Window Duration</th>\n",
       "      <th>Min Inter-trial-interval</th>\n",
       "      <th>Left Solenoid Duration</th>\n",
       "      <th>Right Solenoid Duration</th>\n",
       "    </tr>\n",
       "  </thead>\n",
       "  <tbody>\n",
       "    <tr>\n",
       "      <th>802</th>\n",
       "      <td>shay</td>\n",
       "      <td>03102017_K13</td>\n",
       "      <td>K13</td>\n",
       "      <td>2017-03-10 00:00:00</td>\n",
       "      <td>2.0</td>\n",
       "      <td>0</td>\n",
       "      <td>0.8</td>\n",
       "      <td>0.2</td>\n",
       "      <td>50.0</td>\n",
       "      <td>50.0</td>\n",
       "      <td>364.0</td>\n",
       "      <td>4.0</td>\n",
       "      <td>247.0</td>\n",
       "      <td>0.84</td>\n",
       "      <td>2.0</td>\n",
       "      <td>1.0</td>\n",
       "      <td>35.0</td>\n",
       "      <td>35.0</td>\n",
       "    </tr>\n",
       "  </tbody>\n",
       "</table>\n",
       "</div>"
      ],
      "text/plain": [
       "    Owner    Session ID Mouse ID                 Date  Phase  Markov  \\\n",
       "802  shay  03102017_K13      K13  2017-03-10 00:00:00    2.0       0   \n",
       "\n",
       "     Left Reward Prob  Right Reward Prob  Block Range Min  Block Range Max  \\\n",
       "802               0.8                0.2             50.0             50.0   \n",
       "\n",
       "     No. Trials  No. Blocks  No. Rewards  p(high Port)  \\\n",
       "802       364.0         4.0        247.0          0.84   \n",
       "\n",
       "     Decision Window Duration  Min Inter-trial-interval  \\\n",
       "802                       2.0                       1.0   \n",
       "\n",
       "     Left Solenoid Duration  Right Solenoid Duration  \n",
       "802                    35.0                     35.0  "
      ]
     },
     "execution_count": 6,
     "metadata": {},
     "output_type": "execute_result"
    }
   ],
   "source": [
    "record[record['Session ID']==session_name]"
   ]
  },
  {
   "cell_type": "code",
   "execution_count": 7,
   "metadata": {},
   "outputs": [
    {
     "name": "stdout",
     "output_type": "stream",
     "text": [
      "right block proportion = 0.401098901099\n"
     ]
    },
    {
     "data": {
      "text/plain": [
       "[63, 72, 80, 74, 75]"
      ]
     },
     "execution_count": 7,
     "metadata": {},
     "output_type": "execute_result"
    }
   ],
   "source": [
    "reward_prob = 0.8\n",
    "blocks_right = np.sum(trial_df['Right Reward Prob']==reward_prob)/trial_df.shape[0] # check balance of blocks on each side\n",
    "print('right block proportion = %s' % blocks_right) # for 50 reward block structure I guess this isn't really necessary\n",
    "\n",
    "blocks = list(np.diff(np.concatenate((range(1),np.where(np.diff(trial_df['Right Reward Prob']) != 0)[0]))))\n",
    "blocks.append(int(record[record['Session ID']==session_name]['No. Trials'].values)\n",
    "             -np.where(np.diff(trial_df['Right Reward Prob']) != 0)[0][-1]) # length of the last block at end\n",
    "blocks"
   ]
  },
  {
   "cell_type": "markdown",
   "metadata": {},
   "source": [
    "### Add column for estimated by HMM using entire session as memory"
   ]
  },
  {
   "cell_type": "code",
   "execution_count": 8,
   "metadata": {
    "collapsed": true
   },
   "outputs": [],
   "source": [
    "beliefs = hob.predictBeliefBySession(record_path, session_name, mouse_id) # generate estimate of belief for each trial\n",
    "\n",
    "columns.append('Belief') # add column named belief to data frame\n",
    "trial_df['Belief'] = beliefs # insert estimated values of belief into this new column\n",
    "columns.append('Block ID')\n",
    "\n",
    "block_id = np.asarray([x+1 for x in range(int(record[record['Session ID']==session_name]['No. Blocks'].values[0])+1)\n",
    "            for y in range(blocks[x])])\n",
    "trial_df['Block ID'] = block_id"
   ]
  },
  {
   "cell_type": "code",
   "execution_count": 9,
   "metadata": {},
   "outputs": [
    {
     "data": {
      "text/html": [
       "<div>\n",
       "<style>\n",
       "    .dataframe thead tr:only-child th {\n",
       "        text-align: right;\n",
       "    }\n",
       "\n",
       "    .dataframe thead th {\n",
       "        text-align: left;\n",
       "    }\n",
       "\n",
       "    .dataframe tbody tr th {\n",
       "        vertical-align: top;\n",
       "    }\n",
       "</style>\n",
       "<table border=\"1\" class=\"dataframe\">\n",
       "  <thead>\n",
       "    <tr style=\"text-align: right;\">\n",
       "      <th></th>\n",
       "      <th>Elapsed Time (s)</th>\n",
       "      <th>Since last trial (s)</th>\n",
       "      <th>Trial Duration (s)</th>\n",
       "      <th>Port Poked</th>\n",
       "      <th>Right Reward Prob</th>\n",
       "      <th>Left Reward Prob</th>\n",
       "      <th>Reward Given</th>\n",
       "      <th>center_frame</th>\n",
       "      <th>decision_frame</th>\n",
       "      <th>Belief</th>\n",
       "      <th>Block ID</th>\n",
       "    </tr>\n",
       "  </thead>\n",
       "  <tbody>\n",
       "    <tr>\n",
       "      <th>0</th>\n",
       "      <td>51.422</td>\n",
       "      <td>14.676</td>\n",
       "      <td>0.710</td>\n",
       "      <td>2</td>\n",
       "      <td>0.2</td>\n",
       "      <td>0.8</td>\n",
       "      <td>1</td>\n",
       "      <td>1349</td>\n",
       "      <td>1364</td>\n",
       "      <td>0.500000</td>\n",
       "      <td>1</td>\n",
       "    </tr>\n",
       "    <tr>\n",
       "      <th>1</th>\n",
       "      <td>54.191</td>\n",
       "      <td>1.736</td>\n",
       "      <td>1.033</td>\n",
       "      <td>1</td>\n",
       "      <td>0.2</td>\n",
       "      <td>0.8</td>\n",
       "      <td>0</td>\n",
       "      <td>1398</td>\n",
       "      <td>1419</td>\n",
       "      <td>0.113333</td>\n",
       "      <td>1</td>\n",
       "    </tr>\n",
       "    <tr>\n",
       "      <th>2</th>\n",
       "      <td>60.597</td>\n",
       "      <td>2.043</td>\n",
       "      <td>0.602</td>\n",
       "      <td>2</td>\n",
       "      <td>0.2</td>\n",
       "      <td>0.8</td>\n",
       "      <td>1</td>\n",
       "      <td>1535</td>\n",
       "      <td>1547</td>\n",
       "      <td>0.030203</td>\n",
       "      <td>1</td>\n",
       "    </tr>\n",
       "    <tr>\n",
       "      <th>3</th>\n",
       "      <td>64.787</td>\n",
       "      <td>3.770</td>\n",
       "      <td>0.420</td>\n",
       "      <td>2</td>\n",
       "      <td>0.2</td>\n",
       "      <td>0.8</td>\n",
       "      <td>1</td>\n",
       "      <td>1622</td>\n",
       "      <td>1631</td>\n",
       "      <td>0.020000</td>\n",
       "      <td>1</td>\n",
       "    </tr>\n",
       "    <tr>\n",
       "      <th>4</th>\n",
       "      <td>67.547</td>\n",
       "      <td>2.290</td>\n",
       "      <td>0.470</td>\n",
       "      <td>2</td>\n",
       "      <td>0.2</td>\n",
       "      <td>0.8</td>\n",
       "      <td>1</td>\n",
       "      <td>1677</td>\n",
       "      <td>1686</td>\n",
       "      <td>0.018854</td>\n",
       "      <td>1</td>\n",
       "    </tr>\n",
       "  </tbody>\n",
       "</table>\n",
       "</div>"
      ],
      "text/plain": [
       "   Elapsed Time (s)  Since last trial (s)  Trial Duration (s)  Port Poked  \\\n",
       "0            51.422                14.676               0.710           2   \n",
       "1            54.191                 1.736               1.033           1   \n",
       "2            60.597                 2.043               0.602           2   \n",
       "3            64.787                 3.770               0.420           2   \n",
       "4            67.547                 2.290               0.470           2   \n",
       "\n",
       "   Right Reward Prob  Left Reward Prob  Reward Given  center_frame  \\\n",
       "0                0.2               0.8             1          1349   \n",
       "1                0.2               0.8             0          1398   \n",
       "2                0.2               0.8             1          1535   \n",
       "3                0.2               0.8             1          1622   \n",
       "4                0.2               0.8             1          1677   \n",
       "\n",
       "   decision_frame    Belief  Block ID  \n",
       "0            1364  0.500000         1  \n",
       "1            1419  0.113333         1  \n",
       "2            1547  0.030203         1  \n",
       "3            1631  0.020000         1  \n",
       "4            1686  0.018854         1  "
      ]
     },
     "execution_count": 9,
     "metadata": {},
     "output_type": "execute_result"
    }
   ],
   "source": [
    "trial_df.head(5)"
   ]
  },
  {
   "cell_type": "markdown",
   "metadata": {},
   "source": [
    "# convert to feature matrix\n",
    "### Add column for beliefs using past (n) trials as memory (n <= 10)"
   ]
  },
  {
   "cell_type": "code",
   "execution_count": 10,
   "metadata": {
    "collapsed": true
   },
   "outputs": [],
   "source": [
    "feature_matrix = bp.create_feature_matrix(trial_df,10,mouse_id,session_name,feature_names='Default',imaging=True)\n",
    "\n",
    "beliefs_feat_mat = hob.predictBeliefFeatureMat(feature_matrix, 10) # generate estimates of belief based on feature matrix format\n",
    "\n",
    "feature_matrix['Belief'] = beliefs_feat_mat # insert estimated values into new column of original feature matrix"
   ]
  },
  {
   "cell_type": "code",
   "execution_count": 11,
   "metadata": {},
   "outputs": [
    {
     "data": {
      "text/html": [
       "<div>\n",
       "<style>\n",
       "    .dataframe thead tr:only-child th {\n",
       "        text-align: right;\n",
       "    }\n",
       "\n",
       "    .dataframe thead th {\n",
       "        text-align: left;\n",
       "    }\n",
       "\n",
       "    .dataframe tbody tr th {\n",
       "        vertical-align: top;\n",
       "    }\n",
       "</style>\n",
       "<table border=\"1\" class=\"dataframe\">\n",
       "  <thead>\n",
       "    <tr style=\"text-align: right;\">\n",
       "      <th></th>\n",
       "      <th>Port Streak</th>\n",
       "      <th>Decision</th>\n",
       "      <th>Switch</th>\n",
       "      <th>Reward</th>\n",
       "      <th>Belief</th>\n",
       "    </tr>\n",
       "  </thead>\n",
       "  <tbody>\n",
       "    <tr>\n",
       "      <th>0</th>\n",
       "      <td>8.0</td>\n",
       "      <td>1.0</td>\n",
       "      <td>0.0</td>\n",
       "      <td>1.0</td>\n",
       "      <td>0.036447</td>\n",
       "    </tr>\n",
       "    <tr>\n",
       "      <th>1</th>\n",
       "      <td>9.0</td>\n",
       "      <td>1.0</td>\n",
       "      <td>0.0</td>\n",
       "      <td>1.0</td>\n",
       "      <td>0.020712</td>\n",
       "    </tr>\n",
       "    <tr>\n",
       "      <th>2</th>\n",
       "      <td>10.0</td>\n",
       "      <td>1.0</td>\n",
       "      <td>0.0</td>\n",
       "      <td>1.0</td>\n",
       "      <td>0.018933</td>\n",
       "    </tr>\n",
       "    <tr>\n",
       "      <th>3</th>\n",
       "      <td>11.0</td>\n",
       "      <td>1.0</td>\n",
       "      <td>0.0</td>\n",
       "      <td>1.0</td>\n",
       "      <td>0.018735</td>\n",
       "    </tr>\n",
       "    <tr>\n",
       "      <th>4</th>\n",
       "      <td>12.0</td>\n",
       "      <td>1.0</td>\n",
       "      <td>0.0</td>\n",
       "      <td>0.0</td>\n",
       "      <td>0.018713</td>\n",
       "    </tr>\n",
       "  </tbody>\n",
       "</table>\n",
       "</div>"
      ],
      "text/plain": [
       "   Port Streak  Decision  Switch  Reward    Belief\n",
       "0          8.0       1.0     0.0     1.0  0.036447\n",
       "1          9.0       1.0     0.0     1.0  0.020712\n",
       "2         10.0       1.0     0.0     1.0  0.018933\n",
       "3         11.0       1.0     0.0     1.0  0.018735\n",
       "4         12.0       1.0     0.0     0.0  0.018713"
      ]
     },
     "execution_count": 11,
     "metadata": {},
     "output_type": "execute_result"
    }
   ],
   "source": [
    "feature_matrix[['Port Streak','Decision','Switch', 'Reward', 'Belief']].head(5) # look at only a few columns"
   ]
  },
  {
   "cell_type": "code",
   "execution_count": 12,
   "metadata": {},
   "outputs": [
    {
     "data": {
      "text/html": [
       "<div>\n",
       "<style>\n",
       "    .dataframe thead tr:only-child th {\n",
       "        text-align: right;\n",
       "    }\n",
       "\n",
       "    .dataframe thead th {\n",
       "        text-align: left;\n",
       "    }\n",
       "\n",
       "    .dataframe tbody tr th {\n",
       "        vertical-align: top;\n",
       "    }\n",
       "</style>\n",
       "<table border=\"1\" class=\"dataframe\">\n",
       "  <thead>\n",
       "    <tr style=\"text-align: right;\">\n",
       "      <th></th>\n",
       "      <th>Mouse ID</th>\n",
       "      <th>Session ID</th>\n",
       "      <th>Trial</th>\n",
       "      <th>Block Trial</th>\n",
       "      <th>Block Reward</th>\n",
       "      <th>Port Streak</th>\n",
       "      <th>Reward Streak</th>\n",
       "      <th>10_Port</th>\n",
       "      <th>10_Reward</th>\n",
       "      <th>10_ITI</th>\n",
       "      <th>...</th>\n",
       "      <th>1_trialDuration</th>\n",
       "      <th>0_ITI</th>\n",
       "      <th>0_trialDuration</th>\n",
       "      <th>Decision</th>\n",
       "      <th>Switch</th>\n",
       "      <th>Higher p port</th>\n",
       "      <th>Reward</th>\n",
       "      <th>center_frame</th>\n",
       "      <th>decision_frame</th>\n",
       "      <th>Belief</th>\n",
       "    </tr>\n",
       "  </thead>\n",
       "  <tbody>\n",
       "    <tr>\n",
       "      <th>0</th>\n",
       "      <td>k13</td>\n",
       "      <td>03102017_K13</td>\n",
       "      <td>11.0</td>\n",
       "      <td>11.0</td>\n",
       "      <td>8.0</td>\n",
       "      <td>8.0</td>\n",
       "      <td>1.0</td>\n",
       "      <td>1.0</td>\n",
       "      <td>1.0</td>\n",
       "      <td>14.676</td>\n",
       "      <td>...</td>\n",
       "      <td>0.363</td>\n",
       "      <td>3.567</td>\n",
       "      <td>0.502</td>\n",
       "      <td>1.0</td>\n",
       "      <td>0.0</td>\n",
       "      <td>1.0</td>\n",
       "      <td>1.0</td>\n",
       "      <td>2069.0</td>\n",
       "      <td>2079.0</td>\n",
       "      <td>0.036447</td>\n",
       "    </tr>\n",
       "    <tr>\n",
       "      <th>1</th>\n",
       "      <td>k13</td>\n",
       "      <td>03102017_K13</td>\n",
       "      <td>12.0</td>\n",
       "      <td>12.0</td>\n",
       "      <td>9.0</td>\n",
       "      <td>9.0</td>\n",
       "      <td>2.0</td>\n",
       "      <td>0.0</td>\n",
       "      <td>0.0</td>\n",
       "      <td>1.736</td>\n",
       "      <td>...</td>\n",
       "      <td>0.502</td>\n",
       "      <td>2.603</td>\n",
       "      <td>0.412</td>\n",
       "      <td>1.0</td>\n",
       "      <td>0.0</td>\n",
       "      <td>1.0</td>\n",
       "      <td>1.0</td>\n",
       "      <td>2215.0</td>\n",
       "      <td>2222.0</td>\n",
       "      <td>0.020712</td>\n",
       "    </tr>\n",
       "    <tr>\n",
       "      <th>2</th>\n",
       "      <td>k13</td>\n",
       "      <td>03102017_K13</td>\n",
       "      <td>13.0</td>\n",
       "      <td>13.0</td>\n",
       "      <td>10.0</td>\n",
       "      <td>10.0</td>\n",
       "      <td>3.0</td>\n",
       "      <td>1.0</td>\n",
       "      <td>1.0</td>\n",
       "      <td>2.043</td>\n",
       "      <td>...</td>\n",
       "      <td>0.412</td>\n",
       "      <td>1.176</td>\n",
       "      <td>0.433</td>\n",
       "      <td>1.0</td>\n",
       "      <td>0.0</td>\n",
       "      <td>1.0</td>\n",
       "      <td>1.0</td>\n",
       "      <td>2297.0</td>\n",
       "      <td>2306.0</td>\n",
       "      <td>0.018933</td>\n",
       "    </tr>\n",
       "    <tr>\n",
       "      <th>3</th>\n",
       "      <td>k13</td>\n",
       "      <td>03102017_K13</td>\n",
       "      <td>14.0</td>\n",
       "      <td>14.0</td>\n",
       "      <td>11.0</td>\n",
       "      <td>11.0</td>\n",
       "      <td>4.0</td>\n",
       "      <td>1.0</td>\n",
       "      <td>1.0</td>\n",
       "      <td>3.770</td>\n",
       "      <td>...</td>\n",
       "      <td>0.433</td>\n",
       "      <td>2.614</td>\n",
       "      <td>0.376</td>\n",
       "      <td>1.0</td>\n",
       "      <td>0.0</td>\n",
       "      <td>1.0</td>\n",
       "      <td>1.0</td>\n",
       "      <td>2358.0</td>\n",
       "      <td>2365.0</td>\n",
       "      <td>0.018735</td>\n",
       "    </tr>\n",
       "    <tr>\n",
       "      <th>4</th>\n",
       "      <td>k13</td>\n",
       "      <td>03102017_K13</td>\n",
       "      <td>15.0</td>\n",
       "      <td>15.0</td>\n",
       "      <td>12.0</td>\n",
       "      <td>12.0</td>\n",
       "      <td>5.0</td>\n",
       "      <td>1.0</td>\n",
       "      <td>1.0</td>\n",
       "      <td>2.290</td>\n",
       "      <td>...</td>\n",
       "      <td>0.376</td>\n",
       "      <td>2.141</td>\n",
       "      <td>0.432</td>\n",
       "      <td>1.0</td>\n",
       "      <td>0.0</td>\n",
       "      <td>1.0</td>\n",
       "      <td>0.0</td>\n",
       "      <td>2408.0</td>\n",
       "      <td>2417.0</td>\n",
       "      <td>0.018713</td>\n",
       "    </tr>\n",
       "    <tr>\n",
       "      <th>5</th>\n",
       "      <td>k13</td>\n",
       "      <td>03102017_K13</td>\n",
       "      <td>16.0</td>\n",
       "      <td>16.0</td>\n",
       "      <td>12.0</td>\n",
       "      <td>13.0</td>\n",
       "      <td>-1.0</td>\n",
       "      <td>1.0</td>\n",
       "      <td>1.0</td>\n",
       "      <td>2.600</td>\n",
       "      <td>...</td>\n",
       "      <td>0.432</td>\n",
       "      <td>3.689</td>\n",
       "      <td>0.478</td>\n",
       "      <td>1.0</td>\n",
       "      <td>0.0</td>\n",
       "      <td>1.0</td>\n",
       "      <td>1.0</td>\n",
       "      <td>2519.0</td>\n",
       "      <td>2528.0</td>\n",
       "      <td>0.158272</td>\n",
       "    </tr>\n",
       "    <tr>\n",
       "      <th>6</th>\n",
       "      <td>k13</td>\n",
       "      <td>03102017_K13</td>\n",
       "      <td>17.0</td>\n",
       "      <td>17.0</td>\n",
       "      <td>13.0</td>\n",
       "      <td>14.0</td>\n",
       "      <td>1.0</td>\n",
       "      <td>1.0</td>\n",
       "      <td>1.0</td>\n",
       "      <td>2.000</td>\n",
       "      <td>...</td>\n",
       "      <td>0.478</td>\n",
       "      <td>2.541</td>\n",
       "      <td>0.414</td>\n",
       "      <td>1.0</td>\n",
       "      <td>0.0</td>\n",
       "      <td>1.0</td>\n",
       "      <td>1.0</td>\n",
       "      <td>2579.0</td>\n",
       "      <td>2588.0</td>\n",
       "      <td>0.036451</td>\n",
       "    </tr>\n",
       "    <tr>\n",
       "      <th>7</th>\n",
       "      <td>k13</td>\n",
       "      <td>03102017_K13</td>\n",
       "      <td>18.0</td>\n",
       "      <td>18.0</td>\n",
       "      <td>14.0</td>\n",
       "      <td>15.0</td>\n",
       "      <td>2.0</td>\n",
       "      <td>1.0</td>\n",
       "      <td>1.0</td>\n",
       "      <td>2.129</td>\n",
       "      <td>...</td>\n",
       "      <td>0.414</td>\n",
       "      <td>2.925</td>\n",
       "      <td>0.552</td>\n",
       "      <td>1.0</td>\n",
       "      <td>0.0</td>\n",
       "      <td>1.0</td>\n",
       "      <td>1.0</td>\n",
       "      <td>2646.0</td>\n",
       "      <td>2657.0</td>\n",
       "      <td>0.020714</td>\n",
       "    </tr>\n",
       "    <tr>\n",
       "      <th>8</th>\n",
       "      <td>k13</td>\n",
       "      <td>03102017_K13</td>\n",
       "      <td>19.0</td>\n",
       "      <td>19.0</td>\n",
       "      <td>15.0</td>\n",
       "      <td>16.0</td>\n",
       "      <td>3.0</td>\n",
       "      <td>1.0</td>\n",
       "      <td>0.0</td>\n",
       "      <td>2.089</td>\n",
       "      <td>...</td>\n",
       "      <td>0.552</td>\n",
       "      <td>2.410</td>\n",
       "      <td>0.490</td>\n",
       "      <td>1.0</td>\n",
       "      <td>0.0</td>\n",
       "      <td>1.0</td>\n",
       "      <td>1.0</td>\n",
       "      <td>2705.0</td>\n",
       "      <td>2715.0</td>\n",
       "      <td>0.018935</td>\n",
       "    </tr>\n",
       "    <tr>\n",
       "      <th>9</th>\n",
       "      <td>k13</td>\n",
       "      <td>03102017_K13</td>\n",
       "      <td>20.0</td>\n",
       "      <td>20.0</td>\n",
       "      <td>16.0</td>\n",
       "      <td>17.0</td>\n",
       "      <td>4.0</td>\n",
       "      <td>1.0</td>\n",
       "      <td>1.0</td>\n",
       "      <td>1.115</td>\n",
       "      <td>...</td>\n",
       "      <td>0.490</td>\n",
       "      <td>1.498</td>\n",
       "      <td>0.430</td>\n",
       "      <td>1.0</td>\n",
       "      <td>0.0</td>\n",
       "      <td>1.0</td>\n",
       "      <td>1.0</td>\n",
       "      <td>2841.0</td>\n",
       "      <td>2849.0</td>\n",
       "      <td>0.018735</td>\n",
       "    </tr>\n",
       "  </tbody>\n",
       "</table>\n",
       "<p>10 rows × 56 columns</p>\n",
       "</div>"
      ],
      "text/plain": [
       "  Mouse ID    Session ID  Trial  Block Trial  Block Reward  Port Streak  \\\n",
       "0      k13  03102017_K13   11.0         11.0           8.0          8.0   \n",
       "1      k13  03102017_K13   12.0         12.0           9.0          9.0   \n",
       "2      k13  03102017_K13   13.0         13.0          10.0         10.0   \n",
       "3      k13  03102017_K13   14.0         14.0          11.0         11.0   \n",
       "4      k13  03102017_K13   15.0         15.0          12.0         12.0   \n",
       "5      k13  03102017_K13   16.0         16.0          12.0         13.0   \n",
       "6      k13  03102017_K13   17.0         17.0          13.0         14.0   \n",
       "7      k13  03102017_K13   18.0         18.0          14.0         15.0   \n",
       "8      k13  03102017_K13   19.0         19.0          15.0         16.0   \n",
       "9      k13  03102017_K13   20.0         20.0          16.0         17.0   \n",
       "\n",
       "   Reward Streak  10_Port  10_Reward  10_ITI    ...     1_trialDuration  \\\n",
       "0            1.0      1.0        1.0  14.676    ...               0.363   \n",
       "1            2.0      0.0        0.0   1.736    ...               0.502   \n",
       "2            3.0      1.0        1.0   2.043    ...               0.412   \n",
       "3            4.0      1.0        1.0   3.770    ...               0.433   \n",
       "4            5.0      1.0        1.0   2.290    ...               0.376   \n",
       "5           -1.0      1.0        1.0   2.600    ...               0.432   \n",
       "6            1.0      1.0        1.0   2.000    ...               0.478   \n",
       "7            2.0      1.0        1.0   2.129    ...               0.414   \n",
       "8            3.0      1.0        0.0   2.089    ...               0.552   \n",
       "9            4.0      1.0        1.0   1.115    ...               0.490   \n",
       "\n",
       "   0_ITI  0_trialDuration  Decision  Switch  Higher p port  Reward  \\\n",
       "0  3.567            0.502       1.0     0.0            1.0     1.0   \n",
       "1  2.603            0.412       1.0     0.0            1.0     1.0   \n",
       "2  1.176            0.433       1.0     0.0            1.0     1.0   \n",
       "3  2.614            0.376       1.0     0.0            1.0     1.0   \n",
       "4  2.141            0.432       1.0     0.0            1.0     0.0   \n",
       "5  3.689            0.478       1.0     0.0            1.0     1.0   \n",
       "6  2.541            0.414       1.0     0.0            1.0     1.0   \n",
       "7  2.925            0.552       1.0     0.0            1.0     1.0   \n",
       "8  2.410            0.490       1.0     0.0            1.0     1.0   \n",
       "9  1.498            0.430       1.0     0.0            1.0     1.0   \n",
       "\n",
       "   center_frame  decision_frame    Belief  \n",
       "0        2069.0          2079.0  0.036447  \n",
       "1        2215.0          2222.0  0.020712  \n",
       "2        2297.0          2306.0  0.018933  \n",
       "3        2358.0          2365.0  0.018735  \n",
       "4        2408.0          2417.0  0.018713  \n",
       "5        2519.0          2528.0  0.158272  \n",
       "6        2579.0          2588.0  0.036451  \n",
       "7        2646.0          2657.0  0.020714  \n",
       "8        2705.0          2715.0  0.018935  \n",
       "9        2841.0          2849.0  0.018735  \n",
       "\n",
       "[10 rows x 56 columns]"
      ]
     },
     "execution_count": 12,
     "metadata": {},
     "output_type": "execute_result"
    }
   ],
   "source": [
    "feature_matrix.head(10)"
   ]
  },
  {
   "cell_type": "markdown",
   "metadata": {},
   "source": [
    "plt.plot(trial_df['Belief']) # plot the value of belief in blue across all trials (using prediction with full history)\n",
    "plt.plot(trial_df['Right Reward Prob'])\n",
    "\n",
    "#plt.plot(feature_matrix[feature_matrix['Reward']==1]['Trial'], feature_matrix[feature_matrix['Reward']==1]['Belief'], alpha=0.5) # using only 10 deep for history\n",
    "#plt.scatter(feature_matrix[feature_matrix['Reward']==1]['Trial'],temp[:,1,0], alpha=0.3)\n",
    "\n",
    "'''\n",
    "Greedy model?\n",
    "'''\n",
    "\n",
    "#compare predicted number of rewards with total number of rewards, and then break down for each block\n",
    "count=0\n",
    "for i in range(trial_df.shape[0]):\n",
    "    if (trial_df['Belief'][i] > 0.5) & (trial_df['Right Reward Prob'][i] >= 0.7):# if belief is toward the right port and right port has higher prob\n",
    "        count+=0.9\n",
    "    elif (trial_df['Belief'][i] < 0.5) & (trial_df['Left Reward Prob'][i] >=0.7): # same for left port\n",
    "        count+=0.9\n",
    "print('Greedy predicted reward count =', count)\n",
    "print('proportion actual =', record[record['Session ID']==session_name]['No. Rewards'].values[0]/count)\n",
    "#plt.scatter(temp[:,0,0], feature_matrix[feature_matrix['Reward']==1]['Belief'])\n",
    "#temp = aligned_start.sum(axis=1)\n",
    "\n",
    "'''\n",
    "Thompson sampling?\n",
    "'''\n",
    "\n",
    "#compare predicted number of rewards with total number of rewards, and then break down for each block\n",
    "count=0\n",
    "for i in range(trial_df.shape[0]):\n",
    "    if (trial_df['Belief'][i] > 0.5) & (trial_df['Right Reward Prob'][i] >= 0.7):# if belief is toward the right port and right port has higher prob\n",
    "        if np.random.rand(1) >0.1:\n",
    "            count+=0.9\n",
    "    elif (trial_df['Belief'][i] < 0.5) & (trial_df['Left Reward Prob'][i] >=0.7): # same for left port\n",
    "        if np.random.rand(1) > 0.1:\n",
    "            count+=0.9\n",
    "print('Thompson predicted reward count =', count)\n",
    "print('proportional actual =', record[record['Session ID']==session_name]['No. Rewards'].values[0]/count)\n",
    "print('max rewards = ', record[record['Session ID']==session_name]['No. Trials'].values[0]*0.9)\n",
    "#plt.scatter(temp[:,0,0], feature_matrix[feature_matrix['Reward']==1]['Belief'])\n",
    "#temp = aligned_start.sum(axis=1)\n"
   ]
  },
  {
   "cell_type": "markdown",
   "metadata": {},
   "source": [
    "### Set the parameters to input into extract_frames function\n",
    "    Decision: 0=Right, 1=Left\n",
    "    Reward: 0=unrewarded, 1=rewarded\n",
    "    Switch: 0=last trial at same port, 1=last trial at different port-->switched\n",
    "    Belief: 0-1 value where 0 represents right port and 1 represents left port"
   ]
  },
  {
   "cell_type": "code",
   "execution_count": 13,
   "metadata": {
    "collapsed": true
   },
   "outputs": [],
   "source": [
    "cond1_name = 'Decision'; cond1_id=[0,1]\n",
    "cond1_ops = '='\n",
    "\n",
    "cond2_name = 'Decision'; cond2_id=[0,1]\n",
    "\n",
    "cond3_name = 'Reward'; cond3_id=[0,1]\n",
    "\n",
    "conditions = [cond1_name, cond2_name, cond3_name]\n",
    "n_variables = 1 # value between 1 and 3 to run the corresponding number of conditions through the rest of the notebook\n",
    "extension = 30 # number of frames included before center poke and after decision poke to set size of window\n",
    "combo_id = list(itertools.product([0, 1], repeat=n_variables)) # list of all combinations of binary conditions\n",
    "n_combos = len(combo_id) # total number of combinations of conditions\n",
    "\n",
    "if 'cond1_ops' in vars():\n",
    "    cond1_ops_b='=' # make sure the alternative operation fits with its partner \n",
    "    if cond1_ops != '=':\n",
    "        if cond1_ops == '>':\n",
    "            cond1_ops_b = '<='\n",
    "            print(cond1_ops_b)\n",
    "        elif cond1_ops == '>=':\n",
    "            cond1_ops_b = '<'\n",
    "            print(cond1_ops_b)"
   ]
  },
  {
   "cell_type": "markdown",
   "metadata": {},
   "source": [
    "### Extract the frames for the specified conditions and create arrays containing frames for beginning and end of window of interest\n",
    "\n",
    "    Set the value of 'extension' to the # of frames added before the center poke and after the decision poke\n",
    "    fr_1x2x3x = center poke, decision poke frame #s for all trials with the corresponding conditions.\n",
    "\n",
    "    At the moment this is not set up in the most efficient way...the extract_frames function operates by calling all 3 variables (i.e. Switch, Reward) across both conditions (a=0, b=1) to generate the maximum number of combinations (8 for 3 variables). If the number of variables is less than 3, it will later use the 'groupings_x' variables to concatenate these arrays into the appropriate final arrays (for example, to go from 3 variables to 2, all beginning with 1a2a get combined)"
   ]
  },
  {
   "cell_type": "code",
   "execution_count": 14,
   "metadata": {
    "collapsed": true
   },
   "outputs": [],
   "source": [
    "# if this needs to work with Belief values, then set combo_id[i][#] as index value into cond_id"
   ]
  },
  {
   "cell_type": "code",
   "execution_count": 15,
   "metadata": {
    "collapsed": true
   },
   "outputs": [],
   "source": [
    "poke_frames = {} # initialize an empty dictionary to store center and decision poke frames for each combination of conditions\n",
    "for i in range(0,n_combos):\n",
    "    if n_variables==3: # based on number of variables specified\n",
    "        iCombo_key= \"f%s%s%s\" % (combo_id[i][0], combo_id[i][1], combo_id[i][2]) # set key name based on comboID\n",
    "        iCombo_value = hf.extract_frames(feature_matrix, cond1_name, combo_id[i][0], cond2_name, \n",
    "                                         combo_id[i][1], cond3_name, combo_id[i][2], cond1_ops=cond1_ops)\n",
    "        temp_dict = {iCombo_key:iCombo_value} # create new key-value pair with comboID and corresponding frames\n",
    "        poke_frames.update(temp_dict) # add new values to dictionary of center and decision poke frames\n",
    "    if n_variables==2:\n",
    "        iCombo_key= \"f%s%s\" % (combo_id[i][0], combo_id[i][1])\n",
    "        iCombo_value = hf.extract_frames(feature_matrix, cond1_name, combo_id[i][0], cond2_name, \n",
    "                                         combo_id[i][1], cond1_ops=cond1_ops)\n",
    "        temp_dict = {iCombo_key:iCombo_value}\n",
    "        poke_frames.update(temp_dict)\n",
    "    if n_variables==1:\n",
    "        iCombo_key= \"f%s\" %(combo_id[i][0])\n",
    "        iCombo_value = hf.extract_frames(feature_matrix, cond1_name, combo_id[i][0], cond1_ops=cond1_ops)\n",
    "        temp_dict = {iCombo_key:iCombo_value}\n",
    "        poke_frames.update(temp_dict)\n",
    "    \n",
    "poke_frames_keys = list(poke_frames.keys())"
   ]
  },
  {
   "cell_type": "markdown",
   "metadata": {},
   "source": [
    "### Create a dictionary referencing every array of start/stop frames\n",
    "    Start-stop_frames = frame starting however long the extension value was before the center poke frame, and frame that long after the decision poke\n",
    "    Dictionary is designed to construct each array based on the number of variables (conditions) specified in the beginning...this is where the groupings variables are used to condense arrays for fewer conditions."
   ]
  },
  {
   "cell_type": "code",
   "execution_count": 16,
   "metadata": {
    "collapsed": true
   },
   "outputs": [],
   "source": [
    "for i in poke_frames: # create full window based on number of frames in 'extension' variable\n",
    "    poke_frames[i][:,0] = poke_frames[i][:,0] - extension\n",
    "    poke_frames[i][:,1] = poke_frames[i][:,1] + extension"
   ]
  },
  {
   "cell_type": "markdown",
   "metadata": {},
   "source": [
    "### Set up some other parameters to be used in the rest of the script\n",
    "    detectEvents() returns binary matrix of 0s and 1s representing frames where events occurred. Replace raw trace file with this processed file and apply a Gaussian filter over events.\n",
    "    \n",
    "    --nNeurons = number of neurons output by CNMF-e\n",
    "        Redefined as number of neurons after some initial processing:\n",
    "\n",
    "    Working on a function to combine the above with previous execution of this script on the raw trace file using a flag for 'events'. Once that's complete, will need to add back in NaN cleansing (this is already incorporated into the detectEvents() function). The following arrays will then be used.\n",
    "    \n",
    "    --nan_neurons = any neurons containing NaNs in their calcium traces\n",
    "    --good_neurons = neurons not containing NaNs -- used to redefine nNeurons"
   ]
  },
  {
   "cell_type": "code",
   "execution_count": null,
   "metadata": {},
   "outputs": [],
   "source": []
  },
  {
   "cell_type": "code",
   "execution_count": 17,
   "metadata": {},
   "outputs": [],
   "source": [
    "events = cc.detectEvents(neuron.C_raw)\n",
    "\n",
    "neuron.C_events = np.copy(events)\n",
    "nNeurons = neuron.C_raw.shape[0]\n",
    "nFrames = neuron.C_raw.shape[1]\n",
    "\n",
    "#Create Gaussian filter and apply to raw trace\n",
    "sigma = 3;\n",
    "sz = 10; # total width \n",
    "\n",
    "x = np.linspace(-sz / 2, sz / 2, sz);\n",
    "gaussFilter = np.exp(-x**2 / (2*sigma**2));\n",
    "gaussFilter = gaussFilter / np.sum(gaussFilter);\n",
    "\n",
    "smoothed = np.zeros((nNeurons, neuron.C_events.shape[1]+sz-1));\n",
    "\n",
    "for i in range(0, nNeurons):\n",
    "    smoothed[i,:] = np.convolve(neuron.C_events[i,:], gaussFilter);\n",
    "    \n",
    "neuron.C_events = smoothed[:,0:nFrames]"
   ]
  },
  {
   "cell_type": "code",
   "execution_count": 18,
   "metadata": {},
   "outputs": [
    {
     "data": {
      "image/png": "[encoded data removed]",
      "text/plain": [
       "<matplotlib.figure.Figure at 0x115193400>"
      ]
     },
     "metadata": {},
     "output_type": "display_data"
    }
   ],
   "source": [
    "for iNeuron in range(nNeurons):\n",
    "    plt.plot(neuron.C_raw[iNeuron,:])"
   ]
  },
  {
   "cell_type": "code",
   "execution_count": 19,
   "metadata": {},
   "outputs": [
    {
     "data": {
      "image/png": "[encoded data removed]",
      "text/plain": [
       "<matplotlib.figure.Figure at 0x1209af208>"
      ]
     },
     "metadata": {},
     "output_type": "display_data"
    }
   ],
   "source": [
    "for iNeuron in range(nNeurons):\n",
    "    plt.plot(neuron.C_raw[iNeuron,0:1000])"
   ]
  },
  {
   "cell_type": "code",
   "execution_count": 20,
   "metadata": {},
   "outputs": [
    {
     "data": {
      "image/png": "[encoded data removed]",
      "text/plain": [
       "<matplotlib.figure.Figure at 0x10ab5dda0>"
      ]
     },
     "metadata": {},
     "output_type": "display_data"
    }
   ],
   "source": [
    "# baseline subtraction\n",
    "for iNeuron in range(nNeurons):\n",
    "    neuron.C_raw[iNeuron,:] = neuron.C_raw[iNeuron,:] - np.median(neuron.C_raw[iNeuron,:])\n",
    "    \n",
    "for iNeuron in range(nNeurons):\n",
    "    plt.plot(neuron.C_raw[iNeuron,:])"
   ]
  },
  {
   "cell_type": "code",
   "execution_count": 21,
   "metadata": {
    "collapsed": true
   },
   "outputs": [],
   "source": [
    "neuron.C_events[np.where(neuron.C_events > 0)] = 1 # set value of events to 1 so it's binary (should probably change in detectEvents)"
   ]
  },
  {
   "cell_type": "code",
   "execution_count": 22,
   "metadata": {},
   "outputs": [
    {
     "data": {
      "text/plain": [
       "(42, 30177)"
      ]
     },
     "execution_count": 22,
     "metadata": {},
     "output_type": "execute_result"
    }
   ],
   "source": [
    "neuron.C_events.shape"
   ]
  },
  {
   "cell_type": "code",
   "execution_count": 23,
   "metadata": {},
   "outputs": [
    {
     "data": {
      "text/plain": [
       "[<matplotlib.lines.Line2D at 0x1151a44a8>]"
      ]
     },
     "execution_count": 23,
     "metadata": {},
     "output_type": "execute_result"
    },
    {
     "data": {
      "image/png": "[encoded data removed]",
      "text/plain": [
       "<matplotlib.figure.Figure at 0x120c344a8>"
      ]
     },
     "metadata": {},
     "output_type": "display_data"
    }
   ],
   "source": [
    "# This is just used to visualize the effect of the Gaussian filter on each event\n",
    "plt.plot(neuron.C_events[20,:])\n",
    "#plt.plot(neuron.C_raw[20,:])"
   ]
  },
  {
   "cell_type": "markdown",
   "metadata": {},
   "source": [
    "### Some normalization across entire session"
   ]
  },
  {
   "cell_type": "code",
   "execution_count": 24,
   "metadata": {},
   "outputs": [
    {
     "data": {
      "text/plain": [
       "<matplotlib.collections.PathCollection at 0x1209599e8>"
      ]
     },
     "execution_count": 24,
     "metadata": {},
     "output_type": "execute_result"
    },
    {
     "data": {
      "image/png": "[encoded data removed]",
      "text/plain": [
       "<matplotlib.figure.Figure at 0x1151a1da0>"
      ]
     },
     "metadata": {},
     "output_type": "display_data"
    }
   ],
   "source": [
    "plt.figure(figsize=(8,10))\n",
    "event_frames = np.where(neuron.C_events != 0) # dim1 is neuron ID, dim2 is event frames\n",
    "plt.scatter(event_frames[1], event_frames[0])"
   ]
  },
  {
   "cell_type": "code",
   "execution_count": 25,
   "metadata": {},
   "outputs": [
    {
     "data": {
      "image/png": "[encoded data removed]",
      "text/plain": [
       "<matplotlib.figure.Figure at 0x120968278>"
      ]
     },
     "metadata": {},
     "output_type": "display_data"
    }
   ],
   "source": [
    "count = 0\n",
    "plt.figure(figsize=(8,10))\n",
    "for i in range(0,nNeurons):\n",
    "    plt.plot(neuron.C_raw[i,:]+count)\n",
    "    count = count+125"
   ]
  },
  {
   "cell_type": "code",
   "execution_count": null,
   "metadata": {},
   "outputs": [],
   "source": [
    "count = 0\n",
    "plt.figure(figsize=(8,10))\n",
    "for i in range(0,5):\n",
    "    plt.plot(neuron.C_raw[i,:]+count)\n",
    "    count = count+125"
   ]
  },
  {
   "cell_type": "markdown",
   "metadata": {},
   "source": [
    "### Calculate the number of frames required to span the longest trial in all conditions, and use this for all trials\n",
    "    --nTrials = list of number of trials in each condition (length = n_combos)\n",
    "\n",
    "    --max_window = find window length (number of frames) required to capture center poke to decision poke for all trials (with extensions) and then just take maximum length trial across all conditions)"
   ]
  },
  {
   "cell_type": "code",
   "execution_count": null,
   "metadata": {
    "collapsed": true
   },
   "outputs": [],
   "source": [
    "nTrials = [poke_frames[poke_frames_keys[i]].shape[0] for i in range(n_combos)]\n",
    "max_window = np.zeros(n_combos) \n",
    "window_length= np.zeros((np.max(nTrials), n_combos))\n",
    "    \n",
    "for i in range(n_combos):\n",
    "    for iTrial in range(nTrials[i]):\n",
    "        window_length[iTrial, i] = int(((poke_frames[poke_frames_keys[i]][iTrial][1]-\n",
    "                                 poke_frames[poke_frames_keys[i]][iTrial][0])))\n",
    "    max_window[i] = np.max(window_length)\n",
    "    \n",
    "max_window = int(max_window.max())"
   ]
  },
  {
   "cell_type": "markdown",
   "metadata": {},
   "source": [
    "### Aligned to center poke\n",
    "    Pull out segments of calcium traces in designated window of frames. Calculate mean fluorescence for each neuron across all trials. \n",
    "    -- aligned_start = (number of trials x number frames x number of neurons x number of combinations)\n",
    "    -- mean_center_poke = mean fluorescence (or mean number of events) for each neuron across all trials aligned to center poke\n",
    "    \n",
    "    If using raw traces, will add back in normalization here.\n"
   ]
  },
  {
   "cell_type": "code",
   "execution_count": null,
   "metadata": {
    "collapsed": true
   },
   "outputs": [],
   "source": [
    "aligned_start = np.zeros((np.max(nTrials), max_window, nNeurons, n_combos))\n",
    "mean_center_poke = np.zeros((max_window, nNeurons, n_combos))\n",
    "sum_center_poke = np.zeros((max_window, nNeurons, n_combos))\n",
    "\n",
    "for i in range(n_combos):\n",
    "\n",
    "    # create array containing segment of raw trace for each neuron for each trial \n",
    "    # aligned to center poke\n",
    "    for iNeuron in range(nNeurons): # for each neuron\n",
    "        for iTrial in range(0,nTrials[i]): # and for each trial\n",
    "            try:\n",
    "                aligned_start[iTrial,:, iNeuron, i] = neuron.C_events[iNeuron,\n",
    "                    int(poke_frames[poke_frames_keys[i]][iTrial][0]):\n",
    "                    (int(poke_frames[poke_frames_keys[i]][iTrial][0])+max_window)]\n",
    "            except ValueError:\n",
    "                len_to_end = int(nFrames - poke_frames[poke_frames_keys[i]][iTrial][0])\n",
    "                aligned_start[iTrial,0:len_to_end, iNeuron, i] = neuron.C_events[iNeuron,\n",
    "                    int(poke_frames[poke_frames_keys[i]][iTrial][0]):\n",
    "                    (int(poke_frames[poke_frames_keys[i]][iTrial][0])+len_to_end)]\n",
    "            \n",
    "    # take mean of fluorescent traces across all trials for each neuron, then normalize\n",
    "    # for each neuron\n",
    "    mean_center_poke[:,:,i]= np.mean(aligned_start[0:nTrials[i],:,:,i], axis=0)\n",
    "    sum_center_poke[:,:,i] = np.sum(aligned_start[0:nTrials[i],:,:,i], axis=0)"
   ]
  },
  {
   "cell_type": "markdown",
   "metadata": {},
   "source": [
    "### Plot heatmap of average events per trial (intensity) for each neuron (y) over time (x)\n",
    "### Aligned to center poke"
   ]
  },
  {
   "cell_type": "code",
   "execution_count": null,
   "metadata": {},
   "outputs": [],
   "source": [
    "ydim = n_combos/2\n",
    "plt.figure(figsize=(8,ydim*4))\n",
    "for i in range(n_combos):\n",
    "\n",
    "    plt.subplot(ydim,2,i+1)  \n",
    "    plt.imshow(np.transpose(mean_center_poke[:,:,i]))#, plt.colorbar()\n",
    "    plt.axvline(x=extension, color='k', linestyle = '--', linewidth=.9)\n",
    "    plt.axis('tight')\n",
    "    plt.xlabel('Frame (center poke at %s)' % extension)\n",
    "    plt.ylabel('Neuron ID')\n",
    "    if n_variables == 3:\n",
    "        plt.title(\"%s = %s\\n %s = %s\\n%s = %s\\nNum trials = %.0f\" \n",
    "                  %(conditions[0], poke_frames_keys[i][1],\n",
    "                    conditions[1], poke_frames_keys[i][2], \n",
    "                    conditions[2], poke_frames_keys[i][3], nTrials[i])) \n",
    "    if n_variables == 2:\n",
    "        plt.title(\"%s = %s\\n %s = %s\\nNum trials = %.0f\" \n",
    "                  %(conditions[0], poke_frames_keys[i][1],\n",
    "                    conditions[1], poke_frames_keys[i][2], nTrials[i]))\n",
    "    if n_variables == 1:\n",
    "        plt.title(\"%s = %s\\nNum trials = %.0f\" \n",
    "                  %(conditions[0], poke_frames_keys[i][1], nTrials[i]))\n",
    "plt.tight_layout()"
   ]
  },
  {
   "cell_type": "code",
   "execution_count": null,
   "metadata": {},
   "outputs": [],
   "source": [
    "aligned_start_raw = np.zeros((np.max(nTrials), max_window, nNeurons, n_combos))\n",
    "median_center_poke_raw = np.zeros((max_window, nNeurons, n_combos))\n",
    "mean_center_poke_raw = np.zeros((max_window, nNeurons, n_combos))\n",
    "\n",
    "for i in range(n_combos):\n",
    "\n",
    "    # create array containing segment of raw trace for each neuron for each trial \n",
    "    # aligned to center poke\n",
    "    for iNeuron in range(nNeurons): # for each neuron\n",
    "        for iTrial in range(0,nTrials[i]): # and for each trial\n",
    "            try:\n",
    "                aligned_start_raw[iTrial,:, iNeuron, i] = neuron.C_raw[iNeuron,\n",
    "                    int(poke_frames[poke_frames_keys[i]][iTrial][0]):\n",
    "                    (int(poke_frames[poke_frames_keys[i]][iTrial][0])+max_window)]\n",
    "            except ValueError:\n",
    "                len_to_end = int(nFrames - poke_frames[poke_frames_keys[i]][iTrial][0])\n",
    "                aligned_start_raw[iTrial,0:len_to_end, iNeuron, i] = neuron.C_raw[iNeuron,\n",
    "                    int(poke_frames[poke_frames_keys[i]][iTrial][0]):\n",
    "                    (int(poke_frames[poke_frames_keys[i]][iTrial][0])+len_to_end)]\n",
    "            #plt.plot(aligned_start_raw[iTrial,:,iNeuron,i])\n",
    "            \n",
    "    # baseline subtraction\n",
    "    for iTrial in range(nTrials[i]):\n",
    "        for iNeuron in range(nNeurons):\n",
    "            aligned_start_raw[iTrial,:,iNeuron,i] = aligned_start_raw[iTrial,:,iNeuron,i] - np.median(aligned_start_raw[iTrial,:,iNeuron,i])\n",
    "    \n",
    "    # take mean of fluorescent traces across all trials for each neuron, then normalize\n",
    "    # for each neuron\n",
    "    median_center_poke_raw[:,:,i]= np.median(aligned_start_raw[0:nTrials[i],:,:,i], axis=0)\n",
    "    mean_center_poke_raw[:,:,i]= np.mean(aligned_start_raw[0:nTrials[i],:,:,i], axis=0)\n",
    "    \n",
    "ydim = n_combos/2\n",
    "plt.figure(figsize=(8,ydim*4))\n",
    "for i in range(n_combos):\n",
    "\n",
    "    plt.subplot(ydim,2,i+1)  \n",
    "    plt.imshow(np.transpose(mean_center_poke_raw[:,:,i])), plt.colorbar()\n",
    "    plt.axvline(x=extension, color='k', linestyle = '--', linewidth=.9)\n",
    "    plt.axis('tight')\n",
    "    plt.xlabel('Frame (center poke at %s)' % extension)\n",
    "    plt.ylabel('Neuron ID')\n",
    "    if n_variables == 3:\n",
    "        plt.title(\"%s = %s\\n %s = %s\\n%s = %s\\nNum trials = %.0f\" \n",
    "                  %(conditions[0], poke_frames_keys[i][1],\n",
    "                    conditions[1], poke_frames_keys[i][2], \n",
    "                    conditions[2], poke_frames_keys[i][3], nTrials[i])) \n",
    "    if n_variables == 2:\n",
    "        plt.title(\"%s = %s\\n %s = %s\\nNum trials = %.0f\" \n",
    "                  %(conditions[0], poke_frames_keys[i][1],\n",
    "                    conditions[1], poke_frames_keys[i][2], nTrials[i]))\n",
    "    if n_variables == 1:\n",
    "        plt.title(\"%s = %s\\nNum trials = %.0f\" \n",
    "                  %(conditions[0], poke_frames_keys[i][1], nTrials[i]))\n",
    "plt.tight_layout()"
   ]
  },
  {
   "cell_type": "code",
   "execution_count": null,
   "metadata": {},
   "outputs": [],
   "source": [
    "for iNeuron in range(nNeurons):\n",
    "    plt.plot(mean_center_poke_raw[:,iNeuron,0])"
   ]
  },
  {
   "cell_type": "code",
   "execution_count": null,
   "metadata": {},
   "outputs": [],
   "source": [
    "for iTrial in range(nTrials[0]):\n",
    "    plt.plot(aligned_start_raw[iTrial,:,3,0])"
   ]
  },
  {
   "cell_type": "code",
   "execution_count": null,
   "metadata": {},
   "outputs": [],
   "source": [
    "for iNeuron in range(nNeurons):\n",
    "    plt.plot(aligned_start_raw[25,:,iNeuron,0])"
   ]
  },
  {
   "cell_type": "markdown",
   "metadata": {},
   "source": [
    "### look at baseline-subtraced raw traces"
   ]
  },
  {
   "cell_type": "code",
   "execution_count": null,
   "metadata": {
    "collapsed": true
   },
   "outputs": [],
   "source": [
    "aligned_start_raw = aligned_start_raw-aligned_start_raw.min() # get rid of negative values"
   ]
  },
  {
   "cell_type": "markdown",
   "metadata": {},
   "source": [
    "### dF/F traces (centered at 0 baseline) normalized to each neuron's activity within the aligned window"
   ]
  },
  {
   "cell_type": "code",
   "execution_count": null,
   "metadata": {},
   "outputs": [],
   "source": [
    "norm_raw = np.zeros_like(aligned_start)\n",
    "\n",
    "median_norm_raw = np.zeros((max_window, nNeurons, n_combos))\n",
    "mean_norm_raw = np.zeros((max_window, nNeurons, n_combos))\n",
    "\n",
    "median_centered = np.zeros((max_window, nNeurons, n_combos))\n",
    "mean_centered = np.zeros((max_window, nNeurons, n_combos))\n",
    "\n",
    "# Normalize each trace within window being depicted based on single neuron’s activity\n",
    "# xi - min(x)/(max(x)-min(x)), where max and min are set by activity within window of interest\n",
    "\n",
    "# take max and min values for each neuron\n",
    "raw_min = [np.min(aligned_start_raw[:,:,x,:]) for x in range(nNeurons)]\n",
    "raw_max = [np.max(aligned_start_raw[:,:,x,:]) for x in range(nNeurons)]\n",
    "\n",
    "for iNeuron in range(nNeurons):\n",
    "    norm_raw[:,:,iNeuron,:] = (aligned_start_raw[:,:,iNeuron,:] - raw_min[iNeuron])/(raw_max[iNeuron] - raw_min[iNeuron])\n",
    "\n",
    "for i in range(n_combos):\n",
    "    mean_norm_raw[:,:,i]= np.mean(norm_raw[0:nTrials[i],:,:,i], axis=0)\n",
    "    for iNeuron in range(nNeurons):\n",
    "        mean_centered[:,iNeuron,i] = mean_norm_raw[:,iNeuron,i] - np.median(mean_norm_raw[:,iNeuron,i])\n",
    "\n",
    "ydim = n_combos/2\n",
    "plt.figure(figsize=(8,ydim*4))\n",
    "for i in range(n_combos):\n",
    "\n",
    "    plt.subplot(ydim,2,i+1)  \n",
    "    plt.imshow(np.transpose(mean_centered[:,:,i])), plt.colorbar()\n",
    "    plt.axvline(x=extension, color='k', linestyle = '--', linewidth=.9)\n",
    "    plt.axis('tight')\n",
    "    plt.xlabel('Frame (center poke at %s)' % extension)\n",
    "    plt.ylabel('Neuron ID')\n",
    "    if n_variables == 3:\n",
    "        plt.title(\"%s = %s\\n %s = %s\\n%s = %s\\nNum trials = %.0f\" \n",
    "                  %(conditions[0], poke_frames_keys[i][1],\n",
    "                    conditions[1], poke_frames_keys[i][2], \n",
    "                    conditions[2], poke_frames_keys[i][3], nTrials[i])) \n",
    "    if n_variables == 2:\n",
    "        plt.title(\"%s = %s\\n %s = %s\\nNum trials = %.0f\" \n",
    "                  %(conditions[0], poke_frames_keys[i][1],\n",
    "                    conditions[1], poke_frames_keys[i][2], nTrials[i]))\n",
    "    if n_variables == 1:\n",
    "        plt.title(\"%s = %s\\nNum trials = %.0f\" \n",
    "                  %(conditions[0], poke_frames_keys[i][1], nTrials[i]))\n",
    "plt.tight_layout()"
   ]
  },
  {
   "cell_type": "code",
   "execution_count": null,
   "metadata": {},
   "outputs": [],
   "source": [
    "for iNeuron in range(nNeurons):\n",
    "    plt.plot(mean_centered[:,iNeuron,0])"
   ]
  },
  {
   "cell_type": "code",
   "execution_count": null,
   "metadata": {},
   "outputs": [],
   "source": [
    "for iTrial in range(nTrials[0]):\n",
    "    plt.plot(norm_raw[iTrial,:,3,0])"
   ]
  },
  {
   "cell_type": "code",
   "execution_count": null,
   "metadata": {},
   "outputs": [],
   "source": [
    "for iNeuron in range(nNeurons):\n",
    "    plt.plot(median_norm_raw[:,iNeuron,0])"
   ]
  },
  {
   "cell_type": "markdown",
   "metadata": {},
   "source": [
    "### dF/F traces (centered at 0 baseline) normalized to ALL neurons' activity within the aligned window"
   ]
  },
  {
   "cell_type": "code",
   "execution_count": null,
   "metadata": {},
   "outputs": [],
   "source": [
    "# Normalize each trace within window being depicted based on all neurons’ activity\n",
    "aligned_start_flat = aligned_start_raw.ravel()\n",
    "raw_max = aligned_start_raw.max()\n",
    "raw_min = aligned_start_raw.min()\n",
    "\n",
    "norm_raw = np.zeros_like(aligned_start)\n",
    "for iNeuron in range(nNeurons):\n",
    "    norm_raw[:,:,iNeuron,:] = (aligned_start_raw[:,:,iNeuron,:] - raw_min)/(raw_max - raw_min)\n",
    "\n",
    "for i in range(n_combos):\n",
    "    mean_norm_raw[:,:,i]= np.mean(norm_raw[0:nTrials[i],:,:,i], axis=0)\n",
    "    for iNeuron in range(nNeurons):\n",
    "        mean_centered[:,iNeuron,i] = mean_norm_raw[:,iNeuron,i] - np.median(mean_norm_raw[:,iNeuron,i])\n",
    "\n",
    "ydim = n_combos/2\n",
    "plt.figure(figsize=(8,ydim*4))\n",
    "for i in range(n_combos):\n",
    "\n",
    "    plt.subplot(ydim,2,i+1)  \n",
    "    plt.imshow(np.transpose(mean_centered[:,:,i])), plt.colorbar()\n",
    "    plt.axvline(x=extension, color='k', linestyle = '--', linewidth=.9)\n",
    "    plt.axis('tight')\n",
    "    plt.xlabel('Frame (center poke at %s)' % extension)\n",
    "    plt.ylabel('Neuron ID')\n",
    "    if n_variables == 3:\n",
    "        plt.title(\"%s = %s\\n %s = %s\\n%s = %s\\nNum trials = %.0f\" \n",
    "                  %(conditions[0], poke_frames_keys[i][1],\n",
    "                    conditions[1], poke_frames_keys[i][2], \n",
    "                    conditions[2], poke_frames_keys[i][3], nTrials[i])) \n",
    "    if n_variables == 2:\n",
    "        plt.title(\"%s = %s\\n %s = %s\\nNum trials = %.0f\" \n",
    "                  %(conditions[0], poke_frames_keys[i][1],\n",
    "                    conditions[1], poke_frames_keys[i][2], nTrials[i]))\n",
    "    if n_variables == 1:\n",
    "        plt.title(\"%s = %s\\nNum trials = %.0f\" \n",
    "                  %(conditions[0], poke_frames_keys[i][1], nTrials[i]))\n",
    "plt.tight_layout()"
   ]
  },
  {
   "cell_type": "code",
   "execution_count": null,
   "metadata": {},
   "outputs": [],
   "source": [
    "for i in range(nNeurons):\n",
    "    plt.plot(mean_centered[:,i,1])"
   ]
  },
  {
   "cell_type": "code",
   "execution_count": null,
   "metadata": {},
   "outputs": [],
   "source": [
    "# Normalize each trace across entire imaging session based on single neuron’s activity\n",
    "\n",
    "# take max and min values for each neuron\n",
    "raw_min = neuron.C_raw.min(axis=1)\n",
    "raw_max = neuron.C_raw.max(axis=1)\n",
    "\n",
    "norm_raw = np.zeros_like(aligned_start)\n",
    "for iNeuron in range(nNeurons):\n",
    "    norm_raw[:,:,iNeuron,:] = (aligned_start_raw[:,:,iNeuron,:] - raw_min[iNeuron])/(raw_max[iNeuron] - raw_min[iNeuron])\n",
    "\n",
    "for i in range(n_combos):\n",
    "    mean_norm_raw[:,:,i]= np.mean(norm_raw[0:nTrials[i],:,:,i], axis=0)    \n",
    "    for iNeuron in range(nNeurons):\n",
    "        mean_centered[:,iNeuron,i] = mean_norm_raw[:,iNeuron,i] - np.median(mean_norm_raw[:,iNeuron,i])\n",
    "\n",
    "ydim = n_combos/2\n",
    "plt.figure(figsize=(8,ydim*4))\n",
    "for i in range(n_combos):\n",
    "\n",
    "    plt.subplot(ydim,2,i+1)  \n",
    "    plt.imshow(np.transpose(mean_centered[:,:,i])), plt.colorbar()\n",
    "    plt.axvline(x=extension, color='k', linestyle = '--', linewidth=.9)\n",
    "    plt.axis('tight')\n",
    "    plt.xlabel('Frame (center poke at %s)' % extension)\n",
    "    plt.ylabel('Neuron ID')\n",
    "    if n_variables == 3:\n",
    "        plt.title(\"%s = %s\\n %s = %s\\n%s = %s\\nNum trials = %.0f\" \n",
    "                  %(conditions[0], poke_frames_keys[i][1],\n",
    "                    conditions[1], poke_frames_keys[i][2], \n",
    "                    conditions[2], poke_frames_keys[i][3], nTrials[i])) \n",
    "    if n_variables == 2:\n",
    "        plt.title(\"%s = %s\\n %s = %s\\nNum trials = %.0f\" \n",
    "                  %(conditions[0], poke_frames_keys[i][1],\n",
    "                    conditions[1], poke_frames_keys[i][2], nTrials[i]))\n",
    "    if n_variables == 1:\n",
    "        plt.title(\"%s = %s\\nNum trials = %.0f\" \n",
    "                  %(conditions[0], poke_frames_keys[i][1], nTrials[i]))\n",
    "plt.tight_layout()"
   ]
  },
  {
   "cell_type": "code",
   "execution_count": null,
   "metadata": {},
   "outputs": [],
   "source": [
    "# Normalize each trace across entire imaging session based on all neuron’s activity\n",
    "\n",
    "# take max and min values for each neuron\n",
    "raw_min = neuron.C_raw.min()\n",
    "raw_max = neuron.C_raw.max()\n",
    "\n",
    "norm_raw = np.zeros_like(aligned_start)\n",
    "for iNeuron in range(nNeurons):\n",
    "    norm_raw[:,:,iNeuron,:] = (aligned_start_raw[:,:,iNeuron,:] - raw_min)/(raw_max - raw_min)\n",
    "\n",
    "for i in range(n_combos):\n",
    "    mean_norm_raw[:,:,i]= np.mean(norm_raw[0:nTrials[i],:,:,i], axis=0)    \n",
    "    #for iNeuron in range(nNeurons):\n",
    "    #    mean_centered[:,iNeuron,i] = mean_norm_raw[:,iNeuron,i] - np.median(mean_norm_raw[:,iNeuron,i])\n",
    "\n",
    "ydim = n_combos/2\n",
    "plt.figure(figsize=(8,ydim*4))\n",
    "for i in range(n_combos):\n",
    "\n",
    "    plt.subplot(ydim,2,i+1)  \n",
    "    plt.imshow(np.transpose(mean_centered[:,:,i])), plt.colorbar()\n",
    "    plt.axvline(x=extension, color='k', linestyle = '--', linewidth=.9)\n",
    "    plt.axis('tight')\n",
    "    plt.xlabel('Frame (center poke at %s)' % extension)\n",
    "    plt.ylabel('Neuron ID')\n",
    "    if n_variables == 3:\n",
    "        plt.title(\"%s = %s\\n %s = %s\\n%s = %s\\nNum trials = %.0f\" \n",
    "                  %(conditions[0], poke_frames_keys[i][1],\n",
    "                    conditions[1], poke_frames_keys[i][2], \n",
    "                    conditions[2], poke_frames_keys[i][3], nTrials[i])) \n",
    "    if n_variables == 2:\n",
    "        plt.title(\"%s = %s\\n %s = %s\\nNum trials = %.0f\" \n",
    "                  %(conditions[0], poke_frames_keys[i][1],\n",
    "                    conditions[1], poke_frames_keys[i][2], nTrials[i]))\n",
    "    if n_variables == 1:\n",
    "        plt.title(\"%s = %s\\nNum trials = %.0f\" \n",
    "                  %(conditions[0], poke_frames_keys[i][1], nTrials[i]))\n",
    "plt.tight_layout()"
   ]
  },
  {
   "cell_type": "code",
   "execution_count": null,
   "metadata": {
    "collapsed": true
   },
   "outputs": [],
   "source": []
  }
 ],
 "metadata": {
  "anaconda-cloud": {},
  "kernelspec": {
   "display_name": "Python 3",
   "language": "python",
   "name": "python3"
  },
  "language_info": {
   "codemirror_mode": {
    "name": "ipython",
    "version": 3
   },
   "file_extension": ".py",
   "mimetype": "text/x-python",
   "name": "python",
   "nbconvert_exporter": "python",
   "pygments_lexer": "ipython3",
   "version": "3.6.1"
  }
 },
 "nbformat": 4,
 "nbformat_minor": 1
}
