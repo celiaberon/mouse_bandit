{
 "cells": [
  {
   "cell_type": "markdown",
   "metadata": {},
   "source": [
    "This notebook aligns calcium imaging data to behavioral events. The user can then define different conditions to subset the data from comparison of activity patterns aligned these events. The notebook then returns a series of plots, heatmaps of both raw and event-based calcium signal for each epoch."
   ]
  },
  {
   "cell_type": "code",
   "execution_count": 1,
   "metadata": {
    "collapsed": true
   },
   "outputs": [],
   "source": [
    "user_name = 'celia'"
   ]
  },
  {
   "cell_type": "code",
   "execution_count": 2,
<<<<<<< HEAD
   "metadata": {},
=======
   "metadata": {
    "collapsed": true
   },
>>>>>>> 4a1bb0435b4e3cae3b929dc877d5657a48b79203
   "outputs": [],
   "source": [
    "import sys\n",
    "sys.path.append('/Users/{}/GitHub/mouse_bandit/data_preprocessing_code'.format(user_name))\n",
    "import numpy as np\n",
    "import pandas as pd\n",
    "import scipy as sp\n",
    "import scipy.io as scio\n",
    "import bandit_preprocessing as bp\n",
    "import hmm_on_behavior as hob\n",
    "import calcium_codes as cc\n",
    "sys.path.append('/Users/{}/GitHub/mouse_bandit/jupyter_notebooks/helper_functions'.format(user_name))\n",
    "import hf_behavior_imaging as hf\n",
    "import os\n",
    "import matplotlib.pyplot as plt\n",
    "import itertools\n",
    "%matplotlib inline"
   ]
  },
  {
   "cell_type": "code",
   "execution_count": 3,
<<<<<<< HEAD
   "metadata": {},
=======
   "metadata": {
    "collapsed": true
   },
>>>>>>> 4a1bb0435b4e3cae3b929dc877d5657a48b79203
   "outputs": [],
   "source": [
    "'''Initialize paths and import data'''\n",
    "\n",
    "record_path = '/Users/{}/GitHub/mouse_bandit/session_record.csv'.format(user_name) # session record of behavioral data\n",
    "ca_data_path = '/Volumes/Neurobio/MICROSCOPE/Celia/data/imaging/Shay/Extracted/k13_031017_bandit_8020/k13_03102017_bandit_8020_neuron_results.mat'\n",
    "#ca_data_path = '/Volumes/Neurobio/MICROSCOPE/Celia/data/imaging/Shay/Extracted/q43_111716_bandit_8020/q43_111716_bandit_8020_neuron_results.mat'\n",
    "#ca_data_path = '/Users/{}/Documents/mouse_bandit/k13_03102017_bandit_8020_neuron_results.mat'.format(user_name)\n",
    "#ca_data_path = '/Users/celiaberon/Documents/mouse_bandit/k1_111616_bandit_9010_neuron_results.mat'\n",
    "\n",
    "\n",
    "record = pd.read_csv(record_path,index_col=0) # session record is panda df\n",
    "ca_data = scio.loadmat(ca_data_path,squeeze_me = True, struct_as_record = False)\n",
    "neuron = ca_data['neuron_results'] # set neuron variable to just contain neuron_results structure\n",
    "\n",
    "\n",
    "'''Specify mouse and session of interest'''\n",
    "\n",
    "session_name  = '03102017_K13'\n",
    "mouse_id = 'k13'\n",
    "\n",
    "record[record['Session ID'] == session_name] # take only rows from record that match session name\n",
    "\n",
    "\n",
    "'''Load in trial data from specific session'''\n",
    "\n",
    "columns = ['Elapsed Time (s)','Since last trial (s)','Trial Duration (s)','Port Poked',\n",
    "           'Right Reward Prob','Left Reward Prob','Reward Given',\n",
    "          'center_frame','decision_frame']\n",
    "\n",
    "root_dir = '/Users/{}/GitHub/mouse_bandit/data/trial_data'.format(user_name)\n",
    "\n",
    "full_name = session_name + '_trials.csv'\n",
    "\n",
    "path_name = os.path.join(root_dir,full_name)\n",
    "\n",
    "trial_df = pd.read_csv(path_name,names=columns)"
   ]
  },
  {
   "cell_type": "code",
   "execution_count": 4,
   "metadata": {},
   "outputs": [
    {
     "data": {
      "text/plain": [
       "(364, 9)"
      ]
     },
     "execution_count": 4,
     "metadata": {},
     "output_type": "execute_result"
    }
   ],
   "source": [
    "trial_df.shape"
   ]
  },
  {
   "cell_type": "code",
   "execution_count": 5,
<<<<<<< HEAD
   "metadata": {
    "collapsed": true
   },
   "outputs": [],
   "source": [
    "np.set_printoptions(threshold=np.inf)"
   ]
  },
  {
   "cell_type": "code",
   "execution_count": 6,
=======
>>>>>>> 4a1bb0435b4e3cae3b929dc877d5657a48b79203
   "metadata": {},
   "outputs": [
    {
     "data": {
      "text/html": [
       "<div>\n",
       "<style>\n",
       "    .dataframe thead tr:only-child th {\n",
       "        text-align: right;\n",
       "    }\n",
       "\n",
       "    .dataframe thead th {\n",
       "        text-align: left;\n",
       "    }\n",
       "\n",
       "    .dataframe tbody tr th {\n",
       "        vertical-align: top;\n",
       "    }\n",
       "</style>\n",
       "<table border=\"1\" class=\"dataframe\">\n",
       "  <thead>\n",
       "    <tr style=\"text-align: right;\">\n",
       "      <th></th>\n",
       "      <th>Owner</th>\n",
       "      <th>Session ID</th>\n",
       "      <th>Mouse ID</th>\n",
       "      <th>Date</th>\n",
       "      <th>Phase</th>\n",
       "      <th>Markov</th>\n",
       "      <th>Left Reward Prob</th>\n",
       "      <th>Right Reward Prob</th>\n",
       "      <th>Block Range Min</th>\n",
       "      <th>Block Range Max</th>\n",
       "      <th>No. Trials</th>\n",
       "      <th>No. Blocks</th>\n",
       "      <th>No. Rewards</th>\n",
       "      <th>p(high Port)</th>\n",
       "      <th>Decision Window Duration</th>\n",
       "      <th>Min Inter-trial-interval</th>\n",
       "      <th>Left Solenoid Duration</th>\n",
       "      <th>Right Solenoid Duration</th>\n",
       "    </tr>\n",
       "  </thead>\n",
       "  <tbody>\n",
       "    <tr>\n",
       "      <th>802</th>\n",
       "      <td>shay</td>\n",
       "      <td>03102017_K13</td>\n",
       "      <td>K13</td>\n",
       "      <td>2017-03-10 00:00:00</td>\n",
       "      <td>2.0</td>\n",
       "      <td>0</td>\n",
       "      <td>0.8</td>\n",
       "      <td>0.2</td>\n",
       "      <td>50.0</td>\n",
       "      <td>50.0</td>\n",
       "      <td>364.0</td>\n",
       "      <td>4.0</td>\n",
       "      <td>247.0</td>\n",
       "      <td>0.84</td>\n",
       "      <td>2.0</td>\n",
       "      <td>1.0</td>\n",
       "      <td>35.0</td>\n",
       "      <td>35.0</td>\n",
       "    </tr>\n",
       "  </tbody>\n",
       "</table>\n",
       "</div>"
      ],
      "text/plain": [
       "    Owner    Session ID Mouse ID                 Date  Phase  Markov  \\\n",
       "802  shay  03102017_K13      K13  2017-03-10 00:00:00    2.0       0   \n",
       "\n",
       "     Left Reward Prob  Right Reward Prob  Block Range Min  Block Range Max  \\\n",
       "802               0.8                0.2             50.0             50.0   \n",
       "\n",
       "     No. Trials  No. Blocks  No. Rewards  p(high Port)  \\\n",
       "802       364.0         4.0        247.0          0.84   \n",
       "\n",
       "     Decision Window Duration  Min Inter-trial-interval  \\\n",
       "802                       2.0                       1.0   \n",
       "\n",
       "     Left Solenoid Duration  Right Solenoid Duration  \n",
       "802                    35.0                     35.0  "
      ]
     },
     "execution_count": 5,
     "metadata": {},
     "output_type": "execute_result"
    }
   ],
   "source": [
    "record[record['Session ID']==session_name]"
   ]
  },
  {
   "cell_type": "code",
   "execution_count": 6,
   "metadata": {},
   "outputs": [
    {
     "name": "stdout",
     "output_type": "stream",
     "text": [
      "right block proportion = 0.401098901099\n"
     ]
    },
    {
     "data": {
      "text/plain": [
       "[63, 72, 80, 74, 75]"
      ]
     },
     "execution_count": 6,
     "metadata": {},
     "output_type": "execute_result"
    }
   ],
   "source": [
    "reward_prob = 0.8\n",
    "blocks_right = np.sum(trial_df['Right Reward Prob']==reward_prob)/trial_df.shape[0] # check balance of blocks on each side\n",
    "print('right block proportion = %s' % blocks_right) # for 50 reward block structure I guess this isn't really necessary\n",
    "\n",
    "blocks = list(np.diff(np.concatenate((range(1),np.where(np.diff(trial_df['Right Reward Prob']) != 0)[0]))))\n",
    "blocks.append(int(record[record['Session ID']==session_name]['No. Trials'].values)\n",
    "             -np.where(np.diff(trial_df['Right Reward Prob']) != 0)[0][-1]) # length of the last block at end\n",
    "blocks"
   ]
  },
  {
   "cell_type": "markdown",
   "metadata": {},
   "source": [
    "### Add column for estimated by HMM using entire session as memory"
   ]
  },
  {
   "cell_type": "code",
   "execution_count": 7,
   "metadata": {
    "collapsed": true
   },
   "outputs": [],
   "source": [
    "beliefs = hob.predictBeliefBySession(record_path, session_name, mouse_id) # generate estimate of belief for each trial\n",
    "\n",
    "columns.append('Belief') # add column named belief to data frame\n",
    "trial_df['Belief'] = beliefs # insert estimated values of belief into this new column\n",
    "columns.append('Block ID')\n",
    "\n",
    "block_id = np.asarray([x+1 for x in range(int(record[record['Session ID']==session_name]['No. Blocks'].values[0])+1)\n",
    "            for y in range(blocks[x])])\n",
    "trial_df['Block ID'] = block_id"
   ]
  },
  {
   "cell_type": "code",
   "execution_count": 8,
   "metadata": {},
   "outputs": [
    {
     "data": {
      "text/html": [
       "<div>\n",
       "<table border=\"1\" class=\"dataframe\">\n",
       "  <thead>\n",
       "    <tr style=\"text-align: right;\">\n",
       "      <th></th>\n",
       "      <th>Elapsed Time (s)</th>\n",
       "      <th>Since last trial (s)</th>\n",
       "      <th>Trial Duration (s)</th>\n",
       "      <th>Port Poked</th>\n",
       "      <th>Right Reward Prob</th>\n",
       "      <th>Left Reward Prob</th>\n",
       "      <th>Reward Given</th>\n",
       "      <th>center_frame</th>\n",
       "      <th>decision_frame</th>\n",
       "      <th>Belief</th>\n",
       "      <th>Block ID</th>\n",
       "    </tr>\n",
       "  </thead>\n",
       "  <tbody>\n",
       "    <tr>\n",
       "      <th>0</th>\n",
       "      <td>51.422</td>\n",
       "      <td>14.676</td>\n",
       "      <td>0.710</td>\n",
       "      <td>2</td>\n",
       "      <td>0.2</td>\n",
       "      <td>0.8</td>\n",
       "      <td>1</td>\n",
       "      <td>1349</td>\n",
       "      <td>1364</td>\n",
       "      <td>0.500000</td>\n",
       "      <td>1</td>\n",
       "    </tr>\n",
       "    <tr>\n",
       "      <th>1</th>\n",
       "      <td>54.191</td>\n",
       "      <td>1.736</td>\n",
       "      <td>1.033</td>\n",
       "      <td>1</td>\n",
       "      <td>0.2</td>\n",
       "      <td>0.8</td>\n",
       "      <td>0</td>\n",
       "      <td>1398</td>\n",
       "      <td>1419</td>\n",
       "      <td>0.113333</td>\n",
       "      <td>1</td>\n",
       "    </tr>\n",
       "    <tr>\n",
       "      <th>2</th>\n",
       "      <td>60.597</td>\n",
       "      <td>2.043</td>\n",
       "      <td>0.602</td>\n",
       "      <td>2</td>\n",
       "      <td>0.2</td>\n",
       "      <td>0.8</td>\n",
       "      <td>1</td>\n",
       "      <td>1535</td>\n",
       "      <td>1547</td>\n",
       "      <td>0.030203</td>\n",
       "      <td>1</td>\n",
       "    </tr>\n",
       "    <tr>\n",
       "      <th>3</th>\n",
       "      <td>64.787</td>\n",
       "      <td>3.770</td>\n",
       "      <td>0.420</td>\n",
       "      <td>2</td>\n",
       "      <td>0.2</td>\n",
       "      <td>0.8</td>\n",
       "      <td>1</td>\n",
       "      <td>1622</td>\n",
       "      <td>1631</td>\n",
       "      <td>0.020000</td>\n",
       "      <td>1</td>\n",
       "    </tr>\n",
       "    <tr>\n",
       "      <th>4</th>\n",
       "      <td>67.547</td>\n",
       "      <td>2.290</td>\n",
       "      <td>0.470</td>\n",
       "      <td>2</td>\n",
       "      <td>0.2</td>\n",
       "      <td>0.8</td>\n",
       "      <td>1</td>\n",
       "      <td>1677</td>\n",
       "      <td>1686</td>\n",
       "      <td>0.018854</td>\n",
       "      <td>1</td>\n",
       "    </tr>\n",
       "  </tbody>\n",
       "</table>\n",
       "</div>"
      ],
      "text/plain": [
       "   Elapsed Time (s)  Since last trial (s)  Trial Duration (s)  Port Poked  \\\n",
       "0            51.422                14.676               0.710           2   \n",
       "1            54.191                 1.736               1.033           1   \n",
       "2            60.597                 2.043               0.602           2   \n",
       "3            64.787                 3.770               0.420           2   \n",
       "4            67.547                 2.290               0.470           2   \n",
       "\n",
       "   Right Reward Prob  Left Reward Prob  Reward Given  center_frame  \\\n",
       "0                0.2               0.8             1          1349   \n",
       "1                0.2               0.8             0          1398   \n",
       "2                0.2               0.8             1          1535   \n",
       "3                0.2               0.8             1          1622   \n",
       "4                0.2               0.8             1          1677   \n",
       "\n",
       "   decision_frame    Belief  Block ID  \n",
       "0            1364  0.500000         1  \n",
       "1            1419  0.113333         1  \n",
       "2            1547  0.030203         1  \n",
       "3            1631  0.020000         1  \n",
       "4            1686  0.018854         1  "
      ]
     },
     "execution_count": 8,
     "metadata": {},
     "output_type": "execute_result"
    }
   ],
   "source": [
    "trial_df.head(5)"
   ]
  },
  {
   "cell_type": "code",
   "execution_count": 95,
   "metadata": {},
   "outputs": [
    {
     "data": {
      "text/html": [
       "<div>\n",
       "<table border=\"1\" class=\"dataframe\">\n",
       "  <thead>\n",
       "    <tr style=\"text-align: right;\">\n",
       "      <th></th>\n",
       "      <th>Elapsed Time (s)</th>\n",
       "      <th>Since last trial (s)</th>\n",
       "      <th>Trial Duration (s)</th>\n",
       "      <th>Port Poked</th>\n",
       "      <th>Right Reward Prob</th>\n",
       "      <th>Left Reward Prob</th>\n",
       "      <th>Reward Given</th>\n",
       "      <th>center_frame</th>\n",
       "      <th>decision_frame</th>\n",
       "      <th>Belief</th>\n",
       "      <th>Block ID</th>\n",
       "    </tr>\n",
       "  </thead>\n",
       "  <tbody>\n",
       "    <tr>\n",
       "      <th>0</th>\n",
       "      <td>51.422</td>\n",
       "      <td>14.676</td>\n",
       "      <td>0.710</td>\n",
       "      <td>2</td>\n",
       "      <td>0.2</td>\n",
       "      <td>0.8</td>\n",
       "      <td>1</td>\n",
       "      <td>1349</td>\n",
       "      <td>1364</td>\n",
       "      <td>0.500000</td>\n",
       "      <td>1</td>\n",
       "    </tr>\n",
       "    <tr>\n",
       "      <th>2</th>\n",
       "      <td>60.597</td>\n",
       "      <td>2.043</td>\n",
       "      <td>0.602</td>\n",
       "      <td>2</td>\n",
       "      <td>0.2</td>\n",
       "      <td>0.8</td>\n",
       "      <td>1</td>\n",
       "      <td>1535</td>\n",
       "      <td>1547</td>\n",
       "      <td>0.030203</td>\n",
       "      <td>1</td>\n",
       "    </tr>\n",
       "    <tr>\n",
       "      <th>3</th>\n",
       "      <td>64.787</td>\n",
       "      <td>3.770</td>\n",
       "      <td>0.420</td>\n",
       "      <td>2</td>\n",
       "      <td>0.2</td>\n",
       "      <td>0.8</td>\n",
       "      <td>1</td>\n",
       "      <td>1622</td>\n",
       "      <td>1631</td>\n",
       "      <td>0.020000</td>\n",
       "      <td>1</td>\n",
       "    </tr>\n",
       "    <tr>\n",
       "      <th>4</th>\n",
       "      <td>67.547</td>\n",
       "      <td>2.290</td>\n",
       "      <td>0.470</td>\n",
       "      <td>2</td>\n",
       "      <td>0.2</td>\n",
       "      <td>0.8</td>\n",
       "      <td>1</td>\n",
       "      <td>1677</td>\n",
       "      <td>1686</td>\n",
       "      <td>0.018854</td>\n",
       "      <td>1</td>\n",
       "    </tr>\n",
       "    <tr>\n",
       "      <th>5</th>\n",
       "      <td>73.858</td>\n",
       "      <td>2.600</td>\n",
       "      <td>0.418</td>\n",
       "      <td>2</td>\n",
       "      <td>0.2</td>\n",
       "      <td>0.8</td>\n",
       "      <td>1</td>\n",
       "      <td>1804</td>\n",
       "      <td>1812</td>\n",
       "      <td>0.018726</td>\n",
       "      <td>1</td>\n",
       "    </tr>\n",
       "    <tr>\n",
       "      <th>6</th>\n",
       "      <td>76.222</td>\n",
       "      <td>2.000</td>\n",
       "      <td>0.364</td>\n",
       "      <td>2</td>\n",
       "      <td>0.2</td>\n",
       "      <td>0.8</td>\n",
       "      <td>1</td>\n",
       "      <td>1852</td>\n",
       "      <td>1859</td>\n",
       "      <td>0.018712</td>\n",
       "      <td>1</td>\n",
       "    </tr>\n",
       "    <tr>\n",
       "      <th>7</th>\n",
       "      <td>79.052</td>\n",
       "      <td>2.129</td>\n",
       "      <td>0.701</td>\n",
       "      <td>2</td>\n",
       "      <td>0.2</td>\n",
       "      <td>0.8</td>\n",
       "      <td>1</td>\n",
       "      <td>1902</td>\n",
       "      <td>1916</td>\n",
       "      <td>0.018710</td>\n",
       "      <td>1</td>\n",
       "    </tr>\n",
       "    <tr>\n",
       "      <th>9</th>\n",
       "      <td>83.136</td>\n",
       "      <td>1.115</td>\n",
       "      <td>0.363</td>\n",
       "      <td>2</td>\n",
       "      <td>0.2</td>\n",
       "      <td>0.8</td>\n",
       "      <td>1</td>\n",
       "      <td>1991</td>\n",
       "      <td>1998</td>\n",
       "      <td>0.158253</td>\n",
       "      <td>1</td>\n",
       "    </tr>\n",
       "    <tr>\n",
       "      <th>10</th>\n",
       "      <td>87.205</td>\n",
       "      <td>3.567</td>\n",
       "      <td>0.502</td>\n",
       "      <td>2</td>\n",
       "      <td>0.2</td>\n",
       "      <td>0.8</td>\n",
       "      <td>1</td>\n",
       "      <td>2069</td>\n",
       "      <td>2079</td>\n",
       "      <td>0.036447</td>\n",
       "      <td>1</td>\n",
       "    </tr>\n",
       "    <tr>\n",
       "      <th>11</th>\n",
       "      <td>94.394</td>\n",
       "      <td>2.603</td>\n",
       "      <td>0.412</td>\n",
       "      <td>2</td>\n",
       "      <td>0.2</td>\n",
       "      <td>0.8</td>\n",
       "      <td>1</td>\n",
       "      <td>2215</td>\n",
       "      <td>2222</td>\n",
       "      <td>0.020712</td>\n",
       "      <td>1</td>\n",
       "    </tr>\n",
       "    <tr>\n",
       "      <th>12</th>\n",
       "      <td>98.530</td>\n",
       "      <td>1.176</td>\n",
       "      <td>0.433</td>\n",
       "      <td>2</td>\n",
       "      <td>0.2</td>\n",
       "      <td>0.8</td>\n",
       "      <td>1</td>\n",
       "      <td>2297</td>\n",
       "      <td>2306</td>\n",
       "      <td>0.018933</td>\n",
       "      <td>1</td>\n",
       "    </tr>\n",
       "    <tr>\n",
       "      <th>13</th>\n",
       "      <td>101.520</td>\n",
       "      <td>2.614</td>\n",
       "      <td>0.376</td>\n",
       "      <td>2</td>\n",
       "      <td>0.2</td>\n",
       "      <td>0.8</td>\n",
       "      <td>1</td>\n",
       "      <td>2358</td>\n",
       "      <td>2365</td>\n",
       "      <td>0.018735</td>\n",
       "      <td>1</td>\n",
       "    </tr>\n",
       "    <tr>\n",
       "      <th>15</th>\n",
       "      <td>109.680</td>\n",
       "      <td>3.689</td>\n",
       "      <td>0.478</td>\n",
       "      <td>2</td>\n",
       "      <td>0.2</td>\n",
       "      <td>0.8</td>\n",
       "      <td>1</td>\n",
       "      <td>2519</td>\n",
       "      <td>2528</td>\n",
       "      <td>0.158271</td>\n",
       "      <td>1</td>\n",
       "    </tr>\n",
       "    <tr>\n",
       "      <th>16</th>\n",
       "      <td>112.630</td>\n",
       "      <td>2.541</td>\n",
       "      <td>0.414</td>\n",
       "      <td>2</td>\n",
       "      <td>0.2</td>\n",
       "      <td>0.8</td>\n",
       "      <td>1</td>\n",
       "      <td>2579</td>\n",
       "      <td>2588</td>\n",
       "      <td>0.036449</td>\n",
       "      <td>1</td>\n",
       "    </tr>\n",
       "    <tr>\n",
       "      <th>17</th>\n",
       "      <td>116.110</td>\n",
       "      <td>2.925</td>\n",
       "      <td>0.552</td>\n",
       "      <td>2</td>\n",
       "      <td>0.2</td>\n",
       "      <td>0.8</td>\n",
       "      <td>1</td>\n",
       "      <td>2646</td>\n",
       "      <td>2657</td>\n",
       "      <td>0.020713</td>\n",
       "      <td>1</td>\n",
       "    </tr>\n",
       "    <tr>\n",
       "      <th>18</th>\n",
       "      <td>119.010</td>\n",
       "      <td>2.410</td>\n",
       "      <td>0.490</td>\n",
       "      <td>2</td>\n",
       "      <td>0.2</td>\n",
       "      <td>0.8</td>\n",
       "      <td>1</td>\n",
       "      <td>2705</td>\n",
       "      <td>2715</td>\n",
       "      <td>0.018933</td>\n",
       "      <td>1</td>\n",
       "    </tr>\n",
       "    <tr>\n",
       "      <th>19</th>\n",
       "      <td>125.720</td>\n",
       "      <td>1.498</td>\n",
       "      <td>0.430</td>\n",
       "      <td>2</td>\n",
       "      <td>0.2</td>\n",
       "      <td>0.8</td>\n",
       "      <td>1</td>\n",
       "      <td>2841</td>\n",
       "      <td>2849</td>\n",
       "      <td>0.018735</td>\n",
       "      <td>1</td>\n",
       "    </tr>\n",
       "    <tr>\n",
       "      <th>20</th>\n",
       "      <td>137.850</td>\n",
       "      <td>2.138</td>\n",
       "      <td>0.396</td>\n",
       "      <td>2</td>\n",
       "      <td>0.2</td>\n",
       "      <td>0.8</td>\n",
       "      <td>1</td>\n",
       "      <td>3084</td>\n",
       "      <td>3092</td>\n",
       "      <td>0.018713</td>\n",
       "      <td>1</td>\n",
       "    </tr>\n",
       "    <tr>\n",
       "      <th>21</th>\n",
       "      <td>140.470</td>\n",
       "      <td>2.029</td>\n",
       "      <td>0.600</td>\n",
       "      <td>2</td>\n",
       "      <td>0.2</td>\n",
       "      <td>0.8</td>\n",
       "      <td>1</td>\n",
       "      <td>3132</td>\n",
       "      <td>3144</td>\n",
       "      <td>0.018711</td>\n",
       "      <td>1</td>\n",
       "    </tr>\n",
       "    <tr>\n",
       "      <th>23</th>\n",
       "      <td>160.720</td>\n",
       "      <td>10.318</td>\n",
       "      <td>0.868</td>\n",
       "      <td>2</td>\n",
       "      <td>0.2</td>\n",
       "      <td>0.8</td>\n",
       "      <td>1</td>\n",
       "      <td>3532</td>\n",
       "      <td>3549</td>\n",
       "      <td>0.158253</td>\n",
       "      <td>1</td>\n",
       "    </tr>\n",
       "    <tr>\n",
       "      <th>24</th>\n",
       "      <td>163.640</td>\n",
       "      <td>2.524</td>\n",
       "      <td>0.388</td>\n",
       "      <td>2</td>\n",
       "      <td>0.2</td>\n",
       "      <td>0.8</td>\n",
       "      <td>1</td>\n",
       "      <td>3599</td>\n",
       "      <td>3608</td>\n",
       "      <td>0.036447</td>\n",
       "      <td>1</td>\n",
       "    </tr>\n",
       "    <tr>\n",
       "      <th>25</th>\n",
       "      <td>167.830</td>\n",
       "      <td>3.807</td>\n",
       "      <td>0.387</td>\n",
       "      <td>2</td>\n",
       "      <td>0.2</td>\n",
       "      <td>0.8</td>\n",
       "      <td>1</td>\n",
       "      <td>3683</td>\n",
       "      <td>3691</td>\n",
       "      <td>0.020712</td>\n",
       "      <td>1</td>\n",
       "    </tr>\n",
       "    <tr>\n",
       "      <th>26</th>\n",
       "      <td>170.640</td>\n",
       "      <td>2.417</td>\n",
       "      <td>0.390</td>\n",
       "      <td>2</td>\n",
       "      <td>0.2</td>\n",
       "      <td>0.8</td>\n",
       "      <td>1</td>\n",
       "      <td>3739</td>\n",
       "      <td>3747</td>\n",
       "      <td>0.018933</td>\n",
       "      <td>1</td>\n",
       "    </tr>\n",
       "    <tr>\n",
       "      <th>29</th>\n",
       "      <td>181.700</td>\n",
       "      <td>2.663</td>\n",
       "      <td>0.503</td>\n",
       "      <td>2</td>\n",
       "      <td>0.2</td>\n",
       "      <td>0.8</td>\n",
       "      <td>1</td>\n",
       "      <td>3959</td>\n",
       "      <td>3969</td>\n",
       "      <td>0.624527</td>\n",
       "      <td>1</td>\n",
       "    </tr>\n",
       "    <tr>\n",
       "      <th>31</th>\n",
       "      <td>191.070</td>\n",
       "      <td>1.637</td>\n",
       "      <td>0.543</td>\n",
       "      <td>2</td>\n",
       "      <td>0.2</td>\n",
       "      <td>0.8</td>\n",
       "      <td>1</td>\n",
       "      <td>4145</td>\n",
       "      <td>4155</td>\n",
       "      <td>0.639346</td>\n",
       "      <td>1</td>\n",
       "    </tr>\n",
       "    <tr>\n",
       "      <th>32</th>\n",
       "      <td>194.290</td>\n",
       "      <td>2.783</td>\n",
       "      <td>0.441</td>\n",
       "      <td>2</td>\n",
       "      <td>0.2</td>\n",
       "      <td>0.8</td>\n",
       "      <td>1</td>\n",
       "      <td>4212</td>\n",
       "      <td>4220</td>\n",
       "      <td>0.175739</td>\n",
       "      <td>1</td>\n",
       "    </tr>\n",
       "    <tr>\n",
       "      <th>34</th>\n",
       "      <td>199.410</td>\n",
       "      <td>2.223</td>\n",
       "      <td>0.391</td>\n",
       "      <td>2</td>\n",
       "      <td>0.2</td>\n",
       "      <td>0.8</td>\n",
       "      <td>1</td>\n",
       "      <td>4314</td>\n",
       "      <td>4323</td>\n",
       "      <td>0.275466</td>\n",
       "      <td>1</td>\n",
       "    </tr>\n",
       "    <tr>\n",
       "      <th>35</th>\n",
       "      <td>201.810</td>\n",
       "      <td>1.938</td>\n",
       "      <td>0.462</td>\n",
       "      <td>2</td>\n",
       "      <td>0.2</td>\n",
       "      <td>0.8</td>\n",
       "      <td>1</td>\n",
       "      <td>4361</td>\n",
       "      <td>4370</td>\n",
       "      <td>0.055848</td>\n",
       "      <td>1</td>\n",
       "    </tr>\n",
       "    <tr>\n",
       "      <th>36</th>\n",
       "      <td>209.840</td>\n",
       "      <td>2.450</td>\n",
       "      <td>0.500</td>\n",
       "      <td>2</td>\n",
       "      <td>0.2</td>\n",
       "      <td>0.8</td>\n",
       "      <td>1</td>\n",
       "      <td>4521</td>\n",
       "      <td>4531</td>\n",
       "      <td>0.022978</td>\n",
       "      <td>1</td>\n",
       "    </tr>\n",
       "    <tr>\n",
       "      <th>37</th>\n",
       "      <td>213.330</td>\n",
       "      <td>2.870</td>\n",
       "      <td>0.627</td>\n",
       "      <td>2</td>\n",
       "      <td>0.2</td>\n",
       "      <td>0.8</td>\n",
       "      <td>1</td>\n",
       "      <td>4588</td>\n",
       "      <td>4601</td>\n",
       "      <td>0.019186</td>\n",
       "      <td>1</td>\n",
       "    </tr>\n",
       "    <tr>\n",
       "      <th>...</th>\n",
       "      <td>...</td>\n",
       "      <td>...</td>\n",
       "      <td>...</td>\n",
       "      <td>...</td>\n",
       "      <td>...</td>\n",
       "      <td>...</td>\n",
       "      <td>...</td>\n",
       "      <td>...</td>\n",
       "      <td>...</td>\n",
       "      <td>...</td>\n",
       "      <td>...</td>\n",
       "    </tr>\n",
       "    <tr>\n",
       "      <th>320</th>\n",
       "      <td>1323.500</td>\n",
       "      <td>4.153</td>\n",
       "      <td>0.520</td>\n",
       "      <td>2</td>\n",
       "      <td>0.2</td>\n",
       "      <td>0.8</td>\n",
       "      <td>1</td>\n",
       "      <td>26789</td>\n",
       "      <td>26799</td>\n",
       "      <td>0.584806</td>\n",
       "      <td>5</td>\n",
       "    </tr>\n",
       "    <tr>\n",
       "      <th>321</th>\n",
       "      <td>1327.300</td>\n",
       "      <td>3.230</td>\n",
       "      <td>0.537</td>\n",
       "      <td>2</td>\n",
       "      <td>0.2</td>\n",
       "      <td>0.8</td>\n",
       "      <td>1</td>\n",
       "      <td>26864</td>\n",
       "      <td>26875</td>\n",
       "      <td>0.147479</td>\n",
       "      <td>5</td>\n",
       "    </tr>\n",
       "    <tr>\n",
       "      <th>322</th>\n",
       "      <td>1332.100</td>\n",
       "      <td>1.558</td>\n",
       "      <td>0.514</td>\n",
       "      <td>2</td>\n",
       "      <td>0.2</td>\n",
       "      <td>0.8</td>\n",
       "      <td>1</td>\n",
       "      <td>26960</td>\n",
       "      <td>26970</td>\n",
       "      <td>0.034897</td>\n",
       "      <td>5</td>\n",
       "    </tr>\n",
       "    <tr>\n",
       "      <th>324</th>\n",
       "      <td>1340.400</td>\n",
       "      <td>2.819</td>\n",
       "      <td>0.503</td>\n",
       "      <td>2</td>\n",
       "      <td>0.2</td>\n",
       "      <td>0.8</td>\n",
       "      <td>1</td>\n",
       "      <td>27127</td>\n",
       "      <td>27137</td>\n",
       "      <td>0.170112</td>\n",
       "      <td>5</td>\n",
       "    </tr>\n",
       "    <tr>\n",
       "      <th>325</th>\n",
       "      <td>1343.200</td>\n",
       "      <td>2.250</td>\n",
       "      <td>0.469</td>\n",
       "      <td>2</td>\n",
       "      <td>0.2</td>\n",
       "      <td>0.8</td>\n",
       "      <td>1</td>\n",
       "      <td>27182</td>\n",
       "      <td>27192</td>\n",
       "      <td>0.038193</td>\n",
       "      <td>5</td>\n",
       "    </tr>\n",
       "    <tr>\n",
       "      <th>326</th>\n",
       "      <td>1348.800</td>\n",
       "      <td>2.063</td>\n",
       "      <td>0.478</td>\n",
       "      <td>2</td>\n",
       "      <td>0.2</td>\n",
       "      <td>0.8</td>\n",
       "      <td>1</td>\n",
       "      <td>27295</td>\n",
       "      <td>27305</td>\n",
       "      <td>0.020913</td>\n",
       "      <td>5</td>\n",
       "    </tr>\n",
       "    <tr>\n",
       "      <th>328</th>\n",
       "      <td>1361.500</td>\n",
       "      <td>1.475</td>\n",
       "      <td>0.465</td>\n",
       "      <td>1</td>\n",
       "      <td>0.2</td>\n",
       "      <td>0.8</td>\n",
       "      <td>1</td>\n",
       "      <td>27549</td>\n",
       "      <td>27558</td>\n",
       "      <td>0.159864</td>\n",
       "      <td>5</td>\n",
       "    </tr>\n",
       "    <tr>\n",
       "      <th>331</th>\n",
       "      <td>1371.200</td>\n",
       "      <td>1.289</td>\n",
       "      <td>0.894</td>\n",
       "      <td>2</td>\n",
       "      <td>0.2</td>\n",
       "      <td>0.8</td>\n",
       "      <td>1</td>\n",
       "      <td>27735</td>\n",
       "      <td>27753</td>\n",
       "      <td>0.037995</td>\n",
       "      <td>5</td>\n",
       "    </tr>\n",
       "    <tr>\n",
       "      <th>332</th>\n",
       "      <td>1375.100</td>\n",
       "      <td>1.170</td>\n",
       "      <td>0.436</td>\n",
       "      <td>2</td>\n",
       "      <td>0.2</td>\n",
       "      <td>0.8</td>\n",
       "      <td>1</td>\n",
       "      <td>27822</td>\n",
       "      <td>27831</td>\n",
       "      <td>0.020890</td>\n",
       "      <td>5</td>\n",
       "    </tr>\n",
       "    <tr>\n",
       "      <th>334</th>\n",
       "      <td>1382.700</td>\n",
       "      <td>2.195</td>\n",
       "      <td>0.479</td>\n",
       "      <td>2</td>\n",
       "      <td>0.2</td>\n",
       "      <td>0.8</td>\n",
       "      <td>1</td>\n",
       "      <td>27972</td>\n",
       "      <td>27982</td>\n",
       "      <td>0.159847</td>\n",
       "      <td>5</td>\n",
       "    </tr>\n",
       "    <tr>\n",
       "      <th>335</th>\n",
       "      <td>1387.600</td>\n",
       "      <td>1.154</td>\n",
       "      <td>0.559</td>\n",
       "      <td>2</td>\n",
       "      <td>0.2</td>\n",
       "      <td>0.8</td>\n",
       "      <td>1</td>\n",
       "      <td>28070</td>\n",
       "      <td>28081</td>\n",
       "      <td>0.036679</td>\n",
       "      <td>5</td>\n",
       "    </tr>\n",
       "    <tr>\n",
       "      <th>336</th>\n",
       "      <td>1391.700</td>\n",
       "      <td>3.664</td>\n",
       "      <td>0.434</td>\n",
       "      <td>2</td>\n",
       "      <td>0.2</td>\n",
       "      <td>0.8</td>\n",
       "      <td>1</td>\n",
       "      <td>28154</td>\n",
       "      <td>28163</td>\n",
       "      <td>0.020739</td>\n",
       "      <td>5</td>\n",
       "    </tr>\n",
       "    <tr>\n",
       "      <th>338</th>\n",
       "      <td>1399.700</td>\n",
       "      <td>2.390</td>\n",
       "      <td>0.451</td>\n",
       "      <td>2</td>\n",
       "      <td>0.2</td>\n",
       "      <td>0.8</td>\n",
       "      <td>1</td>\n",
       "      <td>28314</td>\n",
       "      <td>28323</td>\n",
       "      <td>0.159737</td>\n",
       "      <td>5</td>\n",
       "    </tr>\n",
       "    <tr>\n",
       "      <th>339</th>\n",
       "      <td>1406.600</td>\n",
       "      <td>1.289</td>\n",
       "      <td>0.484</td>\n",
       "      <td>2</td>\n",
       "      <td>0.2</td>\n",
       "      <td>0.8</td>\n",
       "      <td>1</td>\n",
       "      <td>28450</td>\n",
       "      <td>28459</td>\n",
       "      <td>0.036663</td>\n",
       "      <td>5</td>\n",
       "    </tr>\n",
       "    <tr>\n",
       "      <th>340</th>\n",
       "      <td>1408.900</td>\n",
       "      <td>1.983</td>\n",
       "      <td>0.373</td>\n",
       "      <td>2</td>\n",
       "      <td>0.2</td>\n",
       "      <td>0.8</td>\n",
       "      <td>1</td>\n",
       "      <td>28499</td>\n",
       "      <td>28507</td>\n",
       "      <td>0.020737</td>\n",
       "      <td>5</td>\n",
       "    </tr>\n",
       "    <tr>\n",
       "      <th>341</th>\n",
       "      <td>1412.700</td>\n",
       "      <td>3.366</td>\n",
       "      <td>0.417</td>\n",
       "      <td>2</td>\n",
       "      <td>0.2</td>\n",
       "      <td>0.8</td>\n",
       "      <td>1</td>\n",
       "      <td>28574</td>\n",
       "      <td>28582</td>\n",
       "      <td>0.018936</td>\n",
       "      <td>5</td>\n",
       "    </tr>\n",
       "    <tr>\n",
       "      <th>342</th>\n",
       "      <td>1415.500</td>\n",
       "      <td>2.383</td>\n",
       "      <td>0.411</td>\n",
       "      <td>2</td>\n",
       "      <td>0.2</td>\n",
       "      <td>0.8</td>\n",
       "      <td>1</td>\n",
       "      <td>28630</td>\n",
       "      <td>28638</td>\n",
       "      <td>0.018735</td>\n",
       "      <td>5</td>\n",
       "    </tr>\n",
       "    <tr>\n",
       "      <th>343</th>\n",
       "      <td>1421.500</td>\n",
       "      <td>1.526</td>\n",
       "      <td>0.557</td>\n",
       "      <td>2</td>\n",
       "      <td>0.2</td>\n",
       "      <td>0.8</td>\n",
       "      <td>1</td>\n",
       "      <td>28748</td>\n",
       "      <td>28759</td>\n",
       "      <td>0.018713</td>\n",
       "      <td>5</td>\n",
       "    </tr>\n",
       "    <tr>\n",
       "      <th>344</th>\n",
       "      <td>1426.100</td>\n",
       "      <td>1.147</td>\n",
       "      <td>0.427</td>\n",
       "      <td>2</td>\n",
       "      <td>0.2</td>\n",
       "      <td>0.8</td>\n",
       "      <td>1</td>\n",
       "      <td>28842</td>\n",
       "      <td>28850</td>\n",
       "      <td>0.018711</td>\n",
       "      <td>5</td>\n",
       "    </tr>\n",
       "    <tr>\n",
       "      <th>346</th>\n",
       "      <td>1432.200</td>\n",
       "      <td>1.138</td>\n",
       "      <td>0.429</td>\n",
       "      <td>2</td>\n",
       "      <td>0.2</td>\n",
       "      <td>0.8</td>\n",
       "      <td>1</td>\n",
       "      <td>28964</td>\n",
       "      <td>28973</td>\n",
       "      <td>0.158253</td>\n",
       "      <td>5</td>\n",
       "    </tr>\n",
       "    <tr>\n",
       "      <th>349</th>\n",
       "      <td>1443.400</td>\n",
       "      <td>1.282</td>\n",
       "      <td>0.484</td>\n",
       "      <td>2</td>\n",
       "      <td>0.2</td>\n",
       "      <td>0.8</td>\n",
       "      <td>1</td>\n",
       "      <td>29187</td>\n",
       "      <td>29197</td>\n",
       "      <td>0.753062</td>\n",
       "      <td>5</td>\n",
       "    </tr>\n",
<<<<<<< HEAD
       "  </tbody>\n",
       "</table>\n",
       "</div>"
      ],
      "text/plain": [
       "    Owner    Session ID Mouse ID                 Date  Phase  Markov  \\\n",
       "802  shay  03102017_K13      K13  2017-03-10 00:00:00    2.0       0   \n",
       "\n",
       "     Left Reward Prob  Right Reward Prob  Block Range Min  Block Range Max  \\\n",
       "802               0.8                0.2             50.0             50.0   \n",
       "\n",
       "     No. Trials  No. Blocks  No. Rewards  p(high Port)  \\\n",
       "802       364.0         4.0        247.0          0.84   \n",
       "\n",
       "     Decision Window Duration  Min Inter-trial-interval  \\\n",
       "802                       2.0                       1.0   \n",
       "\n",
       "     Left Solenoid Duration  Right Solenoid Duration  \n",
       "802                    35.0                     35.0  "
      ]
     },
     "execution_count": 6,
     "metadata": {},
     "output_type": "execute_result"
    }
   ],
   "source": [
    "record[record['Session ID']==session_name]"
   ]
  },
  {
   "cell_type": "code",
   "execution_count": 7,
   "metadata": {},
   "outputs": [
    {
     "name": "stdout",
     "output_type": "stream",
     "text": [
      "right block proportion = 0.401098901099\n"
     ]
    },
    {
     "data": {
      "text/plain": [
       "[63, 72, 80, 74, 75]"
      ]
     },
     "execution_count": 7,
     "metadata": {},
     "output_type": "execute_result"
    }
   ],
   "source": [
    "reward_prob = 0.8\n",
    "blocks_right = np.sum(trial_df['Right Reward Prob']==reward_prob)/trial_df.shape[0] # check balance of blocks on each side\n",
    "print('right block proportion = %s' % blocks_right) # for 50 reward block structure I guess this isn't really necessary\n",
    "\n",
    "blocks = list(np.diff(np.concatenate((range(1),np.where(np.diff(trial_df['Right Reward Prob']) != 0)[0]))))\n",
    "blocks.append(int(record[record['Session ID']==session_name]['No. Trials'].values)\n",
    "             -np.where(np.diff(trial_df['Right Reward Prob']) != 0)[0][-1]) # length of the last block at end\n",
    "blocks"
   ]
  },
  {
   "cell_type": "markdown",
   "metadata": {},
   "source": [
    "### Add column for estimated by HMM using entire session as memory"
   ]
  },
  {
   "cell_type": "code",
   "execution_count": 8,
   "metadata": {
    "collapsed": true
   },
   "outputs": [],
   "source": [
    "beliefs = hob.predictBeliefBySession(record_path, session_name, mouse_id) # generate estimate of belief for each trial\n",
    "\n",
    "columns.append('Belief') # add column named belief to data frame\n",
    "trial_df['Belief'] = beliefs # insert estimated values of belief into this new column\n",
    "columns.append('Block ID')\n",
    "\n",
    "block_id = np.asarray([x+1 for x in range(int(record[record['Session ID']==session_name]['No. Blocks'].values[0])+1)\n",
    "            for y in range(blocks[x])])\n",
    "trial_df['Block ID'] = block_id"
   ]
  },
  {
   "cell_type": "code",
   "execution_count": 9,
   "metadata": {},
   "outputs": [
    {
     "data": {
      "text/html": [
       "<div>\n",
       "<style>\n",
       "    .dataframe thead tr:only-child th {\n",
       "        text-align: right;\n",
       "    }\n",
       "\n",
       "    .dataframe thead th {\n",
       "        text-align: left;\n",
       "    }\n",
       "\n",
       "    .dataframe tbody tr th {\n",
       "        vertical-align: top;\n",
       "    }\n",
       "</style>\n",
       "<table border=\"1\" class=\"dataframe\">\n",
       "  <thead>\n",
       "    <tr style=\"text-align: right;\">\n",
       "      <th></th>\n",
       "      <th>Elapsed Time (s)</th>\n",
       "      <th>Since last trial (s)</th>\n",
       "      <th>Trial Duration (s)</th>\n",
       "      <th>Port Poked</th>\n",
       "      <th>Right Reward Prob</th>\n",
       "      <th>Left Reward Prob</th>\n",
       "      <th>Reward Given</th>\n",
       "      <th>center_frame</th>\n",
       "      <th>decision_frame</th>\n",
       "      <th>Belief</th>\n",
       "      <th>Block ID</th>\n",
=======
       "    <tr>\n",
       "      <th>350</th>\n",
       "      <td>1448.000</td>\n",
       "      <td>4.123</td>\n",
       "      <td>0.390</td>\n",
       "      <td>2</td>\n",
       "      <td>0.2</td>\n",
       "      <td>0.8</td>\n",
       "      <td>1</td>\n",
       "      <td>29279</td>\n",
       "      <td>29287</td>\n",
       "      <td>0.261317</td>\n",
       "      <td>5</td>\n",
>>>>>>> 4a1bb0435b4e3cae3b929dc877d5657a48b79203
       "    </tr>\n",
       "    <tr>\n",
       "      <th>352</th>\n",
       "      <td>1453.700</td>\n",
       "      <td>1.229</td>\n",
       "      <td>0.548</td>\n",
       "      <td>2</td>\n",
       "      <td>0.2</td>\n",
       "      <td>0.8</td>\n",
       "      <td>1</td>\n",
       "      <td>29392</td>\n",
       "      <td>29403</td>\n",
       "      <td>0.341442</td>\n",
       "      <td>5</td>\n",
       "    </tr>\n",
       "    <tr>\n",
       "      <th>353</th>\n",
       "      <td>1457.900</td>\n",
       "      <td>3.729</td>\n",
       "      <td>0.464</td>\n",
       "      <td>2</td>\n",
       "      <td>0.2</td>\n",
       "      <td>0.8</td>\n",
       "      <td>1</td>\n",
       "      <td>29477</td>\n",
       "      <td>29486</td>\n",
       "      <td>0.069321</td>\n",
       "      <td>5</td>\n",
       "    </tr>\n",
       "    <tr>\n",
       "      <th>354</th>\n",
       "      <td>1466.600</td>\n",
       "      <td>2.151</td>\n",
       "      <td>0.494</td>\n",
       "      <td>1</td>\n",
       "      <td>0.2</td>\n",
       "      <td>0.8</td>\n",
       "      <td>1</td>\n",
       "      <td>29650</td>\n",
       "      <td>29659</td>\n",
       "      <td>0.024601</td>\n",
       "      <td>5</td>\n",
       "    </tr>\n",
       "    <tr>\n",
       "      <th>355</th>\n",
       "      <td>1469.000</td>\n",
       "      <td>1.959</td>\n",
       "      <td>0.438</td>\n",
       "      <td>1</td>\n",
       "      <td>0.2</td>\n",
       "      <td>0.8</td>\n",
       "      <td>1</td>\n",
       "      <td>29699</td>\n",
       "      <td>29707</td>\n",
       "      <td>0.195501</td>\n",
       "      <td>5</td>\n",
       "    </tr>\n",
       "    <tr>\n",
       "      <th>358</th>\n",
       "      <td>1476.300</td>\n",
       "      <td>1.811</td>\n",
       "      <td>0.764</td>\n",
       "      <td>2</td>\n",
       "      <td>0.2</td>\n",
       "      <td>0.8</td>\n",
       "      <td>1</td>\n",
       "      <td>29839</td>\n",
       "      <td>29855</td>\n",
       "      <td>0.043004</td>\n",
       "      <td>5</td>\n",
       "    </tr>\n",
       "    <tr>\n",
       "      <th>359</th>\n",
       "      <td>1481.300</td>\n",
       "      <td>4.496</td>\n",
       "      <td>0.502</td>\n",
       "      <td>2</td>\n",
       "      <td>0.2</td>\n",
       "      <td>0.8</td>\n",
       "      <td>1</td>\n",
       "      <td>29945</td>\n",
       "      <td>29955</td>\n",
       "      <td>0.021469</td>\n",
       "      <td>5</td>\n",
       "    </tr>\n",
       "    <tr>\n",
       "      <th>360</th>\n",
       "      <td>1484.000</td>\n",
       "      <td>2.262</td>\n",
       "      <td>0.429</td>\n",
       "      <td>2</td>\n",
       "      <td>0.2</td>\n",
       "      <td>0.8</td>\n",
       "      <td>1</td>\n",
       "      <td>30000</td>\n",
       "      <td>30008</td>\n",
       "      <td>0.019017</td>\n",
       "      <td>5</td>\n",
       "    </tr>\n",
       "    <tr>\n",
       "      <th>361</th>\n",
       "      <td>1487.800</td>\n",
       "      <td>3.307</td>\n",
       "      <td>0.465</td>\n",
       "      <td>2</td>\n",
       "      <td>0.2</td>\n",
       "      <td>0.8</td>\n",
       "      <td>1</td>\n",
       "      <td>30075</td>\n",
       "      <td>30084</td>\n",
       "      <td>0.018744</td>\n",
       "      <td>5</td>\n",
       "    </tr>\n",
       "  </tbody>\n",
       "</table>\n",
       "<p>247 rows × 11 columns</p>\n",
       "</div>"
      ],
      "text/plain": [
       "     Elapsed Time (s)  Since last trial (s)  Trial Duration (s)  Port Poked  \\\n",
       "0              51.422                14.676               0.710           2   \n",
       "2              60.597                 2.043               0.602           2   \n",
       "3              64.787                 3.770               0.420           2   \n",
       "4              67.547                 2.290               0.470           2   \n",
       "5              73.858                 2.600               0.418           2   \n",
       "6              76.222                 2.000               0.364           2   \n",
       "7              79.052                 2.129               0.701           2   \n",
       "9              83.136                 1.115               0.363           2   \n",
       "10             87.205                 3.567               0.502           2   \n",
       "11             94.394                 2.603               0.412           2   \n",
       "12             98.530                 1.176               0.433           2   \n",
       "13            101.520                 2.614               0.376           2   \n",
       "15            109.680                 3.689               0.478           2   \n",
       "16            112.630                 2.541               0.414           2   \n",
       "17            116.110                 2.925               0.552           2   \n",
       "18            119.010                 2.410               0.490           2   \n",
       "19            125.720                 1.498               0.430           2   \n",
       "20            137.850                 2.138               0.396           2   \n",
       "21            140.470                 2.029               0.600           2   \n",
       "23            160.720                10.318               0.868           2   \n",
       "24            163.640                 2.524               0.388           2   \n",
       "25            167.830                 3.807               0.387           2   \n",
       "26            170.640                 2.417               0.390           2   \n",
       "29            181.700                 2.663               0.503           2   \n",
       "31            191.070                 1.637               0.543           2   \n",
       "32            194.290                 2.783               0.441           2   \n",
       "34            199.410                 2.223               0.391           2   \n",
       "35            201.810                 1.938               0.462           2   \n",
       "36            209.840                 2.450               0.500           2   \n",
       "37            213.330                 2.870               0.627           2   \n",
       "..                ...                   ...                 ...         ...   \n",
       "320          1323.500                 4.153               0.520           2   \n",
       "321          1327.300                 3.230               0.537           2   \n",
       "322          1332.100                 1.558               0.514           2   \n",
       "324          1340.400                 2.819               0.503           2   \n",
       "325          1343.200                 2.250               0.469           2   \n",
       "326          1348.800                 2.063               0.478           2   \n",
       "328          1361.500                 1.475               0.465           1   \n",
       "331          1371.200                 1.289               0.894           2   \n",
       "332          1375.100                 1.170               0.436           2   \n",
       "334          1382.700                 2.195               0.479           2   \n",
       "335          1387.600                 1.154               0.559           2   \n",
       "336          1391.700                 3.664               0.434           2   \n",
       "338          1399.700                 2.390               0.451           2   \n",
       "339          1406.600                 1.289               0.484           2   \n",
       "340          1408.900                 1.983               0.373           2   \n",
       "341          1412.700                 3.366               0.417           2   \n",
       "342          1415.500                 2.383               0.411           2   \n",
       "343          1421.500                 1.526               0.557           2   \n",
       "344          1426.100                 1.147               0.427           2   \n",
       "346          1432.200                 1.138               0.429           2   \n",
       "349          1443.400                 1.282               0.484           2   \n",
       "350          1448.000                 4.123               0.390           2   \n",
       "352          1453.700                 1.229               0.548           2   \n",
       "353          1457.900                 3.729               0.464           2   \n",
       "354          1466.600                 2.151               0.494           1   \n",
       "355          1469.000                 1.959               0.438           1   \n",
       "358          1476.300                 1.811               0.764           2   \n",
       "359          1481.300                 4.496               0.502           2   \n",
       "360          1484.000                 2.262               0.429           2   \n",
       "361          1487.800                 3.307               0.465           2   \n",
       "\n",
       "     Right Reward Prob  Left Reward Prob  Reward Given  center_frame  \\\n",
       "0                  0.2               0.8             1          1349   \n",
       "2                  0.2               0.8             1          1535   \n",
       "3                  0.2               0.8             1          1622   \n",
       "4                  0.2               0.8             1          1677   \n",
       "5                  0.2               0.8             1          1804   \n",
       "6                  0.2               0.8             1          1852   \n",
       "7                  0.2               0.8             1          1902   \n",
       "9                  0.2               0.8             1          1991   \n",
       "10                 0.2               0.8             1          2069   \n",
       "11                 0.2               0.8             1          2215   \n",
       "12                 0.2               0.8             1          2297   \n",
       "13                 0.2               0.8             1          2358   \n",
       "15                 0.2               0.8             1          2519   \n",
       "16                 0.2               0.8             1          2579   \n",
       "17                 0.2               0.8             1          2646   \n",
       "18                 0.2               0.8             1          2705   \n",
       "19                 0.2               0.8             1          2841   \n",
       "20                 0.2               0.8             1          3084   \n",
       "21                 0.2               0.8             1          3132   \n",
       "23                 0.2               0.8             1          3532   \n",
       "24                 0.2               0.8             1          3599   \n",
       "25                 0.2               0.8             1          3683   \n",
       "26                 0.2               0.8             1          3739   \n",
       "29                 0.2               0.8             1          3959   \n",
       "31                 0.2               0.8             1          4145   \n",
       "32                 0.2               0.8             1          4212   \n",
       "34                 0.2               0.8             1          4314   \n",
       "35                 0.2               0.8             1          4361   \n",
       "36                 0.2               0.8             1          4521   \n",
       "37                 0.2               0.8             1          4588   \n",
       "..                 ...               ...           ...           ...   \n",
       "320                0.2               0.8             1         26789   \n",
       "321                0.2               0.8             1         26864   \n",
       "322                0.2               0.8             1         26960   \n",
       "324                0.2               0.8             1         27127   \n",
       "325                0.2               0.8             1         27182   \n",
       "326                0.2               0.8             1         27295   \n",
       "328                0.2               0.8             1         27549   \n",
       "331                0.2               0.8             1         27735   \n",
       "332                0.2               0.8             1         27822   \n",
       "334                0.2               0.8             1         27972   \n",
       "335                0.2               0.8             1         28070   \n",
       "336                0.2               0.8             1         28154   \n",
       "338                0.2               0.8             1         28314   \n",
       "339                0.2               0.8             1         28450   \n",
       "340                0.2               0.8             1         28499   \n",
       "341                0.2               0.8             1         28574   \n",
       "342                0.2               0.8             1         28630   \n",
       "343                0.2               0.8             1         28748   \n",
       "344                0.2               0.8             1         28842   \n",
       "346                0.2               0.8             1         28964   \n",
       "349                0.2               0.8             1         29187   \n",
       "350                0.2               0.8             1         29279   \n",
       "352                0.2               0.8             1         29392   \n",
       "353                0.2               0.8             1         29477   \n",
       "354                0.2               0.8             1         29650   \n",
       "355                0.2               0.8             1         29699   \n",
       "358                0.2               0.8             1         29839   \n",
       "359                0.2               0.8             1         29945   \n",
       "360                0.2               0.8             1         30000   \n",
       "361                0.2               0.8             1         30075   \n",
       "\n",
       "     decision_frame    Belief  Block ID  \n",
       "0              1364  0.500000         1  \n",
       "2              1547  0.030203         1  \n",
       "3              1631  0.020000         1  \n",
       "4              1686  0.018854         1  \n",
       "5              1812  0.018726         1  \n",
       "6              1859  0.018712         1  \n",
       "7              1916  0.018710         1  \n",
       "9              1998  0.158253         1  \n",
       "10             2079  0.036447         1  \n",
       "11             2222  0.020712         1  \n",
       "12             2306  0.018933         1  \n",
       "13             2365  0.018735         1  \n",
       "15             2528  0.158271         1  \n",
       "16             2588  0.036449         1  \n",
       "17             2657  0.020713         1  \n",
       "18             2715  0.018933         1  \n",
       "19             2849  0.018735         1  \n",
       "20             3092  0.018713         1  \n",
       "21             3144  0.018711         1  \n",
       "23             3549  0.158253         1  \n",
       "24             3608  0.036447         1  \n",
       "25             3691  0.020712         1  \n",
       "26             3747  0.018933         1  \n",
       "29             3969  0.624527         1  \n",
       "31             4155  0.639346         1  \n",
       "32             4220  0.175739         1  \n",
       "34             4323  0.275466         1  \n",
       "35             4370  0.055848         1  \n",
       "36             4531  0.022978         1  \n",
       "37             4601  0.019186         1  \n",
       "..              ...       ...       ...  \n",
       "320           26799  0.584806         5  \n",
       "321           26875  0.147479         5  \n",
       "322           26970  0.034897         5  \n",
       "324           27137  0.170112         5  \n",
       "325           27192  0.038193         5  \n",
       "326           27305  0.020913         5  \n",
       "328           27558  0.159864         5  \n",
       "331           27753  0.037995         5  \n",
       "332           27831  0.020890         5  \n",
       "334           27982  0.159847         5  \n",
       "335           28081  0.036679         5  \n",
       "336           28163  0.020739         5  \n",
       "338           28323  0.159737         5  \n",
       "339           28459  0.036663         5  \n",
       "340           28507  0.020737         5  \n",
       "341           28582  0.018936         5  \n",
       "342           28638  0.018735         5  \n",
       "343           28759  0.018713         5  \n",
       "344           28850  0.018711         5  \n",
       "346           28973  0.158253         5  \n",
       "349           29197  0.753062         5  \n",
       "350           29287  0.261317         5  \n",
       "352           29403  0.341442         5  \n",
       "353           29486  0.069321         5  \n",
       "354           29659  0.024601         5  \n",
       "355           29707  0.195501         5  \n",
       "358           29855  0.043004         5  \n",
       "359           29955  0.021469         5  \n",
       "360           30008  0.019017         5  \n",
       "361           30084  0.018744         5  \n",
       "\n",
       "[247 rows x 11 columns]"
      ]
     },
<<<<<<< HEAD
     "execution_count": 9,
=======
     "execution_count": 95,
>>>>>>> 4a1bb0435b4e3cae3b929dc877d5657a48b79203
     "metadata": {},
     "output_type": "execute_result"
    }
   ],
   "source": [
    "trial_df[trial_df['Reward Given']==1]"
   ]
  },
  {
   "cell_type": "markdown",
   "metadata": {},
   "source": [
    "# convert to feature matrix\n",
    "### Add column for beliefs using past (n) trials as memory (n <= 10)"
   ]
  },
  {
   "cell_type": "code",
<<<<<<< HEAD
   "execution_count": 10,
=======
   "execution_count": 9,
>>>>>>> 4a1bb0435b4e3cae3b929dc877d5657a48b79203
   "metadata": {
    "collapsed": true
   },
   "outputs": [],
   "source": [
    "feature_matrix = bp.create_feature_matrix(trial_df,10,mouse_id,session_name,feature_names='Default',imaging=True)\n",
    "\n",
    "beliefs_feat_mat = hob.predictBeliefFeatureMat(feature_matrix, 10) # generate estimates of belief based on feature matrix format\n",
    "\n",
    "feature_matrix['Belief'] = beliefs_feat_mat # insert estimated values into new column of original feature matrix"
   ]
  },
  {
   "cell_type": "code",
<<<<<<< HEAD
   "execution_count": 11,
=======
   "execution_count": 10,
>>>>>>> 4a1bb0435b4e3cae3b929dc877d5657a48b79203
   "metadata": {},
   "outputs": [
    {
     "data": {
      "text/html": [
       "<div>\n",
       "<style>\n",
       "    .dataframe thead tr:only-child th {\n",
       "        text-align: right;\n",
       "    }\n",
       "\n",
       "    .dataframe thead th {\n",
       "        text-align: left;\n",
       "    }\n",
       "\n",
       "    .dataframe tbody tr th {\n",
       "        vertical-align: top;\n",
       "    }\n",
       "</style>\n",
       "<table border=\"1\" class=\"dataframe\">\n",
       "  <thead>\n",
       "    <tr style=\"text-align: right;\">\n",
       "      <th></th>\n",
       "      <th>Port Streak</th>\n",
       "      <th>Decision</th>\n",
       "      <th>Switch</th>\n",
       "      <th>Reward</th>\n",
       "      <th>Belief</th>\n",
       "    </tr>\n",
       "  </thead>\n",
       "  <tbody>\n",
       "    <tr>\n",
       "      <th>0</th>\n",
       "      <td>8.0</td>\n",
       "      <td>1.0</td>\n",
       "      <td>0.0</td>\n",
       "      <td>1.0</td>\n",
       "      <td>0.036447</td>\n",
       "    </tr>\n",
       "    <tr>\n",
       "      <th>1</th>\n",
       "      <td>9.0</td>\n",
       "      <td>1.0</td>\n",
       "      <td>0.0</td>\n",
       "      <td>1.0</td>\n",
       "      <td>0.020712</td>\n",
       "    </tr>\n",
       "    <tr>\n",
       "      <th>2</th>\n",
       "      <td>10.0</td>\n",
       "      <td>1.0</td>\n",
       "      <td>0.0</td>\n",
       "      <td>1.0</td>\n",
       "      <td>0.018933</td>\n",
       "    </tr>\n",
       "    <tr>\n",
       "      <th>3</th>\n",
       "      <td>11.0</td>\n",
       "      <td>1.0</td>\n",
       "      <td>0.0</td>\n",
       "      <td>1.0</td>\n",
       "      <td>0.018735</td>\n",
       "    </tr>\n",
       "    <tr>\n",
       "      <th>4</th>\n",
       "      <td>12.0</td>\n",
       "      <td>1.0</td>\n",
       "      <td>0.0</td>\n",
       "      <td>0.0</td>\n",
       "      <td>0.018713</td>\n",
       "    </tr>\n",
       "  </tbody>\n",
       "</table>\n",
       "</div>"
      ],
      "text/plain": [
       "   Port Streak  Decision  Switch  Reward    Belief\n",
       "0          8.0       1.0     0.0     1.0  0.036447\n",
       "1          9.0       1.0     0.0     1.0  0.020712\n",
       "2         10.0       1.0     0.0     1.0  0.018933\n",
       "3         11.0       1.0     0.0     1.0  0.018735\n",
       "4         12.0       1.0     0.0     0.0  0.018713"
      ]
     },
<<<<<<< HEAD
     "execution_count": 11,
=======
     "execution_count": 10,
>>>>>>> 4a1bb0435b4e3cae3b929dc877d5657a48b79203
     "metadata": {},
     "output_type": "execute_result"
    }
   ],
   "source": [
    "feature_matrix[['Port Streak','Decision','Switch', 'Reward', 'Belief']].head(5) # look at only a few columns"
   ]
  },
  {
   "cell_type": "code",
<<<<<<< HEAD
   "execution_count": 12,
=======
   "execution_count": 11,
>>>>>>> 4a1bb0435b4e3cae3b929dc877d5657a48b79203
   "metadata": {},
   "outputs": [
    {
     "data": {
      "text/html": [
       "<div>\n",
       "<style>\n",
       "    .dataframe thead tr:only-child th {\n",
       "        text-align: right;\n",
       "    }\n",
       "\n",
       "    .dataframe thead th {\n",
       "        text-align: left;\n",
       "    }\n",
       "\n",
       "    .dataframe tbody tr th {\n",
       "        vertical-align: top;\n",
       "    }\n",
       "</style>\n",
       "<table border=\"1\" class=\"dataframe\">\n",
       "  <thead>\n",
       "    <tr style=\"text-align: right;\">\n",
       "      <th></th>\n",
       "      <th>Mouse ID</th>\n",
       "      <th>Session ID</th>\n",
       "      <th>Trial</th>\n",
       "      <th>Block Trial</th>\n",
       "      <th>Block Reward</th>\n",
       "      <th>Port Streak</th>\n",
       "      <th>Reward Streak</th>\n",
       "      <th>10_Port</th>\n",
       "      <th>10_Reward</th>\n",
       "      <th>10_ITI</th>\n",
       "      <th>...</th>\n",
       "      <th>1_trialDuration</th>\n",
       "      <th>0_ITI</th>\n",
       "      <th>0_trialDuration</th>\n",
       "      <th>Decision</th>\n",
       "      <th>Switch</th>\n",
       "      <th>Higher p port</th>\n",
       "      <th>Reward</th>\n",
       "      <th>center_frame</th>\n",
       "      <th>decision_frame</th>\n",
       "      <th>Belief</th>\n",
       "    </tr>\n",
       "  </thead>\n",
       "  <tbody>\n",
       "    <tr>\n",
       "      <th>0</th>\n",
       "      <td>k13</td>\n",
       "      <td>03102017_K13</td>\n",
       "      <td>11.0</td>\n",
       "      <td>11.0</td>\n",
       "      <td>8.0</td>\n",
       "      <td>8.0</td>\n",
       "      <td>1.0</td>\n",
       "      <td>1.0</td>\n",
       "      <td>1.0</td>\n",
       "      <td>14.676</td>\n",
       "      <td>...</td>\n",
       "      <td>0.363</td>\n",
       "      <td>3.567</td>\n",
       "      <td>0.502</td>\n",
       "      <td>1.0</td>\n",
       "      <td>0.0</td>\n",
       "      <td>1.0</td>\n",
       "      <td>1.0</td>\n",
       "      <td>2069.0</td>\n",
       "      <td>2079.0</td>\n",
       "      <td>0.036447</td>\n",
       "    </tr>\n",
       "    <tr>\n",
       "      <th>1</th>\n",
       "      <td>k13</td>\n",
       "      <td>03102017_K13</td>\n",
       "      <td>12.0</td>\n",
       "      <td>12.0</td>\n",
       "      <td>9.0</td>\n",
       "      <td>9.0</td>\n",
       "      <td>2.0</td>\n",
       "      <td>0.0</td>\n",
       "      <td>0.0</td>\n",
       "      <td>1.736</td>\n",
       "      <td>...</td>\n",
       "      <td>0.502</td>\n",
       "      <td>2.603</td>\n",
       "      <td>0.412</td>\n",
       "      <td>1.0</td>\n",
       "      <td>0.0</td>\n",
       "      <td>1.0</td>\n",
       "      <td>1.0</td>\n",
       "      <td>2215.0</td>\n",
       "      <td>2222.0</td>\n",
       "      <td>0.020712</td>\n",
       "    </tr>\n",
       "    <tr>\n",
       "      <th>2</th>\n",
       "      <td>k13</td>\n",
       "      <td>03102017_K13</td>\n",
       "      <td>13.0</td>\n",
       "      <td>13.0</td>\n",
       "      <td>10.0</td>\n",
       "      <td>10.0</td>\n",
       "      <td>3.0</td>\n",
       "      <td>1.0</td>\n",
       "      <td>1.0</td>\n",
       "      <td>2.043</td>\n",
       "      <td>...</td>\n",
       "      <td>0.412</td>\n",
       "      <td>1.176</td>\n",
       "      <td>0.433</td>\n",
       "      <td>1.0</td>\n",
       "      <td>0.0</td>\n",
       "      <td>1.0</td>\n",
       "      <td>1.0</td>\n",
       "      <td>2297.0</td>\n",
       "      <td>2306.0</td>\n",
       "      <td>0.018933</td>\n",
       "    </tr>\n",
       "    <tr>\n",
       "      <th>3</th>\n",
       "      <td>k13</td>\n",
       "      <td>03102017_K13</td>\n",
       "      <td>14.0</td>\n",
       "      <td>14.0</td>\n",
       "      <td>11.0</td>\n",
       "      <td>11.0</td>\n",
       "      <td>4.0</td>\n",
       "      <td>1.0</td>\n",
       "      <td>1.0</td>\n",
       "      <td>3.770</td>\n",
       "      <td>...</td>\n",
       "      <td>0.433</td>\n",
       "      <td>2.614</td>\n",
       "      <td>0.376</td>\n",
       "      <td>1.0</td>\n",
       "      <td>0.0</td>\n",
       "      <td>1.0</td>\n",
       "      <td>1.0</td>\n",
       "      <td>2358.0</td>\n",
       "      <td>2365.0</td>\n",
       "      <td>0.018735</td>\n",
       "    </tr>\n",
       "    <tr>\n",
       "      <th>4</th>\n",
       "      <td>k13</td>\n",
       "      <td>03102017_K13</td>\n",
       "      <td>15.0</td>\n",
       "      <td>15.0</td>\n",
       "      <td>12.0</td>\n",
       "      <td>12.0</td>\n",
       "      <td>5.0</td>\n",
       "      <td>1.0</td>\n",
       "      <td>1.0</td>\n",
       "      <td>2.290</td>\n",
       "      <td>...</td>\n",
       "      <td>0.376</td>\n",
       "      <td>2.141</td>\n",
       "      <td>0.432</td>\n",
       "      <td>1.0</td>\n",
       "      <td>0.0</td>\n",
       "      <td>1.0</td>\n",
       "      <td>0.0</td>\n",
       "      <td>2408.0</td>\n",
       "      <td>2417.0</td>\n",
       "      <td>0.018713</td>\n",
       "    </tr>\n",
       "    <tr>\n",
       "      <th>5</th>\n",
       "      <td>k13</td>\n",
       "      <td>03102017_K13</td>\n",
       "      <td>16.0</td>\n",
       "      <td>16.0</td>\n",
       "      <td>12.0</td>\n",
       "      <td>13.0</td>\n",
       "      <td>-1.0</td>\n",
       "      <td>1.0</td>\n",
       "      <td>1.0</td>\n",
       "      <td>2.600</td>\n",
       "      <td>...</td>\n",
       "      <td>0.432</td>\n",
       "      <td>3.689</td>\n",
       "      <td>0.478</td>\n",
       "      <td>1.0</td>\n",
       "      <td>0.0</td>\n",
       "      <td>1.0</td>\n",
       "      <td>1.0</td>\n",
       "      <td>2519.0</td>\n",
       "      <td>2528.0</td>\n",
       "      <td>0.158272</td>\n",
       "    </tr>\n",
       "    <tr>\n",
       "      <th>6</th>\n",
       "      <td>k13</td>\n",
       "      <td>03102017_K13</td>\n",
       "      <td>17.0</td>\n",
       "      <td>17.0</td>\n",
       "      <td>13.0</td>\n",
       "      <td>14.0</td>\n",
       "      <td>1.0</td>\n",
       "      <td>1.0</td>\n",
       "      <td>1.0</td>\n",
       "      <td>2.000</td>\n",
       "      <td>...</td>\n",
       "      <td>0.478</td>\n",
       "      <td>2.541</td>\n",
       "      <td>0.414</td>\n",
       "      <td>1.0</td>\n",
       "      <td>0.0</td>\n",
       "      <td>1.0</td>\n",
       "      <td>1.0</td>\n",
       "      <td>2579.0</td>\n",
       "      <td>2588.0</td>\n",
       "      <td>0.036451</td>\n",
       "    </tr>\n",
       "    <tr>\n",
       "      <th>7</th>\n",
       "      <td>k13</td>\n",
       "      <td>03102017_K13</td>\n",
       "      <td>18.0</td>\n",
       "      <td>18.0</td>\n",
       "      <td>14.0</td>\n",
       "      <td>15.0</td>\n",
       "      <td>2.0</td>\n",
       "      <td>1.0</td>\n",
       "      <td>1.0</td>\n",
       "      <td>2.129</td>\n",
       "      <td>...</td>\n",
       "      <td>0.414</td>\n",
       "      <td>2.925</td>\n",
       "      <td>0.552</td>\n",
       "      <td>1.0</td>\n",
       "      <td>0.0</td>\n",
       "      <td>1.0</td>\n",
       "      <td>1.0</td>\n",
       "      <td>2646.0</td>\n",
       "      <td>2657.0</td>\n",
       "      <td>0.020714</td>\n",
       "    </tr>\n",
       "    <tr>\n",
       "      <th>8</th>\n",
       "      <td>k13</td>\n",
       "      <td>03102017_K13</td>\n",
       "      <td>19.0</td>\n",
       "      <td>19.0</td>\n",
       "      <td>15.0</td>\n",
       "      <td>16.0</td>\n",
       "      <td>3.0</td>\n",
       "      <td>1.0</td>\n",
       "      <td>0.0</td>\n",
       "      <td>2.089</td>\n",
       "      <td>...</td>\n",
       "      <td>0.552</td>\n",
       "      <td>2.410</td>\n",
       "      <td>0.490</td>\n",
       "      <td>1.0</td>\n",
       "      <td>0.0</td>\n",
       "      <td>1.0</td>\n",
       "      <td>1.0</td>\n",
       "      <td>2705.0</td>\n",
       "      <td>2715.0</td>\n",
       "      <td>0.018935</td>\n",
       "    </tr>\n",
       "    <tr>\n",
       "      <th>9</th>\n",
       "      <td>k13</td>\n",
       "      <td>03102017_K13</td>\n",
       "      <td>20.0</td>\n",
       "      <td>20.0</td>\n",
       "      <td>16.0</td>\n",
       "      <td>17.0</td>\n",
       "      <td>4.0</td>\n",
       "      <td>1.0</td>\n",
       "      <td>1.0</td>\n",
       "      <td>1.115</td>\n",
       "      <td>...</td>\n",
       "      <td>0.490</td>\n",
       "      <td>1.498</td>\n",
       "      <td>0.430</td>\n",
       "      <td>1.0</td>\n",
       "      <td>0.0</td>\n",
       "      <td>1.0</td>\n",
       "      <td>1.0</td>\n",
       "      <td>2841.0</td>\n",
       "      <td>2849.0</td>\n",
       "      <td>0.018735</td>\n",
       "    </tr>\n",
       "  </tbody>\n",
       "</table>\n",
       "<p>10 rows × 56 columns</p>\n",
       "</div>"
      ],
      "text/plain": [
       "  Mouse ID    Session ID  Trial  Block Trial  Block Reward  Port Streak  \\\n",
       "0      k13  03102017_K13   11.0         11.0           8.0          8.0   \n",
       "1      k13  03102017_K13   12.0         12.0           9.0          9.0   \n",
       "2      k13  03102017_K13   13.0         13.0          10.0         10.0   \n",
       "3      k13  03102017_K13   14.0         14.0          11.0         11.0   \n",
       "4      k13  03102017_K13   15.0         15.0          12.0         12.0   \n",
       "5      k13  03102017_K13   16.0         16.0          12.0         13.0   \n",
       "6      k13  03102017_K13   17.0         17.0          13.0         14.0   \n",
       "7      k13  03102017_K13   18.0         18.0          14.0         15.0   \n",
       "8      k13  03102017_K13   19.0         19.0          15.0         16.0   \n",
       "9      k13  03102017_K13   20.0         20.0          16.0         17.0   \n",
       "\n",
       "   Reward Streak  10_Port  10_Reward  10_ITI    ...     1_trialDuration  \\\n",
       "0            1.0      1.0        1.0  14.676    ...               0.363   \n",
       "1            2.0      0.0        0.0   1.736    ...               0.502   \n",
       "2            3.0      1.0        1.0   2.043    ...               0.412   \n",
       "3            4.0      1.0        1.0   3.770    ...               0.433   \n",
       "4            5.0      1.0        1.0   2.290    ...               0.376   \n",
       "5           -1.0      1.0        1.0   2.600    ...               0.432   \n",
       "6            1.0      1.0        1.0   2.000    ...               0.478   \n",
       "7            2.0      1.0        1.0   2.129    ...               0.414   \n",
       "8            3.0      1.0        0.0   2.089    ...               0.552   \n",
       "9            4.0      1.0        1.0   1.115    ...               0.490   \n",
       "\n",
       "   0_ITI  0_trialDuration  Decision  Switch  Higher p port  Reward  \\\n",
       "0  3.567            0.502       1.0     0.0            1.0     1.0   \n",
       "1  2.603            0.412       1.0     0.0            1.0     1.0   \n",
       "2  1.176            0.433       1.0     0.0            1.0     1.0   \n",
       "3  2.614            0.376       1.0     0.0            1.0     1.0   \n",
       "4  2.141            0.432       1.0     0.0            1.0     0.0   \n",
       "5  3.689            0.478       1.0     0.0            1.0     1.0   \n",
       "6  2.541            0.414       1.0     0.0            1.0     1.0   \n",
       "7  2.925            0.552       1.0     0.0            1.0     1.0   \n",
       "8  2.410            0.490       1.0     0.0            1.0     1.0   \n",
       "9  1.498            0.430       1.0     0.0            1.0     1.0   \n",
       "\n",
       "   center_frame  decision_frame    Belief  \n",
       "0        2069.0          2079.0  0.036447  \n",
       "1        2215.0          2222.0  0.020712  \n",
       "2        2297.0          2306.0  0.018933  \n",
       "3        2358.0          2365.0  0.018735  \n",
       "4        2408.0          2417.0  0.018713  \n",
       "5        2519.0          2528.0  0.158272  \n",
       "6        2579.0          2588.0  0.036451  \n",
       "7        2646.0          2657.0  0.020714  \n",
       "8        2705.0          2715.0  0.018935  \n",
       "9        2841.0          2849.0  0.018735  \n",
       "\n",
       "[10 rows x 56 columns]"
      ]
     },
<<<<<<< HEAD
     "execution_count": 12,
=======
     "execution_count": 11,
>>>>>>> 4a1bb0435b4e3cae3b929dc877d5657a48b79203
     "metadata": {},
     "output_type": "execute_result"
    }
   ],
   "source": [
    "feature_matrix.head(10)"
   ]
  },
  {
   "cell_type": "markdown",
   "metadata": {},
   "source": [
    "plt.plot(trial_df['Belief']) # plot the value of belief in blue across all trials (using prediction with full history)\n",
    "plt.plot(trial_df['Right Reward Prob'])\n",
    "\n",
    "#plt.plot(feature_matrix[feature_matrix['Reward']==1]['Trial'], feature_matrix[feature_matrix['Reward']==1]['Belief'], alpha=0.5) # using only 10 deep for history\n",
    "#plt.scatter(feature_matrix[feature_matrix['Reward']==1]['Trial'],temp[:,1,0], alpha=0.3)\n",
    "\n",
    "'''\n",
    "Greedy model?\n",
    "'''\n",
    "\n",
    "#compare predicted number of rewards with total number of rewards, and then break down for each block\n",
    "count=0\n",
    "for i in range(trial_df.shape[0]):\n",
    "    if (trial_df['Belief'][i] > 0.5) & (trial_df['Right Reward Prob'][i] >= 0.7):# if belief is toward the right port and right port has higher prob\n",
    "        count+=0.9\n",
    "    elif (trial_df['Belief'][i] < 0.5) & (trial_df['Left Reward Prob'][i] >=0.7): # same for left port\n",
    "        count+=0.9\n",
    "print('Greedy predicted reward count =', count)\n",
    "print('proportion actual =', record[record['Session ID']==session_name]['No. Rewards'].values[0]/count)\n",
    "#plt.scatter(temp[:,0,0], feature_matrix[feature_matrix['Reward']==1]['Belief'])\n",
    "#temp = aligned_start.sum(axis=1)\n",
    "\n",
    "'''\n",
    "Thompson sampling?\n",
    "'''\n",
    "\n",
    "#compare predicted number of rewards with total number of rewards, and then break down for each block\n",
    "count=0\n",
    "for i in range(trial_df.shape[0]):\n",
    "    if (trial_df['Belief'][i] > 0.5) & (trial_df['Right Reward Prob'][i] >= 0.7):# if belief is toward the right port and right port has higher prob\n",
    "        if np.random.rand(1) >0.1:\n",
    "            count+=0.9\n",
    "    elif (trial_df['Belief'][i] < 0.5) & (trial_df['Left Reward Prob'][i] >=0.7): # same for left port\n",
    "        if np.random.rand(1) > 0.1:\n",
    "            count+=0.9\n",
    "print('Thompson predicted reward count =', count)\n",
    "print('proportional actual =', record[record['Session ID']==session_name]['No. Rewards'].values[0]/count)\n",
    "print('max rewards = ', record[record['Session ID']==session_name]['No. Trials'].values[0]*0.9)\n",
    "#plt.scatter(temp[:,0,0], feature_matrix[feature_matrix['Reward']==1]['Belief'])\n",
    "#temp = aligned_start.sum(axis=1)\n"
   ]
  },
  {
   "cell_type": "markdown",
   "metadata": {},
   "source": [
    "### Set the parameters to input into extract_frames function\n",
    "    Decision: 0=Right, 1=Left\n",
    "    Reward: 0=unrewarded, 1=rewarded\n",
    "    Switch: 0=last trial at same port, 1=last trial at different port-->switched\n",
    "    Belief: 0-1 value where 0 represents right port and 1 represents left port"
   ]
  },
  {
   "cell_type": "code",
<<<<<<< HEAD
   "execution_count": 13,
   "metadata": {
    "collapsed": true
   },
=======
   "execution_count": 54,
   "metadata": {},
>>>>>>> 4a1bb0435b4e3cae3b929dc877d5657a48b79203
   "outputs": [],
   "source": [
    "cond1_name = 'Decision'; cond1_id=[0,1]\n",
    "cond1_ops = '=='\n",
    "\n",
    "cond2_name = 'Decision'; cond2_id=[0,1]\n",
    "\n",
    "cond3_name = 'Reward'; cond3_id=[0,1]\n",
    "\n",
    "conditions = [cond1_name, cond2_name, cond3_name]\n",
    "n_variables = 1 # value between 1 and 3 to run the corresponding number of conditions through the rest of the notebook\n",
    "extension = 30 # number of frames included before center poke and after decision poke to set size of window\n",
    "combo_id = list(itertools.product([0, 1], repeat=n_variables)) # list of all combinations of binary conditions\n",
    "n_combos = len(combo_id) # total number of combinations of conditions\n",
    "\n",
    "if 'cond1_ops' in vars():\n",
    "    cond1_ops_b='=' # make sure the alternative operation fits with its partner \n",
    "    if cond1_ops != '=':\n",
    "        if cond1_ops == '>':\n",
    "            cond1_ops_b = '<='\n",
    "            print(cond1_ops_b)\n",
    "        elif cond1_ops == '>=':\n",
    "            cond1_ops_b = '<'\n",
    "            print(cond1_ops_b)"
   ]
  },
  {
   "cell_type": "markdown",
   "metadata": {},
   "source": [
    "### Extract the frames for the specified conditions and create arrays containing frames for beginning and end of window of interest\n",
    "\n",
    "    Set the value of 'extension' to the # of frames added before the center poke and after the decision poke\n",
    "    fr_1x2x3x = center poke, decision poke frame #s for all trials with the corresponding conditions.\n",
    "\n",
    "    At the moment this is not set up in the most efficient way...the extract_frames function operates by calling all 3 variables (i.e. Switch, Reward) across both conditions (a=0, b=1) to generate the maximum number of combinations (8 for 3 variables). If the number of variables is less than 3, it will later use the 'groupings_x' variables to concatenate these arrays into the appropriate final arrays (for example, to go from 3 variables to 2, all beginning with 1a2a get combined)"
   ]
  },
  {
   "cell_type": "code",
<<<<<<< HEAD
   "execution_count": 14,
=======
   "execution_count": 55,
>>>>>>> 4a1bb0435b4e3cae3b929dc877d5657a48b79203
   "metadata": {
    "collapsed": true
   },
   "outputs": [],
   "source": [
    "# if this needs to work with Belief values, then set combo_id[i][#] as index value into cond_id"
   ]
  },
  {
   "cell_type": "code",
<<<<<<< HEAD
   "execution_count": 15,
=======
   "execution_count": 56,
>>>>>>> 4a1bb0435b4e3cae3b929dc877d5657a48b79203
   "metadata": {
    "collapsed": true
   },
   "outputs": [],
   "source": [
    "poke_frames = {} # initialize an empty dictionary to store center and decision poke frames for each combination of conditions\n",
    "for i in range(0,n_combos):\n",
    "    if n_variables==3: # based on number of variables specified\n",
    "        iCombo_key= \"f%s%s%s\" % (combo_id[i][0], combo_id[i][1], combo_id[i][2]) # set key name based on comboID\n",
    "        iCombo_value = hf.extract_frames(feature_matrix, cond1_name, combo_id[i][0], cond2_name, \n",
    "                                         combo_id[i][1], cond3_name, combo_id[i][2], cond1_ops=cond1_ops)\n",
    "        temp_dict = {iCombo_key:iCombo_value} # create new key-value pair with comboID and corresponding frames\n",
    "        poke_frames.update(temp_dict) # add new values to dictionary of center and decision poke frames\n",
    "    if n_variables==2:\n",
    "        iCombo_key= \"f%s%s\" % (combo_id[i][0], combo_id[i][1])\n",
    "        iCombo_value = hf.extract_frames(feature_matrix, cond1_name, combo_id[i][0], cond2_name, \n",
    "                                         combo_id[i][1], cond1_ops=cond1_ops)\n",
    "        temp_dict = {iCombo_key:iCombo_value}\n",
    "        poke_frames.update(temp_dict)\n",
    "    if n_variables==1:\n",
    "        iCombo_key= \"f%s\" %(combo_id[i][0])\n",
    "        iCombo_value = hf.extract_frames(feature_matrix, cond1_name, combo_id[i][0], cond1_ops=cond1_ops)\n",
    "        temp_dict = {iCombo_key:iCombo_value}\n",
    "        poke_frames.update(temp_dict)\n",
    "    \n",
    "poke_frames_keys = list(poke_frames.keys())"
   ]
  },
  {
   "cell_type": "markdown",
   "metadata": {},
   "source": [
    "### Create a dictionary referencing every array of start/stop frames\n",
    "    Start-stop_frames = frame starting however long the extension value was before the center poke frame, and frame that long after the decision poke\n",
    "    Dictionary is designed to construct each array based on the number of variables (conditions) specified in the beginning...this is where the groupings variables are used to condense arrays for fewer conditions."
   ]
  },
  {
   "cell_type": "code",
<<<<<<< HEAD
   "execution_count": 16,
=======
   "execution_count": 57,
>>>>>>> 4a1bb0435b4e3cae3b929dc877d5657a48b79203
   "metadata": {
    "collapsed": true
   },
   "outputs": [],
   "source": [
    "for i in poke_frames: # create full window based on number of frames in 'extension' variable\n",
    "    poke_frames[i][:,0] = poke_frames[i][:,0] - extension\n",
    "    poke_frames[i][:,1] = poke_frames[i][:,1] + extension"
   ]
  },
  {
   "cell_type": "markdown",
   "metadata": {},
   "source": [
    "### Set up some other parameters to be used in the rest of the script\n",
    "    detectEvents() returns binary matrix of 0s and 1s representing frames where events occurred. Replace raw trace file with this processed file and apply a Gaussian filter over events.\n",
    "    \n",
    "    --nNeurons = number of neurons output by CNMF-e\n",
    "        Redefined as number of neurons after some initial processing:\n",
    "\n",
    "    Working on a function to combine the above with previous execution of this script on the raw trace file using a flag for 'events'. Once that's complete, will need to add back in NaN cleansing (this is already incorporated into the detectEvents() function). The following arrays will then be used.\n",
    "    \n",
    "    --nan_neurons = any neurons containing NaNs in their calcium traces\n",
    "    --good_neurons = neurons not containing NaNs -- used to redefine nNeurons"
   ]
  },
  {
   "cell_type": "code",
<<<<<<< HEAD
   "execution_count": null,
   "metadata": {},
   "outputs": [],
   "source": []
  },
  {
   "cell_type": "code",
   "execution_count": 17,
   "metadata": {},
=======
   "execution_count": 58,
   "metadata": {
    "collapsed": true
   },
>>>>>>> 4a1bb0435b4e3cae3b929dc877d5657a48b79203
   "outputs": [],
   "source": [
    "events = cc.detectEvents(neuron.C_raw)\n",
    "\n",
    "neuron.C_events = np.copy(events)\n",
    "nNeurons = neuron.C_raw.shape[0]\n",
    "nFrames = neuron.C_raw.shape[1]\n",
    "\n",
    "#Create Gaussian filter and apply to raw trace\n",
    "sigma = 3;\n",
    "sz = 10; # total width \n",
    "\n",
    "x = np.linspace(-sz / 2, sz / 2, sz);\n",
    "gaussFilter = np.exp(-x**2 / (2*sigma**2));\n",
    "gaussFilter = gaussFilter / np.sum(gaussFilter);\n",
    "\n",
    "smoothed = np.zeros((nNeurons, neuron.C_events.shape[1]+sz-1));\n",
    "\n",
    "for i in range(0, nNeurons):\n",
    "    smoothed[i,:] = np.convolve(neuron.C_events[i,:], gaussFilter);\n",
    "    \n",
    "neuron.C_events = smoothed[:,0:nFrames]"
   ]
  },
  {
   "cell_type": "code",
<<<<<<< HEAD
   "execution_count": 18,
=======
   "execution_count": 59,
>>>>>>> 4a1bb0435b4e3cae3b929dc877d5657a48b79203
   "metadata": {},
   "outputs": [
    {
     "data": {
      "text/plain": [
<<<<<<< HEAD
       "<matplotlib.figure.Figure at 0x115193400>"
=======
       "(42, 30177)"
>>>>>>> 4a1bb0435b4e3cae3b929dc877d5657a48b79203
      ]
     },
     "execution_count": 59,
     "metadata": {},
     "output_type": "execute_result"
    }
   ],
   "source": [
    "neuron.C_raw.shape"
   ]
  },
  {
   "cell_type": "code",
   "execution_count": 60,
   "metadata": {
    "collapsed": true
   },
   "outputs": [],
   "source": [
    "photometry=np.sum(neuron.C_raw, axis=0)"
   ]
  },
  {
   "cell_type": "code",
<<<<<<< HEAD
   "execution_count": 19,
=======
   "execution_count": 61,
>>>>>>> 4a1bb0435b4e3cae3b929dc877d5657a48b79203
   "metadata": {},
   "outputs": [
    {
     "data": {
      "image/png": "iVBORw0KGgoAAAANSUhEUgAAAXwAAAD8CAYAAAB0IB+mAAAABHNCSVQICAgIfAhkiAAAAAlwSFlz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\nEAQl4QsrMgDog9nCbgAAAABJRU5ErkJggg==\n",
      "text/plain": [
<<<<<<< HEAD
       "<matplotlib.figure.Figure at 0x1209af208>"
=======
       "<matplotlib.figure.Figure at 0x11e5f12e8>"
>>>>>>> 4a1bb0435b4e3cae3b929dc877d5657a48b79203
      ]
     },
     "metadata": {},
     "output_type": "display_data"
    }
   ],
   "source": [
    "for iNeuron in range(nNeurons):\n",
    "    plt.plot(neuron.C_raw[iNeuron,0:1000])"
   ]
  },
  {
   "cell_type": "code",
<<<<<<< HEAD
   "execution_count": 20,
   "metadata": {},
   "outputs": [
    {
     "data": {
      "image/png": "iVBORw0KGgoAAAANSUhEUgAAAXwAAAD8CAYAAAB0IB+mAAAABHNCSVQICAgIfAhkiAAAAAlwSFlz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\n",
      "text/plain": [
       "<matplotlib.figure.Figure at 0x10ab5dda0>"
      ]
     },
     "metadata": {},
     "output_type": "display_data"
    }
   ],
=======
   "execution_count": 62,
   "metadata": {
    "collapsed": true
   },
   "outputs": [],
>>>>>>> 4a1bb0435b4e3cae3b929dc877d5657a48b79203
   "source": [
    "# baseline subtraction\n",
    "#for iNeuron in range(nNeurons):\n",
    "#    neuron.C_raw[iNeuron,:] = neuron.C_raw[iNeuron,:] - np.median(neuron.C_raw[iNeuron,:])\n",
    "    \n",
    "#for iNeuron in range(nNeurons):\n",
    "#    plt.plot(neuron.C_raw[iNeuron,:])"
   ]
  },
  {
   "cell_type": "code",
<<<<<<< HEAD
   "execution_count": 21,
=======
   "execution_count": 63,
>>>>>>> 4a1bb0435b4e3cae3b929dc877d5657a48b79203
   "metadata": {
    "collapsed": true
   },
   "outputs": [],
   "source": [
    "neuron.C_events[np.where(neuron.C_events > 0)] = 1 # set value of events to 1 so it's binary (should probably change in detectEvents)"
   ]
  },
  {
   "cell_type": "code",
<<<<<<< HEAD
   "execution_count": 22,
=======
   "execution_count": 64,
>>>>>>> 4a1bb0435b4e3cae3b929dc877d5657a48b79203
   "metadata": {},
   "outputs": [
    {
     "data": {
      "text/plain": [
       "(42, 30177)"
      ]
     },
<<<<<<< HEAD
     "execution_count": 22,
=======
     "execution_count": 64,
>>>>>>> 4a1bb0435b4e3cae3b929dc877d5657a48b79203
     "metadata": {},
     "output_type": "execute_result"
    }
   ],
   "source": [
    "neuron.C_events.shape"
   ]
  },
  {
   "cell_type": "code",
<<<<<<< HEAD
   "execution_count": 23,
=======
   "execution_count": 65,
>>>>>>> 4a1bb0435b4e3cae3b929dc877d5657a48b79203
   "metadata": {},
   "outputs": [
    {
     "data": {
      "text/plain": [
<<<<<<< HEAD
       "[<matplotlib.lines.Line2D at 0x1151a44a8>]"
      ]
     },
     "execution_count": 23,
=======
       "[<matplotlib.lines.Line2D at 0x10eb763c8>]"
      ]
     },
     "execution_count": 65,
>>>>>>> 4a1bb0435b4e3cae3b929dc877d5657a48b79203
     "metadata": {},
     "output_type": "execute_result"
    },
    {
     "data": {
      "image/png": "iVBORw0KGgoAAAANSUhEUgAAAXcAAAD8CAYAAACMwORRAAAABHNCSVQICAgIfAhkiAAAAAlwSFlz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\ngwx3SWqQ4S5JDTLcJalB/wdm96zVvfN0HAAAAABJRU5ErkJggg==\n",
      "text/plain": [
<<<<<<< HEAD
       "<matplotlib.figure.Figure at 0x120c344a8>"
=======
       "<matplotlib.figure.Figure at 0x10471e668>"
>>>>>>> 4a1bb0435b4e3cae3b929dc877d5657a48b79203
      ]
     },
     "metadata": {},
     "output_type": "display_data"
    }
   ],
   "source": [
    "# This is just used to visualize the effect of the Gaussian filter on each event\n",
    "plt.plot(neuron.C_events[20,:])\n",
    "#plt.plot(neuron.C_raw[20,:])"
   ]
  },
  {
   "cell_type": "markdown",
   "metadata": {},
   "source": [
    "### Some normalization across entire session"
   ]
  },
  {
   "cell_type": "code",
<<<<<<< HEAD
   "execution_count": 24,
=======
   "execution_count": 66,
>>>>>>> 4a1bb0435b4e3cae3b929dc877d5657a48b79203
   "metadata": {},
   "outputs": [
    {
     "data": {
      "text/plain": [
<<<<<<< HEAD
       "<matplotlib.collections.PathCollection at 0x1209599e8>"
      ]
     },
     "execution_count": 24,
=======
       "<matplotlib.collections.PathCollection at 0x10eb61208>"
      ]
     },
     "execution_count": 66,
>>>>>>> 4a1bb0435b4e3cae3b929dc877d5657a48b79203
     "metadata": {},
     "output_type": "execute_result"
    },
    {
     "data": {
      "image/png": "iVBORw0KGgoAAAANSUhEUgAAAeQAAAJCCAYAAAARA7SXAAAABHNCSVQICAgIfAhkiAAAAAlwSFlz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\nQmCC\n",
      "text/plain": [
<<<<<<< HEAD
       "<matplotlib.figure.Figure at 0x1151a1da0>"
=======
       "<matplotlib.figure.Figure at 0x10ec56be0>"
>>>>>>> 4a1bb0435b4e3cae3b929dc877d5657a48b79203
      ]
     },
     "metadata": {},
     "output_type": "display_data"
    }
   ],
   "source": [
    "plt.figure(figsize=(8,10))\n",
    "event_frames = np.where(neuron.C_events != 0) # dim1 is neuron ID, dim2 is event frames\n",
    "plt.scatter(event_frames[1], event_frames[0])"
   ]
  },
  {
   "cell_type": "code",
<<<<<<< HEAD
   "execution_count": 25,
=======
   "execution_count": 67,
>>>>>>> 4a1bb0435b4e3cae3b929dc877d5657a48b79203
   "metadata": {},
   "outputs": [
    {
     "data": {
      "image/png": "iVBORw0KGgoAAAANSUhEUgAAAfAAAAJCCAYAAAA/RpUFAAAABHNCSVQICAgIfAhkiAAAAAlwSFlz\nAAALEgAACxIB0t1+/AAAIABJREFUeJzs3XmYHFd98Pvvqarep2fRrNolS7Jk2fJuB7MEG7IAhkuW\nNxDesITkkoXcNwnJQ4A8vATCzQXiJDiQAIEADhheMDGbbWzwjmVsa7H2fRtpNPvW09Nrbef+Ud2t\nmdE2kkbTM+rf53nmme7qqlO/OnWqft2nq08prTVCCCGEmF+MagcghBBCiAsnCVwIIYSYhySBCyGE\nEPOQJHAhhBBiHpIELoQQQsxDksCFEEKIeUgSuBBCCDEPSQIXQggh5iFJ4EIIIcQ8ZFU7gPNpaWnR\nK1asqHYYQgghxKzYunXrkNa69XzzzfkEvmLFCrZs2VLtMIQQQohZoZQ6Pp35pAtdCCGEmIckgQsh\nhBDzkCRwIYQQYh6SBC6EEELMQ5LAhRBCiHlIErgQQggxD0kCF0IIIeYhSeBCCCHEPCQJXAghhJiH\nJIELIYQQ85AkcCGEEGIekgQuhBBCzEOSwIUQQoh5SBK4EEIIMQ9JAhdCCCHmIUngQgghxDwkCVwI\nIYSYhySBCyGEEPOQJHAhhBBiHpIELoQQQsxDksCFEEKIeUgSuBBCCDEP1XYC93349tvhyFPVjuTS\n+D5s/io4hWpHImaLU4AH3gMjx878emZgduMRYqb4PgwdOn261rDzAfCc2Y9pjqrtBO5k4eBj8M3f\nnL11pnvA92a2zP0PwSN/Bc/8fzNb7rls/ioMHpw8zffhE03w4pdmL46ZtOcH0Lf7wpbxPbBzlyee\nczn6NOz9ITz6N6e/tvtB+Kc1cOKl2Y/rYh15Cr585/RPzvkU/Oyj4BYvbn1dmyHde+HLaQ0vf3Pu\nvVnWGr71O7D/kctX/mx54fPwb7fC3h/D1vuCaYU07Pk+fP998Nw/z14sc5xV7QBmneeAW4DsIDz2\nt6emp3th5Ahs+grc9E5oXB6cVFa8Cjo2gJ2Fk1ugcRmku2HBKjDDYFrBSVyp4LlbBO1DKA6FVFB2\ntCE4AIrj8C/XwM3vhlf9JTQsDebVHlgxyI9AbgROboJ4C7Svh8EDQdlOAcZ74ao7YfQ4+C40r4b8\nKOz4TrCe5/8VVr0O2q8DOxPE37MdWtYE6ymMgWFBciGkjsO6t4CbD+arXwR17cF2jhyDxqUwfBia\nVkI4EWzj4Sdg4fXQui54w1C2YBWs/GVYdVewnsc+BJE6GDkKKFj9+iDJbfkaZPrg2t+EQ4/Duruh\nbxfsfzgoo3tLUF6kHoppuOW9sOwOyA1BuA6cXBDjYx+GNb8W1MHwEbj+bcFy6+6G/3htsGw4Abe9\nD5pWBG/SOjbAeB8suTXYf8tfDYmWYJtOboHWq+Gp/zco5/cfCerh22+Dq98IG/5HaV8qCMWCN2Ft\n18D+n8D2+4Nl3v2joH7TPUGsoVgQw4kXgv2y5tfgxt+D770nmP+W9wZ1aUWDuui47tQbgcW3wIlf\nwLHnoHc7/NGz4OQhFA0Sl2HBxnuDeQ/9DHZ/P4gn1QWZfnjsI8Frz/0T/PIHgzaSHw2Wq2sHdPAm\na9FNEI5D69qgbhqWBPMU0sE0z4b+PUFbji8I/odiwX596T/gVX8R1GUxE8RWGAvaTrQBRo/BvofB\nLyXk5tWw7BXBcbD9W2c/Pr/x1uD4WHJbsA98B0KJoD1bkeCkboaCNnviBcgOwSveD307oa4j2LZQ\nDBKtwXZEG8Awg7YyeCBYduggPP6xYH2//dWgvY2dADMCkSQMH4Lul4P9aJhw83uC4+PgY7DvIeh8\nDp6/F95+Pxz/RVD2ktuCc0o+FSzfug5+8sHg2L7jf0HPy3DtbwVtua4NmtfAzu9CrCmoT88O2khm\nANa+MWiL17wFTrwYtO+Wq+Hk5mB/x1uCY6375eAYLaSCMsqvf2wkqDu3CKOdwTHeui5oQ9oL9ldh\nLNjnscZg+5UBXjGow9TxoJ6sWFDvqePw0F/AG/8xmLdpRTDvkaeDc1OsKTi+wnXBX6YvmFbXERyz\n431B+/G94NhsvzY4nw0fgpa1wT478SI0rwrOTXt+GOybB94V/G9bD1/91VNtpGtTsC3pnmC/eHbQ\nbj0naKOeHeyT3u1BvE7u1HlMKfDc4HUrEpQ33he8Fk4EucGzQZnB/jTMoC0dey44hm78n8E+rF8c\ntD07G5wrQ7Gzt+nLSOnZfGd1EW699Va9ZcuWmSns4w0zU44QQghRtu7N8LvneGN6gZRSW7XWt55v\nvtruQhdCCCEu1Q3vqMpqa6sL/X8Pw3+9Gd72TahrDbqRyt1k1aR10G1T7tIRQgghzqO2ErhpwR88\ndup5dI50qSslyVsIIcQFkS50IYQQYh6SBC6EEELMQ5LAhRBCiHlIErgQQggxD9VcAn/mwAC/ODxU\n7TCEEEKISzKtBK6U6lRK7VJKbVdKbSlNW6CUelwpdaj0v2nC/B9RSh1WSh1QSv36hOm3lMo5rJT6\nnFJKzfwmnd3zh4f4/a9v5n/+5zwaYlIIIYQ4gwv5BH6X1vrGCaPDfBh4Umu9Bniy9Byl1Hrgd4Fr\ngTcAX1BKlX9o/UXgfcCa0t8bLn0Tpm+jfPIWQghxhbiU34G/Fbiz9Pi/gGeAD5Wmf0drXQSOKaUO\nA7crpTqBeq31iwBKqW8AvwE8egkxXJCQeer9yjdf6MTxNO31UfrSBZ49OMhAuoCvNUXX57duWsKj\nu3vZ3zfOH756JW/asJDHdvdy19o2ntg3QF86z5uvX0TncJaVzQkO9I8zlnfIFl1SOYe6iMXJ0TyO\n7zOatWmMh9nbm8Z2/bPGt64jyXtftYKXj6dwfc0T+/oZyzvURy3yjseda9souj4rm+M8tqePiGWy\nfmE9e3vT+FqzsiXB6rY6vv58Z6XMaMhgTVuS5rowzxwYnLQ+y1C4/swPpfuKqxbw4tGRc86zdEGM\nrpE89VGLdMGd8RgmilgGxXPU+8VqiIUYy0+++UZdxCJTvLzbcykMBZdhl8+4q1oSFF2f7lQegJUt\nCZSCte1JHt3dd0FlmYbCO8dGX7e4nt3daRY3xsg7HiNZGwiOx66RHFk7uPnQ779yBff9ovOs5YQt\ngzuvbuVne/vPOs9r1rSw8fDQZb03yOLGGN2pPLGQSd6Z4RsnTTH1GCiv+6ZljWw7EdwL4volDaxq\nreMH27onLbOyJUFjPFSZb6qbljXSnAiztyfNwsYY9VELQyk2HRthfMIx1lIX5voljTy1P7gDX8Qy\naK+P0p3Ks7gxRs72GMqcuunNsgVxbl7WyA+397C6rY7DAxn+1+tWk7M9xvIOw6V5fQ3HhrKVea9b\nXM+yBXGWNsWpi1gUXZ/RnM1tKxbwxg0dRKzZHxBsWmOhK6WOAWOAB/yH1vrLSqmU1rqx9LoCRrXW\njUqpfwNe1FrfX3rtqwRJuhP4tNb6V0rTXwN8SGv95nOteybHQl/x4ct0px4hhBA1KxYy2ffJmetQ\nnu5Y6NP9BP5qrXW3UqoNeFwptX/ii1prrZSasfeUSqk/Av4IYNmyZTNVrBBCCDHj/uyuVVVZ77QS\nuNa6u/R/QCn1A+B2oF8ptVBr3auUWggMlGbvBpZOWHxJaVp36fHU6Wda35eBL0PwCXz6m3NunZ++\ne9LzguMRsQxm+Vo6IYQQ4pKd9yI2pVRCKZUsPwZ+DdgN/Bgo3dyY9wA/Kj3+MfC7SqmIUmolwcVq\nm7TWvUBaKfWKUpf7uycsUxXRkCnJWwghxLw0nU/g7cAPSonOAr6ttX5MKbUZeEAp9YfAceBtAFrr\nPUqpB4C9gAv8mda6fCXF+4H7gBjB9+KzdgGbEEIIcSWZ1kVs1TSTF7EJIYQQc910L2KruZHYZtL/\n6R1m61h2WvO+lMowZM/dnxcJIYSYXySBA66vGXcv/PeSH9jfxd0vH5rWvG/ddpi3vHzwgtchhBBC\nnEnNJnBfa16/eT8PDaT4i/0nWPPcrsprRd+n4+ntfLbzwgaMOJ9jeXtGyxNntz+bZ1h6PIQQV7Ca\nTeBFX7MnU+D9e4/zYP8oAE5ptKaCF4za9YUTA2ddXsxtd246wOs3H6h2GNOitWbEkTcbQogLU7MJ\n/OHBYPg+Z8JFfB8+2MW+TL7y07JxzyfrXfpQhHP9QsErVZ/tnH+mOeBr3UOs37ibo7ni+WcWDBQd\neovSmyVETV2F/kDfCH++78SMlHUhooaiMGEs5gUhk5GzjFHcHrbov4iu31vr42xJ5y46xjNJmAZZ\n79LGED/XtpoKvGk2v1c0JHjxPBcMtoctbm1I8Mjg2KTpcdMgN83tWJeIsj9bmF5QJTHDoN4yLmq/\n1ZkGmSmxlevsxmSc7eOXtk9jhkHen/lx4OeikFKT3pALMVseuXkNtzQkZqy86V6FXlMJvOPp7TNS\njhBCCDFR3103zlhZ8jOyM0iaNbW5QgghZsF/bVhZlfVeyu1E551Dv3x9tUMQQgghZoR8JBVCCCHm\nIUngQgghxDwkCVwIIYSYhySBCyGEEPNQTSZwz5MBM4QQQsxvNZfA8/kunnl2PT0936t2KEIIIcRF\nq7kEnst1AtDf/1B1AxFCCCEuQc0lcMOIAOD5+UnTBwcfryR3IcSF6+v7MWPpHdUOQ4iaUVMDuWzf\n/l6GR34OwNjYyzz51KoqRySEEGK+u/O1uzDN+Kyvt6Y+gZeTtxBCCDFTnnl2Q1XWW1MJfM2aj1Y7\nBCGEEFeY9df8Y1XWW1Nd6MuWvpelS94NgFJmlaMRQgghLl5NJXCQxC2EEOLKUFNd6EIIIcSVomYT\nuG3bfO9732N8fLzaoQghhBAXrGYT+K5du9izZw9PPfXUtObXWpPP588/oxBCCDELajaBK6WAIDFP\nx+bNm/nMZz7D8PDw5QxLiJqyZ88estlstcMQYl6SBD7NBH7o0CEASeBCzJB8Ps/3vvc97r///mqH\nIsS8VLMJ3DCCTZ9uAi/P73neZYtJiFokb4qFuDg1n8Bd153W/KYZ/PzM9/3LFlMt8jyPe+65hx07\nZAztWuU4TrVDEGJeUtP9BFott956q96yZcuMlLV7927++7//e0bKEkIIIQD+5E/+hI6OjhkrTym1\nVWt96/nmq6lP4JK8hRBCzLQvfelLVVlvTSVwIYQQYqa9+93vrsp6a2oo1Y9//OOVx/l8nkgkUvku\nXAghhJhPaiqBTxSLxaodghBCCHHR5OOnEEIIMQ9JAhdCCCHmoZpN4Omnu8jvH6l2GEIIIcRFqd0E\n/tNOhu/bU+0whBBCiItScxexjW/sxs/Y1Q5DCCGEuCQ1l8DHHj5a7RCEEEKIS1azXehl2p/bQ8kK\nIYQQZ1JTn8DPdNFa999urEIkQgghrhSNb11F3R2LZn29NfUJXC5aE0IIMdNSPzpSlfXWVAIXQggh\nZlr7B26uynprqgt9yadfM+m53Z0htDCBMlSVIhJCCCEuTk0l8KnCi+uqHYIQQghxUaQLXQghhJiH\naiqBF3M5Pv/7v0Pnzm3VDkUIIYS4JDWVwIdOdGLn8/zigfurHYoQYorBE524toySKMR01VQCL1+s\n1nvoAMMnT1Q5mtN17dnJy4/++LTp2vd5+r++Qqq/rwpRCXH5FTIZvvHB/4fHvnhvtUMRYt6oqQTu\n2k7l8X1//X60njwK27c/+tc89oXPznZYFQ/8/d/y9H1fPm36UNdxXv7Jj3joXz5VhaiEmFm+57Hv\n+Wfx3OB4/O4nPsyDn/oYACd276hmaELMKzWVwL/3yb+d9Pz5795PZnSEzu1bgeCT+Z5nnzxnGb7v\nkc+MX7YYAex8btJzwzQBcOziZV1vtfmex2hvd7XDEDPMzud48FN/x9hAPwA//9bX+Mnn7mHnkz8F\n4OTe3fQdPgiAUyhULU4h5puaSuBTbf/pw/zHn7ybBz/1d6clzbLx4SF+8b1vYxfyOHaRr/75+/jC\nH74Dp3j5TjQPffbTk557rgucntgncm2bn33582RTo5ctrom+/dG/ZvfTj0+aprWmc/tWug/sA2Dz\njx+k/9j0Ryja+N1v8rW//GO2PfYQT37tS5cUX2ZkGN/38FyXB/7+bzm5b/cllXcu2vfPum/y4+nT\nenqm8j0P7fuTyzzPMufzz29/Mz/5/D9dUhkz5cjWTXRu38pz374PgK2P/AiAFx/8Di8++J1J87pn\neJOqfX/S8fbSDx5g38ZnLlu8Z5JLj+H73hlfs/M5HvncPeTSY7Ma05VAa82BF56rnOPEhVGXeqK4\n3G699Va9ZcuWGSnrn9/+5hkpRwghhCh7+yc+w5J1185YeUqprVrrW883X01/AhdCCCEu1Xf/7kNV\nWW9NjsS24XW/xq6nflbtMC7I3X/+QR753D3VDkNMcMOvvpE1t7+KnkP7WLx2PYvWrqdzx8s8+83/\nZKy/n6XXXkc+k8HJ50n192JaFp7rYoXCLNtwA4mmBYz2dLPqltvJjqWob23DzuVItrTSd+Qg2x59\nqLKuFTfeglMo0L1/D7H6BvKl7lrDtPC9s3c/Xvva1zPSc5LeQwcuSx0kGpsmfW2zdP0G4g2NnNy3\nm1/+vffSvmoN9/3Vn7Jsw42c2LUdgFiyng2v/3U2/fB73PE/3kEhm5m0redal2FZmKZFqr8XgCXX\nXMfJfbuJJesJx2JkR0dJtrYx2nNy2tvQ0NZO3YJmuvfvJRSN0bp8JT0H90Gpd/La176eV/7O71HM\n53j2m1/FcxxCkQjHStfOzDUT20Tr8pUMHj9W5YiufH/21e+cf6bLoKa60Ccqd6e/45P3sOjqa2a8\nfCGEEOJiTLcLvSY/gQP89XcfrnYIQgghxEWT78CFEEKIeUgSuBBCCDEPSQIXQggh5qGaTeDa1xzd\nPnjJA2YIIYQQ1VBzF7E9/rU9HNzUz02/uoxtj5/gde9exzWvXFTtsIQQQogLUnOfwA9uCsZj3vZ4\ncDey9JCMvSyEEGL+qbkEPpWdlzF4hRBCzD811YXed/T0mw3sfPokO5+e/qhNQgghxES/9cFbWLiq\nYdbXW1OfwB/8x7k59KEQQoj56/v3VCe31NQn8PWvXsTejT2V51bYwLX9s84fjlk0tMaob4nSsiTJ\ngZf6cAou2TGbVTe3Eo5ZWJaB52vQ0LY8SThmkU0VyYwWyaaKNC9O4Ng+Q10ZUv1ZookQdQuinNg7\nQsviBFqDYSriyTCty5N0HxglPVygqSNBNG5RyLmk+nM0L06QGsgz2pflhruWMnAiTThq4doezUuS\nhCImezf20NAaI1oXIj9uE02EiDdEyIwWaF9RTz5tg6FINkVJDebQviaeDFPfGsPOuwz3ZBnoTLNo\nTSNOwcOKmJimYrBrHKfokUvbLLu2mULGoZBxMEMG9c1RDMtgfDiPnfdo7IhzfNcQHVc1EIqYhKMW\nje1xeo+kCIVN8lmHxrY47SvrsfMusWSYHU920XtkjKtvbyeXtmloieH7GtfxqG+JMXh8nGhdiKaO\nOADJBVE6dw1jmgq74JFcECUUNWlsj+O5flBuXQitoffoGItWNdBzZIxCxqG+JUZ+3CYStzBNg679\nIyy+uol4Qxjta0KR4JBoaI3huT7Hdg4xfDJD+8p6wlELp+Ay0pfDKbhc99oljA3kiDdEcG2P8ZEC\nvq/Rnqa+NQaAaRl4jk96OE96ME/7ygaObBugqSNB86IEVtjALngoBaAwTEVjW4xMqkgh6+IUPVzb\nw/c0hayD72mWrV9AJG5xfPcwxZzL8uua2f3zblZc34JS0HFVA0opsqkiw90ZYskQYwN57ILLgsV1\nGEqhAd/1idWHObyln46rGsilbYq5oO6SzVFiyTCp/hye5xNLhgmFTVzHxwoZ+J4mkyoQjYdwHZ94\nQxjf9Vm2vhkzZDDSm2Xvxh76j6Urx1NTR5x8xgnaVtjg2tcsYtcz3TjF02/TGU2EaL+qvtLGC1mH\nda9YyPhIgcxIgdRAnlgyRNvyehKNETY9dJTFVzfRsaqB1ECOfNpmsCuD53hEEyF8X2MYiuyYje9r\nilmHRWsaUYYiGrdQpsIwFIZl4Ds++1/s4/rXLcEwFOmhAke3DwLBsdrYHmekJ1uJNdEYoa4pwthg\nnkRjhOGTGQAa2+Ok+oPbzCoVDK1uRUzc0va2LU+SXBDlyLbBoD2GDOL1YYa6MtQ1RQjHLAxTUdcU\nxXd9TuwdwQobtK+sJ5oIc2LPMNFEiNy4TfuKesJRk0yqSDEXtJtCxmHx1Y2M9OXwbA+74BFvCGOF\nTdKDeUzLoHlxgmXXNdO1d4REQ7ANrcuTFDIO0YTF4IkMphUcZ23Lk2RTxdLxPMZIT5al6xcQjVsc\n2jIAQPvKevLjNqZlMD5cYOn6BfQcSlHMuZP2bbQuRKo/RzhmVdp3LBkiP+7Q2B5nbDCP9nWl7pRS\n+P7kXww1tsdJD+Yr05s64oz2nbqt7+K1TXQfGJ1U52dSXu+5LLt2AYNdGXTpOJzqjz/32nMuf7nU\n7FjoQgghxFwktxMVQgghrmCSwIUQQoh5SBK4EEIIMQ9JAhdCCCHmoZpN4JnnnkPbdrXDEEIIIS5K\nTSbw3LZtdL3vjxi491+rHYoQQghxUWoygXujowDYR45UORIhhBDi4tRkAgcFgNPXh93VVeVYhBBC\niAtXUyOx7Vt3zaTnxQMHOPKrv1alaIQQQlwJ2j74QZr/8A9mfb01+glcCCGEmBkD99xTlfXW1Cfw\nqx5+iKNvfgsAbR/6EAOf+Qyrn32W/Mtbyb74EuFly0j/7KcUduyk6Z3vxOntJfPkkwAkXnkHoeXL\nMeJxzGQSs7kZnc+T+v4PKO7fT2jZMiJXXUVkzWqi120gvGI57sAgqQe+i9HQQHj5csJLl6Edm7GH\nHiJ+881E1qzBamvHGxkmv2MnRiJBfudOdLFIZPUqotddR6ijg/CqVbgDAwz9+xfIbNxIw5vfTGjJ\nEgp79pDftg2joQGrrRWA8NJlhJYsxojFsVpbyW3ahLlgAWZ9El0s4g4OYrV3YLW1gfbRjos3HoxX\nbSYSeGNpzIZ6nIEBvFQKZZgY9UnMujqcnh5CixeT374DIx7D7jpJ4o47CC1aSKijg9z27STueCVO\nbw/e8AhWSzP5HTuxT3YRv/VWUIrIVVfh9PQSWrwIp6cXoy6B1dpKYfce8D3ckRFUKExk9Wqs1lac\n7m7cgQGc/j5i112H2dwMQH7HDvzxDLEbrqd46BDJX/91vOFhclu2UH/33RQPHMAvFPHH06hojMiq\nq3CHhrFaW1EhCy+dxqyrQ0VjeGMpzIYGvNQYTvdJVDSKEYngjY2RfeFFGt58N4WDB4ldey35XbuJ\nbbgOFYvjdHdT2L8Pa0Ez2RdfJHbDDUTXrwfAamnGam+nsHcvZn0DRiKOdhzwfZzePkId7aholOL+\n/WjHwekfwIjHg/3ounjpcVI/+D7RddeQfP3r0K6Hlx7Dam3FrKvDS6XAsnC6ThJavCio/5e3EVm9\nCiMWw+nrx4jH8FIpQh0dmE1NOP39+Jks7uBgsA2RCPaxYxiJBBgmVlsryjTxxscpHjiIkUgQWrQI\nP5cDzyWyZg1+Nos3NoaRSKBdN2g/I8OocJjwihX4uRzeWJrwiuWYTU14qRQ6l8MdHMQbH0cXi4SW\nLsVqaWHshz8kun49+R07Sbz61ZgN9bhDQ7h9fUTWrsWIRNCehxGLoR2Hwc99HiMeI/6KV2DE4thH\nj+DbNlZrK0Y4jF+08fM5rOYWzPokZmMjTl8f+Z07wfUIr1hObts2jEiU6HXXYS1oYuyhh4muW4u5\noJnMz39O8dAhGt7yZsKrVqHzeZyeXhrf/jbMZJITf/h/E7vpRkKLFxNZtQqruRlvbAyUgdXeFszf\n24sKhzEbm/CzWVQ4jNvfh/Z9Qu3tqEgEXSiAUpgLmvFSoxQPHSZ+y81ox8EbGcEdGQnqPZvFzxdA\n+4RXrMA5eZLQwoVo1wXDpHjwIBgKb2QUq7UFp7cPoy6BOzCI2dgQ7K9MhsKevYSXLwOlMJJJ3L5+\nouuvAdME18UvFDCiUYz6erTtoMIhtG2jHbcU0zBGPM7444+j4nFUKET9G95A7qWXwDAp7NlD3Z2v\nxWxsxM/n8dNpvPR4cOyFw8FxmB4jesMNuP0DGHUJivv2YTa3kPn5szTcfTd+Lo87NFQ5Zzj9fZiN\njRjhMOFVqzCiUXJbtmLW1xP/pV/Cz2bJ79yJMhTu8AjRa69l/Kc/Ba1JvPaX8YaGMBJ1OCdPElm3\njsjq1Yx+61vEbroJI1mH2z+Affw4hf37MevqwDKpe80v45w8id3VhdnYGJwvh4dJ3nUXxUOHiN14\nI5gGxUOH8MfSaN+nuH8/Te98J+1/88HZTmeAjIUuhBBCzCkyFroQQghxBavZBK615is7v8JoYbTa\noQghhBAXrGYT+LaBbXxu2+f42PMfq3YoQgghxAWr2QTuax+AtJ2uciRCCCHEhavZBL65bzMAju9U\nORIhhBDiwtVkAn+x90W+sOMLABS8QpWjEUIIIS7ctBO4UspUSm1TSj1cer5AKfW4UupQ6X/ThHk/\nopQ6rJQ6oJT69QnTb1FK7Sq99jmllJrZzZmewdxg5XHeyVcjBCGEEOKSXMgn8L8A9k14/mHgSa31\nGuDJ0nOUUuuB3wWuBd4AfEEpZZaW+SLwPmBN6e8NlxT9RdKc+u37xE/gvva5Z/M9HBs7dtZlC24B\n13cva3yXajq/7S96xVmIJOBrf1oxnYnjO4wVx2Y4IhjODzOUH5rxch3fuaBttT17VvfFXPNM1zMX\ntH/n+rgVQsymaY3EppRaAtwN/APwV6XJbwXuLD3+L+AZ4EOl6d/RWheBY0qpw8DtSqlOoF5r/WKp\nzG8AvwE8OhMbMh3/uPkf+ebeb06aNpQfYsN/bZg07Rt7vzFbIQkhhJjn3rX+XfzNbX8z6+ud7ifw\ne4G/AfwJ09q11r2lx31Ae+nxYmDiLb5OlqYtLj2eOv00Sqk/UkptUUptGRwcPNMsF2Vq8hZCCCEu\nVbVyy3k/gSul3gwMaK23KqXuPNM8WmutlJqxvi2t9ZeBL0MwlOpMlftXt/wV/7L1X06b/saVb2Sk\nMML7Nrz/B6p7AAAgAElEQVSPjJNBoUiEEixMLORw6jC2b7OqYRWtsVbybp4fHvkhW/u3UnAL/M7V\nv0PRK5IIJbi2+Voe63yMrJOlJdbC4dRh7lp6FzErRnemm20D2yh6Rf7sxj/jieNP8NSJp1hUt4jb\nOm4jYkawDIvFdYt5/PjjLKpbxB0L76A90Y5Go1B0jnXyUt9LXNt8LTknx+qm1QzmBtkxuIPbOm7j\nSOoIyXCSiBmhM93J2qa11IXrGMoPsbpxNU93Pc3z3c/zpqvehIHB8fHj1IfrcX0Xy7A4NHqIF3tf\n5B3r3kHMipF38zxy9BHetPJNZN0sqxpWoZTicOowJ9InWF6/nJHCCDErxoGRA2zu38xf3vyXHE8f\nJ+Nk8LXPuD3Oryz/FZ4+8TSNkUb6cn3sGdrD+298P2EzDMDiusUsSy7DVCYbezayd3gvw/lhfnvN\nb7OyYSXPnnyWFfUr2DW0i2/v/zafevWn+Onxn5Jzcrxy0StZ07QGgNWNq3F8hxd6XuBVi1/FgZED\n7Bnew90r7+Znx39GW7yNvmxf5SuQkBHC8R1aYi081/0cb1v7NtLFNCfGT9CR6GBlw0oSVoJv7fsW\nyXCS1Y2rMZTBkbEj2J7Nu9a/i5ARYs/wHo6NHaM11spgfhDbs2mINJCxMzRGGwmbYQwMTMPEUhZ1\n4ToG84OEVIhb2m+h6BVJhpP8/OTPOTh6kBvbbiRshmmLtbFjcAcL6xYSs2LYns1Qfoh9w/t4zZLX\nkCqmGC2MEjJCbOrbxO0dtxO1oliGxbqmdRiGQcEtkHfzPN/9PL+08JfQaHzt0zXeheu7KBSb+zdT\nF6rjrqV3MVwYxvEcWuOtJMNJHj/+OH3ZPl6z+DVknAzbB7azdsFaWmIt7BjcwdVNV9MQacD1XXzt\nV+bL2BnWN6/n2ZPPsrx+OfXhekaLoziew/rm9bi+i2kE36ztG97HgdED1IfraYo24fgOX9z+RX5r\nzW/ha5/+XD/dmW7eec07WRBdQGe6k5PjJ7lj0R1sH9xOc7SZx449xrrmdbREWzgydoRxe5zB3CAt\n8RbiVpw9Q3u4oe0GmiJNFLwCa5vWErWifHvft1lYt5C1TWsrx/FQfohHjj7CyoaVhIwQ65vXc0Pb\nDUTNKD859hNiVoxNvZvY0LoBrTXj9jhPnHiCN658IxEzwvcPfZ9fXf6rrG5czfbB7dzcdjNLk0v5\nt23/RnuinR8f+TExK0ZztBnTMDmePs5vrv5NDGXw4KEHWd+8nr3De4maUTa0buBI6ggjhZHK+eqa\nBdfwikWvoD/bT9d4F73ZXl6/7PU83/18cAxoh5f7X+b2jtuJh+I8euxRVjeu5nDqMIlQgqyTnXT+\nW924Gk97la8OY1aMVy9+NUWviIFBfaSeZ08+y5tWvomfdv60EsudS+9k+8B2ltcvZ8fgjos6J1/f\ncj0jhRFOZk6e8fUbWm84a9lRMzqti5DL57LL6fl3PH9Zyz+b846FrpT6FPAuwAWiQD3wfeA24E6t\nda9SaiHwjNZ6rVLqIwBa60+Vlv8p8HGgE3haa72uNP0dpeX/+Fzrl7HQhRBC1JIZGwtda/0RrfUS\nrfUKgovTntJavxP4MfCe0mzvAX5Uevxj4HeVUhGl1EqCi9U2lbrb00qpV5SuPn/3hGWEEEIIcQEu\n5XainwYeUEr9IXAceBuA1nqPUuoBYC/Bp/Y/01p7pWXeD9wHxAguXpu1C9iEEEKIK4ncTlQIIYSY\nQ+R2okIIIcQVrPYS+MgxGD1e7SiEEEKIS1JbCTw/Cp+7Ef71+mpHIoSoFbkR6Ntd7ShmjufCHP/q\ntVbUVgLf9JVLL8O1oZi59HLmu7FumIvjyGeHZP8APPg+2PK1akchAL7+RvjSq6odxcwopOGTzfD8\nvdWORFBrCdwMnXps52DrfbD92xd2wv/GW+FTZxxA7vJz7eq+83Vt8Es/KPjsevjmb5593vPFqXVw\nMphp96yCf7995sudb3Y9AA9/oNpRXJi+XTB25gE95rXB/cF/bx7fuljr4G/jZ4PnL36xuvHMNt8H\nZ+7dubK2rkL/eMPMlCOEEEKUdVwPf/LcjBUnV6ELIYQQs6E6d8a+pIFc5p+Pn+G2hVqD9kEZYGch\nFA+mezYYJhhWaXoMUGAYQfe7GSo9N4OuscIY2OMQawoulnNtaFxWet2GVBfEmyG+IHjds2HoILRc\nDfEW8IpB97RnB/PZGVBmsO5YY/BaKA5uIYjFLUIxDZEkjPdCKAHhOBTHg++n26+F0WNBbO3Xgu+e\niheC8nz31Pa6+WB9ZjjYjnAyaJTl77nNcBCjFQvqq7zddgaiDUHcZuRUvSp1qhu93LjdYlDPhgmj\nnbDgqsmve05Q3+X94hXBigavl7vufS+o+3L5nhNshxUN9o3WQSzjvVDXAVaktKwO5jPDpXqrD2Ip\npoPXY03BtoTrTsVzcmtQ5sIbg/2rVLCthbFg+Ux/sO+UEczn2sF63AIYoWBdygAnG5RbblfKCP5Q\np7bNd4JlDPPUvjEsMK1T240qtVUVbB9Aw5JT9VzpTSt1d5b/50eDOoskg32s/SAOCNarzKCe4NTr\n2gcrHHQdFlKn9rEygjjRp+J3C8FyhhU895xgWiQ5uS0UxoJyyvU7tfdv4nTPgbEuaFoZTHNyEE4E\n5Tr5IN7iOCRaS+2q1FbLx7IyguPECAV1WZ5uhk6t182X6jh8qu2Vt92wgjpOLixtaymucrsvlzN6\n7FQ7Lu9HrYN1l9usaZ3apvxIsB3huqDteU6wLZFkcHGYYQbz+u6pdl6erlSwP5Q61YYhmNfJlerQ\nONXWINj30VLPo505tczUhKP19JKQ1kG7T3ZMPl9O3X8XktAmniemnjPOpVwXE+f1/eBYnGkXuk2z\npLa60IUQQog5TrrQhRBCiCuYJHAhhBBiHqq5BP784SE8f25/bSCEEEKcT00l8F8cGeL3/vMlPv/U\noWqHIoQQQlySmkrgI9ngyttD/TJSlxBCiPmtphJ4yAw2t+j6VY5ECCGEuDQ1lcCTkeA3teOFeTyk\noRBCCEGNJfBIKNjc8YJLdypP39jcG9tWCCGEmI6aGontv7cGN0rY25vmVZ9+qsrRCCGEuBJ8/h03\n8ZYbFs36emvqE/j/2dRV7RCEEEJcYR7e2VOV9dbUJ/C/f+u1fOxHeyZNe9OGDu59+02ELYNjQ1la\n6sLEwxZaa5RSmMap8W+11ni+Jud41EdDU4u/JOX11bry0L5SF3PXhbRVx/OxDFWZX2sdDM/uBOOE\n7+8b57lDg/xfNyzC9nwsw+CqlgSGcXn2/9TYPV9POsbPNF1rje35jBdcWuoik7bDMNRpZZbnj1jm\nGdtzef4zLXeh7b68jOP5KMA0FJ6vMZTCMBS+r0vDhZ+53KlDaSsVLBPEb1SWy9kulmFgGQpPa3yt\nCZcuCtYafK3JOx6+hoZYqFI/bmnMDU0wf3lI8fJ/XwcxlON2PE00NLlcpRQFx8Mt7RNTKYquR0Ms\nVNlWX2ss08B2fYquRyxk4uugPvzSNhYcD6s0Tno0ZGB7PiHDIOd4RCwDo7RPxvIOIau0rb7GMgzC\nloHnB9vta00sZFJ0fdJ5h/pSHNUgY6ELIYQQc4iMhS6EEEJcwSSBCyGEEPOQJHAhhBBiHpIELoQQ\nQsxDNZfAc57P7+86yvF8sdqhCCGEEBetpn5GBnDVz3cCYCrFV69bWeVohBBCiItTc5/Ayx4ZHONk\nwa52GEIIIcRFqakEnna9Sc9vfWHvGecreP5pAxzMBZ7WjDkuOW/y3dQK3ul3V9Na403ZBl0ahAAg\nP2EZ2/crr59JebqvdaVu8p5P3vNJux7FCcuX/wZth4PZwmllnKncou/j+JrxKfvHK5V1pmXOVJbj\nn4rzbMuXp5e3X095fCZ2KT53wmANRd+vrGfitl+oM22ff5FlAZWBJqbL08F2lfelpzW9RXvSPp9Y\ndnm61rpSL2X5UtuY2M601qe114nblvN8PK0rbWi626enxDKR7QdllmObum/O1i6mbt/EeF1fn3Uf\nT2xDg7aD6+vKuSbrefQW7Unb6Pin6mjqtkwss1zH5Zgn7gvH15Pqfur2Ty3nXMffxGXO1Xbsaeyj\nQfv0G0VNrcvpHtMT+aV9YPs+uVI7G3XcSe1t4r4rt+mJ0/wpj89W51OnZz1v0vLn2r7ZVlNd6Fc/\nt+u0aR1Pb69CJEIIIa4kfXfdOOvrrKlP4EIIIcRMM6s08nNNfQLvvvMGjuWLrI5HsX2fb/QMsy+T\n561tTSwImYQNg5awRZNlciBXYG08yuFckaRlEjUUroakZWCiGPc8EqbBgO0SVoqmUFCVed8n63k0\nWRYhQ6EABaRcD1drWsOhoPuG4N1TyvUIGwqFIuW4xEyDmGFgKDBQGArKHTQ5L+i2rbdMHK0xlWLM\n9Sh4Pk0hi1hlbGKNrTUhpXBL3TuO1sQMg1xpzGRHa+pMc1LD06VYx1yPBsuslGFMGMf6bGM3Tx3z\nubdo42tYHA0DQfebq4PuqJznszgSpqh9YoZByvVYELJwfI2hqPxXBPFHS2Np63K9KVXpvo2Zp8Yw\nVkrh+BqrFKJTmj9inHqf6mmNAfhA1vOpt8zT2kml223CujQQUooh26U1bDE+YdkRx6XeNLGM0+vJ\n15pyjenSnzlhW7zSzg0ZiqLvE1ZBO3O1ruzPMtcP9mtswtjiE9c3db3lMaIpbQfAmOOSMM1S/Z59\njGzX15XtgWCfmFOWKX9FY/un9tHUelQqGDs77Xo0WmZlnrTrEZ80tvbkbS7XRdmksdSBiWsq76ep\ndT9VeV+U5y/PW/B8lAITNWkfnmnd0x2r/HzHSvnxuOuhodKWtNbkfJ+Eeeq5TzAuuDVl3HVvStsy\nmLw/RxyXuGHQWShydTyKoRRZL6j3cnsJygnKLn8VFzEUniY4B5X2n6c1Y65HxDBImgZDjoulFAZQ\nZ5mVdTu+JmQosq5HvLQvp+47Y0oduuW2dY66PV/dT22vE5eb2F4mllH0/Unnt4nLjLoeYaVIlM+p\nQHfRYXEkRN7zSVjmWdc5m2QsdCGEEGIOkbHQhRBCiCuYJHAhhBBiHpIELoQQQsxDksCnyGQO4vtu\ntcMQQgghzkkS+AT5/Ale2vRGjhy9p9qhCCGEEOdUswnc908fRtV2RgEYHX1ptsMRQgghLkhNJvD+\n/kd4+plrePnl38PzTt2VTKnyby9PHw5QCCGEmEtqaiAXAM8rsnvPnwMwmnqRXbv/lGvWfYZisY+R\nkecBKBR6yGaP0tP7AEsW/x6Ok2Lzlt/AMMKsXPEX1NVdTSy2nEikDdfLErKaMIwQALY9iGU1lp6X\nBtXwi7juOJ6XIRJZhGGE8H0HzxvHshrQ2sXzsphmHMOIorVPsdiL62WJx1biuKNEwq24bgbTjFIs\nDuE4w8Riy7Gs+gkDJXi4bhrTTFbejAT8UmzDKGVimjEMI4rv2/i+jVIK06zDdccJheoZH99LONJG\nyKrH9x1MM4rrZrCsZCmGCFp7aO1jmjFA4TijGEaYXO4YhhElFluKYURx3RSW1YjWXilGGzAwzWip\nbhy6e75DS/NdGEaIcLjtjANenGlgDDg1MENw3YKmWOwlGl1aGajC9wsYRhTPy6CUVaoXVfkfLFvA\nMCIoZeD7RQwjMnnADK+IUmAYEXzfRSkD0JW6KW+H5+WwrDooDRUTjKvsopSJUiauO45l1aG1xjCC\nQ891s+zY+T6uWfcPRCLtpZgUtj1MLLZ4Uk+R1n5p3UYlVjDQ2kapMKBL9exjmglAUSh0E4m0YRjh\nUrvqwzQTmGYUz8thmvFSO3Dw/QJa+0QiraXywPOyuF6GkFUPmDjOMJFIB1o7eF6+1J7qKjG67nip\n7AKGEaJYHCCbPYTjpmiovwnDiNLZ+W+MjP6Cq9f8bwYGHyWbPYJhhBgbe5lIuJ0bbvhP0umdLFr0\nNmxnhJHhZ2lqugPfd1DKQCmL8cxeYrFluM4YSlmEw61YVh2+digWesnljpFIrGJsbBtNTa/A9bKE\nQ03kcscJh5uJRhfieXmyuaMk4qsYGnoSw4iQSKxiePjndHS8lWJxANNKMND/CMdPfJkVy/+UaGwp\nDfU3gQrqNhRqwiptv2FEKsej5xVIp7cRi60gmztCyGogFF6AYw8TCjfjuRksqz445s0odrEfgFzu\nGPH4KiKRdrT2cJxRQqFGtHbxfYdCoRulDCKRhbjeOCGrHscZI5FYU2qfNq43jqHChEL1pfZqAhrP\ny5HNHiIaWwpQOr6LpTYfQ2sb182U2kuktA/DFAo9pFKb6ej4DbLZg8RiyzHNKLY9hGFEMc14Zf/b\n9iDhcEvp+PQxjHCpnZr4fr50fvMq7cey6nCcMUKhBlw3SzjcjOflJ5XpumNYVj25XCeGEcI0Y2jt\no/ExjTiGESodX2ksq750nJho7WEYEcDH92209vD8AuFQ04Tju/w3ccAZH9fN4PsFQqGmCefRYLic\nXP4YdYk1aO2XziXVG8ylpgZyefKpVTNSjhBCCDHR6193ZMbKkoFcpgjeLQkhhBBXhprpQlfK4M7X\n7uGZZ69l7dpPkqxbX+retEpdVB6JxCo8r4hpRigW+wmFFgAa2x4iGl10xnJdNwtoTDOG7zsYRpiJ\n3SpBd8w4npcjFGpAa6/UPaRK3aETbtfp26WyopOmn3Vs51LXZ9BVFaNY7C11w4JtDxGJLERrt9K9\n73lFfD+P1j7h8IIzji8cdMEaZ11nuVs46D6PnOG1oA5cdxylrFI3WaJUNxE8L1+qo6AcAMtKTirD\n9+3SPEEXVdDFF53QXe5Q7s4Kti+MUgaum8XzckQirWfZV+OT1nUuWvulbYmgddAFZ5rR4FaFbrq0\nv4PuR6VMLKsBUJO6s8v791R5XqnruxyzqnTDBd2LsUljVAfd8D6+Xzhj3OcaHzpYl1l546qUgeOk\nCYXqK8sG08++fNAVaZ13LPBgXq+0z84uaAOh88zjAuWuzws3nXXUgnIX9sT9MrEtnE/565Xy4+Br\nqCyOM0ostqz0lYuNacZLbT405XwWjEB+vu7l8ldfF7rPyl/JTf6qsPxa8NVZ8PXeqWnlc9O5YgmO\nGXtS+wvKK5a+GsqjlEE2e4Rkcj0Q5ICJXf6zqaa60IUQQoi5TrrQhRBCiCuYJHAhhLgIxWIR2z59\nPAkhZoskcCGuUIVCgY0bN+L78/MCzr179/KlL31pzsb/qU99is9+9rPVDkPUMEngc1hnZyd79+6t\ndhjn5fs++/fvv+ATred5lykiAfCzn/2MJ554goMHD1Y7lIvy4IMP0tfXd9nbyfDwMJs3b6487+zs\nZLrX3eTz+csV1oxIpVKkUqlqhzGjbNvm8OHD1Q5jTpAEPofdd999PPDAA9UO47z27NnDd77zHV56\nafpD0L788st88pOfPO3ksmvXLtLp9EyHWJPK3buOc/lHFhweHmbTpk0zWqZhBKeny53Av/71r/PI\nI4/gusGvIu677z4efvjhy7rO2XLvvfdy7733VjuMGfXQQw9x//33Mzw8XO1Qqk4SuLhk5UQxMDAw\n7WV2794NwNDQUGVasVjkwQcf5P7775/ZAGuUaQY/sSknpsvp61//Oj/5yU9mdF3lBH65v2fOZrPA\nhb3RKRQKlysccR7lc4bsgxr6HfhM+sEPfkAymWTjxo3cfffd3HbbbdUOqaosqzws6OSTd09PD0op\nFi5ceNoy5ZPzxG738ol6LnX5ne/30nNZKBT8tvZyfgJ/6aWXePTRRyvPXdettIdLVa7zYrF4njkv\nfT1aa4rFIrHYqd8O9/X1cezYMe64447TlhkfH688Ptfv8cXMOzXE8ex8Bbdx40aeeOIJPvrRj85Y\n254pcyuay8zzPLq7u3Fdl6amJpRS5PN5vvKVr+D7Ph/4wAcwTZOBgQFaW1sxDIOjR48SDodZs2YN\n6XSaeDzOjh07KmU+8sgjJJNJVq5ciWmamKZJoVDANE0syyKVSuF5HpFIBM/zSCaTdHV10dzcTDQa\nxbIsxsbGOHr0KF1dXSxevJi2trbKybcc95YtW7juuutwXZdYLMbRo0dZsGBB5Tu4YrFIKBQimUzi\neR6u6zI+Ps7x48dpb2+nra2NVCqFbds0NDQwOjrK8uXLKRaLDAwMMDw8zMqVKxkbG6OtrY0TJ04Q\ni8VwXZfly5eTTqdLAxr4NDY2smXLFlKpFK985Ss5cOAAEHR/33333ViWxejoKF/+8pcB+IM/+AOe\neeYZ7r77blzXJZlMMjIyAkB3dzdr1qxhfHy8Ms22bQYHB2loaMBxHEKhEN3d3SSTSZLJJLZt47ou\nmUyGTCZDLBYjkUhg2zY7duxg1apVRKPBoCuO41TqWinFE088wYYNG7Btm9HRUYaGhmhubuaqq67C\nsix6enpYsWIFw8PDLFiwgH/+538mmUzyrne9i7q6OpRSRCIRfN+nUChU6sjzPHzfJ5PJ0NfXh2VZ\nNDU1UV9fT2dnJ+FwmHg8TjQaJZ/PU19fz6FDh7Asi1AoxMKFC+nt7UUpRWNjI5HIqfHYh4eHK9s3\nPDxMNBqt1E19fT3pdJq6ujp6e3vZu3cvt99+O77vc/z4cQC2bt3KzTffzMjICI7jcODAAW6++WaG\nh4cJh8P09PSwcuVK8vk88Xgcx3E4dOgQoVCIjo4OTNNk0aJFDA8PUygUCIVCpNNpmpqaJiVvgGPH\njrFy5UqGhoZoa2sjHA5XErDv+4yMjNDW1obrugwNDdHU1EQoFKqUaxgG/f39WJZV+YQ1NDRUaTOh\nUIhwOMzAwABaaxKJBACjo6N0dHRUylVK0dDQQLFYpL+/n3g8ju/7pNNpkskky5cvR2tNOp2uvIns\n7OxkyZIllW350pe+BMCGDRuIx+N4nleJK5fLVeazbZtwOIzneRiGgWEYle+eW1tbyefz1NXVEQ6H\nGRkZIZlMopTC9/1KW3Ich+HhYRYtWoTWmlQqRSgUwrZtYrFYpZ2U32wMDAzgeR6tra2Vdh4OB4OU\nGIZBT08P9fX1lRgdx8HzvMo8SgWDrBSLRfL5PI2NjZWEWH7D19/fT2trK5FIBMdxsG27EmtTUxO+\n71fOH8uXL8cwjMoxYFlWJY7GxkaUUkSjUcLhcCWWUCiE7wf3DHj++ecJhULccccdZDIZXNclEokQ\nDoexLKs0vnxQv+XzRC6Xqxz/xWKR0dFRotEojY2NuK6L4zgUi8XKcWIYBuFwGN/3GRgYoLGxkaGh\nIWKxGMlksvLJPpfLEYvFiMViDA8P88QTTwAwODhIa2swSNTY2BjhcBjTNAmFQpPO17OpZgZy0Vrz\niU98YgYiEkIIISb7+Mc/PmNlyUAuU0gXlxBCiCtJTXWhf+QjH2F8fBzDMOjq6kIpxfXXX195Xb7L\nmn0X8h2z4ziYpln5/nyucBwHwzAqF42JQPmaiKnfG2qt6enpYfHixXieh9Z6zn23eCYXen7wPG9G\n2sTkW9tefH3ZdnDr4Nnu7p0L51Xf9y/5vOF5Hp7nVaUOz2buHzUzKBKJEIkEg9QvWLDgtNer3chq\n0YXU+Vw5aKaaq3FV29mSjFKKxYsXA8yrNz0Xen6YqW2buN5LKbP8/fdsmwvn1Zl401++xmkumVsf\nZYQQQggxLZLAhRBCiHmo5hK4n3eZ61feCyGEEOdTUwncGczR84kXyG3uP+Pr2vEonpBhPEVt01pT\nPDYmb3SFmONqKoG7A8GgJ/l9Zx5Dd/T7hxn8wg68sUsf+cnpy9LzDy/hjc/MMJDa1+S2DaD9c59U\ntevjDs3tGyyUDd23h56/f+Gsr7upAnbXqRGv3LEi9snxs86f3z9C5oWeGY2xFuW29DP4HzvJ7xw6\n/8wzxOnLMvbTzmm/aXCH8vT8/Qu4w/OjrYsL5xe9Sce/OF1NJXCs4GpI7foUj6fxMpOTq92TAcDL\nufi2h5d10Frjjk5/zF2/GPx0ZnxjN/64fdY3C166iN2dmXa5uW0DjHz3AJnnu885X+rho/T905bT\ntu1y8Qvued9UnE1h/wh+7uxjZ/d9ejMD/7791PN/3MzAv21H+5r87iFOfvg5xp/tqrw+fN8eUj86\nwvjGborH0xSPjZHZ1Etu26kx2v2CS7FzDAjeIIx+/xDa9Uk/0zWpzryMTfHY2Bnj0p6Pnz973Nlt\nAxQOjOAXPVIPHcG3Z37IR+1p0k+ewC+euezBr+wk/eSJiyrbHQ7a+2y+ERz8z12MP92FPke9TpTd\nNoCfc8luPdWb5hdcvOzlv3GLmB0jDxxg4N+34+eCfeqN25z86EbpJZ2gpn5Gpszg/Yp2fAa/uAOz\nKcLCD/3/7N15fFxnfej/z3OWWaUZjXZZ3mXHjuPsISQkgYQQ9pYALbS9LKW3BV4s95YWSvldaAMt\nlPb2wm2BcoFSCt1YSgNhTYLt7InjJN73VZK1jqTR7HPW5/fHGY1lW7alRLbszPN+vWxJZ+ac85z1\ne57nPOd7bgyG+RJ3JEiPKC2X9Fe34wwViV3bTmnrKO0fvIbQkkbK+yfIPdhL+weuQWgnPx5hH88z\n+uVttLzjcpzh4AUJ0j79FZvupMXw54M3Ny3+/G1Ixyf/2HEab1uMMDTciQpa3EQLn3hkYSpgeJmz\ntw5Yh4M84n7RQW+Y+2MjfsVFuv45xx3/7j4iPU1kfniQxjuWkHzN8jnPa8684EIh+4ujFB4dqP5+\njMZXLDnpa9mfHjlt1MITg9j9ebQGE7/g0PWpm5j88WEqeyfQGkzyG/uxj+Voedc6KnvGyf2qF2e4\nRPfnbiV3/zHyDx9n8edvI//oANmfBdNf/PnbZixm5ntBatnEXcsoPD6I1hgicfsSyvsnCC1uRI+/\n8MfOyjvT5B7sxS86NP16z2mfW4ezWIezJO5cGnx/1xjhVU1okXMf8iJczVNvnf+XoJyYafDDtz20\n2JnXT25TH+GVTegNwXf8womAPfRXTyMtb8btIqWk9NwosataEaZO+p92EelpovEVi0/7rnJ+lPdN\ngNKLmykAACAASURBVJREL2+Z1fedoeAc6pVctJgZXHi7kvzDxwm/c92spuFlLQpPD5O4c+lp5+sX\ng7oK4NILgql9LLiC8zIWXs5GhLSTAm1513ht55mqvVUOZggtaWT8W7sB8As2eiKMdH0QAr/iUjmQ\nASD/6ADO8aB2nf3pEUrbRnGGS3R86BqMjlgteENwX760dZT8xn6KTw/T8juX12qd3Z+9FevIJLlf\n9RFZkwKCQNTwskVgakz8614iV7QQvaIl2MEPZWqBvrx3IrgYmLQILWoITpC+xCs4SMcHXyJMDao7\ntT1QAF+S+UHw7ujUb14GgNkV5JqWtoeeDOOMltATYcrb0pS3pYPl3dRP4lXLgvYc18c6Wr1CFtVO\ng45P8elhzK44kdUpSttGkd6JWntp+yihZQncsTJmewy7L4+Intg1M/cexJ040QoyFbynr0O98ewX\nHFNNcVMnfC9rIYwgUFlHgpp2Zd8Exc1DTP74cG08d6JC/uHjwXzGyrXgHYw3iZ4IozWGELoATVDZ\nP1H73K/WBsvbRmm4sTPYdwxB9z0vAxn0uagcyATrWNew+3JEVjXhVzy0mIEWM4P9y5d4ORstZuCO\nlnEzFTI/PBhMe/cYDS/vBsmJdTRt3RafHqZyKFNrDu/4o+vxCzZa3ESYOn7ZRU+E8PI2Xs4O1mN1\n/MIjA8F2BfAlVm8OoykcrDdDw5u0EKaGl6kgDA2jNYozVkbaHrLiEVnTjBY1wBD4RQcvZ2N2xIId\no7o/ogvKO9L4+eq62j1O/IYOhBEck5VDGfyii9kRQ0+Fyd3fC/SSeuvq2vIl37ASYWrIamvEqYlD\npC+p7J0g84MDlHeP0/Lba7EOZLAOZGi4rTsoy9Qqk8F/0pPgS6Tl1S4qtKgRfK5VvyeqL0Lx5Ylp\n+BKEAK36mRecH2TFBUPDHSlhLm4Aqp87PhiiluMcCUITwfyn2kd9WTtOa+O5PtL1EdWL/Nr4vkTa\n1eEyGG/q+1MXSQhxorxTw9zq/Pxg+aQng3K4flAmUwNd1NaTrLj4to+ePOW4myq/G5xPp44x6UnG\n/zk4dy769MvQwnptOwXlBqGLWmuedLzgmALKO9KYr1xau7Cr7D65VXP6dKa2x1Swztx7iMq+CcIr\nk0R6mjiTk8ri+mBop22TGb9f3fYL9ax73eRCBxj6/NN4k+f3zUaKoihKfQktT9D+/qvnbXoqF/oM\nVPBWFEVR5ttUS+WFVldN6C3vWofdl6PxFUvwKy6TPzlC/IYOoutOvicjXb/W9DOdV7DRYuaL8l6K\noiiKcmmpqwAeXddSC9Za1KD1XTN3hJgpeAPPq1OYoiiKopwPddWEriiKoigvFiqAK4qiKMolqO4D\n+O6HNzB0cP9CF0NRFEVR5qSu7oHP5Jf/8EUA/vh7P13gkiiKoijK7NV9DVxRFEVRLkV1HcClf3qa\nU0VRFEW5FNR1AHfsE4ldVDBXppO+z5b7fohdLi10US4aOzb8kq9/4D0v+DWjufQo9/71p9W6nUeZ\nobO/5Eh5caqrVKqHntnMj//3XwDw8v/2Hh75t2+d9PlrP/ARVlxzPRNDA3Ss6OGRf/sW5Xyey266\nhcLEOI0trTz0nW+SS4+w7uWv5MpXvppDz2xmzc230r58JZVCASMUJpceQdN1Glta0QyTiYF+yvkc\nrUuWIX0fTdfZseF+dmz4Jb/5yb8kOzrCxOBxVt1wE9/40O9xzWvewJqbbgNNYJghYskmPNfhga/9\nPWY4wg1vfAvJ9naEpnFs+3MMHthH86LF9Fx/Izs3PkD35VcgEMSSTRihEIm2djKDA+x5dBNtS5fj\nWBWEppHq6mb40AHaV/SQ6urGLpco56rvgRaQ6upmYqCfsb5eCplx2patoLPnMiYGj/PzL/0t0vdp\naGnl7o99itJkBk03uP9rf8dbP/FpzHCE8eN9tK/oIdqYAGCsv5dnf/YjYskm+nfv5C2fuAcjFEJo\nGr3bt9KyeAl2ucyzP/sRPTe8lGVXXsvQwX1oukHr0mVohoERCtG/awdmOMxT936fV7/3w4TjcYxQ\nGE3X2PbLn5Ls6ORHf/MX3P6u36d77RUk2zsoZCZobGnlJ1/4K/p2bWfRmnXc9fsfwLVtxvp7EZpG\nfnyM9be/iuJkhoH9e9n0z1+r7RdWqcTaW15OOZ8jHIuDlBihMLppgBAM7NtDuvcoXavXYJghGlLN\nuLaNXam+wjaXw4xEMCMRwtEYufQozYuXoBsGI0cO07Gyh/xYmlIuS2NrG9nREUYOHyTelKJ16XLs\ncgnXtmlsbSPelCIzOIARClEu5InEG/A9j0hDI5PDg4z197L0iquINDSy+5EN9Fx3I/FUM3a5zLHt\nz9K2bCWOVSHVtYiRI4dIdXVz+NnNAKQ6F4EQeK5DOZdDNwwGD+4nOzLEyJFDAHSsXMX6O17NWN9R\nEm0daLpOQ3MLufQoqa5FhGNxjmx9hu6167jvbz8LwPVvuBsjFKbnhhv58f/+S4qTGVa95CZW3/gy\nfvGVL7B0/VWsv/0u9j35KKNHD6PpBrn0CG/7s8/h+z52ucTme39AY0sLa295BdnREaTvMzHQz55H\nN7H+jrvYtelBXv6O32Pk8EHscolKsUC0MUGirR3dMBjr72Nw/14Wr1uPEIJCZoL25SvZ99jDhONx\nVlx7A7s2PcjVr34D2x/4We28cMUr7uTKO1/L/V/9v1ilIre87R3kJ8bY+9hDZEeGueHX3oIQglRX\nNwP795AZGmTdbbej6QZWqUjnqsvYtfEBdj+8gevf8Ca6Vq9l6OA+HMuiY+VqUp1dbPr2N0j3HuWO\n330fDangvQdWuYTvukQbE2RHR2rnIM91WXLFlTz7sx/TtmwFfTu30b9nJwB3/O77SLS2cfjZzXSv\nWYfQNNK9R4kmkniOw9Irr0bTNCrFAq5lMTE4wPrbX4VVLiGEhmtbjBw5RCEzzjM/+S/u+N338eR/\n/jvNixZz/RvfTPuyFWSGBtENg8bWNiYG+hkfOE6qaxH5sTSOVaGxtZ1ceoTsyDDRxgSNrW1omka4\noYHcaPBuidFjh9FNk8zQIKmuRSxdfzWVYoH82BhCEzSkWrCKBQ48/QRXv+p1/PIfvkhDqpmX/7f3\nkGjroHfnVvY98SiZweO89gMfoZCZwCoVWXTZ5UTiccxwhKGD+ynnc7QtW0H/np20L1+JZhj4rotu\nGBza8hSrbryZVFc3I0cOUc5l8VyH1KLFDB86wOJ162lsbqV35zZGjx4mNzbK9a9/E7ppsnPjA/Rc\nfyNty1ZwfO9urn/Dm9CNF/6SoimzTaVaNwFcSskXfuvX5qFEiqIoinKy+ewIrXKhz2DRmtm9gk5R\nFEVRZuvXP/q/FmS+dfMYmRCC3/7M3yx0MRRFURRlXtRVDVxRFEVRXixUAFcURVGUS1DdBfBK0eEr\n79/Ijk3HF7ooiqIoivK81V8ALzgAbN/Qt8AlURRFUZTnr+4C+GM/OAiA56jELYqiKMqlq+4CeO+u\ncQA87+J+/l1RFEVRzuacAVwIERFCPC2E2C6E2C2E+HR1eLMQ4kEhxMHqz9S0cT4hhDgkhNgvhHjN\ntOHXCyF2Vj/7eyGEOD+LdW6+q2rgiqIoyqVrNjVwC3illPJq4BrgtUKIm4A/BTZIKVcDG6p/I4RY\nB/wWcAXwWuAfhBB6dVpfBf4AWF3999p5XJY5sSseY8fzCzV7RVEURXlBzpnIRQa5VgvVP83qPwm8\nCbi9OvzbwEPAx6vDvyultICjQohDwI1CiGNAQkr5FIAQ4jvA3cAv5mlZzsn3Tq51f+8vt3DD65fz\nzM+Pzet8lq1vIZ4MsefxoZOGty5pYKw/WJXrbl3EnscGWXZlC707x0+bhmFquI5P86I4E4PF0z7v\n6kkydDh7+nhhHdfyzli2aKNJOe+w7tZFVAoOYwMFrrpjMY99/yANqTDtyxIc2ZYGQGiCtiUNdK1u\nolJw2P/UME0dMSZHZn4JxfqXd7PrkRf3SxU0TeD7F+/tl2RblGy6fM7vTe0HU3qua8MquTR1xEj3\n5SllbfITFQAue2kHBzaP0L2mia6eJqSUPPuLXi6/pYu9p+zjL9SZ9uu5aumOk+qME0+GcSyX3t0T\nFCeDlxctv7KFjhUJNt939KRxVt3QzqFnRl/wvGfj1PU/k1DUwC67JNujZEfLGCEN155dy+FL3riC\nLT8Nli8cM7BKLkuvaEEIcCyPxuYIvi9JdcZ4+idHWXtzJ/GmMImWKCNHs2iGRmaoyNChLF2rkhSz\n9knHfc917Rx+bpSl65rp2zPB6z9wFXbZ5fj+DGte2olre3SsSPDwvx+gc2WCFVe34ToeDU1hHMuj\nnHeINJjseWyQ9mWN2BWPZFuUcMzACOnkJyr4rk9+osLqGzo4tnMcKSXFSQshBM3dcbY+0Ec4arD2\nZV1oQjAxVCSWDKFpgkiDiW5ojB0v0LEigVVy6b6sCd+TeK5PdrRMKW/je5L2ZY04FY+Ro1mWXdkK\nEvSQhlV0AEE5b3N0xxhrXtpBOe8gNMHI0Rxrb+7Ec30mR8p0rkggtAvfoDyrXOjVGvSzwCrgK1LK\njwshJqWUTdXPBZCRUjYJIb4MPCWl/NfqZ98kCNLHgM9LKV9VHX4b8HEp5RvPNu/5fJnJV96/cV6m\noyiKoijTffD/vXLepjWvudCllJ6U8hpgMUFtev0pn0uCWvm8EEK8VwjxjBDimXQ6PV+TVRRFUZR5\nt3Rd84LMd0650KWUk0KITQT3rkeEEF1SyiEhRBcw1fY0ACyZNtri6rCB6u+nDp9pPl8Hvg5BDXwu\nZTyb93/5djzXJxQxarXxFVc08foPXzdfs1CUuuHYHoapsYB9US8JUsqLbh35no+mz99DSFJKpC8p\nZm3iTWE0TeB5PpomEEIgpcQquhghDd3U8H2J5/jBehHg2h6RePA6TtcJxps6V3uej/QkQhNouqit\ny6n16vsSpETTg+lqmsCuuMG+WW3W9hwfKQEBmhAILXgSyfckpaxFoi2K9CR2xSPaYCJl8Hs4auC6\nPoah4dgeviuZHC3R2BIhFDEQGujGwh0D52xCF0K0AU41eEeBB4C/Bl4BjEspPy+E+FOgWUr5J0KI\nK4B/B24EFhF0cFstpfSEEE8D/wPYDPwc+JKU8udnm/98NqFPV8rZPPwbH2X50ENcvnPHvE9fURRF\nUZ6P2Tahz6YG3gV8u3ofXAO+L6X8qRDiSeD7Qoj/DvQCbwOQUu4WQnwf2AO4wAellFO9qj4A/DMQ\nJbgvfsE6sJ0qlgixvO/BhZq9oiiKorwgs+mFvgO4dobh48CdZxjns8BnZxj+DLD+9DEURVEURZmL\nusvEpiiKoigvBiqAK4qiKMolSAVwRVEURbkEqQCuKIqiKJegugzgUkoGP/7xhS6GMo116BCzyQqo\nKIqiBOaUyOVS546N4Y6OcvQtbz1p+MBHP0bupz897ftNv/kbRK+7ntxP7qP4xJMnfRa/7TaKjz4K\ngNHVhdHSgp5KEb36aspbt4Kh0/SWtzL5ve9RfOIJwusup/H225Gux/jXv07rBz9IZc8eio89hpQS\nLRrFzwcvV4nfeiulzZuRztlzJSuKMs80Dfwz5xs3OjvxJiaQtg2GAa57hi+e+bOGV74SWSnXzila\nMomfzaIlEhipFHZv7xnnH7/lFoqPP37SMBGNIstB/vvwmjWYXV0kfu2NFDZsxDp2lMi6dRQe/BVe\n9kSO+YZX3Yl99BgNt97CxLe/g7l0KUYqRXn79pOmradSxG68Eb2pieyPf0zijW+gsOkhWn7v9/Ay\nE4holLEvfZnOz3wao7UV5/hxRDSKMEzwfezj/YRXrSJy+Trsvl5CS5ciXReh61iHDyNCoeD8uGoV\n9uEjhFasQE8mEJEIlV278ctlUm9/G5X9+9HCYbL3/YTYS26g8OhjlDZvBiEwFy3CXLKY8tZttH34\nw5Se3ozW0IjR0Y7Z2YXd10fkinXoySakbZG7/378XJ7m9/wu0nEwWlpw02ncdJpwTw+l57biptOY\n3YsQZgh3ZJj8xk1ErlhH4VcbEKaJOzFBy+//PrHrrkV6HvGbbkKY5hm32/kyq1zoC2k+E7nsXXv5\nvExHURRFUaa7fN/eeZvWvOZCVxRFURRlZsm3vmVB5ltXTejJu+8m+6MfoSeTtH3kDxm+59N0fPKT\npN7+ttOaP5yREQY/9ie0vO+9NNxyC16hwPCf30PHJ/8XRiqFXyqhxWILtCTKTLxCEenYGKnUQhdF\nmSPpeQz9+Z/T8u53E169eqGLoyiXhLpqQpcySHovNNXwoCiKolyc5jMX+otG8Oabi+utQIqiKIry\nfKiqqKIoiqJcglQAVxRFUZRLkArgiqIoinIJqtsA/h/7/oNXfO8VC10MRVEURXle6qoT23Sf2/w5\nACzPIqyHF7g0iqIoijI3dVkDn/7oXKaSWcCSKIqiKMrzU1c1cCkl7/j5O9gxtqM27G+f+VvuXHon\nf/LIn/DRGz7Kjw79iHQ5Tc7K8c3XfJNPPPoJRkojp00rrIexPGtO8++KdzFUHAKgu6GbgcIAqXCK\njDXzRYQudF7S+RK64l3ce+heFjcs5njhOACmZuL4Kle6sjB0oeNJ7wVP59r2a7nnZfewsW8jW4a3\n8KFrPsTnNn+OklsirIeJGBFKTonh0jBZK3vuCZ4HXfEuSm7pjPNfllhGb+7M+cufj8ZQI3k7f9Kw\nkBbC9m2WNC6hP98PQFO4iUlrcl7nfb7c1HUTTw09RUesg9Wp1UgkE+UJCk6BolNkojLB9R3XU3bL\nGMIgZ+c4ljtGc6SZsB5mqDjEksYleL5HSA+RDCcZLg5z2+Lb+Mnhn9BgNiCRvLTrpRTsAocmD3HX\nsrtIl9IcyR4hYkSIGBHWt6xHIim7ZXpzvYyWRlmeWI7t26RLabriXbRGWzmSPcLrVryO+w7fR9bK\ncl3HdQwWBrmt+zY29m8kYkQIa2Fydo5vvPobGNqFD6d1k8hFSslV37lqHkqkKIqiKCfb+e6d8zYt\nlQv9FEIlcFEURVHOgy/e/sUFmW9dNaH/56/9J4cnD3PnsjsJaSF86bOxfyM3dt5IMpxk2+g2okaU\nNc1rgKDWrgK/opxfY+UxkuEkpnbhX8eoKJeyumlCVxRFUZRLgWpCVxRFUZQXMRXApzv6CGz794Uu\nhaIoiqKcU13dAz+nb/9a8POa31nYciiKoijKOagauKIoiqJcguo7gPs+XOSd+BRFURRlJvUbwO0i\nfCYF/3eG5C6+f+HLoyiKoihzUL8B/PG/C35m+3C8UwJ2fvC0rx8dK7L8T3/Gc30qd7qiKIqy8Orr\nOfBvvgb6n5qfaSmKEkgshtzxhS6Foiycd/4Ieu6Yt8mp58BnooK3osw/FbyVevcvdy/IbOsrgPe8\n8tzfWXLT+S+HoiiK8uLxP7YtyGzr6znwd94L2eMgfWhaSt94iZf/700sTkV57OMnB/fL/tcvsD2f\n/X/5WsKGzrefOMaf37ebd960jL+4e/0CLYCivIh4LggNtGo9YnArtK8DI7yw5VKUS0R91cABkouh\naSkAU+8pmakbgK4FH3p+8GH1T/yLvM+AolwydKMWvD1f8rHHNQ6M2wtcKEW5dNRfAJ/m1CA902eO\nVw3g1b9VAFeU+XckXeAHzx7nA//23EIXRVEuGXUdwKdq4O4Mz32fGtx1ceZgryjKC3O2i2lFUWZW\n1wF8qjJtuacHcFPXqp95wIkauKtOMIoy74xqU/pMF9OKosysvgN49edMATwaClZN2Q4CuDHVhK4C\nuKLMO12vXiB76vhSlNmq7wBerYLbMwVwUwegVA3gtSY+GQTx0XzlApVSUV78pm5RVRxvgUuiKJeO\nOg/gZ/4sUg3gp55QfCn50sZD3PjZDYzkVBBXlPkgq+1hRUsFcEWZrboO4I8eHDvp74MjedJ5CzhR\n4949mANOBPtc2eGBPcMADEyWsV2fouXWppEtOewayM44Pyll7Z762YzmKrP63lzMR9N/tuzwbK/K\nBa+cm+3657zA/Ztf7uP/PLAfgC3Hgv3KPvW9BKfwfVm7raUo9a6ucqF/6ke7+JeneudlWoqiKIoC\nsOmjt7OiNT5v01O50GeggreiKIoy3+7424cWZL51FcDPpbspWvv52zcu4bNvPpEy9a3XLeaBj7yc\nqxYnAehpO3G1tSgZ4XXrO1nXleC21a285bpuFiUjL6gsS5tjL2h8RVEU5cK49wMvW5D51lUT+rO9\nGb7z5DFef2UXni95eH+az9x9BWFDP+M4Y7bLPx5P87EVnbWessoLN2I5XP3Ebj7Vs4gPLm0/b/Mp\nuB6rHt3Jt9Yv53VtTedtPrO1aNM2fGD4jmsWuigXhVHL4aondvPfupr5P2uXLnRxTjLpuHy5b5SP\nr+jC1NSxr1w4s21Cr6uXmVy/LMX1y1K1v19/Zdc5x/nEgeP8JD3JS5Jx7mxJnM/indXRksXrnj3A\n/TdcxrLowr/s4UjJotnUaTKf3y40YAU5r38yOnlSAH96skDZlxgCbkk1vuByHi0HnRL/9tjw8wrg\nR0sWy6MhxDxdvKk0JScrVxO3/Go8t8AlOd1fHh7iX4fGWdcQ5S0dqXOPoCgXmGpCPwdbBicYe4Ey\nRFU8n6Lr8b3hCSZdj/8auTh6gb9s817ueubAnMeTUlLyfDSCgCg5uQXo17ce4u3bD/PWbYfp3PTC\nX9FXS4H7PBqa9hTK3Lx5L//Qn37B5TjVxd7ydaFMrYXyRZiBbaGPfUU5FxXAZzD9gNV5/gFgPrz8\n6X30PLqTqfrfxZQIrr8y9zdH/cfwBCsf2VEb130BgcyXkn3FMn+8r49j1Zr2qaYC+KjtMDjH8g5a\nDgCPZfLPu4xnYl1MG3IebBrPceOTe6ic4zGwU3nV7V++CDOwTV1kXuqb6v/1jfJMtrjQxVDOAxXA\nT3GwWGHpwzv40UiGvYUyw3ZwEp9LoHl4Ik+6Ot4L1VcNOlMtuD6X7tnk0Yk8f7SvHwhqtwDOOc73\newtl+is2OdfjbdsOsXE8x9OTBQC+3DfK7U/v59+GJvjgnuAJg/8YGmewYvOFY8Pc/dzB2nabcDyu\ne3LPnMobrd73LM8xKM3GxVjjfCH+7NAAfRWbY5WZL6TOZCo4OtXt5EvJkHVxvFK0mt0V7xI+5gDu\nOTzIG587uNDFUM6DuroHfiZHShZPTBZ4x6IWdlcDy8/SWd6/58RjZ9NrTHsKZX44kuHX25tYHA7R\nEjqxGqWUvH37YQD23rqe1PO8R3yqUDWC25dwdeA3q+sF4Iu9IwA48uyB7I4tQaKP7rDJgOXwSCYI\n3j3RMIen1bo9GXRY+0j1AmHKndXxp0gpT7qfXfQ8kBA/pSPjkZLFW7cF5S37PmnbwZWSrnBoVst6\nLs9ki9zVmpyXaV0MDpaCbfGN/vScOqOdGhy/2p/mLw4Psukla1gaDRHXz9zB9Hwzqy9YOVNriS8l\njpT80b5+3rukjasb1ZMjF8ruQpmC6/HSpoaFLsqCqtsa+K58KTh5A6979gAf3d9P2fNrQds7pcY9\nvQb+m9sO85W+UV7zzAHe8NzJ94GnjzWf96sj1ZNJZZY1t/tGJ+k7Q7PyhfbwRL5W4z7VbC9IBqyT\nWzQOn7Jsp26vM/ly32jt96Ln0fPITnoe3TmtPD7/NZLhZZv31oZtz5e58vHdXPvE3GrwU/OY6X73\nO3cenfO0LlbT1/3Gibndbjh18z9RvUC7Y8t+eh7ZOcMYF4aUkqPVi5LSGVpg3r79MMse3sEPRzL8\nzvYj55zmjnyJYevMLXNjtkvnpm38Ij15zmn1lS06N23joYm5d/7bPFngH4/Pf7+OC+nOLft509ZD\nC12MBVd3Afy+0UkmHJdXPXOA9+4KgnW2mrb03mkB99RAaU37e3p/5GNlm92FMserTd3Tb+WdGlQK\nrscf7u0j67jMVUSfCuCzC1Tv3X2MVz+PTmbnw9u3H+aVp9SEpzjz1Jkr53qzCuJf7B2ht2xR8vyT\nAsSeQpn7x7L8fe8oH9hz5oQ/R0sW/RWbfx8aP+miZHu+xNu3HeZTB49zqFRhzHaZcFx6HtnJ31Vb\nGwrnSI+7t1DmyertgfNhb6E86wudufjKtIuiiTnu26feM4/pF8cp6V+Hxnm42veheIYA/mjmxLaa\nzXK/+pkD3PTUHr54bJjOTdtwTjmWDxSD1LPv2XXs9HlN5OnctI1PHxog53pszZeCcg6Oz2p5AD59\naACAN209xCcPDsx6POXidXEcLRfIvw2O897dx3hv9QDZMJE7qYPSH+0/0fw6fsoB+avxHFJKtudL\ntXtjU+7csp8bqvdXp58gT71y//bgON8dnjipFjjdM9kiH93XP2OHrD+vHnzbcsGBm3M9+iv2SUFh\n0nEpel6tZWHS9dieL5F3PSqef9aez8OWU+u8N1Cx2VecucYMJ/egLnoej06rdT2WyfO1/hPLd//Y\nzHnhp4zac7+YmcmAZWPPIjiVPJ+XPrWXn59Sy3nllv28e+fRc/ZduHnzXl7y5B7+aF8/r9yyn1+m\ng+X7yN4+Hs7k+cbxMW7dvI/1j+8iU92HPn90mL6yxRWP7zrrtO/Ysp83z2Ot4kCxguNL9hTKfGtg\njDu27OcTB47Paw94KSVbq/skgDHHx+1eP+3e7F8eHuQnp2wXX0p+np48qcyHS5Wz7p/z4WP7j9d+\nPzXQzkQCadvhPTuPMmo5Z6y1V3zJXx8N3qWwqVp7ntrnpj9r/oPhiZPG++fB4L0NX+1P84ZnD/Dd\noeDzjOORdVx25kvMxJ+23r56ytMUnzk0eNLnMy6XeloCCM6t0/fzi0VdJXKZj8eSFEVRFGW6jyzr\n4OMrz51XZLZULvRTXOwXKoqiKMqlaapT7oVWN73QhRB8/+oe3jatJ/SZXB6PsLc4t3d9x/XgqdFC\ntensS5cv5cN7++Y0jSZDZ3KG+6R/uKyDjeM5XtHcyJfO0Px+MWkxjdNuQUx556IWJhyXn6XP0XbP\nawAAIABJREFU3LT+8+tXsyQS4von9szYLP5bnc18t9rE+KGl7fxGZ4rbnz5xj/2ulgR/d/lSDhUr\n3D+e4z3drbSFDD53ZIivzTEpS/8rrmbJw9vnNM65/PS61RfssR5TiHnrZzAlqgnKpzQrf2hpO+9b\n0saVj++e8/T+65pVvGXbhe2Q9Ob2Ju4dPXNnsfd0txLTNa5qjPLhPX28Z3Ero5Zz0jjr4hHWN0Y5\nVLJ4bo7Nq82mzoTzwl6LqjH7zH4bXrKGH49k+PvzeP543+I22sMmzabO3kKFr5/SUc4UguXREOOO\nW1v2dy5qwfEl3x2e4F2LWhiyHLojIfrKFrsLZdbEI/xZzyIaDR1TiNrjlxKYsF3+b+8Ia+NRjpQr\npG0X25e8sa2JvOfxtf4071zUQlfYxJWS17c1cagUnNfvG51kXTzK7mKZm5JxdhfKTLoet6YaWRYJ\nkXFcdhcqaAIyjktH2OSGRJx/PJ5m40SeBl2j4Pn8RkeKmK7xmVXd5229nk1dNaFD0GnmuVyJEduh\nI2RyTSJ20XScURRFURSVC/0MIrrGy1IzPzuYHttAONROInHlBS6VoiiKosxNXVY9c7kd+P7p2Z52\n7HgvW565ewFKpCiKoihzU3cBvFTqZcszb+bAwb9Y6KIoiqIoyvNWVwH86LGv8NTm1wCQzW7Dsi7+\nDmGKoiiKMpO6CuBHjnwBKYOkCYXCHh57/GayufntYVyv8vm9lEovnvSgiqIoF7u6CuAzKRXn7/EV\nKSWeZ5FOP4hlj83bdAEsa4QNG3sYG9s0r9OdL09veSNPPvWqCzpP37eQ53gZiqIoyotV3QdwxOze\ndrRz54fYsLHntOHj449g28Ezyf39/8RDD69jx873s3XrO+a1mPl88Hzt8YF/m9fpXko8r3JSQp5N\nD61jz94/WcASzU7FGmZw8AcLXQxFUV5kVACfRQ3O911G0784bbjnWWzb/h6e2/o7PP74bRw89Lna\nZ6XSud9ONCci2FRSzk/u8OdLSp/Bwf+csRf//M7Hw/NOJNNxnEkeevgKenu/dtL3hofvPW3cicyT\n2PPcAnI24+MPs2FjT22enlc5af3s2P5e9u77U2z77C+eePa5YD+qV6deoCmKcnZ1lchlphr0mss+\nQ0fHG9iz908YG9swL/NRFEVR6sdNL32QeHzlvE1P5UKfpf0H/oxHHr1eBW9FURTleXlq810LMt+6\nysSWTN5ANjt/aVnni6ZF8P1z514/9XtC6EjpEQkvomIN1obH46spFs+ca9swErhujnh8NfHYKkbT\nvyAaXU65fAyAWGwltj2B6wZ5n7u738HAwL+yqOttZCafIhJeRKF4AMeZoLX1TrLZrTjOBIaRwPcd\nfH/mVz02Nl5JobC3dhsgGl1KKnUzw8P30tJyO+FQB42NVzA88mMymSdpb3sdufwuQJJMXkelMkCl\nMohlDdHV+RaEMLCsYQwzSTr9AOFwF4u6fhPLHmFk5CekUjeTSFxFJvMUXV2/weTkZrLZrcRjPYRC\nrYym76dSOU4icTWl0lHWXHYPo+kHSKd/yeLF70ITJpY1ghlqwffK2M44hcIBdD2KQBCLrSQUbiUW\n6yES7mB09JdEootx3QKeV8I0EmRz20mlbqJS7ieX30U8vgopPRKJqxgb20ChsJ+urreg63H6+r5B\na+urMIwGhod/RDjcRWPjOjyvRCp1M+XSMWKxlbhekVCohXT6ARria3DcSVwni+Nm8bwSrS13oOsx\nfOnS1PQSMpmn0PUoppkiEu4kHl/N4OD3aGxcj+sWSI89SDJxLfnCblqab6P/+L9w2WV/hmkk6O39\nGpadJpfbQaJxPasv+xRWZQjLHiU7+SyaFqKxcT2Tk0/jegVaWm4nFGohn9/NsWNfOec+PR90vQHP\nK9De/nqy2eewrGGi0WWUy2d+rzuAaTbjOCe/tjMW66FUOvv7Egwjieue/TW5Sn259prvLMh866oJ\nXUrJ/gP30Nn56yQT17Fx0yoALlv9KZYs+d3Tvp/JbMYwGmlsXHfScMfJoOsxNC08L+VSFEVRlCmz\nbUKvqwCuKIqiKBc7dQ9cURRFUV7EVABXFEVRlEuQCuCKoiiKcgmqqwCeTqfZvXs3vq/SbyqKoiiX\ntrp6jOwrXznxWMub3/xmrr766gUsjaIoiqI8f3VVA5/uySef5NFHH6VUKgHg+z733XcfAwMDC1wy\nRVEURTm3ug3gw8PDbNiwgb/5m7/hnnvuoVAo8Nxzz/GNb3xjoYumKC96UkoOHDjA4OCJBES7du2i\nXJ45CZCiKKerqyb0s/nCF75Q+/2ee+5ZuIIoiqIol5RbbrmFu+668OlU67YGriiKoijzYWhoaEHm\nW1c18I997GOMjo7y7W9/e8bPo9HoWZvwFi9ezIoVKzh8+DDDw8OsXbuW0dFRQqEQUkpaW1s5evQo\nhUKBUCjE4sWL6e3tZfny5ViWheM4xGIxjh49ypo1a9i/fz8AqVSKnp4eDMNg3759rF69Gs/z8H2f\nQqHAVVddRaVSwbIsBgcHaWlpoVwu09jYyPDwMB0dHZimSV9fHz09Pezbt4/m5mba29spl8uUSiXG\nx8dJpVJIKdF1HU3T6O3txXEcDMPg5ptv5sknn6S7u5v29nbGxsZqn9m2zZIlS/jZz37GZZddRj6f\nJ5/PE4vFaG1tJRqNkkwmWbRoEVJKyuUy+XyedDpNJpOhtzfISZ1MJvF9n46ODiYnJ2lububAgQNc\nc801rF+/HsMwKBQKPPvss6xZs4bBwUGi0SiVSoXdu3fT1tbG2rVrKZfL7N27lyVLltDW1saSJUvY\nt28fjuPQ1taGpmlEo1EikQiDg4M0NjbS3NxMLpfDcRySySR79+7FcZxaOUzTZM2aNbiuy+TkJEII\nXNclmUyyZ88ekskkjY2NlEolNE2jXC6zfPlyYrEYTU1NRKNRHMehVCoxNjbGwMAAy5cvJxKJ0NjY\nyOTkJMVike7ubkqlEplMho6ODhobG8nlcrS3t1MsFunt7WXFihW4rksoFKrte5OTk3ieh67reJ6H\naZpA0BRt2zau62LbNuFwGNu2qVQqte/G43EKhQJNTU1IKRkfHycajRKPx7Esi3K5jKZpVCoVOjs7\nsW27dhw4jlP7XjQaRQhBNBrF931M08T3fRzHqe2Lvu/T0NBAS0sL8XgcIQSe56FpQV1h6qeUEiEE\nvu/jui4TExM0NDTU1pvruuTzeTRNw7IsGhsbMQyDSCSCbdtks1kMw0DXdSYmJmhubiYSiWAYBhMT\nE9i2jWmaeJ5HOBymv7+fRCJBQ0MDuVyOZDKJbdu15TNNE03TcByHRCJBoVCgWCzW9g3f92tln1r/\no6OjlMtlurq62LNnD21tbeTzeQAGBwfp6elBSkmlUiEUCpFOp4HgZF+pVEilUui6TiwWq23f7u5u\nBgYG0DQN0zRZvHgxjuMgpSSfz7NkyRKKxSLhcBhd14lEIoyNjWEYBg0NDYyMjNDW1kZTU1NtP9i6\ndSvRaJSGhgaGhoZobW3FcRyKxSINDQ3E43Eg6AcUDodr/wqFAq7r0tnZiWmaNDc3Mzk5SVNTE77v\nI4RgdHSUZDJJuVzGtm0sy8J1XZqamsjn8yQSCUzTJJPJ0NDQgK7rFAoF8vk8zc3NhMNhyuUyk5OT\nLFq0iHw+z+joKG1tbUQiEQqFAgCRSIRisUhjYyO+75PJZGrnt3A4jGma2LaNpmnk83lSqRSO4+B5\nXu3YmDoeKpUKxWKxVsapddfR0UEmk8FxHLLZLIODgyxZsoTOzk5GRkbI5XK1ZVmyZAmxWAwpJeFw\nmOXLl88xGs2Puk2l6vs+6XSajo6OeZ+2oiiKojxfKpXqOWiapoK3oiiKcsmquwAuPYl0VSIXRVEU\n5dJWdwE8/fUdDHzy8YUuhqIoiqK8IHUXwO3e3EIXQVEURVFesLoL4IqiKIryYqACuKIoiqJcgs4Z\nwIUQS4QQm4QQe4QQu4UQ/7M6vFkI8aAQ4mD1Z2raOJ8QQhwSQuwXQrxm2vDrhRA7q5/9vRBCnJ/F\nOreL/fE5RVEURTmb2dTAXeCPpZTrgJuADwoh1gF/CmyQUq4GNlT/pvrZbwFXAK8F/kEIoVen9VXg\nD4DV1X+vncdlOSe/7NZ+l87se6JLzz9jwFcXAgHpn309SO/Fv57UvqAspHMdg8qLzzkzsUkph4Ch\n6u95IcReoBt4E3B79WvfBh4CPl4d/l0ppQUcFUIcAm4UQhwDElLKpwCEEN8B7gZ+MY/Lc1aDn37y\nxO9/9sSFmq2iKIryIhZemaTtvVdd8PnO6R64EGI5cC2wGeioBneAYWAqK0o30D9ttOPVYd3V308d\nPtN83iuEeEYI8cxU+kFFURRFuRhZR7ILMt9Z50IXQjQAPwT+UEqZm377WkophRDz1n4jpfw68HUI\nUqnO13S7/+pWJv59H+WdY7VhLe9eh7Q8tJhJaFkCL2chdA2hC6QEYQiEGdwB8HIW3qSFFjXQE2G0\nBhPp+PglByTojSZWbx4taiAMgX28QPTyZvyKh19xQQi0qIG0XNx0GaM1it2fJ3pVK96khZe1QYAW\nNxGmBhL8iosWM/EyFfyigxYzQQS3ACKrU7iZCkIPpmsfL4Au0OMm0vVxRksYrVGk5aEnQoiwTumZ\nEcKrUzhDRZzhImZbFDdrE13XjG95FB4bILw8SWhxAyJqgOtT2jGG2RlDCxt4eTuY99pm7ON5rCNZ\nEncswR0vU9mXobhlmPhNXdjH8zS8bBHS8ggtbsSdrOAMFpG2h19yERGd2FVtWIcnqRzOYjSFiV7d\nBgLwJZV9E8Rv7CL/yHH0BhM9FSH3qz6a33YZ1qFJjLYo0vERYT3YBkUHozmC0R7D7s9jpCKUto4g\nQjp6Ywgvb2P353HTZULLE4QWNVA5PIk7ErwPPnZ9B+HlCZBg9eaQtocI6YiQRvHpYfAl0XUtVA5N\nIi0PNAgvTyLCOuEVSbycTWXvOF7JRZZd9JYIZkccPRHCPpbDXNyAM1BAT4So7M9gdsZACMIrk6AL\nnKEiQhO44xVi17bX9gEtrKM1hijvSOMVHTRTx8tZhFYkKW9PE1nbjBYzyP7iKKGlCUJLE0TXpkh/\ncxdGc4To+lbMjhhWbw4R0oOytMcobhlGT4WRnkRoAm/SIrwyiRY1cMfLxG9aROVABqELvLxNaFkC\nHB93vIwzXMLsbkC6PlpER4ubmF1xcCV+2cUZLiJ9iay4aA0hKnvHkbZP+LIUoa44UkpKW0dpuKWb\n0jMjRK9uQ1b3vdDyBH7eJvHa5QhdQ9oe5T3j6I0hole0IqVEi5lYhyYxO6rbuj2Gl6lgNEdwhosg\ngjJrcRMva6E3hrCOZNEiOtbRHOGVSfSmMJHLUpR3jWF2xAmtSFDZO4G0PHzLQxgi2D4rEqBpWEcm\nCa8MtrPeGMLuzRFansQZyFPeM4HRGiW0KI6Xt/HyTnAeq7igiWBfrXhYRyYRpk78pV14WStYtzmb\n0rZRUm+9LDiejmbRk2GMpjBmdwNIiZd3cIaKeBNlGm5djAhpuKMlvLwdbIuuOGZXHGeoSOSyFHoq\ngnV4EqM1ihBQ2DyM2RVHC+v4lkd0XQuZew9idsSJXtGC0RyhciADIrjNGFnbXD0Rg9EcwR0vYx3L\nEV6RxC86CEOjtD2N0RZFGBpaxMDuzwXnPVPHLzl4BYfKnnESr1mOdSSLn7dr2wlNEFrSiJGK4BUd\n/IKN3hQOzpNFB7/iElmVwi/a+CWX/OODhLobQIPkq5fjZS28nI0zWMAZK6Mnw4S6GzBao7ijJSr7\nM4RXNSF9idESQVo+lX3j+BUPLW4SXduMPVDAnaggKy7OaImGm7oI9zThjpeRro/ZGQ/WcdYmckUL\nXs7GOjyJFtJr28jLWjTc0k1oWSNmW2y+wtSczCoXuhDCBH4K3C+l/EJ12H7gdinlkBCiC3hISrlG\nCPEJACnlX1W/dz9wD3AM2CSlXFsd/tvV8d93tnmfr1zoiqIoinIxmrdc6NWe4t8E9k4F76r7gHdX\nf3838ONpw39LCBEWQqwg6Kz2dLW5PSeEuKk6zXdNG0dRFEVRlDmYTRP6LcA7gZ1CiG3VYf8f8Hng\n+0KI/w70Am8DkFLuFkJ8H9hD0IP9g1JKrzreB4B/BqIEndcuWAc2RVEURXkxqdvXiSqKoijKxUi9\nTlRRlIvaf3zqY9z7159e6GIoyiVr1r3QFUVR5tPggb0LXQRFuaSpGrgCwFjfMaxSaaGLoSiKosyS\nCuBncXTbs0wMHj/3Fy9SG/7pq3zt/e+a1Xe//bEP8Z+f/eR5LpFyvk0OD5EdHV7oYiiKcgHUXQAv\nTmZ47LvfYay/l+HDB/HcID+65zr8n7e/kS33/ZAjz21hfKCf//qrP+dbH3k/EOS5Prb9OaQ/+xzq\nczWwf+8Zp2+VSnPOtb3t/p9RyEyc83tT0x0+dGBO05/Jw//6T3zpd98GQCmXpTiZmdV4F3tnykvF\nN//nH/CPH/79BZt/uZDH97zThlcKBXw/GF6czFDKTp70ed+u7eza9CCVYuGClHOunErlvB77ivJ8\n1FUv9G986L+TS4/My7QURVEUZcoff++n8zYt1Qt9Bip4K4qiKC8WddUL/fe/9I889/P7uP4Nd7Pr\noV+x5b4f8gdf+Sek75MZGsC1LJq6uhFCoOk6oWgMMxzGrpSpFApE4g2EYlF812NyZAik5Pi+Pay6\n4aVA0AwfjjVQzAbNxg2pZjzXxQyHyY+P0ZBqRtMNpO/jeS66YWCVShhmCM91CEWi+L6P59houoEZ\nCeO5LppuIIRgKv+8lD4g8F0XIxTC9z2EpiF9H90w8VwXIQSVQp5QLI4QQRO8bhiEIlHK+RzRRBLf\n8xCawC6XMcMRyrksvu8TbWzE9zw0Taecz2FGo4SjMXzfR3oeRiiERFLMZIg3pdB0Hd/zsMtlKsUC\nidY2pPSREgzTRPo+5UIegHAsDkhKuSyGGcIIh9H1YDcs5bL4nkdpMkNqUTeapmOEQri2jR4Klsu1\nLHzPwwyHcSyLSEMjTqWC0DSEJjDMEL7nIZFIL1gvRiiMY1UA8F0P3TDQDAPXtvEcm2giiWtZGOEw\nAK5lIZHBcvoSkAihIYTA8zyk7+F7PkYoVN0esrbPWKUidqmEXS4Ra0qRS48SikYxzBChaAxND66Z\nha7XlsUIhdEMHb1aJteyCEVjtWUq53KY1bJJSTDtZBNWqUg4FsOuBMsmfR/fdYkmkuTH0kQTCexy\nGd0wKGUniTQmCMdiQT5xTaeQmUA3DbLDw4RiMWKJJJoe5P0PxeIA6LqOV90mZjSKGY6g6zpC07Ar\n5do68FwXXTfwq83MumEE28H3p33HwalY6KaBGY7gOg66roMQuLaFbpjY5TKaruE6DkLTglzgrotd\nLmOEzGC/dT1008RzHEKRSLBfSokQoGl6UBbTxLEq6IaJlBLdMLDLwW2ocDSGnLZNpe/DtONruqkW\nylM/m9rm0//OpUdpbGnF94LyISWe56HrerDOq/tHKBqrzjN4BWhw/ATHOVLi2jalXJZwPI4ZjlS3\nl4br2BhmqHasW6UidrlEONaA555YX7ppYkYiwW03zyOaSOJUykgp8X0fIYLjRDcMHKuC7/noIRNd\nN5BS4lgVzHAkWDfSr24TAyHA93yk9InEG3Bsq3YOqxQKxJtSWKVC7RgMNzRQmpwk3pRCItF1A7tS\nRjfN2jEvNK12TvNdD99zEUIDQW3ZkbL2venre2qdBeWU086PwTgSWVu/U+tbCK02D6EF29+17eqx\nHuwHvhecI6b41fPI1DFWK4uUJ22ThVBXTeiKoiiKcrFTTeizMDlawvdUxxRFURTl0lNXTehTpJT8\n/Ks7ObZjjGvuWsotb1210EVSFEVRlDmpyxp4Oe9wbEfwTvCB/bN7zElRFEVRLiZ1GcCn3/e/2PsA\nKIqiKMpM6jKAe86J+95BL2NFURRFubTUZQB37RMB3PdUAFcURVEuPXUXwEeO5viPz2yu/a0CuKIs\nvGLWUk+EKMoc1VUv9Ae/tZsDm0/OxpZNl0/73sEtIyy9oplwzAQg3ZfHc306VyYvSDkBfF+iaUGC\nAqfigQDd0NCN+b/m8hwfTRcI7eTEFEIIHNvDDOm1YXB6UovpXMdD0zU8x8cMBwksgmQKp5fbdTx8\nTxKKGBzcMkLXqibiydBJ5Zg+XyTVZAxnnn+QxAEc28MI6QgRjHfqNM9lavmnbrF4ro9maGjV6Uhf\nIqH29xTfDxKKTCnlbOLJMFbJwQjpaHrwoWN5mGEd3w/KW87bhGMmnutjlVzCMYNI3KxNJzdeJhI3\nz7oPTJXZrriEIkYQEKvL4FjBdtRNrfZdu+wSjpm1dTbT9p+J7/kITdQSaPh+sI96ro/vSRqbIziW\nx6Z/2cvBZ0Zr491090qObE0z2ps/67p/zR+sZ8U1rXiOTygyv6co6Us8z8cw9VmP41ge44MFChMW\nPde2zWlfOtt6fD5m2lZTSjmbcNxAn+FYe6GssksorJ90/PnVY+PUY+BC8H3JwS0jhGMGjc0RXNvH\nCAfHRiwRqh3787nuL0Z1lcjlK+/fOC/TURRFUZQpHSsS/MbHz5l3ZdZUIhdFURRFuQBGjuYWZL51\n1YT+mj9YT+/OMVqXNlIpOAwdzs76OfDLX9ZF3+5xOlYkObItDcDamztJtkWxyh6+69PZk8SxPDzH\nZ9FlTRzbMUZLdwMTQ0WkLzHDOp4jKRdsEi0RzIjBsvUtOJbHaG8O6YMR0ognw+iGhmYIynmHzhUJ\nRLU5PT9eQdM1NF3Qv3cCTRNE4ia+LwlFDRItEUo5G7vsEooapDpjTI6W0XSBpgnMsE44Fmx2SdAH\nIBw18Dyf4qRFOGrgOj7ZdJlkW5RQxEAzBKWsjRkOmmA1TZAbKyOEIJYIYVdcXNsnngojvWD53GoT\neiwRQtM1xvrzhGMmdsUFCamuGEe3j9G5Mkk8GSKbLhOOmUwMFYk2mEQaTMxw0Mw5PlBECIg3hdE0\nQShmoBsaUkoqeQfd0DDCGnbZY3K0RFN7jFgiFDTvuhK74mKEdbxq50VNF2TTRZKtEf5/9s47TI6j\nTNxvd0/evKucbEmW5SQHbOMA2GRM+BGPMxxwHPFIBxzhCIYzOYfDYDDBYGxwxjbOSZIlWVbOcVfa\noM15d/JMx98fPT07MzuzO7s70q689T6PntV0V1d9XV1VX9VXVV/JLheSIhEZTFBZ58c0LCTZXujo\nfAMns/rbI7i9Cm6vgq/MTTKu4y93YxoWalJHVmQ8PiVttnOmH0zDRFZk27xOtvnT0M0sk3ghk2tk\nKEmg0o1jn880Dw50RvAF3Lh9CqZhobjs/J63vNI2cxsWsss2ecdCKv4KN7GQiiRJ+CvcxMMakgQe\nvwtJlmzf2Iqc8jdt4cqYQnGmQwzdTE8VDPXEKK/22s+XyGRpWRZ6amoHyzbTGoaJGjdQEzr+Cg+R\noQQ1C8qIh1V8ATdmSl5FkZBdMrpq4HLLIEkkIhq6auCvsMurL+DGMExiIbsupqcEUiZ2LWnY5TWm\n4yu3pzIypw5M0yIylLCnNdwyA+0RvAE3Xr8LNWFPgWhJA8sCXbXjCvbGqFtSjqLI6Tricsskojpl\n1R60pEEspFJR66P96BC1C8vwV3jQkjr+cg+R4ST+CrctY2q6wl/hYaAjQlmVl+r5Afrbw+lv4PLI\nuL0uOhqGWHx2DbIipady1LhORZ0PQ7fzKxZS0ZIGgSoPalzH7XXZz3sU1KSBJNl++BWXRDKm4/Yo\nePwuElGN4Z4YikumotbHYFcU0zDRVJOFK6swdJNYUKV6foCOhiFiQZWKOh/lNV762yLMXVaBmtAJ\n9sVZuLIKWZGJDCWoqPURHrS/b9uRQSpqfSguGV+5O/VeSqoejF3eEhENJHuq1NRNNNUgOqwy74wK\nQv1xBjoiVNT5qVkQwDIhPJigaq4fwzDZeFcDqy6fz9yl5TTv66dqXoBzrlzAcG+Myjl+4mEVXTXx\nBlxUzvGXpNxPlFllQhcIHI698lWY4TCrd4myJRAIZhbFmtBn1QhcIHDQu7unWwSBQCCYEmIOXCAQ\nCASC05BZp8D7fv0b+m66abrFEAgEAoFgSsw6Bd5/8830//Z30y2GoEjMRAK9v3+6xRCcZPShIaJb\ntky3GALBacWsU+CCk0vo6adLqnDbPvZxjr38FUWHj+3cSbKxsWTpn2xCzzxDeJ3wT9D20Y/R+qEP\nY6nqdIsiEJw2iEVsgpJhJhJ0fPZzeFetYsUjD5ckztiOHRMKf+L9HwDg3KNHigpv6TqSa/qqQcd/\nfRYoXt4XK8ljxwC7DCkezzRLIxCcHogRuKB0mPY+62RTU8mjtnS95HECmJHISYlXkB/LMLDM0T7P\nnU6UGYudapEEgtOWWTUCNzPMc1pHB8gyktcLpolcXo7e14fs8yH5AwzddScVr3kN3hUrgJQPYk3D\nMgwkrxdJHr/vY1mWrdRkGUwTSVEwIlHksgCQ3wmBZRh2WLd7JA5nr75hgGu0swzLNMEwRmRL+ai2\nX1RDHxpCqaxEcrlG4jXNrHewTNtvthO3ZVmY0ShKefnod7Ks9LOWrtv/NA2tszMtp+OQxFRVO11Z\nznJSYsbj9miruhpjaAjZ6wVFQe/uxgiFcM2fj1JTk0432dSE7+yzsUwTK5FA7+tDqa1FPdGKZ8li\ncLkgj5K3dB3LMDAjESS3G8nrxdJGwiUOH6bs6quz8h5ZxgyHkQIB9N5eBv/8F+TKCjxLllB2zTUo\n1dVILhdWMokRCqNUVoCigKYh+f1gmva3cLlsjyumieRyYSYSWIkEks+HGQ5jZHQeTNV2rCK53Vnf\n3IzFkX123mBZ6P396fQxDDu8pmGpKnJZmf0OloWZSCCXlY2UP01DHxrGjEZQKiuxVBWlttYu/yky\nv73W2op7yRIkRbHzXNPssiNJWKpq/1/XMcJhJK8PdA25qgozHAbTxIhEMKNRzGgMz7JDihrLAAAg\nAElEQVSlJI8fJ3DppRxdcyEAq/ftJVlfj3riBN7Vq5HLyzFjMcJr11L7vvdllUsrmbTLnN9v55/b\nbdddpwwahl12U2XMKZ/G8DByZWV2Oc9xlGOZJsbAAEpd3ag67aQt+/12OTJN5DGsA5amgcuFlUgg\n+0ccezhth5Tn2Uw/HE69zZJPVUk2NxPfu4/ApS/BtWAB4aefofKN12EmEgAo1dUAGIODdp3JqMf5\n3rlYnDKZPgNBlkc6WqoKhpH1nqeaYs5mOJlpzwQ/67PKkcuRc84tSTwCgUAgEDi4Fy/mrLXPliw+\n4QtdIBAIBIJTgNbRMS3pzioT+vN3fhbpvid4/wd+RPM73wXA4l/fRNlVV9u+pb1ezGg0be6zdB2t\nuwetvQ3PihW26VE3iO/ZQ7KhnrKXvxxXbW3a5GoMD4PiwnPGsrQpm5SpVfJ4QJazzI9mMmnP7Zom\nSlWVbTaVZcxYzDbDBQJIPp9tAtX1tPnbTCZts2k8jlJXl/aPDRlm0JTpXPZ67bhJ+bLWtLR5Nm3S\n03X0wUHc8+fb4VIySZ6UP/FgEMnns82ulZW2ud2ykJTsIxnNeNw2sblc9nsqClpHB5LPh2vevLQ5\nztK0UaZIZ3oj8/ooc6Jl2dMIimKbj/MsPnOmBoxIFNnjBmfKIB5H8vlGzK6pcHp/P5LPh+zxYKqq\nPYXicqWnP3LfcSzMWMzOU0nCjMVQKiryvkc+8plOne9jGYa92M7jAU0Dtzvlt9scMZHnTH+kpyqi\nUXC7R+W3petYqmofl2oayGVltrlcVdP5gJLtb9p5RnK5wO22pz7Ky8c0K2el6UxhpeTP9+6WpqG2\nt9tlrboG2WeXX8sw7Pd0SJWDXHO4JMtYuk6ysQn34sXIfp89pRCPY8bjWKqGa97c9JQDgJVIZJuj\nU9/ejEaxTBOlogIjFEKpqkLr6sY1pw7Z50ubcPXeXlx1dajNzShz5mBpGq65c9N555jWjf7+tInb\n+a5yqo6lj2YNBjGTSSSXC6WqKiWXhBzw5zXx4+SLZdllIKO8qq2t6fTMaBQkCaW6GiuRQG1qwjIM\n3IsXow8MgGnhmj8PMxzGs3x5etpn1DfUNMxEAjMWxwwFMSIR3IsXYwwMMPzAgwQuuwytowOtvZ2K\nN7wBz/IzCT3+OGVXXUX42WdRamqQZBnf+RcQ27GD4MMPM/fzn6PsiitQ29rs6TfdAMtE7+3Fd+65\nRLdtx71oEXJZGcmGejxnnIFrwQJcc+ei9/aSOHoU36pVoCgM/f1OAle8FGM4iDE8jBmLUv32t6O2\ndxDd8gKuujkgSfhWn23nUVs7aksLrvnzqHzDGzAjEULPPGMf2aooxA8coPK6N+BevJjBv9xG2dVX\nEbjsMizLYviee/FfdCGSx4P/JS8pqg6UmlllQl/z1zUAHPjggZLEJxAIBAJBqREm9DF476Pv5dtb\nvj3dYggEAoFAMGlmpQI/OHCQ+xvun24xBAKBQCCYNLNKgb9t5dumWwSBQCAQCErCrFLgL1340ukW\nQSAQCASCkjCrFHiVp2q6RRAIBIYG674PSeEFTyCYCrNKgXdHu6dbBIFAsO8u2PgTeO6H0y2JQHBa\nM6sU+OULLs/6fd0/ruOm3eJscIHglKIn7b+a8HsuEEyFWeXIZblvTtbvjkgHfzzwRz550SdRZIVg\nMshzbc/xiiWvwCW5uKf+Hq5bfh2Lyxezq2cXO7p38PELP45bdhNMBnms+THOrzsfn8tHhaeC59qe\nI6JGuHDuhVR5q+iMdHLt0msJJoMMJgY5o/IM9vTu4YK6CzAxCSaDACwuX4xpmbhk24FIMBmkwlOB\nYRns7t1Nd7SbVy19FU3BJs6rOw+vYvuvznQAIUkSuqljWAYuyYUiK1iWRVgLU+mpTIe3sJAlmZAa\nwiW58Lv8aWcYhmmgW7afcK/ixTANYnqM/ng/Nd4aqrz2FIRpmfTH+6n119Iw2MCSiiVEtAhz/XOJ\naTE8iicdr2VZ9Mf72d27m2uXXIsiKcT0GJWeynS6A/EB/C4/PpcPWSrcp4xpMWJ6jIArQMAdwLIs\ndEtPf48ydxkuObtIq4aKRxlxlqEZGiYmiqTQG+tlUfkiNFNDkRRkSU7H6ZJcWFhISJiWiSzJ6KY+\n4htaAgkp/c0sLAzTwK3YvsydZwASRiIdvyNfXI8jIeFz+bLkNS0TCSn9XqZlkjSSWJZFTLcVXsAV\nwOfykdATBNwBYloMr+JFkRU0U8MludAtPS170kjiU3xIkkTSSCIhoRoq5Z5yFElBN3X64n3opk6V\nt4qwGkY1VOYG5hLVoum8LnOXYVgGsiRjWiaNw434FB+Lyhfhkl3IkpzOQwALi7Aaxu/yo5s6ITXE\nvMA8VMv2Xe6zLGJajK5oFwvLFvKTHT/hA+d9gCUVS/DIHkzLJK7HUWSFhJ6gxleTlVeZ+WxhkTSS\neGRPuuw73yqYDKLICn6XP53/raFW6vx1BFyBtKwAmqnRG+1lftl8TMvEwmI4MUxIDbGofBGmZdIR\n6aDWV8sc/xy7PiGjyApJI0lEjVDtrba/haGlywOQzjuAvlgf8wLziOtxgHT7M5QYQpIkzqg8AwmJ\n4eQwbeE2zq87n+HkMEC6PnsVLxEtgiIplLltpzRJI4ki2eXAo3jojfWyrWsbF8y5gDMrz6Qz2km5\nuxwLO1/8Lj8SUrpsVHur0U0dl+zCLbuJalHcspuOaAe13lraI+3M9c8l4A5Q46shokao8dXQH7eP\nEG4LtxFKhjh/zvkokkK1t5r+eD9l7rK0TMOJYaq8VcT0GD7Fh9/lpyPSgWEZzPXPxbAM2iPtLAgs\nQJIkytxlhNUwuqnTFm5jf99+FpUvYnXNasrcZfTGeqnz1zE/MJ+kkSSuxzEtE7/LT0SLEHAH0E2d\nlmALq2tXE9fj1Hhr0EyNpJGkL9ZHnb8u/b1f6HyBxeWLmR+wy0CFp4KmYBPLq5bTGmpljn8Otb5a\n4nqc9W3ruXrR1SwqX1Sw3TqZzCpHLvz5jaxR2ksTl0AgEAgEKUrpIEw4cslH6wvsbW7Fp/jGDysQ\nCAQCQRGcVX3WtKQ7q0zoAAqw4x1P8PDvLuSfVTXUnP1GTMvkg+d/kAvnXEhYCxNVo8wvm09CT5A0\nksT0GIvKFqFbOhE1goREwB3Ao+T4l06Z9BRZybqmmRoALtmFYRpEtSgVnoqscGCbkr2KF5/Lh4TE\nQGKAOl8dsiTb5l9Twy27s+IeSAygSArl7vK0aRogpsdwyS46I53M9c/Fq3hxyfZRpJnm3Vxzb6ZJ\nPqpFbdOspNimXUnKMnFbloVhGcT1OBWeivR1zdBwya5R8WaS0BOE1TBzA3Pt/LHs/HFM/E78Flba\nrOyYboGsvItpsbQpOapFmeOfw8H+g5w/53wsyyJhJNAMDZ/LN8pkrZs6lmWhyPY7Ou9qYqbNoc5v\nRbJNsxEtgm7qeBQPijQih2PWdituFElJmyadd3Fw8sXJa93SwbLNt5Ik0R3tZkHZAgD8Ln9en/BJ\nI4lbdqfNx8475AubWyaTRjJt6nbL7lHfZipkfnMn/VHx77oNHvkc4Uv+DeuNP6bSU4mhq8jfm0s0\nUIv7i0fxKt5Rx0UmjSQxLUa1txrN1BiID1DmKaPCbU83RbUocT2OaqgsrVhKSA0RUkMsrViaTjqi\nRij3ZB+RW+p3zkU11HS9nWxeJ/TEqLI7WXLbkYngmNcL4UxZOWRO200Ep20ZK61ThdOG57b3M4HZ\nZUL/dg1YJnzhCPziXHCXwQ2dpYlbIBAUx66/wiOfhUveD2+72b5maPDd1BqVbwWnTzaBYAYgTOj5\ncHqdmr1whNRoTiAQnEIca4CZUf9MY3pkEQhOY2aXAndMIH319l9LNBqTJtwNWqK0cSYj0PBUaeMU\nzDycjnRqagkQnWmBYBLMLgXuSinwu99r/zW07PuxQTD0UytTJloCfvNSaN448WcNDZ66wX6HU8HP\nV8M97yttnI9+Hu78V+hrKG28gpmFOzWX61jCAOofnx5ZSsFAI3yrCtpLNNUnEBTJ7FLgoxYhZMz/\n60n4yXJ4/EtjxxEbhONrSy4aAINN0F8Pj3954s8efQy2/Aae/Frp5SrE8WfHvn/bW2D/vcXHN9hs\n/02UeA60cT2o0dLGOdNZ+12of3K6pciPs/DPUeDRfvjHR4p//vha6C7dlp0p47QH++6aXjkEs45Z\npsDHWHnpjMb33T12HHe/D/72ztIrGQCXNyWLOvFnndWt2gxSVC2b4IGPFR/eWXFqamOHmwjBdrjj\n7fDgJ0oX5+nApp/BXddPtxT5cczljgLXJzgV87d3wi0vL61MU0FJldtci55AcJKZZQp8rG0AqdF4\nrvJIhODIoyO/B47bf6c6/9u4Drb8Nkc+Z5HdJOJ25hVPRSNSzM6FyexucN7fcbVZCpzOUNe+0sUp\nGB/ThB1/yjaTOzhrTyI99t/OPadOrpNByjNiScvtbME0Yest+cuJYFxmlwIPdRW+Z+rZfx0e/ow9\n19t/zP7tdAImM0q2rJHVtne8A57KMXc7eyUnM7p3Ru+lrgjdB2xT+LEMc3kxyjk3H4vB2Z+bz9x9\n4P7Jze+nG9cSL7g73Vj3PXjgP09devWPwWNftNPNxRmBDzbaf+95f/b96VyH4qAnYcvNxcni9tt/\nk6GTK9OLkaOPwJNfsad8BBNm+nfJn0oWv8Q26+aj0Mh1uM3++5vL4DO7RiprfAiqUw4ihluhaqlt\nxk5GbGWqxe0wB+6Dl37cvvaDxfYI/0vHR+K/6SVw5SdhzbtHFsFoUXveds4quyGpXWF3GEwdkGwZ\nIj3Q8rxtIvZXw8af2882b7A7AOt/YC+uWfU6cAdg++/hnX+0nz/0gN3rVSNw8XvBXwueMjjzFfY9\n2Q2rXmvLsOU3drwtm+Bln4fN/wefz5h/DPdAx067Y7P4UvtaXz1ULxsJ07oVas605zqrl9qKONJj\nX6t/wv47d/XI4RaN6+CcN0NsAFw+6Dlkz5FWL4P/2gMdu2Dtd+Bdf4L+BiibY79XfMh+9zNT5lWX\nd0RxR3rsdGODULnQfrfuA3DFf8Lev0PVEluO4Tb7b+cemHceeMvtb1i3CsrmgpG0ldI7brHD7vgT\nLL0CfJWw+k326nzFbedT1TJo2woL1tjOS675sp1Hg012/Afuh9rlsPwau6Ox/fdw5adsWVe/yV4/\ncPlHbfl3/Ml+/x1/tH+f/06oWGArjbbtdj74a2DBhVCZ4Zd551/gxGb7HcDOn7I6qFxidxhlBUId\n9sLBzj0w5yzbWnHtV2HDj2DVG6B9B8RTnafl19rlxh2A+DD0pMrCmnfb5ebgP+w8cjj0IFz1GbuM\nqlH7W2VuH8s3tbHpZ/DKr0Ko0+7UWaZdlo8/Cxe+eyRc8yY734PtkAyPlEEtBoE5cOJ5+3t07bPn\nqT+2zp6mUaPQuduOL9gOr/9ealdFDIJtdt7v+Ru8cJP9jpd/xK4fugq+KhhqtuumgzP1U/+43bnN\ndNbSfdAuWy4f6HHwVtn1W1LsemxZdr5He2HV6+3v6au2r7dugSWX2/ltmfb3jfRAtM8OE6izrRmG\nbi/QdQfssMmIXRfatsEZL4OhFrvtU9x23ieG7bKsJ+y6bxn2OyTDdvzVy+x80RN2GelvgBWvgq69\ndrzxIbjgX+w2zuW1205fpT046T0M88+33y3UZd/vO2p/m+oz7LKRjNjlcMnltoUTYOvN8Lpv2/li\n6vb7tm6x4/LX2PU7GbLbQW+lnQeVi+34YoN2GDVq53Fgjv1/NWLXBdOww5fNAZffboNNY2TApHjs\n/Fc8dh75qux3NA073uYNdtledpVdDzzldngtYb9noBa8I46sTiWzy5HLt8R54AKBQCA4CZTQAZFw\n5CIQCAQCwang/HdOS7Kzy4T+xQZ47gew6zaSV38B7wu/GLmneOE1/wtP32D/Xv1m6N5vm00u/jfb\ndHL/h6F8PlzwLtj6Wzj/HXDdj2wzkctnm1MMHQ7eb5tnX/O/tinM5bXNMZFu2yRec6ZtujTNEXOb\nadhmmcpFdhzxQUCCYCtE+uw5RUOH13/XNp0V8qnsmIYcU54k2eYkxzwE0H/cNpVmmv4dck2AmSQj\ntkk5E0O3TVKOOXA8X896cmS+frDZNqvJOf3Ijt22mbxsLpz/9pHrQy222Wy41b535GH7+9StzH6+\n/knb/Lf8Gvuvp8w2yZkmYNl54au0TX+yq7DMlmU/l+OzfkLEh2xzZ/o7m7bJcqwdETOZcI8tf2XO\n8YmWZZs3nW+bi2nYedGxG3beCmdfBxe9114HsvPP8Klttlk6GYaGJ+G8t6dM4bXFyWWao8tRPhmg\n+O9pGrZjoXPeZJuLZVfGQksV9t9tT8Wc82bb7O6xjyYl0mubppWc5jXUZZtaPWUj13LLXjHvUQyZ\nddGZsihFvGOlB4XrkhobyZ9CzxvaiK+O8TB029TuzvEPbxrFf19Ds032mfmS24Zp8ZFp0/HecRqY\nXSb0DL776GG2bF7P+9/8av7t5eeWPH6BQCAQCCaDMKGPg2FaHLbOJI44WlQgEAgEpx+zVoEr8uhj\nHgXTg2aYmKb4DrORw50hfvGMcJ0rEEyGWavAXSkFrgvFMe2suuEJbnhoBrnGTGGaFuHE2I5xDNMi\noYlDcSbLv/5+CzetPSbyUCCYBLNOgSc0g2Bcw63Yr67q4hSkmcBd29umW4RR/OzpetZ862lCYyjx\nL967l3O+OUN9jp9GJDVRDwWCiTK7VqHDqMZW9Pynl5k8hfHI/k4AhqMalb78q8Yf2muHsSwLaQat\nTj1d8LkVIkmdmKZTxWm6Ml8gmCZm1Qh8/dHeUdeiyRngtnEWk6m/u4Olc3e6o2VwytYVV2p7iW6O\nH4+Yipkcfo+dx7n1sCsY52DHSTgwqITEVYOIaD8E08isUuAfum3HqGs9oewDCP65t4Oh6CT8nAsm\nhZmhwa/8YWmOaT3WE+bdt2zhe48dnlI8zf22T3ajCOUcF5acSdE2aPvuDydGFOEzh3u46ofreMuv\nnz9p6XYF43zmzt3E1cl/t6t/tJYLbnyqhFJNHs0w+eUzDWJAMsuYdSb0XAaiSSzLIhTX2dY8wOfu\n3stVK+r4839czv72YeZUeJEliTnlHo73Rrh4aTUABztC7DoxiCJLKLJMNKmz68QQTx7q5uz55Xzg\nqjPZc2KIZw734HXLvGr1PK67YAGaYRFTdf6+rZUrV9TiVmTmVnip7w5z3sJKnjjYTX13mNoyDyvn\nlVNX5uG2F1q49IwaPvLy5fx+QyP72u2RyTVnz2XFnDLCCZ0H9rSzZnEV+9uDXLWijs5gnI++YgXd\nwTiDUZVFVX6a+6M8ur+LRdU+vC6FcxZW0BtKctmZNextG6bK7+a5+j7+57rVNPVFaeyLsOlYPwAX\nLa3mZSvraOgJY1lwpCtELKBgzPfzg3OX0j4UpzecoCbgIRjXSOoGrz9vAU8d6qY/kmRhlZ/2oRgN\nPRFaB2Ocv6iSD159JuuOZFtFekMJ9rUHqe8OsbQ2wNLaAAc7glT63Kw92otHkVFkWLO4iicPdXPd\nBQu5YFEltz7fTF2Zh7pyL3MrbGcit285wbGeCFesqGVxtZ+agAfVMGkZiLK9eZCYavC6c+czGFMZ\niCS5/MxaIkmd6oCblv5YWqYbHjrIOy5ZjCJJ3Pzccd560SJqyzxcuaIuHeaK768lrhnsuOG1bG8e\nZH19L8vnlHGsJ8wFi6toGYjyjkuWIEuw+Xg/PrfCvvYgl59ZQ03AQzSpM7/KR3cwwWVn1GBYFj6X\nwr72YQAaesL0hJKE4hqSBOcsqOT8RZV8/I5d/PCda3jyYDeVfjct/VFa+qN84y3nsrQmwEBUZSim\n0tQX5Zqz57Chvo+/bjnBp1+1krhqEklqBDwu5lf6aB2Mct7CSpr7Y6yYW0bbYIzhmMZwXMUwobbM\nTW84ic+lUOFzUVvuQdVN/rK5he+/4wIe2tPBa86dz1BU5bOvWUUooVET8CBJEEnobDzWx1lzK6jy\nu5Fl2N8+MsI+MRDjkmU17Gkd4mO3j/h92NM6hNelYFoWAY/9V5IkLMtCliS2NA1QV+Zld+sQTx/q\n5ptvOY/WwRgP7engrRcvZnG1j3BCJ6GbBNwKZ84pw7Qs3n3LFgCa+qLc8OZzWVYboDuUwOdS+OWz\nDQxGVd528SJWzC3njNoASd1kYbWPXSeGkCWJ7c0DDMXstRE/fvooFy2q4qx5FdR3h1FkeMWqufSE\nEgQ8Lhr7IlT63FT6XZgWeF0yTx3qJqYaXLKsmrPnV3BiIMZTh7pZVOXjqpVzWF/fy8q55ZR5FRZU\n+qj0u7ltcwtLa/1cvXIOqmGyo3mQy5fX8vj+Ln6eWsl/vDfCL66/iH1tQS49o4bhmIpmWPg9CqZp\n2bL43ai6yaJqf1rhhxIaiizhUWTcikzAo1DfHWb1ggoaeiJ2ezS3jMGoynBcw7QsltUG6AsnmVPu\nZSim8qtnj6GbFq85dx6Lq/0kdZPV8ytwKRIBjwvNMIkmdcq8LrqCCerKPSQ1E69b5pbnGvnPa1ei\nyBLBuMaJgShrFlfhccn8fWsrlyyrpjrgYWGVj0hSx+OS8SgyXpeMZUFMMzAtC8Ow8LplfC6FqKoT\n8LiIawY+l4wsSXSFEiyqsrcOG6aFIktIkoRmmGiGiYSE32M7grEsC8sCOWfHkmmBLKX8PAGXf/9Z\nvnLdaq6/POP8h1PErHLkcuZXHytJPAKBQCAQZNLyozeXLC7hyEUgEAgEglPAp1+1cvxAJ4FZZULf\nfsNr+MaDB/nyG1bzpfv28cN3XsibbrKPF33bxYu47Mxarlhey8q55UjYphPHwYiFbTYxTIuEblLm\nUWbEquPbOvr5RUs3+192wSlPe8H6vWBatFxzIT73FPyFTwHDtJAlRn2Lo9E4ZYrCUl+RvpVzSBgm\nHz7YzLfOWszZZaXz1ve6HfUciMQ5/oo1lLumJ89OFbkr8xes38s1NeXce/FZtA/FWFztnxF1qFhy\n3+fK5w/Rkkiy/spzObfcP42SnV7MlB0bpmkhpUzhjpncMasX89xMeIdZNQKfV+HjD/9+GavmV/DP\nz7yc8xZV0vKjN9Pyozfzq/dcwgeuPIOz51egyFL6g8qp/ztzJVHTZHM4OiM+HsBXG9rpVXWMPFMh\nfarGgvV7ear/JK7mlaVpU94AXzvWzgcPNI+6/srt9Vy+xV7EFjNM+tT8e7lDupH33rZglHWDYa7f\n15g3bzcOhlmwfi+9ybEdveTSlrAXSCZnwar1fHVk41AEgCU1gRlTh4olV16PWwFF5iMHWyYd50M9\nQ+wORqco2dQ4FInzlfq2rAWlhQhqOk9PsT2ZKd9dTrXpcobCHk95Zz43E5hVCjyTm070cCQSn/Bz\nnznSygcPNKcb4plCwhi91elIxN6W9ce2vpOaduY6iohu8Nbdxzges9MOajr9avbK2EFNZ8H6vTw/\nFC4q/r909LO5QNjbOwd4eiBU8Nk7uwZ4+55jrNl8KO/9K7YcZs3mQ6NkVFL1syup8dPm7lHP3dph\n5+mu0MQaX0+qgUgWsTVNcGoY1nTu6OyfsE8CV6qMNMWTYwccg08cPsGbdh+b9PNjoZsWf2jrHbes\nvW9fE3/tHKC7iM7oJw6f4N8PNHMsmuCKLYenvfMRN0ziedq+2cKsVOCGZfGDpi6u2zVxH8ytKcUd\n0Se2/SSo6UQn+EwxeFMKIZankjpKyGBiDdOeUGxCCiaeMZp8bjDM9mCUHzZ1AbBm8yEu2HwwK/z+\nsL3C+9cnslegP943zIL1e2nP6Rx9raGdd+1tLEqWqG5kVei7OgfZHy7cURtKfZM1OTK6M3rYm1Oj\nxnz31Qk2+v7U3vJ83+vFTDGju2LZHYqWdN/9l+vb+XJ9O3szyollWawfCI2p1JUZMgorxD3dg/zv\n8U5+c2K0/4tMXCktoBXxjU7E7bq5YSjMiYTKD5u7pizngKpz7fajNMYm7gfinOcPsHrTzHPDfKqY\ntQocJmfGdBruYgp7JqufP8ilWya/L9m0LB7oGRplzk0rhDy9UG/q3kTe80Q8yRt3NfDNYx1FP5OZ\ntjvVodBSaeZTcK4CeXhf9xBgK/g+VWPnJHr3Kzcd4LKMfN6RMUJuiSez8q85NjJyypUy852S1sj/\nw7rBy7cd4Xjq2egEnMW0JVROpDonMcNEnYISv6Ghne82dha835lQGdZmzp5gY4JV7db2Pl6/o37U\n9SOROG/adYzvNRV+94kylMqnzE75nV2DvHd/E/f1DBV8rlgFrpomnz/SSntCpSupFjXSdWhPqPyp\nfbQF7ZvH2vneGN8fIJ4qXwPjlINA6vzsfG1ILr6cMyS0EnSknuoPUh9NjOrQj8U9XYMsWL+XpGlN\nuBP9YmJWKvCplLlAyof6ZMw2w1MYgd/ZNcinDp/gLx39Wdf9KXmieeRxlOlEZHVk3B2KjRNyhJgx\n8l6eVKOWGEM5+VIdi9wwjsVAt+C6nQ28ZfexMRuVBev35r1eqMG6cusRftA0MmL4dWtPwbhvPD7S\nOCZS2seyLDYMhjkeS3I0ao8WQnm+6eahMM8OhDgYjtGWULmzcwCAr9SP+Hu/t3uQZRv2s2OSJshb\nO/q5ubVwg/eSLYd56Va7I9OZUNk9QVP/RPlday+HxpiS0ifYyN5wrIP9eeIbSjnM2TuB8jkezrRG\nZnl0psja4oWnyvxKcQp8w2CYu7sH+Z/6Ni554TAXv5B/OieXuGHy3n2NfONYB71JjYboyAj1j+39\n/Ka1lw2DhaehAhmd+9Z4suCUldOmFaPAnfbGCVkKS5KT/xNRxJ872jqhNIY0fUa7bZ4ss1KBT9Sk\nnIlTKfIpzJOJM0rozDlYwz+GPI4HsbGUaS6OAp6ICX0wwwuZs7I6UiB/wrrBJw+fAEbLnKnYO1Kj\nlBUb96fv/7S5i7cVmC8sdiTw3ODIfLlrjBFUpsIZ1u28/0N7Hx891JIVLphHgdhAnugAACAASURB\nVL9rbyPv39/Ea3c2cP3eRr5Q30ZUN7LSe7zPXgi0eSjMluEIC9bv5WC4dEoJIJSyDrxs2xHetOvk\nzLM6fLuxk9fkGTE7TNaEntvojijb0jXGjlLKjNP5Vk8PBLktp9PssNzvLSp+pyOdr6yMxfKN+zmW\nsvT8vr2Pa7YfZetw9nTO9fsaebbAGpCKVF0MGwav29nAv+xtZFDT2T4cycrXYKp8RwyTE/HkmIvU\nHGU/mGqPilH64zFiKTw5bWpbQuXc5w9yy0leCzQdzCoFblkmra23ElNHz2kWi1PZuya4+rhYGpt+\nwdp1K7Gs7MruVJyIkX293JVdoTJxQjaPMYrIxanW6gQayJ6MVdyOiorkmJYNyyKsG9zTPZge3eSu\nI/CPY934eUsP2wqMWDuTxb1jPMOW6+RpPlZnbB1z8vaxvtENW1A32BuKcaLAQiYnb2KmmX4/GMnf\nmGGmdwlsyDPXXgriM2DF+2RtT7kdwUL1YCo4neDWjLUXjql4XzjOVxva8z7n5GrtOLswnE7/rgyr\nQUg3+PyR4keRW1KK+3hsdDnbl4r37buP8artR9PXnfL2WF8w3Xk47/mDvHXPcR7qtT387Q3F0u1D\nayLJq3fU8+8HmukosEjXI9lxOh2JUijwijHasGIZa3Tt7BR5qLfwdMjpyqxS4AMDz3Hs+A840vir\nScfh7DIYy3w5FVpb/wSAaWZ3EBZ67ZOacjsOS7z2Puf7ugdHxTVRsyWMzJefKGKVvdPwffBAc9qk\n6cwx55qxv3C0jVWbDmQdXtKR8y5Oo9kUT6ZX+OYjX2Ut1uTfkaHocxV45kr+182pTP9fTyXnzbPF\npE/VuW5XA1dsPZI3Pcf6EdIN5nlG3C70p/KnJaFmrGM4uf7US7mQbKLxZpbFAXX8htrJ684CHeWp\nNPa5VKVGqpmdMF9O2chX5px3GtQMomN8O2+ejuIf2/q4O6PO5k7F5Kbn1K986RyO2lMNW4NRjmSY\n2cf6LgdT0xPNGe/85fr2tFXs0i2HeSjP/P+S1Kl8Tp0o9H0mgmPt2DI8+WmevjHKlGMVHHwRnlcw\nqxy5/K7bzc3SPyDDkrJg/V4+f8Z8NgyGqfO42BGMollWVs/ykooAV9eUZyntpniS6/c28n/nLiWi\nm3hkiY6Exs5QlH3hGP+1bD7bgxEORRLck1FRF6zfy2tqK3n3ghoSpkmt28U/e4dpS6hsD0aBO/ER\nJ7FxpCedyTMDIX7Q2MmjfUGura3g8dTo7dG+IE/0DVOmKAQUmWcGQuzJmPf8WXM3C71uzgp46VF1\nzvB7UADNgoORGIcjCUK6kbW17qyN+7ltzXIqXAph3eDJ/iCKJHFv1yD/urA2vUgG4LpdDdx/8Uqe\n6bfNeQOazj1dI+/t5MH2nBH0hsEw19ZWENWNtCnt9+OYujYPRzg/x3HGJw+fKMoqkjQtooZBQJZH\nNZpnbtxP1ysvQrcYta1sTyhGjXt0dXmkbzj9f9W0fSln4gz4X7btKF9fsXDU8w/3jjz/85Yerq4u\nZ6nPQ5micCgSpzWh8vu2Xt4yt5pjsQRVLoWWDIvKgvV7ufncZRyMxHmqP8R/LK5j3cDIXOeNGYsR\n37CzgQ8vmYNpwQUVfu7pGsSwLI7FkszxuKiPJljm89AUS1LuktmXWpVd6ZLT5vjxeOvuYzTHk+kG\n9cqqMrbmfPPzNx/k7otWcDSS4DetvenOzLvm1/BkfxCfLKc7ktduP8qHFs/BJ0ucFfDxxdQ6gkHN\n3q54bpmPg5E4Qd2gPaGyzOelIZZgic9NQFZoiCXwyxKvm1NFV0JjXzhWcK719s4BWuMqblnimRyz\n9MLn9gHw3oW1XFIR4FgskV50CbBy4wE2vPQcNg6GWeRzU+d2cTASxyNJ/Lxl9DbEn+ZcO3vTAbZd\neS51bhd7QqNldHL/xuOdvHN+Tda9x/qCWTs3GqIJFAm+nLHmIpebW3t5dW1F3k6pwycOn+CyqjKa\nY0nChsG2YJS/ptZz7M2Y7vlpcxefWTaflniSuGHy/HCE+R43NxxrZ5HXQ0Mswb8uqKEjobF5OMJ5\nZT4ORxNcVV02SmkvWL+X9y+soymepDGWIGFaRU09XPjCIR59ySoSpsmGwTCyJDHX42JXMMqDqTrW\nllD5c3sfAUXmT+39XFNTwW/b7Da90iVzRVX5qO9+aWWAiyoCNMaSdKsa5YrMIq+HxlgCRZI4kGov\nb1+znNfPqRpXzlIzq3yhF1r0JBAIBALBVOh+1cUli0v4Qs/DxYHsEdr55aVzkTlbuawyMN0iFOSj\nS+YA8Mmlc7mmprxguM5XXlTwXuu1Fxa8d0VV2aTk+syyeZN6TiA4Wcz1zCpjbMm5fc3y6UnYPjJt\n5v679NJLrVLR17fOenbtCmvzC6+y2trusFTDtF6xZb91V/0TJUtjPJqiCUs1zIL3N2y83Hp27Qor\nHu+YULwbBkKWbtrx9vWttaLR5knLePDgf1vPrl1hdXY+UDDMf6/9nPXnta8adf1wOGZFdWPU9bhu\nWAlj9HUHzTCtIVWzWuPJgmF007QMs3DemWPcc4jounUkErOCmj7q3p/aeq2tQ+H8z2m61ZlIjkoj\nrOnWiVgi/Xss+SZKXDes7oQ6qWeLyYtCxGKt1vrn1ljRaNO4YQ8f/qr17NoVVnv7XZNOz7LsbxvK\n800KEdF16+YTPekyP1FCmm4lxyiPY9GZKFxGTwX5vq1hmlZ9JG7F8tS9QgypWtFh+5OFw5qmWXRe\nhkKHrGfXrrD6BzYVDKObprUrGLGiumHVR+JZ6WwdCud9f9Uwp1TmZxrATqsI/TirRuCSbC/AiMdP\nUN9wIwoq39c/ztz2T2OlnHWEwgeJRApvh5kqywPe9LaSfCiyvTXFMLK9EhlGgsamX2AY+Vc7X1Nb\nkXYssW//x9iy9TWTllGS7N64ZRVeGPJmHmEZJ0ZdP7fcn3d1t0+R03Pc+XDJEtVu15iHjyiShDzG\n1q9i/BOXKQrnlPmpzHOQyEeWzOWK6vwj9TKXwkKvZ1Qa5S6FZRnbicaSb6L4FJn5qcWLE0XThjCM\nyW1L6+l5BMOIsnXbG8cPnFqVbDG11ciKJKW3PalqP5o2PGb4MkXhU8vmTdobWoVLwTNGeRyLhd7J\nHZBTKvKVc1mSOLvMl7XTYTyq86zpKETdGCN0SZKKzsvh4R0A9Pc9WzCMIkm8pLKMgCJnHSQkSRJX\nVJfnfX/3DPJPfiqZXQpcym60TVNHVe0FU5Zlm9d37Hgb27a/acppDQd3sXbdSqLR4xOTUfakZMtW\n4K1tt9LScjPt7X8t+Gxf/1pMc+o+2iXZrqymNf6isFisZdLpDA/vHNVREYyPaaqsXbeSlpbfFQyz\n6fnLx1TAR458jYZj38t/M1VPLEtD08beeiOlw5ZuVfim569g46ZLSxafg2EkaW29ddQWTcGpI11e\nJr2xUJDJLFPg2b1Iy9KQJHuEUwrFl0lPz2MADAxuGjNcItHF8eM/SVsAZNmRJ3uk7chnZFzf/MIr\nOX78xwAMDW1j//6P09j08ynLLqc6EVYReTLZkX483sau3ddTX//NosK3td+Bqg4UFfb5zS+jpeW3\nk5LrdMApGy0nbhkzXCKRvX85Gm1i7bqVhMOH6ey6l7a2v4x6ZmDweaKRkTMCdL3w1h7LslBkX5ZM\nE6F/4Dn6+9cXFTaZ7KW55eZJedMyTY0tW1/Hrt3Xc+z4D+jq+seE4xCUBindvp0cPxqzjVmlwHMx\nTRVFcUzWxZkb9+37GPv3f2LccHLaDD12T/Pwkf/hROvvCQZ3AxCN2h6zjJwRuOR8qoz4Eok2TrT+\nAQBdt7eTTWVEPCK7YwU4eSeu6brtCCIcznYrqWnDHDnytazvEY020tDwLQ4e/GxRcSeT3SXpyMxc\nbFPhREe9/QNrAejufijv/USii717P0h3z8j9QmVA04KsW38WHZ13AaOnfAo9k1kf9u37CPv2fzQr\nLdPM/06Hj/wPTU2/IBTen3V97bqVNDb9csx0VbWPWKyJcNg+9ELXizsF73Qkmexj+463kkhM/ZCR\nk4HLVQGArhc+QVBQPLNLgVs53sGMGLJs7yfOHWkUGlH0D6yjr/+ZvPdMU6e5+dd2XM7c4HjmupRM\no0fc2b+lceYai5m3LhY5NQ8/mVFVsRR6n5aW39LZdS8dnfekrzlKPqlOryvEw0e+WvSIMZej9Tey\n+YVrSySJ45u9+G89PLwTKzXqMfM8l0h0svmFl4+6bhh2vTBNla6uB9MjYGfqyelomcbYR/Nu3PRS\nNm56CfUN3y4YZv1z57J7z3vz3htMWbJ27nwnR+tvzLrX0vKbMdMePXU28Y5pNNrErt3/NqZFYibQ\n1fUPwuFDtLffcVLTaWr6P4aDuyb8nEtJKXBtameKC2xmlQLPVRaGEUVRfKn/Z7uxXP/ceROOv6fn\nYZqa/4+m5l+mzdDjNRaFwpm5IxrJGYEXUuCpuaUSmKamqsBNUyMeL+xEwsYZReZ0cFLvmZkfhw7/\nNzCiTKaLrq77skaME6Gj42+jTNpTpVgFnkz2sWv39WmrRG6et7XfzonWP+Z91hkptbT8lsNHvkRv\n3xPAaKVomGNbsDTNnv7o6npgzHCOJSqTWKw563dHx9+Asd1nZpPdzOXrwIzH8cYfMzy8jaGhzRN+\n9lSSnoIrYv3KVGhu+TW7dv3rxB9MLTR7MVtBTiXjKnBJkv4sSVKvJEkHM67VSpL0jCRJx1J/azLu\nfU2SpOOSJNVLkvSGjOuXSpJ0IHXvJmk6lgzmKD9dj6I4I/A8ymGi823OPLauBVFke3+0OY5p3uWq\nTMmSbVJKqtmuWuVx5uoVl716WiuBaUpWHAU+ORP6seM/4IUtrySp5j8EwsbOWyNj5NbT+zitKUWS\nb/7dMbuPRSw2emX8dJNIlO7oSxgpZ8UyqnOY0TFT1X4aGr5Ne/vteZ918txZFa4m7ZH3KAVe5GJE\ny5p4mcpXDzUtBEWufM9dMGVNwbJkTeEgpFNB2hI3U+eYU2W3FO2UoLgR+G3AdTnXvgqstSxrFbA2\n9RtJks4D3gOcn3rmt9JITf8d8DFgVepfbpynnO7uB5EVW4EbeZTDRM3RTu83qfalR9aFzL7JZB+W\nZeB2232f3NW+DTmmRkdBq9oApqln9WAPHvwcw8O2tzo1T3q6HqGx6RdZDXmhuUYYGf1nbuUxjAT1\n9d9C00LjKpDhoW22LMnCJm8nbzMtH62tf07/P5/SM4wIyWQPa9etZGBgI4aRwDST6RGlZRls2frq\ndPhMhd/Y+HP27fsYPb2Ps3bdyvSozjASJBKdDA1tSy/wGpHRQtOCmKZacPteNHo8nR+WZYyyWjQ1\n/YrNL7wiK05Hnt7eJwHYv/8TrF23krb22xkYfL5gno3EMaKQotGmPPdHlMyOne9EkrOVrZrRsdr0\n/BVjpuXMcTudOmdtxtDQ9qxwxVpHJrMC3KlLmWzcdAlHjnxtjHTM9Lcwc75dV/eD46aZ21lMd6CN\n5ITfIRo9TjC4Z9T1waEtJJMjHfWhoW30jbG9Kpe+/rUcb/wZ8XgrDce+R0/v4yiKMyAZkT8eb5/0\nUZqmqZZ01b5jGci1eGbi1DvB+BTlSlWSpDOBRy3LuiD1ux54pWVZXZIkLQSesyxrtSRJXwOwLOuH\nqXBPAd8CWoD1lmWdk7r+3tTz/zle2qV0pbp23cox769a9Q2OZWytuezS+6msvJBEooNkshePp44t\nW18LwBUvfRxNGyZQtpJopJ6hoS10dt2fV4FeftmDRCINmGaCurpXEgzuTpuFMzln9fc4Wv+N9O+r\nrnyWtvY7aG//K37/GcTjEx9dnnvujzly5CtZ1/z+M4nHW/D7l7FwwbuwLIPOzntIqj3IsjdLCc2b\n92ZcShmGGaen5xEAZNmXtc3togv/hCTJDA69QDLZkw7nsGTJB1DkAJFoPWqyD9PSiEZHVjoHAmcR\ni01su10uSxZ/AMNM0NV1X9HPrFnzWw4c+NSo6+Vlq4lEC/sCcO5XVV1KMDUPeMUVT7Jt28T7pEuX\nfpi2tj9nXTt71f9SU3MVPt8i2tvvoLHpZ2PGsWTJB8fcXuj1LiSZnPyippe/fButJ/5Aa9utY4Zb\nueKLzJnzWqLRYwwMbqKm5kp6eh5lxfLPsWPn29PhrnnFHsLhA+zZ++9jxidJbtasuRlF9o0b1uOZ\ni6r2cflldqfc+RYLF7yTYGgfsVhjVviLL7oNj6cWl6sy1RmMoOthurofSueVJHlYddZXaTj2nVHp\nzZv3Zupqr6Gv7yn6B9aNKdt0sWzZx+jq+geaNvqgo5mAogSoqro0vb5BUcrweOqIx4s/pS23LTpV\nyLIna0D0sqs34fMtKln8xbpSnawCH7Ysqzr1fwkYsiyrWpKk3wBbLcv6W+rercAT2Ar8R5ZlvTZ1\n/RXAVyzLest4aZ9KBS4QCAQCwWR4zasbxw9UJKfMF3rK7VtJJ4YkSfq4JEk7JUna2ddXupXHS5d+\nqGRxCQQvdhYsePv4gQQCAeee88NpSXeyHux7JElamGFCdyZyOoClGeGWpK51pP6fez0vlmX9AfgD\n2CPwSco4irNXfYOzV32D7u6Hqau7Ju3tyek59fQ+gUspp7b25RhGjI2bLqG87BwuuOBXeDxzUJRs\nN36mqZFM9uDzLS7oxs+yLFS1H5erAkmS0iu8czHNJNFoE4oSwO9fNiq+pNqPx12XNx3LsjBNFUmS\nU4uLRtwKGkYCSVLS8/MzjXi8A59vUUncIJqmjmUZ6b39LwYsy5pWF5Hnnzf1/fSGkUCW3altmz5M\nM4nLVfhwGYFAUByTNaH/FBiwLOtHkiR9Fai1LOt/JEk6H7gTeCmwCHuB2yrLsgxJkrYDnwW2AY8D\nv7Ys6/Hx0i6lCT0X09SRJGVW+tAVCAQCwcykZCZ0SZLuArYAqyVJapck6SPAj4DXSZJ0DHht6jeW\nZR0C7gUOA08Cn7ZGljB+CvgTcBxoxJ4bnxYsy+Jvf/sbTU0tQnkLBAKB4LSkqBH4dFLqEfivf/1r\n3G433d3dKIrCN79ZnC9ugUAgEAhOBcWOwGfdKe4DAyMHYhiGOBFHIBAIBKcns8qVqkAgEAgELxaE\nAhcIBAKB4DREKHCBQCAQCE5DhAIXCAQCgeA0ZFYtYuvt7R11TdM0EokEPT09dHZ2sm3bNs444wyu\nvPJKHnroIQYHBwkEAqxZs4ZkMsnAwADBYJCzzjqL+fPn09LSwtDQEOFwmOXLlxOPx2lstB3DuN1u\nXC4X1dXVSJJEd3c3c+fOJZlMkkwmueiii9i6dWtalpqaGoaGhkbJKBAITj5er5dkcmInlZWVlRGN\nnpxjbs866yyOH5/aGQHTgd/vJx4f+3z4UuFyudD1iR8PW0p8Ph9f/vKXURRl/MAlZlZtI/vWt75V\nkngEAoFAIMiklPrllPlCFwgEAoFgNvOe97xnWtKdVSZ0MQIXCAQCwYsFMQIXCAQCgeA0RChwgUAg\nEAhOQ4QCzyDZEkTrOTkrSgUCgUAgKCWzVoFHtncR3tiOEVHT1/pu2U/PL3dPo1QCgUAgEBTHrFrE\n5mDpJsMP2Psr4wf6mffpi6dZIoFAIBAIJsbsHIFnbH3XB0+NwwGBQCAQCErJ7FTgGRrcGuNEUSOs\nYqqjA+hDCYLPnGCmO8ERCAQCwYuXWafAI1s7iWzvHrlgmAXDdn1/G31/2D/q+uC99YTXtqJ1jl7w\nZpkWVk6cRlhFH0wULWOyaRgjNDGXjmNhqgZGVJt6PDGNZNNwCSQawdJNLHP2doS0nijxo4PTLca0\nYIRUjFCS0HNtmInpdYcpEJyOzCpXqrH9fQzeeTTvPc8ZlagnQiVJRyAQ2EhuGUsr3EkWCF4MLPjy\nZbjq/CWLT7hSzUMh5Q0I5S0QnASE8hbMBrp/WppB5kSZVQpcqfFOtwgCgUAgeJEx9z8vnJZ0Z9U2\nsoVfeSkAakeEB371Hframnn3d37I/JUrQbLDWHEdFImkFmeooY35Z52FUumZRqkF49F2aD/3fufr\nXPT6N/Paj3xyusUpms6Go9z1zS+x4Kyzed/3fzHd4kwLof4+1FiUOcvOnG5RBILTjlmlwB08i8vR\nFRXVjINkIslS+p4UcANw3ze/Tt+JZr54z6PTJaagSDTVXvAX7O0eJ+TMQk6dH2waY2yFeJHzx09/\nCEDUM4FgEswqE3omTuNpFDgMvu9EMwCmOXsb19MFxWV3ugxVHSfkzEIocIFAMBVmrQJX3KlGv4AC\ndxjv/snm3m9/jd986PpplaHUNO3ewY6H/zGlOMKD/YT6+wBwue0pDl2f+la5U4mzA2S6y5hAIDg9\nmb0KPDVqMws1+pJtVteneVTXdvgAydiL54AVyzR58MffZuPf/0IiEqHreP2oMIlIhLbDB9K/dz76\nID3NjVlh/vDJ/0ibX2WXPZKd7m9l6Bpasvj9/qZhK+6CZVAgEAjGYBYrcHv63zDyj36cUZ2WKL5B\nFozPgfXPpP9/80few503fBHLzN5q9NBPv8u93/4az/7ptwBsuONW/vbVzwFw9IWNJKKRrPDO86Uw\noRu6xrFtLxT0svf83Xew89EH897765c+w03//i/p37FQcMzRtakbqTQnPgIPDya4+RPrOL6rt6jw\nA+1tM3qkPxP9USRjUZ79028n1CkTCE4ls1aBy0pKgWv5Rz+ulIldKPDSEg+P3m+va9mKd6CjDYB9\nzzyedX24u4vHfvUTHv/1z9LXwgP93Pe9bwCgJafuvW7rA/fy8C9+QNPuHXnvb3vwHjbccWvee0Nd\nHen/m6bB7z72Pp7+/U0F03JG4LFgcMJy9qb8Fmy6t2HcsJHBAW774idZ/9c/TjidU4Wuls7zYKnY\n9tB97HvmcfY988R0iyIQ5GXWKXBD13n21t8RC9mN5iO//NGoMDseeSA9ygv19ZxS+QqRO0o9XXEs\nH5mo8ewDZdye/Pv1nQWFw92d6WvbHrwHPaW4wwP2nPjuJx6ht6VpUvJFBgdSf/sn9TzAxjtvw0y5\n0z28cV3BcEZq8ZpZwAo0Fh6vnY+1C8vGDasm7PxtPbBnwumcKkJ9xVkSThUDHW3pqY1CnXyBYLqZ\ndQq89cBe9j39GJ31h9PXHOW48c7buPc7X2fvUyNbWnLNtZnseOQBGrY+P+p69/GGMZ+bDJHhF4e/\n7LKa2lHXcrd/ub0jClzLGJk5yn+oa0SBqzkWkiOb97D+tt9zx1c+O64sx3dsTXfkHBwLQcu+ySu7\nHf+8H0Mbbc5v2r0jq1xYOavPLdMseteDrNhrNExjfNOzs94jM99mApkm/YGONjbdeVuWFWO6iA4P\ncdsXPsmux/4JMKqMnCx0VeW+730jvQNGIBiPWeULHeDI5g08ftNPSxafYOZy/Y0/oruxAcMweP6u\nv6avl9cuIDI4s/eML1tzMa0H9k63GAKBoAj++85/preFloJifaHPKgX+8+vfUpJ4BAKBQCDIpJTO\niMRhJkVw9lWvmG4RiuLsK1423SKcNOqWLCtZXC9927+MH+gkU8r3EQgEpwdv/eLXpyXdWeVKVXH5\nMfQ4/+8LX0srRf3TX2Cwo42ahYvSW4Cq5i3mw7+6hcMbniVQVc2Kl1xOeLAfX6Act89HsLeHijlz\nkOXSmUwcEpEInoC/qLjVeAzDMPCXV/DcnfUc2tjBqsvn8/qPnF9yueq3dvHsbUc4+4r5vO5DxcVv\nWRaWaSJJEpJcmr7iQEeEu7+7ndpFZbz3f68YdX//RluBfvqWVxeM4+ZPrBs3zEzAsiwkScp7r6N+\niId+uadgPoQH+imrrimpWe9kMdzTTVlNTcHFi5m0Hh7AV+Zm7rIKLMs8KXWwEKZhIMlywW9SiNOl\nvAlOP2bVCNxV9h94Kj+UNaJ1ud3MO3MFbq+PL97zKO/57l9IqO9ix6PNXPCq17HiJZcDUFE7B7fP\nB0DVvPlTbji6m4No6ugFS77y8qLj9vgD+MsrAIiH7EVTHQ1Do8L1tYa5+RPrGOycgkOYVKNlTWAx\nvCRJyIpSMuXtxGnLceqmfgzDRNdOvbvTsRTFxnvs7WP5FrElYxr12yNI0ulRvavnLyhKeQM8ctM+\n7vvhTrtsnULlDbbr24kq75lAqD8+I/fZC6bO6VHDS4Qk+5GVmjHDaAkJSXLR1xY+aXLEwyr/+PEu\nnv3L4fEDF8Hjv9tP0157C9XKl8wbdf/4bnuLjhNmPJr29tHfnr2K3ln1nKk47/n+dh742a5JyTxZ\nHJ1k6BPbVqepBlsePI6ep9M0Hvd+fwe//68NE35uomiqgVHk+dlOZyxfPjx//3G2/bOJE4cGJixD\neDBBIjq926b6WsMMdI69i0NLGux8vCW9XS+X0ECcgxvaSy6bmtD5+41b6WkZ7c9gJjLQGeGOb2xh\nz9Ot0y2K4CQwqxS4g9MbTUQ1zJyRXFpRFbE9Z7I4jW5PU2m2pzTvG9mzbGY06D3NISzTQk6dtpb7\nroV44pYD3PO97VnXXG67qOgZCqa/LULX8ZO7xcYyLe74xgs0bLdXjTvv4Mgx3BMrSuHsX9fG7qda\n2bu2bcIyTMlyMQH+8NkN3PntrRN6RkuO7pBocb3gvfG4/esvcPsNL4wbbrgnVnR5mij3/mAHd39n\n+5hhdj3RwraHmzi6Jf9ugkd/s58NdzWQiEyuMzLcE8t7vaclxHBPjC0PNua9P9OIDtnbMNuPvji2\noQqymZUKPB7WOPJCJ7d+cROb7z+WdU9SJqbsJoNzfKmhTy6N47t6+ef/5d+n3H50iNu+upmWA/3c\n/+Od7Hm2dWTP8ARHrZm4PLa5cjJKYSoYukmoP8Ha248AIyZ8Z6T69xu3cvd3to0bj/PcyZR/oCNS\ntJWjEKH+iXn+UxOjncC4vI5v+Mm9q5YY+7lgX4y/37iV7Q9PzllOKdBV+4Pme3+wpxEgu8NZLC0H\n+vn7jVvzuqlVXHaTWaylJJPcaZ/IUJL7f7yTWGhqLoCf+/tRmvbkL3eOwBjbPQAAIABJREFUvJPJ\nB4BoMFkwjwXTz6xU4JvvP8a6248CcGxHtqc1l1PgJ9v4JQ0eu3kfof544UCpeqxrBt1NQW7+xDoG\nOsZ3/OKMNJ/640Hajw7lndcK9sWJDifTo/K+1jAen71WUU0pL101eP6+YxOqmM4ofrL5MlmcVzRT\nnR2nEcw0HUeDairsSH7kri+QXbb8wd78I6vBrmhWp62vNcxQ98RG3nd/dztP3HJg/IAlxMzTCfSk\nFLg6jiKeLLGQXQ7b60evtzhVKB67njodshMHB9j5eEv6/oijm4krLsfiks9M7k53ZMeuO5ZlsW9t\nW5Zyzu08HniunZ7mEIc3T83BzqFNnTzx+/zlzu2bWsf7tq9s5r4fFt7Gu/PxFhr3lNaLXjSYZP3f\njk7LupPTjVmpwIe6Rxrx3EVZ/7+98w6Po7oW+O+q92a5y70bbONCNwQwhF4CBAgJ8CAJ6e2RQsJ7\nL05CAikQIDEPeBBsSgotxmCDwRiwDcbdkrsl2apWs+pK23fn/TGzRdLuqq20Wu/5fd9+O3tn5u65\nd+7MuffcM+d6Rsf9ffgdL2qgbF8jW1cHN7H5m4E9PeeyfaFDd1YcaOS5+zZT6WcKC3VTekf5DjdJ\nqcYD3eKkZFc9u9eXU/hBJbveLe9dofApx4EocLfLTcXB3s3LrvjmRt59Zl+3UYtXjgAjCv/+zDPf\n7zxn7VFqpbsb/I7XT2iu7eAfv9rG9rd8I8pXfreDvy/vPLJ3+SmDnevKqDw0PM2SiUaHbcsrxYPi\nvBSf4LEgRS68b3Kq0Sk17tO3/1rINj+LQEJiYMVVX97mjSMfjESPBSPQ/WX4sFk7Qivw5lozW14t\n5t1nfIq161RPQtLABgt9wW7p/yg62HQCwLY1x3j36f39zhv08vvfS5+tLuXglhOUGhaQ9mZZjyIY\nManAGyp8DmpdH3AehWFqstLaEGIUHQTPg8Nj4guEVylpEJ/YO5NcTak+11xT0up9wISa+/WMQGxm\np9f83VzTwfr/28+OtWUA2M29v6k9HZ1AHZveKond6yt464lCKnpwrjpR0gLoyrbrVIbX61qDtU8W\ndZExuBxJqd3fmLQZD2GLSa/H6iMtWDsc3roG2LvB5/zjPxLZtuYYax4PHCnNXw5N09i57ng3M+lT\n3/2It/9aGFTevuBvSTm2t6FTJ6m/ptNQKO9Su+HNe93/FrH97d6FEfV0ULsqWU978VzvrvfIqw/t\nDDqitLTbWf3obq/StwVQep5ra+vB78LjrO7vI2LpMh/vuY9bGyxsea24zxaf3uC5b20h7nWnwxVR\nJbn5lWLWPL7X67gYF29YV+xu6sraWPXzTwdspThViSkFPnJiZre0rj10jzJyWF289N9bKd1Tj9Ph\nwtrhoPFEO6YmK821HQFvbtA9zEGfD7W0B57b8ld4yWn6g6alXu8s2K3OgKYjzwPL7XKTnK6fY24N\nPne270PdA/dEcYv3oVNf3tmzvqPVF2fc7XKzbc0x79wh0EnpuA2ZTY3WbvtMTVas7Q6v3Jpb6+Q8\nVH20mbqyNpqMG/StvxTy2epSHHYXW17rbsrf9qZvJNVVGX76Ron3d1lRZ6tFV2W/4psbvR0jz0PB\nH1OTXhbPSKj2WCvP3beZN/7o86w/sNn34Gisau+Vb4TZZOdEcTOfrS5l5f2fsG3NcZ7/6RZqjI4J\n6KPX8v26om1tMIfsVPaEv/Xmnaf2cbLSNx0TbCrHZnGGnEIJ9RaGZ+TdbtSfy+VG07SQc7kNFSZv\nh9hTPlOTlbZGPc3a4eB44Ul2+Clw/7ouKzrZSd6qw7r5fv+m6k5txCOTx3T+8d/19eadDleP9Xro\nkxqqj7ZwcIt+zYt31HnzOVHcTEud2asQPR2jneuOs+KbG73HWTscevyDAH/luSc9eDrWJTvrKdxQ\nGbRDGIqepgg8ZQ6lwN979gCrfv7pkL2a2fUeOl6oW8U8UxeezldLrdk75XV02/AOfRwpYiqU6puP\n7fHe+F2ZtmgUpbuH14pIQ0HB7NygdSIIgiD0zJXfmMfUhSPDlp+EUg1AqB5mLCpvQJS3IAjCAAnm\nRDjYxJQCz8xPjbQInUhKCV8kqUvvnsu3VlwUtvwGi7HTspk0b0SPx118x2xyx6QF3DfjzNHeqYeM\n3O4RvO7541Iu//rpAc/NyE3mvJumc8OPFvZBalh215xeHTd+Vk6f8u3KhbfN7PWxty8/mxv+M3A5\n8salc9GXZ/VLhkBTTf1lxhI9sFDWSN+9d+Y1U0jLTgpZV+d+YVrQfV99RF/DYMT4zmuhn/658Z1+\nL1g2oc/yemSaefZosvJTgh7Xm7q95M7ZnH6hLtNXfnNO0OMmzO2+xG5fyRsXel341KykAf+HEJw7\nf3deRP43pkzooM95m9tsfPp6KRffMZvn7tvMVO0wM9RRpq54NOBcqdAdTdNA883NC4IgCOFBlhPt\nA4dm66OrOYcPDer/9BXL/gM4G+rJvPjiSIsy6NjLyojLziYhN3SoW0EQhFOd3irwmFqNLNoou1lf\nHW24dSwGg9IrriQ+N5eZW3sO4ykIwwG3TX+LIy65dwuxCEK4EXtxP9DsdjSnhBfsLW6bjcaVK9Fc\noQNWuJrFoU6IHo6edTZHzzwr0mIIMYwo8BBoDoe3l+3P4fkLOHbtdbgtfQ/0cqrS/M9/4QyigBuf\nfob6h39P6+rVQyzV0GHevYfWNWsiLYYwhGg2G5p9YHHMBWEgiAIPwfEbb+TIgjMC7rMfP86RhYuw\nHDgwxFINP2zFxdQuX86Jn/4s4H5Xux4UxGUavCVaw42rvQNHTU2vjy+//fag5Reii/ZPPqFx5cpI\niyEIPSIKPAS2Yj3qV/HFlwQ1/1qLigKmxxJuYxTibOwcGa3k85dz7NrrUPGGq0U/FpYAOPnUU1j2\n7efw/AW0b9rkTW966WXsZWXe37aSEoovuBBnQ88rgmlOJ9X3/RjrkaMB95d/6TZKLr6kX/IKfcPZ\n0BAwSprpgw9oe++9IZen8qtfo/7h3+PuGJplZAWhv4gC74L14EGOLFqM5vYpG2dNTVBzueYI/1y4\n9cgRml58yfcfw3C+/eg559LwxF8AUPHG++xd6sJRUYGtuNhrZtQcvvCqjvp66v7wx57nxU0mGh57\nnLIvfhHNbqfh8ScAvdNQ9+CDlN1xh/fYplUv4GxowPTBxh7lt5WW0rZ2LZXf+EZAy4Cn8yb0DvOO\nHZz42c/6HAbWVlpK8QUX0vzSy932VX3nu1R//wfhErHP1D70UMT+O1yYd+6k47O+rTEfDThqanCc\nkPjoMavANbudj7e8jMPlUypum43jN96E22ym6fmVnY53tbRQ9pWvUHrV1Z3S2z/ZEnbZjt94E3W/\n/a1P1gDz8APBXl7OodlzsOzte+xlD66WFk4++SQAjio9xrO9ujrgsc0v6w9nZ72+dKu9rIzSZZfS\n9Le/0fHpp5x86infsa+8gr2sjJbXX8dRX+9bFcLA05nRrEbM61a/laWMd/g1d+hOgeZw0PTCC7pM\ntbUcPefcHsvrttt7Nd/ZGwXW9v77VP/kpz12XgaKZrd7H3KD/bpoxde+Tuuba9D66BfiMNpM+8cf\n93Dk4GE5cMDbGfXH37rTFVd7z8v/DgfKv3IHFf9xd6TFCCu24mJKLr6EkkuWDcn/1SxfzuGFi4bk\nv/pKTL0HbikqovzOu7wPf0EQBEEYKFPXrSV56tSw5Sex0ANQdsutorwFQRCEsHKsi2V2qIgpBR5u\nVGJi2PNMGNllRZuE6Ii1k7p4cbe0+JH53u3Myy4dSnEEod/E5+eTffNNPR+XnT0E0gyM5Fn9i4c/\n7IkP3zoS4WDqO+si8r/RoR3ChH9Esx21O7hn/T0sHr2YlVesjJxQgiAMS8Y9+GCkRRCEkMTsCDwx\nTh89+zuxCYIgCEK0ELMK/I539NePHG5R4IIgCEL0EZMK3N/z3u6SUIiCIAhC9BGTCtx/1G13iwIX\nBEEQoo+YUuAmu4mS5pLOClxG4IIgCEIUElMK/FsbvsUX1nyhk9K2uuS9cEGICG4XuIZfmGBBiBZi\nSoEXNhQC0Gz1LXvZamuNlDiCENs8uwx+MyLSUghC1BJTCtzD9W9e3+n3cA8nKwinJCf2RFoCQYhq\nYiqQSzDmvzA/0iIIQuwxZaL+vWpeZOUQhAHy2rWvMStv6KPexeQIXBAEQRDCxc1v3RyR/40pBV54\nZyHbbt/Gpls3sWLZCoruLIq0SAIwIiU886Dz8sMzkpuYOZHUhNRu6akJqZw24jQykzKZnDWZ6TnT\niVeBYzJnJmZ6t1PiU7zbZ44507ut6LxUaiAyEjM6yXLaiNOYlj2Niwou8qadPeZspmZPZdGoRUzI\nnADABeMv6FaGvJQ8lozWFziKU51vff9jF4xcwOi00QHL0rU8/nIBTMmeAsDkrMk9Xo9RTieZLnfA\nfbfOupWfLPkJc/LmcO/8e7lg/AVcN+06bpl5CzNzZzIiZQSLRi1i4aiF3DjjRkamjmRO3hwykzKZ\nlz+PL83+EgUZBWQkZjB/5HxGpo4kOznbK+Oo1FFcN+06rp16LT9a/CNSE1K9ZV42cRkzcmdw3bTr\nuHnmzfxu6e/IS8kjMymT7ORsZuXqI625I+aycNRCr8z3n3V/t3KMThvNZZMuY2buTJaOX8r54873\n7ls2cRnTc6YD8OU5XwYgIS6BmbkzGZU6issmXcaM3BnkJudywfgLAJiTN4cE1d1wOj8/sBVxYuZE\nxqSP8crsf93jVByZiZncfdrdKBTfXPBNzhxzJkvHLw2YlxCcl6/qvp79UBBTy4lS/imUbYHP/TQ8\n+Q0Vf54HrRXw/b2QNyXS0ghCeFhuLAayXBxJBcEfWU40EM9fCR/+NtJS9J044zJpgUcrpxwuB5jq\nIi2FMFS4Y6RdC0KYiS0F7mGYWx26EZ+sf8dK0Jk134dHZoLTFmlJhKHAJddZEPpDbCpwtxMsLQMP\nInF4LRzfFB6ZQpFozDk6LIP/X8OBw2v174GUt/Bf0F4PNlN4ZBIGj1hp14IQZmJTgTvM8PtJ8Nb3\nu+9zu/W5uU1/7Jz+7KXwyl2d0/55O6y6dvDk9JBgKPDhPiKt2qnXXf3hgeXjCa7T36Vei16Bf98L\nf5oBDxWIOX64Y2uLtASCEJXEpgK3tevfewN4DnripG/sMldetQMOrh5cuYKRYJjQncN8pHLg3/p3\n8Xv9z+NkiW/b3t6/PN74euffrVX9l2egNB2TcKE9YaqNtASCEJXEpgJvLgu8DXp8ZgCG0Ty5ZwRu\nN0dWjp6IT9S/B7LGuqXJtx0u83ek5lhNdfDEQlj/i8j8f7TQdiLSEghCVBKbCnzlVb7trmZx9zAc\nLXne3azcFlk5esLjbOcYwAIx8Um+bXPjwOTxYO8Ivf/1r8OulX3P98QeePEL4AziXOjpgAzEInEq\nkz5S/24sjawcghClxJYCz53cPa1mb+ffw/FVrewC/fvTJ0J70Pd3zri3NB3z/X9LZfcRcnq+/n30\nnc7pJ/Z0t3QEI9Ev+Mjqb3ffb22FVdcFz+/Yx93Tjq7XvzVN9yPYtQpKNvjS9r0Cb/1At7745+t2\ng6VZd4ZrLtPPMRsWAnMTPH8VlG7U25DDopvK7Wa9A2M3+0b+bSd8Sr7iMz2/lgo9b4CqXVC9W/9U\n7fId63br5Q1Ec5k+1x+oPbgcUL7V91vTOpvxQ7Uhp6137ajrtT+xR3cMdVgCn29p1k3lns6UywGe\n4DEfPug7rrUa6g76lLrTpsvusYw1lkJbTc/lCIbbDdZhNOduae75GEEIQmwFcnnhejj2UXjyEgRB\nEASAS38FS38YtuwkkEsgRHkLgiAI4WbDLyPyt7IaWTDSRnSegx0zDzLGQMn7nY9LzR0aM9gP98OT\n5/TfM3uoGL8EqgNYTBLTIH+mbvp1OyF/BuROgcYSqNsP874Io0+DGZfr+xxmWP+Abnat2g55U3Wz\ndVI6TL5AN1tXGGbi/Flwywv6tcmdAmPnQ85E3ZxrboT9b+jm5slLIWssVGyD838A+16FkbP0/9bc\neqCc5CyoPwTZ4yE1T8+/vVZvD/FJULkdUnP0Y3Mm6f4JHQ1Qu0/PPzXXF2dAc+kOiHEJunPesY9g\n9Ol6nqPm6u0mMVV3/nNY9XxRkJCk/+6o12Wo3AZJGfpx+1/XZbG3w6K7oKYQGov18zb+Bk67EZLS\nYNF/QM0eSMrU5cgap08ljJylv4Vx6C1f+86dpE8v7XweCpboc9OH34ZL/gt2roS2KphzrV6Wfa/6\nrmeaMWVy3nf1aZ7MMZA3Tc/X7QKnVb+m1bv0+k3L16MKuhyw4iz44T7IGg+/zuvcVrInwtV/0vel\n5urlsXdAXCIoBQ2HYfOjusxlW+CmZ/XpjYIloOL1a9NwBPa8qF+fuv0wep4+xZOYCm3VcLIYCs6E\n4wGmXDyk5up+HTkT9LdQALIn6FMgLhtc9AvIGKnXpaUFxp0Bs66C+oO6eb+2CBbcrr+dcegt/fXI\nuTfob7NkT4RpF8H0y/RrOO4MqDugX+PkLL3tFr+nl+nwWlh4Bxx9V88/OVM/bu/f9WtXtVO/j0L5\n70w8T3cunX4ZZIzS68jl0Ot1zjX69E3WOL2cGaP1esqfqddd2wn9ujsskJant/XekDFaP8fzmmB8\nUviDUWWOBVNN/85NSNHbaDh4IDKvqsaWCR30G+v4Jv1BMOVCX7rbDauugQv+E6ZfqqdVbNMVQdZY\nHttwlHnjszl76ghO/6U+p1r28NXhk0sQYpTzH95IdYuFK+O28Yn7dIoeviXSIglCROmtCT32RuBK\nwdTPdU+Pi4O713VOm3i2d/OxDcUAFC3//GBKx2u7qjhjQjbTR2X2fLAgBKGwsoXpozJITx7+t7gy\nFmV7x3126AMFQehEbM2BhwG3e3AtFj9+tZBLHx2C8KxDRGWTmcn3r2VvZUukRYkZTFYH16/4hO/9\nYw8Ol5tH3z9Khy2webWm1cKnJSd7zNPpcmOyBvZOb7U4WPjr99hR1hRwf0/EqZ6XVRUEoTsxq8Bb\nzHbO+u0GCvuoWFyDrMD7QpvVwcn24R1edXOxrhz+ub0iwpLEDk6X3kZ3VzSzek81T3xQzKPvH/Xu\ntzldNBrt5srHN3P7s4HjC3z75V1c/cRm7nhuG9MfeId5ywO/z15Y2UKz2cHjhpXKn8c2HGX78f4p\n9sGmsLJFOpcDoMPmpLRhmPvknOLErALffryJepONP284Sk1r70OUuvroM+BwuXl1Z2XYRu6aprH9\neBOapnH+QxtZ8qD+PvNLn5Uz/RfrBt1C0FfijMHVQFwtnC43f1x/mFbzIL/nfooQZ1S6y6XhMJS5\n/wj8Gy/uYrHRblpC1Om6fbUcONHm7YRB4A5svOf/Aux7bEMxtzy9lcO1gd+9LjvZQUXT0EUYvOrx\nzdzylO78+OGRegA2HuqdA9LaohpqW8Pk9BRlWOwunK7OMTLuWbmDZY+EcAIUBp2YVeAJ8fpD56Mj\nDZz70EYaTL0byfZ16eJnNx/nJ68V8frunuNx90b5vrKzklue3sq6fbWY/B7KD649iNOtYXMOTSCa\nqmYzR+tChzr9xb/3cf8buseqYwBrPm84VMeKD0v51dsH+p1HtNKvTovRjJxuzduBcvv1oD460tDt\nFLdb447ntvFJD+Z0h6v7dfSYwEN1bq94bHPAe+zWZ7YGOLpnjjW0862XdmFzuno+2I+DNW1sN0z9\nHrl70+d1uTW+8/fdfPHpT/ss66nAnP95l5n/9Q6T71/rtfptMywrXRW7MHTErgKP61z0elPvetZ9\nHYG3WPTXJhpCmLqbOuxsLm7olHewB2l5oz5aOX6ys+kq0SjPQBRlX1j6+w/5/J9Dz9X/fZvPbO4x\n6/YHT7WYbX17WEc7Gw/XseDX77G1tG8hZT3K2uFye0fHzgBayn/E3Gy2s7n4JN96aVfIvO0BHtaJ\nRmfY3kPnsT3APHy7tXtadUvPFrEH/r2fd/bXsqus/69wBurcBMNzTGXTMF9QaBDxNJeiKn3KweO6\nEKhNCEPDkCtwpdQVSqkjSqkSpdT9Q/3/1S0W3j9YR1e/Gaujd8qhrybq5Hi9ikM93O782zbueG47\nFj8Z1h8IvEKT54HsP/rWNI144yHqGKIReF8ZiO+AvxKqa7OiaRqaprHw1+916iScSsxbvp57Vuqv\nT+6uCKykAo2GwbcMj9OtkWF4oQdSlP5t0mps9/QwDuQM5/F078kfo6uitDldXnO/P/c8vyNkPuBT\nHgOZMUpKiDPk6Pme6Y2SP1Xp+qqx3enG4XJ7O9Ymq5O/bizmV28d4Gurer52QvgY0ndMlFLxwArg\nMqAK2KGUWqNp2sGh+P8Gk43zH94YcF9bgAdcUVUL2amJTBqR7k3zV0QNJhuZKQmkJMbT3GEnJy0R\n1aVnkJES/AHqYX+1Pj/YZvGZS4M9nOvb9Ifku/t9Ct7icJGZkkCL2UGz2cGIjOSg/9VbNE3rVhYP\n/ZlnX7uvhhU9HON2aygFVoebxg4bBblpACQaD9otJQ2c/bsP+NGlM7n3wqk0mx08sHofR+tM3HXe\nZDYcrMPucvOdi6f3KM9nxxqZX5BNWlLoW8Dt1rxKJlSd2Jwu3G5dKcR3UUpdzwuVjweTX3sJpGBe\n31XFfa8WsuVnF3vrCfT26a+YM1P0FeL8LUBK6VYNk83X3jzt0+oIrcwaTDbGZqd2SvPMo5/oYeRs\n65L37P9+N6BvxJEepmYAEoyOcbD7pDd46iaYd70/u8sH39HN5nShUN6OxXDB0cV6ZnG4+NhvGmbd\nvhr+9N7RrqedUvTmno0EQxrIRSl1LrBc07TLjd8/B9A07aFg54QzkIsnYIQgCIIghIur5o3hyS8v\nDlt+wzUW+nig0u93lZHWCaXUvUqpnUqpnQ0N3R1u+osob0EQBCHcrNsXeMpzsBmWYZo0TXsGeAb0\nEXgkZVlQkM3sMVnMK8jmv1bvZ8mkXBwuN4VVrYzLTuFEiNdKrp43luSEOCbnp3vfw02Kj2PhxByv\nByfA/VfOZvaYTJ74oJifXjGbdquTr72wk6T4OO+cZFZKAuNyUjHbXTxyywJ+8/ZBLpwxklljMvne\nP/bwtaVTSIiP46mPS7l63lhq26zceuYEdhxv4kidiTilOG1cFsX17bRbndhdbnJSE5kzNovkhDhG\nZiZjtrsob+xgztgszp+eT6vFwZ6KZpRSJMQpOmxOctKSmJiXxoIJORyqaaO2zUpWSiJbS0+yams5\nd58/mYtmjeLgiTauOH0MdW1W4uMUf9lYwqajnTtjl8wexZT8dPZUNHPetHzu/dxUTFYn+6tbOdlu\nI14p5hfk8N7BWq6ZP5a/bCxhQUEOo7NSuO/VvVw7fxw3LBzP+wfr2HCojpV3n0lifBzVzRYWT86l\nxezglR2V3HbWROrarDSbdYdCl1tjVGYKeyqbSYyL49xpI6g3WUlLSsBsd7Jm7wnuOHcymqYxJT+d\ngzVt5KYlUdtm5aMj9ZwxIZex2SlMH5VBZZOZSSPSMVkdON0a5Y1mms128tKTMFkdzB6TRUZKAtXN\nFtosDuYX5GC2O8lOTcTucnPV45t55JYFjM9Jw+JwoWkabVYnBbmpJCfEsf14E09vOkar2YHN6aLF\n4iAjOYHrFozjmvnjKG/soKrZwuu7qzh9fDav7ari19efxjXzx/HBoTqchkn9l2t0D/65Y7OYOy6L\ny08bw9df0C1bP/78zIAm0Ekj0jh7Sh6v7KziX/eewy/XHOBwbWDz9rlTR7D1mM/ZLikhjoQ4hdmu\n+3XcuHA8b+yp7nROXnoSTR36NXn0lgW8+Fk5f7hpPpf14By5ZFIuSQlxnDUlzxsh0Z+Rmck0mGwo\nBfPGZzMlP52C3FTGZKeSnZqI1e7i2S3HuG7BOM6ZOoL1B2p572Ad5Y1mrpk/lreL9NjaV5w2hsn5\n6SQnxOFya5wxIYemDjs/fb0IgBvOGEdtm5XPjjVx65IJFNebmDUmixmjMpiSn87k/HQaTDbSkuIZ\nm52C2e4iOSEOt6ZPY8QpRW5aIvUmGzlpiThc+lsDifFxNJhs5Gckk5wQR5vVgc3pJiUhHpvLhdOl\n0WJ2kGlMz9mcbmpaLaQmxlPZbGbJpDwsDhfjclLRNI3dFbr5v6S+3WivadidbuYVZNPUobfVDpuL\n+QXZKOVz1Juan05CvMLl1rA4XCTFx1HZbOGZTaUkxcdx0+IC0pMT+OWbB9hXHWTZ2z6yoCCbgzVt\nzC/Iod5kpabFyvjcVE4fl01pQztnTMghOSGOVVvLu52bmhjv9SMqyE1lbHYKaUkJZKYkcNnc0XxS\ncpIrTx9LalI85Y0dnGixMiU/nYkj0jhpsjF3XBZtFidWpwurw0VeehJWhz7fb3W42Fx8ktljMqk3\n2Zg8Ig1QNJvtnDN1BFPy07vJMxTElAndnyc/KuFEi4UHb5jnTdtc3EBaUjyLJ+WFOFMQBEEQBo/h\nGgt9BzBDKTUFqAZuA24fYhkA+PZF3R2dLpgxMgKSCIIgCELfGVIFrmmaUyn1XWA9EA/8TdO02IvO\nIQiCIAgDZMjnwDVNWwes6/FAQRAEQRCCMrxeOBQEQRAEoVeIAhcEQRCEKEQUuCAIgiBEIaLABUEQ\nBCEKEQUuCIIgCFGIKHBBEARBiEJEgQuCIAhCFCIKXBAEQRCiEFHggiAIghCFiAIXBEEQhChEFLgg\nCIIgRCGiwAVBEAQhChEFLgiCIAhRiChwQRAEQYhCRIELgiAIQhQiClwQBEEQohBR4IIgCIIQhYgC\nFwRBEIQoRBS4IAiCIEQhosAFQRAEIQoRBS4IgiAIUYjSNC3SMoREKdUAlIcxy3zgZBjzi2akLnxI\nXXRG6sOH1IUPqQsfg1kXkzRNG9nTQcNegYcbpdROTdOWRFqO4YDUhQ+pi85IffiQuvAhdeFjONSF\nmNAFQRAEIQoRBS4IgiAIUUgsKvBnIi3AMELqwofURWekPnxIXfheJs8xAAAEKklEQVSQuvAR8bqI\nuTlwQRAEQTgViMURuCAIgiBEPTGjwJVSVyiljiilSpRS90dansFCKVWmlNqnlNqrlNpppOUppd5X\nShUb37l+x//cqJMjSqnL/dIXG/mUKKWeUEqpSJSnryil/qaUqldK7fdLC1v5lVLJSql/GenblFKT\nh7J8fSFIXSxXSlUb7WOvUuoqv32ncl1MUEp9qJQ6qJQ6oJT6gZEec20jRF3EXNtQSqUopbYrpQqN\nuviVkR4d7ULTtFP+A8QDpcBUIAkoBOZGWq5BKmsZkN8l7Q/A/cb2/cDvje25Rl0kA1OMOoo39m0H\nzgEU8A5wZaTL1svyXwgsAvYPRvmBbwNPGdu3Af+KdJn7WBfLgR8HOPZUr4uxwCJjOxM4apQ55tpG\niLqIubZhyJ1hbCcC24zyREW7iJUR+FlAiaZpxzRNswP/BK6PsExDyfXAKmN7FXCDX/o/NU2zaZp2\nHCgBzlJKjQWyNE37TNNb3Qt+5wxrNE3bBDR1SQ5n+f3zeg1YNlytE0HqIhinel3UaJq229g2AYeA\n8cRg2whRF8E4letC0zSt3fiZaHw0oqRdxIoCHw9U+v2uInSDjWY0YINSapdS6l4jbbSmaTXGdi0w\n2tgOVi/jje2u6dFKOMvvPUfTNCfQCowYHLEHje8ppYoME7vHNBgzdWGYMBeij7Zium10qQuIwbah\nlIpXSu0F6oH3NU2LmnYRKwo8lliqadoZwJXAd5RSF/rvNHqHMfvqQayXH/hf9KmkM4Aa4JHIijO0\nKKUygNeBH2qa1ua/L9baRoC6iMm2oWmay3hmFqCPpk/vsn/YtotYUeDVwAS/3wVG2imHpmnVxnc9\n8G/06YM6w8SD8V1vHB6sXqqN7a7p0Uo4y+89RymVAGQDjYMmeZjRNK3OeGC5gf9Dbx8QA3WhlEpE\nV1gva5r2hpEck20jUF3EctsA0DStBfgQuIIoaRexosB3ADOUUlOUUknojgRrIixT2FFKpSulMj3b\nwOeB/ehlvcs47C7gTWN7DXCb4SU5BZgBbDdMR21KqXOMuZo7/c6JRsJZfv+8bgY2Gj30qMDzUDL4\nAnr7gFO8LgzZnwMOaZr2qN+umGsbweoiFtuGUmqkUirH2E4FLgMOEy3tIlzecMP9A1yF7m1ZCjwQ\naXkGqYxT0T0kC4EDnnKiz7d8ABQDG4A8v3MeMOrkCH6e5sAS9Bu4FPgrRtCf4f4B/oFu/nOgz0N9\nNZzlB1KAV9GdV7YDUyNd5j7WxYvAPqAI/cEyNkbqYim6GbQI2Gt8rorFthGiLmKubQDzgT1GmfcD\n/2OkR0W7kEhsgiAIghCFxIoJXRAEQRBOKUSBC4IgCEIUIgpcEARBEKIQUeCCIAiCEIWIAhcEQRCE\nKEQUuCAIgiBEIaLABUEQBCEKEQUuCIIgCFHI/wMG7PwwIP2j7gAAAABJRU5ErkJggg==\n",
      "text/plain": [
<<<<<<< HEAD
       "<matplotlib.figure.Figure at 0x120968278>"
=======
       "<matplotlib.figure.Figure at 0x10ebd3a90>"
>>>>>>> 4a1bb0435b4e3cae3b929dc877d5657a48b79203
      ]
     },
     "metadata": {},
     "output_type": "display_data"
    }
   ],
   "source": [
    "count = 0\n",
    "plt.figure(figsize=(8,10))\n",
    "for i in range(0,nNeurons):\n",
    "    plt.plot(neuron.C_raw[i,:]+count)\n",
    "    count = count+125"
   ]
  },
  {
   "cell_type": "code",
<<<<<<< HEAD
   "execution_count": null,
   "metadata": {},
   "outputs": [],
=======
   "execution_count": 68,
   "metadata": {},
   "outputs": [
    {
     "data": {
      "image/png": "iVBORw0KGgoAAAANSUhEUgAAAeoAAAJCCAYAAAAPyoQkAAAABHNCSVQICAgIfAhkiAAAAAlwSFlz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\nzD3andkq8tEAAAAASUVORK5CYII=\n",
      "text/plain": [
       "<matplotlib.figure.Figure at 0x10eb93dd8>"
      ]
     },
     "metadata": {},
     "output_type": "display_data"
    }
   ],
>>>>>>> 4a1bb0435b4e3cae3b929dc877d5657a48b79203
   "source": [
    "count = 0\n",
    "plt.figure(figsize=(8,10))\n",
    "for i in range(0,5):\n",
    "    plt.plot(neuron.C_raw[i,:]+count)\n",
    "    count = count+125"
   ]
  },
  {
   "cell_type": "markdown",
   "metadata": {},
   "source": [
    "### Calculate the number of frames required to span the longest trial in all conditions, and use this for all trials\n",
    "    --nTrials = list of number of trials in each condition (length = n_combos)\n",
    "\n",
    "    --max_window = find window length (number of frames) required to capture center poke to decision poke for all trials (with extensions) and then just take maximum length trial across all conditions)"
   ]
  },
  {
   "cell_type": "code",
<<<<<<< HEAD
   "execution_count": null,
   "metadata": {
    "collapsed": true
   },
=======
   "execution_count": 69,
   "metadata": {},
   "outputs": [
    {
     "data": {
      "text/plain": [
       "91"
      ]
     },
     "execution_count": 69,
     "metadata": {},
     "output_type": "execute_result"
    }
   ],
   "source": [
    "max_window"
   ]
  },
  {
   "cell_type": "code",
   "execution_count": 70,
   "metadata": {},
>>>>>>> 4a1bb0435b4e3cae3b929dc877d5657a48b79203
   "outputs": [],
   "source": [
    "nTrials = [poke_frames[poke_frames_keys[i]].shape[0] for i in range(n_combos)]\n",
    "max_window = np.zeros(n_combos) \n",
    "window_length= np.zeros((np.max(nTrials), n_combos))\n",
    "    \n",
    "for i in range(n_combos):\n",
    "    for iTrial in range(nTrials[i]):\n",
    "        window_length[iTrial, i] = int(((poke_frames[poke_frames_keys[i]][iTrial][1]-\n",
    "                                 poke_frames[poke_frames_keys[i]][iTrial][0])))\n",
    "    max_window[i] = np.max(window_length)\n",
    "    \n",
    "max_window = int(max_window.max())"
   ]
  },
  {
   "cell_type": "markdown",
   "metadata": {},
   "source": [
    "### Aligned to center poke\n",
    "    Pull out segments of calcium traces in designated window of frames. Calculate mean fluorescence for each neuron across all trials. \n",
    "    -- aligned_start = (number of trials x number frames x number of neurons x number of combinations)\n",
    "    -- mean_center_poke = mean fluorescence (or mean number of events) for each neuron across all trials aligned to center poke\n",
    "    \n",
    "    If using raw traces, will add back in normalization here.\n"
   ]
  },
  {
   "cell_type": "code",
<<<<<<< HEAD
   "execution_count": null,
   "metadata": {
    "collapsed": true
   },
=======
   "execution_count": 71,
   "metadata": {},
>>>>>>> 4a1bb0435b4e3cae3b929dc877d5657a48b79203
   "outputs": [],
   "source": [
    "aligned_start = np.zeros((np.max(nTrials), max_window, nNeurons, n_combos))\n",
    "mean_center_poke = np.zeros((max_window, nNeurons, n_combos))\n",
    "sum_center_poke = np.zeros((max_window, nNeurons, n_combos))\n",
    "\n",
    "for i in range(n_combos):\n",
    "\n",
    "    # create array containing segment of raw trace for each neuron for each trial \n",
    "    # aligned to center poke\n",
    "    for iNeuron in range(nNeurons): # for each neuron\n",
    "        for iTrial in range(0,nTrials[i]): # and for each trial\n",
    "            try:\n",
    "                aligned_start[iTrial,:, iNeuron, i] = neuron.C_events[iNeuron,\n",
    "                    int(poke_frames[poke_frames_keys[i]][iTrial][0]):\n",
    "                    (int(poke_frames[poke_frames_keys[i]][iTrial][0])+max_window)]\n",
    "            except ValueError: # for trials at end of session where cannot fill full max_window length\n",
    "                len_to_end = int(nFrames - poke_frames[poke_frames_keys[i]][iTrial][0])\n",
    "                aligned_start[iTrial,0:len_to_end, iNeuron, i] = neuron.C_events[iNeuron,\n",
    "                    int(poke_frames[poke_frames_keys[i]][iTrial][0]):\n",
    "                    (int(poke_frames[poke_frames_keys[i]][iTrial][0])+len_to_end)]\n",
    "            \n",
    "    # take mean of fluorescent traces across all trials for each neuron, then normalize\n",
    "    # for each neuron\n",
    "    mean_center_poke[:,:,i]= np.mean(aligned_start[0:nTrials[i],:,:,i], axis=0)\n",
    "    sum_center_poke[:,:,i] = np.sum(aligned_start[0:nTrials[i],:,:,i], axis=0)"
   ]
  },
  {
   "cell_type": "markdown",
   "metadata": {},
   "source": [
    "### Plot heatmap of average events per trial (intensity) for each neuron (y) over time (x)\n",
    "### Aligned to center poke"
   ]
  },
  {
   "cell_type": "code",
<<<<<<< HEAD
   "execution_count": null,
   "metadata": {},
   "outputs": [],
=======
   "execution_count": 72,
   "metadata": {},
   "outputs": [
    {
     "data": {
      "image/png": "iVBORw0KGgoAAAANSUhEUgAAAjgAAAEYCAYAAABRMYxdAAAABHNCSVQICAgIfAhkiAAAAAlwSFlz\nAAALEgAACxIB0t1+/AAAIABJREFUeJzt3Xm8XHV9//HXOzfLJTshEEMgRI0sBjRAAFlEBUW0tmi1\ndcOitaLVWvpTq6h9uP6s1KXWLtqiULGilh/WgriwCSKKQJAQCEtAyAKGQAhZyZ7P749z7r1z7+z3\nzsw5c+77+XjcR86c9XNmznzynTOf+X4VEZiZmZkVyZisAzAzMzNrNTdwzMzMrHDcwDEzM7PCcQPH\nzMzMCscNHDMzMyscN3DMzMyscNzAsRGR9FNJ5zSw3hZJz+lETGZWPM411iw3cEYBSSskbZO0WdIG\nSb+W9B5JI379I+JVEXFJA+tNjoiHR3q8VpE0T9INkp6RdL+kl2cdk1m3c64pJ+mzku6WtFvSp7KO\nZzRxA2f0+MOImAIcAlwAfAS4KNuQMvU94E5gP+DjwOWS9s82JLNCcK4Z7CHgw8CPsw5ktHEDZ5SJ\niI0RcSXwRuAcSUcCSJog6UuSVklaK+nfJe3Tt52ksyQtkbRJ0u8knZnOv1HSX6TT8yX9QtJGSesk\n/XfJ9iFpfjo9TdK3JT0paaWkv+v7hCfp7ZJuTmN5WtIjkl7VyudA0qHAMcAnI2JbRPwAWAq8vpXH\nMRvNnGv6n4dLIuKnwOZW79tqcwNnlIqI24BHgRensy4ADgUWAvOBOcAnACQdD3wb+FtgOnAqsKLC\nbj8LXAPsCxwE/EuVw/8LMA14DvAS4M+Ad5QsPwF4AJgJfAG4SJIq7UjSVemt8Ep/V1U5/gLg4Ygo\nTTh3pfPNrIVGea6xDI3NOgDL1O+BGekb+lzgBRGxHkDS3wPfBT4KvBO4OCKuTbd7rMr+dpHclj4w\nIh4Fbh66gqQe4E3AwrSBsVnSl4G3MXAbe2VEfCNd/xLga8As4PGh+4uI1zR91jAZ2Dhk3iaSRGtm\nrTdac41lyHdwRrc5wHpgf2AicEffJxLgZ+l8gIOB3zWwvw8DAm6TtEzSn1dYZyYwDlhZMm8lgxsX\n/cklIp5JJyc3cPxGbQGmDpk3Dd9CNmuX0ZprLENu4IxSko4jeaPfDKwDtgELImJ6+jctIvre6KuB\n59bbZ0Q8HhHviogDgXcDX+v7LrzEOgY+ffWZS/VPavXO46dKfhZa6e+nVTZbBjxH0pSSeS9M55tZ\nC43yXGMZcgNnlJE0VdJrgO8D34mIuyNiL/AN4CuSDkjXmyPplelmFwHvkHS6pDHpssMr7PtPJB2U\nPnwaCGBv6ToRsQe4DPicpCmSDgE+AHxnOOeT/nR0cpW/igWDEbEcWAJ8UlKvpD8GjgJ+MJwYzKyc\nc01/rOMk9ZL8fzs2zTk9w4nBmuMGzujxI0mbST4hfRz4RwYX232E5OeMv5G0CbgOOAz6iwTfAXyF\npHblFwz+VNTnOOBWSVuAK4HzqvRH8X5gK/Awyae67wIXj/QEm/QmYBFJcvw88IaIeLLDMZgVkXPN\nYN8guWv1ZpLnYxtJHZC1mSIi6xjMzMzMWsp3cMzMzKxw3MAxMzOzwnEDx8zMzArHDRwzMzMrHDdw\nrC3SviGe08B689KxY9yrtpk1xXnGanEDp8tIWiHpCUmTSub9haQbO3T8/gHvakn7hqj0s81MSXqZ\npBuUDNK3osLyFZK2lXTgdU3Jso8N6dxrm6S9kmZ29CTM2sx5ZmQayDMnSbpN0mZJSyWdUrLMeaZF\n3MDpTj3AeVkHUUkXfELaStIPxt/WWOcPSzrwOqNvZkT8fWnnXsA/ADdGxLo2x2yWBeeZ4auaZyTN\nAH4EfJFkQNEvkPQdtC84z7SSGzjd6YvAhyRNH7qg0q3Y0k9Dkt4u6VeSvqJkLJiH008Tb5e0Ov3U\ndk6lg0r6HMmIwP+afrL413R+SHqfpAeBB0vmzU+n/0DSnZI2pcf4VLUTS+N4OP1k84iktw77Waog\nIm6LiP8i6fhr2CSJZGTiS1oSmFn+OM8MU508cxKwNiL+X0TsiYjvAE8Cf1whTueZEXADpzstBm4E\nPjTM7U8AlgL7kfTs+X2SnkHnA2eTJJayAeci4uPAL4G/Sj9d/FXJ4tem+31+heNtJXmTTgf+APhL\nSa8dulJ6O/yfgVdFxBSSRLCk0glIekuaOKv9zW3sqajoUklPSrpG0gurrPNi4AA8vIMVl/NMe/PM\noEMBR1aY7zwzAm7gdK9PAO+XtH/dNcs9EhH/mY7V8t8kI/h+JiJ2RMQ1wE6SJNSMz0fE+ojYNnRB\nRNzYNw5NRCwFvge8pMp+9gJHStonItZERMUBMCPiuyWD9VX6W9Vk/H3eCswj6R7+BuDqSp9ggXOA\nyyNiyzCPY9YNnGdan2duAWZLepOScarOIRlgdGKFdZ1nRsANnC4VEfcAVwHnD2PztSXT29L9DZ1X\n9smqjtXVFkg6IS24e1LSRuA9QFnBXERsBd6YLl8j6ceqMNBeO0XEryJiW0Q8ExGfBzaQfIrqJ2ki\n8Cf4trEVnPNM60XEUyR3oj5I8hydSTIe16Ol6znPjJwbON3tk8C7gDkl87am/5Z+GnhWC49ZbfCy\nWoOafZdkQLyDI2Ia8O8kt2TLdxJxdUS8ApgN3E8yUF0ZSW/V4F8aDP1r1a3jqBDr64D1JLfvzYrO\neabFeSYifhERx0XEDJKBNw8HbhuymvPMCLmB08Ui4iGSW79/XTLvSeAx4GxJPZL+nOT2Z6usBer2\nOzHEFGB9RGyXdDzwlkorSZol6az0O/IdwBaSW8llIuLS0l8aVPireOtY0hhJvcC45KF6JY1Pl82V\ndLKk8en8vyX5BPirIbs5B/h2eKRaGwWcZ1qbZ9LlR6dfT00FvgSsjoirh+zGeWaE3MDpfp8BJg2Z\n9y6Snyc+BSwAft3C430VeIOkpyX9c4PbvBf4jKTNJN/pX1ZlvTHAB4Dfk3xyeQnwlyOMd6hTSW6N\n/wSYm0739XUzBfg68DRJ8j6TpBDxqb6NJc0BTgO+3eK4zPLMeaY5tfIMwIeBdSRfuc0muVvTz3mm\nNeTGoZmZmRWN7+CYmZlZ4biBY2ZmZoXjBo6ZmZkVjhs4ZmZmVjiZDFgm6UySKvke4JsRcUGt9cdr\nQvSWFfDnl8Z25mmN3bs7chwrvlZds5t2P7kuIobT621bNJtrxk2YFBMmzgBgz4Rk3t7x5euN2Tkw\nXWn5lEllHe0OMn3sMwBs2F2p89rKtu5KDjRp3MDBN2/dp+Y24zaXz+vZ3lje2NPbvjy2Z789/dN7\nd/b0T48Zn8wvPceR2Pr0wPPTsyP9t+T8Y/uOlhwnb9Q7oSPHqff8jSSOWtffjmfWs2vH1op9HJXq\neANHUg/wb8ArSHpuvF3SlRFxb7VtepnECTq9UyGOWM/MAzpynD1rn6i7ztbYxCRN7UA01s1adc1e\n/fjXVrZkRy0wnFwzYeIMXnhaMoD2pnnJf7xb5pZ3kTJ51cDN70rLTz2xYs///c7a704Arnjq6Dpn\nMeC2x5I+5Y6fM9D1yk23LKi5zYE3lf9KdsryDQ0db/OhlUYoqeyZzU8wcUrj19D6swdGHti+akr/\ndO/cpEVWeo4j8dv/Pqp/euqKpPFUev57lj3QkuPkTc/8wzpynHrP30jiqHX93fXzrza0jyy+ojoe\neCgiHo6InSQDsJ2VQRyjwh3clHUIZllxrumQZb/8j6xDMCuTRQNnDoPHE3mUwV2AAyDpXEmLJS3e\nRTFvI5pZWzWfa3Z4TEOzoshtkXFEXBgRiyJi0Tg6832imY0+g3LNhGbHfjSzvMqiyPgx4OCSxwel\n84atZ1Zna146dbx6KsWx69DBH1CP2XYwe/cpG1B3kHHrn2n62EX97rpThnMNDX1tS22fWaHSFehd\n11ixZl8Vybjltd+KpXVfeXkf1NB0rhmzYSsTf3grMHgUyWb9vs7yrzM/napQBVzFQSwr2/d8ftNU\nXAB76q8CwMTaZUSDHBcn9j9vDe37h7WX13v+GvWsCqNHNHr+3Swv+XkkcdS6/sbE1uoLS9cb9tGH\n73bgeZKenQ4+9iaSEWCtDTZtejTrEMyy4lzTIRtZn3UIZmU63sCJiN3AXwFXA/cBl0VEE58VrBkP\nPfKzrEMwy4RzTec8yN1Zh2BWJpN+cCLiJySjrJqZtY1zjdnoldsiY2uNsWN7sw7BzApuHOOyDsGs\nTCZ3cFqtkQ7vuvl4zRgzJLaTeAn88s6a24yGoru8Gc41NPS1LTWSgthSzVwLeX4fWGedqFdmHYJZ\nGd/BKbgHYknWIZhZwTnPWB65gVNwa/GvqMysvZxnLI/cwDEzM7PCcQOn4PZjVtYhmFnBOc9YHnVF\nkbF6J9QelXTd02Wz6vY6PHPfqrvbNaP5ks2KvQFXiKvUoF5hFxw27GPXcgRHUzrWcV9PtS4QHWFP\nvCXXT6VRbzcd0tM/PX5j+YjOfXZOU83DlG47/aHtZcvr9Tzcx693vvS939utUz3aLtBxLd1f0Z6f\nTunE81b6nLXqePVGri8dAR5AD93c0H59B6fgFi/xKL9m1l63x8+zDsGsjBs4Bbd9e+27SGZmI7WN\n5sezM2s3N3DMzMyscNzAKbh5B78k6xDMrOCezeFZh2BWpiuKjNm9Z6Bgt1JxcIV5ew+dk/zbxGG2\nzxwPQO+6nQ1vU6m4uL9QuErBcN82PRXiHrS/JoqUq3lWiDEPD/Rk7F6Lm1CjEL2eqSsHnum+66nv\n+io1/aEmrrUMC4obLsh+vOWH7qjSHzTUK3ysZdO8gSLzLXOrZ6HJqwY+Y05dMXDNlG7f7H4GOeOk\nqvsp3Wb3KRur7htg+6opVZedeuIyZjx9BL379nLWfgO55oqnji5b96ZbFtSOt4Y51zzVP1204uA+\n9Yp2612Tla6bSkqvtWZNoXKMzb5fhhYO1/LYGfsNerzzycaaLr6DU3C/4dqsQzCzgvvR2f+bdQhm\nZdzAMTMzs8JxA8fMzMwKRxHVOyFr20GlFcBmkpKQ3RGxqNb608YdECfO/JNB8yrVGTTVcdsI6isq\n1sZU2l/pehWWN9OpX636oA3ze/unh3Yc98yalUyfOLehY/RuqF2xVPqdaRG+Ax9WR3/p61jp++bt\n0xv/vLD+BeXvu73TdvdPj9mYfMc8fsPAPndO31u23tD1h5qxtLwjwb7XuTTevnml11ejNT+lrn78\na3fUez93UrO5ZqpmxAk6vROhFcrGeIpp2q/+imYtcGtcz6ZYX7uXVLItMn5ZRKzL8Pijwp7tW6G1\nnSObdRvnmjbbRePF8mad4q+oCu6xay/LOgQzK7h7uSPrEMzKZNXACeA6SXdIOrfSCpLOlbRY0uKd\ne7d1ODwzK4imcs0udnQ4PDNrl6y+ojolIh6TdABwraT7I+Km0hUi4kLgQkhqcLII0sy6XlO5Zqpm\nONeYFUQmRcaDApA+BWyJiC9VW6cbCv9GNDJ1E5rtxC0ikOrWYpm1xHVxea6KjEsNN9cMZ8Tk4XQS\n2EzHZ33yUuxf9Dwz0g74GlV6DQzt3A5G1kFfNRN/eGvL99lujRYZd/wrKkmTJE3pmwbOAO7pdByj\nxSPcl3UIZplwrukc5xnLoyxqcGYBN0u6C7gN+HFE/CyDOEaFR3k46xDMsuJc0yHOM5ZHHa/BiYiH\ngRd2+rhmNro415iNbv6ZeMFNpTXfDZuZVeM8Y3nUHaOJd4F2jODcCgt1StYhmHW14RTyTlw2jOM0\nv0luFD3P1LsGhvN6VzxOyfSzWrTP0cx3cApuSdycdQhmVnDOM5ZHbuAU3Caa/+mpmVkznGcsj9zA\nMTMzs8JxA6fgDuI5WYdgZgXnPGN51BVFxho7lp6ZQ3oKnrnvwPS6p9t27JEUD2fZu3HfsefHTKT2\ntWPzWlzdbi17bUuv40oqXdv1tml0P3WMxtd27/RJPHPaCYPmrT97S//09lVTAOidu7l/3vFzVjW0\n79sem1u2zVn73dk/74NXnV1z+8mrqr+Pd5+yseL8vngrbbtl7t6ax6vkwJsGer4vfV7G7TmCR3vG\n8LkXXFFz+yueOrrpY/72v48qm1epR9/h9ARdz0h6iq7U+3Fpj8eb5vXU3L7Sa1rpuqn0nJZea33X\nQDWVro2+57eZ57RSb8595zjSHpiH7mfvz3/T0Ha+g1Nwv3jy21mHYGYF97tzv5J1CGZl3MAxMzOz\nwnEDx8zMzArHDZyCWzDtZVmHYGYF96z3/lHWIZiVUUTUXytj0/aZHSfOf2dT29QrDhtWkWiN4s5d\nMyaWzRu3/pmayysp3aZS0Vbvup1l87bPHD8wPX1wm3XrEyuJRfPKttk5faDAcPLKxtq54zcOXCvT\nH9petnzc8sfK5uWtULVjxcFt0HcN1Xq9h9o5TTWWlc8bv7F0uvbr3af0mr36ns/dERGLagaVY8PJ\nNX0qvV+hfjFpJbUKgEuLQkdavNmoWsWim+b18MyalUycfciguEsLsfvUK0Ku5LWTkmLm/906uX9e\nX2FttWLa0mLooaoVzo6koDhLIy1mrqTS9VerGBkGntdq74OhRlLAfNfPv8qWp1dXT24p38EpuIev\n/1bWIZhZwa268j+zDsGsjBs4ZmZmVjhu4JiZmVnhtK2BI+liSU9Iuqdk3gxJ10p6MP2384UMo8zh\nr/1g1iGYtZVzTfbmv+1DWYdgVqZtRcaSTgW2AN+OiCPTeV8A1kfEBZLOB/aNiI/U29dUzYgTdHpb\n4iyVZc/D7bI6HuJgze/Y8Wx0uy4u73iRcTfmmqIZSZ4pLZJ97Iz9WhVSmb6C2Ik/vLVtx7DWqVQ8\n3eeWhy5i47Y12RUZR8RNwPohs88CLkmnLwFe267jW+IR7s86BLO2cq7JnvOM5VGna3BmRcSadPpx\nYFaHj29mo4Nzjdkol1mRcSTfjVX9fkzSuZIWS1q8ix0djKxY9qGx/nfMisq5pv2cZyyPOt3AWStp\nNkD6b9VilIi4MCIWRcSicUzoWIBFc5xOyzoEsyw413SQ84zl0dgOH+9K4BzggvTfhrq11Nix9Mxs\nrgB4OIW8eeh1t9WFzndvuJ6j5r+hfMG6p1t6HMjH82eDdaJwPqev+7ByTbepVYjZSXc/eiVHHTTy\n4Rqe9ZVftyCa4uvU655l786lxx7u+bbzZ+LfA24BDpP0qKR3kiSbV0h6EHh5+tja6Kmdq7MOwayt\nnGuy99SWR7IOwaxM2+7gRMSbqyzybzDNrGWca8ysEvdkXHCzep+bdQhmVnCzph2RdQhmZdzAKbgj\npr446xDMrOCOmH1G1iGYlel0kfGwxO7deS1kbLlWn+ctcTUnrn1lS/dp3WO0vG9GqyyLQEvdEldz\nopxnOiUvr3unDD3fiMa6c/AdnILbxa6sQzCzgnOesTxyA8fMzMwKxw2cgnseR2UdgpkVnPOM5VFX\n1ODU09+Z2cx923ugtHO8kdY1tKzztVrnm8a67+7x9IydPqLDuI6ju3Sicz/wdWEDpjEj6xDMyvgO\nTsHdvv5/sw7BzApuMb/IOgSzMm7gmJmZWeG4gWNmZmaF4wZOwS2acVbWIZhZwR3LqVmHYFamEEXG\n/cWOXVL02LLizAb2szFWsY/mtuZ41hVc/GudtpkNTGJq1mGYDeI7OAW3nKVZh2BmBec8Y3nkBo6Z\nmZkVjhs4BTe2GN9CmlmOOc9YHrmBU3An6cysQzCzgnOesTxqW7Nb0sXAa4AnIuLIdN6ngHcBT6ar\nfSwiftKuGAweiCUcpoVZh2HWNnnMNT0LDuvIcfIyqrTzTL6MtuuvmnbewfkWUKlZ/5WIWJj+uXHT\nZmt5NOsQzNrtWzjXZMp5xvKobQ2ciLgJWN+u/ZuZgXONmVWWRQ3O+yUtlXSxpKqjRUo6V9JiSYt3\nsaOT8RXKDDoz8KJZDjnXdIjzjOVRpxs4XweeAywE1gBfrrZiRFwYEYsiYtE4JnQqvsI5UsdnHYJZ\nFpxrOsh5xvKoo7/ti4i1fdOSvgFc1cnjj0a3xw0cp5dlHYZZR2Wda/JefNlqzjP5Mtquv2o6egdH\n0uySh68D7unk8UejbWzNOgSzjnOu6SznGcujmndwJO0HvAU4PJ11H/C9iHiq3o4lfQ94KTBT0qPA\nJ4GXSloIBLACePewIzezwnCuMbNWq9rAkXQE8HPgauBOQMBxwMcknRYR99facUS8ucLsi0YQqw3D\nPDrTH4LZcDnXdD/nGcujWndwPgucFxGXlc6U9Hrgc8Dr2xmYtcZsDsk6BLN6nGu6nPOM5VGtGpyj\nhiYcgIj4AXBk+0KyVrqFa7IOwawe55ou5zxjeVSrgVOraswVZWbWKs41ZtZytb6iOkDSByrMF7B/\nm+Ixs9HHucbMWq5WA+cbwJQqy77ZhlisDV7Ai7IOwawe55ou5zxjeVS1gRMRn+5kINYee9iddQhm\nNTnXdD/nGcujWj8T/+daG0bEX7c+nCqx9E6gZ376M8R1Tze0zZ61T7Q8jp5Z7R9vpTTuQcebmQyl\ns2vGxKb2t+w3F3DKi15Vc51x659JJkqe23Y8f6PJ3hcfXTZv+8zxA9PTW9PH5v63VRhjsstexzzl\nGhueZSzmVF7T8Po9CwZ+Vr750OllyzfN62lJXFNX7OmfnrJ8Q9ly9/hbbLW+orqjY1GY2WjmXGNm\nLVfrK6pLOhmImY1OzjVm1g6dHk3cOuyk4/826xDMrOBO4dVZh2BWxg2cglu5+qasQzCzgluBa1ks\nf2oOtpkXe3rHDhSipf/2rtvZv3zD/N6ybXo3PLt8Xsk2lfQVgZYWgO6cpv7pqSv3lG1TSd9xSotK\nG7V9+nMrHnvLIXuTfc/dXHP7zxz1o0GP333y3bznooFC1Pu2HwjA8q0DBcyrtyQFzCtWz+2f17ty\nftm+x28cmJ5zbToGYpcVtLZKvYLzvRXmVSos3jJ34DXeOX1gq73Tkl+lTJy2rX/esQeuBuDQSQPP\n8/Vry8cAemLTQNcxB0zdJ503uX/eMxuTeWM2Drz9J69MYiu9xuu9X/r0F6mDx+wukNJC4Hoeu/9n\nPO/w1w7rOBN/eGvZvClNHNusmroNHEn7A+8C5pWuHxF/3r6wzGy0ca4xs1Zq5A7OFcAvgeuAxm5h\nWG7MO2KfrEMwa5RzTZea0jsr6xDMyjTSwJkYER9peyTWFh/9ZvlXTWY55VzTpY6d96asQzAr00iR\n8VWSmi6Rl3SwpBsk3StpmaTz0vkzJF0r6cH0332bjtoa9oX3/C7rEMwa5VzTpX67smwweLPMKSJq\nryBtBiYBO4Fd6eyIiKl1tpsNzI6I30qaQtKZ12uBtwPrI+ICSecD+9b71DZVM+IEnd7I+dgQN8VV\nnKrGexg1G4nr4vI7ImLRcLZ1rulezjPWSbfG9WyK9aq3Xt2vqCKi2iB49bZbA6xJpzdLug+YA5wF\nvDRd7RLgRsC3pc1GOecaM2ulhn4mLumPgFPThzdGxFXNHETSPOBo4FZgVpqQAB4HKlanSToXOBeg\nl+bGX7IBcyj/ubxZXjnXdCfnGcujujU4ki4AzgPuTf/Ok/T5Rg8gaTLwA+BvImJT6bJIvh+r+B1Z\nRFwYEYsiYtE4JjR6OBviuVqQdQhmDXGu6V7OM5ZHjRQZvxp4RURcHBEXA2cCf9DIziWNI0k4l0bE\n/6Sz16bfmfd9dz56eofLwE3NfQA2y5JzTZdynrE8anSohtLx7Kc1soEkARcB90XEP5YsuhI4J50+\nh6TvCzMzcK4xsxZppAbn88Cdkm4ARPL9+PkNbHcy8DbgbklL0nkfAy4ALpP0TmAl8KdNR21mReRc\nY2YtU7OBk34yuhl4EXBcOvsjEfF4vR1HxM0kSaoS/w6zQ47gmKxDMKvLuaa7Oc9YHtVs4ERESPpJ\nRBxFcrvXusx4ygciNcsb55ru5jxjedRIDc5vJR1XfzXLo7v4ddYhmDXKuaZLOc9YHjVSg3MC8FZJ\nK4GtJLeCIyJe0NbIzGy0ca4xs5ZppIHzyrZHYWbmXGNmLdRIA6f2YFWWayfw8qxDMGuUc02Xcp6x\nPGqkgfNjksQjoBd4NvAA4K4ru8ATPMrBzM86DLNGONd0KecZy6NGBts8qvSxpGOA97YtImupR7jf\nice6gnNN93KesTxqtCfjfhHxW5JiQDOztnGuMbORqHsHR9IHSh6OAY4Bft+2iKyletkn6xDMGuJc\n072cZyyPGqnBmVIyvZvke/IftCcca7Xj5Y5crWs413Qp5xnLo0ZqcD4NIGliRDzT/pCslZbF7Sxw\n32nWBZxrupfzjOVR3RocSSdKuhe4P338Qklfa3tk1hJPsTbrEMwa4lzTvZxnLI8aKTL+J5IOuJ4C\niIi7SEb5NTNrJecaM2uZhn5FFRGrh8za04ZYrA0OYE7WIZg1zLmmOznPWB41UmS8WtJJQEgaB5wH\n3NfesKxVDtfRWYdg1ijnmi7lPGN51MgdnPcA7wPmAI8BC9PHNUk6WNINku6VtEzSeen8T0l6TNKS\n9O/VIzkBq+2WuCbrEMwa5VzTpZxnLI8a+RXVOuCtw9j3buCDEfFbSVOAOyRdmy77SkR8aRj77Ncz\n64CRbN6wPWuf6Mhx2mUXO7MOwawhec01jepZcFgnDsOeZQ905DjNcJ7pfkW8fqs2cCR9osZ2ERGf\nrbXjiFgDrEmnN0u6D/xFrZkN5lxjZu1Q6yuqrRX+AN4JfKSZg0iaBxwN3JrOer+kpZIulrRvM/uy\n5sznyKxDMKvHuabLOc9YHlVt4ETEl/v+gAuBfYB3AN8HntPoASRNJumN9G8iYhPw9XT7hSSfur5c\nZbtzJS2WtHgXOxo9nA0xnZlZh2BWk3NN93OesTyqWWQsaYak/wssJfk665iI+EhENFSYkv4S4gfA\npRHxPwARsTYi9kTEXuAbwPGVto2ICyNiUUQsGseEJk7JSi3mxqxDMKvLuaa7Oc9YHtWqwfki8Mck\nn6iOiogtzexYkoCLgPsi4h9L5s9OvzMHeB1wT9199U6gZ/7gAqhdMyY2E05V49aX9Ai/7unk35kD\nd7J7So95aPK1/vaZ41ty7N515YV545Y/1j9dWuBcsag6jfPJ42f0z9oyV0mMhyT73vN/rmb5VxY1\nFM+YjZXDaT3hAAATAklEQVQvh/EbknbwzKUDXZJMWb4h2X8OCx4b1elC9dLj9V1LTxw7MEjhphcM\nXA8Tp20D4NgDB7qFOXRSsp8/nXZH2TEOHTepf3r5rq3905dtPBaA7z14bP+8vUunATB+48D2U1cm\nr23pNVl6LQ49l1bKU67Z9dxeHv3igmYOz/ZVyRBak1cNfF6cumLgvfL7U1W2Td+6pevVs2lemo3O\nOKls2Zxrnmp4P/VUek9XKkDdfOj0/un4yTU88+qRD/zel1fqxZM3wynQLX3+Kul7vbfM3ds/r/Qa\na1S9a6zRXN53jvXirmdTheu3VK14+56TXZf+pqFj1foV1QeBHcDfAR9PcggAIin8m1pn3ycDbwPu\nlrQknfcx4M2SFgIBrADe3VCkZlZUzjVm1nJVGzgR0XxTcfD2N5MkqKF+MpL9WnMO+NBfZB2CWU3O\nNd1vwSnnZh2CWZkRJRbLv52PPp51CGZWcM9sXFN/JbMOcwOn4DZ8/6qsQzCzgnvk7h9lHYJZGUVE\n1jHUNXXKnDjumOo9tg8qFE6NpAi50v5K91laZFyxULjK9g3pK3SmNQWdN8VVnKrXjHg/3WhQEfHM\nNnaBUvKadUKee9e+Li6/IyIaq2rPoWn7zI4T578zk2N3qpi2HT3W3nj/V3np4ecNmtcNxcGjSZY9\nFdcrUm/WXT//KlueXl3pa+lBfAen4HoaGk/VzGz4esaMyzoEszJu4BTcyToz6xDMrOBefOh7sw7B\nrIwbOAW3PO7KOgQzK7j711yXdQhmZdzAKbjHWV1/JTOzEXh847KsQzAr0x0FGlu2MeaXd1ZdXKnf\nw5G03Kr1o9i3z3rly433TWqNGnGvww0WAue5gNfaL7bvKHxxbDvOL2J34Z+3bpfl61Pp2BNH0CYe\nE1vrr4Tv4BTevuyfdQhmVnDOM5ZHbuAU3FEa+fgwZma1OM9YHrmBU3CL48asQzCzgnOesTxyA6fg\nnqGpgZnNzJrmPGN51B1FxjbqufjXzMya4Ts4BXcIh2YdgpkVnPOM5ZEbOAV3IPOyDsHMCs55xvLI\nDZyCu4Vrsg7BzArOecbyqG0NHEm9km6TdJekZZI+nc6fIelaSQ+m/7ZxmGczKzrnGjOrpJ13cHYA\np0XEC4GFwJmSXgScD1wfEc8Drk8fm5kNl3ONmZVpWwMnEn2/HRyX/gVwFnBJOv8S4LXtisHgKNwB\nlxWbc032nGcsj9pagyOpR9IS4Ang2oi4FZgVEWvSVR4HZlXZ9lxJiyUt3sWOdoZZaHs9MpaNAs41\n2XKesTxqawMnIvZExELgIOB4SUcOWR4kn7QqbXthRCyKiEXjmNDOMAttGYuzDsGs7ZxrsuU8Y3nU\nkY7+ImKDpBuAM4G1kmZHxBpJs0k+cY3IiEeabpA7mzPLt3bnGiuungWHtf0YHnG9s9r5K6r9JU1P\np/cBXgHcD1wJnJOudg5wRbtiMLPic64xs0raeQdnNnCJpB6ShtRlEXGVpFuAyyS9E1gJ/GkbYxj1\nTuZVWYdg1m7ONRlznrE8alsDJyKWAkdXmP8UcHq7jmuDrWI5z+aIrMMwaxvnmuw5z1geuSfjglvN\n77IOwcwKznnG8qgQo4m7+NfMzEbCBcDF4zs4BTeZaVmHYGYF5zxjeeQGTsEdoxdnHYKZFZzzjOWR\nGzgFd1f8OusQzKzgnGcsj9zAKbiNrM86BDMrOOcZyyM3cMzMzKxw3MApuAOZl3UIZlZwzjOWR27g\nFNz8wWMOmpm1nPOM5ZEbOAX3y/hx1iGYWcE5z1geuYFTcEFkHYKZFZzzjOWRGzhmZmZWOG7gFNzh\nHJN1CGZWcM4zlkdu4BRcL/tkHYKZFZzzjOWRGzgFt4RfZR2CmRWc84zlUdsaOJJ6Jd0m6S5JyyR9\nOp3/KUmPSVqS/r26XTGYWfE515hZJWPbuO8dwGkRsUXSOOBmST9Nl30lIr7UxmOb2ejhXGNmZdrW\nwImIALakD8elf/4tYYedwOlZh2DWVs412XOesTxqaw2OpB5JS4AngGsj4tZ00fslLZV0saR9q2x7\nrqTFkhbvYkc7wyy0J/l91iGYtZ1zTbacZyyP2trAiYg9EbEQOAg4XtKRwNeB5wALgTXAl6tse2FE\nLIqIReOY0M4wC+1h7ss6BLO2c67JlvOM5VFHfkUVERuAG4AzI2Jtmoz2At8Aju9EDGZWfM41Ztan\nnb+i2l/S9HR6H+AVwP2SZpes9jrgnnbFYO6fworPuSZ7zjOWR+38FdVs4BJJPSQNqcsi4ipJ/yVp\nIUkR4Arg3W2MYdQ7Xi7+s8JzrsmY84zlUTt/RbUUOLrC/Le165hW7t5YzPO1KOswzNrGuSZ7zjOW\nR+7JuODW8XjWIZhZwTnPWB65gWNmZmaF4wZOwR3AgVmHYGYF5zxjeeQGTsEdrmOyDsHMCs55xvLI\nDZyC+01cm3UIZlZwzjOWR27gFNxOdz1vZm3mPGN51M5+cMxapmfWAR05zp61T3TkOGZm1l6+g1Nw\nz2VB1iGYWcE5z1geuYFTcDPozJ0PMxu9nGcsj9zAKbjbuSHrEMys4JxnLI/cwDEzM7PCcZFxl+hZ\ncNiwttP9P6Pn8Ma23bPsgWEdoxNc/GvWvOHmjWa0I290Im7Id86zkfMdnII7dt6bsw7BzAruGF6c\ndQhmZdzAKbitO9ZlHYKZFdxWNmUdglkZN3AK7v417mHUzNrrAe7KOgSzMm1v4EjqkXSnpKvSxzMk\nXSvpwfTffdsdg5kVm/OMmQ3ViSLj84D7gKnp4/OB6yPiAknnp48/0oE4utpwi+HGRLiQzkYD55kK\nOvXe76GnpftzzrJWaOsdHEkHAX8AfLNk9lnAJen0JcBr2xnDaHeyXpV1CGZt5TyTPecZy6N2f0X1\nT8CHgb0l82ZFxJp0+nFgVptjGNUejKVZh2DWbs4zGXOesTxqWwNH0muAJyLijmrrREQAUWX7cyUt\nlrR4l0eqHbY1rMo6BLO2GWmeSffhXDNCzjOWR+2swTkZ+CNJrwZ6gamSvgOslTQ7ItZImg1U7MEt\nIi4ELgSYqhlVk5OZjWojyjPgXGNWVG1r4ETER4GPAkh6KfChiDhb0heBc4AL0n+vaFcMBvsyM+sQ\nzNqm1Xlm16xJPP7WkwCYumIPAFOWb2g6rkpFsqW98z52xn4N7WfL3L01l/fO3Vw2b/uqKf3TB97U\nWHut3jnWK/otap6p1aPy5kOn19x207zywutqr+fkVdW/TOm7Dqup9No1U6TdqV6jG1XveQXY+/Pf\nNLSvLPrBuQB4haQHgZenj61NjtKLsg7BLAvOMx3kPGN51JGxqCLiRuDGdPop4PROHNfgjvgFx+ol\nWYdh1nbOM9lxnrE8ck/GBbeV8lvYZmat5DxjeeQGjpmZmRWOkl9Q5pukJ4GtQJFGjpxJcc6nSOcC\nxTqfTp/LIRGxfweP11IFzDVFupahWOdTpHOBzp5PQ3mmKxo4AJIWR8SirONolSKdT5HOBYp1PkU6\nl04p0nNWpHOBYp1Pkc4F8nk+/orKzMzMCscNHDMzMyucbmrgXJh1AC1WpPMp0rlAsc6nSOfSKUV6\nzop0LlCs8ynSuUAOz6dranDMzMzMGtVNd3DMzMzMGuIGjpmZmRVOVzRwJJ0p6QFJD0k6P+t4miHp\nYEk3SLpX0jJJ56XzZ0i6VtKD6b/7Zh1royT1SLpT0lXp424+l+mSLpd0v6T7JJ3Y5efzf9Lr7B5J\n35PU283n00ndnGfAuSbvipRruiXP5L6BI6kH+DfgVcDzgTdLen62UTVlN/DBiHg+8CLgfWn85wPX\nR8TzgOvTx93iPOC+ksfdfC5fBX4WEYcDLyQ5r648H0lzgL8GFkXEkUAP8Ca69Hw6qQB5Bpxr8q4Q\nuaar8kxE5PoPOBG4uuTxR4GPZh3XCM7nCuAVwAPA7HTebOCBrGNrMP6DSC7e04Cr0nndei7TgEdI\ni+1L5nfr+cwBVgMzSAbSvQo4o1vPp8PPXaHyTHoOzjU5+StSrummPJP7OzgMPJl9Hk3ndR1J84Cj\ngVuBWRGxJl30ODAro7Ca9U/Ah4G9JfO69VyeDTwJ/Gd6G/ybkibRpecTEY8BXwJWAWuAjRFxDV16\nPh1WmDwDzjU5VJhc0015phsaOIUgaTLwA+BvImJT6bJImry5/72+pNcAT0TEHdXW6ZZzSY0FjgG+\nHhFHk4xBNOi2ajedT/qd91kkyfRAYJKks0vX6abzseFxrsmlwuSabsoz3dDAeQw4uOTxQem8riFp\nHEnCuTQi/iedvVbS7HT5bOCJrOJrwsnAH0laAXwfOE3Sd+jOc4HkU/qjEXFr+vhykiTUrefzcuCR\niHgyInYB/wOcRPeeTyd1fZ4B55ocK1Ku6Zo80w0NnNuB50l6tqTxJMVMV2YcU8MkCbgIuC8i/rFk\n0ZXAOen0OSTfl+daRHw0Ig6KiHkkr8PPI+JsuvBcACLicWC1pMPSWacD99Kl50Nyy/hFkiam193p\nJIWM3Xo+ndTVeQaca/KsYLmma/JMV/RkLOnVJN/H9gAXR8TnMg6pYZJOAX4J3M3Ad8kfI/lu/DJg\nLrAS+NOIWJ9JkMMg6aXAhyLiNZL2o0vPRdJC4JvAeOBh4B0kDf9uPZ9PA28k+UXNncBfAJPp0vPp\npG7OM+Bck3dFyjXdkme6ooFjZmZm1oxu+IrKzMzMrClu4JiZmVnhuIFjZmZmheMGjpmZmRWOGzhm\nZmZWOG7gZETSHklLSv7mZRjL7L7Relu4z4Xpz247StIKSTNbvM+3SzqwyrLPSlqavobXlK4n6aNK\nRqZ+QNIrS+Zfl4eRdq34nGfaw3mmO7iBk51tEbGw5G9F6UJJYzsYyweAb7R4nwuBphJPh8+5GW8n\n6ZK8ki9GxAsiYiHJoHOfAEhHcX4TsAA4E/haOmI1wH8B721rxGYJ55khnGdGDzdwciRtwV8p6efA\n9ZImS7pe0m8l3S3prHS9eZLul/QtScslXSrp5ZJ+JelBScen602SdLGk25QM8HZWlUO/HvhZuk2P\npC9Juif9xPD+dP6xkn4h6Q5JV5d0yX2jpH9Ij7Fc0ovTnmA/A7wx/cTxxmqxDD3nIc9H33leKuk+\nSZdLmpguOz3dz93pficM2XYfST+V9K708dnpsZdI+o+SJFC6zSck3Z6e+4VKvAFYBFyabrtP6TZD\nxvqZxMD4K2cB34+IHRHxCPAQcHy67ErgzVVeC7O2cp5xnhk1sh7OfLT+AXuAJenfD9N5bycZs2RG\n+ngsMDWdnkly8QqYR9KD5FEkjdQ7gIvTZWcB/5tu8/fA2en0dGA5MGlIHM8G7ih5/Jck46SMTR/P\nAMYBvwb2T+e9kaSnV4AbgS+n068Gris5l38t2W/FWIae85DY5pG8kU9OH18MfAjoJRn5+dB0/rdJ\nBhYEWJFudx3wZ+m8I4AfAePSx1/rWzbkeDNKpv8L+MOSc1xU47X8XBrPPSXP0b/2nW/6+CLgDSWP\nHwT2y/o69F+x/5xnnGdGc57xHZzslN46fl3J/GtjoHtrAX8vaSnJG2kOA0PQPxIRd0fEXmAZcH0k\nV/TdJG88gDOA8yUtIXnz9JJ0o11qNvBkyeOXA/8REbsB0lgOA44Erk339XckgxH26RvU746SYw9V\nK5bScx5qdUT8Kp3+DnBKGs8jEbE8nX8JcGrJNlcA/xkR304fnw4cC9yeHv904DkVjvUySbdKuhs4\njeS2b10R8fGIOBi4FPirRrYhGYiu2u1os1ZxnnGeGbV5Jq/fRY5mW0um3wrsDxwbEbuUjKzbmy7b\nUbLe3pLHexl4XQW8PiIeqHG8bSX7rEbAsog4scryvmPvofo1VTEWSScw+JyHGjqWSCNji/wKOFPS\nd9NkLOCSiPhotQ0k9ZJ84loUEaslfYr6z8tQlwI/AT5J/dGpe0mee7MsOM8M5jxTQL6Dk2/TgCfS\npPMy4JAmt78aeL8kAUg6usI6yxn8aeha4N1KC/EkzQAeAPaXdGI6b5ykep86NgNTmoylkrl9xwXe\nAtycxjNP0vx0/tuAX5Rs8wngaeDf0sfXA2+QdEDfOUka+lz2JZl1kiYDb6hxLv0kPa/k4VnA/en0\nlcCbJE2Q9GzgecBt6TYCnkVym9ssa84zzjOF5AZOvl0KLEpvZf4ZAxd1oz5L8r32UknL0seDRMRW\n4Hclb+JvAqvSbe4C3hIRO0neiP+QzlsCnFTn2DcAz+8r/msklioeAN4n6T5gX+DrEbGdZCTe/5c+\nN3uBfx+y3XnAPpK+EBH3ktzuvia9DX8tyS3z0udhA8kvPO4hSZK3lyz+FvDvlYr/gAvSYsGlJLfH\nz0v3t4xkZN17SQor3xcRe9JtjgV+03d73ixjzjPOM4Xk0cQNSa8juT39d1nHUkpJnx1XRcSRGYfS\nUpK+ClwZEdfXXdmsIJxnOst5xjU4BkTEDyXtl3Uco8g9oznp2OjkPNNxoz7P+A6OmZmZFY5rcMzM\nzKxw3MAxMzOzwnEDx8zMzArHDRwzMzMrHDdwzMzMrHD+P6FmgNP/hNStAAAAAElFTkSuQmCC\n",
      "text/plain": [
       "<matplotlib.figure.Figure at 0x117cdc4a8>"
      ]
     },
     "metadata": {},
     "output_type": "display_data"
    }
   ],
>>>>>>> 4a1bb0435b4e3cae3b929dc877d5657a48b79203
   "source": [
    "ydim = n_combos/2\n",
    "plt.figure(figsize=(8,ydim*4))\n",
    "for i in range(n_combos):\n",
    "\n",
    "    plt.subplot(ydim,2,i+1)  \n",
    "    plt.imshow(np.transpose(mean_center_poke[:,:,i]))#, plt.colorbar()\n",
    "    plt.axvline(x=extension, color='k', linestyle = '--', linewidth=.9)\n",
    "    plt.axis('tight')\n",
    "    plt.xlabel('Frame (center poke at %s)' % extension)\n",
    "    plt.ylabel('Neuron ID')\n",
    "    if n_variables == 3:\n",
    "        plt.title(\"%s = %s\\n %s = %s\\n%s = %s\\nNum trials = %.0f\" \n",
    "                  %(conditions[0], poke_frames_keys[i][1],\n",
    "                    conditions[1], poke_frames_keys[i][2], \n",
    "                    conditions[2], poke_frames_keys[i][3], nTrials[i])) \n",
    "    if n_variables == 2:\n",
    "        plt.title(\"%s = %s\\n %s = %s\\nNum trials = %.0f\" \n",
    "                  %(conditions[0], poke_frames_keys[i][1],\n",
    "                    conditions[1], poke_frames_keys[i][2], nTrials[i]))\n",
    "    if n_variables == 1:\n",
    "        plt.title(\"%s = %s\\nNum trials = %.0f\" \n",
    "                  %(conditions[0], poke_frames_keys[i][1], nTrials[i]))\n",
    "plt.tight_layout()"
   ]
  },
  {
   "cell_type": "markdown",
   "metadata": {},
   "source": [
    "### aligned to decision poke"
   ]
  },
  {
   "cell_type": "code",
   "execution_count": 73,
   "metadata": {},
   "outputs": [],
   "source": [
    "aligned_decision = np.zeros((np.max(nTrials), max_window, nNeurons, n_combos))\n",
    "mean_decision_poke = np.zeros((max_window, nNeurons, n_combos))\n",
    "sum_decision_poke = np.zeros((max_window, nNeurons, n_combos))\n",
    "\n",
    "for i in range(n_combos):\n",
    "\n",
    "    # create array containing segment of raw trace for each neuron for each trial \n",
    "    # aligned to center poke\n",
    "    for iNeuron in range(nNeurons): # for each neuron\n",
    "        for iTrial in range(0,nTrials[i]): # and for each trial\n",
    "            try:\n",
    "                aligned_decision[iTrial,:, iNeuron, i] = neuron.C_raw[iNeuron,\n",
    "                    int(poke_frames[poke_frames_keys[i]][iTrial][1])-max_window:\n",
    "                    (int(poke_frames[poke_frames_keys[i]][iTrial][1]))]\n",
    "            except ValueError: # for first trial where cannot fill max_window length\n",
    "                len_to_start = int(nFrames - poke_frames[poke_frames_keys[i]][iTrial][1])\n",
    "                aligned_decision[iTrial,abs(len_to_start):max_window, iNeuron, i] = neuron.C_raw[iNeuron,\n",
    "                    int(poke_frames[poke_frames_keys[i]][iTrial][1])-max_window:\n",
    "                    (int(poke_frames[poke_frames_keys[i]][iTrial][1]))]\n",
    "            \n",
    " # baseline subtraction\n",
    "    for iTrial in range(nTrials[i]):\n",
    "        for iNeuron in range(nNeurons):\n",
    "            aligned_decision[iTrial,:,iNeuron,i] = aligned_decision[iTrial,:,iNeuron,i] - np.median(aligned_decision[iTrial,:,iNeuron,i])\n",
    "    \n",
    "            \n",
    "    # take mean of fluorescent traces across all trials for each neuron, then normalize\n",
    "    # for each neuron\n",
    "    mean_decision_poke[:,:,i]= np.mean(aligned_decision[0:nTrials[i],:,:,i], axis=0)\n",
    "    sum_decision_poke[:,:,i] = np.sum(aligned_decision[0:nTrials[i],:,:,i], axis=0)"
   ]
  },
  {
   "cell_type": "code",
<<<<<<< HEAD
   "execution_count": null,
   "metadata": {},
   "outputs": [],
=======
   "execution_count": 74,
   "metadata": {},
   "outputs": [
    {
     "data": {
      "image/png": "iVBORw0KGgoAAAANSUhEUgAAAjMAAAEYCAYAAACp0XeqAAAABHNCSVQICAgIfAhkiAAAAAlwSFlz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\n",
      "text/plain": [
       "<matplotlib.figure.Figure at 0x117d6f5f8>"
      ]
     },
     "metadata": {},
     "output_type": "display_data"
    }
   ],
>>>>>>> 4a1bb0435b4e3cae3b929dc877d5657a48b79203
   "source": [
    "aligned_start_raw = np.zeros((np.max(nTrials), max_window, nNeurons, n_combos))\n",
    "mean_center_poke_raw = np.zeros((max_window, nNeurons, n_combos))\n",
    "\n",
    "for i in range(n_combos):\n",
    "\n",
    "    # create array containing segment of raw trace for each neuron for each trial \n",
    "    # aligned to center poke\n",
    "    for iNeuron in range(nNeurons): # for each neuron\n",
    "        for iTrial in range(0,nTrials[i]): # and for each trial\n",
    "            try:\n",
    "                aligned_start_raw[iTrial,:, iNeuron, i] = neuron.C_raw[iNeuron,\n",
    "                    int(poke_frames[poke_frames_keys[i]][iTrial][0]):\n",
    "                    (int(poke_frames[poke_frames_keys[i]][iTrial][0])+max_window)]\n",
    "            except ValueError:\n",
    "                len_to_end = int(nFrames - poke_frames[poke_frames_keys[i]][iTrial][0])\n",
    "                aligned_start_raw[iTrial,0:len_to_end, iNeuron, i] = neuron.C_raw[iNeuron,\n",
    "                    int(poke_frames[poke_frames_keys[i]][iTrial][0]):\n",
    "                    (int(poke_frames[poke_frames_keys[i]][iTrial][0])+len_to_end)]\n",
    "            #plt.plot(aligned_start_raw[iTrial,:,iNeuron,i])\n",
    "            \n",
    "    # baseline subtraction\n",
    "    #for iTrial in range(nTrials[i]):\n",
    "    #    for iNeuron in range(nNeurons):\n",
    "    #        aligned_start_raw[iTrial,:,iNeuron,i] = aligned_start_raw[iTrial,:,iNeuron,i] - np.median(aligned_start_raw[iTrial,:,iNeuron,i])\n",
    "    \n",
    "    # take mean of fluorescent traces across all trials for each neuron, then normalize\n",
    "    # for each neuron\n",
    "    mean_center_poke_raw[:,:,i]= np.mean(aligned_start_raw[0:nTrials[i],:,:,i], axis=0)\n",
    "        \n",
    "ydim = n_combos/2\n",
    "plt.figure(figsize=(8,ydim*4))\n",
    "for i in range(n_combos):\n",
    "\n",
    "    plt.subplot(ydim,2,i+1)  \n",
    "    plt.imshow(np.transpose(mean_center_poke_raw[:,:,i])), plt.colorbar()\n",
    "    plt.axvline(x=extension, color='k', linestyle = '--', linewidth=.9)\n",
    "    plt.axis('tight')\n",
    "    plt.xlabel('Frame (center poke at %s)' % extension)\n",
    "    plt.ylabel('Neuron ID')\n",
    "    if n_variables == 3:\n",
    "        plt.title(\"%s = %s\\n %s = %s\\n%s = %s\\nNum trials = %.0f\" \n",
    "                  %(conditions[0], poke_frames_keys[i][1],\n",
    "                    conditions[1], poke_frames_keys[i][2], \n",
    "                    conditions[2], poke_frames_keys[i][3], nTrials[i])) \n",
    "    if n_variables == 2:\n",
    "        plt.title(\"%s = %s\\n %s = %s\\nNum trials = %.0f\" \n",
    "                  %(conditions[0], poke_frames_keys[i][1],\n",
    "                    conditions[1], poke_frames_keys[i][2], nTrials[i]))\n",
    "    if n_variables == 1:\n",
    "        plt.title(\"%s = %s\\nNum trials = %.0f\" \n",
    "                  %(conditions[0], poke_frames_keys[i][1], nTrials[i]))\n",
    "plt.tight_layout()"
   ]
  },
  {
   "cell_type": "code",
<<<<<<< HEAD
   "execution_count": null,
   "metadata": {},
=======
   "execution_count": 75,
   "metadata": {
    "collapsed": true
   },
>>>>>>> 4a1bb0435b4e3cae3b929dc877d5657a48b79203
   "outputs": [],
   "source": [
    "photometry_aligned = np.sum(aligned_start_raw, axis=2)\n",
    "photometry_mean = np.mean(photometry_aligned, axis=0)\n",
    "photometry_std = np.std(photometry_aligned, axis=0)"
   ]
  },
  {
   "cell_type": "code",
<<<<<<< HEAD
   "execution_count": null,
   "metadata": {},
   "outputs": [],
=======
   "execution_count": 76,
   "metadata": {},
   "outputs": [
    {
     "name": "stdout",
     "output_type": "stream",
     "text": [
      "['Decision']\n"
     ]
    },
    {
     "data": {
      "image/png": "iVBORw0KGgoAAAANSUhEUgAAAeQAAAD8CAYAAACmXNe7AAAABHNCSVQICAgIfAhkiAAAAAlwSFlz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\nQRYIBAKBIA/4/5PWaP4PWe7XAAAAAElFTkSuQmCC\n",
      "text/plain": [
       "<matplotlib.figure.Figure at 0x117d6f390>"
      ]
     },
     "metadata": {},
     "output_type": "display_data"
    }
   ],
>>>>>>> 4a1bb0435b4e3cae3b929dc877d5657a48b79203
   "source": [
    "ydim = n_combos/2\n",
    "plt.figure(figsize=(8,ydim*4))\n",
    "for i in range(n_combos):\n",
    "    plt.plot(photometry_mean[:,i])\n",
    "    plt.fill_between(range(0,max_window),y1=photometry_mean[:,i] - photometry_std[:,i] / np.sqrt(nTrials[i]), \n",
    "                                    y2 = photometry_mean[:,i] + photometry_std[:,i] / np.sqrt(nTrials[i]) ,alpha=0.2)\n",
    "    plt.legend(poke_frames_keys)\n",
    "plt.axvline(x=extension, color='k', linestyle = '--', linewidth=.9)\n",
    "print(conditions[0:n_variables])\n"
   ]
  },
  {
   "cell_type": "code",
   "execution_count": null,
<<<<<<< HEAD
   "metadata": {},
=======
   "metadata": {
    "collapsed": true
   },
>>>>>>> 4a1bb0435b4e3cae3b929dc877d5657a48b79203
   "outputs": [],
   "source": [
    "photometry_aligned = np.sum(aligned_decision, axis=2)\n",
    "photometry_mean = np.mean(photometry_aligned, axis=0)\n",
    "photometry_std = np.std(photometry_aligned, axis=0)"
   ]
  },
  {
   "cell_type": "code",
   "execution_count": null,
   "metadata": {
    "collapsed": true
   },
   "outputs": [],
   "source": [
    "ydim = n_combos/2\n",
    "plt.figure(figsize=(8,ydim*4))\n",
    "for i in range(n_combos):\n",
    "    plt.plot(photometry_mean[:,i])\n",
    "    plt.fill_between(range(0,max_window),y1=photometry_mean[:,i] - photometry_std[:,i] / np.sqrt(nTrials[i]), \n",
    "                                    y2 = photometry_mean[:,i] + photometry_std[:,i] / np.sqrt(nTrials[i]) ,alpha=0.2)\n",
    "    plt.legend(poke_frames_keys)\n",
    "plt.axvline(x=max_window-extension, color='k', linestyle = '--', linewidth=.9)\n",
    "print(conditions[0:n_variables])\n"
   ]
  },
  {
   "cell_type": "markdown",
   "metadata": {},
   "source": [
    "### look at baseline-subtraced raw traces"
   ]
  },
  {
   "cell_type": "code",
   "execution_count": null,
   "metadata": {
    "collapsed": true
   },
   "outputs": [],
   "source": [
    "aligned_start_raw = aligned_start_raw-aligned_start_raw.min() # get rid of negative values"
   ]
  },
  {
   "cell_type": "markdown",
   "metadata": {},
   "source": [
    "### dF/F traces (centered at 0 baseline) normalized to each neuron's activity within the aligned window"
   ]
  },
  {
   "cell_type": "code",
   "execution_count": null,
<<<<<<< HEAD
   "metadata": {},
=======
   "metadata": {
    "collapsed": true
   },
>>>>>>> 4a1bb0435b4e3cae3b929dc877d5657a48b79203
   "outputs": [],
   "source": [
    "norm_raw = np.zeros_like(aligned_start)\n",
    "mean_norm_raw = np.zeros((max_window, nNeurons, n_combos))\n",
    "mean_centered = np.zeros((max_window, nNeurons, n_combos))\n",
    "\n",
    "# Normalize each trace within window being depicted based on single neuron’s activity\n",
    "# xi - min(x)/(max(x)-min(x)), where max and min are set by activity within window of interest\n",
    "\n",
    "# take max and min values for each neuron\n",
    "raw_min = [np.min(aligned_start_raw[:,:,x,:]) for x in range(nNeurons)]\n",
    "raw_max = [np.max(aligned_start_raw[:,:,x,:]) for x in range(nNeurons)]\n",
    "\n",
    "for iNeuron in range(nNeurons):\n",
    "    norm_raw[:,:,iNeuron,:] = (aligned_start_raw[:,:,iNeuron,:] - raw_min[iNeuron])/(raw_max[iNeuron] - raw_min[iNeuron])\n",
    "\n",
    "for i in range(n_combos):\n",
    "    mean_norm_raw[:,:,i]= np.mean(norm_raw[0:nTrials[i],:,:,i], axis=0)\n",
    "    for iNeuron in range(nNeurons):\n",
    "        mean_centered[:,iNeuron,i] = mean_norm_raw[:,iNeuron,i] - np.median(mean_norm_raw[:,iNeuron,i])\n",
    "\n",
    "ydim = n_combos/2\n",
    "plt.figure(figsize=(8,ydim*4))\n",
    "for i in range(n_combos):\n",
    "\n",
    "    plt.subplot(ydim,2,i+1)  \n",
    "    plt.imshow(np.transpose(mean_centered[:,:,i])), plt.colorbar()\n",
    "    plt.axvline(x=extension, color='k', linestyle = '--', linewidth=.9)\n",
    "    plt.axis('tight')\n",
    "    plt.xlabel('Frame (center poke at %s)' % extension)\n",
    "    plt.ylabel('Neuron ID')\n",
    "    if n_variables == 3:\n",
    "        plt.title(\"%s = %s\\n %s = %s\\n%s = %s\\nNum trials = %.0f\" \n",
    "                  %(conditions[0], poke_frames_keys[i][1],\n",
    "                    conditions[1], poke_frames_keys[i][2], \n",
    "                    conditions[2], poke_frames_keys[i][3], nTrials[i])) \n",
    "    if n_variables == 2:\n",
    "        plt.title(\"%s = %s\\n %s = %s\\nNum trials = %.0f\" \n",
    "                  %(conditions[0], poke_frames_keys[i][1],\n",
    "                    conditions[1], poke_frames_keys[i][2], nTrials[i]))\n",
    "    if n_variables == 1:\n",
    "        plt.title(\"%s = %s\\nNum trials = %.0f\" \n",
    "                  %(conditions[0], poke_frames_keys[i][1], nTrials[i]))\n",
    "plt.tight_layout()"
   ]
  },
  {
   "cell_type": "code",
   "execution_count": null,
<<<<<<< HEAD
   "metadata": {},
=======
   "metadata": {
    "collapsed": true
   },
>>>>>>> 4a1bb0435b4e3cae3b929dc877d5657a48b79203
   "outputs": [],
   "source": [
    "for iNeuron in range(nNeurons):\n",
    "    plt.plot(mean_centered[:,iNeuron,0])"
   ]
  },
  {
   "cell_type": "code",
   "execution_count": null,
<<<<<<< HEAD
   "metadata": {},
=======
   "metadata": {
    "collapsed": true
   },
>>>>>>> 4a1bb0435b4e3cae3b929dc877d5657a48b79203
   "outputs": [],
   "source": [
    "for iTrial in range(nTrials[0]):\n",
    "    plt.plot(norm_raw[iTrial,:,3,0])"
   ]
  },
  {
<<<<<<< HEAD
   "cell_type": "code",
   "execution_count": null,
   "metadata": {},
   "outputs": [],
   "source": [
    "for iNeuron in range(nNeurons):\n",
    "    plt.plot(median_norm_raw[:,iNeuron,0])"
   ]
  },
  {
=======
>>>>>>> 4a1bb0435b4e3cae3b929dc877d5657a48b79203
   "cell_type": "markdown",
   "metadata": {},
   "source": [
    "### dF/F traces (centered at 0 baseline) normalized to ALL neurons' activity within the aligned window"
   ]
  },
  {
   "cell_type": "code",
   "execution_count": null,
<<<<<<< HEAD
   "metadata": {},
=======
   "metadata": {
    "collapsed": true
   },
>>>>>>> 4a1bb0435b4e3cae3b929dc877d5657a48b79203
   "outputs": [],
   "source": [
    "# Normalize each trace within window being depicted based on all neurons’ activity\n",
    "aligned_start_flat = aligned_start_raw.ravel()\n",
    "raw_max = aligned_start_raw.max()\n",
    "raw_min = aligned_start_raw.min()\n",
    "\n",
    "norm_raw = np.zeros_like(aligned_start)\n",
    "for iNeuron in range(nNeurons):\n",
    "    norm_raw[:,:,iNeuron,:] = (aligned_start_raw[:,:,iNeuron,:] - raw_min)/(raw_max - raw_min)\n",
    "\n",
    "for i in range(n_combos):\n",
    "    mean_norm_raw[:,:,i]= np.mean(norm_raw[0:nTrials[i],:,:,i], axis=0)\n",
    "    for iNeuron in range(nNeurons):\n",
    "        mean_centered[:,iNeuron,i] = mean_norm_raw[:,iNeuron,i] - np.median(mean_norm_raw[:,iNeuron,i])\n",
    "\n",
    "ydim = n_combos/2\n",
    "plt.figure(figsize=(8,ydim*4))\n",
    "for i in range(n_combos):\n",
    "\n",
    "    plt.subplot(ydim,2,i+1)  \n",
    "    plt.imshow(np.transpose(mean_centered[:,:,i])), plt.colorbar()\n",
    "    plt.axvline(x=extension, color='k', linestyle = '--', linewidth=.9)\n",
    "    plt.axis('tight')\n",
    "    plt.xlabel('Frame (center poke at %s)' % extension)\n",
    "    plt.ylabel('Neuron ID')\n",
    "    if n_variables == 3:\n",
    "        plt.title(\"%s = %s\\n %s = %s\\n%s = %s\\nNum trials = %.0f\" \n",
    "                  %(conditions[0], poke_frames_keys[i][1],\n",
    "                    conditions[1], poke_frames_keys[i][2], \n",
    "                    conditions[2], poke_frames_keys[i][3], nTrials[i])) \n",
    "    if n_variables == 2:\n",
    "        plt.title(\"%s = %s\\n %s = %s\\nNum trials = %.0f\" \n",
    "                  %(conditions[0], poke_frames_keys[i][1],\n",
    "                    conditions[1], poke_frames_keys[i][2], nTrials[i]))\n",
    "    if n_variables == 1:\n",
    "        plt.title(\"%s = %s\\nNum trials = %.0f\" \n",
    "                  %(conditions[0], poke_frames_keys[i][1], nTrials[i]))\n",
    "plt.tight_layout()"
   ]
  },
  {
   "cell_type": "code",
   "execution_count": null,
<<<<<<< HEAD
   "metadata": {},
=======
   "metadata": {
    "collapsed": true
   },
>>>>>>> 4a1bb0435b4e3cae3b929dc877d5657a48b79203
   "outputs": [],
   "source": [
    "for i in range(nNeurons):\n",
    "    plt.plot(mean_centered[:,i,1])"
   ]
  },
  {
   "cell_type": "code",
   "execution_count": null,
<<<<<<< HEAD
   "metadata": {},
=======
   "metadata": {
    "collapsed": true
   },
>>>>>>> 4a1bb0435b4e3cae3b929dc877d5657a48b79203
   "outputs": [],
   "source": [
    "# Normalize each trace across entire imaging session based on single neuron’s activity\n",
    "\n",
    "# take max and min values for each neuron\n",
    "raw_min = neuron.C_raw.min(axis=1)\n",
    "raw_max = neuron.C_raw.max(axis=1)\n",
    "\n",
    "norm_raw = np.zeros_like(aligned_start)\n",
    "for iNeuron in range(nNeurons):\n",
    "    norm_raw[:,:,iNeuron,:] = (aligned_start_raw[:,:,iNeuron,:] - raw_min[iNeuron])/(raw_max[iNeuron] - raw_min[iNeuron])\n",
    "\n",
    "for i in range(n_combos):\n",
    "    mean_norm_raw[:,:,i]= np.mean(norm_raw[0:nTrials[i],:,:,i], axis=0)    \n",
    "    for iNeuron in range(nNeurons):\n",
    "        mean_centered[:,iNeuron,i] = mean_norm_raw[:,iNeuron,i] - np.median(mean_norm_raw[:,iNeuron,i])\n",
    "\n",
    "ydim = n_combos/2\n",
    "plt.figure(figsize=(8,ydim*4))\n",
    "for i in range(n_combos):\n",
    "\n",
    "    plt.subplot(ydim,2,i+1)  \n",
    "    plt.imshow(np.transpose(mean_centered[:,:,i])), plt.colorbar()\n",
    "    plt.axvline(x=extension, color='k', linestyle = '--', linewidth=.9)\n",
    "    plt.axis('tight')\n",
    "    plt.xlabel('Frame (center poke at %s)' % extension)\n",
    "    plt.ylabel('Neuron ID')\n",
    "    if n_variables == 3:\n",
    "        plt.title(\"%s = %s\\n %s = %s\\n%s = %s\\nNum trials = %.0f\" \n",
    "                  %(conditions[0], poke_frames_keys[i][1],\n",
    "                    conditions[1], poke_frames_keys[i][2], \n",
    "                    conditions[2], poke_frames_keys[i][3], nTrials[i])) \n",
    "    if n_variables == 2:\n",
    "        plt.title(\"%s = %s\\n %s = %s\\nNum trials = %.0f\" \n",
    "                  %(conditions[0], poke_frames_keys[i][1],\n",
    "                    conditions[1], poke_frames_keys[i][2], nTrials[i]))\n",
    "    if n_variables == 1:\n",
    "        plt.title(\"%s = %s\\nNum trials = %.0f\" \n",
    "                  %(conditions[0], poke_frames_keys[i][1], nTrials[i]))\n",
    "plt.tight_layout()"
   ]
  },
  {
   "cell_type": "code",
   "execution_count": null,
<<<<<<< HEAD
   "metadata": {},
=======
   "metadata": {
    "collapsed": true
   },
>>>>>>> 4a1bb0435b4e3cae3b929dc877d5657a48b79203
   "outputs": [],
   "source": [
    "# Normalize each trace across entire imaging session based on all neuron’s activity\n",
    "\n",
    "# take max and min values for each neuron\n",
    "raw_min = neuron.C_raw.min()\n",
    "raw_max = neuron.C_raw.max()\n",
    "\n",
    "norm_raw = np.zeros_like(aligned_start)\n",
    "for iNeuron in range(nNeurons):\n",
    "    norm_raw[:,:,iNeuron,:] = (aligned_start_raw[:,:,iNeuron,:] - raw_min)/(raw_max - raw_min)\n",
    "\n",
    "for i in range(n_combos):\n",
    "    mean_norm_raw[:,:,i]= np.mean(norm_raw[0:nTrials[i],:,:,i], axis=0)    \n",
    "    #for iNeuron in range(nNeurons):\n",
    "    #    mean_centered[:,iNeuron,i] = mean_norm_raw[:,iNeuron,i] - np.median(mean_norm_raw[:,iNeuron,i])\n",
    "\n",
    "ydim = n_combos/2\n",
    "plt.figure(figsize=(8,ydim*4))\n",
    "for i in range(n_combos):\n",
    "\n",
    "    plt.subplot(ydim,2,i+1)  \n",
    "    plt.imshow(np.transpose(mean_centered[:,:,i])), plt.colorbar()\n",
    "    plt.axvline(x=extension, color='k', linestyle = '--', linewidth=.9)\n",
    "    plt.axis('tight')\n",
    "    plt.xlabel('Frame (center poke at %s)' % extension)\n",
    "    plt.ylabel('Neuron ID')\n",
    "    if n_variables == 3:\n",
    "        plt.title(\"%s = %s\\n %s = %s\\n%s = %s\\nNum trials = %.0f\" \n",
    "                  %(conditions[0], poke_frames_keys[i][1],\n",
    "                    conditions[1], poke_frames_keys[i][2], \n",
    "                    conditions[2], poke_frames_keys[i][3], nTrials[i])) \n",
    "    if n_variables == 2:\n",
    "        plt.title(\"%s = %s\\n %s = %s\\nNum trials = %.0f\" \n",
    "                  %(conditions[0], poke_frames_keys[i][1],\n",
    "                    conditions[1], poke_frames_keys[i][2], nTrials[i]))\n",
    "    if n_variables == 1:\n",
    "        plt.title(\"%s = %s\\nNum trials = %.0f\" \n",
    "                  %(conditions[0], poke_frames_keys[i][1], nTrials[i]))\n",
    "plt.tight_layout()"
   ]
  }
 ],
 "metadata": {
  "anaconda-cloud": {},
  "kernelspec": {
   "display_name": "Python 3",
   "language": "python",
   "name": "python3"
  },
  "language_info": {
   "codemirror_mode": {
    "name": "ipython",
    "version": 3
   },
   "file_extension": ".py",
   "mimetype": "text/x-python",
   "name": "python",
   "nbconvert_exporter": "python",
   "pygments_lexer": "ipython3",
   "version": "3.6.1"
  }
 },
 "nbformat": 4,
 "nbformat_minor": 1
}
