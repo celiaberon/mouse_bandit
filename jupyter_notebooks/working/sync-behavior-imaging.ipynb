{
 "cells": [
  {
   "cell_type": "code",
   "execution_count": 1,
   "metadata": {},
   "outputs": [],
   "source": [
    "import sys\n",
    "sys.path.append('/Users/celia/GitHub/mouse_bandit/data_preprocessing_code')\n",
    "sys.path.append('/Users/celia/GitHub/mouse_bandit')\n",
    "import support_functions as sf\n",
    "import numpy as np\n",
    "import pandas as pd\n",
    "import scipy as sp\n",
    "import scipy.io as scio\n",
    "import bandit_preprocessing as bp\n",
    "import hmm_on_behavior as hob\n",
    "import calcium_codes as cc\n",
    "sys.path.append('/Users/celia/GitHub/mouse_bandit/jupyter_notebooks/helper_functions')\n",
    "sys.path.append('/Users/celia/GitHub/mouse_bandit')\n",
    "import hf_behavior_imaging as hf\n",
    "import os\n",
    "import matplotlib.pyplot as plt\n",
    "import itertools\n",
    "%matplotlib inline"
   ]
  },
  {
   "cell_type": "code",
   "execution_count": 552,
   "metadata": {},
   "outputs": [
    {
     "ename": "FileNotFoundError",
     "evalue": "File b'/Users/celia/GitHub/mouse_bandit/data/trial_data/09062017_Sky_trials.csv' does not exist",
     "output_type": "error",
     "traceback": [
      "\u001b[0;31m---------------------------------------------------------------------------\u001b[0m",
      "\u001b[0;31mFileNotFoundError\u001b[0m                         Traceback (most recent call last)",
      "\u001b[0;32m<ipython-input-552-ec63801132d3>\u001b[0m in \u001b[0;36m<module>\u001b[0;34m()\u001b[0m\n\u001b[1;32m     31\u001b[0m \u001b[0mpath_name\u001b[0m \u001b[0;34m=\u001b[0m \u001b[0mos\u001b[0m\u001b[0;34m.\u001b[0m\u001b[0mpath\u001b[0m\u001b[0;34m.\u001b[0m\u001b[0mjoin\u001b[0m\u001b[0;34m(\u001b[0m\u001b[0mroot_dir\u001b[0m\u001b[0;34m,\u001b[0m\u001b[0mfull_name\u001b[0m\u001b[0;34m)\u001b[0m\u001b[0;34m\u001b[0m\u001b[0m\n\u001b[1;32m     32\u001b[0m \u001b[0;34m\u001b[0m\u001b[0m\n\u001b[0;32m---> 33\u001b[0;31m \u001b[0mtrial_df\u001b[0m \u001b[0;34m=\u001b[0m \u001b[0mpd\u001b[0m\u001b[0;34m.\u001b[0m\u001b[0mread_csv\u001b[0m\u001b[0;34m(\u001b[0m\u001b[0mpath_name\u001b[0m\u001b[0;34m,\u001b[0m\u001b[0mnames\u001b[0m\u001b[0;34m=\u001b[0m\u001b[0mcolumns\u001b[0m\u001b[0;34m)\u001b[0m\u001b[0;34m\u001b[0m\u001b[0m\n\u001b[0m",
      "\u001b[0;32m/Users/celia/anaconda/lib/python3.6/site-packages/pandas/io/parsers.py\u001b[0m in \u001b[0;36mparser_f\u001b[0;34m(filepath_or_buffer, sep, delimiter, header, names, index_col, usecols, squeeze, prefix, mangle_dupe_cols, dtype, engine, converters, true_values, false_values, skipinitialspace, skiprows, nrows, na_values, keep_default_na, na_filter, verbose, skip_blank_lines, parse_dates, infer_datetime_format, keep_date_col, date_parser, dayfirst, iterator, chunksize, compression, thousands, decimal, lineterminator, quotechar, quoting, escapechar, comment, encoding, dialect, tupleize_cols, error_bad_lines, warn_bad_lines, skipfooter, skip_footer, doublequote, delim_whitespace, as_recarray, compact_ints, use_unsigned, low_memory, buffer_lines, memory_map, float_precision)\u001b[0m\n\u001b[1;32m    653\u001b[0m                     skip_blank_lines=skip_blank_lines)\n\u001b[1;32m    654\u001b[0m \u001b[0;34m\u001b[0m\u001b[0m\n\u001b[0;32m--> 655\u001b[0;31m         \u001b[0;32mreturn\u001b[0m \u001b[0m_read\u001b[0m\u001b[0;34m(\u001b[0m\u001b[0mfilepath_or_buffer\u001b[0m\u001b[0;34m,\u001b[0m \u001b[0mkwds\u001b[0m\u001b[0;34m)\u001b[0m\u001b[0;34m\u001b[0m\u001b[0m\n\u001b[0m\u001b[1;32m    656\u001b[0m \u001b[0;34m\u001b[0m\u001b[0m\n\u001b[1;32m    657\u001b[0m     \u001b[0mparser_f\u001b[0m\u001b[0;34m.\u001b[0m\u001b[0m__name__\u001b[0m \u001b[0;34m=\u001b[0m \u001b[0mname\u001b[0m\u001b[0;34m\u001b[0m\u001b[0m\n",
      "\u001b[0;32m/Users/celia/anaconda/lib/python3.6/site-packages/pandas/io/parsers.py\u001b[0m in \u001b[0;36m_read\u001b[0;34m(filepath_or_buffer, kwds)\u001b[0m\n\u001b[1;32m    403\u001b[0m \u001b[0;34m\u001b[0m\u001b[0m\n\u001b[1;32m    404\u001b[0m     \u001b[0;31m# Create the parser.\u001b[0m\u001b[0;34m\u001b[0m\u001b[0;34m\u001b[0m\u001b[0m\n\u001b[0;32m--> 405\u001b[0;31m     \u001b[0mparser\u001b[0m \u001b[0;34m=\u001b[0m \u001b[0mTextFileReader\u001b[0m\u001b[0;34m(\u001b[0m\u001b[0mfilepath_or_buffer\u001b[0m\u001b[0;34m,\u001b[0m \u001b[0;34m**\u001b[0m\u001b[0mkwds\u001b[0m\u001b[0;34m)\u001b[0m\u001b[0;34m\u001b[0m\u001b[0m\n\u001b[0m\u001b[1;32m    406\u001b[0m \u001b[0;34m\u001b[0m\u001b[0m\n\u001b[1;32m    407\u001b[0m     \u001b[0;32mif\u001b[0m \u001b[0mchunksize\u001b[0m \u001b[0;32mor\u001b[0m \u001b[0miterator\u001b[0m\u001b[0;34m:\u001b[0m\u001b[0;34m\u001b[0m\u001b[0m\n",
      "\u001b[0;32m/Users/celia/anaconda/lib/python3.6/site-packages/pandas/io/parsers.py\u001b[0m in \u001b[0;36m__init__\u001b[0;34m(self, f, engine, **kwds)\u001b[0m\n\u001b[1;32m    762\u001b[0m             \u001b[0mself\u001b[0m\u001b[0;34m.\u001b[0m\u001b[0moptions\u001b[0m\u001b[0;34m[\u001b[0m\u001b[0;34m'has_index_names'\u001b[0m\u001b[0;34m]\u001b[0m \u001b[0;34m=\u001b[0m \u001b[0mkwds\u001b[0m\u001b[0;34m[\u001b[0m\u001b[0;34m'has_index_names'\u001b[0m\u001b[0;34m]\u001b[0m\u001b[0;34m\u001b[0m\u001b[0m\n\u001b[1;32m    763\u001b[0m \u001b[0;34m\u001b[0m\u001b[0m\n\u001b[0;32m--> 764\u001b[0;31m         \u001b[0mself\u001b[0m\u001b[0;34m.\u001b[0m\u001b[0m_make_engine\u001b[0m\u001b[0;34m(\u001b[0m\u001b[0mself\u001b[0m\u001b[0;34m.\u001b[0m\u001b[0mengine\u001b[0m\u001b[0;34m)\u001b[0m\u001b[0;34m\u001b[0m\u001b[0m\n\u001b[0m\u001b[1;32m    765\u001b[0m \u001b[0;34m\u001b[0m\u001b[0m\n\u001b[1;32m    766\u001b[0m     \u001b[0;32mdef\u001b[0m \u001b[0mclose\u001b[0m\u001b[0;34m(\u001b[0m\u001b[0mself\u001b[0m\u001b[0;34m)\u001b[0m\u001b[0;34m:\u001b[0m\u001b[0;34m\u001b[0m\u001b[0m\n",
      "\u001b[0;32m/Users/celia/anaconda/lib/python3.6/site-packages/pandas/io/parsers.py\u001b[0m in \u001b[0;36m_make_engine\u001b[0;34m(self, engine)\u001b[0m\n\u001b[1;32m    983\u001b[0m     \u001b[0;32mdef\u001b[0m \u001b[0m_make_engine\u001b[0m\u001b[0;34m(\u001b[0m\u001b[0mself\u001b[0m\u001b[0;34m,\u001b[0m \u001b[0mengine\u001b[0m\u001b[0;34m=\u001b[0m\u001b[0;34m'c'\u001b[0m\u001b[0;34m)\u001b[0m\u001b[0;34m:\u001b[0m\u001b[0;34m\u001b[0m\u001b[0m\n\u001b[1;32m    984\u001b[0m         \u001b[0;32mif\u001b[0m \u001b[0mengine\u001b[0m \u001b[0;34m==\u001b[0m \u001b[0;34m'c'\u001b[0m\u001b[0;34m:\u001b[0m\u001b[0;34m\u001b[0m\u001b[0m\n\u001b[0;32m--> 985\u001b[0;31m             \u001b[0mself\u001b[0m\u001b[0;34m.\u001b[0m\u001b[0m_engine\u001b[0m \u001b[0;34m=\u001b[0m \u001b[0mCParserWrapper\u001b[0m\u001b[0;34m(\u001b[0m\u001b[0mself\u001b[0m\u001b[0;34m.\u001b[0m\u001b[0mf\u001b[0m\u001b[0;34m,\u001b[0m \u001b[0;34m**\u001b[0m\u001b[0mself\u001b[0m\u001b[0;34m.\u001b[0m\u001b[0moptions\u001b[0m\u001b[0;34m)\u001b[0m\u001b[0;34m\u001b[0m\u001b[0m\n\u001b[0m\u001b[1;32m    986\u001b[0m         \u001b[0;32melse\u001b[0m\u001b[0;34m:\u001b[0m\u001b[0;34m\u001b[0m\u001b[0m\n\u001b[1;32m    987\u001b[0m             \u001b[0;32mif\u001b[0m \u001b[0mengine\u001b[0m \u001b[0;34m==\u001b[0m \u001b[0;34m'python'\u001b[0m\u001b[0;34m:\u001b[0m\u001b[0;34m\u001b[0m\u001b[0m\n",
      "\u001b[0;32m/Users/celia/anaconda/lib/python3.6/site-packages/pandas/io/parsers.py\u001b[0m in \u001b[0;36m__init__\u001b[0;34m(self, src, **kwds)\u001b[0m\n\u001b[1;32m   1603\u001b[0m         \u001b[0mkwds\u001b[0m\u001b[0;34m[\u001b[0m\u001b[0;34m'allow_leading_cols'\u001b[0m\u001b[0;34m]\u001b[0m \u001b[0;34m=\u001b[0m \u001b[0mself\u001b[0m\u001b[0;34m.\u001b[0m\u001b[0mindex_col\u001b[0m \u001b[0;32mis\u001b[0m \u001b[0;32mnot\u001b[0m \u001b[0;32mFalse\u001b[0m\u001b[0;34m\u001b[0m\u001b[0m\n\u001b[1;32m   1604\u001b[0m \u001b[0;34m\u001b[0m\u001b[0m\n\u001b[0;32m-> 1605\u001b[0;31m         \u001b[0mself\u001b[0m\u001b[0;34m.\u001b[0m\u001b[0m_reader\u001b[0m \u001b[0;34m=\u001b[0m \u001b[0mparsers\u001b[0m\u001b[0;34m.\u001b[0m\u001b[0mTextReader\u001b[0m\u001b[0;34m(\u001b[0m\u001b[0msrc\u001b[0m\u001b[0;34m,\u001b[0m \u001b[0;34m**\u001b[0m\u001b[0mkwds\u001b[0m\u001b[0;34m)\u001b[0m\u001b[0;34m\u001b[0m\u001b[0m\n\u001b[0m\u001b[1;32m   1606\u001b[0m \u001b[0;34m\u001b[0m\u001b[0m\n\u001b[1;32m   1607\u001b[0m         \u001b[0;31m# XXX\u001b[0m\u001b[0;34m\u001b[0m\u001b[0;34m\u001b[0m\u001b[0m\n",
      "\u001b[0;32mpandas/_libs/parsers.pyx\u001b[0m in \u001b[0;36mpandas._libs.parsers.TextReader.__cinit__ (pandas/_libs/parsers.c:4209)\u001b[0;34m()\u001b[0m\n",
      "\u001b[0;32mpandas/_libs/parsers.pyx\u001b[0m in \u001b[0;36mpandas._libs.parsers.TextReader._setup_parser_source (pandas/_libs/parsers.c:8873)\u001b[0;34m()\u001b[0m\n",
      "\u001b[0;31mFileNotFoundError\u001b[0m: File b'/Users/celia/GitHub/mouse_bandit/data/trial_data/09062017_Sky_trials.csv' does not exist"
     ]
    }
   ],
   "source": [
    "'''Initialize paths and import data'''\n",
    "\n",
    "record_path = '/Users/celia/GitHub/mouse_bandit/celia_session_record.csv' # session record of behavioral data\n",
    "#ca_data_path = '/Volumes/Neurobio/MICROSCOPE/Celia/data/imaging/Shay/Extracted/k1_111616_bandit_9010/k1_111616_bandit_9010_neuron_results_rectified'\n",
    "ca_data_path = '/Volumes/Neurobio/MICROSCOPE/Celia/data/imaging/Shay/Extracted/q43_111716_bandit_8020/q43_111716_bandit_8020_neuron_results.mat'\n",
    "\n",
    "\n",
    "record = pd.read_csv(record_path,index_col=0) # session record is panda df\n",
    "ca_data = scio.loadmat(ca_data_path,squeeze_me = True, struct_as_record = False)\n",
    "neuron = ca_data['neuron_results'] # set neuron variable to just contain neuron_results structure\n",
    "\n",
    "\n",
    "'''Specify mouse and session of interest'''\n",
    "\n",
    "session_name  = '09062017_Sky'\n",
    "mouse_id = 'Sky'\n",
    "\n",
    "record[record['Session ID'] == session_name] # take only rows from record that match session name\n",
    "\n",
    "\n",
    "'''Load in trial data from specific session'''\n",
    "\n",
    "columns = ['Elapsed Time (s)','Since last trial (s)','Trial Duration (s)','Port Poked',\n",
    "           'Right Reward Prob','Left Reward Prob','Reward Given',\n",
    "          'center_frame','decision_frame']\n",
    "\n",
    "root_dir = '/Users/celia/GitHub/mouse_bandit/data/trial_data'\n",
    "\n",
    "full_name = session_name + '_trials.csv'\n",
    "\n",
    "path_name = os.path.join(root_dir,full_name)\n",
    "\n",
    "trial_df = pd.read_csv(path_name,names=columns)"
   ]
  },
  {
   "cell_type": "code",
   "execution_count": 549,
   "metadata": {},
   "outputs": [
    {
     "data": {
      "text/plain": [
       "(636, 9)"
      ]
     },
     "execution_count": 549,
     "metadata": {},
     "output_type": "execute_result"
    }
   ],
   "source": [
    "trial_df.shape"
   ]
  },
  {
   "cell_type": "code",
   "execution_count": 453,
   "metadata": {
    "collapsed": true
   },
   "outputs": [],
   "source": [
    "np.set_printoptions(threshold=np.inf)"
   ]
  },
  {
   "cell_type": "code",
   "execution_count": 550,
   "metadata": {},
   "outputs": [
    {
     "data": {
      "text/html": [
       "<div>\n",
       "<style>\n",
       "    .dataframe thead tr:only-child th {\n",
       "        text-align: right;\n",
       "    }\n",
       "\n",
       "    .dataframe thead th {\n",
       "        text-align: left;\n",
       "    }\n",
       "\n",
       "    .dataframe tbody tr th {\n",
       "        vertical-align: top;\n",
       "    }\n",
       "</style>\n",
       "<table border=\"1\" class=\"dataframe\">\n",
       "  <thead>\n",
       "    <tr style=\"text-align: right;\">\n",
       "      <th></th>\n",
       "      <th>Owner</th>\n",
       "      <th>Session ID</th>\n",
       "      <th>Mouse ID</th>\n",
       "      <th>Date</th>\n",
       "      <th>Phase</th>\n",
       "      <th>Markov</th>\n",
       "      <th>Left Reward Prob</th>\n",
       "      <th>Right Reward Prob</th>\n",
       "      <th>Block Range Min</th>\n",
       "      <th>Block Range Max</th>\n",
       "      <th>No. Trials</th>\n",
       "      <th>No. Blocks</th>\n",
       "      <th>No. Rewards</th>\n",
       "      <th>p(high Port)</th>\n",
       "      <th>Decision Window Duration</th>\n",
       "      <th>Min Inter-trial-interval</th>\n",
       "      <th>Left Solenoid Duration</th>\n",
       "      <th>Right Solenoid Duration</th>\n",
       "    </tr>\n",
       "  </thead>\n",
       "  <tbody>\n",
       "    <tr>\n",
       "      <th>930</th>\n",
       "      <td>celia</td>\n",
       "      <td>09042017_Raspberry</td>\n",
       "      <td>Raspberry</td>\n",
       "      <td>2017-09-04 00:00:00</td>\n",
       "      <td>2.0</td>\n",
       "      <td>1</td>\n",
       "      <td>0.1</td>\n",
       "      <td>0.9</td>\n",
       "      <td>NaN</td>\n",
       "      <td>NaN</td>\n",
       "      <td>636.0</td>\n",
       "      <td>13.0</td>\n",
       "      <td>479.0</td>\n",
       "      <td>0.82</td>\n",
       "      <td>2.0</td>\n",
       "      <td>1.0</td>\n",
       "      <td>40.0</td>\n",
       "      <td>40.0</td>\n",
       "    </tr>\n",
       "  </tbody>\n",
       "</table>\n",
       "</div>"
      ],
      "text/plain": [
       "     Owner          Session ID   Mouse ID                 Date  Phase  Markov  \\\n",
       "930  celia  09042017_Raspberry  Raspberry  2017-09-04 00:00:00    2.0       1   \n",
       "\n",
       "     Left Reward Prob  Right Reward Prob  Block Range Min  Block Range Max  \\\n",
       "930               0.1                0.9              NaN              NaN   \n",
       "\n",
       "     No. Trials  No. Blocks  No. Rewards  p(high Port)  \\\n",
       "930       636.0        13.0        479.0          0.82   \n",
       "\n",
       "     Decision Window Duration  Min Inter-trial-interval  \\\n",
       "930                       2.0                       1.0   \n",
       "\n",
       "     Left Solenoid Duration  Right Solenoid Duration  \n",
       "930                    40.0                     40.0  "
      ]
     },
     "execution_count": 550,
     "metadata": {},
     "output_type": "execute_result"
    }
   ],
   "source": [
    "record[record['Session ID']==session_name]"
   ]
  },
  {
   "cell_type": "code",
   "execution_count": 551,
   "metadata": {},
   "outputs": [
    {
     "data": {
      "text/plain": [
       "[13, 84, 62, 95, 15, 39, 49, 80, 19, 58, 24, 29, 61, 8]"
      ]
     },
     "execution_count": 551,
     "metadata": {},
     "output_type": "execute_result"
    }
   ],
   "source": [
    "reward_prob = 0.1\n",
    "np.sum(trial_df['Right Reward Prob']==reward_prob)/trial_df.shape[0] # check balance of blocks on each side\n",
    "\n",
    "blocks = list(np.diff(np.concatenate((range(1),np.where(np.diff(trial_df['Right Reward Prob']) != 0)[0]))))\n",
    "blocks.append(int(record[record['Session ID']==session_name]['No. Trials'].values)\n",
    "             -np.where(np.diff(trial_df['Right Reward Prob']) != 0)[0][-1]) # length of the last block at end\n",
    "blocks"
   ]
  },
  {
   "cell_type": "raw",
   "metadata": {},
   "source": [
    "### Add column for estimated by HMM using entire session as memory"
   ]
  },
  {
   "cell_type": "code",
   "execution_count": 541,
   "metadata": {},
   "outputs": [],
   "source": [
    "beliefs = hob.predictBeliefBySession(record_path, session_name, mouse_id) # generate estimate of belief for each trial\n",
    "\n",
    "columns.append('Belief') # add column named belief to data frame\n",
    "trial_df['Belief'] = beliefs # insert estimated values of belief into this new column\n",
    "columns.append('Block ID')\n",
    "\n",
    "block_id = np.asarray([x+1 for x in range(int(record[record['Session ID']==session_name]['No. Blocks'].values[0])+1)\n",
    "            for y in range(blocks[x])])\n",
    "trial_df['Block ID'] = block_id"
   ]
  },
  {
   "cell_type": "code",
   "execution_count": 560,
   "metadata": {},
   "outputs": [
    {
     "data": {
      "text/html": [
       "<div>\n",
       "<style>\n",
       "    .dataframe thead tr:only-child th {\n",
       "        text-align: right;\n",
       "    }\n",
       "\n",
       "    .dataframe thead th {\n",
       "        text-align: left;\n",
       "    }\n",
       "\n",
       "    .dataframe tbody tr th {\n",
       "        vertical-align: top;\n",
       "    }\n",
       "</style>\n",
       "<table border=\"1\" class=\"dataframe\">\n",
       "  <thead>\n",
       "    <tr style=\"text-align: right;\">\n",
       "      <th></th>\n",
       "      <th>Elapsed Time (s)</th>\n",
       "      <th>Since last trial (s)</th>\n",
       "      <th>Trial Duration (s)</th>\n",
       "      <th>Port Poked</th>\n",
       "      <th>Right Reward Prob</th>\n",
       "      <th>Left Reward Prob</th>\n",
       "      <th>Reward Given</th>\n",
       "      <th>center_frame</th>\n",
       "      <th>decision_frame</th>\n",
       "    </tr>\n",
       "  </thead>\n",
       "  <tbody>\n",
       "    <tr>\n",
       "      <th>0</th>\n",
       "      <td>11.698</td>\n",
       "      <td>1.968</td>\n",
       "      <td>0.438</td>\n",
       "      <td>1</td>\n",
       "      <td>0.1</td>\n",
       "      <td>0.9</td>\n",
       "      <td>0</td>\n",
       "      <td>NaN</td>\n",
       "      <td>NaN</td>\n",
       "    </tr>\n",
       "    <tr>\n",
       "      <th>1</th>\n",
       "      <td>17.565</td>\n",
       "      <td>5.340</td>\n",
       "      <td>0.527</td>\n",
       "      <td>1</td>\n",
       "      <td>0.1</td>\n",
       "      <td>0.9</td>\n",
       "      <td>0</td>\n",
       "      <td>NaN</td>\n",
       "      <td>NaN</td>\n",
       "    </tr>\n",
       "    <tr>\n",
       "      <th>2</th>\n",
       "      <td>28.229</td>\n",
       "      <td>8.793</td>\n",
       "      <td>0.612</td>\n",
       "      <td>1</td>\n",
       "      <td>0.1</td>\n",
       "      <td>0.9</td>\n",
       "      <td>1</td>\n",
       "      <td>NaN</td>\n",
       "      <td>NaN</td>\n",
       "    </tr>\n",
       "    <tr>\n",
       "      <th>3</th>\n",
       "      <td>47.607</td>\n",
       "      <td>19.000</td>\n",
       "      <td>0.378</td>\n",
       "      <td>2</td>\n",
       "      <td>0.1</td>\n",
       "      <td>0.9</td>\n",
       "      <td>1</td>\n",
       "      <td>NaN</td>\n",
       "      <td>NaN</td>\n",
       "    </tr>\n",
       "    <tr>\n",
       "      <th>4</th>\n",
       "      <td>53.616</td>\n",
       "      <td>2.824</td>\n",
       "      <td>0.576</td>\n",
       "      <td>2</td>\n",
       "      <td>0.1</td>\n",
       "      <td>0.9</td>\n",
       "      <td>1</td>\n",
       "      <td>NaN</td>\n",
       "      <td>NaN</td>\n",
       "    </tr>\n",
       "  </tbody>\n",
       "</table>\n",
       "</div>"
      ],
      "text/plain": [
       "   Elapsed Time (s)  Since last trial (s)  Trial Duration (s)  Port Poked  \\\n",
       "0            11.698                 1.968               0.438           1   \n",
       "1            17.565                 5.340               0.527           1   \n",
       "2            28.229                 8.793               0.612           1   \n",
       "3            47.607                19.000               0.378           2   \n",
       "4            53.616                 2.824               0.576           2   \n",
       "\n",
       "   Right Reward Prob  Left Reward Prob  Reward Given  center_frame  \\\n",
       "0                0.1               0.9             0           NaN   \n",
       "1                0.1               0.9             0           NaN   \n",
       "2                0.1               0.9             1           NaN   \n",
       "3                0.1               0.9             1           NaN   \n",
       "4                0.1               0.9             1           NaN   \n",
       "\n",
       "   decision_frame  \n",
       "0             NaN  \n",
       "1             NaN  \n",
       "2             NaN  \n",
       "3             NaN  \n",
       "4             NaN  "
      ]
     },
     "execution_count": 560,
     "metadata": {},
     "output_type": "execute_result"
    }
   ],
   "source": [
    "trial_df.head(5)"
   ]
  },
  {
   "cell_type": "markdown",
   "metadata": {},
   "source": [
    "# convert to feature matrix\n",
    "### Add column for beliefs using past (n) trials as memory (n <= 10)"
   ]
  },
  {
   "cell_type": "code",
   "execution_count": 345,
   "metadata": {
    "collapsed": true
   },
   "outputs": [],
   "source": [
    "feature_matrix = bp.create_feature_matrix(trial_df,10,mouse_id,session_name,feature_names='Default',imaging=True)\n",
    "\n",
    "beliefs_feat_mat = hob.predictBeliefFeatureMat(feature_matrix, 10) # generate estimates of belief based on feature matrix format\n",
    "\n",
    "feature_matrix['Belief'] = beliefs_feat_mat # insert estimated values into new column of original feature matrix"
   ]
  },
  {
   "cell_type": "code",
   "execution_count": 174,
   "metadata": {},
   "outputs": [
    {
     "data": {
      "text/html": [
       "<div>\n",
       "<style>\n",
       "    .dataframe thead tr:only-child th {\n",
       "        text-align: right;\n",
       "    }\n",
       "\n",
       "    .dataframe thead th {\n",
       "        text-align: left;\n",
       "    }\n",
       "\n",
       "    .dataframe tbody tr th {\n",
       "        vertical-align: top;\n",
       "    }\n",
       "</style>\n",
       "<table border=\"1\" class=\"dataframe\">\n",
       "  <thead>\n",
       "    <tr style=\"text-align: right;\">\n",
       "      <th></th>\n",
       "      <th>Port Streak</th>\n",
       "      <th>Decision</th>\n",
       "      <th>Switch</th>\n",
       "      <th>Reward</th>\n",
       "      <th>Belief</th>\n",
       "    </tr>\n",
       "  </thead>\n",
       "  <tbody>\n",
       "    <tr>\n",
       "      <th>0</th>\n",
       "      <td>1.0</td>\n",
       "      <td>0.0</td>\n",
       "      <td>0.0</td>\n",
       "      <td>0.0</td>\n",
       "      <td>0.979286</td>\n",
       "    </tr>\n",
       "    <tr>\n",
       "      <th>1</th>\n",
       "      <td>2.0</td>\n",
       "      <td>1.0</td>\n",
       "      <td>1.0</td>\n",
       "      <td>0.0</td>\n",
       "      <td>0.828662</td>\n",
       "    </tr>\n",
       "    <tr>\n",
       "      <th>2</th>\n",
       "      <td>1.0</td>\n",
       "      <td>1.0</td>\n",
       "      <td>0.0</td>\n",
       "      <td>0.0</td>\n",
       "      <td>0.961635</td>\n",
       "    </tr>\n",
       "    <tr>\n",
       "      <th>3</th>\n",
       "      <td>2.0</td>\n",
       "      <td>1.0</td>\n",
       "      <td>0.0</td>\n",
       "      <td>0.0</td>\n",
       "      <td>0.979066</td>\n",
       "    </tr>\n",
       "    <tr>\n",
       "      <th>4</th>\n",
       "      <td>3.0</td>\n",
       "      <td>1.0</td>\n",
       "      <td>0.0</td>\n",
       "      <td>0.0</td>\n",
       "      <td>0.981041</td>\n",
       "    </tr>\n",
       "  </tbody>\n",
       "</table>\n",
       "</div>"
      ],
      "text/plain": [
       "   Port Streak  Decision  Switch  Reward    Belief\n",
       "0          1.0       0.0     0.0     0.0  0.979286\n",
       "1          2.0       1.0     1.0     0.0  0.828662\n",
       "2          1.0       1.0     0.0     0.0  0.961635\n",
       "3          2.0       1.0     0.0     0.0  0.979066\n",
       "4          3.0       1.0     0.0     0.0  0.981041"
      ]
     },
     "execution_count": 174,
     "metadata": {},
     "output_type": "execute_result"
    }
   ],
   "source": [
    "feature_matrix[['Port Streak','Decision','Switch', 'Reward', 'Belief']].head(5) # look at only a few columns"
   ]
  },
  {
   "cell_type": "code",
   "execution_count": 559,
   "metadata": {},
   "outputs": [
    {
     "data": {
      "text/html": [
       "<div>\n",
       "<style>\n",
       "    .dataframe thead tr:only-child th {\n",
       "        text-align: right;\n",
       "    }\n",
       "\n",
       "    .dataframe thead th {\n",
       "        text-align: left;\n",
       "    }\n",
       "\n",
       "    .dataframe tbody tr th {\n",
       "        vertical-align: top;\n",
       "    }\n",
       "</style>\n",
       "<table border=\"1\" class=\"dataframe\">\n",
       "  <thead>\n",
       "    <tr style=\"text-align: right;\">\n",
       "      <th></th>\n",
       "      <th>Mouse ID</th>\n",
       "      <th>Session ID</th>\n",
       "      <th>Trial</th>\n",
       "      <th>Block Trial</th>\n",
       "      <th>Block Reward</th>\n",
       "      <th>Port Streak</th>\n",
       "      <th>Reward Streak</th>\n",
       "      <th>10_Port</th>\n",
       "      <th>10_Reward</th>\n",
       "      <th>10_ITI</th>\n",
       "      <th>...</th>\n",
       "      <th>1_trialDuration</th>\n",
       "      <th>0_ITI</th>\n",
       "      <th>0_trialDuration</th>\n",
       "      <th>Decision</th>\n",
       "      <th>Switch</th>\n",
       "      <th>Higher p port</th>\n",
       "      <th>Reward</th>\n",
       "      <th>center_frame</th>\n",
       "      <th>decision_frame</th>\n",
       "      <th>Belief</th>\n",
       "    </tr>\n",
       "  </thead>\n",
       "  <tbody>\n",
       "    <tr>\n",
       "      <th>0</th>\n",
       "      <td>Raspberry</td>\n",
       "      <td>08302017_Raspberry</td>\n",
       "      <td>11.0</td>\n",
       "      <td>11.0</td>\n",
       "      <td>7.0</td>\n",
       "      <td>1.0</td>\n",
       "      <td>1.0</td>\n",
       "      <td>0.0</td>\n",
       "      <td>1.0</td>\n",
       "      <td>5.495</td>\n",
       "      <td>...</td>\n",
       "      <td>0.516</td>\n",
       "      <td>1.798</td>\n",
       "      <td>0.562</td>\n",
       "      <td>0.0</td>\n",
       "      <td>0.0</td>\n",
       "      <td>1.0</td>\n",
       "      <td>0.0</td>\n",
       "      <td>NaN</td>\n",
       "      <td>NaN</td>\n",
       "      <td>0.979286</td>\n",
       "    </tr>\n",
       "    <tr>\n",
       "      <th>1</th>\n",
       "      <td>Raspberry</td>\n",
       "      <td>08302017_Raspberry</td>\n",
       "      <td>12.0</td>\n",
       "      <td>12.0</td>\n",
       "      <td>7.0</td>\n",
       "      <td>2.0</td>\n",
       "      <td>-1.0</td>\n",
       "      <td>0.0</td>\n",
       "      <td>0.0</td>\n",
       "      <td>2.183</td>\n",
       "      <td>...</td>\n",
       "      <td>0.562</td>\n",
       "      <td>1.763</td>\n",
       "      <td>0.477</td>\n",
       "      <td>1.0</td>\n",
       "      <td>1.0</td>\n",
       "      <td>0.0</td>\n",
       "      <td>0.0</td>\n",
       "      <td>NaN</td>\n",
       "      <td>NaN</td>\n",
       "      <td>0.828662</td>\n",
       "    </tr>\n",
       "    <tr>\n",
       "      <th>2</th>\n",
       "      <td>Raspberry</td>\n",
       "      <td>08302017_Raspberry</td>\n",
       "      <td>13.0</td>\n",
       "      <td>13.0</td>\n",
       "      <td>7.0</td>\n",
       "      <td>1.0</td>\n",
       "      <td>-2.0</td>\n",
       "      <td>0.0</td>\n",
       "      <td>1.0</td>\n",
       "      <td>2.864</td>\n",
       "      <td>...</td>\n",
       "      <td>0.477</td>\n",
       "      <td>2.322</td>\n",
       "      <td>0.551</td>\n",
       "      <td>1.0</td>\n",
       "      <td>0.0</td>\n",
       "      <td>0.0</td>\n",
       "      <td>0.0</td>\n",
       "      <td>NaN</td>\n",
       "      <td>NaN</td>\n",
       "      <td>0.961635</td>\n",
       "    </tr>\n",
       "    <tr>\n",
       "      <th>3</th>\n",
       "      <td>Raspberry</td>\n",
       "      <td>08302017_Raspberry</td>\n",
       "      <td>14.0</td>\n",
       "      <td>14.0</td>\n",
       "      <td>7.0</td>\n",
       "      <td>2.0</td>\n",
       "      <td>-3.0</td>\n",
       "      <td>0.0</td>\n",
       "      <td>1.0</td>\n",
       "      <td>1.802</td>\n",
       "      <td>...</td>\n",
       "      <td>0.551</td>\n",
       "      <td>3.382</td>\n",
       "      <td>0.588</td>\n",
       "      <td>1.0</td>\n",
       "      <td>0.0</td>\n",
       "      <td>0.0</td>\n",
       "      <td>0.0</td>\n",
       "      <td>NaN</td>\n",
       "      <td>NaN</td>\n",
       "      <td>0.979066</td>\n",
       "    </tr>\n",
       "    <tr>\n",
       "      <th>4</th>\n",
       "      <td>Raspberry</td>\n",
       "      <td>08302017_Raspberry</td>\n",
       "      <td>15.0</td>\n",
       "      <td>15.0</td>\n",
       "      <td>7.0</td>\n",
       "      <td>3.0</td>\n",
       "      <td>-4.0</td>\n",
       "      <td>0.0</td>\n",
       "      <td>1.0</td>\n",
       "      <td>5.793</td>\n",
       "      <td>...</td>\n",
       "      <td>0.588</td>\n",
       "      <td>4.735</td>\n",
       "      <td>0.438</td>\n",
       "      <td>1.0</td>\n",
       "      <td>0.0</td>\n",
       "      <td>0.0</td>\n",
       "      <td>0.0</td>\n",
       "      <td>NaN</td>\n",
       "      <td>NaN</td>\n",
       "      <td>0.981041</td>\n",
       "    </tr>\n",
       "    <tr>\n",
       "      <th>5</th>\n",
       "      <td>Raspberry</td>\n",
       "      <td>08302017_Raspberry</td>\n",
       "      <td>16.0</td>\n",
       "      <td>16.0</td>\n",
       "      <td>7.0</td>\n",
       "      <td>4.0</td>\n",
       "      <td>-5.0</td>\n",
       "      <td>0.0</td>\n",
       "      <td>1.0</td>\n",
       "      <td>8.361</td>\n",
       "      <td>...</td>\n",
       "      <td>0.438</td>\n",
       "      <td>4.568</td>\n",
       "      <td>0.506</td>\n",
       "      <td>1.0</td>\n",
       "      <td>0.0</td>\n",
       "      <td>0.0</td>\n",
       "      <td>0.0</td>\n",
       "      <td>NaN</td>\n",
       "      <td>NaN</td>\n",
       "      <td>0.981261</td>\n",
       "    </tr>\n",
       "    <tr>\n",
       "      <th>6</th>\n",
       "      <td>Raspberry</td>\n",
       "      <td>08302017_Raspberry</td>\n",
       "      <td>17.0</td>\n",
       "      <td>17.0</td>\n",
       "      <td>7.0</td>\n",
       "      <td>5.0</td>\n",
       "      <td>-6.0</td>\n",
       "      <td>0.0</td>\n",
       "      <td>1.0</td>\n",
       "      <td>1.325</td>\n",
       "      <td>...</td>\n",
       "      <td>0.506</td>\n",
       "      <td>2.158</td>\n",
       "      <td>0.449</td>\n",
       "      <td>1.0</td>\n",
       "      <td>0.0</td>\n",
       "      <td>0.0</td>\n",
       "      <td>0.0</td>\n",
       "      <td>NaN</td>\n",
       "      <td>NaN</td>\n",
       "      <td>0.981285</td>\n",
       "    </tr>\n",
       "    <tr>\n",
       "      <th>7</th>\n",
       "      <td>Raspberry</td>\n",
       "      <td>08302017_Raspberry</td>\n",
       "      <td>18.0</td>\n",
       "      <td>18.0</td>\n",
       "      <td>7.0</td>\n",
       "      <td>6.0</td>\n",
       "      <td>-7.0</td>\n",
       "      <td>0.0</td>\n",
       "      <td>0.0</td>\n",
       "      <td>2.003</td>\n",
       "      <td>...</td>\n",
       "      <td>0.449</td>\n",
       "      <td>1.295</td>\n",
       "      <td>0.443</td>\n",
       "      <td>1.0</td>\n",
       "      <td>0.0</td>\n",
       "      <td>0.0</td>\n",
       "      <td>0.0</td>\n",
       "      <td>NaN</td>\n",
       "      <td>NaN</td>\n",
       "      <td>0.981288</td>\n",
       "    </tr>\n",
       "    <tr>\n",
       "      <th>8</th>\n",
       "      <td>Raspberry</td>\n",
       "      <td>08302017_Raspberry</td>\n",
       "      <td>19.0</td>\n",
       "      <td>19.0</td>\n",
       "      <td>7.0</td>\n",
       "      <td>7.0</td>\n",
       "      <td>-8.0</td>\n",
       "      <td>1.0</td>\n",
       "      <td>0.0</td>\n",
       "      <td>1.974</td>\n",
       "      <td>...</td>\n",
       "      <td>0.443</td>\n",
       "      <td>2.645</td>\n",
       "      <td>0.381</td>\n",
       "      <td>0.0</td>\n",
       "      <td>1.0</td>\n",
       "      <td>1.0</td>\n",
       "      <td>0.0</td>\n",
       "      <td>NaN</td>\n",
       "      <td>NaN</td>\n",
       "      <td>0.981290</td>\n",
       "    </tr>\n",
       "    <tr>\n",
       "      <th>9</th>\n",
       "      <td>Raspberry</td>\n",
       "      <td>08302017_Raspberry</td>\n",
       "      <td>20.0</td>\n",
       "      <td>20.0</td>\n",
       "      <td>7.0</td>\n",
       "      <td>1.0</td>\n",
       "      <td>-9.0</td>\n",
       "      <td>0.0</td>\n",
       "      <td>1.0</td>\n",
       "      <td>9.713</td>\n",
       "      <td>...</td>\n",
       "      <td>0.381</td>\n",
       "      <td>1.963</td>\n",
       "      <td>0.529</td>\n",
       "      <td>1.0</td>\n",
       "      <td>1.0</td>\n",
       "      <td>0.0</td>\n",
       "      <td>0.0</td>\n",
       "      <td>NaN</td>\n",
       "      <td>NaN</td>\n",
       "      <td>0.841745</td>\n",
       "    </tr>\n",
       "  </tbody>\n",
       "</table>\n",
       "<p>10 rows × 56 columns</p>\n",
       "</div>"
      ],
      "text/plain": [
       "    Mouse ID          Session ID  Trial  Block Trial  Block Reward  \\\n",
       "0  Raspberry  08302017_Raspberry   11.0         11.0           7.0   \n",
       "1  Raspberry  08302017_Raspberry   12.0         12.0           7.0   \n",
       "2  Raspberry  08302017_Raspberry   13.0         13.0           7.0   \n",
       "3  Raspberry  08302017_Raspberry   14.0         14.0           7.0   \n",
       "4  Raspberry  08302017_Raspberry   15.0         15.0           7.0   \n",
       "5  Raspberry  08302017_Raspberry   16.0         16.0           7.0   \n",
       "6  Raspberry  08302017_Raspberry   17.0         17.0           7.0   \n",
       "7  Raspberry  08302017_Raspberry   18.0         18.0           7.0   \n",
       "8  Raspberry  08302017_Raspberry   19.0         19.0           7.0   \n",
       "9  Raspberry  08302017_Raspberry   20.0         20.0           7.0   \n",
       "\n",
       "   Port Streak  Reward Streak  10_Port  10_Reward  10_ITI    ...     \\\n",
       "0          1.0            1.0      0.0        1.0   5.495    ...      \n",
       "1          2.0           -1.0      0.0        0.0   2.183    ...      \n",
       "2          1.0           -2.0      0.0        1.0   2.864    ...      \n",
       "3          2.0           -3.0      0.0        1.0   1.802    ...      \n",
       "4          3.0           -4.0      0.0        1.0   5.793    ...      \n",
       "5          4.0           -5.0      0.0        1.0   8.361    ...      \n",
       "6          5.0           -6.0      0.0        1.0   1.325    ...      \n",
       "7          6.0           -7.0      0.0        0.0   2.003    ...      \n",
       "8          7.0           -8.0      1.0        0.0   1.974    ...      \n",
       "9          1.0           -9.0      0.0        1.0   9.713    ...      \n",
       "\n",
       "   1_trialDuration  0_ITI  0_trialDuration  Decision  Switch  Higher p port  \\\n",
       "0            0.516  1.798            0.562       0.0     0.0            1.0   \n",
       "1            0.562  1.763            0.477       1.0     1.0            0.0   \n",
       "2            0.477  2.322            0.551       1.0     0.0            0.0   \n",
       "3            0.551  3.382            0.588       1.0     0.0            0.0   \n",
       "4            0.588  4.735            0.438       1.0     0.0            0.0   \n",
       "5            0.438  4.568            0.506       1.0     0.0            0.0   \n",
       "6            0.506  2.158            0.449       1.0     0.0            0.0   \n",
       "7            0.449  1.295            0.443       1.0     0.0            0.0   \n",
       "8            0.443  2.645            0.381       0.0     1.0            1.0   \n",
       "9            0.381  1.963            0.529       1.0     1.0            0.0   \n",
       "\n",
       "   Reward  center_frame  decision_frame    Belief  \n",
       "0     0.0           NaN             NaN  0.979286  \n",
       "1     0.0           NaN             NaN  0.828662  \n",
       "2     0.0           NaN             NaN  0.961635  \n",
       "3     0.0           NaN             NaN  0.979066  \n",
       "4     0.0           NaN             NaN  0.981041  \n",
       "5     0.0           NaN             NaN  0.981261  \n",
       "6     0.0           NaN             NaN  0.981285  \n",
       "7     0.0           NaN             NaN  0.981288  \n",
       "8     0.0           NaN             NaN  0.981290  \n",
       "9     0.0           NaN             NaN  0.841745  \n",
       "\n",
       "[10 rows x 56 columns]"
      ]
     },
     "execution_count": 559,
     "metadata": {},
     "output_type": "execute_result"
    }
   ],
   "source": [
    "feature_matrix.head(10)"
   ]
  },
  {
   "cell_type": "code",
   "execution_count": null,
   "metadata": {
    "collapsed": true
   },
   "outputs": [],
   "source": []
  },
  {
   "cell_type": "code",
   "execution_count": null,
   "metadata": {
    "collapsed": true
   },
   "outputs": [],
   "source": []
  },
  {
   "cell_type": "code",
   "execution_count": 337,
   "metadata": {},
   "outputs": [
    {
     "data": {
      "text/plain": [
       "array([ True], dtype=bool)"
      ]
     },
     "execution_count": 337,
     "metadata": {},
     "output_type": "execute_result"
    }
   ],
   "source": [
    "np.random.rand(1)>.5"
   ]
  },
  {
   "cell_type": "markdown",
   "metadata": {},
   "source": [
    "plt.plot(trial_df['Belief']) # plot the value of belief in blue across all trials (using prediction with full history)\n",
    "plt.plot(trial_df['Right Reward Prob'])\n",
    "\n",
    "#plt.plot(feature_matrix[feature_matrix['Reward']==1]['Trial'], feature_matrix[feature_matrix['Reward']==1]['Belief'], alpha=0.5) # using only 10 deep for history\n",
    "#plt.scatter(feature_matrix[feature_matrix['Reward']==1]['Trial'],temp[:,1,0], alpha=0.3)\n",
    "\n",
    "'''\n",
    "Greedy model?\n",
    "'''\n",
    "\n",
    "#compare predicted number of rewards with total number of rewards, and then break down for each block\n",
    "count=0\n",
    "for i in range(trial_df.shape[0]):\n",
    "    if (trial_df['Belief'][i] > 0.5) & (trial_df['Right Reward Prob'][i] >= 0.7):# if belief is toward the right port and right port has higher prob\n",
    "        count+=0.9\n",
    "    elif (trial_df['Belief'][i] < 0.5) & (trial_df['Left Reward Prob'][i] >=0.7): # same for left port\n",
    "        count+=0.9\n",
    "print('Greedy predicted reward count =', count)\n",
    "print('proportion actual =', record[record['Session ID']==session_name]['No. Rewards'].values[0]/count)\n",
    "#plt.scatter(temp[:,0,0], feature_matrix[feature_matrix['Reward']==1]['Belief'])\n",
    "#temp = aligned_start.sum(axis=1)\n",
    "\n",
    "'''\n",
    "Thompson sampling?\n",
    "'''\n",
    "\n",
    "#compare predicted number of rewards with total number of rewards, and then break down for each block\n",
    "count=0\n",
    "for i in range(trial_df.shape[0]):\n",
    "    if (trial_df['Belief'][i] > 0.5) & (trial_df['Right Reward Prob'][i] >= 0.7):# if belief is toward the right port and right port has higher prob\n",
    "        if np.random.rand(1) >0.1:\n",
    "            count+=0.9\n",
    "    elif (trial_df['Belief'][i] < 0.5) & (trial_df['Left Reward Prob'][i] >=0.7): # same for left port\n",
    "        if np.random.rand(1) > 0.1:\n",
    "            count+=0.9\n",
    "print('Thompson predicted reward count =', count)\n",
    "print('proportional actual =', record[record['Session ID']==session_name]['No. Rewards'].values[0]/count)\n",
    "print('max rewards = ', record[record['Session ID']==session_name]['No. Trials'].values[0]*0.9)\n",
    "#plt.scatter(temp[:,0,0], feature_matrix[feature_matrix['Reward']==1]['Belief'])\n",
    "#temp = aligned_start.sum(axis=1)\n"
   ]
  },
  {
   "cell_type": "markdown",
   "metadata": {},
   "source": [
    "### Set the parameters to input into extract_frames function\n",
    "    Decision: 0=Right, 1=Left\n",
    "    Reward: 0=unrewarded, 1=rewarded\n",
    "    Switch: 0=last trial at same port, 1=last trial at different port-->switched\n",
    "    Belief: 0-1 value where 0 represents right port and 1 represents left port"
   ]
  },
  {
   "cell_type": "code",
   "execution_count": 133,
   "metadata": {
    "collapsed": true
   },
   "outputs": [],
   "source": [
    "cond1_name = 'Switch'; cond1_id=[0,1]\n",
    "cond1_ops = '='\n",
    "\n",
    "cond2_name = 'Decision'; cond2_id=[0,1]\n",
    "\n",
    "cond3_name = 'Reward'; cond3_id=[0,1]\n",
    "\n",
    "conditions = [cond1_name, cond2_name, cond3_name]\n",
    "n_variables = 2 # value between 1 and 3 to run the corresponding number of conditions through the rest of the notebook\n",
    "extension = 30 # number of frames included before center poke and after decision poke to set size of window\n",
    "combo_id = list(itertools.product([0, 1], repeat=n_variables)) # list of all combinations of binary conditions\n",
    "n_combos = len(combo_id) # total number of combinations of conditions\n",
    "\n",
    "cond1_ops_b='=' # make sure the alternative operation fits with its partner \n",
    "if cond1_ops != '=':\n",
    "    if cond1_ops == '>':\n",
    "        cond1_ops_b = '<='\n",
    "        print(cond1_ops_b)\n",
    "    elif cond1_ops == '>=':\n",
    "        cond1_ops_b = '<'\n",
    "        print(cond1_ops_b)"
   ]
  },
  {
   "cell_type": "markdown",
   "metadata": {},
   "source": [
    "### Extract the frames for the specified conditions and create arrays containing frames for beginning and end of window of interest\n",
    "\n",
    "    Set the value of 'extension' to the # of frames added before the center poke and after the decision poke\n",
    "    fr_1x2x3x = center poke, decision poke frame #s for all trials with the corresponding conditions.\n",
    "\n",
    "    At the moment this is not set up in the most efficient way...the extract_frames function operates by calling all 3 variables (i.e. Switch, Reward) across both conditions (a=0, b=1) to generate the maximum number of combinations (8 for 3 variables). If the number of variables is less than 3, it will later use the 'groupings_x' variables to concatenate these arrays into the appropriate final arrays (for example, to go from 3 variables to 2, all beginning with 1a2a get combined)"
   ]
  },
  {
   "cell_type": "code",
   "execution_count": 14,
   "metadata": {},
   "outputs": [],
   "source": [
    "# if this needs to work with Belief values, then set combo_id[i][#] as index value into cond_id"
   ]
  },
  {
   "cell_type": "code",
   "execution_count": 134,
   "metadata": {},
   "outputs": [],
   "source": [
    "poke_frames = {} # initialize an empty dictionary to store center and decision poke frames for each combination of conditions\n",
    "for i in range(0,n_combos):\n",
    "    if n_variables==3: # based on number of variables specified\n",
    "        iCombo_key= \"f%s%s%s\" % (combo_id[i][0], combo_id[i][1], combo_id[i][2]) # set key name based on comboID\n",
    "        iCombo_value = hf.extract_frames(feature_matrix, cond1_name, combo_id[i][0], cond2_name, \n",
    "                                         combo_id[i][1], cond3_name, combo_id[i][2], cond1_ops=cond1_ops)\n",
    "        temp_dict = {iCombo_key:iCombo_value} # create new key-value pair with comboID and corresponding frames\n",
    "        poke_frames.update(temp_dict) # add new values to dictionary of center and decision poke frames\n",
    "    if n_variables==2:\n",
    "        iCombo_key= \"f%s%s\" % (combo_id[i][0], combo_id[i][1])\n",
    "        iCombo_value = hf.extract_frames(feature_matrix, cond1_name, combo_id[i][0], cond2_name, \n",
    "                                         combo_id[i][1], cond1_ops=cond1_ops)\n",
    "        temp_dict = {iCombo_key:iCombo_value}\n",
    "        poke_frames.update(temp_dict)\n",
    "    if n_variables==1:\n",
    "        iCombo_key= \"f%s\" %(combo_id[i][0])\n",
    "        iCombo_value = hf.extract_frames(feature_matrix, cond1_name, combo_id[i][0], cond1_ops=cond1_ops)\n",
    "        temp_dict = {iCombo_key:iCombo_value}\n",
    "        poke_frames.update(temp_dict)\n",
    "    \n",
    "poke_frames_keys = list(poke_frames.keys())"
   ]
  },
  {
   "cell_type": "markdown",
   "metadata": {},
   "source": [
    "### Create a dictionary referencing every array of start/stop frames\n",
    "    Start-stop_frames = frame starting however long the extension value was before the center poke frame, and frame that long after the decision poke\n",
    "    Dictionary is designed to construct each array based on the number of variables (conditions) specified in the beginning...this is where the groupings variables are used to condense arrays for fewer conditions."
   ]
  },
  {
   "cell_type": "code",
   "execution_count": 135,
   "metadata": {
    "collapsed": true
   },
   "outputs": [],
   "source": [
    "for i in poke_frames: # create full window based on number of frames in 'extension' variable\n",
    "    poke_frames[i][:,0] = poke_frames[i][:,0] - extension\n",
    "    poke_frames[i][:,1] = poke_frames[i][:,1] + extension"
   ]
  },
  {
   "cell_type": "markdown",
   "metadata": {},
   "source": [
    "### Set up some other parameters to be used in the rest of the script\n",
    "    detectEvents() returns binary matrix of 0s and 1s representing frames where events occurred. Replace raw trace file with this processed file and apply a Gaussian filter over events.\n",
    "    \n",
    "    --nNeurons = number of neurons output by CNMF-e\n",
    "        Redefined as number of neurons after some initial processing:\n",
    "\n",
    "    Working on a function to combine the above with previous execution of this script on the raw trace file using a flag for 'events'. Once that's complete, will need to add back in NaN cleansing (this is already incorporated into the detectEvents() function). The following arrays will then be used.\n",
    "    \n",
    "    --nan_neurons = any neurons containing NaNs in their calcium traces\n",
    "    --good_neurons = neurons not containing NaNs -- used to redefine nNeurons"
   ]
  },
  {
   "cell_type": "code",
   "execution_count": 136,
   "metadata": {},
   "outputs": [],
   "source": [
    "events = cc.detectEvents(neuron)\n",
    "\n",
    "neuron.C_events = np.copy(events)\n",
    "nNeurons = neuron.C_raw.shape[0]\n",
    "nFrames = neuron.C_raw.shape[1]\n",
    "\n",
    "#Create Gaussian filter and apply to raw trace\n",
    "sigma = 3;\n",
    "sz = 10; # total width \n",
    "\n",
    "x = np.linspace(-sz / 2, sz / 2, sz);\n",
    "gaussFilter = np.exp(-x**2 / (2*sigma**2));\n",
    "gaussFilter = gaussFilter / np.sum(gaussFilter);\n",
    "\n",
    "smoothed = np.zeros((nNeurons, neuron.C_events.shape[1]+sz-1));\n",
    "\n",
    "for i in range(0, nNeurons):\n",
    "    smoothed[i,:] = np.convolve(neuron.C_events[i,:], gaussFilter);\n",
    "    \n",
    "neuron.C_events = smoothed[:,0:nFrames]"
   ]
  },
  {
   "cell_type": "code",
   "execution_count": 137,
   "metadata": {},
   "outputs": [
    {
     "data": {
      "text/plain": [
       "(9, 43443)"
      ]
     },
     "execution_count": 137,
     "metadata": {},
     "output_type": "execute_result"
    }
   ],
   "source": [
    "neuron.C_events.shape"
   ]
  },
  {
   "cell_type": "code",
   "execution_count": 138,
   "metadata": {},
   "outputs": [
    {
     "ename": "IndexError",
     "evalue": "index 20 is out of bounds for axis 0 with size 9",
     "output_type": "error",
     "traceback": [
      "\u001b[0;31m---------------------------------------------------------------------------\u001b[0m",
      "\u001b[0;31mIndexError\u001b[0m                                Traceback (most recent call last)",
      "\u001b[0;32m<ipython-input-138-097feb6f050f>\u001b[0m in \u001b[0;36m<module>\u001b[0;34m()\u001b[0m\n\u001b[1;32m      1\u001b[0m \u001b[0;31m# This is just used to visualize the effect of the Gaussian filter on each event\u001b[0m\u001b[0;34m\u001b[0m\u001b[0;34m\u001b[0m\u001b[0m\n\u001b[0;32m----> 2\u001b[0;31m \u001b[0mplt\u001b[0m\u001b[0;34m.\u001b[0m\u001b[0mplot\u001b[0m\u001b[0;34m(\u001b[0m\u001b[0mneuron\u001b[0m\u001b[0;34m.\u001b[0m\u001b[0mC_events\u001b[0m\u001b[0;34m[\u001b[0m\u001b[0;36m20\u001b[0m\u001b[0;34m,\u001b[0m\u001b[0;34m:\u001b[0m\u001b[0;34m]\u001b[0m\u001b[0;34m)\u001b[0m\u001b[0;34m\u001b[0m\u001b[0m\n\u001b[0m\u001b[1;32m      3\u001b[0m \u001b[0mplt\u001b[0m\u001b[0;34m.\u001b[0m\u001b[0mplot\u001b[0m\u001b[0;34m(\u001b[0m\u001b[0mneuron\u001b[0m\u001b[0;34m.\u001b[0m\u001b[0mC_raw\u001b[0m\u001b[0;34m[\u001b[0m\u001b[0;36m20\u001b[0m\u001b[0;34m,\u001b[0m\u001b[0;34m:\u001b[0m\u001b[0;34m]\u001b[0m\u001b[0;34m)\u001b[0m\u001b[0;34m\u001b[0m\u001b[0m\n",
      "\u001b[0;31mIndexError\u001b[0m: index 20 is out of bounds for axis 0 with size 9"
     ]
    }
   ],
   "source": [
    "# This is just used to visualize the effect of the Gaussian filter on each event\n",
    "plt.plot(neuron.C_events[20,:])\n",
    "plt.plot(neuron.C_raw[20,:])"
   ]
  },
  {
   "cell_type": "markdown",
   "metadata": {},
   "source": [
    "### Calculate the number of frames required to span the longest trial in all conditions, and use this for all trials\n",
    "    --nTrials = list of number of trials in each condition (length = n_combos)\n",
    "\n",
    "    --max_window = find window length (number of frames) required to capture center poke to decision poke for all trials (with extensions) and then just take maximum length trial across all conditions)"
   ]
  },
  {
   "cell_type": "code",
   "execution_count": 139,
   "metadata": {},
   "outputs": [],
   "source": [
    "nTrials = [poke_frames[poke_frames_keys[i]].shape[0] for i in range(n_combos)]\n",
    "max_window = np.zeros(n_combos) \n",
    "window_length= np.zeros((np.max(nTrials), n_combos))\n",
    "    \n",
    "for i in range(n_combos):\n",
    "    for iTrial in range(nTrials[i]):\n",
    "        window_length[iTrial, i] = int(((poke_frames[poke_frames_keys[i]][iTrial][1]-\n",
    "                                 poke_frames[poke_frames_keys[i]][iTrial][0])))\n",
    "    max_window[i] = np.max(window_length)\n",
    "    \n",
    "max_window = int(max_window.max())"
   ]
  },
  {
   "cell_type": "markdown",
   "metadata": {},
   "source": [
    "### Aligned to center poke\n",
    "    Pull out segements of calcium traces in designated window of frames. Calculate mean fluorescence for each neuron across all trials. \n",
    "    -- aligned_start = (number of trials x number frames x number of neurons x number of combinations)\n",
    "    -- mean_center_poke = mean fluorescence (or mean number of events) for each neuron across all trials aligned to center poke\n",
    "    \n",
    "    If using raw traces, will add back in normalization here.\n"
   ]
  },
  {
   "cell_type": "code",
   "execution_count": 140,
   "metadata": {},
   "outputs": [
    {
     "ename": "ValueError",
     "evalue": "could not broadcast input array from shape (0) into shape (47)",
     "output_type": "error",
     "traceback": [
      "\u001b[0;31m---------------------------------------------------------------------------\u001b[0m",
      "\u001b[0;31mValueError\u001b[0m                                Traceback (most recent call last)",
      "\u001b[0;32m<ipython-input-140-66b0697e3942>\u001b[0m in \u001b[0;36m<module>\u001b[0;34m()\u001b[0m\n\u001b[1;32m     12\u001b[0m                     \u001b[0mint\u001b[0m\u001b[0;34m(\u001b[0m\u001b[0mpoke_frames\u001b[0m\u001b[0;34m[\u001b[0m\u001b[0mpoke_frames_keys\u001b[0m\u001b[0;34m[\u001b[0m\u001b[0mi\u001b[0m\u001b[0;34m]\u001b[0m\u001b[0;34m]\u001b[0m\u001b[0;34m[\u001b[0m\u001b[0miTrial\u001b[0m\u001b[0;34m]\u001b[0m\u001b[0;34m[\u001b[0m\u001b[0;36m0\u001b[0m\u001b[0;34m]\u001b[0m\u001b[0;34m)\u001b[0m\u001b[0;34m:\u001b[0m\u001b[0;34m\u001b[0m\u001b[0m\n\u001b[0;32m---> 13\u001b[0;31m                     (int(poke_frames[poke_frames_keys[i]][iTrial][0])+max_window)]\n\u001b[0m\u001b[1;32m     14\u001b[0m             \u001b[0;32mexcept\u001b[0m \u001b[0mValueError\u001b[0m\u001b[0;34m:\u001b[0m\u001b[0;34m\u001b[0m\u001b[0m\n",
      "\u001b[0;31mValueError\u001b[0m: could not broadcast input array from shape (0) into shape (89)",
      "\nDuring handling of the above exception, another exception occurred:\n",
      "\u001b[0;31mValueError\u001b[0m                                Traceback (most recent call last)",
      "\u001b[0;32m<ipython-input-140-66b0697e3942>\u001b[0m in \u001b[0;36m<module>\u001b[0;34m()\u001b[0m\n\u001b[1;32m     16\u001b[0m                 aligned_start[iTrial,0:len_to_end, iNeuron, i] = neuron.C_events[iNeuron,\n\u001b[1;32m     17\u001b[0m                     \u001b[0mint\u001b[0m\u001b[0;34m(\u001b[0m\u001b[0mpoke_frames\u001b[0m\u001b[0;34m[\u001b[0m\u001b[0mpoke_frames_keys\u001b[0m\u001b[0;34m[\u001b[0m\u001b[0mi\u001b[0m\u001b[0;34m]\u001b[0m\u001b[0;34m]\u001b[0m\u001b[0;34m[\u001b[0m\u001b[0miTrial\u001b[0m\u001b[0;34m]\u001b[0m\u001b[0;34m[\u001b[0m\u001b[0;36m0\u001b[0m\u001b[0;34m]\u001b[0m\u001b[0;34m)\u001b[0m\u001b[0;34m:\u001b[0m\u001b[0;34m\u001b[0m\u001b[0m\n\u001b[0;32m---> 18\u001b[0;31m                     (int(poke_frames[poke_frames_keys[i]][iTrial][0])+len_to_end)]\n\u001b[0m\u001b[1;32m     19\u001b[0m \u001b[0;34m\u001b[0m\u001b[0m\n\u001b[1;32m     20\u001b[0m     \u001b[0;31m# take mean of fluorescent traces across all trials for each neuron, then normalize\u001b[0m\u001b[0;34m\u001b[0m\u001b[0;34m\u001b[0m\u001b[0m\n",
      "\u001b[0;31mValueError\u001b[0m: could not broadcast input array from shape (0) into shape (47)"
     ]
    }
   ],
   "source": [
    "aligned_start = np.zeros((np.max(nTrials), max_window, nNeurons, n_combos))\n",
    "mean_center_poke = np.zeros((max_window, nNeurons, n_combos))\n",
    "\n",
    "for i in range(n_combos):\n",
    "\n",
    "    # create array containing segment of raw trace for each neuron for each trial \n",
    "    # aligned to center poke\n",
    "    for iNeuron in range(nNeurons): # for each neuron\n",
    "        for iTrial in range(0,nTrials[i]): # and for each trial\n",
    "            try:\n",
    "                aligned_start[iTrial,:, iNeuron, i] = neuron.C_events[iNeuron,\n",
    "                    int(poke_frames[poke_frames_keys[i]][iTrial][0]):\n",
    "                    (int(poke_frames[poke_frames_keys[i]][iTrial][0])+max_window)]\n",
    "            except ValueError:\n",
    "                len_to_end = int(nFrames - poke_frames[poke_frames_keys[i]][iTrial][0])\n",
    "                aligned_start[iTrial,0:len_to_end, iNeuron, i] = neuron.C_events[iNeuron,\n",
    "                    int(poke_frames[poke_frames_keys[i]][iTrial][0]):\n",
    "                    (int(poke_frames[poke_frames_keys[i]][iTrial][0])+len_to_end)]\n",
    "            \n",
    "    # take mean of fluorescent traces across all trials for each neuron, then normalize\n",
    "    # for each neuron\n",
    "    mean_center_poke[:,:,i]= np.mean(aligned_start[0:nTrials[i],:,:,i], axis=0)"
   ]
  },
  {
   "cell_type": "markdown",
   "metadata": {},
   "source": [
    "### Plot heatmap of average events per trial (intensity) for each neuron (y) over time (x)\n",
    "### Aligned to center poke"
   ]
  },
  {
   "cell_type": "code",
   "execution_count": 122,
   "metadata": {},
   "outputs": [
    {
     "data": {
      "image/png": "[encoded data removed]",
      "text/plain": [
       "<matplotlib.figure.Figure at 0x124671320>"
      ]
     },
     "metadata": {},
     "output_type": "display_data"
    }
   ],
   "source": [
    "ydim = n_combos/2\n",
    "plt.figure(figsize=(8,ydim*4))\n",
    "for i in range(n_combos):\n",
    "\n",
    "    plt.subplot(ydim,2,i+1)  \n",
    "    plt.imshow(np.transpose(mean_center_poke[:,:,i]))#, plt.colorbar()\n",
    "    plt.axvline(x=extension, color='k', linestyle = '--', linewidth=.9)\n",
    "    plt.axis('tight')\n",
    "    plt.xlabel('Frame (center poke at %s)' % extension)\n",
    "    plt.ylabel('Neuron ID')\n",
    "    if n_variables == 3:\n",
    "        plt.title(\"%s = %s\\n %s = %s\\n%s = %s\\nNum trials = %.0f\" \n",
    "                  %(conditions[0], poke_frames_keys[i][1],\n",
    "                    conditions[1], poke_frames_keys[i][2], \n",
    "                    conditions[2], poke_frames_keys[i][3], nTrials[i])) \n",
    "    if n_variables == 2:\n",
    "        plt.title(\"%s = %s\\n %s = %s\\nNum trials = %.0f\" \n",
    "                  %(conditions[0], poke_frames_keys[i][1],\n",
    "                    conditions[1], poke_frames_keys[i][2], nTrials[i]))\n",
    "    if n_variables == 1:\n",
    "        plt.title(\"%s = %s\\nNum trials = %.0f\" \n",
    "                  %(conditions[0], poke_frames_keys[i][1], nTrials[i]))\n",
    "plt.tight_layout()"
   ]
  },
  {
   "cell_type": "code",
   "execution_count": null,
   "metadata": {
    "collapsed": true
   },
   "outputs": [],
   "source": []
  },
  {
   "cell_type": "code",
   "execution_count": 90,
   "metadata": {},
   "outputs": [
    {
     "data": {
      "image/png": "[encoded data removed]",
      "text/plain": [
       "<matplotlib.figure.Figure at 0x1214d05f8>"
      ]
     },
     "metadata": {},
     "output_type": "display_data"
    }
   ],
   "source": [
    "aligned_start_raw = np.zeros((np.max(nTrials), max_window, nNeurons, n_combos))\n",
    "mean_center_poke_raw = np.zeros((max_window, nNeurons, n_combos))\n",
    "mean_norm_raw = np.zeros((max_window, nNeurons, n_combos))\n",
    "\n",
    "\n",
    "for i in range(n_combos):\n",
    "\n",
    "    # create array containing segment of raw trace for each neuron for each trial \n",
    "    # aligned to center poke\n",
    "    for iNeuron in range(nNeurons): # for each neuron\n",
    "        for iTrial in range(0,nTrials[i]): # and for each trial\n",
    "            try:\n",
    "                aligned_start_raw[iTrial,:, iNeuron, i] = neuron.C_raw[iNeuron,\n",
    "                    int(poke_frames[poke_frames_keys[i]][iTrial][0]):\n",
    "                    (int(poke_frames[poke_frames_keys[i]][iTrial][0])+max_window)]\n",
    "            except ValueError:\n",
    "                len_to_end = int(nFrames - poke_frames[poke_frames_keys[i]][iTrial][0])\n",
    "                aligned_start_raw[iTrial,0:len_to_end, iNeuron, i] = neuron.C_raw[iNeuron,\n",
    "                    int(poke_frames[poke_frames_keys[i]][iTrial][0]):\n",
    "                    (int(poke_frames[poke_frames_keys[i]][iTrial][0])+len_to_end)]\n",
    "            \n",
    "    # take mean of fluorescent traces across all trials for each neuron, then normalize\n",
    "    # for each neuron\n",
    "    mean_center_poke_raw[:,:,i]= np.mean(aligned_start_raw[0:nTrials[i],:,:,i], axis=0)\n",
    "\n",
    "    \n",
    "ydim = n_combos/2\n",
    "plt.figure(figsize=(8,ydim*4))\n",
    "for i in range(n_combos):\n",
    "\n",
    "    plt.subplot(ydim,2,i+1)  \n",
    "    plt.imshow(np.transpose(mean_center_poke_raw[:,:,i]))#, plt.colorbar()\n",
    "    plt.axvline(x=extension, color='k', linestyle = '--', linewidth=.9)\n",
    "    plt.axis('tight')\n",
    "    plt.xlabel('Frame (center poke at %s)' % extension)\n",
    "    plt.ylabel('Neuron ID')\n",
    "    if n_variables == 3:\n",
    "        plt.title(\"%s = %s\\n %s = %s\\n%s = %s\\nNum trials = %.0f\" \n",
    "                  %(conditions[0], poke_frames_keys[i][1],\n",
    "                    conditions[1], poke_frames_keys[i][2], \n",
    "                    conditions[2], poke_frames_keys[i][3], nTrials[i])) \n",
    "    if n_variables == 2:\n",
    "        plt.title(\"%s = %s\\n %s = %s\\nNum trials = %.0f\" \n",
    "                  %(conditions[0], poke_frames_keys[i][1],\n",
    "                    conditions[1], poke_frames_keys[i][2], nTrials[i]))\n",
    "    if n_variables == 1:\n",
    "        plt.title(\"%s = %s\\nNum trials = %.0f\" \n",
    "                  %(conditions[0], poke_frames_keys[i][1], nTrials[i]))\n",
    "plt.tight_layout()"
   ]
  },
  {
   "cell_type": "code",
   "execution_count": 81,
   "metadata": {},
   "outputs": [],
   "source": [
    "# Normalize each trace within window being depicted based on single neuron’s activity\n",
    "# xi - min(x)/(max(x)-min(x)), where max and min are set by activity within window of interest\n",
    "\n",
    "# reshape so you look at all trials, frames, conditions for each neuron together\n",
    "aligned_start_flat = aligned_start_raw.reshape(-1, aligned_start_raw.shape[2]) \n",
    "\n",
    "# take max and min values for each neuron\n",
    "raw_min = aligned_start_flat.min(axis = 0)\n",
    "raw_max = aligned_start_flat.max(axis = 0)\n",
    "\n",
    "norm_raw = np.zeros_like(aligned_start)\n",
    "for iNeuron in range(nNeurons):\n",
    "    norm_raw[:,:,iNeuron,:] = (aligned_start[:,:,iNeuron,:] - raw_min[iNeuron])/(raw_max[iNeuron] - raw_min[iNeuron])\n"
   ]
  },
  {
   "cell_type": "code",
   "execution_count": 89,
   "metadata": {},
   "outputs": [
    {
     "data": {
      "image/png": "[encoded data removed]",
      "text/plain": [
       "<matplotlib.figure.Figure at 0x124528828>"
      ]
     },
     "metadata": {},
     "output_type": "display_data"
    }
   ],
   "source": [
    "for i in range(n_combos):\n",
    "    mean_norm_raw[:,:,i]= np.mean(norm_raw[0:nTrials[i],:,:,i], axis=0)\n",
    "\n",
    "ydim = n_combos/2\n",
    "plt.figure(figsize=(8,ydim*4))\n",
    "for i in range(n_combos):\n",
    "\n",
    "    plt.subplot(ydim,2,i+1)  \n",
    "    plt.imshow(np.transpose(mean_norm_raw[:,:,i]))#, plt.colorbar()\n",
    "    plt.axvline(x=extension, color='k', linestyle = '--', linewidth=.9)\n",
    "    plt.axis('tight')\n",
    "    plt.xlabel('Frame (center poke at %s)' % extension)\n",
    "    plt.ylabel('Neuron ID')\n",
    "    if n_variables == 3:\n",
    "        plt.title(\"%s = %s\\n %s = %s\\n%s = %s\\nNum trials = %.0f\" \n",
    "                  %(conditions[0], poke_frames_keys[i][1],\n",
    "                    conditions[1], poke_frames_keys[i][2], \n",
    "                    conditions[2], poke_frames_keys[i][3], nTrials[i])) \n",
    "    if n_variables == 2:\n",
    "        plt.title(\"%s = %s\\n %s = %s\\nNum trials = %.0f\" \n",
    "                  %(conditions[0], poke_frames_keys[i][1],\n",
    "                    conditions[1], poke_frames_keys[i][2], nTrials[i]))\n",
    "    if n_variables == 1:\n",
    "        plt.title(\"%s = %s\\nNum trials = %.0f\" \n",
    "                  %(conditions[0], poke_frames_keys[i][1], nTrials[i]))\n",
    "plt.tight_layout()"
   ]
  },
  {
   "cell_type": "code",
   "execution_count": 94,
   "metadata": {},
   "outputs": [],
   "source": [
    "# Normalize each trace within window being depicted based on all neurons’ activity\n",
    "aligned_start_flat = aligned_start_raw.ravel()\n",
    "raw_max = aligned_start_flat.max()\n",
    "raw_min = aligned_start_flat.min()\n",
    "\n",
    "\n",
    "norm_raw = np.zeros_like(aligned_start)\n",
    "for iNeuron in range(nNeurons):\n",
    "    norm_raw[:,:,iNeuron,:] = (aligned_start[:,:,iNeuron,:] - raw_min)/(raw_max - raw_min)\n",
    "\n",
    "\n"
   ]
  },
  {
   "cell_type": "code",
   "execution_count": 95,
   "metadata": {},
   "outputs": [
    {
     "data": {
      "image/png": "[encoded data removed]",
      "text/plain": [
       "<matplotlib.figure.Figure at 0x1245905c0>"
      ]
     },
     "metadata": {},
     "output_type": "display_data"
    }
   ],
   "source": [
    "for i in range(n_combos):\n",
    "    mean_norm_raw[:,:,i]= np.mean(norm_raw[0:nTrials[i],:,:,i], axis=0)\n",
    "\n",
    "ydim = n_combos/2\n",
    "plt.figure(figsize=(8,ydim*4))\n",
    "for i in range(n_combos):\n",
    "\n",
    "    plt.subplot(ydim,2,i+1)  \n",
    "    plt.imshow(np.transpose(mean_norm_raw[:,:,i]))#, plt.colorbar()\n",
    "    plt.axvline(x=extension, color='k', linestyle = '--', linewidth=.9)\n",
    "    plt.axis('tight')\n",
    "    plt.xlabel('Frame (center poke at %s)' % extension)\n",
    "    plt.ylabel('Neuron ID')\n",
    "    if n_variables == 3:\n",
    "        plt.title(\"%s = %s\\n %s = %s\\n%s = %s\\nNum trials = %.0f\" \n",
    "                  %(conditions[0], poke_frames_keys[i][1],\n",
    "                    conditions[1], poke_frames_keys[i][2], \n",
    "                    conditions[2], poke_frames_keys[i][3], nTrials[i])) \n",
    "    if n_variables == 2:\n",
    "        plt.title(\"%s = %s\\n %s = %s\\nNum trials = %.0f\" \n",
    "                  %(conditions[0], poke_frames_keys[i][1],\n",
    "                    conditions[1], poke_frames_keys[i][2], nTrials[i]))\n",
    "    if n_variables == 1:\n",
    "        plt.title(\"%s = %s\\nNum trials = %.0f\" \n",
    "                  %(conditions[0], poke_frames_keys[i][1], nTrials[i]))\n",
    "plt.tight_layout()"
   ]
  },
  {
   "cell_type": "code",
   "execution_count": 98,
   "metadata": {},
   "outputs": [
    {
     "data": {
      "text/plain": [
       "(25,)"
      ]
     },
     "execution_count": 98,
     "metadata": {},
     "output_type": "execute_result"
    }
   ],
   "source": [
    "temp=neuron.C_raw.min(axis=1)\n",
    "temp.shape"
   ]
  },
  {
   "cell_type": "code",
   "execution_count": 99,
   "metadata": {
    "collapsed": true
   },
   "outputs": [],
   "source": [
    "# Normalize each trace across entire imaging session based on single neuron’s activity\n",
    "\n",
    "# take max and min values for each neuron\n",
    "raw_min = neuron.C_raw.min(axis=1)\n",
    "raw_max = neuron.C_raw.max(axis=1)\n",
    "\n",
    "norm_raw = np.zeros_like(aligned_start)\n",
    "for iNeuron in range(nNeurons):\n",
    "    norm_raw[:,:,iNeuron,:] = (aligned_start[:,:,iNeuron,:] - raw_min[iNeuron])/(raw_max[iNeuron] - raw_min[iNeuron])"
   ]
  },
  {
   "cell_type": "code",
   "execution_count": 100,
   "metadata": {},
   "outputs": [
    {
     "data": {
      "image/png": "[encoded data removed]",
      "text/plain": [
       "<matplotlib.figure.Figure at 0x1245424e0>"
      ]
     },
     "metadata": {},
     "output_type": "display_data"
    }
   ],
   "source": [
    "for i in range(n_combos):\n",
    "    mean_norm_raw[:,:,i]= np.mean(norm_raw[0:nTrials[i],:,:,i], axis=0)\n",
    "\n",
    "ydim = n_combos/2\n",
    "plt.figure(figsize=(8,ydim*4))\n",
    "for i in range(n_combos):\n",
    "\n",
    "    plt.subplot(ydim,2,i+1)  \n",
    "    plt.imshow(np.transpose(mean_norm_raw[:,:,i]))#, plt.colorbar()\n",
    "    plt.axvline(x=extension, color='k', linestyle = '--', linewidth=.9)\n",
    "    plt.axis('tight')\n",
    "    plt.xlabel('Frame (center poke at %s)' % extension)\n",
    "    plt.ylabel('Neuron ID')\n",
    "    if n_variables == 3:\n",
    "        plt.title(\"%s = %s\\n %s = %s\\n%s = %s\\nNum trials = %.0f\" \n",
    "                  %(conditions[0], poke_frames_keys[i][1],\n",
    "                    conditions[1], poke_frames_keys[i][2], \n",
    "                    conditions[2], poke_frames_keys[i][3], nTrials[i])) \n",
    "    if n_variables == 2:\n",
    "        plt.title(\"%s = %s\\n %s = %s\\nNum trials = %.0f\" \n",
    "                  %(conditions[0], poke_frames_keys[i][1],\n",
    "                    conditions[1], poke_frames_keys[i][2], nTrials[i]))\n",
    "    if n_variables == 1:\n",
    "        plt.title(\"%s = %s\\nNum trials = %.0f\" \n",
    "                  %(conditions[0], poke_frames_keys[i][1], nTrials[i]))\n",
    "plt.tight_layout()"
   ]
  },
  {
   "cell_type": "code",
   "execution_count": null,
   "metadata": {
    "collapsed": true
   },
   "outputs": [],
   "source": [
    "# Normalize each trace across entire imaging session based on all neuron’s activity\n"
   ]
  },
  {
   "cell_type": "code",
   "execution_count": 24,
   "metadata": {},
   "outputs": [
    {
     "ename": "NameError",
     "evalue": "name 'mean_decision' is not defined",
     "output_type": "error",
     "traceback": [
      "\u001b[0;31m---------------------------------------------------------------------------\u001b[0m",
      "\u001b[0;31mNameError\u001b[0m                                 Traceback (most recent call last)",
      "\u001b[0;32m<ipython-input-24-6837526f6273>\u001b[0m in \u001b[0;36m<module>\u001b[0;34m()\u001b[0m\n\u001b[0;32m----> 1\u001b[0;31m \u001b[0mtemp\u001b[0m \u001b[0;34m=\u001b[0m \u001b[0mmean_decision\u001b[0m\u001b[0;34m.\u001b[0m\u001b[0msum\u001b[0m\u001b[0;34m(\u001b[0m\u001b[0maxis\u001b[0m\u001b[0;34m=\u001b[0m\u001b[0;36m1\u001b[0m\u001b[0;34m)\u001b[0m\u001b[0;34m\u001b[0m\u001b[0m\n\u001b[0m\u001b[1;32m      2\u001b[0m \u001b[0;34m[\u001b[0m\u001b[0mplt\u001b[0m\u001b[0;34m.\u001b[0m\u001b[0mplot\u001b[0m\u001b[0;34m(\u001b[0m\u001b[0mnp\u001b[0m\u001b[0;34m.\u001b[0m\u001b[0mtranspose\u001b[0m\u001b[0;34m(\u001b[0m\u001b[0mtemp\u001b[0m\u001b[0;34m[\u001b[0m\u001b[0;34m:\u001b[0m\u001b[0;34m,\u001b[0m\u001b[0mc\u001b[0m\u001b[0;34m]\u001b[0m\u001b[0;34m)\u001b[0m\u001b[0;34m)\u001b[0m \u001b[0;32mfor\u001b[0m \u001b[0mc\u001b[0m \u001b[0;32min\u001b[0m \u001b[0mrange\u001b[0m\u001b[0;34m(\u001b[0m\u001b[0mn_combos\u001b[0m\u001b[0;34m)\u001b[0m\u001b[0;34m]\u001b[0m\u001b[0;34m\u001b[0m\u001b[0m\n\u001b[1;32m      3\u001b[0m \u001b[0mplt\u001b[0m\u001b[0;34m.\u001b[0m\u001b[0maxvline\u001b[0m\u001b[0;34m(\u001b[0m\u001b[0mx\u001b[0m\u001b[0;34m=\u001b[0m\u001b[0mmax_window\u001b[0m\u001b[0;34m-\u001b[0m\u001b[0mextension\u001b[0m\u001b[0;34m,\u001b[0m \u001b[0mlinestyle\u001b[0m\u001b[0;34m=\u001b[0m\u001b[0;34m'--'\u001b[0m\u001b[0;34m,\u001b[0m \u001b[0mcolor\u001b[0m\u001b[0;34m=\u001b[0m\u001b[0;34m'k'\u001b[0m\u001b[0;34m,\u001b[0m \u001b[0mlinewidth\u001b[0m\u001b[0;34m=\u001b[0m\u001b[0;36m.9\u001b[0m\u001b[0;34m)\u001b[0m\u001b[0;34m\u001b[0m\u001b[0m\n\u001b[1;32m      4\u001b[0m \u001b[0mplt\u001b[0m\u001b[0;34m.\u001b[0m\u001b[0maxvline\u001b[0m\u001b[0;34m(\u001b[0m\u001b[0mx\u001b[0m\u001b[0;34m=\u001b[0m\u001b[0mmax_window\u001b[0m\u001b[0;34m-\u001b[0m\u001b[0;34m(\u001b[0m\u001b[0mmed_trial_length\u001b[0m\u001b[0;34m+\u001b[0m\u001b[0mextension\u001b[0m\u001b[0;34m)\u001b[0m\u001b[0;34m,\u001b[0m \u001b[0mlinestyle\u001b[0m\u001b[0;34m=\u001b[0m\u001b[0;34m'--'\u001b[0m\u001b[0;34m,\u001b[0m \u001b[0mcolor\u001b[0m\u001b[0;34m=\u001b[0m\u001b[0;34m'k'\u001b[0m\u001b[0;34m,\u001b[0m \u001b[0mlinewidth\u001b[0m\u001b[0;34m=\u001b[0m\u001b[0;36m.9\u001b[0m\u001b[0;34m)\u001b[0m\u001b[0;34m\u001b[0m\u001b[0m\n",
      "\u001b[0;31mNameError\u001b[0m: name 'mean_decision' is not defined"
     ]
    }
   ],
   "source": [
    "temp = mean_decision.sum(axis=1)\n",
    "[plt.plot(np.transpose(temp[:,c])) for c in range(n_combos)]\n",
    "plt.axvline(x=max_window-extension, linestyle='--', color='k', linewidth=.9)\n",
    "plt.axvline(x=max_window-(med_trial_length+extension), linestyle='--', color='k', linewidth=.9)"
   ]
  }
 ],
 "metadata": {
  "anaconda-cloud": {},
  "kernelspec": {
   "display_name": "Python 3",
   "language": "python",
   "name": "python3"
  },
  "language_info": {
   "codemirror_mode": {
    "name": "ipython",
    "version": 3
   },
   "file_extension": ".py",
   "mimetype": "text/x-python",
   "name": "python",
   "nbconvert_exporter": "python",
   "pygments_lexer": "ipython3",
   "version": "3.6.1"
  }
 },
 "nbformat": 4,
 "nbformat_minor": 1
}
