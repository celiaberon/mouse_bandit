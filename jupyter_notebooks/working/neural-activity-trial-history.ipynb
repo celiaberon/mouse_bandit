{
 "cells": [
  {
   "cell_type": "markdown",
   "metadata": {},
   "source": [
    "This notebook aligns calcium imaging data to behavioral events. The user can then define different conditions to subset the data from comparison of activity patterns aligned these events. The notebook then returns a series of plots, heatmaps of both raw and event-based calcium signal for each epoch."
   ]
  },
  {
   "cell_type": "code",
   "execution_count": 379,
   "metadata": {},
   "outputs": [
    {
     "data": {
      "text/plain": [
       "'/Users/celia/anaconda/lib/python3.6/site-packages/matplotlib/mpl-data/matplotlibrc'"
      ]
     },
     "execution_count": 379,
     "metadata": {},
     "output_type": "execute_result"
    }
   ],
   "source": [
    "import matplotlib\n",
    "matplotlib.matplotlib_fname()"
   ]
  },
  {
   "cell_type": "code",
   "execution_count": 380,
   "metadata": {
    "collapsed": true
   },
   "outputs": [],
   "source": [
    "user_name = 'celia'"
   ]
  },
  {
   "cell_type": "code",
   "execution_count": 381,
   "metadata": {
    "collapsed": true
   },
   "outputs": [],
   "source": [
    "import sys\n",
    "sys.path.append('/Users/{}/GitHub/mouse_bandit/data_preprocessing_code'.format(user_name))\n",
    "#import support_functions as sf\n",
    "import numpy as np\n",
    "import pandas as pd\n",
    "import scipy as sp\n",
    "import scipy.io as scio\n",
    "import bandit_preprocessing as bp\n",
    "import hmm_on_behavior as hob\n",
    "import calcium_codes as cc\n",
    "sys.path.append('/Users/{}/GitHub/mouse_bandit/jupyter_notebooks/helper_functions'.format(user_name))\n",
    "import hf_behavior_imaging as hf\n",
    "import os\n",
    "import matplotlib.pyplot as plt\n",
    "import itertools\n",
    "%matplotlib inline"
   ]
  },
  {
   "cell_type": "code",
   "execution_count": 408,
   "metadata": {},
   "outputs": [
    {
     "ename": "FileNotFoundError",
     "evalue": "[Errno 2] No such file or directory: '/Volumes/Neurobio/MICROSCOPE/Celia/data/imaging/Shay/CaImAn/q45_111716_8020/'",
     "output_type": "error",
     "traceback": [
      "\u001b[0;31m---------------------------------------------------------------------------\u001b[0m",
      "\u001b[0;31mFileNotFoundError\u001b[0m                         Traceback (most recent call last)",
      "\u001b[0;32m<ipython-input-408-59ea8a77b1ef>\u001b[0m in \u001b[0;36m<module>\u001b[0;34m()\u001b[0m\n\u001b[1;32m      2\u001b[0m \u001b[0mrecord_path\u001b[0m \u001b[0;34m=\u001b[0m \u001b[0;34m'/Users/{}/GitHub/mouse_bandit/session_record.csv'\u001b[0m\u001b[0;34m.\u001b[0m\u001b[0mformat\u001b[0m\u001b[0;34m(\u001b[0m\u001b[0muser_name\u001b[0m\u001b[0;34m)\u001b[0m \u001b[0;31m# session record of behavioral data\u001b[0m\u001b[0;34m\u001b[0m\u001b[0m\n\u001b[1;32m      3\u001b[0m \u001b[0mca_data_path\u001b[0m \u001b[0;34m=\u001b[0m \u001b[0;34m'/Volumes/Neurobio/MICROSCOPE/Celia/data/imaging/Shay/CaImAn/q45_111716_8020/'\u001b[0m\u001b[0;34m.\u001b[0m\u001b[0mformat\u001b[0m\u001b[0;34m(\u001b[0m\u001b[0muser_name\u001b[0m\u001b[0;34m)\u001b[0m\u001b[0;34m\u001b[0m\u001b[0m\n\u001b[0;32m----> 4\u001b[0;31m \u001b[0mos\u001b[0m\u001b[0;34m.\u001b[0m\u001b[0mchdir\u001b[0m\u001b[0;34m(\u001b[0m\u001b[0mca_data_path\u001b[0m\u001b[0;34m)\u001b[0m\u001b[0;34m\u001b[0m\u001b[0m\n\u001b[0m\u001b[1;32m      5\u001b[0m \u001b[0;34m\u001b[0m\u001b[0m\n\u001b[1;32m      6\u001b[0m \u001b[0mf\u001b[0m \u001b[0;34m=\u001b[0m \u001b[0mh5py\u001b[0m\u001b[0;34m.\u001b[0m\u001b[0mFile\u001b[0m\u001b[0;34m(\u001b[0m\u001b[0;34m'caiman-output.h5'\u001b[0m\u001b[0;34m,\u001b[0m \u001b[0;34m'r+'\u001b[0m\u001b[0;34m)\u001b[0m\u001b[0;34m\u001b[0m\u001b[0m\n",
      "\u001b[0;31mFileNotFoundError\u001b[0m: [Errno 2] No such file or directory: '/Volumes/Neurobio/MICROSCOPE/Celia/data/imaging/Shay/CaImAn/q45_111716_8020/'"
     ]
    }
   ],
   "source": [
    "import h5py\n",
    "record_path = '/Users/{}/GitHub/mouse_bandit/session_record.csv'.format(user_name) # session record of behavioral data\n",
    "ca_data_path = '/Volumes/Neurobio/MICROSCOPE/Celia/data/imaging/Shay/CaImAn/q45_111716_8020/'.format(user_name)\n",
    "os.chdir(ca_data_path)\n",
    "\n",
    "f = h5py.File('caiman-output.h5', 'r+')\n",
    "neuron = np.array(f['ca'])\n",
    "f.close()"
   ]
  },
  {
   "cell_type": "code",
   "execution_count": 409,
   "metadata": {},
   "outputs": [
    {
     "data": {
      "text/plain": [
       "(64, 45991)"
      ]
     },
     "execution_count": 409,
     "metadata": {},
     "output_type": "execute_result"
    }
   ],
   "source": [
    "neuron.shape"
   ]
  },
  {
   "cell_type": "code",
   "execution_count": 410,
   "metadata": {},
   "outputs": [],
   "source": [
    "'''Specify mouse and session of interest'''\n",
    "\n",
    "record = pd.read_csv(record_path,index_col=0) # session record is panda df\n",
    "\n",
    "session_name  = '11082016_Q45'\n",
    "mouse_id = 'q45'\n",
    "\n",
    "record[record['Session ID'] == session_name] # take only rows from record that match session name\n",
    "\n",
    "\n",
    "'''Load in trial data from specific session'''\n",
    "\n",
    "columns = ['Elapsed Time (s)','Since last trial (s)','Trial Duration (s)','Port Poked',\n",
    "           'Right Reward Prob','Left Reward Prob','Reward Given',\n",
    "          'center_frame','decision_frame']\n",
    "\n",
    "root_dir = '/Users/{}/GitHub/mouse_bandit/data/trial_data'.format(user_name)\n",
    "\n",
    "full_name = session_name + '_trials.csv'\n",
    "\n",
    "path_name = os.path.join(root_dir,full_name)\n",
    "\n",
    "trial_df = pd.read_csv(path_name,names=columns)"
   ]
  },
  {
   "cell_type": "code",
   "execution_count": 385,
   "metadata": {
    "scrolled": true
   },
   "outputs": [
    {
     "data": {
      "text/html": [
       "<div>\n",
       "<style>\n",
       "    .dataframe thead tr:only-child th {\n",
       "        text-align: right;\n",
       "    }\n",
       "\n",
       "    .dataframe thead th {\n",
       "        text-align: left;\n",
       "    }\n",
       "\n",
       "    .dataframe tbody tr th {\n",
       "        vertical-align: top;\n",
       "    }\n",
       "</style>\n",
       "<table border=\"1\" class=\"dataframe\">\n",
       "  <thead>\n",
       "    <tr style=\"text-align: right;\">\n",
       "      <th></th>\n",
       "      <th>Owner</th>\n",
       "      <th>Session ID</th>\n",
       "      <th>Mouse ID</th>\n",
       "      <th>Date</th>\n",
       "      <th>Phase</th>\n",
       "      <th>Markov</th>\n",
       "      <th>Left Reward Prob</th>\n",
       "      <th>Right Reward Prob</th>\n",
       "      <th>Block Range Min</th>\n",
       "      <th>Block Range Max</th>\n",
       "      <th>No. Trials</th>\n",
       "      <th>No. Blocks</th>\n",
       "      <th>No. Rewards</th>\n",
       "      <th>p(high Port)</th>\n",
       "      <th>Decision Window Duration</th>\n",
       "      <th>Min Inter-trial-interval</th>\n",
       "      <th>Left Solenoid Duration</th>\n",
       "      <th>Right Solenoid Duration</th>\n",
       "    </tr>\n",
       "  </thead>\n",
       "  <tbody>\n",
       "  </tbody>\n",
       "</table>\n",
       "</div>"
      ],
      "text/plain": [
       "Empty DataFrame\n",
       "Columns: [Owner, Session ID, Mouse ID, Date, Phase, Markov, Left Reward Prob, Right Reward Prob, Block Range Min, Block Range Max, No. Trials, No. Blocks, No. Rewards, p(high Port), Decision Window Duration, Min Inter-trial-interval, Left Solenoid Duration, Right Solenoid Duration]\n",
       "Index: []"
      ]
     },
     "execution_count": 385,
     "metadata": {},
     "output_type": "execute_result"
    }
   ],
   "source": [
    "record[record['Session ID'] == session_name]"
   ]
  },
  {
   "cell_type": "code",
   "execution_count": 386,
   "metadata": {},
   "outputs": [
    {
     "data": {
      "text/html": [
       "<div>\n",
       "<style>\n",
       "    .dataframe thead tr:only-child th {\n",
       "        text-align: right;\n",
       "    }\n",
       "\n",
       "    .dataframe thead th {\n",
       "        text-align: left;\n",
       "    }\n",
       "\n",
       "    .dataframe tbody tr th {\n",
       "        vertical-align: top;\n",
       "    }\n",
       "</style>\n",
       "<table border=\"1\" class=\"dataframe\">\n",
       "  <thead>\n",
       "    <tr style=\"text-align: right;\">\n",
       "      <th></th>\n",
       "      <th>Elapsed Time (s)</th>\n",
       "      <th>Since last trial (s)</th>\n",
       "      <th>Trial Duration (s)</th>\n",
       "      <th>Port Poked</th>\n",
       "      <th>Right Reward Prob</th>\n",
       "      <th>Left Reward Prob</th>\n",
       "      <th>Reward Given</th>\n",
       "      <th>center_frame</th>\n",
       "      <th>decision_frame</th>\n",
       "    </tr>\n",
       "  </thead>\n",
       "  <tbody>\n",
       "    <tr>\n",
       "      <th>0</th>\n",
       "      <td>24.735</td>\n",
       "      <td>1.323</td>\n",
       "      <td>1.153</td>\n",
       "      <td>2</td>\n",
       "      <td>0.8</td>\n",
       "      <td>0.2</td>\n",
       "      <td>0</td>\n",
       "      <td>233</td>\n",
       "      <td>268</td>\n",
       "    </tr>\n",
       "    <tr>\n",
       "      <th>1</th>\n",
       "      <td>67.047</td>\n",
       "      <td>17.569</td>\n",
       "      <td>1.274</td>\n",
       "      <td>2</td>\n",
       "      <td>0.8</td>\n",
       "      <td>0.2</td>\n",
       "      <td>0</td>\n",
       "      <td>1498</td>\n",
       "      <td>1536</td>\n",
       "    </tr>\n",
       "    <tr>\n",
       "      <th>2</th>\n",
       "      <td>139.760</td>\n",
       "      <td>4.420</td>\n",
       "      <td>0.560</td>\n",
       "      <td>1</td>\n",
       "      <td>0.8</td>\n",
       "      <td>0.2</td>\n",
       "      <td>1</td>\n",
       "      <td>3700</td>\n",
       "      <td>3717</td>\n",
       "    </tr>\n",
       "    <tr>\n",
       "      <th>3</th>\n",
       "      <td>142.400</td>\n",
       "      <td>2.154</td>\n",
       "      <td>0.481</td>\n",
       "      <td>1</td>\n",
       "      <td>0.8</td>\n",
       "      <td>0.2</td>\n",
       "      <td>1</td>\n",
       "      <td>3782</td>\n",
       "      <td>3796</td>\n",
       "    </tr>\n",
       "    <tr>\n",
       "      <th>4</th>\n",
       "      <td>146.730</td>\n",
       "      <td>3.890</td>\n",
       "      <td>0.446</td>\n",
       "      <td>1</td>\n",
       "      <td>0.8</td>\n",
       "      <td>0.2</td>\n",
       "      <td>1</td>\n",
       "      <td>3913</td>\n",
       "      <td>3927</td>\n",
       "    </tr>\n",
       "  </tbody>\n",
       "</table>\n",
       "</div>"
      ],
      "text/plain": [
       "   Elapsed Time (s)  Since last trial (s)  Trial Duration (s)  Port Poked  \\\n",
       "0            24.735                 1.323               1.153           2   \n",
       "1            67.047                17.569               1.274           2   \n",
       "2           139.760                 4.420               0.560           1   \n",
       "3           142.400                 2.154               0.481           1   \n",
       "4           146.730                 3.890               0.446           1   \n",
       "\n",
       "   Right Reward Prob  Left Reward Prob  Reward Given  center_frame  \\\n",
       "0                0.8               0.2             0           233   \n",
       "1                0.8               0.2             0          1498   \n",
       "2                0.8               0.2             1          3700   \n",
       "3                0.8               0.2             1          3782   \n",
       "4                0.8               0.2             1          3913   \n",
       "\n",
       "   decision_frame  \n",
       "0             268  \n",
       "1            1536  \n",
       "2            3717  \n",
       "3            3796  \n",
       "4            3927  "
      ]
     },
     "execution_count": 386,
     "metadata": {},
     "output_type": "execute_result"
    }
   ],
   "source": [
    "trial_df.head()"
   ]
  },
  {
   "cell_type": "code",
   "execution_count": 387,
   "metadata": {},
   "outputs": [
    {
     "name": "stdout",
     "output_type": "stream",
     "text": [
      "right block proportion = 0.0\n"
     ]
    },
    {
     "ename": "TypeError",
     "evalue": "only length-1 arrays can be converted to Python scalars",
     "output_type": "error",
     "traceback": [
      "\u001b[0;31m---------------------------------------------------------------------------\u001b[0m",
      "\u001b[0;31mTypeError\u001b[0m                                 Traceback (most recent call last)",
      "\u001b[0;32m<ipython-input-387-660a3a7cddf8>\u001b[0m in \u001b[0;36m<module>\u001b[0;34m()\u001b[0m\n\u001b[1;32m      4\u001b[0m \u001b[0;34m\u001b[0m\u001b[0m\n\u001b[1;32m      5\u001b[0m \u001b[0mblocks\u001b[0m \u001b[0;34m=\u001b[0m \u001b[0mlist\u001b[0m\u001b[0;34m(\u001b[0m\u001b[0mnp\u001b[0m\u001b[0;34m.\u001b[0m\u001b[0mdiff\u001b[0m\u001b[0;34m(\u001b[0m\u001b[0mnp\u001b[0m\u001b[0;34m.\u001b[0m\u001b[0mconcatenate\u001b[0m\u001b[0;34m(\u001b[0m\u001b[0;34m(\u001b[0m\u001b[0mrange\u001b[0m\u001b[0;34m(\u001b[0m\u001b[0;36m1\u001b[0m\u001b[0;34m)\u001b[0m\u001b[0;34m,\u001b[0m\u001b[0mnp\u001b[0m\u001b[0;34m.\u001b[0m\u001b[0mwhere\u001b[0m\u001b[0;34m(\u001b[0m\u001b[0mnp\u001b[0m\u001b[0;34m.\u001b[0m\u001b[0mdiff\u001b[0m\u001b[0;34m(\u001b[0m\u001b[0mtrial_df\u001b[0m\u001b[0;34m[\u001b[0m\u001b[0;34m'Right Reward Prob'\u001b[0m\u001b[0;34m]\u001b[0m\u001b[0;34m)\u001b[0m \u001b[0;34m!=\u001b[0m \u001b[0;36m0\u001b[0m\u001b[0;34m)\u001b[0m\u001b[0;34m[\u001b[0m\u001b[0;36m0\u001b[0m\u001b[0;34m]\u001b[0m\u001b[0;34m)\u001b[0m\u001b[0;34m)\u001b[0m\u001b[0;34m)\u001b[0m\u001b[0;34m)\u001b[0m\u001b[0;34m\u001b[0m\u001b[0m\n\u001b[0;32m----> 6\u001b[0;31m blocks.append(int(record[record['Session ID']==session_name]['No. Trials'].values)\n\u001b[0m\u001b[1;32m      7\u001b[0m              -np.where(np.diff(trial_df['Right Reward Prob']) != 0)[0][-1]) # length of the last block at end\n\u001b[1;32m      8\u001b[0m \u001b[0mblocks\u001b[0m\u001b[0;34m\u001b[0m\u001b[0m\n",
      "\u001b[0;31mTypeError\u001b[0m: only length-1 arrays can be converted to Python scalars"
     ]
    }
   ],
   "source": [
    "reward_prob = 0.7\n",
    "blocks_right = np.sum(trial_df['Right Reward Prob']==reward_prob)/trial_df.shape[0] # check balance of blocks on each side\n",
    "print('right block proportion = %s' % blocks_right) # for 50 reward block structure I guess this isn't really necessary\n",
    "\n",
    "blocks = list(np.diff(np.concatenate((range(1),np.where(np.diff(trial_df['Right Reward Prob']) != 0)[0]))))\n",
    "blocks.append(int(record[record['Session ID']==session_name]['No. Trials'].values)\n",
    "             -np.where(np.diff(trial_df['Right Reward Prob']) != 0)[0][-1]) # length of the last block at end\n",
    "blocks"
   ]
  },
  {
   "cell_type": "markdown",
   "metadata": {},
   "source": [
    "### Add column for estimated by HMM using entire session as memory"
   ]
  },
  {
   "cell_type": "code",
   "execution_count": null,
   "metadata": {},
   "outputs": [],
   "source": [
    "columns.append('Block ID')\n",
    "\n",
    "block_id = np.asarray([x+1 for x in range(int(record[record['Session ID']==session_name]['No. Blocks'].values[0])+1)\n",
    "            for y in range(blocks[x])])\n",
    "trial_df['Block ID'] = block_id"
   ]
  },
  {
   "cell_type": "code",
   "execution_count": null,
   "metadata": {},
   "outputs": [],
   "source": [
    "trial_df.head(5)"
   ]
  },
  {
   "cell_type": "markdown",
   "metadata": {},
   "source": [
    "# convert to feature matrix\n",
    "### Add column for beliefs using past (n) trials as memory (n <= 10)"
   ]
  },
  {
   "cell_type": "code",
   "execution_count": 388,
   "metadata": {
    "collapsed": true
   },
   "outputs": [],
   "source": [
    "feature_matrix = bp.create_feature_matrix(trial_df,10,mouse_id,session_name,feature_names='Default',imaging=True)"
   ]
  },
  {
   "cell_type": "code",
   "execution_count": 389,
   "metadata": {},
   "outputs": [
    {
     "data": {
      "text/html": [
       "<div>\n",
       "<style>\n",
       "    .dataframe thead tr:only-child th {\n",
       "        text-align: right;\n",
       "    }\n",
       "\n",
       "    .dataframe thead th {\n",
       "        text-align: left;\n",
       "    }\n",
       "\n",
       "    .dataframe tbody tr th {\n",
       "        vertical-align: top;\n",
       "    }\n",
       "</style>\n",
       "<table border=\"1\" class=\"dataframe\">\n",
       "  <thead>\n",
       "    <tr style=\"text-align: right;\">\n",
       "      <th></th>\n",
       "      <th>Port Streak</th>\n",
       "      <th>Decision</th>\n",
       "      <th>Switch</th>\n",
       "      <th>Reward</th>\n",
       "    </tr>\n",
       "  </thead>\n",
       "  <tbody>\n",
       "    <tr>\n",
       "      <th>0</th>\n",
       "      <td>8.0</td>\n",
       "      <td>0.0</td>\n",
       "      <td>0.0</td>\n",
       "      <td>0.0</td>\n",
       "    </tr>\n",
       "    <tr>\n",
       "      <th>1</th>\n",
       "      <td>9.0</td>\n",
       "      <td>0.0</td>\n",
       "      <td>0.0</td>\n",
       "      <td>1.0</td>\n",
       "    </tr>\n",
       "    <tr>\n",
       "      <th>2</th>\n",
       "      <td>10.0</td>\n",
       "      <td>0.0</td>\n",
       "      <td>0.0</td>\n",
       "      <td>1.0</td>\n",
       "    </tr>\n",
       "    <tr>\n",
       "      <th>3</th>\n",
       "      <td>11.0</td>\n",
       "      <td>0.0</td>\n",
       "      <td>0.0</td>\n",
       "      <td>1.0</td>\n",
       "    </tr>\n",
       "    <tr>\n",
       "      <th>4</th>\n",
       "      <td>12.0</td>\n",
       "      <td>1.0</td>\n",
       "      <td>1.0</td>\n",
       "      <td>0.0</td>\n",
       "    </tr>\n",
       "  </tbody>\n",
       "</table>\n",
       "</div>"
      ],
      "text/plain": [
       "   Port Streak  Decision  Switch  Reward\n",
       "0          8.0       0.0     0.0     0.0\n",
       "1          9.0       0.0     0.0     1.0\n",
       "2         10.0       0.0     0.0     1.0\n",
       "3         11.0       0.0     0.0     1.0\n",
       "4         12.0       1.0     1.0     0.0"
      ]
     },
     "execution_count": 389,
     "metadata": {},
     "output_type": "execute_result"
    }
   ],
   "source": [
    "feature_matrix[['Port Streak','Decision','Switch', 'Reward']].head(5) # look at only a few columns"
   ]
  },
  {
   "cell_type": "code",
   "execution_count": 390,
   "metadata": {},
   "outputs": [
    {
     "data": {
      "text/html": [
       "<div>\n",
       "<style>\n",
       "    .dataframe thead tr:only-child th {\n",
       "        text-align: right;\n",
       "    }\n",
       "\n",
       "    .dataframe thead th {\n",
       "        text-align: left;\n",
       "    }\n",
       "\n",
       "    .dataframe tbody tr th {\n",
       "        vertical-align: top;\n",
       "    }\n",
       "</style>\n",
       "<table border=\"1\" class=\"dataframe\">\n",
       "  <thead>\n",
       "    <tr style=\"text-align: right;\">\n",
       "      <th></th>\n",
       "      <th>Mouse ID</th>\n",
       "      <th>Session ID</th>\n",
       "      <th>Trial</th>\n",
       "      <th>Block Trial</th>\n",
       "      <th>Block Reward</th>\n",
       "      <th>Port Streak</th>\n",
       "      <th>Reward Streak</th>\n",
       "      <th>10_Port</th>\n",
       "      <th>10_Reward</th>\n",
       "      <th>10_ITI</th>\n",
       "      <th>...</th>\n",
       "      <th>1_ITI</th>\n",
       "      <th>1_trialDuration</th>\n",
       "      <th>0_ITI</th>\n",
       "      <th>0_trialDuration</th>\n",
       "      <th>Decision</th>\n",
       "      <th>Switch</th>\n",
       "      <th>Higher p port</th>\n",
       "      <th>Reward</th>\n",
       "      <th>center_frame</th>\n",
       "      <th>decision_frame</th>\n",
       "    </tr>\n",
       "  </thead>\n",
       "  <tbody>\n",
       "    <tr>\n",
       "      <th>0</th>\n",
       "      <td>q45</td>\n",
       "      <td>11082016_Q45</td>\n",
       "      <td>11.0</td>\n",
       "      <td>11.0</td>\n",
       "      <td>8.0</td>\n",
       "      <td>8.0</td>\n",
       "      <td>8.0</td>\n",
       "      <td>1.0</td>\n",
       "      <td>0.0</td>\n",
       "      <td>1.323</td>\n",
       "      <td>...</td>\n",
       "      <td>3.703</td>\n",
       "      <td>0.563</td>\n",
       "      <td>3.336</td>\n",
       "      <td>0.551</td>\n",
       "      <td>0.0</td>\n",
       "      <td>0.0</td>\n",
       "      <td>1.0</td>\n",
       "      <td>0.0</td>\n",
       "      <td>4666.0</td>\n",
       "      <td>4682.0</td>\n",
       "    </tr>\n",
       "    <tr>\n",
       "      <th>1</th>\n",
       "      <td>q45</td>\n",
       "      <td>11082016_Q45</td>\n",
       "      <td>12.0</td>\n",
       "      <td>12.0</td>\n",
       "      <td>8.0</td>\n",
       "      <td>9.0</td>\n",
       "      <td>-1.0</td>\n",
       "      <td>1.0</td>\n",
       "      <td>0.0</td>\n",
       "      <td>17.569</td>\n",
       "      <td>...</td>\n",
       "      <td>3.336</td>\n",
       "      <td>0.551</td>\n",
       "      <td>2.530</td>\n",
       "      <td>0.520</td>\n",
       "      <td>0.0</td>\n",
       "      <td>0.0</td>\n",
       "      <td>1.0</td>\n",
       "      <td>1.0</td>\n",
       "      <td>4758.0</td>\n",
       "      <td>4774.0</td>\n",
       "    </tr>\n",
       "    <tr>\n",
       "      <th>2</th>\n",
       "      <td>q45</td>\n",
       "      <td>11082016_Q45</td>\n",
       "      <td>13.0</td>\n",
       "      <td>13.0</td>\n",
       "      <td>9.0</td>\n",
       "      <td>10.0</td>\n",
       "      <td>1.0</td>\n",
       "      <td>0.0</td>\n",
       "      <td>1.0</td>\n",
       "      <td>4.420</td>\n",
       "      <td>...</td>\n",
       "      <td>2.530</td>\n",
       "      <td>0.520</td>\n",
       "      <td>2.765</td>\n",
       "      <td>0.446</td>\n",
       "      <td>0.0</td>\n",
       "      <td>0.0</td>\n",
       "      <td>1.0</td>\n",
       "      <td>1.0</td>\n",
       "      <td>4857.0</td>\n",
       "      <td>4870.0</td>\n",
       "    </tr>\n",
       "    <tr>\n",
       "      <th>3</th>\n",
       "      <td>q45</td>\n",
       "      <td>11082016_Q45</td>\n",
       "      <td>14.0</td>\n",
       "      <td>14.0</td>\n",
       "      <td>10.0</td>\n",
       "      <td>11.0</td>\n",
       "      <td>2.0</td>\n",
       "      <td>0.0</td>\n",
       "      <td>1.0</td>\n",
       "      <td>2.154</td>\n",
       "      <td>...</td>\n",
       "      <td>2.765</td>\n",
       "      <td>0.446</td>\n",
       "      <td>2.560</td>\n",
       "      <td>0.471</td>\n",
       "      <td>0.0</td>\n",
       "      <td>0.0</td>\n",
       "      <td>1.0</td>\n",
       "      <td>1.0</td>\n",
       "      <td>4947.0</td>\n",
       "      <td>4961.0</td>\n",
       "    </tr>\n",
       "    <tr>\n",
       "      <th>4</th>\n",
       "      <td>q45</td>\n",
       "      <td>11082016_Q45</td>\n",
       "      <td>15.0</td>\n",
       "      <td>15.0</td>\n",
       "      <td>11.0</td>\n",
       "      <td>12.0</td>\n",
       "      <td>3.0</td>\n",
       "      <td>0.0</td>\n",
       "      <td>1.0</td>\n",
       "      <td>3.890</td>\n",
       "      <td>...</td>\n",
       "      <td>2.560</td>\n",
       "      <td>0.471</td>\n",
       "      <td>1.472</td>\n",
       "      <td>0.643</td>\n",
       "      <td>1.0</td>\n",
       "      <td>1.0</td>\n",
       "      <td>0.0</td>\n",
       "      <td>0.0</td>\n",
       "      <td>5480.0</td>\n",
       "      <td>5499.0</td>\n",
       "    </tr>\n",
       "    <tr>\n",
       "      <th>5</th>\n",
       "      <td>q45</td>\n",
       "      <td>11082016_Q45</td>\n",
       "      <td>16.0</td>\n",
       "      <td>16.0</td>\n",
       "      <td>11.0</td>\n",
       "      <td>1.0</td>\n",
       "      <td>-1.0</td>\n",
       "      <td>0.0</td>\n",
       "      <td>1.0</td>\n",
       "      <td>1.334</td>\n",
       "      <td>...</td>\n",
       "      <td>1.472</td>\n",
       "      <td>0.643</td>\n",
       "      <td>1.635</td>\n",
       "      <td>0.664</td>\n",
       "      <td>1.0</td>\n",
       "      <td>0.0</td>\n",
       "      <td>0.0</td>\n",
       "      <td>1.0</td>\n",
       "      <td>5557.0</td>\n",
       "      <td>5577.0</td>\n",
       "    </tr>\n",
       "    <tr>\n",
       "      <th>6</th>\n",
       "      <td>q45</td>\n",
       "      <td>11082016_Q45</td>\n",
       "      <td>17.0</td>\n",
       "      <td>17.0</td>\n",
       "      <td>12.0</td>\n",
       "      <td>2.0</td>\n",
       "      <td>1.0</td>\n",
       "      <td>0.0</td>\n",
       "      <td>1.0</td>\n",
       "      <td>2.421</td>\n",
       "      <td>...</td>\n",
       "      <td>1.635</td>\n",
       "      <td>0.664</td>\n",
       "      <td>2.315</td>\n",
       "      <td>0.504</td>\n",
       "      <td>1.0</td>\n",
       "      <td>0.0</td>\n",
       "      <td>0.0</td>\n",
       "      <td>0.0</td>\n",
       "      <td>6137.0</td>\n",
       "      <td>6152.0</td>\n",
       "    </tr>\n",
       "    <tr>\n",
       "      <th>7</th>\n",
       "      <td>q45</td>\n",
       "      <td>11082016_Q45</td>\n",
       "      <td>18.0</td>\n",
       "      <td>18.0</td>\n",
       "      <td>12.0</td>\n",
       "      <td>3.0</td>\n",
       "      <td>-1.0</td>\n",
       "      <td>0.0</td>\n",
       "      <td>1.0</td>\n",
       "      <td>3.211</td>\n",
       "      <td>...</td>\n",
       "      <td>2.315</td>\n",
       "      <td>0.504</td>\n",
       "      <td>1.207</td>\n",
       "      <td>0.757</td>\n",
       "      <td>1.0</td>\n",
       "      <td>0.0</td>\n",
       "      <td>0.0</td>\n",
       "      <td>0.0</td>\n",
       "      <td>6245.0</td>\n",
       "      <td>6268.0</td>\n",
       "    </tr>\n",
       "    <tr>\n",
       "      <th>8</th>\n",
       "      <td>q45</td>\n",
       "      <td>11082016_Q45</td>\n",
       "      <td>19.0</td>\n",
       "      <td>19.0</td>\n",
       "      <td>12.0</td>\n",
       "      <td>4.0</td>\n",
       "      <td>-2.0</td>\n",
       "      <td>0.0</td>\n",
       "      <td>1.0</td>\n",
       "      <td>3.199</td>\n",
       "      <td>...</td>\n",
       "      <td>1.207</td>\n",
       "      <td>0.757</td>\n",
       "      <td>1.170</td>\n",
       "      <td>0.606</td>\n",
       "      <td>0.0</td>\n",
       "      <td>1.0</td>\n",
       "      <td>1.0</td>\n",
       "      <td>1.0</td>\n",
       "      <td>6302.0</td>\n",
       "      <td>6321.0</td>\n",
       "    </tr>\n",
       "    <tr>\n",
       "      <th>9</th>\n",
       "      <td>q45</td>\n",
       "      <td>11082016_Q45</td>\n",
       "      <td>20.0</td>\n",
       "      <td>20.0</td>\n",
       "      <td>13.0</td>\n",
       "      <td>1.0</td>\n",
       "      <td>1.0</td>\n",
       "      <td>0.0</td>\n",
       "      <td>1.0</td>\n",
       "      <td>3.703</td>\n",
       "      <td>...</td>\n",
       "      <td>1.170</td>\n",
       "      <td>0.606</td>\n",
       "      <td>2.349</td>\n",
       "      <td>0.577</td>\n",
       "      <td>0.0</td>\n",
       "      <td>0.0</td>\n",
       "      <td>1.0</td>\n",
       "      <td>1.0</td>\n",
       "      <td>7080.0</td>\n",
       "      <td>7098.0</td>\n",
       "    </tr>\n",
       "  </tbody>\n",
       "</table>\n",
       "<p>10 rows × 55 columns</p>\n",
       "</div>"
      ],
      "text/plain": [
       "  Mouse ID    Session ID  Trial  Block Trial  Block Reward  Port Streak  \\\n",
       "0      q45  11082016_Q45   11.0         11.0           8.0          8.0   \n",
       "1      q45  11082016_Q45   12.0         12.0           8.0          9.0   \n",
       "2      q45  11082016_Q45   13.0         13.0           9.0         10.0   \n",
       "3      q45  11082016_Q45   14.0         14.0          10.0         11.0   \n",
       "4      q45  11082016_Q45   15.0         15.0          11.0         12.0   \n",
       "5      q45  11082016_Q45   16.0         16.0          11.0          1.0   \n",
       "6      q45  11082016_Q45   17.0         17.0          12.0          2.0   \n",
       "7      q45  11082016_Q45   18.0         18.0          12.0          3.0   \n",
       "8      q45  11082016_Q45   19.0         19.0          12.0          4.0   \n",
       "9      q45  11082016_Q45   20.0         20.0          13.0          1.0   \n",
       "\n",
       "   Reward Streak  10_Port  10_Reward  10_ITI       ...        1_ITI  \\\n",
       "0            8.0      1.0        0.0   1.323       ...        3.703   \n",
       "1           -1.0      1.0        0.0  17.569       ...        3.336   \n",
       "2            1.0      0.0        1.0   4.420       ...        2.530   \n",
       "3            2.0      0.0        1.0   2.154       ...        2.765   \n",
       "4            3.0      0.0        1.0   3.890       ...        2.560   \n",
       "5           -1.0      0.0        1.0   1.334       ...        1.472   \n",
       "6            1.0      0.0        1.0   2.421       ...        1.635   \n",
       "7           -1.0      0.0        1.0   3.211       ...        2.315   \n",
       "8           -2.0      0.0        1.0   3.199       ...        1.207   \n",
       "9            1.0      0.0        1.0   3.703       ...        1.170   \n",
       "\n",
       "   1_trialDuration  0_ITI  0_trialDuration  Decision  Switch  Higher p port  \\\n",
       "0            0.563  3.336            0.551       0.0     0.0            1.0   \n",
       "1            0.551  2.530            0.520       0.0     0.0            1.0   \n",
       "2            0.520  2.765            0.446       0.0     0.0            1.0   \n",
       "3            0.446  2.560            0.471       0.0     0.0            1.0   \n",
       "4            0.471  1.472            0.643       1.0     1.0            0.0   \n",
       "5            0.643  1.635            0.664       1.0     0.0            0.0   \n",
       "6            0.664  2.315            0.504       1.0     0.0            0.0   \n",
       "7            0.504  1.207            0.757       1.0     0.0            0.0   \n",
       "8            0.757  1.170            0.606       0.0     1.0            1.0   \n",
       "9            0.606  2.349            0.577       0.0     0.0            1.0   \n",
       "\n",
       "   Reward  center_frame  decision_frame  \n",
       "0     0.0        4666.0          4682.0  \n",
       "1     1.0        4758.0          4774.0  \n",
       "2     1.0        4857.0          4870.0  \n",
       "3     1.0        4947.0          4961.0  \n",
       "4     0.0        5480.0          5499.0  \n",
       "5     1.0        5557.0          5577.0  \n",
       "6     0.0        6137.0          6152.0  \n",
       "7     0.0        6245.0          6268.0  \n",
       "8     1.0        6302.0          6321.0  \n",
       "9     1.0        7080.0          7098.0  \n",
       "\n",
       "[10 rows x 55 columns]"
      ]
     },
     "execution_count": 390,
     "metadata": {},
     "output_type": "execute_result"
    }
   ],
   "source": [
    "feature_matrix.head(10)"
   ]
  },
  {
   "cell_type": "code",
   "execution_count": 391,
   "metadata": {},
   "outputs": [
    {
     "data": {
      "text/plain": [
       "Index(['Mouse ID', 'Session ID', 'Trial', 'Block Trial', 'Block Reward',\n",
       "       'Port Streak', 'Reward Streak', '10_Port', '10_Reward', '10_ITI',\n",
       "       '10_trialDuration', '9_Port', '9_Reward', '9_ITI', '9_trialDuration',\n",
       "       '8_Port', '8_Reward', '8_ITI', '8_trialDuration', '7_Port', '7_Reward',\n",
       "       '7_ITI', '7_trialDuration', '6_Port', '6_Reward', '6_ITI',\n",
       "       '6_trialDuration', '5_Port', '5_Reward', '5_ITI', '5_trialDuration',\n",
       "       '4_Port', '4_Reward', '4_ITI', '4_trialDuration', '3_Port', '3_Reward',\n",
       "       '3_ITI', '3_trialDuration', '2_Port', '2_Reward', '2_ITI',\n",
       "       '2_trialDuration', '1_Port', '1_Reward', '1_ITI', '1_trialDuration',\n",
       "       '0_ITI', '0_trialDuration', 'Decision', 'Switch', 'Higher p port',\n",
       "       'Reward', 'center_frame', 'decision_frame'],\n",
       "      dtype='object')"
      ]
     },
     "execution_count": 391,
     "metadata": {},
     "output_type": "execute_result"
    }
   ],
   "source": [
    "feature_matrix.columns"
   ]
  },
  {
   "cell_type": "markdown",
   "metadata": {},
   "source": [
    "### Set the parameters to input into extract_frames function\n",
    "    Decision: 0=Right, 1=Left\n",
    "    Reward: 0=unrewarded, 1=rewarded\n",
    "    Switch: 0=last trial at same port, 1=last trial at different port-->switched\n",
    "    Belief: 0-1 value where 0 represents right port and 1 represents left port"
   ]
  },
  {
   "cell_type": "code",
   "execution_count": 392,
   "metadata": {
    "collapsed": true
   },
   "outputs": [],
   "source": [
    "cond1_name = '1_Reward'; cond1_id=[0,1]\n",
    "cond1_ops = '='\n",
    "\n",
    "cond2_name = 'Reward'; cond2_id=[0,1]\n",
    "\n",
    "cond3_name = 'Decision'; cond3_id=[0,1]\n",
    "\n",
    "conditions = [cond1_name, cond2_name, cond3_name]\n",
    "n_variables = 2 # value between 1 and 3 to run the corresponding number of conditions through the rest of the notebook\n",
    "extension = 30 # number of frames included before center poke and after decision poke to set size of window\n",
    "combo_id = list(itertools.product([0, 1], repeat=n_variables)) # list of all combinations of binary conditions\n",
    "n_combos = len(combo_id) # total number of combinations of conditions\n",
    "\n",
    "if 'cond1_ops' in vars():\n",
    "    cond1_ops_b='=' # make sure the alternative operation fits with its partner \n",
    "    if cond1_ops != '=':\n",
    "        if cond1_ops == '>':\n",
    "            cond1_ops_b = '<='\n",
    "            print(cond1_ops_b)\n",
    "        elif cond1_ops == '>=':\n",
    "            cond1_ops_b = '<'\n",
    "            print(cond1_ops_b)"
   ]
  },
  {
   "cell_type": "markdown",
   "metadata": {},
   "source": [
    "### Extract the frames for the specified conditions and create arrays containing frames for beginning and end of window of interest\n",
    "\n",
    "    Set the value of 'extension' to the # of frames added before the center poke and after the decision poke\n",
    "    fr_1x2x3x = center poke, decision poke frame #s for all trials with the corresponding conditions.\n",
    "\n",
    "    At the moment this is not set up in the most efficient way...the extract_frames function operates by calling all 3 variables (i.e. Switch, Reward) across both conditions (a=0, b=1) to generate the maximum number of combinations (8 for 3 variables). If the number of variables is less than 3, it will later use the 'groupings_x' variables to concatenate these arrays into the appropriate final arrays (for example, to go from 3 variables to 2, all beginning with 1a2a get combined)"
   ]
  },
  {
   "cell_type": "code",
   "execution_count": 393,
   "metadata": {
    "collapsed": true
   },
   "outputs": [],
   "source": [
    "poke_frames = {} # initialize an empty dictionary to store center and decision poke frames for each combination of conditions\n",
    "for i in range(0,n_combos):\n",
    "    if n_variables==3: # based on number of variables specified\n",
    "        iCombo_key= \"f%s%s%s\" % (combo_id[i][0], combo_id[i][1], combo_id[i][2]) # set key name based on comboID\n",
    "        iCombo_value = hf.extract_frames(feature_matrix, cond1_name, combo_id[i][0], cond2_name, \n",
    "                                         combo_id[i][1], cond3_name, combo_id[i][2], cond1_ops=cond1_ops)\n",
    "        temp_dict = {iCombo_key:iCombo_value} # create new key-value pair with comboID and corresponding frames\n",
    "        poke_frames.update(temp_dict) # add new values to dictionary of center and decision poke frames\n",
    "    if n_variables==2:\n",
    "        iCombo_key= \"f%s%s\" % (combo_id[i][0], combo_id[i][1])\n",
    "        iCombo_value = hf.extract_frames(feature_matrix, cond1_name, combo_id[i][0], cond2_name, \n",
    "                                         combo_id[i][1], cond1_ops=cond1_ops)\n",
    "        temp_dict = {iCombo_key:iCombo_value}\n",
    "        poke_frames.update(temp_dict)\n",
    "    if n_variables==1:\n",
    "        iCombo_key= \"f%s\" %(combo_id[i][0])\n",
    "        iCombo_value = hf.extract_frames(feature_matrix, cond1_name, combo_id[i][0], cond1_ops=cond1_ops)\n",
    "        temp_dict = {iCombo_key:iCombo_value}\n",
    "        poke_frames.update(temp_dict)\n",
    "    \n",
    "poke_frames_keys = list(poke_frames.keys())"
   ]
  },
  {
   "cell_type": "markdown",
   "metadata": {},
   "source": [
    "### Create a dictionary referencing every array of start/stop frames\n",
    "    Start-stop_frames = frame starting however long the extension value was before the center poke frame, and frame that long after the decision poke\n",
    "    Dictionary is designed to construct each array based on the number of variables (conditions) specified in the beginning...this is where the groupings variables are used to condense arrays for fewer conditions."
   ]
  },
  {
   "cell_type": "code",
   "execution_count": 394,
   "metadata": {
    "collapsed": true
   },
   "outputs": [],
   "source": [
    "for i in poke_frames: # create full window based on number of frames in 'extension' variable\n",
    "    poke_frames[i][:,0] = poke_frames[i][:,0] - extension\n",
    "    poke_frames[i][:,1] = poke_frames[i][:,1] + extension"
   ]
  },
  {
   "cell_type": "markdown",
   "metadata": {},
   "source": [
    "### Set up some other parameters to be used in the rest of the script\n",
    "    detectEvents() returns binary matrix of 0s and 1s representing frames where events occurred. Replace raw trace file with this processed file and apply a Gaussian filter over events.\n",
    "    \n",
    "    --nNeurons = number of neurons output by CNMF-e\n",
    "        Redefined as number of neurons after some initial processing:\n",
    "\n",
    "    Working on a function to combine the above with previous execution of this script on the raw trace file using a flag for 'events'. Once that's complete, will need to add back in NaN cleansing (this is already incorporated into the detectEvents() function). The following arrays will then be used.\n",
    "    \n",
    "    --nan_neurons = any neurons containing NaNs in their calcium traces\n",
    "    --good_neurons = neurons not containing NaNs -- used to redefine nNeurons"
   ]
  },
  {
   "cell_type": "code",
   "execution_count": 395,
   "metadata": {
    "collapsed": true
   },
   "outputs": [],
   "source": [
    "events = cc.detectEvents(neuron)\n",
    "nNeurons = neuron.shape[0]\n",
    "nFrames = neuron.shape[1]"
   ]
  },
  {
   "cell_type": "code",
   "execution_count": 396,
   "metadata": {},
   "outputs": [],
   "source": [
    "# baseline subtraction\n",
    "for iNeuron in range(nNeurons):\n",
    "    neuron[iNeuron,:] = neuron[iNeuron,:] - np.median(neuron[iNeuron,:])"
   ]
  },
  {
   "cell_type": "code",
   "execution_count": 397,
   "metadata": {
    "collapsed": true
   },
   "outputs": [],
   "source": [
    "events[np.where(events > 0)] = 1 # set value of events to 1 so it's binary (should probably change in detectEvents)"
   ]
  },
  {
   "cell_type": "markdown",
   "metadata": {},
   "source": [
    "### Some normalization across entire session"
   ]
  },
  {
   "cell_type": "markdown",
   "metadata": {},
   "source": [
    "### Calculate the number of frames required to span the longest trial in all conditions, and use this for all trials\n",
    "    --nTrials = list of number of trials in each condition (length = n_combos)\n",
    "\n",
    "    --max_window = find window length (number of frames) required to capture center poke to decision poke for all trials (with extensions) and then just take maximum length trial across all conditions)"
   ]
  },
  {
   "cell_type": "code",
   "execution_count": 398,
   "metadata": {
    "collapsed": true
   },
   "outputs": [],
   "source": [
    "nTrials = [poke_frames[poke_frames_keys[i]].shape[0] for i in range(n_combos)]\n",
    "max_window = np.zeros(n_combos) \n",
    "window_length= np.zeros((np.max(nTrials), n_combos))\n",
    "    \n",
    "for i in range(n_combos):\n",
    "    for iTrial in range(nTrials[i]):\n",
    "        window_length[iTrial, i] = int(((poke_frames[poke_frames_keys[i]][iTrial][1]-\n",
    "                                 poke_frames[poke_frames_keys[i]][iTrial][0])))\n",
    "    max_window[i] = np.max(window_length)\n",
    "    \n",
    "max_window = int(max_window.max())"
   ]
  },
  {
   "cell_type": "markdown",
   "metadata": {},
   "source": [
    "### Aligned to center poke\n",
    "    Pull out segments of calcium traces in designated window of frames. Calculate mean fluorescence for each neuron across all trials. \n",
    "    -- aligned_start = (number of trials x number frames x number of neurons x number of combinations)\n",
    "    -- mean_center_poke = mean fluorescence (or mean number of events) for each neuron across all trials aligned to center poke\n",
    "    \n",
    "    If using raw traces, will add back in normalization here.\n"
   ]
  },
  {
   "cell_type": "code",
   "execution_count": 399,
   "metadata": {},
   "outputs": [],
   "source": [
    "aligned_start = np.zeros((np.max(nTrials), max_window, nNeurons, n_combos))\n",
    "aligned_start_raw = np.zeros((np.max(nTrials), max_window, nNeurons, n_combos))\n",
    "\n",
    "for i in range(n_combos):\n",
    "\n",
    "    # create array containing segment of raw trace for each neuron for each trial \n",
    "    # aligned to center poke\n",
    "    for iNeuron in range(nNeurons): # for each neuron\n",
    "        for iTrial in range(0,nTrials[i]): # and for each trial\n",
    "            try:\n",
    "                aligned_start[iTrial,:, iNeuron, i] = events[iNeuron,\n",
    "                    int(poke_frames[poke_frames_keys[i]][iTrial][0]):\n",
    "                    (int(poke_frames[poke_frames_keys[i]][iTrial][0])+max_window)]\n",
    "                \n",
    "                aligned_start_raw[iTrial,:, iNeuron, i] = neuron[iNeuron,\n",
    "                    int(poke_frames[poke_frames_keys[i]][iTrial][0]):\n",
    "                    (int(poke_frames[poke_frames_keys[i]][iTrial][0])+max_window)]\n",
    "                \n",
    "            except ValueError: # this happens when the last trial was shorter than the max_window\n",
    "                try:\n",
    "                    len_to_end = int(nFrames - poke_frames[poke_frames_keys[i]][iTrial][0])\n",
    "                    aligned_start[iTrial,0:len_to_end, iNeuron, i] = events[iNeuron,\n",
    "                        int(poke_frames[poke_frames_keys[i]][iTrial][0]):\n",
    "                        (int(poke_frames[poke_frames_keys[i]][iTrial][0])+len_to_end)]\n",
    "                    \n",
    "                    aligned_start_raw[iTrial,0:len_to_end, iNeuron, i] = neuron[iNeuron,\n",
    "                        int(poke_frames[poke_frames_keys[i]][iTrial][0]):\n",
    "                        (int(poke_frames[poke_frames_keys[i]][iTrial][0])+len_to_end)]\n",
    "                    \n",
    "                except ValueError: # this happens if there's an entire trial after imaging stopped...why would this happen?\n",
    "                    pass\n",
    "                \n",
    "   \n",
    "    # baseline subtraction\n",
    "    for iTrial in range(nTrials[i]):\n",
    "        for iNeuron in range(nNeurons):\n",
    "            aligned_start_raw[iTrial,:,iNeuron,i] = aligned_start_raw[iTrial,:,iNeuron,i] - np.median(aligned_start_raw[iTrial,:,iNeuron,i])\n"
   ]
  },
  {
   "cell_type": "markdown",
   "metadata": {},
   "source": [
    "### look at baseline-subtraced raw traces"
   ]
  },
  {
   "cell_type": "code",
   "execution_count": 400,
   "metadata": {
    "collapsed": true
   },
   "outputs": [],
   "source": [
    "aligned_start_raw = aligned_start_raw-aligned_start_raw.min() # get rid of negative values"
   ]
  },
  {
   "cell_type": "markdown",
   "metadata": {},
   "source": [
    "### dF/F traces (centered at 0 baseline) normalized to each neuron's activity within the aligned window"
   ]
  },
  {
   "cell_type": "code",
   "execution_count": 401,
   "metadata": {},
   "outputs": [],
   "source": [
    "norm_raw = np.zeros_like(aligned_start)\n",
    "\n",
    "# take max and min values for each neuron\n",
    "raw_min = [np.min(aligned_start_raw[:,:,x,:]) for x in range(nNeurons)]\n",
    "raw_max = [np.max(aligned_start_raw[:,:,x,:]) for x in range(nNeurons)]\n",
    "\n",
    "for iNeuron in range(nNeurons):\n",
    "    norm_raw[:,:,iNeuron,:] = (aligned_start_raw[:,:,iNeuron,:] - raw_min[iNeuron])/(raw_max[iNeuron] - raw_min[iNeuron])\n"
   ]
  },
  {
   "cell_type": "markdown",
   "metadata": {},
   "source": [
    "### dF/F traces (centered at 0 baseline) normalized to ALL neurons' activity within the aligned window"
   ]
  },
  {
   "cell_type": "code",
   "execution_count": 402,
   "metadata": {},
   "outputs": [],
   "source": [
    "# Normalize each trace across entire imaging session based on single neuron’s activity\n",
    "\n",
    "# take max and min values for each neuron\n",
    "raw_min = neuron.min(axis=1)\n",
    "raw_max = neuron.max(axis=1)\n",
    "\n",
    "norm_raw = np.zeros_like(aligned_start)\n",
    "for iNeuron in range(nNeurons):\n",
    "    norm_raw[:,:,iNeuron,:] = (aligned_start_raw[:,:,iNeuron,:] - raw_min[iNeuron])/(raw_max[iNeuron] - raw_min[iNeuron])\n"
   ]
  },
  {
   "cell_type": "markdown",
   "metadata": {},
   "source": [
    "### decision poke"
   ]
  },
  {
   "cell_type": "code",
   "execution_count": 403,
   "metadata": {},
   "outputs": [],
   "source": [
    "aligned_decision = np.zeros((np.max(nTrials), max_window, nNeurons, n_combos))\n",
    "aligned_decision_raw = np.zeros((np.max(nTrials), max_window, nNeurons, n_combos))\n",
    "\n",
    "for i in range(n_combos):\n",
    "\n",
    "    # create array containing segment of raw trace for each neuron for each trial \n",
    "    # aligned to center poke\n",
    "    for iNeuron in range(nNeurons): # for each neuron\n",
    "        for iTrial in range(0,nTrials[i]): # and for each trial\n",
    "            try:\n",
    "                aligned_decision[iTrial,:, iNeuron, i] = events[iNeuron,\n",
    "                    int(poke_frames[poke_frames_keys[i]][iTrial][1])-max_window:\n",
    "                    (int(poke_frames[poke_frames_keys[i]][iTrial][1]))]\n",
    "                \n",
    "                aligned_decision_raw[iTrial,:, iNeuron, i] = neuron[iNeuron,\n",
    "                    int(poke_frames[poke_frames_keys[i]][iTrial][1])-max_window:\n",
    "                    (int(poke_frames[poke_frames_keys[i]][iTrial][1]))]\n",
    "                \n",
    "            except ValueError: # for first trial where cannot fill max_window length\n",
    "                \n",
    "                len_to_start = int(nFrames - poke_frames[poke_frames_keys[i]][iTrial][1])\n",
    "                aligned_decision[iTrial,abs(len_to_start):max_window, iNeuron, i] = events[iNeuron,\n",
    "                    int(poke_frames[poke_frames_keys[i]][iTrial][1])-max_window:\n",
    "                    (int(poke_frames[poke_frames_keys[i]][iTrial][1]))]\n",
    "                \n",
    "                aligned_decision_raw[iTrial,abs(len_to_start):max_window, iNeuron, i] = neuron[iNeuron,\n",
    "                    int(poke_frames[poke_frames_keys[i]][iTrial][1])-max_window:\n",
    "                    (int(poke_frames[poke_frames_keys[i]][iTrial][1]))]                \n",
    "            \n",
    " # baseline subtraction\n",
    "    for iTrial in range(nTrials[i]):\n",
    "        for iNeuron in range(nNeurons):\n",
    "            aligned_decision[iTrial,:,iNeuron,i] = aligned_decision[iTrial,:,iNeuron,i] - np.median(aligned_decision[iTrial,:,iNeuron,i])\n",
    "            aligned_decision_raw[iTrial,:,iNeuron,i] = aligned_decision_raw[iTrial,:,iNeuron,i] - np.median(aligned_decision_raw[iTrial,:,iNeuron,i])\n"
   ]
  },
  {
   "cell_type": "markdown",
   "metadata": {},
   "source": [
    "### simulate photometry data"
   ]
  },
  {
   "cell_type": "code",
   "execution_count": 404,
   "metadata": {
    "collapsed": true
   },
   "outputs": [],
   "source": [
    "photometry_aligned_center = np.sum(aligned_start_raw, axis=2)\n",
    "photometry_mean_center = np.mean(photometry_aligned_center, axis=0)\n",
    "photometry_std_center = np.std(photometry_aligned_center, axis=0)"
   ]
  },
  {
   "cell_type": "code",
   "execution_count": 405,
   "metadata": {},
   "outputs": [
    {
     "name": "stdout",
     "output_type": "stream",
     "text": [
      "['1_Reward', 'Reward']\n"
     ]
    },
    {
     "data": {
      "image/png": "[encoded data removed]",
      "text/plain": [
       "<matplotlib.figure.Figure at 0x11c954b70>"
      ]
     },
     "metadata": {},
     "output_type": "display_data"
    }
   ],
   "source": [
    "ydim=n_combos/2\n",
    "plt.figure(figsize=(8,ydim*4))\n",
    "for i in range(n_combos):\n",
    "    plt.plot(photometry_mean_center[:,i])\n",
    "    plt.fill_between(range(0,max_window),y1=photometry_mean_center[:,i] - photometry_std_center[:,i] / np.sqrt(nTrials[i]), \n",
    "                                    y2 = photometry_mean_center[:,i] + photometry_std_center[:,i] / np.sqrt(nTrials[i]) ,alpha=0.2)\n",
    "    plt.legend(poke_frames_keys)\n",
    "plt.axvline(x=extension, color='k', linestyle = '--', linewidth=.9)\n",
    "plt.title((session_name, str(np.unique(trial_df['Left Reward Prob']))))\n",
    "print(conditions[0:n_variables])"
   ]
  },
  {
   "cell_type": "code",
   "execution_count": 406,
   "metadata": {},
   "outputs": [],
   "source": [
    "photometry_aligned_decision = np.sum(aligned_decision_raw, axis=2)\n",
    "photometry_mean_decision = np.mean(photometry_aligned_decision, axis=0)\n",
    "photometry_std_decision = np.std(photometry_aligned_decision, axis=0)"
   ]
  },
  {
   "cell_type": "code",
   "execution_count": 407,
   "metadata": {},
   "outputs": [
    {
     "name": "stdout",
     "output_type": "stream",
     "text": [
      "['1_Reward', 'Reward']\n"
     ]
    },
    {
     "data": {
      "image/png": "[encoded data removed]",
      "text/plain": [
       "<matplotlib.figure.Figure at 0x11c954860>"
      ]
     },
     "metadata": {},
     "output_type": "display_data"
    }
   ],
   "source": [
    "ydim=n_combos/2\n",
    "plt.figure(figsize=(8,ydim*4))\n",
    "for i in range(n_combos):\n",
    "    plt.plot(photometry_mean_decision[:,i])\n",
    "    plt.fill_between(range(0,max_window),y1=photometry_mean_decision[:,i] - photometry_std_decision[:,i] / np.sqrt(nTrials[i]), \n",
    "                                    y2 = photometry_mean_decision[:,i] + photometry_std_decision[:,i] / np.sqrt(nTrials[i]) ,alpha=0.2)\n",
    "    plt.legend(poke_frames_keys)\n",
    "plt.axvline(x=extension, color='k', linestyle = '--', linewidth=.9)\n",
    "print(conditions[0:n_variables])"
   ]
  },
  {
   "cell_type": "code",
   "execution_count": null,
   "metadata": {
    "collapsed": true
   },
   "outputs": [],
   "source": []
  },
  {
   "cell_type": "code",
   "execution_count": null,
   "metadata": {
    "collapsed": true
   },
   "outputs": [],
   "source": []
  },
  {
   "cell_type": "code",
   "execution_count": null,
   "metadata": {
    "collapsed": true
   },
   "outputs": [],
   "source": []
  }
 ],
 "metadata": {
  "anaconda-cloud": {},
  "kernelspec": {
   "display_name": "Python 3",
   "language": "python",
   "name": "python3"
  },
  "language_info": {
   "codemirror_mode": {
    "name": "ipython",
    "version": 3
   },
   "file_extension": ".py",
   "mimetype": "text/x-python",
   "name": "python",
   "nbconvert_exporter": "python",
   "pygments_lexer": "ipython3",
   "version": "3.6.1"
  }
 },
 "nbformat": 4,
 "nbformat_minor": 1
}
