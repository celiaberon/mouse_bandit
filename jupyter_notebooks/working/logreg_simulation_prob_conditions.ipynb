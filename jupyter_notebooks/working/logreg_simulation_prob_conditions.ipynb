{
 "cells": [
  {
   "cell_type": "code",
   "execution_count": 2,
   "metadata": {
    "collapsed": true
   },
   "outputs": [],
   "source": [
    "import numpy as np\n",
    "from sklearn.linear_model import LogisticRegression\n",
    "import sklearn\n",
    "import pandas as pd\n",
    "import matplotlib.pyplot as plt\n",
    "from sklearn.model_selection import train_test_split\n",
    "import getpass\n",
    "username = getpass.getuser()\n",
    "\n",
    "import sys\n",
    "sys.path.append('/Users/{:}/GitHub/mouse_bandit/jupyter_notebooks/helper_functions'.format(username))\n",
    "import bandit_modeling as bm"
   ]
  },
  {
   "cell_type": "code",
   "execution_count": 3,
   "metadata": {
    "collapsed": true
   },
   "outputs": [],
   "source": [
    "def logreg_predict_proba_metrics(X, y, c, n_simulations=10, test=0.3, sync=False, seed=[], choice=False):\n",
    "\n",
    "    # select seed for each simulation\n",
    "    if len(seed)!=n_simulations:\n",
    "        seed = np.random.randint(100000, size=n_simulations)\n",
    "\n",
    "    # initialize arrays for LR results\n",
    "    lr_predict = np.zeros((int(np.round(test*len(X))),n_simulations))\n",
    "    lr_proba = np.zeros((int(np.round(test*len(X))), 2))\n",
    "    lr_score = np.zeros(n_simulations)\n",
    "    metrics = np.zeros((4,2))\n",
    "    coefs = np.zeros((X.shape[1]))\n",
    "    y_test_full = np.zeros((int(np.round(test*len(X))),n_simulations))\n",
    "\n",
    "    for i in range(n_simulations):\n",
    "        X_train, X_test, y_train, y_test, c_train, c_test = train_test_split(X, y, c, test_size=test, random_state=seed[i])\n",
    "\n",
    "        lr = LogisticRegression()\n",
    "        lr.fit(X_train, y_train)\n",
    "\n",
    "        lr_proba = np.dstack((lr_proba, lr.predict_proba(X_test)))\n",
    "        lr_predict[:,i] = lr.predict(X_test)\n",
    "        lr_score[i] = lr.score(X_test, y_test)\n",
    "        metrics_temp = sklearn.metrics.precision_recall_fscore_support(y_test, lr_predict[:,i])\n",
    "        metrics = np.dstack((metrics, np.array(metrics_temp)))\n",
    "        \n",
    "        if choice==True:\n",
    "            metrics_switch = np.zeros((4,2))\n",
    "            switch_predict = np.zeros((int(np.round(test*len(X))),n_simulations))\n",
    "            \n",
    "            prev_choice = c_test['1_Port']\n",
    "            switch_true = np.abs(y_test-prev_choice)\n",
    "            switch_predict[:,i] = np.abs(lr_predict[:,i]-prev_choice)\n",
    "            metrics_switch_temp = sklearn.metrics.precision_recall_fscore_support(switch_true, switch_predict[:,i])\n",
    "            metrics_switch = np.dstack((metrics_switch, np.array(metrics_switch_temp)))\n",
    "\n",
    "        coefs = np.dstack((coefs, lr.coef_))\n",
    "        y_test_full[:,i] = y_test\n",
    "    # clean up from initializing 3d stacks with zeros\n",
    "    metrics = metrics[:,:,1:n_simulations+1]\n",
    "    lr_proba = lr_proba[:,:,1:n_simulations+1]\n",
    "    coefs = coefs[:,:,1:n_simulations+1]\n",
    "    \n",
    "    if sync==True: \n",
    "        return metrics, lr_predict, lr_proba, lr_score, seed, coefs, y_test_full\n",
    "    elif choice==True:\n",
    "        metrics_switch = metrics_switch[:,:,1:n_simulations+1]\n",
    "\n",
    "        return metrics_switch, lr_predict, lr_proba, lr_score, coefs, y_test_full\n",
    "    else:\n",
    "        return metrics, lr_predict, lr_proba, lr_score, coefs, y_test_full"
   ]
  },
  {
   "cell_type": "code",
   "execution_count": 5,
   "metadata": {
    "scrolled": true
   },
   "outputs": [
    {
     "data": {
      "image/png": "[encoded data removed]",
      "text/plain": [
       "<matplotlib.figure.Figure at 0x10e7cb208>"
      ]
     },
     "metadata": {},
     "output_type": "display_data"
    }
   ],
   "source": [
    "n_sims=100\n",
    "data = pd.read_csv('/Users/{:}/Dropbox (HMS)/mouse_bandit/markov_full.csv'.format(username), index_col=0)\n",
    "\n",
    "seed1 = np.random.randint(100000,size=n_sims)\n",
    "\n",
    "X_9010, y_9010, c_9010 = bm.feature_history(data[data['Condition']=='90-10'], \n",
    "                                            X_dataframe='choice', y_dataframe='choice')\n",
    "metrics9010, lr_predict9010, lr_proba9010, lr_score9010, coefs9010, y_test_9010 = logreg_predict_proba_metrics(X_9010, \n",
    "                                            y_9010, c_9010, n_simulations=n_sims, seed=seed1, choice=True)\n",
    "\n",
    "X_8020, y_8020, c_8020 = bm.feature_history(data[data['Condition']=='80-20'], \n",
    "                                            X_dataframe='choice', y_dataframe='choice')\n",
    "metrics8020, lr_predict8020, lr_proba8020, lr_score8020, coefs8020, y_test_8020 = logreg_predict_proba_metrics(X_8020, \n",
    "                                            y_8020, c_8020, n_simulations=n_sims, seed=seed1, choice=True)\n",
    "\n",
    "X_7030, y_7030, c_7030 = bm.feature_history(data[data['Condition']=='70-30'], \n",
    "                                            X_dataframe='choice', y_dataframe='choice')\n",
    "metrics7030, lr_predict7030, lr_proba7030, lr_score7030, coefs7030, y_test_7030 = logreg_predict_proba_metrics(X_7030, \n",
    "                                            y_7030, c_7030, n_simulations=n_sims, seed=seed1, choice=True)\n",
    "\n",
    "'''PLOT'''\n",
    "\n",
    "height_9010 = [np.mean(lr_score9010), np.mean(metrics9010[1,0,:]), np.mean(metrics9010[1,1,:])]\n",
    "ystd1 = [np.std(lr_score9010), np.std(metrics9010[1,0,:]), np.std(metrics9010[1,1,:])]\n",
    "yerr1 = [ystd1[i] / np.sqrt(n_sims) for i in range(len(ystd1))]\n",
    "\n",
    "height_8020 = [np.mean(lr_score8020), np.mean(metrics8020[1,0,:]), np.mean(metrics8020[1,1,:])]\n",
    "ystd2 = [np.std(lr_score8020), np.std(metrics8020[1,0,:]), np.std(metrics8020[1,1,:])]\n",
    "yerr2 = [ystd2[i] / np.sqrt(n_sims) for i in range(len(ystd2))]\n",
    "\n",
    "height_7030 = [np.mean(lr_score7030), np.mean(metrics7030[1,0,:]), np.mean(metrics7030[1,1,:])]\n",
    "ystd3 = [np.std(lr_score7030), np.std(metrics7030[1,0,:]), np.std(metrics7030[1,1,:])]\n",
    "yerr3 = [ystd3[i] / np.sqrt(n_sims) for i in range(len(ystd3))]\n",
    "\n",
    "barWidth = 0.2\n",
    "# The x position of bars\n",
    "r1 = np.arange(len(height_9010))\n",
    "r2 = [x + barWidth for x in r1]\n",
    "r3 = [x + barWidth for x in r2]\n",
    "\n",
    "conditions = ['full', 'stay', 'switch']\n",
    "plt.bar(r1, height_9010, width=barWidth, label='90-10', yerr=yerr1, capsize=3)\n",
    "plt.bar(r2, height_8020, width=barWidth, label='80-20', yerr=yerr2, capsize=3)\n",
    "plt.bar(r3, height_7030, width=barWidth, label='70-30', yerr=yerr3, capsize=3)\n",
    "\n",
    "plt.xticks(r2, conditions, size=15)\n",
    "plt.ylabel('accuracy', size=15)\n",
    "plt.legend()\n",
    "plt.show()"
   ]
  },
  {
   "cell_type": "code",
   "execution_count": null,
   "metadata": {
    "collapsed": true
   },
   "outputs": [],
   "source": [
    "from sklearn.metrics import roc_curve, roc_auc_score\n",
    "\n",
    "fpr, tpr, _ = roc_curve(y_test_9010[:,0], lr_proba9010[:,1,0])\n",
    "plt.plot(fpr, tpr, label=\"90-10\")\n",
    "fpr, tpr, _ = roc_curve(y_test_8020[:,0], lr_proba8020[:,1,0])\n",
    "plt.plot(fpr, tpr, label=\"80-20\")\n",
    "fpr, tpr, _ = roc_curve(y_test_7030[:,0], lr_proba7030[:,1,0])\n",
    "plt.plot(fpr, tpr, label=\"70-30\")\n",
    "\n",
    "plt.plot([0, 1], [0, 1], ':k')\n",
    "plt.xlabel('false postive rate', size=15)\n",
    "plt.ylabel('true positive rate', size=15)\n",
    "plt.title('Logistic regression ROC curve', size=15)\n",
    "plt.legend(prop={'size':15})\n",
    "plt.show()"
   ]
  },
  {
   "cell_type": "code",
   "execution_count": 9,
   "metadata": {},
   "outputs": [
    {
     "data": {
      "image/png": "[encoded data removed]",
      "text/plain": [
       "<matplotlib.figure.Figure at 0x10f3118d0>"
      ]
     },
     "metadata": {},
     "output_type": "display_data"
    }
   ],
   "source": [
    "plt.figure(figsize=(5,3))\n",
    "#plt.plot(np.arange(-coefs9010.shape[1],0),coefs9010.mean(axis=2)[0,:])\n",
    "plt.scatter(np.arange(-coefs9010.shape[1],0),coefs9010.mean(axis=2)[0,:], label='90-10')\n",
    "yerr1 = coefs9010.std(axis=2)/np.sqrt(n_sims)\n",
    "plt.errorbar(np.arange(-coefs9010.shape[1],0),coefs9010.mean(axis=2)[0,:], yerr=yerr1[0,:])\n",
    "\n",
    "#plt.plot(np.arange(-coefs8020.shape[1],0),coefs8020.mean(axis=2)[0,:])\n",
    "plt.scatter(np.arange(-coefs8020.shape[1],0),coefs8020.mean(axis=2)[0,:], label='80-20')\n",
    "yerr1 = coefs8020.std(axis=2)/np.sqrt(n_sims)\n",
    "plt.errorbar(np.arange(-coefs8020.shape[1],0),coefs8020.mean(axis=2)[0,:], yerr=yerr1[0,:])\n",
    "\n",
    "#plt.plot(np.arange(-coefs7030.shape[1],0),coefs7030.mean(axis=2)[0,:])\n",
    "plt.scatter(np.arange(-coefs7030.shape[1],0),coefs7030.mean(axis=2)[0,:], label='70-30')\n",
    "yerr1 = coefs7030.std(axis=2)/np.sqrt(n_sims)\n",
    "plt.errorbar(np.arange(-coefs7030.shape[1],0),coefs7030.mean(axis=2)[0,:], yerr=yerr1[0,:])\n",
    "\n",
    "plt.ylabel('coefficient value', size=15)\n",
    "plt.xlabel('# trials back', size=15)\n",
    "plt.legend()\n",
    "\n",
    "\n",
    "plt.show()"
   ]
  },
  {
   "cell_type": "markdown",
   "metadata": {},
   "source": [
    "## Shuffled data for null"
   ]
  },
  {
   "cell_type": "code",
   "execution_count": null,
   "metadata": {
    "collapsed": true
   },
   "outputs": [],
   "source": []
  },
  {
   "cell_type": "code",
   "execution_count": null,
   "metadata": {
    "collapsed": true
   },
   "outputs": [],
   "source": [
    "prob_labels = ['full', 'stay', 'switch']\n",
    "plt.bar(r1, height_a, width=barWidth, yerr=yerr1, capsize=3, label='90-10')\n",
    "plt.bar(r2, height_b, width=barWidth, yerr=yerr2, capsize=3, label='80-20')\n",
    "plt.bar(r3, height_c, width=barWidth, yerr=yerr3, capsize=3, label='70-30')\n",
    "plt.bar(r1[2], height_a_shuffled, width=barWidth, label='shuffled', color='gray', alpha=0.8, edgeColor='gray')\n",
    "plt.bar(r2[2], height_b_shuffled, width=barWidth, color='gray', alpha=0.8)\n",
    "plt.bar(r3[2], height_c_shuffled, width=barWidth, color='gray', alpha=0.8)\n",
    "\n",
    "\n",
    "plt.xticks(r2, prob_labels, size=15)\n",
    "plt.ylabel('accuracy', size=15)\n",
    "plt.legend()\n",
    "\n"
   ]
  },
  {
   "cell_type": "code",
   "execution_count": null,
   "metadata": {
    "collapsed": true
   },
   "outputs": [],
   "source": [
    "X, y, c = bm.feature_history(data, X_dataframe='choice', y_dataframe='choice')\n",
    "metrics, lr_predict, lr_proba, lr_score, coefs = logreg_predict_proba_metrics(X, \n",
    "                                                                    y, c, n_simulations=100, seed=seed1, choice=True)\n",
    "\n",
    "height = [np.mean(lr_score), np.mean(metrics[1,0,:]), np.mean(metrics[1,1,:])]\n",
    "ystd1 = [np.std(lr_score), np.std(metrics[1,0,:]), np.std(metrics[1,1,:])]\n",
    "yerr1 = [ystd1[i] / np.sqrt(n_sims) for i in range(len(ystd1))]\n",
    "\n",
    "barWidth = 0.4\n",
    "# The x position of bars\n",
    "r1 = np.arange(len(height))\n",
    "\n",
    "conditions = ['full', 'stay', 'switch']\n",
    "plt.bar(r1, height, width=barWidth, yerr=yerr1, capsize=3)\n",
    "\n",
    "plt.xticks(range(len(height)), conditions, size=20)\n",
    "plt.ylabel('accuracy', size=20)\n",
    "plt.legend()\n",
    "plt.show()"
   ]
  },
  {
   "cell_type": "code",
   "execution_count": null,
   "metadata": {
    "collapsed": true
   },
   "outputs": [],
   "source": [
    "metrics_switch[3,1]/metrics_switch[3,:].sum() # prevalence of switches"
   ]
  }
 ],
 "metadata": {
  "kernelspec": {
   "display_name": "Python 3",
   "language": "python",
   "name": "python3"
  },
  "language_info": {
   "codemirror_mode": {
    "name": "ipython",
    "version": 3
   },
   "file_extension": ".py",
   "mimetype": "text/x-python",
   "name": "python",
   "nbconvert_exporter": "python",
   "pygments_lexer": "ipython3",
   "version": "3.6.1"
  }
 },
 "nbformat": 4,
 "nbformat_minor": 2
}
