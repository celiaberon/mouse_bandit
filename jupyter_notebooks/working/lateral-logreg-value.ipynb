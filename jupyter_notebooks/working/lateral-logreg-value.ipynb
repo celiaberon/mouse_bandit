{
 "cells": [
  {
   "cell_type": "code",
   "execution_count": 4,
   "metadata": {
    "collapsed": true
   },
   "outputs": [],
   "source": [
    "import numpy as np\n",
    "import pandas as pd\n",
    "import matplotlib.pyplot as plt\n",
    "import sklearn\n",
    "from sklearn.linear_model import LogisticRegression\n",
    "from sklearn.model_selection import train_test_split\n",
    "import getpass\n",
    "username = getpass.getuser()\n",
    "\n",
    "import sys\n",
    "sys.path.append('/Users/{:}/GitHub/mouse_bandit/jupyter_notebooks/helper_functions'.format(username))\n",
    "import bandit_modeling as bm\n",
    "\n",
    "%matplotlib inline"
   ]
  },
  {
   "cell_type": "code",
   "execution_count": 2,
   "metadata": {},
   "outputs": [
    {
     "data": {
      "text/html": [
       "<div>\n",
       "<table border=\"1\" class=\"dataframe\">\n",
       "  <thead>\n",
       "    <tr style=\"text-align: right;\">\n",
       "      <th></th>\n",
       "      <th>index</th>\n",
       "      <th>Mouse ID</th>\n",
       "      <th>Session ID</th>\n",
       "      <th>Trial</th>\n",
       "      <th>Block Trial</th>\n",
       "      <th>Block Reward</th>\n",
       "      <th>Port Streak</th>\n",
       "      <th>Reward Streak</th>\n",
       "      <th>10_Port</th>\n",
       "      <th>10_Reward</th>\n",
       "      <th>...</th>\n",
       "      <th>1_trialDuration</th>\n",
       "      <th>0_ITI</th>\n",
       "      <th>0_trialDuration</th>\n",
       "      <th>Decision</th>\n",
       "      <th>Switch</th>\n",
       "      <th>Higher p port</th>\n",
       "      <th>Reward</th>\n",
       "      <th>Condition</th>\n",
       "      <th>Block ID</th>\n",
       "      <th>Current Block Length</th>\n",
       "    </tr>\n",
       "  </thead>\n",
       "  <tbody>\n",
       "    <tr>\n",
       "      <th>106400</th>\n",
       "      <td>0</td>\n",
       "      <td>Baby</td>\n",
       "      <td>01112018_Baby</td>\n",
       "      <td>11.0</td>\n",
       "      <td>11.0</td>\n",
       "      <td>5.0</td>\n",
       "      <td>2.0</td>\n",
       "      <td>-2.0</td>\n",
       "      <td>0.0</td>\n",
       "      <td>1.0</td>\n",
       "      <td>...</td>\n",
       "      <td>0.566</td>\n",
       "      <td>1.544</td>\n",
       "      <td>0.560</td>\n",
       "      <td>0.0</td>\n",
       "      <td>1.0</td>\n",
       "      <td>1.0</td>\n",
       "      <td>1.0</td>\n",
       "      <td>80-20</td>\n",
       "      <td>1.0</td>\n",
       "      <td>13.0</td>\n",
       "    </tr>\n",
       "    <tr>\n",
       "      <th>106401</th>\n",
       "      <td>1</td>\n",
       "      <td>Baby</td>\n",
       "      <td>01112018_Baby</td>\n",
       "      <td>12.0</td>\n",
       "      <td>12.0</td>\n",
       "      <td>6.0</td>\n",
       "      <td>1.0</td>\n",
       "      <td>1.0</td>\n",
       "      <td>0.0</td>\n",
       "      <td>1.0</td>\n",
       "      <td>...</td>\n",
       "      <td>0.560</td>\n",
       "      <td>2.506</td>\n",
       "      <td>0.497</td>\n",
       "      <td>0.0</td>\n",
       "      <td>0.0</td>\n",
       "      <td>1.0</td>\n",
       "      <td>1.0</td>\n",
       "      <td>80-20</td>\n",
       "      <td>1.0</td>\n",
       "      <td>13.0</td>\n",
       "    </tr>\n",
       "    <tr>\n",
       "      <th>106402</th>\n",
       "      <td>2</td>\n",
       "      <td>Baby</td>\n",
       "      <td>01112018_Baby</td>\n",
       "      <td>13.0</td>\n",
       "      <td>0.0</td>\n",
       "      <td>7.0</td>\n",
       "      <td>2.0</td>\n",
       "      <td>2.0</td>\n",
       "      <td>0.0</td>\n",
       "      <td>0.0</td>\n",
       "      <td>...</td>\n",
       "      <td>0.497</td>\n",
       "      <td>2.526</td>\n",
       "      <td>0.562</td>\n",
       "      <td>0.0</td>\n",
       "      <td>0.0</td>\n",
       "      <td>0.0</td>\n",
       "      <td>0.0</td>\n",
       "      <td>80-20</td>\n",
       "      <td>2.0</td>\n",
       "      <td>53.0</td>\n",
       "    </tr>\n",
       "    <tr>\n",
       "      <th>106403</th>\n",
       "      <td>3</td>\n",
       "      <td>Baby</td>\n",
       "      <td>01112018_Baby</td>\n",
       "      <td>14.0</td>\n",
       "      <td>1.0</td>\n",
       "      <td>0.0</td>\n",
       "      <td>3.0</td>\n",
       "      <td>-1.0</td>\n",
       "      <td>1.0</td>\n",
       "      <td>0.0</td>\n",
       "      <td>...</td>\n",
       "      <td>0.562</td>\n",
       "      <td>1.780</td>\n",
       "      <td>0.587</td>\n",
       "      <td>0.0</td>\n",
       "      <td>0.0</td>\n",
       "      <td>0.0</td>\n",
       "      <td>0.0</td>\n",
       "      <td>80-20</td>\n",
       "      <td>2.0</td>\n",
       "      <td>53.0</td>\n",
       "    </tr>\n",
       "    <tr>\n",
       "      <th>106404</th>\n",
       "      <td>4</td>\n",
       "      <td>Baby</td>\n",
       "      <td>01112018_Baby</td>\n",
       "      <td>15.0</td>\n",
       "      <td>2.0</td>\n",
       "      <td>0.0</td>\n",
       "      <td>4.0</td>\n",
       "      <td>-2.0</td>\n",
       "      <td>0.0</td>\n",
       "      <td>1.0</td>\n",
       "      <td>...</td>\n",
       "      <td>0.587</td>\n",
       "      <td>4.313</td>\n",
       "      <td>0.382</td>\n",
       "      <td>1.0</td>\n",
       "      <td>1.0</td>\n",
       "      <td>1.0</td>\n",
       "      <td>1.0</td>\n",
       "      <td>80-20</td>\n",
       "      <td>2.0</td>\n",
       "      <td>53.0</td>\n",
       "    </tr>\n",
       "  </tbody>\n",
       "</table>\n",
       "<p>5 rows × 57 columns</p>\n",
       "</div>"
      ],
      "text/plain": [
       "        index Mouse ID     Session ID  Trial  Block Trial  Block Reward  \\\n",
       "106400      0     Baby  01112018_Baby   11.0         11.0           5.0   \n",
       "106401      1     Baby  01112018_Baby   12.0         12.0           6.0   \n",
       "106402      2     Baby  01112018_Baby   13.0          0.0           7.0   \n",
       "106403      3     Baby  01112018_Baby   14.0          1.0           0.0   \n",
       "106404      4     Baby  01112018_Baby   15.0          2.0           0.0   \n",
       "\n",
       "        Port Streak  Reward Streak  10_Port  10_Reward          ...           \\\n",
       "106400          2.0           -2.0      0.0        1.0          ...            \n",
       "106401          1.0            1.0      0.0        1.0          ...            \n",
       "106402          2.0            2.0      0.0        0.0          ...            \n",
       "106403          3.0           -1.0      1.0        0.0          ...            \n",
       "106404          4.0           -2.0      0.0        1.0          ...            \n",
       "\n",
       "        1_trialDuration  0_ITI  0_trialDuration  Decision  Switch  \\\n",
       "106400            0.566  1.544            0.560       0.0     1.0   \n",
       "106401            0.560  2.506            0.497       0.0     0.0   \n",
       "106402            0.497  2.526            0.562       0.0     0.0   \n",
       "106403            0.562  1.780            0.587       0.0     0.0   \n",
       "106404            0.587  4.313            0.382       1.0     1.0   \n",
       "\n",
       "        Higher p port  Reward  Condition  Block ID  Current Block Length  \n",
       "106400            1.0     1.0      80-20       1.0                  13.0  \n",
       "106401            1.0     1.0      80-20       1.0                  13.0  \n",
       "106402            0.0     0.0      80-20       2.0                  53.0  \n",
       "106403            0.0     0.0      80-20       2.0                  53.0  \n",
       "106404            1.0     1.0      80-20       2.0                  53.0  \n",
       "\n",
       "[5 rows x 57 columns]"
      ]
     },
     "execution_count": 2,
     "metadata": {},
     "output_type": "execute_result"
    }
   ],
   "source": [
    "data = pd.read_csv('/Users/{:}/Dropbox (HMS)/mouse_bandit/markov_full.csv'.format(username), index_col=0)\n",
    "data = data[data['Condition']=='80-20']\n",
    "data.head()"
   ]
  },
  {
   "cell_type": "markdown",
   "metadata": {},
   "source": [
    "### make some new dataframes\n",
    "    X has predictor variables (choice and reward history for past n trials) relevant variables for logit model\n",
    "    Y has dependent variable (choice on current trial)"
   ]
  },
  {
   "cell_type": "code",
   "execution_count": 7,
   "metadata": {},
   "outputs": [],
   "source": [
    "X_value_history, y_value_history, c = bm.feature_history(data, X_dataframe='value', y_dataframe='choice')"
   ]
  },
  {
   "cell_type": "code",
   "execution_count": 8,
   "metadata": {
    "collapsed": true
   },
   "outputs": [],
   "source": [
    "Y_switch_right = data['Decision'] + data['Switch'] == 2\n",
    "Y_switch_left = data['Decision'].values + data['Switch']*2 == 2\n",
    "Y_switch_full = data['Switch']\n",
    "\n",
    "#Y_switch_right_history = (choice_history.drop('10_Port',axis=1).values + switch_history.values) == 2\n",
    "#Y_switch_left_history = (choice_history.drop('10_Port', axis=1).values + switch_history.values*2) == 2"
   ]
  },
  {
   "cell_type": "code",
   "execution_count": 9,
   "metadata": {},
   "outputs": [
    {
     "ename": "NameError",
     "evalue": "name 'lr1_proba_R' is not defined",
     "output_type": "error",
     "traceback": [
      "\u001b[0;31m---------------------------------------------------------------------------\u001b[0m",
      "\u001b[0;31mNameError\u001b[0m                                 Traceback (most recent call last)",
      "\u001b[0;32m<ipython-input-9-b55be28e83ac>\u001b[0m in \u001b[0;36m<module>\u001b[0;34m()\u001b[0m\n\u001b[1;32m      2\u001b[0m \u001b[0mdecision_boundaries\u001b[0m \u001b[0;34m=\u001b[0m \u001b[0mnp\u001b[0m\u001b[0;34m.\u001b[0m\u001b[0marange\u001b[0m\u001b[0;34m(\u001b[0m\u001b[0;36m0\u001b[0m\u001b[0;34m,\u001b[0m\u001b[0;36m1\u001b[0m\u001b[0;34m,\u001b[0m\u001b[0;36m0.05\u001b[0m\u001b[0;34m)\u001b[0m\u001b[0;34m\u001b[0m\u001b[0m\n\u001b[1;32m      3\u001b[0m \u001b[0;32mfor\u001b[0m \u001b[0mboundary\u001b[0m \u001b[0;32min\u001b[0m \u001b[0mdecision_boundaries\u001b[0m\u001b[0;34m:\u001b[0m\u001b[0;34m\u001b[0m\u001b[0m\n\u001b[0;32m----> 4\u001b[0;31m     \u001b[0mtemp_predict\u001b[0m \u001b[0;34m=\u001b[0m \u001b[0mlr1_proba_R\u001b[0m\u001b[0;34m[\u001b[0m\u001b[0;34m:\u001b[0m\u001b[0;34m,\u001b[0m\u001b[0;36m1\u001b[0m\u001b[0;34m]\u001b[0m\u001b[0;34m>\u001b[0m\u001b[0mboundary\u001b[0m\u001b[0;34m\u001b[0m\u001b[0m\n\u001b[0m\u001b[1;32m      5\u001b[0m     \u001b[0mmetrics_temp\u001b[0m \u001b[0;34m=\u001b[0m \u001b[0msklearn\u001b[0m\u001b[0;34m.\u001b[0m\u001b[0mmetrics\u001b[0m\u001b[0;34m.\u001b[0m\u001b[0mprecision_recall_fscore_support\u001b[0m\u001b[0;34m(\u001b[0m\u001b[0my_test\u001b[0m\u001b[0;34m,\u001b[0m \u001b[0mtemp_predict\u001b[0m\u001b[0;34m)\u001b[0m\u001b[0;34m\u001b[0m\u001b[0m\n\u001b[1;32m      6\u001b[0m     \u001b[0mmetrics_db\u001b[0m\u001b[0;34m.\u001b[0m\u001b[0mappend\u001b[0m\u001b[0;34m(\u001b[0m\u001b[0mmetrics_temp\u001b[0m\u001b[0;34m)\u001b[0m\u001b[0;34m\u001b[0m\u001b[0m\n",
      "\u001b[0;31mNameError\u001b[0m: name 'lr1_proba_R' is not defined"
     ]
    }
   ],
   "source": [
    "metrics_db = []\n",
    "decision_boundaries = np.arange(0,1,0.05)\n",
    "for boundary in decision_boundaries:\n",
    "    temp_predict = lr1_proba_R[:,1]>boundary\n",
    "    metrics_temp = sklearn.metrics.precision_recall_fscore_support(y_test, temp_predict)\n",
    "    metrics_db.append(metrics_temp)"
   ]
  },
  {
   "cell_type": "code",
   "execution_count": null,
   "metadata": {},
   "outputs": [],
   "source": [
    "# some code for optimizing parameters, come back to later\n",
    "\n",
    "penalty = ['l1', 'l2']\n",
    "C = np.logspace(0,4,10)\n",
    "hyperparameters = dict(C=C, penalty=penalty)\n",
    "lr_gridsearch = sklearn.model_selection.GridSearchCV(LogisticRegression(), hyperparameters, cv=5, verbose=0)\n",
    "    \n",
    "best_model = lr_gridsearch.fit(X_train, y_train)\n",
    "\n",
    "print('Best Penalty:', best_model.best_estimator_.get_params()['penalty'])\n",
    "print('Best C:', best_model.best_estimator_.get_params()['C'])\n",
    "\n",
    "y_predict = best_model.predict(X_test)\n",
    "y_proba = best_model.predict_proba(X_test)"
   ]
  },
  {
   "cell_type": "markdown",
   "metadata": {},
   "source": [
    "### lr3 - use action value to predict choice"
   ]
  },
  {
   "cell_type": "code",
   "execution_count": 10,
   "metadata": {},
   "outputs": [
    {
     "name": "stderr",
     "output_type": "stream",
     "text": [
      "/Users/celiaberon/anaconda/lib/python3.6/site-packages/sklearn/metrics/classification.py:1113: UndefinedMetricWarning: Precision and F-score are ill-defined and being set to 0.0 in labels with no predicted samples.\n",
      "  'precision', 'predicted', average, warn_for)\n"
     ]
    }
   ],
   "source": [
    "'''LEFT'''\n",
    "X_train, X_test, y_train, y_test = train_test_split(X_value_history, Y_switch_left, test_size=0.3, random_state=1)\n",
    "\n",
    "lr3 = LogisticRegression()\n",
    "lr3.fit(X_train, y_train)\n",
    "\n",
    "lr3_proba_L = lr3.predict_proba(X_test)\n",
    "lr3_predict_L = lr3.predict(X_test)\n",
    "\n",
    "score_lr3_L = lr3.score(X_test, y_test)\n",
    "metrics_lr3_L = sklearn.metrics.precision_recall_fscore_support(y_test, lr3_predict_L)\n",
    "\n",
    "\n",
    "'''RIGHT'''\n",
    "X_train, X_test, y_train, y_test = train_test_split(X_value_history, Y_switch_right, test_size=0.3, random_state=1)\n",
    "\n",
    "lr3 = LogisticRegression()\n",
    "lr3.fit(X_train, y_train)\n",
    "\n",
    "lr3_proba_R = lr3.predict_proba(X_test)\n",
    "lr3_predict_R = lr3.predict(X_test)\n",
    "\n",
    "score_lr3_R = lr3.score(X_test, y_test)\n",
    "metrics_lr3_R = sklearn.metrics.precision_recall_fscore_support(y_test, lr3_predict_R)\n",
    "\n",
    "'''INTEGRATED'''\n",
    "X_train, X_test, y_train, y_test_full = train_test_split(X_value_history, Y_switch_full, test_size=0.3, random_state=1)\n",
    "\n",
    "y_proba = np.array([max(lr3_proba_L[i,1], lr3_proba_R[i,1]) for i in range(lr3_proba_L.shape[0])])\n",
    "y_predict = y_proba[:]>0.2\n",
    "np.sum(y_predict)\n",
    "metrics_lr3 = sklearn.metrics.precision_recall_fscore_support(y_test_full, y_predict)\n",
    "\n",
    "lr3_score = 1-np.abs(y_predict-y_test_full).sum()/len(y_test_full)\n"
   ]
  },
  {
   "cell_type": "code",
   "execution_count": 13,
   "metadata": {},
   "outputs": [
    {
     "data": {
      "text/plain": [
       "<matplotlib.legend.Legend at 0x11830bef0>"
      ]
     },
     "execution_count": 13,
     "metadata": {},
     "output_type": "execute_result"
    },
    {
     "data": {
      "image/png": "[encoded data removed]",
      "text/plain": [
       "<matplotlib.figure.Figure at 0x119565780>"
      ]
     },
     "metadata": {},
     "output_type": "display_data"
    }
   ],
   "source": [
    "height_c = [lr3_score, metrics_lr3[1][0], metrics_lr3[1][1]]\n",
    "\n",
    "barWidth = 0.1\n",
    "# The x position of bars\n",
    "r1 = np.arange(len(height_c))\n",
    "\n",
    "conditions = ['full', 'stay', 'switch']\n",
    "plt.bar(r1, height_c, width=barWidth, label='lr3_value')\n",
    "\n",
    "plt.xticks(range(len(height_c)), conditions)\n",
    "plt.ylabel('accuracy')\n",
    "plt.legend()"
   ]
  },
  {
   "cell_type": "code",
   "execution_count": 14,
   "metadata": {},
   "outputs": [
    {
     "data": {
      "text/plain": [
       "<matplotlib.legend.Legend at 0x1188df748>"
      ]
     },
     "execution_count": 14,
     "metadata": {},
     "output_type": "execute_result"
    },
    {
     "data": {
      "image/png": "[encoded data removed]",
      "text/plain": [
       "<matplotlib.figure.Figure at 0x1198abbe0>"
      ]
     },
     "metadata": {},
     "output_type": "display_data"
    }
   ],
   "source": [
    "from sklearn.metrics import roc_curve, roc_auc_score\n",
    "\n",
    "fpr, tpr, _ = roc_curve(y_test, lr3_proba_R[:,1])\n",
    "plt.plot(fpr, tpr, label=\"LR3_VALUE\")\n",
    "\n",
    "plt.plot([0, 1], [0, 1], ':k')\n",
    "plt.xlabel('false postive rate')\n",
    "plt.ylabel('true positive rate')\n",
    "\n",
    "plt.legend(loc='lower right')"
   ]
  },
  {
   "cell_type": "code",
   "execution_count": null,
   "metadata": {
    "collapsed": true
   },
   "outputs": [],
   "source": []
  }
 ],
 "metadata": {
  "kernelspec": {
   "display_name": "Python 3",
   "language": "python",
   "name": "python3"
  },
  "language_info": {
   "codemirror_mode": {
    "name": "ipython",
    "version": 3
   },
   "file_extension": ".py",
   "mimetype": "text/x-python",
   "name": "python",
   "nbconvert_exporter": "python",
   "pygments_lexer": "ipython3",
   "version": "3.6.1"
  }
 },
 "nbformat": 4,
 "nbformat_minor": 2
}
