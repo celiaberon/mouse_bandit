{
 "cells": [
  {
   "cell_type": "code",
   "execution_count": 50,
   "metadata": {
    "collapsed": true
   },
   "outputs": [],
   "source": [
    "import sys\n",
    "sys.path.append('/Users/celia/GitHub/mouse_bandit/data_preprocessing_code')\n",
    "sys.path.append('/Users/celia/GitHub/mouse_bandit')\n",
    "import support_functions as sf\n",
    "import numpy as np\n",
    "import pandas as pd\n",
    "import scipy as sp\n",
    "import bandit_preprocessing as bp\n",
    "from sklearn import preprocessing\n",
    "import os\n",
    "import behavior_database\n",
    "import shutil\n",
    "import ipywidgets as widgets\n",
    "from IPython.display import display"
   ]
  },
  {
   "cell_type": "code",
   "execution_count": 51,
   "metadata": {
    "collapsed": true
   },
   "outputs": [],
   "source": [
    "record_df = pd.read_csv('/Users/celia/GitHub/mouse_bandit/celia_session_record.csv',index_col=0)\n",
    "celia_session_record = True"
   ]
  },
  {
   "cell_type": "markdown",
   "metadata": {},
   "source": [
    "### First time we ran this, had to add 'shay' to the old data base and add a new column for Markov\n",
    "    if need to troubleshoot or add trials from older data, use creating_behavior_database notebook"
   ]
  },
  {
   "cell_type": "code",
   "execution_count": 52,
   "metadata": {},
   "outputs": [
    {
     "name": "stdout",
     "output_type": "stream",
     "text": [
      "(701, 18)\n"
     ]
    },
    {
     "data": {
      "text/html": [
       "<div>\n",
       "<style>\n",
       "    .dataframe thead tr:only-child th {\n",
       "        text-align: right;\n",
       "    }\n",
       "\n",
       "    .dataframe thead th {\n",
       "        text-align: left;\n",
       "    }\n",
       "\n",
       "    .dataframe tbody tr th {\n",
       "        vertical-align: top;\n",
       "    }\n",
       "</style>\n",
       "<table border=\"1\" class=\"dataframe\">\n",
       "  <thead>\n",
       "    <tr style=\"text-align: right;\">\n",
       "      <th></th>\n",
       "      <th>Owner</th>\n",
       "      <th>Session ID</th>\n",
       "      <th>Mouse ID</th>\n",
       "      <th>Date</th>\n",
       "      <th>Phase</th>\n",
       "      <th>Markov</th>\n",
       "      <th>Left Reward Prob</th>\n",
       "      <th>Right Reward Prob</th>\n",
       "      <th>Block Range Min</th>\n",
       "      <th>Block Range Max</th>\n",
       "      <th>No. Trials</th>\n",
       "      <th>No. Blocks</th>\n",
       "      <th>No. Rewards</th>\n",
       "      <th>p(high Port)</th>\n",
       "      <th>Decision Window Duration</th>\n",
       "      <th>Min Inter-trial-interval</th>\n",
       "      <th>Left Solenoid Duration</th>\n",
       "      <th>Right Solenoid Duration</th>\n",
       "    </tr>\n",
       "  </thead>\n",
       "  <tbody>\n",
       "    <tr>\n",
       "      <th>698</th>\n",
       "      <td>celia</td>\n",
       "      <td>12202017_Dill</td>\n",
       "      <td>Dill</td>\n",
       "      <td>2017-12-20</td>\n",
       "      <td>2.0</td>\n",
       "      <td>1</td>\n",
       "      <td>0.2</td>\n",
       "      <td>0.8</td>\n",
       "      <td>NaN</td>\n",
       "      <td>NaN</td>\n",
       "      <td>775.0</td>\n",
       "      <td>15.0</td>\n",
       "      <td>494.0</td>\n",
       "      <td>0.74</td>\n",
       "      <td>2.0</td>\n",
       "      <td>1.0</td>\n",
       "      <td>40.0</td>\n",
       "      <td>40.0</td>\n",
       "    </tr>\n",
       "    <tr>\n",
       "      <th>699</th>\n",
       "      <td>celia</td>\n",
       "      <td>12212017_Dill</td>\n",
       "      <td>Dill</td>\n",
       "      <td>2017-12-21</td>\n",
       "      <td>2.0</td>\n",
       "      <td>1</td>\n",
       "      <td>0.8</td>\n",
       "      <td>0.2</td>\n",
       "      <td>NaN</td>\n",
       "      <td>NaN</td>\n",
       "      <td>831.0</td>\n",
       "      <td>19.0</td>\n",
       "      <td>551.0</td>\n",
       "      <td>0.78</td>\n",
       "      <td>2.0</td>\n",
       "      <td>1.0</td>\n",
       "      <td>40.0</td>\n",
       "      <td>40.0</td>\n",
       "    </tr>\n",
       "      <th>700</th>\n",
       "      <td>celia</td>\n",
       "      <td>12222017_Dill</td>\n",
       "      <td>Dill</td>\n",
       "      <td>2017-12-22</td>\n",
       "      <td>2.0</td>\n",
       "      <td>1</td>\n",
       "      <td>0.2</td>\n",
       "      <td>0.8</td>\n",
       "      <td>NaN</td>\n",
       "      <td>NaN</td>\n",
       "      <td>863.0</td>\n",
       "      <td>19.0</td>\n",
       "      <td>548.0</td>\n",
       "      <td>0.71</td>\n",
       "      <td>2.0</td>\n",
       "      <td>1.0</td>\n",
       "      <td>35.0</td>\n",
       "      <td>35.0</td>\n",
       "    </tr>\n",
       "  </tbody>\n",
       "</table>\n",
       "</div>"
      ],
      "text/plain": [
       "     Owner     Session ID Mouse ID        Date  Phase  Markov  \\\n",
       "698  celia  12202017_Dill     Dill  2017-12-20    2.0       1   \n",
       "699  celia  12212017_Dill     Dill  2017-12-21    2.0       1   \n",
       "700  celia  12222017_Dill     Dill  2017-12-22    2.0       1   \n",
       "\n",
       "     Left Reward Prob  Right Reward Prob  Block Range Min  Block Range Max  \\\n",
       "698               0.2                0.8              NaN              NaN   \n",
       "699               0.8                0.2              NaN              NaN   \n",
       "700               0.2                0.8              NaN              NaN   \n",
       "\n",
       "     No. Trials  No. Blocks  No. Rewards  p(high Port)  \\\n",
       "698       775.0        15.0        494.0          0.74   \n",
       "699       831.0        19.0        551.0          0.78   \n",
       "700       863.0        19.0        548.0          0.71   \n",
       "\n",
       "     Decision Window Duration  Min Inter-trial-interval  \\\n",
       "698                       2.0                       1.0   \n",
       "699                       2.0                       1.0   \n",
       "700                       2.0                       1.0   \n",
       "\n",
       "     Left Solenoid Duration  Right Solenoid Duration  \n",
       "698                    40.0                     40.0  \n",
       "699                    40.0                     40.0  \n",
       "700                    35.0                     35.0  "
      ]
     },
     "execution_count": 52,
     "metadata": {},
     "output_type": "execute_result"
    }
   ],
   "source": [
    "print(record_df.shape)\n",
    "record_df.tail(3)"
   ]
  },
  {
   "cell_type": "markdown",
   "metadata": {},
   "source": [
    "## Add all days (multi mice) to celia_session_record"
   ]
  },
  {
   "cell_type": "code",
   "execution_count": 53,
   "metadata": {
    "collapsed": true
   },
   "outputs": [],
   "source": [
    "if celia_session_record == True:\n",
    "    record_df = record_df.drop(record_df.index[:]) # if want to reset and start with (for new session record)\n",
    "    \n",
    "    MOUSE = ['Baby','Mustard','Raspberry','Sky','Wine', 'Dill']\n",
    "    ROOT = '/Users/celia/Dropbox (HMS)/Celia_BehaviorFiles/'\n",
    "    root_mouse={}\n",
    "    for mouse in MOUSE: # make list of all mouse directories\n",
    "        temp_dict = {mouse:os.path.join(ROOT,mouse)}\n",
    "        root_mouse.update(temp_dict)\n",
    "\n",
    "    date_folders = os.listdir(root_mouse[MOUSE[0]]) # assuming all mice have same dates \n",
    "    date_folders = date_folders[1:]\n",
    "    count=0\n",
    "    for mouse in MOUSE:\n",
    "        for date in date_folders:\n",
    "            curr_dir = os.path.join(root_mouse[mouse], date)\n",
    "            record_df = behavior_database.add_session(curr_dir, record_df, 'celia')\n",
    "            count+=1\n",
    "    record_df.to_csv(path_or_buf='/Users/celia/GitHub/mouse_bandit/celia_session_record.csv')"
   ]
  },
  {
   "cell_type": "code",
   "execution_count": 54,
   "metadata": {},
   "outputs": [
    {
     "data": {
      "text/plain": [
       "720"
      ]
     },
     "execution_count": 54,
     "metadata": {},
     "output_type": "execute_result"
    }
   ],
   "source": [
    "count - 60 # estimate for number of sessions"
   ]
  },
  {
   "cell_type": "code",
   "execution_count": 55,
   "metadata": {
    "scrolled": false
   },
   "outputs": [
    {
     "data": {
      "text/plain": [
       "(701, 18)"
      ]
     },
     "execution_count": 55,
     "metadata": {},
     "output_type": "execute_result"
    }
   ],
   "source": [
    "record_df.shape # true number of sessions in record"
   ]
  },
  {
   "cell_type": "markdown",
   "metadata": {},
   "source": [
    "## Moving files around\n",
    "    Use MovingFilesAround notebook for moving data outside of new structure"
   ]
  },
  {
   "cell_type": "code",
   "execution_count": 56,
   "metadata": {
    "collapsed": true
   },
   "outputs": [],
   "source": [
    "# files from Celia\n",
    "\n",
    "root_dir = '/Users/celia/Dropbox (HMS)/Celia_BehaviorFiles/'\n",
    "MOUSE = ['Baby','Mustard','Raspberry','Sky','Wine']\n",
    "root_mouse={}\n",
    "for mouse in MOUSE: # make list of all mouse directories\n",
    "    temp_dict = {mouse:os.path.join(root_dir,mouse)}\n",
    "    root_mouse.update(temp_dict)\n",
    "date_folders = os.listdir(root_mouse[MOUSE[0]]) # assuming all mice have same dates \n",
    "date_folders = date_folders[1:]\n",
    "\n",
    "dist_dir = '/Users/celia/GitHub/mouse_bandit/data/trial_data'\n",
    "\n",
    "for mouse in MOUSE:\n",
    "    for date in date_folders:\n",
    "        for file in os.listdir(os.path.join(root_mouse[mouse], date)):\n",
    "\n",
    "            if not file[0] == '.':\n",
    "                file_name = os.path.join(root_mouse[mouse],date,file)\n",
    "                if 'trials.csv' in file:\n",
    "                    shutil.copy(file_name, dist_dir)\n",
    "                    #print(file_name)\n",
    "                else:\n",
    "                    pass\n",
    "                    #print(date_folders)\n",
    "                    #print(root_mouse[mouse])\n",
    "                    #raise ValueError('In a hidden folder')\n",
    "                    \n",
    "MOUSE = ['Dill']\n",
    "root_mouse={}\n",
    "for mouse in MOUSE: # make list of all mouse directories\n",
    "    temp_dict = {mouse:os.path.join(root_dir,mouse)}\n",
    "    root_mouse.update(temp_dict)\n",
    "date_folders = os.listdir(root_mouse[MOUSE[0]]) # assuming all mice have same dates \n",
    "date_folders = date_folders[1:]\n",
    "\n",
    "dist_dir = '/Users/celia/GitHub/mouse_bandit/data/trial_data'\n",
    "\n",
    "for mouse in MOUSE:\n",
    "    for date in date_folders:\n",
    "        for file in os.listdir(os.path.join(root_mouse[mouse], date)):\n",
    "\n",
    "            if not file[0] == '.':\n",
    "                file_name = os.path.join(root_mouse[mouse],date,file)\n",
    "                if 'trials.csv' in file:\n",
    "                    shutil.copy(file_name, dist_dir)\n",
    "                    #print(file_name)\n",
    "                else:\n",
    "                    pass\n",
    "                    #print(date_folders)\n",
    "                    #print(root_mouse[mouse])\n",
    "                    #raise ValueError('In a hidden folder')\n",
    "        "
   ]
  },
  {
   "cell_type": "markdown",
   "metadata": {},
   "source": [
    "## Make feature matrix for each condition type"
   ]
  },
  {
   "cell_type": "code",
   "execution_count": 57,
   "metadata": {},
   "outputs": [
    {
     "data": {
      "text/plain": [
       "(701, 18)"
      ]
     },
     "execution_count": 57,
     "metadata": {},
     "output_type": "execute_result"
    }
   ],
   "source": [
    "db = pd.read_csv('/Users/celia/GitHub/mouse_bandit/celia_session_record.csv',index_col=0)\n",
    "db.shape # just to double check size updated"
   ]
  },
  {
   "cell_type": "markdown",
   "metadata": {},
   "source": [
    "#### all markov sessions with >0.7 performance"
   ]
  },
  {
   "cell_type": "code",
   "execution_count": 58,
   "metadata": {
    "collapsed": true
   },
   "outputs": [],
   "source": [
    "r = db[(db['Markov']==1)]\n",
    "r = r[r['p(high Port)'] > 0.7].copy()\n",
    "r = r[r['No. Blocks']>0.0].copy()\n",
    "session_names = r['Session ID'].values"
   ]
  },
  {
   "cell_type": "code",
   "execution_count": 59,
   "metadata": {
    "collapsed": true
   },
   "outputs": [],
   "source": [
    "'''\n",
    "load in trial data\n",
    "'''\n",
    "columns = ['Elapsed Time (s)','Since last trial (s)','Trial Duration (s)','Port Poked',\n",
    "           'Right Reward Prob','Left Reward Prob','Reward Given',\n",
    "          'center_frame','decision_frame', 'Block ID']\n",
    "\n",
    "root_dir = '/Users/celia/GitHub/mouse_bandit/data/trial_data'\n",
    "save_dir = '/Users/celia/GitHub/mouse_bandit/data/processed_data'\n",
    "\n",
    "trial_df = []\n",
    "\n",
    "for session in session_names:\n",
    "    full_name = session + '_trials.csv'\n",
    "    \n",
    "    path_name = os.path.join(root_dir,full_name)\n",
    "    \n",
    "    trial_df.append(pd.read_csv(path_name,names=columns))\n",
    "\n",
    "mouse_ids = r['Mouse ID'].values"
   ]
  },
  {
   "cell_type": "code",
   "execution_count": 60,
   "metadata": {},
   "outputs": [
    {
     "data": {
      "application/vnd.jupyter.widget-view+json": {
       "model_id": "735a7bd521d64bbbb739205e17bcae62"
      }
     },
     "metadata": {},
     "output_type": "display_data"
    }
   ],
   "source": [
    "progress = widgets.IntProgress(min=0, max=len(trial_df), step=1)\n",
    "display(progress)\n",
    "for i,df in enumerate(trial_df):\n",
    "    curr_feature_matrix = bp.create_feature_matrix(df,10,mouse_ids[i],session_names[i],feature_names='Default')\n",
    "    \n",
    "    if i == 0:\n",
    "        master_matrix = curr_feature_matrix.copy()\n",
    "    else:\n",
    "        master_matrix = master_matrix.append(curr_feature_matrix)\n",
    "    progress.value+=1"
   ]
  },
  {
   "cell_type": "code",
   "execution_count": 61,
   "metadata": {
    "collapsed": true
   },
   "outputs": [],
   "source": [
    "master_matrix.to_csv(os.path.join(save_dir,'markov_master.csv'),index=True)"
   ]
  },
  {
   "cell_type": "markdown",
   "metadata": {},
   "source": [
    "##### 70-30 sessions"
   ]
  },
  {
   "cell_type": "code",
   "execution_count": 70,
   "metadata": {
    "collapsed": true
   },
   "outputs": [],
   "source": [
    "r = db[(db['Markov']==1)]\n",
    "r = r[((r['Left Reward Prob'] == 0.7) |  (db['Left Reward Prob'] == 0.3))].copy()\n",
    "r = r[r['p(high Port)'] > 0.7].copy()\n",
    "r = r[r['No. Blocks']>0.0].copy()\n",
    "session_names = r['Session ID'].values"
   ]
  },
  {
   "cell_type": "code",
   "execution_count": 71,
   "metadata": {
    "collapsed": true
   },
   "outputs": [],
   "source": [
    "'''\n",
    "load in trial data\n",
    "'''\n",
    "columns = ['Elapsed Time (s)','Since last trial (s)','Trial Duration (s)','Port Poked',\n",
    "           'Right Reward Prob','Left Reward Prob','Reward Given',\n",
    "          'center_frame','decision_frame', 'Block ID']\n",
    "\n",
    "root_dir = '/Users/celia/GitHub/mouse_bandit/data/trial_data'\n",
    "save_dir = '/Users/celia/GitHub/mouse_bandit/data/processed_data'\n",
    "\n",
    "trial_df = []\n",
    "\n",
    "for session in session_names:\n",
    "    full_name = session + '_trials.csv'\n",
    "    \n",
    "    path_name = os.path.join(root_dir,full_name)\n",
    "    \n",
    "    trial_df.append(pd.read_csv(path_name,names=columns))\n",
    "\n",
    "mouse_ids = r['Mouse ID'].values"
   ]
  },
  {
   "cell_type": "code",
   "execution_count": 72,
   "metadata": {},
   "outputs": [
    {
     "data": {
      "application/vnd.jupyter.widget-view+json": {
       "model_id": "22360e3198754fd5b41efec0139324d0"
      }
     },
     "metadata": {},
     "output_type": "display_data"
    }
   ],
   "source": [
    "progress = widgets.IntProgress(min=0, max=len(trial_df), step=1)\n",
    "display(progress)\n",
    "for i,df in enumerate(trial_df):\n",
    "    curr_feature_matrix = bp.create_feature_matrix(df,10,mouse_ids[i],session_names[i],feature_names='Default')\n",
    "    \n",
    "    if i == 0:\n",
    "        master_matrix = curr_feature_matrix.copy()\n",
    "    else:\n",
    "        master_matrix = master_matrix.append(curr_feature_matrix)\n",
    "    progress.value+=1"
   ]
  },
  {
   "cell_type": "code",
   "execution_count": 73,
   "metadata": {
    "collapsed": true
   },
   "outputs": [],
   "source": [
    "master_matrix.to_csv(os.path.join(save_dir,'markov_7030.csv'),index=True)"
   ]
  }
 ],
 "metadata": {
  "kernelspec": {
   "display_name": "Python 3",
   "language": "python",
   "name": "python3"
  },
  "language_info": {
   "codemirror_mode": {
    "name": "ipython",
    "version": 3
   },
   "file_extension": ".py",
   "mimetype": "text/x-python",
   "name": "python",
   "nbconvert_exporter": "python",
   "pygments_lexer": "ipython3",
   "version": "3.6.1"
  }
 },
 "nbformat": 4,
 "nbformat_minor": 2
}
