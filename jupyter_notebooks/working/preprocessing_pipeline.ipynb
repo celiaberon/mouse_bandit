{
 "cells": [
  {
   "cell_type": "code",
   "execution_count": 26,
   "metadata": {
    "collapsed": true
   },
   "outputs": [],
   "source": [
    "user_name = 'celia'"
   ]
  },
  {
   "cell_type": "code",
   "execution_count": 27,
   "metadata": {},
   "outputs": [],
   "source": [
    "import sys\n",
    "sys.path.append('/Users/{}/GitHub/mouse_bandit/data_preprocessing_code'.format(user_name))\n",
    "sys.path.append('/Users/{}/GitHub/mouse_bandit'.format(user_name))\n",
    "import support_functions as sf\n",
    "import numpy as np\n",
    "import pandas as pd\n",
    "import scipy as sp\n",
    "import bandit_preprocessing as bp\n",
    "from sklearn import preprocessing\n",
    "import os\n",
    "import behavior_database\n",
    "import shutil\n",
    "import ipywidgets as widgets\n",
    "from IPython.display import display"
   ]
  },
  {
   "cell_type": "code",
   "execution_count": 28,
   "metadata": {
    "collapsed": true
   },
   "outputs": [],
   "source": [
    "record_df = pd.read_csv('/Users/{}/GitHub/mouse_bandit/session_record.csv'.format(user_name),index_col=0)\n",
    "celia_session_record = True"
   ]
  },
  {
   "cell_type": "markdown",
   "metadata": {},
   "source": [
    "### First time we ran this, had to add 'shay' to the old data base and add a new column for Markov\n",
    "    if need to troubleshoot or add trials from older data, use creating_behavior_database notebook"
   ]
  },
  {
   "cell_type": "code",
   "execution_count": 29,
   "metadata": {},
   "outputs": [
    {
     "name": "stdout",
     "output_type": "stream",
     "text": [
      "(807, 18)\n"
     ]
    },
    {
     "data": {
      "text/html": [
       "<div>\n",
       "<style>\n",
       "    .dataframe thead tr:only-child th {\n",
       "        text-align: right;\n",
       "    }\n",
       "\n",
       "    .dataframe thead th {\n",
       "        text-align: left;\n",
       "    }\n",
       "\n",
       "    .dataframe tbody tr th {\n",
       "        vertical-align: top;\n",
       "    }\n",
       "</style>\n",
       "<table border=\"1\" class=\"dataframe\">\n",
       "  <thead>\n",
       "    <tr style=\"text-align: right;\">\n",
       "      <th></th>\n",
       "      <th>Owner</th>\n",
       "      <th>Session ID</th>\n",
       "      <th>Mouse ID</th>\n",
       "      <th>Date</th>\n",
       "      <th>Phase</th>\n",
       "      <th>Markov</th>\n",
       "      <th>Left Reward Prob</th>\n",
       "      <th>Right Reward Prob</th>\n",
       "      <th>Block Range Min</th>\n",
       "      <th>Block Range Max</th>\n",
       "      <th>No. Trials</th>\n",
       "      <th>No. Blocks</th>\n",
       "      <th>No. Rewards</th>\n",
       "      <th>p(high Port)</th>\n",
       "      <th>Decision Window Duration</th>\n",
       "      <th>Min Inter-trial-interval</th>\n",
       "      <th>Left Solenoid Duration</th>\n",
       "      <th>Right Solenoid Duration</th>\n",
       "    </tr>\n",
       "  </thead>\n",
       "  <tbody>\n",
       "    <tr>\n",
       "      <th>804</th>\n",
       "      <td>shay</td>\n",
       "      <td>03102017_K9</td>\n",
       "      <td>K9</td>\n",
       "      <td>2017-03-10 00:00:00</td>\n",
       "      <td>2.0</td>\n",
       "      <td>0</td>\n",
       "      <td>0.9</td>\n",
       "      <td>0.1</td>\n",
       "      <td>50.0</td>\n",
       "      <td>50.0</td>\n",
       "      <td>329.0</td>\n",
       "      <td>5.0</td>\n",
       "      <td>249.0</td>\n",
       "      <td>0.79</td>\n",
       "      <td>2.0</td>\n",
       "      <td>1.0</td>\n",
       "      <td>35.0</td>\n",
       "      <td>35.0</td>\n",
       "    </tr>\n",
       "    <tr>\n",
       "      <th>805</th>\n",
       "      <td>shay</td>\n",
       "      <td>03102017_Q43</td>\n",
       "      <td>Q43</td>\n",
       "      <td>2017-03-10 00:00:00</td>\n",
       "      <td>2.0</td>\n",
       "      <td>0</td>\n",
       "      <td>0.9</td>\n",
       "      <td>0.1</td>\n",
       "      <td>50.0</td>\n",
       "      <td>50.0</td>\n",
       "      <td>556.0</td>\n",
       "      <td>9.0</td>\n",
       "      <td>476.0</td>\n",
       "      <td>0.90</td>\n",
       "      <td>2.0</td>\n",
       "      <td>1.0</td>\n",
       "      <td>35.0</td>\n",
       "      <td>35.0</td>\n",
       "    </tr>\n",
       "    <tr>\n",
       "      <th>806</th>\n",
       "      <td>shay</td>\n",
       "      <td>03102017_Q45</td>\n",
       "      <td>Q45</td>\n",
       "      <td>2017-03-10 00:00:00</td>\n",
       "      <td>2.0</td>\n",
       "      <td>0</td>\n",
       "      <td>0.1</td>\n",
       "      <td>0.9</td>\n",
       "      <td>50.0</td>\n",
       "      <td>50.0</td>\n",
       "      <td>642.0</td>\n",
       "      <td>10.0</td>\n",
       "      <td>509.0</td>\n",
       "      <td>0.88</td>\n",
       "      <td>2.0</td>\n",
       "      <td>1.0</td>\n",
       "      <td>35.0</td>\n",
       "      <td>35.0</td>\n",
       "    </tr>\n",
       "  </tbody>\n",
       "</table>\n",
       "</div>"
      ],
      "text/plain": [
       "    Owner    Session ID Mouse ID                 Date  Phase  Markov  \\\n",
       "804  shay   03102017_K9       K9  2017-03-10 00:00:00    2.0       0   \n",
       "805  shay  03102017_Q43      Q43  2017-03-10 00:00:00    2.0       0   \n",
       "806  shay  03102017_Q45      Q45  2017-03-10 00:00:00    2.0       0   \n",
       "\n",
       "     Left Reward Prob  Right Reward Prob  Block Range Min  Block Range Max  \\\n",
       "804               0.9                0.1             50.0             50.0   \n",
       "805               0.9                0.1             50.0             50.0   \n",
       "806               0.1                0.9             50.0             50.0   \n",
       "\n",
       "     No. Trials  No. Blocks  No. Rewards  p(high Port)  \\\n",
       "804       329.0         5.0        249.0          0.79   \n",
       "805       556.0         9.0        476.0          0.90   \n",
       "806       642.0        10.0        509.0          0.88   \n",
       "\n",
       "     Decision Window Duration  Min Inter-trial-interval  \\\n",
       "804                       2.0                       1.0   \n",
       "805                       2.0                       1.0   \n",
       "806                       2.0                       1.0   \n",
       "\n",
       "     Left Solenoid Duration  Right Solenoid Duration  \n",
       "804                    35.0                     35.0  \n",
       "805                    35.0                     35.0  \n",
       "806                    35.0                     35.0  "
      ]
     },
     "execution_count": 29,
     "metadata": {},
     "output_type": "execute_result"
    }
   ],
   "source": [
    "print(record_df.shape)\n",
    "record_df.tail(3)"
   ]
  },
  {
   "cell_type": "markdown",
   "metadata": {},
   "source": [
    "## Add all days (multi mice) to celia_session_record"
   ]
  },
  {
   "cell_type": "code",
   "execution_count": 30,
   "metadata": {},
   "outputs": [],
   "source": [
    "if celia_session_record == True:\n",
    "    record_df = record_df.drop(record_df.index[:]) # if want to reset and start with (for new session record)\n",
    "    \n",
    "    MOUSE = ['Baby','Mustard','Raspberry','Sky','Wine', 'Dill']\n",
    "    ROOT = '/Users/{}/Dropbox (HMS)/Celia_BehaviorFiles/'.format(user_name)\n",
    "    root_mouse={}\n",
    "    for mouse in MOUSE: # make list of all mouse directories\n",
    "        temp_dict = {mouse:os.path.join(ROOT,mouse)}\n",
    "        root_mouse.update(temp_dict)\n",
    "\n",
    "    date_folders = os.listdir(root_mouse[MOUSE[0]]) # assuming all mice have same dates \n",
    "    date_folders = date_folders[1:]\n",
    "    count=0\n",
    "    for mouse in MOUSE:\n",
    "        for date in date_folders:\n",
    "            curr_dir = os.path.join(root_mouse[mouse], date)\n",
    "            record_df = behavior_database.add_session(curr_dir, record_df, 'celia')\n",
    "            count+=1\n",
    "    record_df.to_csv(path_or_buf='/Users/{}/GitHub/mouse_bandit/celia_session_record.csv'.format(user_name))"
   ]
  },
  {
   "cell_type": "code",
   "execution_count": 31,
   "metadata": {},
   "outputs": [
    {
     "data": {
      "text/plain": [
       "942"
      ]
     },
     "execution_count": 31,
     "metadata": {},
     "output_type": "execute_result"
    }
   ],
   "source": [
    "count - 60 # estimate for number of sessions"
   ]
  },
  {
   "cell_type": "code",
   "execution_count": 32,
   "metadata": {
    "scrolled": false
   },
   "outputs": [
    {
     "data": {
      "text/plain": [
       "(927, 18)"
      ]
     },
     "execution_count": 32,
     "metadata": {},
     "output_type": "execute_result"
    }
   ],
   "source": [
    "record_df.shape # true number of sessions in record"
   ]
  },
  {
   "cell_type": "markdown",
   "metadata": {},
   "source": [
    "## Moving files around\n",
    "    Use MovingFilesAround notebook for moving data outside of new structure"
   ]
  },
  {
   "cell_type": "code",
   "execution_count": 33,
   "metadata": {},
   "outputs": [],
   "source": [
    "# files from Celia\n",
    "\n",
    "root_dir = '/Users/{}/Dropbox (HMS)/Celia_BehaviorFiles/'.format(user_name)\n",
    "MOUSE = ['Baby','Mustard','Raspberry','Sky','Wine']\n",
    "root_mouse={}\n",
    "for mouse in MOUSE: # make list of all mouse directories\n",
    "    temp_dict = {mouse:os.path.join(root_dir,mouse)}\n",
    "    root_mouse.update(temp_dict)\n",
    "date_folders = os.listdir(root_mouse[MOUSE[0]]) # assuming all mice have same dates \n",
    "date_folders = date_folders[1:]\n",
    "\n",
    "dist_dir = '/Users/{}/GitHub/mouse_bandit/data/trial_data'.format(user_name)\n",
    "\n",
    "for mouse in MOUSE:\n",
    "    for date in date_folders:\n",
    "        for file in os.listdir(os.path.join(root_mouse[mouse], date)):\n",
    "\n",
    "            if not file[0] == '.':\n",
    "                file_name = os.path.join(root_mouse[mouse],date,file)\n",
    "                if 'trials.csv' in file:\n",
    "                    shutil.copy(file_name, dist_dir)\n",
    "                    #print(file_name)\n",
    "                else:\n",
    "                    pass\n",
    "                    #print(date_folders)\n",
    "                    #print(root_mouse[mouse])\n",
    "                    #raise ValueError('In a hidden folder')\n",
    "                    \n",
    "MOUSE = ['Dill']\n",
    "root_mouse={}\n",
    "for mouse in MOUSE: # make list of all mouse directories\n",
    "    temp_dict = {mouse:os.path.join(root_dir,mouse)}\n",
    "    root_mouse.update(temp_dict)\n",
    "date_folders = os.listdir(root_mouse[MOUSE[0]]) # assuming all mice have same dates \n",
    "date_folders = date_folders[1:]\n",
    "\n",
    "dist_dir = '/Users/{}/GitHub/mouse_bandit/data/trial_data'.format(user_name)\n",
    "\n",
    "for mouse in MOUSE:\n",
    "    for date in date_folders:\n",
    "        for file in os.listdir(os.path.join(root_mouse[mouse], date)):\n",
    "\n",
    "            if not file[0] == '.':\n",
    "                file_name = os.path.join(root_mouse[mouse],date,file)\n",
    "                if 'trials.csv' in file:\n",
    "                    shutil.copy(file_name, dist_dir)\n",
    "                    #print(file_name)\n",
    "                else:\n",
    "                    pass\n",
    "                    #print(date_folders)\n",
    "                    #print(root_mouse[mouse])\n",
    "                    #raise ValueError('In a hidden folder')\n",
    "        "
   ]
  },
  {
   "cell_type": "markdown",
   "metadata": {},
   "source": [
    "## Make feature matrix for each condition type"
   ]
  },
  {
   "cell_type": "code",
   "execution_count": 34,
   "metadata": {},
   "outputs": [
    {
     "data": {
      "text/plain": [
       "(927, 18)"
      ]
     },
     "execution_count": 34,
     "metadata": {},
     "output_type": "execute_result"
    }
   ],
   "source": [
    "db = pd.read_csv('/Users/{}/GitHub/mouse_bandit/celia_session_record.csv'.format(user_name),index_col=0)\n",
    "db.shape # just to double check size updated"
   ]
  },
  {
   "cell_type": "markdown",
   "metadata": {},
   "source": [
    "#### all markov sessions with >0.7 performance\n",
    "Need to fix this to collect same proportion from each condition"
   ]
  },
  {
   "cell_type": "code",
   "execution_count": 35,
   "metadata": {
    "collapsed": true
   },
   "outputs": [],
   "source": [
    "r = db[(db['Markov']==1)]\n",
    "r = r[r['p(high Port)'] > 0.7].copy()\n",
    "r = r[r['No. Blocks']>0.0].copy()\n",
    "session_names = r['Session ID'].values"
   ]
  },
  {
   "cell_type": "code",
   "execution_count": 36,
   "metadata": {
    "collapsed": true
   },
   "outputs": [],
   "source": [
    "'''\n",
    "load in trial data\n",
    "'''\n",
    "columns = ['Elapsed Time (s)','Since last trial (s)','Trial Duration (s)','Port Poked',\n",
    "           'Right Reward Prob','Left Reward Prob','Reward Given',\n",
    "          'center_frame','decision_frame', 'Block ID']\n",
    "\n",
    "root_dir = '/Users/{}/GitHub/mouse_bandit/data/trial_data'.format(user_name)\n",
    "save_dir = '/Users/{}/Dropbox (HMS)/mouse_bandit/'.format(user_name)\n",
    "\n",
    "trial_df = []\n",
    "\n",
    "for session in session_names:\n",
    "    full_name = session + '_trials.csv'\n",
    "    \n",
    "    path_name = os.path.join(root_dir,full_name)\n",
    "    \n",
    "    trial_df.append(pd.read_csv(path_name,names=columns))\n",
    "\n",
    "mouse_ids = r['Mouse ID'].values"
   ]
  },
  {
   "cell_type": "code",
   "execution_count": 37,
   "metadata": {},
   "outputs": [
    {
     "data": {
      "application/vnd.jupyter.widget-view+json": {
       "model_id": "16f6f9677f654f118a4aea13010bcefc"
      }
     },
     "metadata": {},
     "output_type": "display_data"
    }
   ],
   "source": [
    "progress = widgets.IntProgress(min=0, max=len(trial_df), step=1)\n",
    "display(progress)\n",
    "for i,df in enumerate(trial_df):\n",
    "    curr_feature_matrix = bp.create_feature_matrix(df,10,mouse_ids[i],session_names[i],feature_names='Default')\n",
    "    \n",
    "    if i == 0:\n",
    "        master_matrix = curr_feature_matrix.copy()\n",
    "    else:\n",
    "        master_matrix = master_matrix.append(curr_feature_matrix)\n",
    "    progress.value+=1"
   ]
  },
  {
   "cell_type": "code",
   "execution_count": 38,
   "metadata": {
    "collapsed": true
   },
   "outputs": [],
   "source": [
    "master_matrix.to_csv(os.path.join(save_dir,'markov_master.csv'),index=True)"
   ]
  },
  {
   "cell_type": "markdown",
   "metadata": {},
   "source": [
    "#### Pull sessions from each reward condition"
   ]
  },
  {
   "cell_type": "code",
   "execution_count": 39,
   "metadata": {},
   "outputs": [
    {
     "name": "stderr",
     "output_type": "stream",
     "text": [
      "/Users/celia/anaconda/lib/python3.6/site-packages/ipykernel_launcher.py:2: UserWarning: Boolean Series key will be reindexed to match DataFrame index.\n",
      "  \n"
     ]
    }
   ],
   "source": [
    "r = db[(db['Markov']==0)]\n",
    "r = r[((r['Left Reward Prob'] == 0.7) |  (db['Left Reward Prob'] == 0.3))].copy()\n",
    "r = r[r['No. Blocks']>0.0].copy()\n",
    "session_names = r['Session ID'].values"
   ]
  },
  {
   "cell_type": "code",
   "execution_count": 40,
   "metadata": {
    "collapsed": true
   },
   "outputs": [],
   "source": [
    "# set threshold for inclusion based on reward parameters\n",
    "threshold = r['p(high Port)'].mean() - 2 * r['p(high Port)'].std()"
   ]
  },
  {
   "cell_type": "code",
   "execution_count": 41,
   "metadata": {
    "scrolled": true
   },
   "outputs": [
    {
     "data": {
      "text/plain": [
       "0.44563518271368135"
      ]
     },
     "execution_count": 41,
     "metadata": {},
     "output_type": "execute_result"
    }
   ],
   "source": [
    "threshold"
   ]
  },
  {
   "cell_type": "code",
   "execution_count": 42,
   "metadata": {
    "collapsed": true
   },
   "outputs": [],
   "source": [
    "r = r[r['p(high Port)'] > threshold].copy()"
   ]
  },
  {
   "cell_type": "code",
   "execution_count": 43,
   "metadata": {
    "collapsed": true
   },
   "outputs": [],
   "source": [
    "'''\n",
    "load in trial data\n",
    "'''\n",
    "columns = ['Elapsed Time (s)','Since last trial (s)','Trial Duration (s)','Port Poked',\n",
    "           'Right Reward Prob','Left Reward Prob','Reward Given',\n",
    "          'center_frame','decision_frame', 'Block ID']\n",
    "\n",
    "root_dir = '/Users/{}/GitHub/mouse_bandit/data/trial_data'.format(user_name)\n",
    "save_dir = '/Users/{}/Dropbox (HMS)/mouse_bandit/'.format(user_name)\n",
    "\n",
    "trial_df = []\n",
    "\n",
    "for session in session_names:\n",
    "    full_name = session + '_trials.csv'\n",
    "    \n",
    "    path_name = os.path.join(root_dir,full_name)\n",
    "    \n",
    "    trial_df.append(pd.read_csv(path_name,names=columns))\n",
    "\n",
    "mouse_ids = r['Mouse ID'].values"
   ]
  },
  {
   "cell_type": "code",
   "execution_count": 44,
   "metadata": {},
   "outputs": [
    {
     "data": {
      "application/vnd.jupyter.widget-view+json": {
       "model_id": "bebccf43fdf541789a251098b9b8ea51"
      }
     },
     "metadata": {},
     "output_type": "display_data"
    },
    {
     "ename": "IndexError",
     "evalue": "index 75 is out of bounds for axis 0 with size 75",
     "output_type": "error",
     "traceback": [
      "\u001b[0;31m---------------------------------------------------------------------------\u001b[0m",
      "\u001b[0;31mIndexError\u001b[0m                                Traceback (most recent call last)",
      "\u001b[0;32m<ipython-input-44-02f3336feeca>\u001b[0m in \u001b[0;36m<module>\u001b[0;34m()\u001b[0m\n\u001b[1;32m      2\u001b[0m \u001b[0mdisplay\u001b[0m\u001b[0;34m(\u001b[0m\u001b[0mprogress\u001b[0m\u001b[0;34m)\u001b[0m\u001b[0;34m\u001b[0m\u001b[0m\n\u001b[1;32m      3\u001b[0m \u001b[0;32mfor\u001b[0m \u001b[0mi\u001b[0m\u001b[0;34m,\u001b[0m\u001b[0mdf\u001b[0m \u001b[0;32min\u001b[0m \u001b[0menumerate\u001b[0m\u001b[0;34m(\u001b[0m\u001b[0mtrial_df\u001b[0m\u001b[0;34m)\u001b[0m\u001b[0;34m:\u001b[0m\u001b[0;34m\u001b[0m\u001b[0m\n\u001b[0;32m----> 4\u001b[0;31m     \u001b[0mcurr_feature_matrix\u001b[0m \u001b[0;34m=\u001b[0m \u001b[0mbp\u001b[0m\u001b[0;34m.\u001b[0m\u001b[0mcreate_feature_matrix\u001b[0m\u001b[0;34m(\u001b[0m\u001b[0mdf\u001b[0m\u001b[0;34m,\u001b[0m\u001b[0;36m10\u001b[0m\u001b[0;34m,\u001b[0m\u001b[0mmouse_ids\u001b[0m\u001b[0;34m[\u001b[0m\u001b[0mi\u001b[0m\u001b[0;34m]\u001b[0m\u001b[0;34m,\u001b[0m\u001b[0msession_names\u001b[0m\u001b[0;34m[\u001b[0m\u001b[0mi\u001b[0m\u001b[0;34m]\u001b[0m\u001b[0;34m,\u001b[0m\u001b[0mfeature_names\u001b[0m\u001b[0;34m=\u001b[0m\u001b[0;34m'Default'\u001b[0m\u001b[0;34m)\u001b[0m\u001b[0;34m\u001b[0m\u001b[0m\n\u001b[0m\u001b[1;32m      5\u001b[0m \u001b[0;34m\u001b[0m\u001b[0m\n\u001b[1;32m      6\u001b[0m     \u001b[0;32mif\u001b[0m \u001b[0mi\u001b[0m \u001b[0;34m==\u001b[0m \u001b[0;36m0\u001b[0m\u001b[0;34m:\u001b[0m\u001b[0;34m\u001b[0m\u001b[0m\n",
      "\u001b[0;31mIndexError\u001b[0m: index 75 is out of bounds for axis 0 with size 75"
     ]
    }
   ],
   "source": [
    "progress = widgets.IntProgress(min=0, max=len(trial_df), step=1)\n",
    "display(progress)\n",
    "for i,df in enumerate(trial_df):\n",
    "    curr_feature_matrix = bp.create_feature_matrix(df,10,mouse_ids[i],session_names[i],feature_names='Default')\n",
    "    \n",
    "    if i == 0:\n",
    "        master_matrix = curr_feature_matrix.copy()\n",
    "    else:\n",
    "        master_matrix = master_matrix.append(curr_feature_matrix)\n",
    "    progress.value+=1"
   ]
  },
  {
   "cell_type": "code",
   "execution_count": null,
   "metadata": {
    "collapsed": true
   },
   "outputs": [],
   "source": [
    "master_matrix.to_csv(os.path.join(save_dir,'blocks_7030_cb.csv'),index=True)"
   ]
  },
  {
   "cell_type": "code",
   "execution_count": null,
   "metadata": {
    "collapsed": true
   },
   "outputs": [],
   "source": []
  }
 ],
 "metadata": {
  "kernelspec": {
   "display_name": "Python 3",
   "language": "python",
   "name": "python3"
  },
  "language_info": {
   "codemirror_mode": {
    "name": "ipython",
    "version": 3
   },
   "file_extension": ".py",
   "mimetype": "text/x-python",
   "name": "python",
   "nbconvert_exporter": "python",
   "pygments_lexer": "ipython3",
   "version": "3.6.1"
  }
 },
 "nbformat": 4,
 "nbformat_minor": 2
}
