{
 "cells": [
  {
   "cell_type": "code",
   "execution_count": 1,
   "metadata": {
    "collapsed": true
   },
   "outputs": [],
   "source": [
    "import getpass\n",
    "username = getpass.getuser()\n",
    "\n",
    "import numpy as np\n",
    "import pandas as pd\n",
    "import matplotlib.pyplot as plt\n",
    "import sys\n",
    "sys.path.append('/Users/{:}/GitHub/mouse_bandit/data_preprocessing_code'.format(username))\n",
    "sys.path.append('/Users/{:}/GitHub/mouse_bandit'.format(username))\n",
    "import support_functions as sf\n",
    "\n",
    "sys.path.append('/Users/{:}/GitHub/mouse_bandit/jupyter_notebooks/helper_functions'.format(username))\n",
    "import bandit_modeling as bm\n",
    "\n",
    "import sklearn\n",
    "from sklearn.model_selection import train_test_split\n",
    "\n",
    "% matplotlib inline"
   ]
  },
  {
   "cell_type": "code",
   "execution_count": 29,
   "metadata": {},
   "outputs": [
    {
     "data": {
      "text/html": [
       "<div>\n",
       "<table border=\"1\" class=\"dataframe\">\n",
       "  <thead>\n",
       "    <tr style=\"text-align: right;\">\n",
       "      <th></th>\n",
       "      <th>index</th>\n",
       "      <th>Mouse ID</th>\n",
       "      <th>Session ID</th>\n",
       "      <th>Trial</th>\n",
       "      <th>Block Trial</th>\n",
       "      <th>Block Reward</th>\n",
       "      <th>Port Streak</th>\n",
       "      <th>Reward Streak</th>\n",
       "      <th>10_Port</th>\n",
       "      <th>10_Reward</th>\n",
       "      <th>...</th>\n",
       "      <th>1_trialDuration</th>\n",
       "      <th>0_ITI</th>\n",
       "      <th>0_trialDuration</th>\n",
       "      <th>Decision</th>\n",
       "      <th>Switch</th>\n",
       "      <th>Higher p port</th>\n",
       "      <th>Reward</th>\n",
       "      <th>Condition</th>\n",
       "      <th>Block ID</th>\n",
       "      <th>Current Block Length</th>\n",
       "    </tr>\n",
       "  </thead>\n",
       "  <tbody>\n",
       "    <tr>\n",
       "      <th>217080</th>\n",
       "      <td>0</td>\n",
       "      <td>Baby</td>\n",
       "      <td>01222018_Baby</td>\n",
       "      <td>11.0</td>\n",
       "      <td>11.0</td>\n",
       "      <td>3.0</td>\n",
       "      <td>1.0</td>\n",
       "      <td>1.0</td>\n",
       "      <td>0.0</td>\n",
       "      <td>0.0</td>\n",
       "      <td>...</td>\n",
       "      <td>0.533</td>\n",
       "      <td>1.222</td>\n",
       "      <td>0.267</td>\n",
       "      <td>1.0</td>\n",
       "      <td>0.0</td>\n",
       "      <td>1.0</td>\n",
       "      <td>1.0</td>\n",
       "      <td>70-30</td>\n",
       "      <td>1.0</td>\n",
       "      <td>15.0</td>\n",
       "    </tr>\n",
       "    <tr>\n",
       "      <th>217081</th>\n",
       "      <td>1</td>\n",
       "      <td>Baby</td>\n",
       "      <td>01222018_Baby</td>\n",
       "      <td>12.0</td>\n",
       "      <td>12.0</td>\n",
       "      <td>4.0</td>\n",
       "      <td>2.0</td>\n",
       "      <td>2.0</td>\n",
       "      <td>1.0</td>\n",
       "      <td>0.0</td>\n",
       "      <td>...</td>\n",
       "      <td>0.267</td>\n",
       "      <td>2.035</td>\n",
       "      <td>0.325</td>\n",
       "      <td>1.0</td>\n",
       "      <td>0.0</td>\n",
       "      <td>1.0</td>\n",
       "      <td>1.0</td>\n",
       "      <td>70-30</td>\n",
       "      <td>1.0</td>\n",
       "      <td>15.0</td>\n",
       "    </tr>\n",
       "    <tr>\n",
       "      <th>217082</th>\n",
       "      <td>2</td>\n",
       "      <td>Baby</td>\n",
       "      <td>01222018_Baby</td>\n",
       "      <td>13.0</td>\n",
       "      <td>13.0</td>\n",
       "      <td>5.0</td>\n",
       "      <td>3.0</td>\n",
       "      <td>3.0</td>\n",
       "      <td>1.0</td>\n",
       "      <td>1.0</td>\n",
       "      <td>...</td>\n",
       "      <td>0.325</td>\n",
       "      <td>1.579</td>\n",
       "      <td>0.597</td>\n",
       "      <td>1.0</td>\n",
       "      <td>0.0</td>\n",
       "      <td>1.0</td>\n",
       "      <td>0.0</td>\n",
       "      <td>70-30</td>\n",
       "      <td>1.0</td>\n",
       "      <td>15.0</td>\n",
       "    </tr>\n",
       "    <tr>\n",
       "      <th>217083</th>\n",
       "      <td>3</td>\n",
       "      <td>Baby</td>\n",
       "      <td>01222018_Baby</td>\n",
       "      <td>14.0</td>\n",
       "      <td>14.0</td>\n",
       "      <td>5.0</td>\n",
       "      <td>4.0</td>\n",
       "      <td>-1.0</td>\n",
       "      <td>1.0</td>\n",
       "      <td>0.0</td>\n",
       "      <td>...</td>\n",
       "      <td>0.597</td>\n",
       "      <td>2.327</td>\n",
       "      <td>0.452</td>\n",
       "      <td>1.0</td>\n",
       "      <td>0.0</td>\n",
       "      <td>1.0</td>\n",
       "      <td>0.0</td>\n",
       "      <td>70-30</td>\n",
       "      <td>1.0</td>\n",
       "      <td>15.0</td>\n",
       "    </tr>\n",
       "    <tr>\n",
       "      <th>217084</th>\n",
       "      <td>4</td>\n",
       "      <td>Baby</td>\n",
       "      <td>01222018_Baby</td>\n",
       "      <td>15.0</td>\n",
       "      <td>0.0</td>\n",
       "      <td>5.0</td>\n",
       "      <td>5.0</td>\n",
       "      <td>-2.0</td>\n",
       "      <td>0.0</td>\n",
       "      <td>0.0</td>\n",
       "      <td>...</td>\n",
       "      <td>0.452</td>\n",
       "      <td>1.524</td>\n",
       "      <td>0.569</td>\n",
       "      <td>1.0</td>\n",
       "      <td>0.0</td>\n",
       "      <td>0.0</td>\n",
       "      <td>0.0</td>\n",
       "      <td>70-30</td>\n",
       "      <td>2.0</td>\n",
       "      <td>20.0</td>\n",
       "    </tr>\n",
       "  </tbody>\n",
       "</table>\n",
       "<p>5 rows × 57 columns</p>\n",
       "</div>"
      ],
      "text/plain": [
       "        index Mouse ID     Session ID  Trial  Block Trial  Block Reward  \\\n",
       "217080      0     Baby  01222018_Baby   11.0         11.0           3.0   \n",
       "217081      1     Baby  01222018_Baby   12.0         12.0           4.0   \n",
       "217082      2     Baby  01222018_Baby   13.0         13.0           5.0   \n",
       "217083      3     Baby  01222018_Baby   14.0         14.0           5.0   \n",
       "217084      4     Baby  01222018_Baby   15.0          0.0           5.0   \n",
       "\n",
       "        Port Streak  Reward Streak  10_Port  10_Reward          ...           \\\n",
       "217080          1.0            1.0      0.0        0.0          ...            \n",
       "217081          2.0            2.0      1.0        0.0          ...            \n",
       "217082          3.0            3.0      1.0        1.0          ...            \n",
       "217083          4.0           -1.0      1.0        0.0          ...            \n",
       "217084          5.0           -2.0      0.0        0.0          ...            \n",
       "\n",
       "        1_trialDuration  0_ITI  0_trialDuration  Decision  Switch  \\\n",
       "217080            0.533  1.222            0.267       1.0     0.0   \n",
       "217081            0.267  2.035            0.325       1.0     0.0   \n",
       "217082            0.325  1.579            0.597       1.0     0.0   \n",
       "217083            0.597  2.327            0.452       1.0     0.0   \n",
       "217084            0.452  1.524            0.569       1.0     0.0   \n",
       "\n",
       "        Higher p port  Reward  Condition  Block ID  Current Block Length  \n",
       "217080            1.0     1.0      70-30       1.0                  15.0  \n",
       "217081            1.0     1.0      70-30       1.0                  15.0  \n",
       "217082            1.0     0.0      70-30       1.0                  15.0  \n",
       "217083            1.0     0.0      70-30       1.0                  15.0  \n",
       "217084            0.0     0.0      70-30       2.0                  20.0  \n",
       "\n",
       "[5 rows x 57 columns]"
      ]
     },
     "execution_count": 29,
     "metadata": {},
     "output_type": "execute_result"
    }
   ],
   "source": [
    "data = pd.read_csv('/Users/{:}/Dropbox (HMS)/mouse_bandit/markov_full.csv'.format(username), index_col=0)\n",
    "#data = data[data['Mouse ID']=='Baby']\n",
    "data = data[data['Condition']=='70-30']\n",
    "data.head()"
   ]
  },
  {
   "cell_type": "markdown",
   "metadata": {},
   "source": [
    "Markov process is one in which the future state of the system does not depend on more (history) than the current state"
   ]
  },
  {
   "cell_type": "code",
   "execution_count": 3,
   "metadata": {
    "collapsed": true
   },
   "outputs": [],
   "source": [
    "def hmm_parameters(data,emission_probs,transition_probs,num_trials=10):\n",
    "    \n",
    "    n_trials = data.shape[0] #number of trials in training set\n",
    "    \n",
    "    '''\n",
    "    PARAMETERS TO TUNE\n",
    "    '''\n",
    "    \n",
    "    likeli_df = pd.DataFrame(columns=['Likelihood','p','t'])\n",
    "    \n",
    "    port_features = []\n",
    "    reward_features = []\n",
    "\n",
    "    #change right port to -1 instead of 0\n",
    "    for col in data:\n",
    "        if '_Port' in col:\n",
    "            port_features.append(col)\n",
    "        elif '_Reward' in col:\n",
    "            reward_features.append(col)\n",
    "            \n",
    "    #loop through parameters\n",
    "    for p in emission_probs:\n",
    "        \n",
    "        q = 1.0-p # prob of reward if choose the incorrect side\n",
    "\n",
    "        for t in transition_probs:\n",
    "            '''\n",
    "            Set up transition matrix and observation matrix\n",
    "            '''\n",
    "            #transition matrix\n",
    "            s = 1 - t\n",
    "            T = np.array([[s, t],\n",
    "                         [1.0-s,1.0-t]])\n",
    "            #observation matrix\n",
    "            '''\n",
    "            set up array such that O[r,z,a] = Pr(reward=r | state=z,action=a)\n",
    "\n",
    "            eg. when action = R, observation matrix should be:\n",
    "            O[:,:,0]    = [P(r=0 | z=0,a=0),  P(r=0 | z=1,a=0)\n",
    "                           P(r=1 | z=0,a=0),  P(r=1 | z=1,a=0)]\n",
    "                        = [1-p, 1-q\n",
    "                            p,   q]\n",
    "            '''\n",
    "            O = np.zeros((2,2,2))\n",
    "            # let a 'right' choice be represented by '0'\n",
    "            O[:,:,0] = np.array([[1.0-p, 1.0-q],\n",
    "                                 [p,q]])\n",
    "            O[:,:,1] = np.array([[1.0-q, 1.0-p],\n",
    "                                 [q,p]])\n",
    "\n",
    "            #TEST: All conditional probability distributions must sum to one\n",
    "            #assert np.allclose(O.sum(0),1), \"All conditional probability distributions must sum to one!\n",
    "            '''\n",
    "            run game\n",
    "            '''\n",
    "            likeli = []\n",
    "            \n",
    "            for trial in range(n_trials):\n",
    "\n",
    "                curr_trial = data.iloc[trial]\n",
    "                actions = curr_trial[port_features].values.astype('int')\n",
    "                rewards = curr_trial[reward_features].values.astype('int')\n",
    "                beliefs = np.nan*np.ones((num_trials+1,2))\n",
    "                beliefs[0] = [0.5,0.5] #initialize both sides with equal probability\n",
    "                \n",
    "                #run the algorithm\n",
    "                for play in range(num_trials):\n",
    "\n",
    "                    assert np.allclose(beliefs[play].sum(), 1.0), \"Beliefs must sum to one!\"\n",
    "\n",
    "                    #update neg log likelihood\n",
    "                    likeli.append(-1*np.log(beliefs[play,actions[play]]))\n",
    "\n",
    "                    #update beliefs for next play\n",
    "                    #step 1: multiply by p(r_t | z_t = k, a_t)\n",
    "                    belief_temp = O[rewards[play],:,actions[play]] * beliefs[play]\n",
    "\n",
    "                    #step 2: sum over z_t, weighting by transition matrix\n",
    "                    beliefs[play+1] = T.dot(belief_temp)\n",
    "\n",
    "                    #step 3: normalize\n",
    "                    beliefs[play+1] /= beliefs[play+1].sum()\n",
    "\n",
    "                #update neg log likelihood\n",
    "                likeli.append(-1*np.log(beliefs[-1,actions[-1]]))\n",
    "                    \n",
    "            d = {'Likelihood':np.sum(likeli),'p':p,'t':t}\n",
    "\n",
    "            likeli_df = likeli_df.append(pd.DataFrame(data=d,index=[0]))\n",
    "           \n",
    "        optimal_emmission = likeli_df[likeli_df['Likelihood'] == likeli_df['Likelihood'].min()]['p'].values\n",
    "        optimal_transition = likeli_df[likeli_df['Likelihood'] == likeli_df['Likelihood'].min()]['t'].values\n",
    "    \n",
    "    return [optimal_emmission,optimal_transition,likeli_df]"
   ]
  },
  {
   "cell_type": "code",
   "execution_count": 4,
   "metadata": {
    "collapsed": true
   },
   "outputs": [],
   "source": [
    "# function inputs: DATA, EMISSION_PROB, TRANSITION_PROB=0.02, STRATEGY, N_PREV_TRIALS\n",
    "def hmm_predict(data, emmission_prob, transition_prob=0.02, strategy='greedy', n_prev_trials=10):\n",
    "    \n",
    "    '''\n",
    "    Inputs:\n",
    "        data = pandas dataframe containing port and reward features\n",
    "        emission_prob = reward probability observed by the agent\n",
    "        transition_prob = probability of transitioning between markovian states\n",
    "        strategy = 'greedy,' 'thompson,' 'eps_greedy'\n",
    "        n_prev_trials = int 1 to 10, how many previous trials are used to calculate belief state\n",
    "    '''\n",
    "    \n",
    "    # latent state z (0 left, 1 right)\n",
    "    # action a (0 left, 1 right)\n",
    "    # reward r (0 no reward, 1 reward)\n",
    "    # transition_prob (0 to 1)\n",
    "\n",
    "    # emission probabilities (observed probabilities of reward)\n",
    "    p = emission_prob # probability of reward for correct side\n",
    "    q = 1-p # probability of reward for incorrect side\n",
    "    s = 1-transition_prob # probability of remaining in same state\n",
    "\n",
    "    # transition matrix T[i,j] = p(i->j)\n",
    "    T = np.array([[s, transition_prob],\n",
    "                  [transition_prob, s]])\n",
    "\n",
    "    # observation array O\n",
    "    # O[r,z,a] = Pr(reward=r | state=z, action=a)\n",
    "    O = np.zeros((2,2,2)) # each component has two conditions 0,1\n",
    "    \n",
    "    # right choice = 0, no reward = 0, right state = 0\n",
    "    O[:,:,0] = np.array([[1-p, 1-q],[p,q]]) \n",
    "    O[:,:,1] = np.array([[1-q, 1-p],[q,p]])\n",
    "\n",
    "    # split data into train and test sets (ultimately using same seeds as with LR?)\n",
    "\n",
    "    n_trials = data.shape[0]\n",
    "\n",
    "    #include n_prev_trials past choice and reward values (this is most convenient given the current data structure)\n",
    "    port_features = []\n",
    "    reward_features = []\n",
    "    for col in data:\n",
    "        if '_Port' in col:\n",
    "            port_features.append(col)\n",
    "        elif '_Reward' in col:\n",
    "            reward_features.append(col)\n",
    "\n",
    "    y_predict = np.zeros(n_trials)\n",
    "    beliefs = np.zeros(n_trials)\n",
    "\n",
    "    for trial in range(n_trials):\n",
    "        curr_trial = data.iloc[trial]\n",
    "        actions = curr_trial[port_features].values.astype('int')\n",
    "        rewards = curr_trial[reward_features].values.astype('int')\n",
    "        beliefs_curr = np.nan*np.ones((n_prev_trials+1,2))\n",
    "        beliefs_curr[0] = [0.5,0.5] # initial belief is equal for each port\n",
    "\n",
    "        for i in range(n_prev_trials):\n",
    "\n",
    "            assert np.allclose(beliefs_curr[i].sum(), 1.0), \"Beliefs must sum to one!\"\n",
    "\n",
    "            belief_temp = O[rewards[i],:,actions[i]] * beliefs_curr[i]\n",
    "\n",
    "            beliefs_curr[i+1] = T.dot(belief_temp) # take dot product of transition matrix and previous belief\n",
    "\n",
    "            beliefs_curr[i+1] /= beliefs_curr[i+1].sum()\n",
    "        \n",
    "        if strategy == 'greedy':\n",
    "            y_predict[trial] = np.where(beliefs_curr[-1] == beliefs_curr[-1].max())[0][0] \n",
    "            \n",
    "        elif strategy == 'thompson':\n",
    "            y_predict[trial] = np.random.choice(2,p=[beliefs_curr[-1][0],beliefs_curr[-1][1]])\n",
    "            #y_predict[trial] = np.random.choice(2,p=[p,q])\n",
    "        \n",
    "        elif strategy == 'eps_greedy':\n",
    "            print('need to work on this one')\n",
    "        \n",
    "        beliefs[trial] = beliefs_curr[-1][1]\n",
    "    \n",
    "    return y_predict, beliefs"
   ]
  },
  {
   "cell_type": "code",
   "execution_count": 30,
   "metadata": {
    "collapsed": true
   },
   "outputs": [],
   "source": [
    "data_train, data_test = train_test_split(data, test_size=0.3, random_state=1)"
   ]
  },
  {
   "cell_type": "code",
   "execution_count": 9,
   "metadata": {
    "collapsed": true
   },
   "outputs": [],
   "source": [
    "emission_probs = np.arange(0.60,0.95,0.05)\n",
    "transition_probs = np.arange(0.015,0.045, 0.005)"
   ]
  },
  {
   "cell_type": "code",
   "execution_count": 31,
   "metadata": {
    "collapsed": true
   },
   "outputs": [],
   "source": [
    "optimal_emission, optimal_transition, likeli_df = hmm_parameters(data_train, emission_probs, transition_probs)"
   ]
  },
  {
   "cell_type": "code",
   "execution_count": null,
   "metadata": {
    "collapsed": true
   },
   "outputs": [],
   "source": [
    "optimal_emission = likeli_df_full[likeli_df_full['Likelihood'] == likeli_df_full['Likelihood'].min()]['p'].values\n",
    "optimal_transition = likeli_df_full[likeli_df_full['Likelihood'] == likeli_df_full['Likelihood'].min()]['t'].values"
   ]
  },
  {
   "cell_type": "code",
   "execution_count": 28,
   "metadata": {
    "collapsed": true
   },
   "outputs": [],
   "source": [
    "likeli_df.to_csv(path_or_buf='/Users/celiaberon/Dropbox (HMS)/mouse_bandit/model_outputs/hmm_9010_data_train.csv')"
   ]
  },
  {
   "cell_type": "code",
   "execution_count": null,
   "metadata": {
    "collapsed": true
   },
   "outputs": [],
   "source": [
    "plt.scatter(likeli_df_full['p'],likeli_df_full['Likelihood'])\n",
    "plt.xlabel('emission probability')\n",
    "plt.ylabel('likelihood')\n",
    "plt.title('70-30')"
   ]
  },
  {
   "cell_type": "code",
   "execution_count": null,
   "metadata": {
    "collapsed": true
   },
   "outputs": [],
   "source": [
    "plt.scatter(likeli_df_full['t'],likeli_df_full['Likelihood'])\n",
    "plt.xlabel('transition probability')\n",
    "plt.ylabel('likelihood')\n",
    "plt.title('70-30')"
   ]
  },
  {
   "cell_type": "code",
   "execution_count": 48,
   "metadata": {
    "collapsed": true
   },
   "outputs": [],
   "source": [
    "likeli_df_full = pd.read_csv('/Users/celiaberon/Dropbox (HMS)/mouse_bandit/model_outputs/hmm_8020_data_train.csv', index_col=None)\n"
   ]
  },
  {
   "cell_type": "code",
   "execution_count": 50,
   "metadata": {},
   "outputs": [
    {
     "data": {
      "text/plain": [
       "<matplotlib.legend.Legend at 0x1167614a8>"
      ]
     },
     "execution_count": 50,
     "metadata": {},
     "output_type": "execute_result"
    },
    {
     "data": {
      "image/png": "[encoded data removed]",
      "text/plain": [
       "<matplotlib.figure.Figure at 0x1160b7cf8>"
      ]
     },
     "metadata": {},
     "output_type": "display_data"
    }
   ],
   "source": [
    "plt.scatter(likeli_df_full[likeli_df_full['p']==0.7]['t'],likeli_df_full[likeli_df_full['p']==0.7]['Likelihood'], color='r', label='0.7')\n",
    "plt.scatter(likeli_df_full[likeli_df_full['p']==0.8]['t'],likeli_df_full[likeli_df_full['p']==0.8]['Likelihood'], color='b', label='0.8')\n",
    "plt.scatter(likeli_df_full[likeli_df_full['p']==0.75]['t'],likeli_df_full[likeli_df_full['p']==0.75]['Likelihood'], color='g', label='0.75')\n",
    "plt.scatter(likeli_df_full[likeli_df_full['p']==0.65]['t'],likeli_df_full[likeli_df_full['p']==0.65]['Likelihood'], color='y', label='0.6')\n",
    "\n",
    "plt.xlabel('emission probability')\n",
    "plt.ylabel('likelihood')\n",
    "plt.title('70-30')\n",
    "plt.legend()"
   ]
  },
  {
   "cell_type": "code",
   "execution_count": 63,
   "metadata": {},
   "outputs": [
    {
     "data": {
      "text/plain": [
       "<matplotlib.legend.Legend at 0x1139bc198>"
      ]
     },
     "execution_count": 63,
     "metadata": {},
     "output_type": "execute_result"
    },
    {
     "data": {
      "image/png": "[encoded data removed]",
      "text/plain": [
       "<matplotlib.figure.Figure at 0x112eb1da0>"
      ]
     },
     "metadata": {},
     "output_type": "display_data"
    }
   ],
   "source": [
    "plt.scatter(likeli_df_full[round(likeli_df_full['t'],3)==0.015]['p'],likeli_df_full[round(likeli_df_full['t'],3)==0.015]['Likelihood'], label='0.015')\n",
    "plt.scatter(likeli_df_full[round(likeli_df_full['t'],3)==0.02]['p'],likeli_df_full[round(likeli_df_full['t'],3)==0.02]['Likelihood'], label='0.02')\n",
    "plt.scatter(likeli_df_full[round(likeli_df_full['t'],3)==0.025]['p'],likeli_df_full[round(likeli_df_full['t'],3)==0.025]['Likelihood'], label='0.025')\n",
    "plt.scatter(likeli_df_full[round(likeli_df_full['t'],3)==0.03]['p'],likeli_df_full[round(likeli_df_full['t'],3)==0.03]['Likelihood'], label='0.03')\n",
    "plt.scatter(likeli_df_full[round(likeli_df_full['t'],3)==0.035]['p'],likeli_df_full[round(likeli_df_full['t'],3)==0.035]['Likelihood'], label='0.035')\n",
    "plt.scatter(likeli_df_full[round(likeli_df_full['t'],3)==0.04]['p'],likeli_df_full[round(likeli_df_full['t'],3)==0.04]['Likelihood'], label='0.04')\n",
    "\n",
    "plt.xlabel('emission probability', size=15)\n",
    "plt.ylabel('negative log likelihood', size=15)\n",
    "plt.title('80-20', size=20)\n",
    "plt.legend(bbox_to_anchor=(1,1), title='transition probability')"
   ]
  },
  {
   "cell_type": "code",
   "execution_count": null,
   "metadata": {
    "collapsed": true
   },
   "outputs": [],
   "source": [
    "y_predict, beliefs = hmm_predict(data, optimal_emission[0], optimal_transition[0])"
   ]
  },
  {
   "cell_type": "code",
   "execution_count": null,
   "metadata": {
    "collapsed": true
   },
   "outputs": [],
   "source": [
    "'''Greedy model'''\n",
    "\n",
    "decision = data['Decision'].values\n",
    "prev_decision = data['1_Port'].values\n",
    "\n",
    "switch = np.abs(decision-prev_decision)\n",
    "switch_predict = np.abs(y_predict-prev_decision)\n",
    "\n",
    "accuracy_greedy = np.mean(y_predict==decision)\n",
    "#accuracy=1-np.abs([y_predict[i]-decision[i] for i in range(len(beliefs))]).sum()/len(beliefs)\n",
    "print('accuracy = ', accuracy)\n",
    "\n",
    "precision=1-np.abs([switch_predict[i]-switch[i] for i in np.where(switch_predict==1)]).sum()/np.sum(switch_predict==1)\n",
    "print('precision =', precision)\n",
    "\n",
    "recall=1-np.abs([switch_predict[i]-switch[i] for i in np.where(switch==1)]).sum()/np.sum(switch==1)\n",
    "print('recall =', recall)\n",
    "\n",
    "acc_greedy_switch,acc_greedy_stay,F1=sf.score_both_and_confuse(switch_predict,switch,confusion=False,disp=True)"
   ]
  },
  {
   "cell_type": "code",
   "execution_count": null,
   "metadata": {
    "collapsed": true
   },
   "outputs": [],
   "source": [
    "import sklearn\n",
    "from sklearn.linear_model import LogisticRegression\n",
    "\n",
    "metrics1 = sklearn.metrics.precision_recall_fscore_support(decision, y_predict)\n",
    "\n",
    "metrics2 = sklearn.metrics.precision_recall_fscore_support(switch, switch_predict)\n",
    "\n",
    "metrics2"
   ]
  },
  {
   "cell_type": "code",
   "execution_count": null,
   "metadata": {
    "collapsed": true
   },
   "outputs": [],
   "source": [
    "y_predict_thompson, beliefs = hmm_predict(data, 0.8, strategy='thompson')"
   ]
  },
  {
   "cell_type": "code",
   "execution_count": null,
   "metadata": {
    "collapsed": true
   },
   "outputs": [],
   "source": [
    "'''With Thompson sampling'''\n",
    "y_predict=y_predict_thompson\n",
    "\n",
    "decision = data['Decision'].values\n",
    "prev_decision = data['1_Port'].values\n",
    "\n",
    "switch = np.abs(decision-prev_decision)\n",
    "switch_predict = np.abs(y_predict-prev_decision)\n",
    "\n",
    "accuracy_thom = np.mean(y_predict==decision)\n",
    "#accuracy=1-np.abs([y_predict[i]-decision[i] for i in range(len(beliefs))]).sum()/len(beliefs)\n",
    "print('accuracy = ', accuracy)\n",
    "\n",
    "precision=1-np.abs([switch_predict[i]-switch[i] for i in np.where(switch_predict==1)]).sum()/np.sum(switch_predict==1)\n",
    "print('precision =', precision)\n",
    "\n",
    "recall=1-np.abs([switch_predict[i]-switch[i] for i in np.where(switch==1)]).sum()/np.sum(switch==1)\n",
    "print('recall =', recall)\n",
    "\n",
    "acc_thom_switch,acc_thom_stay,F1=sf.score_both_and_confuse(switch_predict,switch,confusion=False,disp=True)"
   ]
  },
  {
   "cell_type": "code",
   "execution_count": null,
   "metadata": {
    "collapsed": true
   },
   "outputs": [],
   "source": [
    "'''win stay lose switch'''\n",
    "\n",
    "prev_outcome = data['1_Reward'].values\n",
    "wsls_predict = np.abs(1-prev_outcome)\n",
    "acc_pos,acc_neg,F1=sf.score_both_and_confuse(wsls_predict,switch,confusion=False,disp=True)\n",
    "\n",
    "wsls = np.mean(switch[np.where(prev_outcome==0)])\n",
    "print('fraction switches after unrewarded =', wsls)\n",
    "\n",
    "accuracy_wsls = np.mean(prev_outcome==switch)\n",
    "\n",
    "precision_wsls = 1-np.abs([wsls_predict[i]-switch[i] for i in np.where(wsls_predict==1)]).sum()/np.sum(wsls_predict==1)\n",
    "print('precision =', precision_wsls)\n",
    "\n",
    "recall_wsls=1-np.abs([wsls_predict[i]-switch[i] for i in np.where(switch==1)]).sum()/np.sum(switch==1)\n",
    "print('recall =', recall_wsls)"
   ]
  },
  {
   "cell_type": "code",
   "execution_count": null,
   "metadata": {
    "collapsed": true
   },
   "outputs": [],
   "source": [
    "'''Thompson sampling on beliefs'''\n",
    "thompson = [np.random.choice(2,p=[beliefs[i],(1-beliefs[i])]) for i in range(len(beliefs))]\n"
   ]
  },
  {
   "cell_type": "code",
   "execution_count": null,
   "metadata": {
    "collapsed": true,
    "scrolled": true
   },
   "outputs": [],
   "source": [
    "(thompson==y_predict).sum()/len(thompson) # how often do the greedy and thompson hmms agree"
   ]
  },
  {
   "cell_type": "code",
   "execution_count": null,
   "metadata": {
    "collapsed": true
   },
   "outputs": [],
   "source": [
    "np.mean(beliefs) # should be 0.5 if belief switches between ports."
   ]
  },
  {
   "cell_type": "code",
   "execution_count": null,
   "metadata": {
    "collapsed": true
   },
   "outputs": [],
   "source": [
    "lr_acc_switch = 0.128576\n",
    "lr_acc_stay = 0.86242\n",
    "lr_acc = 0.87206\n",
    "\n",
    "height_a = [lr_acc, lr_acc_stay, lr_acc_switch]\n",
    "height_b = [accuracy_greedy, acc_greedy_stay, acc_greedy_switch]\n",
    "height_c = [accuracy_thom, acc_thom_stay, acc_thom_switch]\n",
    "\n",
    "barWidth = 0.2\n",
    "# The x position of bars\n",
    "r1 = np.arange(len(height_b))\n",
    "r2 = [x + barWidth for x in r1]\n",
    "r3 = [x + barWidth for x in r2]\n",
    "\n",
    "conditions = ['full', 'stay', 'switch']\n",
    "plt.bar(r1, height_a, width=barWidth, label='lr')\n",
    "plt.bar(r2, height_b, width=barWidth, label='hmm_greedy')\n",
    "plt.bar(r3, height_c, width=barWidth, label='hmm_thompson')\n",
    "\n",
    "plt.xticks(range(len(height_b)), conditions)\n",
    "plt.ylabel('accuracy')\n",
    "plt.legend()"
   ]
  },
  {
   "cell_type": "code",
   "execution_count": null,
   "metadata": {
    "collapsed": true
   },
   "outputs": [],
   "source": [
    "X, y = bm.feature_history(data)\n",
    "switch_predict = pd.Series(y_predict, index=y.index)\n",
    "reward_combos_hmm, p_switch_hmm = bm.sequences_predict_switch(X,switch_predict)\n",
    "reward_combos_true, p_switch_true = bm.sequences_predict_switch(X,y)"
   ]
  },
  {
   "cell_type": "code",
   "execution_count": null,
   "metadata": {
    "collapsed": true
   },
   "outputs": [],
   "source": [
    "p_switch_hmm-p_switch_true"
   ]
  },
  {
   "cell_type": "code",
   "execution_count": null,
   "metadata": {
    "collapsed": true
   },
   "outputs": [],
   "source": [
    "plt.bar(left=np.arange(len(reward_combos)), height=p_switch_true-p_switch_hmm)"
   ]
  },
  {
   "cell_type": "code",
   "execution_count": null,
   "metadata": {
    "collapsed": true
   },
   "outputs": [],
   "source": []
  }
 ],
 "metadata": {
  "kernelspec": {
   "display_name": "Python 3",
   "language": "python",
   "name": "python3"
  },
  "language_info": {
   "codemirror_mode": {
    "name": "ipython",
    "version": 3
   },
   "file_extension": ".py",
   "mimetype": "text/x-python",
   "name": "python",
   "nbconvert_exporter": "python",
   "pygments_lexer": "ipython3",
   "version": "3.6.1"
  }
 },
 "nbformat": 4,
 "nbformat_minor": 2
}
