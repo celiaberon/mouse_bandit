{
 "cells": [
  {
   "cell_type": "code",
   "execution_count": 172,
   "metadata": {
    "collapsed": true
   },
   "outputs": [],
   "source": [
    "import sys\n",
    "sys.path.append('/Users/celia/GitHub/mouse_bandit/data_preprocessing_code')\n",
    "sys.path.append('/Users/celia/GitHub/mouse_bandit')\n",
    "import support_functions as sf\n",
    "import numpy as np\n",
    "import pandas as pd\n",
    "import scipy as sp\n",
    "import bandit_preprocessing as bp\n",
    "import sys\n",
    "import os\n",
    "import behavior_database"
   ]
  },
  {
   "cell_type": "code",
   "execution_count": 190,
   "metadata": {
    "collapsed": true
   },
   "outputs": [],
   "source": [
    "record_df = pd.read_csv('/Users/celia/GitHub/mouse_bandit/session_record.csv',index_col=0)\n",
    "replace_row_shay = False # change to True if want to substitute old row with new version for imaging data\n",
    "celia_session_record = True"
   ]
  },
  {
   "cell_type": "markdown",
   "metadata": {},
   "source": [
    "### First time we ran this, had to add 'shay' to the old data base and add a new column for Markov\n",
    "    record_df.insert(0,'Owner','shay')\n",
    "    record_df.insert(5,'Markov', 0)"
   ]
  },
  {
   "cell_type": "code",
   "execution_count": 191,
   "metadata": {},
   "outputs": [],
   "source": [
    "if record_df.columns[0] != 'Owner':\n",
    "    record_df.insert(0,'Owner','shay') # add column for name of user\n",
    "if record_df.columns[5] != 'Markov':\n",
    "    record_df.insert(5,'Markov', 0) # add column for binary variable for Markov version of task. All previous values 0."
   ]
  },
  {
   "cell_type": "code",
   "execution_count": 192,
   "metadata": {},
   "outputs": [
    {
     "name": "stdout",
     "output_type": "stream",
     "text": [
      "(807, 18)\n"
     ]
    },
    {
     "data": {
      "text/html": [
       "<div>\n",
       "<style>\n",
       "    .dataframe thead tr:only-child th {\n",
       "        text-align: right;\n",
       "    }\n",
       "\n",
       "    .dataframe thead th {\n",
       "        text-align: left;\n",
       "    }\n",
       "\n",
       "    .dataframe tbody tr th {\n",
       "        vertical-align: top;\n",
       "    }\n",
       "</style>\n",
       "<table border=\"1\" class=\"dataframe\">\n",
       "  <thead>\n",
       "    <tr style=\"text-align: right;\">\n",
       "      <th></th>\n",
       "      <th>Owner</th>\n",
       "      <th>Session ID</th>\n",
       "      <th>Mouse ID</th>\n",
       "      <th>Date</th>\n",
       "      <th>Phase</th>\n",
       "      <th>Markov</th>\n",
       "      <th>Left Reward Prob</th>\n",
       "      <th>Right Reward Prob</th>\n",
       "      <th>Block Range Min</th>\n",
       "      <th>Block Range Max</th>\n",
       "      <th>No. Trials</th>\n",
       "      <th>No. Blocks</th>\n",
       "      <th>No. Rewards</th>\n",
       "      <th>p(high Port)</th>\n",
       "      <th>Decision Window Duration</th>\n",
       "      <th>Min Inter-trial-interval</th>\n",
       "      <th>Left Solenoid Duration</th>\n",
       "      <th>Right Solenoid Duration</th>\n",
       "    </tr>\n",
       "  </thead>\n",
       "  <tbody>\n",
       "    <tr>\n",
       "      <th>802</th>\n",
       "      <td>shay</td>\n",
       "      <td>03102017_K13</td>\n",
       "      <td>K13</td>\n",
       "      <td>2017-03-10 00:00:00</td>\n",
       "      <td>2.0</td>\n",
       "      <td>0</td>\n",
       "      <td>0.8</td>\n",
       "      <td>0.2</td>\n",
       "      <td>50.0</td>\n",
       "      <td>50.0</td>\n",
       "      <td>364.0</td>\n",
       "      <td>4.0</td>\n",
       "      <td>247.0</td>\n",
       "      <td>0.84</td>\n",
       "      <td>2.0</td>\n",
       "      <td>1.0</td>\n",
       "      <td>35.0</td>\n",
       "      <td>35.0</td>\n",
       "    </tr>\n",
       "    <tr>\n",
       "      <th>803</th>\n",
       "      <td>shay</td>\n",
       "      <td>03102017_K7</td>\n",
       "      <td>K7</td>\n",
       "      <td>2017-03-10 00:00:00</td>\n",
       "      <td>2.0</td>\n",
       "      <td>0</td>\n",
       "      <td>0.8</td>\n",
       "      <td>0.2</td>\n",
       "      <td>50.0</td>\n",
       "      <td>50.0</td>\n",
       "      <td>358.0</td>\n",
       "      <td>4.0</td>\n",
       "      <td>250.0</td>\n",
       "      <td>0.84</td>\n",
       "      <td>2.0</td>\n",
       "      <td>1.0</td>\n",
       "      <td>35.0</td>\n",
       "      <td>35.0</td>\n",
       "    </tr>\n",
       "    <tr>\n",
       "      <th>804</th>\n",
       "      <td>shay</td>\n",
       "      <td>03102017_K9</td>\n",
       "      <td>K9</td>\n",
       "      <td>2017-03-10 00:00:00</td>\n",
       "      <td>2.0</td>\n",
       "      <td>0</td>\n",
       "      <td>0.9</td>\n",
       "      <td>0.1</td>\n",
       "      <td>50.0</td>\n",
       "      <td>50.0</td>\n",
       "      <td>329.0</td>\n",
       "      <td>5.0</td>\n",
       "      <td>249.0</td>\n",
       "      <td>0.79</td>\n",
       "      <td>2.0</td>\n",
       "      <td>1.0</td>\n",
       "      <td>35.0</td>\n",
       "      <td>35.0</td>\n",
       "    </tr>\n",
       "    <tr>\n",
       "      <th>805</th>\n",
       "      <td>shay</td>\n",
       "      <td>03102017_Q43</td>\n",
       "      <td>Q43</td>\n",
       "      <td>2017-03-10 00:00:00</td>\n",
       "      <td>2.0</td>\n",
       "      <td>0</td>\n",
       "      <td>0.9</td>\n",
       "      <td>0.1</td>\n",
       "      <td>50.0</td>\n",
       "      <td>50.0</td>\n",
       "      <td>556.0</td>\n",
       "      <td>9.0</td>\n",
       "      <td>476.0</td>\n",
       "      <td>0.90</td>\n",
       "      <td>2.0</td>\n",
       "      <td>1.0</td>\n",
       "      <td>35.0</td>\n",
       "      <td>35.0</td>\n",
       "    </tr>\n",
       "    <tr>\n",
       "      <th>806</th>\n",
       "      <td>shay</td>\n",
       "      <td>03102017_Q45</td>\n",
       "      <td>Q45</td>\n",
       "      <td>2017-03-10 00:00:00</td>\n",
       "      <td>2.0</td>\n",
       "      <td>0</td>\n",
       "      <td>0.1</td>\n",
       "      <td>0.9</td>\n",
       "      <td>50.0</td>\n",
       "      <td>50.0</td>\n",
       "      <td>642.0</td>\n",
       "      <td>10.0</td>\n",
       "      <td>509.0</td>\n",
       "      <td>0.88</td>\n",
       "      <td>2.0</td>\n",
       "      <td>1.0</td>\n",
       "      <td>35.0</td>\n",
       "      <td>35.0</td>\n",
       "    </tr>\n",
       "  </tbody>\n",
       "</table>\n",
       "</div>"
      ],
      "text/plain": [
       "    Owner    Session ID Mouse ID                 Date  Phase  Markov  \\\n",
       "802  shay  03102017_K13      K13  2017-03-10 00:00:00    2.0       0   \n",
       "803  shay   03102017_K7       K7  2017-03-10 00:00:00    2.0       0   \n",
       "804  shay   03102017_K9       K9  2017-03-10 00:00:00    2.0       0   \n",
       "805  shay  03102017_Q43      Q43  2017-03-10 00:00:00    2.0       0   \n",
       "806  shay  03102017_Q45      Q45  2017-03-10 00:00:00    2.0       0   \n",
       "\n",
       "     Left Reward Prob  Right Reward Prob  Block Range Min  Block Range Max  \\\n",
       "802               0.8                0.2             50.0             50.0   \n",
       "803               0.8                0.2             50.0             50.0   \n",
       "804               0.9                0.1             50.0             50.0   \n",
       "805               0.9                0.1             50.0             50.0   \n",
       "806               0.1                0.9             50.0             50.0   \n",
       "\n",
       "     No. Trials  No. Blocks  No. Rewards  p(high Port)  \\\n",
       "802       364.0         4.0        247.0          0.84   \n",
       "803       358.0         4.0        250.0          0.84   \n",
       "804       329.0         5.0        249.0          0.79   \n",
       "805       556.0         9.0        476.0          0.90   \n",
       "806       642.0        10.0        509.0          0.88   \n",
       "\n",
       "     Decision Window Duration  Min Inter-trial-interval  \\\n",
       "802                       2.0                       1.0   \n",
       "803                       2.0                       1.0   \n",
       "804                       2.0                       1.0   \n",
       "805                       2.0                       1.0   \n",
       "806                       2.0                       1.0   \n",
       "\n",
       "     Left Solenoid Duration  Right Solenoid Duration  \n",
       "802                    35.0                     35.0  \n",
       "803                    35.0                     35.0  \n",
       "804                    35.0                     35.0  \n",
       "805                    35.0                     35.0  \n",
       "806                    35.0                     35.0  "
      ]
     },
     "execution_count": 192,
     "metadata": {},
     "output_type": "execute_result"
    }
   ],
   "source": [
    "print(record_df.shape)\n",
    "record_df.tail(5)"
   ]
  },
  {
   "cell_type": "markdown",
   "metadata": {},
   "source": [
    "## Add single day (multi mice) to celia_session_record"
   ]
  },
  {
   "cell_type": "code",
   "execution_count": 193,
   "metadata": {
    "collapsed": true
   },
   "outputs": [],
   "source": [
    "if celia_session_record == True:\n",
    "    record_df = record_df.drop(record_df.index[:]) # if want to reset and start with (for new session record)\n",
    "    \n",
    "    MOUSE = ['Baby','Mustard','Raspberry','Sky','Wine']\n",
    "    ROOT = '/Users/celia/Dropbox (HMS)/Celia_BehaviorFiles/'\n",
    "    root_mouse={}\n",
    "    for mouse in MOUSE: # make list of all mouse directories\n",
    "        temp_dict = {mouse:os.path.join(ROOT,mouse)}\n",
    "        root_mouse.update(temp_dict)\n",
    "\n",
    "    date_folders = os.listdir(root_mouse[MOUSE[0]]) # assuming all mice have same dates \n",
    "    date_folders = date_folders[1:]\n",
    "    for mouse in MOUSE:\n",
    "        for date in date_folders:\n",
    "            curr_dir = os.path.join(root_mouse[mouse], date)\n",
    "            record_df = behavior_database.add_session(curr_dir, record_df, 'celia')\n",
    "    record_df.to_csv(path_or_buf='/Users/celia/GitHub/mouse_bandit/celia_session_record.csv')"
   ]
  },
  {
   "cell_type": "code",
   "execution_count": 195,
   "metadata": {
    "scrolled": false
   },
   "outputs": [
    {
     "data": {
      "text/plain": [
       "(196, 18)"
      ]
     },
     "execution_count": 195,
     "metadata": {},
     "output_type": "execute_result"
    }
   ],
   "source": [
    "record_df.shape"
   ]
  },
  {
   "cell_type": "markdown",
   "metadata": {},
   "source": [
    "## Add any of Shay's data or change existing rows to contain imaging column"
   ]
  },
  {
   "cell_type": "code",
   "execution_count": 147,
   "metadata": {},
   "outputs": [],
   "source": [
    "# any of Shay's old data to be loaded in (dates first)\n",
    "DAY = '03102017'\n",
    "ROOT = '/Users/celia/Dropbox (HMS)/Shay_BehaviorFiles/BehaviorData/datesfirst'\n",
    "root_day = os.path.join(ROOT,DAY)\n",
    "\n",
    "mouse_folders = os.listdir(root_day)\n",
    "\n",
    "for mouse in mouse_folders:\n",
    "    if not mouse[0] == '.':\n",
    "        record_df = record_df[record_df['Session ID']!='%s_%s' % (DAY, mouse)] # remove the original row\n",
    "        curr_dir = os.path.join(root_day,mouse)\n",
    "        record_df = behavior_database.add_session(curr_dir,record_df,'shay', True)\n",
    "\n",
    "if replace_row_shay == True:\n",
    "    record_df.to_csv(path_or_buf='/Users/celia/GitHub/mouse_bandit/session_record.csv')"
   ]
  },
  {
   "cell_type": "code",
   "execution_count": null,
   "metadata": {
    "collapsed": true
   },
   "outputs": [],
   "source": [
    "record_df[record_df['Session ID']==session]"
   ]
  },
  {
   "cell_type": "code",
   "execution_count": 68,
   "metadata": {},
   "outputs": [],
   "source": [
    "# any of Shay's old data to be loaded in (mouse name first)\n",
    "MOUSE = 'Q43'\n",
    "ROOT = '/Users/celia/Dropbox (HMS)/Shay_BehaviorFiles/BehaviorData/'\n",
    "root_mouse = os.path.join(ROOT,MOUSE)\n",
    "\n",
    "date_folders = os.listdir(root_mouse)\n",
    "\n",
    "for date in date_folders:\n",
    "    if not date[0] == '.':\n",
    "        record_df = record_df[record_df['Session ID']!='%s_%s' % (date, MOUSE)] # remove the original row\n",
    "        curr_dir = os.path.join(root_mouse,date)\n",
    "        record_df = behavior_database.add_session(curr_dir,record_df,'shay', True)\n",
    "if replace_row_shay == True:\n",
    "    record_df.to_csv(path_or_buf='/Users/celia/GitHub/mouse_bandit/session_record.csv')"
   ]
  },
  {
   "cell_type": "markdown",
   "metadata": {},
   "source": [
    "## Troubleshooting with the add_session function"
   ]
  },
  {
   "cell_type": "code",
   "execution_count": 94,
   "metadata": {
    "collapsed": true
   },
   "outputs": [],
   "source": [
    "'''set the input parameters to test'''\n",
    "imaging=True\n",
    "root_dir = '/Users/celia/Dropbox (HMS)/Shay_BehaviorFiles/BehaviorData/Q43/11172016'\n",
    "owner_id='shay'"
   ]
  },
  {
   "cell_type": "code",
   "execution_count": 87,
   "metadata": {},
   "outputs": [],
   "source": [
    "\"\"\"set up dataframe\"\"\"\n",
    "\n",
    "output_df = record_df.copy()\n",
    "\n",
    "names = [\n",
    "    'Owner',\n",
    "    'Session ID',\n",
    "    'Mouse ID',\n",
    "    'Date',\n",
    "    'Phase',\n",
    "    'Markov',\n",
    "    'Left Reward Prob',\n",
    "    'Right Reward Prob',\n",
    "    'Block Range Min',\n",
    "    'Block Range Max',\n",
    "    'No. Trials',\n",
    "    'No. Blocks',\n",
    "    'No. Rewards',\n",
    "    'p(high Port)',\n",
    "    'Decision Window Duration',\n",
    "    'Min Inter-trial-interval',\n",
    "    'Left Solenoid Duration',\n",
    "    'Right Solenoid Duration',\n",
    "]\n",
    "\n",
    "    \n",
    "'''\n",
    "load in trial data\n",
    "'''\n",
    "if imaging==True:\n",
    "    columns = ['Elapsed Time (s)','Since last trial (s)',\n",
    "    'Trial Duration (s)','Port Poked','Right Reward Prob',\n",
    "    'Left Reward Prob','Reward Given', 'center_frame', 'decision_frame']\n",
    "else:\n",
    "    columns = ['Elapsed Time (s)','Since last trial (s)',\n",
    "    'Trial Duration (s)','Port Poked','Right Reward Prob',\n",
    "    'Left Reward Prob','Reward Given']"
   ]
  },
  {
   "cell_type": "code",
   "execution_count": 92,
   "metadata": {},
   "outputs": [],
   "source": [
    "'''load in file'''\n",
    "\n",
    "for file in os.listdir(root_dir):\n",
    "    if not file[0] == '.':\n",
    "        file_name = os.path.join(root_dir,file)\n",
    "                \n",
    "        if 'trials.csv' in file:\n",
    "            trials = pd.read_csv(file_name,names=columns)\n",
    "            session_id = file[:file.index('_',9)]\n",
    "                    \n",
    "        elif 'parameters.csv' in file:\n",
    "            params = pd.read_csv(file_name)\n",
    "\n",
    "    else:\n",
    "        raise ValueError('In a hidden folder')          "
   ]
  },
  {
   "cell_type": "code",
   "execution_count": 101,
   "metadata": {},
   "outputs": [],
   "source": [
    "# calculate p(high port)\n",
    "high_p_port = np.zeros(trials.shape[0])\n",
    "        \n",
    "for row in trials.iterrows():\n",
    "    i = row[0]\n",
    "    current_trial = row[1]\n",
    "            \n",
    "    if ((current_trial['Right Reward Prob'] > current_trial['Left Reward Prob']) & (current_trial['Port Poked'] == 1)):\n",
    "        high_p_port[i] = 1\n",
    "    elif ((current_trial['Right Reward Prob'] < current_trial['Left Reward Prob']) & (current_trial['Port Poked'] == 2)):\n",
    "        high_p_port[i] = 1\n",
    "  \n",
    " # determine what stage in training we are in        \n",
    "if params['centerPokeTrigger'].values == 0:\n",
    "    phase = 0\n",
    "elif (params['leftRewardProb'].values == params['rightRewardProb'].values):\n",
    "    phase = 1\n",
    "else:\n",
    "    phase = 2\n",
    "           \n",
    "# convert date to datetime object\n",
    "date = session_id[:8]\n",
    "date_str =  np.str(date)\n",
    "if (len(date_str) == 7):\n",
    "    date_str = '0' + date_str\n",
    "datetime = pd.to_datetime(date_str,format='%m%d%Y')\n",
    "        \n",
    "# check whether ismarkov is already a variable stored in params\n",
    "if hasattr(params, 'ismarkov')==False:\n",
    "    params['ismarkov']=0 # if not, set ismarkov to zero\n",
    "        \n",
    "# correct for block range stats if markov task was run\n",
    "if params.loc[0,('ismarkov')]==1:\n",
    "    params.loc[:,('blockRangeMin', 'blockRangeMax')] ='NaN'\n",
    "\n",
    "            \n",
    "# create a dictionary with all information\n",
    "record = {\n",
    "    'Owner': owner_id,\n",
    "    'Session ID': session_id,\n",
    "    'Mouse ID': session_id[9:],\n",
    "    'Date': datetime,\n",
    "    'Phase': phase,\n",
    "    'Markov': params['ismarkov'],\n",
    "    'Left Reward Prob': params['leftRewardProb'].values,\n",
    "    'Right Reward Prob': params['rightRewardProb'].values,\n",
    "    'Block Range Min': params['blockRangeMin'],\n",
    "    'Block Range Max': params['blockRangeMax'],\n",
    "    'No. Trials': trials.shape[0],\n",
    "    'No. Blocks': np.sum(np.diff(trials['Right Reward Prob'].values) != 0),\n",
    "    'No. Rewards': np.sum(trials['Reward Given']),\n",
    "    'p(high Port)': np.round(high_p_port.mean(),decimals=2),\n",
    "    'Decision Window Duration': params['centerPokeRewardWindow'],\n",
    "    'Min Inter-trial-interval': params['minInterTrialInterval'],\n",
    "    'Left Solenoid Duration': params['rewardDurationLeft'],\n",
    "    'Right Solenoid Duration': params['rewardDurationRight']\n",
    "                 }\n",
    "        \n",
    "#create DataFrame         \n",
    "output_df = output_df.append(pd.DataFrame(data=record,columns=names),ignore_index=True)  \n",
    "output_df = output_df.drop_duplicates()   \n",
    "    "
   ]
  }
 ],
 "metadata": {
  "kernelspec": {
   "display_name": "Python 3",
   "language": "python",
   "name": "python3"
  },
  "language_info": {
   "codemirror_mode": {
    "name": "ipython",
    "version": 3
   },
   "file_extension": ".py",
   "mimetype": "text/x-python",
   "name": "python",
   "nbconvert_exporter": "python",
   "pygments_lexer": "ipython3",
   "version": "3.6.1"
  }
 },
 "nbformat": 4,
 "nbformat_minor": 2
}
