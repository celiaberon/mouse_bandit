{
 "cells": [
  {
   "cell_type": "code",
   "execution_count": 1,
   "metadata": {
    "collapsed": true
   },
   "outputs": [],
   "source": [
    "import pandas as pd"
   ]
  },
  {
   "cell_type": "code",
   "execution_count": 16,
   "metadata": {
    "collapsed": true
   },
   "outputs": [],
   "source": [
    "def choice_history_lateral(data):\n",
    "    #include past 10 choice and reward values (this is most convenient given the current data structure)\n",
    "    port_features = []\n",
    "    reward_features = []\n",
    "    for col in data.columns:\n",
    "        if '_Port' in col:\n",
    "            port_features.append(col)\n",
    "        if '_Reward' in col:\n",
    "            reward_features.append(col)\n",
    "\n",
    "    choice_raw = data[port_features] # choice history\n",
    "    reward_raw = data[reward_features] # reward history\n",
    "    y_raw = data['Decision']\n",
    "    \n",
    "    c = choice_raw.copy()\n",
    "    r = reward_raw.copy()\n",
    "\n",
    "   \n",
    "    r[reward_raw==0]=-1 # make unrewarded -1\n",
    "    \n",
    "    '''left choice dataframes'''\n",
    "    # right choice already equals 0 in original data\n",
    "    X_left = c.values * r.values # 1=left rewarded, -1=left unrewarded, 0=right\n",
    "    y_left=y_raw.copy()\n",
    "\n",
    "    \n",
    "    '''right choice dataframes'''\n",
    "    c[choice_raw==0]=1 # make right choice 1 instead of zero (basically flipping binary rep to match with left dataframe)\n",
    "    c[choice_raw==1]=0\n",
    "    \n",
    "    X_right = c.values *r.values\n",
    "   \n",
    "    y_right=y_raw.copy()\n",
    "    y_right[y_raw==0]=1\n",
    "    y_right[y_raw==1]=0\n",
    "                    \n",
    "    return X_left, X_right, y_left, y_right, choice_raw\n",
    "\n"
   ]
  },
  {
   "cell_type": "code",
   "execution_count": 5,
   "metadata": {
    "collapsed": true
   },
   "outputs": [],
   "source": [
    "data = pd.read_csv('/Users/celiaberon/Dropbox (HMS)/mouse_bandit/markov_full.csv', index_col=0)"
   ]
  },
  {
   "cell_type": "code",
   "execution_count": 17,
   "metadata": {
    "collapsed": true
   },
   "outputs": [],
   "source": [
    "X_left, X_right, y_left, y_right, c = choice_history_lateral(data)"
   ]
  },
  {
   "cell_type": "code",
   "execution_count": 23,
   "metadata": {},
   "outputs": [
    {
     "data": {
      "text/html": [
       "<div>\n",
       "<table border=\"1\" class=\"dataframe\">\n",
       "  <thead>\n",
       "    <tr style=\"text-align: right;\">\n",
       "      <th></th>\n",
       "      <th>10_Port</th>\n",
       "      <th>9_Port</th>\n",
       "      <th>8_Port</th>\n",
       "      <th>7_Port</th>\n",
       "      <th>6_Port</th>\n",
       "      <th>5_Port</th>\n",
       "      <th>4_Port</th>\n",
       "      <th>3_Port</th>\n",
       "      <th>2_Port</th>\n",
       "      <th>1_Port</th>\n",
       "    </tr>\n",
       "  </thead>\n",
       "  <tbody>\n",
       "    <tr>\n",
       "      <th>0</th>\n",
       "      <td>0.0</td>\n",
       "      <td>0.0</td>\n",
       "      <td>1.0</td>\n",
       "      <td>1.0</td>\n",
       "      <td>1.0</td>\n",
       "      <td>1.0</td>\n",
       "      <td>1.0</td>\n",
       "      <td>1.0</td>\n",
       "      <td>1.0</td>\n",
       "      <td>1.0</td>\n",
       "    </tr>\n",
       "    <tr>\n",
       "      <th>1</th>\n",
       "      <td>0.0</td>\n",
       "      <td>1.0</td>\n",
       "      <td>1.0</td>\n",
       "      <td>1.0</td>\n",
       "      <td>1.0</td>\n",
       "      <td>1.0</td>\n",
       "      <td>1.0</td>\n",
       "      <td>1.0</td>\n",
       "      <td>1.0</td>\n",
       "      <td>1.0</td>\n",
       "    </tr>\n",
       "    <tr>\n",
       "      <th>2</th>\n",
       "      <td>1.0</td>\n",
       "      <td>1.0</td>\n",
       "      <td>1.0</td>\n",
       "      <td>1.0</td>\n",
       "      <td>1.0</td>\n",
       "      <td>1.0</td>\n",
       "      <td>1.0</td>\n",
       "      <td>1.0</td>\n",
       "      <td>1.0</td>\n",
       "      <td>1.0</td>\n",
       "    </tr>\n",
       "    <tr>\n",
       "      <th>3</th>\n",
       "      <td>1.0</td>\n",
       "      <td>1.0</td>\n",
       "      <td>1.0</td>\n",
       "      <td>1.0</td>\n",
       "      <td>1.0</td>\n",
       "      <td>1.0</td>\n",
       "      <td>1.0</td>\n",
       "      <td>1.0</td>\n",
       "      <td>1.0</td>\n",
       "      <td>1.0</td>\n",
       "    </tr>\n",
       "    <tr>\n",
       "      <th>4</th>\n",
       "      <td>1.0</td>\n",
       "      <td>1.0</td>\n",
       "      <td>1.0</td>\n",
       "      <td>1.0</td>\n",
       "      <td>1.0</td>\n",
       "      <td>1.0</td>\n",
       "      <td>1.0</td>\n",
       "      <td>1.0</td>\n",
       "      <td>1.0</td>\n",
       "      <td>1.0</td>\n",
       "    </tr>\n",
       "  </tbody>\n",
       "</table>\n",
       "</div>"
      ],
      "text/plain": [
       "   10_Port  9_Port  8_Port  7_Port  6_Port  5_Port  4_Port  3_Port  2_Port  \\\n",
       "0      0.0     0.0     1.0     1.0     1.0     1.0     1.0     1.0     1.0   \n",
       "1      0.0     1.0     1.0     1.0     1.0     1.0     1.0     1.0     1.0   \n",
       "2      1.0     1.0     1.0     1.0     1.0     1.0     1.0     1.0     1.0   \n",
       "3      1.0     1.0     1.0     1.0     1.0     1.0     1.0     1.0     1.0   \n",
       "4      1.0     1.0     1.0     1.0     1.0     1.0     1.0     1.0     1.0   \n",
       "\n",
       "   1_Port  \n",
       "0     1.0  \n",
       "1     1.0  \n",
       "2     1.0  \n",
       "3     1.0  \n",
       "4     1.0  "
      ]
     },
     "execution_count": 23,
     "metadata": {},
     "output_type": "execute_result"
    }
   ],
   "source": [
    "c.head()"
   ]
  }
 ],
 "metadata": {
  "kernelspec": {
   "display_name": "Python 3",
   "language": "python",
   "name": "python3"
  },
  "language_info": {
   "codemirror_mode": {
    "name": "ipython",
    "version": 3
   },
   "file_extension": ".py",
   "mimetype": "text/x-python",
   "name": "python",
   "nbconvert_exporter": "python",
   "pygments_lexer": "ipython3",
   "version": "3.6.1"
  }
 },
 "nbformat": 4,
 "nbformat_minor": 2
}
