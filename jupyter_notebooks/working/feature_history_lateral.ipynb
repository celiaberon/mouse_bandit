{
 "cells": [
  {
   "cell_type": "code",
   "execution_count": 1,
   "metadata": {
    "collapsed": true
   },
   "outputs": [],
   "source": [
    "import pandas as pd"
   ]
  },
  {
   "cell_type": "code",
   "execution_count": 7,
   "metadata": {},
   "outputs": [],
   "source": [
    "def choice_history_lateral(data):\n",
    "    #include past 10 choice and reward values (this is most convenient given the current data structure)\n",
    "    port_features = []\n",
    "    reward_features = []\n",
    "    for col in data.columns:\n",
    "        if '_Port' in col:\n",
    "            port_features.append(col)\n",
    "        if '_Reward' in col:\n",
    "            reward_features.append(col)\n",
    "\n",
    "    choice_raw = data[port_features] # choice history\n",
    "    reward_raw = data[reward_features] # reward history\n",
    "    y_raw = data['Decision']\n",
    "    \n",
    "    c = choice_raw.copy()\n",
    "    r = reward_raw.copy()\n",
    "\n",
    "   \n",
    "    r[reward_raw==0]=-1 # make unrewarded -1\n",
    "    \n",
    "    '''left choice dataframes'''\n",
    "    # right choice already equals 0 in original data\n",
    "    X_left = c.values * r.values # 1=left rewarded, -1=left unrewarded, 0=right\n",
    "    y_left=y_raw.copy()\n",
    "\n",
    "    \n",
    "    '''right choice dataframes'''\n",
    "    c[choice_raw==0]=1 # make right choice 1 instead of zero (basically flipping binary rep to match with left dataframe)\n",
    "    c[choice_raw==1]=0\n",
    "    \n",
    "    X_right = c.values *r.values\n",
    "   \n",
    "    y_right=y_raw.copy()\n",
    "    y_right[y_raw==0]=1\n",
    "    y_right[y_raw==1]=0\n",
    "                    \n",
    "    return X_left, X_right, y_left, y_right, c\n",
    "\n"
   ]
  },
  {
   "cell_type": "code",
   "execution_count": 5,
   "metadata": {},
   "outputs": [],
   "source": [
    "data = pd.read_csv('/Users/celiaberon/Dropbox (HMS)/mouse_bandit/markov_full.csv', index_col=0)"
   ]
  },
  {
   "cell_type": "code",
   "execution_count": 8,
   "metadata": {},
   "outputs": [],
   "source": [
    "X_left, X_right, y_left, y_right, c = choice_history_lateral(data)"
   ]
  },
  {
   "cell_type": "code",
   "execution_count": null,
   "metadata": {
    "collapsed": true
   },
   "outputs": [],
   "source": []
  }
 ],
 "metadata": {
  "kernelspec": {
   "display_name": "Python 3",
   "language": "python",
   "name": "python3"
  },
  "language_info": {
   "codemirror_mode": {
    "name": "ipython",
    "version": 3
   },
   "file_extension": ".py",
   "mimetype": "text/x-python",
   "name": "python",
   "nbconvert_exporter": "python",
   "pygments_lexer": "ipython3",
   "version": "3.6.1"
  }
 },
 "nbformat": 4,
 "nbformat_minor": 2
}
