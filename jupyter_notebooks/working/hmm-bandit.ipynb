{
 "cells": [
  {
   "cell_type": "code",
   "execution_count": 18,
   "metadata": {},
   "outputs": [],
   "source": [
    "import getpass\n",
    "username = getpass.getuser()\n",
    "\n",
    "import numpy as np\n",
    "import pandas as pd\n",
    "import matplotlib.pyplot as plt\n",
    "import sys\n",
    "sys.path.append('/Users/{:}/GitHub/mouse_bandit/data_preprocessing_code'.format(username))\n",
    "sys.path.append('/Users/{:}/GitHub/mouse_bandit'.format(username))\n",
    "import support_functions as sf\n",
    "% matplotlib inline"
   ]
  },
  {
   "cell_type": "code",
   "execution_count": 3,
   "metadata": {},
   "outputs": [
    {
     "data": {
      "text/html": [
       "<div>\n",
       "<table border=\"1\" class=\"dataframe\">\n",
       "  <thead>\n",
       "    <tr style=\"text-align: right;\">\n",
       "      <th></th>\n",
       "      <th>index</th>\n",
       "      <th>Mouse ID</th>\n",
       "      <th>Session ID</th>\n",
       "      <th>Trial</th>\n",
       "      <th>Block Trial</th>\n",
       "      <th>Block Reward</th>\n",
       "      <th>Port Streak</th>\n",
       "      <th>Reward Streak</th>\n",
       "      <th>10_Port</th>\n",
       "      <th>10_Reward</th>\n",
       "      <th>...</th>\n",
       "      <th>1_trialDuration</th>\n",
       "      <th>0_ITI</th>\n",
       "      <th>0_trialDuration</th>\n",
       "      <th>Decision</th>\n",
       "      <th>Switch</th>\n",
       "      <th>Higher p port</th>\n",
       "      <th>Reward</th>\n",
       "      <th>Condition</th>\n",
       "      <th>Block ID</th>\n",
       "      <th>Current Block Length</th>\n",
       "    </tr>\n",
       "  </thead>\n",
       "  <tbody>\n",
       "    <tr>\n",
       "      <th>106400</th>\n",
       "      <td>0</td>\n",
       "      <td>Baby</td>\n",
       "      <td>01112018_Baby</td>\n",
       "      <td>11.0</td>\n",
       "      <td>11.0</td>\n",
       "      <td>5.0</td>\n",
       "      <td>2.0</td>\n",
       "      <td>-2.0</td>\n",
       "      <td>0.0</td>\n",
       "      <td>1.0</td>\n",
       "      <td>...</td>\n",
       "      <td>0.566</td>\n",
       "      <td>1.544</td>\n",
       "      <td>0.560</td>\n",
       "      <td>0.0</td>\n",
       "      <td>1.0</td>\n",
       "      <td>1.0</td>\n",
       "      <td>1.0</td>\n",
       "      <td>80-20</td>\n",
       "      <td>1.0</td>\n",
       "      <td>13.0</td>\n",
       "    </tr>\n",
       "    <tr>\n",
       "      <th>106401</th>\n",
       "      <td>1</td>\n",
       "      <td>Baby</td>\n",
       "      <td>01112018_Baby</td>\n",
       "      <td>12.0</td>\n",
       "      <td>12.0</td>\n",
       "      <td>6.0</td>\n",
       "      <td>1.0</td>\n",
       "      <td>1.0</td>\n",
       "      <td>0.0</td>\n",
       "      <td>1.0</td>\n",
       "      <td>...</td>\n",
       "      <td>0.560</td>\n",
       "      <td>2.506</td>\n",
       "      <td>0.497</td>\n",
       "      <td>0.0</td>\n",
       "      <td>0.0</td>\n",
       "      <td>1.0</td>\n",
       "      <td>1.0</td>\n",
       "      <td>80-20</td>\n",
       "      <td>1.0</td>\n",
       "      <td>13.0</td>\n",
       "    </tr>\n",
       "    <tr>\n",
       "      <th>106402</th>\n",
       "      <td>2</td>\n",
       "      <td>Baby</td>\n",
       "      <td>01112018_Baby</td>\n",
       "      <td>13.0</td>\n",
       "      <td>0.0</td>\n",
       "      <td>7.0</td>\n",
       "      <td>2.0</td>\n",
       "      <td>2.0</td>\n",
       "      <td>0.0</td>\n",
       "      <td>0.0</td>\n",
       "      <td>...</td>\n",
       "      <td>0.497</td>\n",
       "      <td>2.526</td>\n",
       "      <td>0.562</td>\n",
       "      <td>0.0</td>\n",
       "      <td>0.0</td>\n",
       "      <td>0.0</td>\n",
       "      <td>0.0</td>\n",
       "      <td>80-20</td>\n",
       "      <td>2.0</td>\n",
       "      <td>53.0</td>\n",
       "    </tr>\n",
       "    <tr>\n",
       "      <th>106403</th>\n",
       "      <td>3</td>\n",
       "      <td>Baby</td>\n",
       "      <td>01112018_Baby</td>\n",
       "      <td>14.0</td>\n",
       "      <td>1.0</td>\n",
       "      <td>0.0</td>\n",
       "      <td>3.0</td>\n",
       "      <td>-1.0</td>\n",
       "      <td>1.0</td>\n",
       "      <td>0.0</td>\n",
       "      <td>...</td>\n",
       "      <td>0.562</td>\n",
       "      <td>1.780</td>\n",
       "      <td>0.587</td>\n",
       "      <td>0.0</td>\n",
       "      <td>0.0</td>\n",
       "      <td>0.0</td>\n",
       "      <td>0.0</td>\n",
       "      <td>80-20</td>\n",
       "      <td>2.0</td>\n",
       "      <td>53.0</td>\n",
       "    </tr>\n",
       "    <tr>\n",
       "      <th>106404</th>\n",
       "      <td>4</td>\n",
       "      <td>Baby</td>\n",
       "      <td>01112018_Baby</td>\n",
       "      <td>15.0</td>\n",
       "      <td>2.0</td>\n",
       "      <td>0.0</td>\n",
       "      <td>4.0</td>\n",
       "      <td>-2.0</td>\n",
       "      <td>0.0</td>\n",
       "      <td>1.0</td>\n",
       "      <td>...</td>\n",
       "      <td>0.587</td>\n",
       "      <td>4.313</td>\n",
       "      <td>0.382</td>\n",
       "      <td>1.0</td>\n",
       "      <td>1.0</td>\n",
       "      <td>1.0</td>\n",
       "      <td>1.0</td>\n",
       "      <td>80-20</td>\n",
       "      <td>2.0</td>\n",
       "      <td>53.0</td>\n",
       "    </tr>\n",
       "  </tbody>\n",
       "</table>\n",
       "<p>5 rows × 57 columns</p>\n",
       "</div>"
      ],
      "text/plain": [
       "        index Mouse ID     Session ID  Trial  Block Trial  Block Reward  \\\n",
       "106400      0     Baby  01112018_Baby   11.0         11.0           5.0   \n",
       "106401      1     Baby  01112018_Baby   12.0         12.0           6.0   \n",
       "106402      2     Baby  01112018_Baby   13.0          0.0           7.0   \n",
       "106403      3     Baby  01112018_Baby   14.0          1.0           0.0   \n",
       "106404      4     Baby  01112018_Baby   15.0          2.0           0.0   \n",
       "\n",
       "        Port Streak  Reward Streak  10_Port  10_Reward          ...           \\\n",
       "106400          2.0           -2.0      0.0        1.0          ...            \n",
       "106401          1.0            1.0      0.0        1.0          ...            \n",
       "106402          2.0            2.0      0.0        0.0          ...            \n",
       "106403          3.0           -1.0      1.0        0.0          ...            \n",
       "106404          4.0           -2.0      0.0        1.0          ...            \n",
       "\n",
       "        1_trialDuration  0_ITI  0_trialDuration  Decision  Switch  \\\n",
       "106400            0.566  1.544            0.560       0.0     1.0   \n",
       "106401            0.560  2.506            0.497       0.0     0.0   \n",
       "106402            0.497  2.526            0.562       0.0     0.0   \n",
       "106403            0.562  1.780            0.587       0.0     0.0   \n",
       "106404            0.587  4.313            0.382       1.0     1.0   \n",
       "\n",
       "        Higher p port  Reward  Condition  Block ID  Current Block Length  \n",
       "106400            1.0     1.0      80-20       1.0                  13.0  \n",
       "106401            1.0     1.0      80-20       1.0                  13.0  \n",
       "106402            0.0     0.0      80-20       2.0                  53.0  \n",
       "106403            0.0     0.0      80-20       2.0                  53.0  \n",
       "106404            1.0     1.0      80-20       2.0                  53.0  \n",
       "\n",
       "[5 rows x 57 columns]"
      ]
     },
     "execution_count": 3,
     "metadata": {},
     "output_type": "execute_result"
    }
   ],
   "source": [
    "data = pd.read_csv('/Users/{:}/Dropbox (HMS)/mouse_bandit/markov_full.csv'.format(username), index_col=0)\n",
    "#data = data[data['Mouse ID']=='Baby']\n",
    "data = data[data['Condition']=='80-20']\n",
    "data.head()"
   ]
  },
  {
   "cell_type": "markdown",
   "metadata": {},
   "source": [
    "Markov process is one in which the future state of the system does not depend on more (history) than the current state"
   ]
  },
  {
   "cell_type": "code",
   "execution_count": 4,
   "metadata": {
    "collapsed": true
   },
   "outputs": [],
   "source": [
    "emission_prob = 0.8\n",
    "transition_prob = 0.02"
   ]
  },
  {
   "cell_type": "code",
   "execution_count": 115,
   "metadata": {},
   "outputs": [],
   "source": [
    "# function inputs: DATA, EMISSIONPROB, TRANSITION_PROB=0.02\n",
    "def hmm_pred(data, emmission_prob, transition_prob=0.02, strategy='greedy', n_prev_trials=10):\n",
    "\n",
    "    # latent state z (0 left, 1 right)\n",
    "    # action a (0 left, 1 right)\n",
    "    # reward r (0 no reward, 1 reward)\n",
    "    # transition_prob = 0.02\n",
    "\n",
    "    # emission probabilities (observed probabilities of reward)\n",
    "    p = emission_prob # probability of reward for correct side\n",
    "    q = 1-p # probability of reward for incorrect side\n",
    "    s = 1-transition_prob # probability of remaining in same state\n",
    "\n",
    "    # transition matrix T[i,j] = i->j\n",
    "    T = np.array([[s, transition_prob],[transition_prob, s]])\n",
    "\n",
    "    # observation array O\n",
    "    # O[r,z,a] = Pr(reward=r | state=z, action=a)\n",
    "    O = np.zeros((2,2,2)) # each component has two conditions 0,1\n",
    "    # right choice = 0, no reward = 0, right state = 0\n",
    "    O[:,:,0] = np.array([[1-p, 1-q],[p,q]]) \n",
    "    O[:,:,1] = np.array([[1-q, 1-p],[q,p]])\n",
    "\n",
    "    # split data into train and test sets (ultimately using same seeds as with LR?)\n",
    "\n",
    "    n_trials = data.shape[0]\n",
    "\n",
    "    #include past 10 choice and reward values (this is most convenient given the current data structure)\n",
    "    port_columns = []\n",
    "    reward_columns = []\n",
    "    for col in data:\n",
    "        if '_Port' in col:\n",
    "            port_columns.append(col)\n",
    "        elif '_Reward' in col:\n",
    "            reward_columns.append(col)\n",
    "\n",
    "    y_predict = np.zeros(n_trials)\n",
    "    beliefs = np.zeros(n_trials)\n",
    "\n",
    "\n",
    "    for trial in range(n_trials):\n",
    "        curr_trial = data.iloc[trial]\n",
    "        actions = curr_trial[port_columns].values.astype('int')\n",
    "        rewards = curr_trial[reward_columns].values.astype('int')\n",
    "        beliefs_curr = np.nan*np.ones((n_prev_trials+1,2))\n",
    "        beliefs_curr[0] = [0.5,0.5] # initial belief is equal for each port\n",
    "\n",
    "        for i in range(n_prev_trials):\n",
    "            #what is this ?\n",
    "            assert np.allclose(beliefs_curr[i].sum(), 1.0), \"Beliefs must sum to one!\"\n",
    "\n",
    "            belief_temp = O[rewards[i],:,actions[i]] * beliefs_curr[i]\n",
    "\n",
    "            beliefs_curr[i+1] = T.dot(belief_temp) # take dot product of transition matrix and previous belief\n",
    "\n",
    "            beliefs_curr[i+1] /= beliefs_curr[i+1].sum()\n",
    "        \n",
    "        if strategy == 'greedy':\n",
    "            y_predict[trial] = np.where(beliefs_curr[-1] == beliefs_curr[-1].max())[0][0] \n",
    "            \n",
    "        elif strategy == 'thompson':\n",
    "            y_predict[trial] = np.random.choice(2,p=[beliefs_curr[-1][0],beliefs_curr[-1][1]])\n",
    "        \n",
    "        elif strategy == 'eps_greedy':\n",
    "            print('need to work on this one')\n",
    "        \n",
    "        beliefs[trial] = beliefs_curr[-1][1]\n",
    "    \n",
    "    return y_predict, beliefs"
   ]
  },
  {
   "cell_type": "code",
   "execution_count": 116,
   "metadata": {},
   "outputs": [],
   "source": [
    "y_predict, beliefs = hmm_pred(data, 0.8)"
   ]
  },
  {
   "cell_type": "code",
   "execution_count": 117,
   "metadata": {},
   "outputs": [
    {
     "data": {
      "text/plain": [
       "array([ 0.,  0.,  0., ...,  0.,  0.,  0.])"
      ]
     },
     "execution_count": 117,
     "metadata": {},
     "output_type": "execute_result"
    }
   ],
   "source": [
    "y_predict # greedy default"
   ]
  },
  {
   "cell_type": "code",
   "execution_count": 118,
   "metadata": {},
   "outputs": [],
   "source": [
    "y_predict_thompson, beliefs = hmm_pred(data, 0.8, strategy='thompson')"
   ]
  },
  {
   "cell_type": "code",
   "execution_count": 120,
   "metadata": {},
   "outputs": [
    {
     "data": {
      "text/plain": [
       "array([ 0.02650486,  0.02650023,  0.02649823, ...,  0.02649823,\n",
       "        0.11422885,  0.04999354])"
      ]
     },
     "execution_count": 120,
     "metadata": {},
     "output_type": "execute_result"
    }
   ],
   "source": [
    "beliefs"
   ]
  },
  {
   "cell_type": "code",
   "execution_count": 14,
   "metadata": {},
   "outputs": [],
   "source": [
    "decision = data['Decision'].values\n",
    "prev_decision = data['1_Port'].values\n",
    "\n",
    "switch = np.abs(decision-prev_decision)\n",
    "switch_predict = np.abs(y_predict-prev_decision)\n"
   ]
  },
  {
   "cell_type": "code",
   "execution_count": 12,
   "metadata": {},
   "outputs": [
    {
     "data": {
      "text/plain": [
       "0.13261655222262378"
      ]
     },
     "execution_count": 12,
     "metadata": {},
     "output_type": "execute_result"
    }
   ],
   "source": [
    "np.abs([y_predict[i]-decisions[i] for i in range(len(beliefs))]).sum()/len(beliefs)"
   ]
  },
  {
   "cell_type": "code",
   "execution_count": 19,
   "metadata": {},
   "outputs": [
    {
     "name": "stdout",
     "output_type": "stream",
     "text": [
      "          Predicted NO  Predicted YES\n",
      "True NO        91722.0        11737.0\n",
      "True YES        2941.0         4280.0\n",
      "\n",
      "F1: 0.368\n",
      "\n",
      "Accuracy on class 0: 0.89\n",
      "Accuracy on class 1: 0.59\n",
      "\n"
     ]
    }
   ],
   "source": [
    "acc_pos,acc_neg,F1=sf.score_both_and_confuse(switch_predict,switch,confusion=False,disp=True)"
   ]
  },
  {
   "cell_type": "code",
   "execution_count": 91,
   "metadata": {},
   "outputs": [
    {
     "data": {
      "text/plain": [
       "(array([ 0.9689319 ,  0.26721608]),\n",
       " array([ 0.88655409,  0.59271569]),\n",
       " array([ 0.92591434,  0.36836217]),\n",
       " array([103459,   7221]))"
      ]
     },
     "execution_count": 91,
     "metadata": {},
     "output_type": "execute_result"
    }
   ],
   "source": [
    "import sklearn\n",
    "from sklearn.linear_model import LogisticRegression\n",
    "\n",
    "metrics1 = sklearn.metrics.precision_recall_fscore_support(decisions, y_predict)\n",
    "\n",
    "metrics2 = sklearn.metrics.precision_recall_fscore_support(switch, switch_predict)\n",
    "\n",
    "metrics2\n"
   ]
  },
  {
   "cell_type": "code",
   "execution_count": 22,
   "metadata": {},
   "outputs": [
    {
     "name": "stdout",
     "output_type": "stream",
     "text": [
      "          Predicted NO  Predicted YES\n",
      "True NO        76032.0        27427.0\n",
      "True YES        1116.0         6105.0\n",
      "\n",
      "F1: 0.300\n",
      "\n",
      "Accuracy on class 0: 0.73\n",
      "Accuracy on class 1: 0.85\n",
      "\n"
     ]
    }
   ],
   "source": [
    "'''win stay lose switch'''\n",
    "\n",
    "prev_outcome = data['1_Reward'].values\n",
    "wsls_predict = np.abs(1-prev_outcome)\n",
    "acc_pos,acc_neg,F1=sf.score_both_and_confuse(wsls_predict,switch,confusion=False,disp=True)"
   ]
  },
  {
   "cell_type": "code",
   "execution_count": 85,
   "metadata": {},
   "outputs": [
    {
     "data": {
      "text/plain": [
       "110680"
      ]
     },
     "execution_count": 85,
     "metadata": {},
     "output_type": "execute_result"
    }
   ],
   "source": [
    "'''Thompson sampling on beliefs'''\n",
    "thompson = [np.random.choice(2,p=[beliefs[i],(1-beliefs[i])]) for i in range(len(beliefs))]\n"
   ]
  },
  {
   "cell_type": "code",
   "execution_count": 86,
   "metadata": {},
   "outputs": [
    {
     "data": {
      "text/plain": [
       "100386"
      ]
     },
     "execution_count": 86,
     "metadata": {},
     "output_type": "execute_result"
    }
   ],
   "source": [
    "(thompson==y_predict).sum() # how often do the greedy and thompson hmms agree"
   ]
  },
  {
   "cell_type": "code",
   "execution_count": 88,
   "metadata": {
    "collapsed": true
   },
   "outputs": [],
   "source": [
    "precision = np.abs([y_predict[i]-decisions[i] for i in range(len(beliefs))]).sum()/len(beliefs)"
   ]
  },
  {
   "cell_type": "code",
   "execution_count": 90,
   "metadata": {},
   "outputs": [
    {
     "data": {
      "text/plain": [
       "0.13261655222262378"
      ]
     },
     "execution_count": 90,
     "metadata": {},
     "output_type": "execute_result"
    }
   ],
   "source": [
    "precision"
   ]
  },
  {
   "cell_type": "code",
   "execution_count": 89,
   "metadata": {},
   "outputs": [
    {
     "data": {
      "text/plain": [
       "0.49452486185590044"
      ]
     },
     "execution_count": 89,
     "metadata": {},
     "output_type": "execute_result"
    }
   ],
   "source": [
    "np.mean(beliefs) # should be 0.5 if belief switches between ports."
   ]
  },
  {
   "cell_type": "code",
   "execution_count": 83,
   "metadata": {},
   "outputs": [],
   "source": [
    "'''TROUBLESHOOTING\n",
    "\n",
    "# emission probabilities (observed probabilities of reward)\n",
    "p = emission_prob # probability of reward for correct side\n",
    "q = 1-p # probability of reward for incorrect side\n",
    "s = 1-transition_prob # probability of remaining in same state\n",
    "\n",
    "# transition matrix T[i,j] = i->j\n",
    "T = np.array([[s, transition_prob],[transition_prob, s]])\n",
    "\n",
    "# observation array O\n",
    "# O[r,z,a] = Pr(reward=r | state=z, action=a)\n",
    "O = np.zeros((2,2,2)) # each component has two conditions 0,1\n",
    "# right choice = 0, no reward = 0, right state = 0\n",
    "O[:,:,0] = np.array([[1-p, 1-q],[p,q]]) \n",
    "O[:,:,1] = np.array([[1-q, 1-p],[q,p]])\n",
    "\n",
    "# split data into train and test sets (ultimately using same seeds as with LR?)\n",
    "\n",
    "n_trials = data.shape[0]\n",
    "\n",
    "#include past 10 choice and reward values (this is most convenient given the current data structure)\n",
    "port_columns = []\n",
    "reward_columns = []\n",
    "for col in data:\n",
    "    if '_Port' in col:\n",
    "        port_columns.append(col)\n",
    "    elif '_Reward' in col:\n",
    "        reward_columns.append(col)\n",
    "\n",
    "y_predict = np.zeros(n_trials)\n",
    "beliefs = np.zeros(n_trials)\n",
    "\n",
    "for trial in range(n_trials):\n",
    "    curr_trial = data.iloc[trial]\n",
    "    actions = curr_trial[port_columns].values.astype('int')\n",
    "    rewards = curr_trial[reward_columns].values.astype('int')\n",
    "    beliefs_curr = np.nan*np.ones((n_prev_trials+1,2))\n",
    "    beliefs_curr[0] = [0.5,0.5] # initial belief is equal for each port\n",
    "\n",
    "    for i in range(n_prev_trials):\n",
    "        assert np.allclose(beliefs_curr[i].sum(), 1.0), \"Beliefs must sum to one!\"\n",
    "\n",
    "        belief_temp = O[rewards[i],:,actions[i]] * beliefs_curr[i]\n",
    "\n",
    "        beliefs_curr[i+1] = T.dot(belief_temp) # take dot product of transition matrix and previous belief\n",
    "\n",
    "        beliefs_curr[i+1] /= beliefs_curr[i+1].sum()\n",
    "\n",
    "    y_predict[trial] = np.where(beliefs_curr[-1] == beliefs_curr[-1].max())[0][0] #greedy model\n",
    "    beliefs[trial] = beliefs_curr[-1][0]\n",
    "'''"
   ]
  },
  {
   "cell_type": "code",
   "execution_count": 122,
   "metadata": {},
   "outputs": [
    {
     "data": {
      "text/plain": [
       "[<matplotlib.lines.Line2D at 0x1170eacf8>]"
      ]
     },
     "execution_count": 122,
     "metadata": {},
     "output_type": "execute_result"
    },
    {
     "data": {
      "image/png": "[encoded data removed]",
      "text/plain": [
       "<matplotlib.figure.Figure at 0x114e7c550>"
      ]
     },
     "metadata": {},
     "output_type": "display_data"
    }
   ],
   "source": [
    "plt.plot(beliefs[0:200])"
   ]
  },
  {
   "cell_type": "code",
   "execution_count": null,
   "metadata": {
    "collapsed": true
   },
   "outputs": [],
   "source": []
  }
 ],
 "metadata": {
  "kernelspec": {
   "display_name": "Python 3",
   "language": "python",
   "name": "python3"
  },
  "language_info": {
   "codemirror_mode": {
    "name": "ipython",
    "version": 3
   },
   "file_extension": ".py",
   "mimetype": "text/x-python",
   "name": "python",
   "nbconvert_exporter": "python",
   "pygments_lexer": "ipython3",
   "version": "3.6.1"
  }
 },
 "nbformat": 4,
 "nbformat_minor": 2
}
