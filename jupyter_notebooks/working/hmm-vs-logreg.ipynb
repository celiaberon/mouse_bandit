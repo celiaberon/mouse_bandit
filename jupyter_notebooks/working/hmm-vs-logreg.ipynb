{
 "cells": [
  {
   "cell_type": "code",
   "execution_count": 1,
   "metadata": {
    "collapsed": true
   },
   "outputs": [],
   "source": [
    "import getpass\n",
    "username = getpass.getuser()\n",
    "\n",
    "import numpy as np\n",
    "import pandas as pd\n",
    "import matplotlib.pyplot as plt\n",
    "import sklearn\n",
    "from sklearn.linear_model import LogisticRegression\n",
    "from sklearn.model_selection import train_test_split\n",
    "\n",
    "import sys\n",
    "sys.path.append('/Users/{:}/GitHub/mouse_bandit/data_preprocessing_code'.format(username))\n",
    "sys.path.append('/Users/{:}/GitHub/mouse_bandit'.format(username))\n",
    "import support_functions as sf\n",
    "\n",
    "sys.path.append('/Users/{:}/GitHub/mouse_bandit/jupyter_notebooks/helper_functions'.format(username))\n",
    "import bandit_modeling as bm\n",
    "\n",
    "% matplotlib inline"
   ]
  },
  {
   "cell_type": "code",
   "execution_count": 16,
   "metadata": {
    "collapsed": true
   },
   "outputs": [],
   "source": [
    "data = pd.read_csv('/Users/{:}/Dropbox (HMS)/mouse_bandit/markov_full.csv'.format(username), index_col=0)\n",
    "#data = data[data['Condition']=='90-10']\n",
    "data = data[data['Mouse ID']=='Baby']"
   ]
  },
  {
   "cell_type": "code",
   "execution_count": 17,
   "metadata": {},
   "outputs": [
    {
     "name": "stdout",
     "output_type": "stream",
     "text": [
      "accuracy =  0.869045392194\n",
      "precision = 0.264728725175\n",
      "recall = 0.573557692308\n",
      "          Predicted NO  Predicted YES\n",
      "True NO        53365.0         6627.0\n",
      "True YES        1774.0         2386.0\n",
      "\n",
      "F1: 0.362\n",
      "\n",
      "Accuracy on class 0: 0.89\n",
      "Accuracy on class 1: 0.57\n",
      "\n"
     ]
    }
   ],
   "source": [
    "greedy_predict, beliefs = bm.hmm_predict(data, 0.7)\n",
    "\n",
    "'''Greedy model'''\n",
    "\n",
    "decision = data['Decision'].values\n",
    "prev_decision = data['1_Port'].values\n",
    "\n",
    "switch = np.abs(decision-prev_decision)\n",
    "greedy_switch = np.abs(greedy_predict-prev_decision)\n",
    "\n",
    "accuracy_greedy = np.mean(greedy_predict==decision)\n",
    "print('accuracy = ', accuracy_greedy)\n",
    "\n",
    "precision_greedy=1-np.abs([greedy_switch[i]-switch[i] for i in np.where(greedy_switch==1)]).sum()/np.sum(greedy_switch==1)\n",
    "print('precision =', precision_greedy)\n",
    "\n",
    "recall_greedy=1-np.abs([greedy_switch[i]-switch[i] for i in np.where(switch==1)]).sum()/np.sum(switch==1)\n",
    "print('recall =', recall_greedy)\n",
    "\n",
    "acc_greedy_switch,acc_greedy_stay,F1=sf.score_both_and_confuse(greedy_switch,switch,confusion=False,disp=True)"
   ]
  },
  {
   "cell_type": "code",
   "execution_count": 18,
   "metadata": {
    "collapsed": true
   },
   "outputs": [],
   "source": [
    "greedy_switch = np.abs(greedy_predict-prev_decision)\n",
    "metrics_greedy  = sklearn.metrics.precision_recall_fscore_support(switch, greedy_switch)"
   ]
  },
  {
   "cell_type": "code",
   "execution_count": 19,
   "metadata": {},
   "outputs": [
    {
     "name": "stdout",
     "output_type": "stream",
     "text": [
      "accuracy =  0.80906285073\n",
      "precision = 0.183355515541\n",
      "recall = 0.562980769231\n",
      "          Predicted NO  Predicted YES\n",
      "True NO        49561.0        10431.0\n",
      "True YES        1818.0         2342.0\n",
      "\n",
      "F1: 0.277\n",
      "\n",
      "Accuracy on class 0: 0.83\n",
      "Accuracy on class 1: 0.56\n",
      "\n"
     ]
    }
   ],
   "source": [
    "thompson_predict, beliefs = bm.hmm_predict(data, 0.7, strategy='thompson')\n",
    "\n",
    "thompson_switch = np.abs(thompson_predict-prev_decision)\n",
    "\n",
    "accuracy_thom = np.mean(thompson_predict==decision)\n",
    "#accuracy=1-np.abs([y_predict[i]-decision[i] for i in range(len(beliefs))]).sum()/len(beliefs)\n",
    "print('accuracy = ', accuracy_thom)\n",
    "\n",
    "precision_thom=1-np.abs([thompson_switch[i]-switch[i] for i in np.where(thompson_switch==1)]).sum()/np.sum(thompson_switch==1)\n",
    "print('precision =', precision_thom)\n",
    "\n",
    "recall_thom=1-np.abs([thompson_switch[i]-switch[i] for i in np.where(switch==1)]).sum()/np.sum(switch==1)\n",
    "print('recall =', recall_thom)\n",
    "\n",
    "acc_thom_switch,acc_thom_stay,F1=sf.score_both_and_confuse(thompson_switch,switch,confusion=False,disp=True)"
   ]
  },
  {
   "cell_type": "code",
   "execution_count": 20,
   "metadata": {
    "collapsed": true
   },
   "outputs": [],
   "source": [
    "metrics_thompson = sklearn.metrics.precision_recall_fscore_support(switch, thompson_switch)"
   ]
  },
  {
   "cell_type": "code",
   "execution_count": 22,
   "metadata": {},
   "outputs": [
    {
     "name": "stdout",
     "output_type": "stream",
     "text": [
      "          Predicted NO  Predicted YES\n",
      "True NO        17527.0          449.0\n",
      "True YES         891.0          379.0\n",
      "\n",
      "F1: 0.361\n",
      "\n",
      "Accuracy on class 0: 0.98\n",
      "Accuracy on class 1: 0.30\n",
      "\n"
     ]
    }
   ],
   "source": [
    "X, y, c = bm.feature_history(data, X_dataframe='choice', y_dataframe='choice')\n",
    "X_train, X_test, y_train, y_test, c_train, c_test = train_test_split(X, y, c, test_size=0.3, random_state=1)\n",
    "\n",
    "lr1_choice = LogisticRegression()\n",
    "lr1_choice.fit(X_train, y_train)\n",
    "\n",
    "lr1_choice_predict = lr1_choice.predict(X_test)\n",
    "\n",
    "prev_choice = c_test['1_Port']\n",
    "true_switch = (y_test!=prev_choice).astype('int')\n",
    "lr1_switch_predict = (lr1_choice_predict!=prev_choice).astype('int')\n",
    "metrics_lr1 = sklearn.metrics.precision_recall_fscore_support(true_switch, lr1_switch_predict)\n",
    "\n",
    "accuracy_lr1 = np.mean(true_switch==lr1_switch_predict)\n",
    "\n",
    "acc_pos,acc_neg,F1=sf.score_both_and_confuse(lr1_switch_predict.values,true_switch.values,confusion=False,disp=True)"
   ]
  },
  {
   "cell_type": "code",
   "execution_count": 23,
   "metadata": {
    "collapsed": true
   },
   "outputs": [],
   "source": [
    "X_left, X_right, y_left, y_right, c = bm.choice_history_lateral(data)\n",
    "\n",
    "'''RIGHT'''\n",
    "\n",
    "X_train, X_test, y_train, y_test = train_test_split(X_right, y_right, test_size=0.3, random_state=1)\n",
    "\n",
    "lr2 = LogisticRegression()\n",
    "lr2.fit(X_train, y_train)\n",
    "    \n",
    "lr2_proba_R = lr2.predict_proba(X_test)\n",
    "\n",
    "'''LEFT'''\n",
    "X_train, X_test, y_train, y_test = train_test_split(X_left, y_left, test_size=0.3, random_state=1)\n",
    "\n",
    "lr2 = LogisticRegression()\n",
    "lr2.fit(X_train, y_train)\n",
    "\n",
    "lr2_proba_L = lr2.predict_proba(X_test)\n",
    "\n",
    "'''INTEGRATED'''\n",
    "# go to whichever port has a higher probability from its model\n",
    "c_train, c_test = train_test_split(c, test_size=0.3, random_state=1)\n",
    "\n",
    "lr2_proba = np.row_stack((lr2_proba_L[:,1],lr2_proba_R[:,1]))\n",
    "\n",
    "y_predict = lr2_proba_L[:,1]>lr2_proba_R[:,1] # predict 1s for L, 0s for R\n",
    "    \n",
    "lr2_score=1-np.abs(y_predict-y_test).sum()/len(y_test)\n",
    "    \n",
    "prev_choice = c_test['1_Port']\n",
    "s_predict = (np.abs(y_predict-prev_choice)).astype('int')\n",
    "s_test = np.abs(y_test-prev_choice).astype('int')\n",
    "    \n",
    "accuracy_lr2 = np.mean(s_test==s_predict)    \n",
    "    \n",
    "metrics_lr2 = sklearn.metrics.precision_recall_fscore_support(s_test, s_predict)"
   ]
  },
  {
   "cell_type": "code",
   "execution_count": 24,
   "metadata": {},
   "outputs": [
    {
     "name": "stdout",
     "output_type": "stream",
     "text": [
      "          Predicted NO  Predicted YES\n",
      "True NO        43915.0        16077.0\n",
      "True YES         676.0         3484.0\n",
      "\n",
      "F1: 0.294\n",
      "\n",
      "Accuracy on class 0: 0.73\n",
      "Accuracy on class 1: 0.84\n",
      "\n",
      "fraction switches after unrewarded = 0.178109503604\n",
      "precision = 0.178109503604\n",
      "recall = 0.8375\n"
     ]
    }
   ],
   "source": [
    "'''win stay lose switch'''\n",
    "\n",
    "prev_outcome = data['1_Reward'].values\n",
    "wsls_predict = np.abs(1-prev_outcome)\n",
    "acc_pos,acc_neg,F1=sf.score_both_and_confuse(wsls_predict,switch,confusion=False,disp=True)\n",
    "\n",
    "wsls = np.mean(switch[np.where(prev_outcome==0)])\n",
    "print('fraction switches after unrewarded =', wsls)\n",
    "\n",
    "accuracy_wsls = np.mean(wsls_predict==switch)\n",
    "\n",
    "precision_wsls = 1-np.abs([wsls_predict[i]-switch[i] for i in np.where(wsls_predict==1)]).sum()/np.sum(wsls_predict==1)\n",
    "print('precision =', precision_wsls)\n",
    "\n",
    "recall_wsls=1-np.abs([wsls_predict[i]-switch[i] for i in np.where(switch==1)]).sum()/np.sum(switch==1)\n",
    "print('recall =', recall_wsls)\n",
    "\n",
    "metrics_wsls = sklearn.metrics.precision_recall_fscore_support(switch, wsls_predict)"
   ]
  },
  {
   "cell_type": "code",
   "execution_count": 33,
   "metadata": {},
   "outputs": [
    {
     "data": {
      "text/plain": [
       "<matplotlib.legend.Legend at 0x11055f8d0>"
      ]
     },
     "execution_count": 33,
     "metadata": {},
     "output_type": "execute_result"
    },
    {
     "data": {
      "image/png": "[encoded data removed]",
      "text/plain": [
       "<matplotlib.figure.Figure at 0x1141aa160>"
      ]
     },
     "metadata": {},
     "output_type": "display_data"
    }
   ],
   "source": [
    "plt.figure(figsize=(8,5))\n",
    "\n",
    "height_a = [accuracy_lr1, metrics_lr1[1][0], metrics_lr1[1][1]]\n",
    "height_b = [accuracy_lr2, metrics_lr2[1][0], metrics_lr2[1][1]]\n",
    "height_c = [accuracy_greedy, acc_greedy_stay, acc_greedy_switch]\n",
    "height_d = [accuracy_thom, acc_thom_stay, acc_thom_switch]\n",
    "\n",
    "barWidth = 0.15\n",
    "# The x position of bars\n",
    "r1 = np.arange(len(height_b))\n",
    "r2 = [x + barWidth for x in r1]\n",
    "r3 = [x + barWidth for x in r2]\n",
    "r4 = [x + barWidth for x in r3]\n",
    "\n",
    "conditions = ['full', 'stay', 'switch']\n",
    "plt.bar(r1, height_a, width=barWidth, label='single_logreg')\n",
    "plt.bar(r2, height_b, width=barWidth, label='double_logreg')\n",
    "plt.bar(r3, height_c, width=barWidth, label='hmm_greedy')\n",
    "plt.bar(r4, height_d, width=barWidth, label='hmm_thompson')\n",
    "\n",
    "plt.xticks(r2, conditions, size=15)\n",
    "plt.ylabel('accuracy', size=15)\n",
    "plt.legend(bbox_to_anchor=(1,1))"
   ]
  },
  {
   "cell_type": "code",
   "execution_count": 26,
   "metadata": {},
   "outputs": [
    {
     "data": {
      "text/plain": [
       "<matplotlib.legend.Legend at 0x11429c518>"
      ]
     },
     "execution_count": 26,
     "metadata": {},
     "output_type": "execute_result"
    },
    {
     "data": {
      "image/png": "[encoded data removed]",
      "text/plain": [
       "<matplotlib.figure.Figure at 0x1141b9128>"
      ]
     },
     "metadata": {},
     "output_type": "display_data"
    }
   ],
   "source": [
    "height_a = [metrics_lr1[2][0], metrics_lr1[2][1]]\n",
    "height_b = [metrics_lr2[2][0], metrics_lr2[2][1]]\n",
    "height_c = [metrics_greedy[2][0], metrics_greedy[2][1]]\n",
    "height_d = [metrics_thompson[2][0], metrics_thompson[2][1]]\n",
    "\n",
    "barWidth = 0.15\n",
    "# The x position of bars\n",
    "r1 = np.arange(len(height_b))\n",
    "r2 = [x + barWidth for x in r1]\n",
    "r3 = [x + barWidth for x in r2]\n",
    "r4 = [x + barWidth for x in r3]\n",
    "\n",
    "conditions = ['stay', 'switch']\n",
    "plt.bar(r1, height_a, width=barWidth, label='single_lr')\n",
    "plt.bar(r2, height_b, width=barWidth, label='double_lr1')\n",
    "plt.bar(r3, height_c, width=barWidth, label='hmm_greedy')\n",
    "plt.bar(r4, height_d, width=barWidth, label='hmm_thompson')\n",
    "\n",
    "plt.xticks(range(len(height_b)), conditions)\n",
    "plt.ylabel('f1')\n",
    "plt.legend()"
   ]
  },
  {
   "cell_type": "code",
   "execution_count": 27,
   "metadata": {},
   "outputs": [
    {
     "data": {
      "text/plain": [
       "<matplotlib.legend.Legend at 0x115268f60>"
      ]
     },
     "execution_count": 27,
     "metadata": {},
     "output_type": "execute_result"
    },
    {
     "data": {
      "image/png": "[encoded data removed]",
      "text/plain": [
       "<matplotlib.figure.Figure at 0x11784ceb8>"
      ]
     },
     "metadata": {},
     "output_type": "display_data"
    }
   ],
   "source": [
    "height_a = [metrics_lr1[0][0], metrics_lr1[0][1]]\n",
    "height_b = [metrics_lr2[0][0], metrics_lr2[0][1]]\n",
    "height_c = [metrics_greedy[0][0], metrics_greedy[0][1]]\n",
    "height_d = [metrics_thompson[0][0], metrics_thompson[0][1]]\n",
    "\n",
    "barWidth = 0.15\n",
    "# The x position of bars\n",
    "r1 = np.arange(len(height_b))\n",
    "r2 = [x + barWidth for x in r1]\n",
    "r3 = [x + barWidth for x in r2]\n",
    "r4 = [x + barWidth for x in r3]\n",
    "\n",
    "conditions = ['stay', 'switch']\n",
    "plt.bar(r1, height_a, width=barWidth, label='single_lr')\n",
    "plt.bar(r2, height_b, width=barWidth, label='double_lr1')\n",
    "plt.bar(r3, height_c, width=barWidth, label='hmm_greedy')\n",
    "plt.bar(r4, height_d, width=barWidth, label='hmm_thompson')\n",
    "\n",
    "plt.xticks(range(len(height_b)), conditions)\n",
    "plt.ylabel('precision')\n",
    "plt.legend()"
   ]
  },
  {
   "cell_type": "code",
   "execution_count": 28,
   "metadata": {},
   "outputs": [
    {
     "data": {
      "text/plain": [
       "<matplotlib.legend.Legend at 0x11637c7b8>"
      ]
     },
     "execution_count": 28,
     "metadata": {},
     "output_type": "execute_result"
    },
    {
     "data": {
      "image/png": "[encoded data removed]",
      "text/plain": [
       "<matplotlib.figure.Figure at 0x10ad0a898>"
      ]
     },
     "metadata": {},
     "output_type": "display_data"
    }
   ],
   "source": [
    "height_a = [metrics_lr1[0][0], metrics_lr2[0][0], metrics_greedy[0][0], metrics_thompson[0][0]]\n",
    "height_b = [metrics_lr1[0][1], metrics_lr2[0][1], metrics_greedy[0][1], metrics_thompson[0][1]]\n",
    "\n",
    "barWidth = 0.3\n",
    "# The x position of bars\n",
    "r1 = np.arange(len(height_a))\n",
    "r2 = [x + barWidth for x in r1]\n",
    "\n",
    "conditions = ['single_lr', 'double_lr', 'hmm_greedy', 'hmm_thompson']\n",
    "plt.bar(r1, height_a, width=barWidth, label='stay')\n",
    "plt.bar(r2, height_b, width=barWidth, label='switch')\n",
    "\n",
    "plt.xticks(range(len(height_a)), conditions)\n",
    "plt.ylabel('precision')\n",
    "plt.legend()"
   ]
  },
  {
   "cell_type": "code",
   "execution_count": null,
   "metadata": {
    "collapsed": true
   },
   "outputs": [],
   "source": []
  }
 ],
 "metadata": {
  "kernelspec": {
   "display_name": "Python 3",
   "language": "python",
   "name": "python3"
  },
  "language_info": {
   "codemirror_mode": {
    "name": "ipython",
    "version": 3
   },
   "file_extension": ".py",
   "mimetype": "text/x-python",
   "name": "python",
   "nbconvert_exporter": "python",
   "pygments_lexer": "ipython3",
   "version": "3.6.1"
  }
 },
 "nbformat": 4,
 "nbformat_minor": 2
}
