{
 "cells": [
  {
   "cell_type": "code",
   "execution_count": null,
   "metadata": {
    "collapsed": true
   },
   "outputs": [],
   "source": [
    "import pandas as pd"
   ]
  },
  {
   "cell_type": "markdown",
   "metadata": {},
   "source": [
    "### The task\n",
    "The system: A box containing 3 noseports. Right or left noseports offer reward at some probability (currently R/L = 0.9/0.1, 0.8/0.2, 0.7/0.3). The distribution of reward probabilities between the two ports has a 0.02 probability of switching after every trial. The center port is used to initiate a new trial.\n",
    "\n",
    "The mouse: After the ITI, the LED for the center port turns on, at which time the mouse can poke to initiate a trial. After the center poke, the mouse has a defined period of time within which it must report its decision by poking either the left or right port, which then delivers reward with one of the above probabilities."
   ]
  },
  {
   "cell_type": "markdown",
   "metadata": {},
   "source": [
    "### Load in feature matrix containing trial history\n",
    "\n",
    "Here we've created a dataframe where each row represents a series of 10 action-outcome pairings within a single session for each mouse. Within a given session (**Session ID**), each trial is represented in relation to the 10 previous trials.\n",
    "\n",
    "i.e., for Mouse X on Trial 11, you can see the port selected N trials back (**N_Port**), along with the corresponding reward, ITI, and trial duration. **Port** is a binary variable (0=right, 1=left), as is **Reward** (1=reward, 0=no reward). **ITI** is the period between decision poke and initiation of a new trial (center poke) in seconds, but it should be noted that there is a minimum ITI of 1s before the system permits a new trial to begin (cued by LED on). The current port selected is represented in the **Decision** column.\n",
    "\n",
    "Other useful columns:\n",
    "\n",
    "**Switch** indicates whether the current decision was a 'switch' (1) from the previous decision, or a repeat of the previous decision (0)\n",
    "\n",
    "**Higher p port** indicates whether the mouse chose the higher rewarding port for the current state of the system\n",
    "\n",
    "**Condition** is reward probabilities for current session\n",
    "\n",
    "**Block ID** is the block # for the current session, and **Current Block Length** corresponds to that block"
   ]
  },
  {
   "cell_type": "code",
   "execution_count": null,
   "metadata": {},
   "outputs": [],
   "source": [
    "data = pd.read_csv('/Users/celiaberon/Dropbox (HMS)/mouse_bandit/markov_full.csv', index_col=0)\n",
    "data.head(10)"
   ]
  },
  {
   "cell_type": "markdown",
   "metadata": {},
   "source": [
    "### alternatively, summary of mouse performance for each \n",
    "\n",
    "Here you have one row per session with similar columns, plus the following: **Markov** is a binary for whether the environment changed following a transition probability after each trial (p_change_states=0.02), which is true (1) for the vast majority of these sessions. **No. Trials, Blocks, Rewards** all summarize those stats for a single session. **p(high port)** gives the average performance of the mouse for that session (calculated as average probability mouse selected the true high port)"
   ]
  },
  {
   "cell_type": "code",
   "execution_count": null,
   "metadata": {},
   "outputs": [],
   "source": [
    "record = pd.read_csv('/Users/celia/Dropbox (HMS)/mouse_bandit/celia_session_record.csv', index_col=0)\n",
    "record.head(10)"
   ]
  }
 ],
 "metadata": {
  "kernelspec": {
   "display_name": "Python 3",
   "language": "python",
   "name": "python3"
  },
  "language_info": {
   "codemirror_mode": {
    "name": "ipython",
    "version": 3
   },
   "file_extension": ".py",
   "mimetype": "text/x-python",
   "name": "python",
   "nbconvert_exporter": "python",
   "pygments_lexer": "ipython3",
   "version": "3.6.1"
  }
 },
 "nbformat": 4,
 "nbformat_minor": 2
}
