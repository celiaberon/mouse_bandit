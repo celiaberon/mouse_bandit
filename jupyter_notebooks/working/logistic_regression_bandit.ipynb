{
 "cells": [
  {
   "cell_type": "code",
   "execution_count": 1,
   "metadata": {
    "collapsed": true
   },
   "outputs": [],
   "source": [
    "import numpy as np\n",
    "import pandas as pd\n",
    "import matplotlib.pyplot as plt\n",
    "import sklearn\n",
    "from sklearn.linear_model import LogisticRegression\n",
    "import getpass\n",
    "%matplotlib inline"
   ]
  },
  {
   "cell_type": "code",
   "execution_count": 2,
   "metadata": {
    "collapsed": true
   },
   "outputs": [],
   "source": [
    "username = getpass.getuser()"
   ]
  },
  {
   "cell_type": "code",
   "execution_count": 3,
   "metadata": {},
   "outputs": [
    {
     "data": {
      "text/html": [
       "<div>\n",
       "<table border=\"1\" class=\"dataframe\">\n",
       "  <thead>\n",
       "    <tr style=\"text-align: right;\">\n",
       "      <th></th>\n",
       "      <th>index</th>\n",
       "      <th>Mouse ID</th>\n",
       "      <th>Session ID</th>\n",
       "      <th>Trial</th>\n",
       "      <th>Block Trial</th>\n",
       "      <th>Block Reward</th>\n",
       "      <th>Port Streak</th>\n",
       "      <th>Reward Streak</th>\n",
       "      <th>10_Port</th>\n",
       "      <th>10_Reward</th>\n",
       "      <th>...</th>\n",
       "      <th>1_trialDuration</th>\n",
       "      <th>0_ITI</th>\n",
       "      <th>0_trialDuration</th>\n",
       "      <th>Decision</th>\n",
       "      <th>Switch</th>\n",
       "      <th>Higher p port</th>\n",
       "      <th>Reward</th>\n",
       "      <th>Condition</th>\n",
       "      <th>Block ID</th>\n",
       "      <th>Current Block Length</th>\n",
       "    </tr>\n",
       "  </thead>\n",
       "  <tbody>\n",
       "    <tr>\n",
       "      <th>217080</th>\n",
       "      <td>0</td>\n",
       "      <td>Baby</td>\n",
       "      <td>01222018_Baby</td>\n",
       "      <td>11.0</td>\n",
       "      <td>11.0</td>\n",
       "      <td>3.0</td>\n",
       "      <td>1.0</td>\n",
       "      <td>1.0</td>\n",
       "      <td>0.0</td>\n",
       "      <td>0.0</td>\n",
       "      <td>...</td>\n",
       "      <td>0.533</td>\n",
       "      <td>1.222</td>\n",
       "      <td>0.267</td>\n",
       "      <td>1.0</td>\n",
       "      <td>0.0</td>\n",
       "      <td>1.0</td>\n",
       "      <td>1.0</td>\n",
       "      <td>70-30</td>\n",
       "      <td>1.0</td>\n",
       "      <td>15.0</td>\n",
       "    </tr>\n",
       "    <tr>\n",
       "      <th>217081</th>\n",
       "      <td>1</td>\n",
       "      <td>Baby</td>\n",
       "      <td>01222018_Baby</td>\n",
       "      <td>12.0</td>\n",
       "      <td>12.0</td>\n",
       "      <td>4.0</td>\n",
       "      <td>2.0</td>\n",
       "      <td>2.0</td>\n",
       "      <td>1.0</td>\n",
       "      <td>0.0</td>\n",
       "      <td>...</td>\n",
       "      <td>0.267</td>\n",
       "      <td>2.035</td>\n",
       "      <td>0.325</td>\n",
       "      <td>1.0</td>\n",
       "      <td>0.0</td>\n",
       "      <td>1.0</td>\n",
       "      <td>1.0</td>\n",
       "      <td>70-30</td>\n",
       "      <td>1.0</td>\n",
       "      <td>15.0</td>\n",
       "    </tr>\n",
       "    <tr>\n",
       "      <th>217082</th>\n",
       "      <td>2</td>\n",
       "      <td>Baby</td>\n",
       "      <td>01222018_Baby</td>\n",
       "      <td>13.0</td>\n",
       "      <td>13.0</td>\n",
       "      <td>5.0</td>\n",
       "      <td>3.0</td>\n",
       "      <td>3.0</td>\n",
       "      <td>1.0</td>\n",
       "      <td>1.0</td>\n",
       "      <td>...</td>\n",
       "      <td>0.325</td>\n",
       "      <td>1.579</td>\n",
       "      <td>0.597</td>\n",
       "      <td>1.0</td>\n",
       "      <td>0.0</td>\n",
       "      <td>1.0</td>\n",
       "      <td>0.0</td>\n",
       "      <td>70-30</td>\n",
       "      <td>1.0</td>\n",
       "      <td>15.0</td>\n",
       "    </tr>\n",
       "    <tr>\n",
       "      <th>217083</th>\n",
       "      <td>3</td>\n",
       "      <td>Baby</td>\n",
       "      <td>01222018_Baby</td>\n",
       "      <td>14.0</td>\n",
       "      <td>14.0</td>\n",
       "      <td>5.0</td>\n",
       "      <td>4.0</td>\n",
       "      <td>-1.0</td>\n",
       "      <td>1.0</td>\n",
       "      <td>0.0</td>\n",
       "      <td>...</td>\n",
       "      <td>0.597</td>\n",
       "      <td>2.327</td>\n",
       "      <td>0.452</td>\n",
       "      <td>1.0</td>\n",
       "      <td>0.0</td>\n",
       "      <td>1.0</td>\n",
       "      <td>0.0</td>\n",
       "      <td>70-30</td>\n",
       "      <td>1.0</td>\n",
       "      <td>15.0</td>\n",
       "    </tr>\n",
       "    <tr>\n",
       "      <th>217084</th>\n",
       "      <td>4</td>\n",
       "      <td>Baby</td>\n",
       "      <td>01222018_Baby</td>\n",
       "      <td>15.0</td>\n",
       "      <td>0.0</td>\n",
       "      <td>5.0</td>\n",
       "      <td>5.0</td>\n",
       "      <td>-2.0</td>\n",
       "      <td>0.0</td>\n",
       "      <td>0.0</td>\n",
       "      <td>...</td>\n",
       "      <td>0.452</td>\n",
       "      <td>1.524</td>\n",
       "      <td>0.569</td>\n",
       "      <td>1.0</td>\n",
       "      <td>0.0</td>\n",
       "      <td>0.0</td>\n",
       "      <td>0.0</td>\n",
       "      <td>70-30</td>\n",
       "      <td>2.0</td>\n",
       "      <td>20.0</td>\n",
       "    </tr>\n",
       "  </tbody>\n",
       "</table>\n",
       "<p>5 rows × 57 columns</p>\n",
       "</div>"
      ],
      "text/plain": [
       "        index Mouse ID     Session ID  Trial  Block Trial  Block Reward  \\\n",
       "217080      0     Baby  01222018_Baby   11.0         11.0           3.0   \n",
       "217081      1     Baby  01222018_Baby   12.0         12.0           4.0   \n",
       "217082      2     Baby  01222018_Baby   13.0         13.0           5.0   \n",
       "217083      3     Baby  01222018_Baby   14.0         14.0           5.0   \n",
       "217084      4     Baby  01222018_Baby   15.0          0.0           5.0   \n",
       "\n",
       "        Port Streak  Reward Streak  10_Port  10_Reward          ...           \\\n",
       "217080          1.0            1.0      0.0        0.0          ...            \n",
       "217081          2.0            2.0      1.0        0.0          ...            \n",
       "217082          3.0            3.0      1.0        1.0          ...            \n",
       "217083          4.0           -1.0      1.0        0.0          ...            \n",
       "217084          5.0           -2.0      0.0        0.0          ...            \n",
       "\n",
       "        1_trialDuration  0_ITI  0_trialDuration  Decision  Switch  \\\n",
       "217080            0.533  1.222            0.267       1.0     0.0   \n",
       "217081            0.267  2.035            0.325       1.0     0.0   \n",
       "217082            0.325  1.579            0.597       1.0     0.0   \n",
       "217083            0.597  2.327            0.452       1.0     0.0   \n",
       "217084            0.452  1.524            0.569       1.0     0.0   \n",
       "\n",
       "        Higher p port  Reward  Condition  Block ID  Current Block Length  \n",
       "217080            1.0     1.0      70-30       1.0                  15.0  \n",
       "217081            1.0     1.0      70-30       1.0                  15.0  \n",
       "217082            1.0     0.0      70-30       1.0                  15.0  \n",
       "217083            1.0     0.0      70-30       1.0                  15.0  \n",
       "217084            0.0     0.0      70-30       2.0                  20.0  \n",
       "\n",
       "[5 rows x 57 columns]"
      ]
     },
     "execution_count": 3,
     "metadata": {},
     "output_type": "execute_result"
    }
   ],
   "source": [
    "data = pd.read_csv('/Users/{:}/Dropbox (HMS)/mouse_bandit/markov_full.csv'.format(username), index_col=0)\n",
    "#data = data[data['Mouse ID']=='Baby']\n",
    "data = data[data['Condition']=='70-30']\n",
    "data.head()"
   ]
  },
  {
   "cell_type": "markdown",
   "metadata": {},
   "source": [
    "### make some new dataframes\n",
    "    X has predictor variables (choice and reward history for past n trials) relevant variables for logit model\n",
    "    Y has dependent variable (choice on current trial)"
   ]
  },
  {
   "cell_type": "code",
   "execution_count": 4,
   "metadata": {
    "collapsed": true
   },
   "outputs": [],
   "source": [
    "#include past 10 choice and reward values (this is most convenient given the current data structure)\n",
    "choice_history = []\n",
    "reward_history = []\n",
    "for col in data.columns:\n",
    "    if '_Port' in col:\n",
    "        choice_history.append(data[col][:])\n",
    "    elif '_Reward' in col:\n",
    "        reward_history.append(data[col][:])\n",
    "        \n",
    "choice_history = np.transpose(np.asarray(choice_history))\n",
    "reward_history = np.transpose(np.asarray(reward_history))\n",
    "switch_history = np.abs(np.diff(choice_history)) # right now just missing whether or not switched on n-10 trial\n",
    "\n",
    "#current trial decision and outcome \n",
    "choice = []\n",
    "reward = []\n",
    "switch = []\n",
    "\n",
    "for col in data.columns:\n",
    "    if 'Decision' in col:\n",
    "        #print(col)\n",
    "        choice.append(data[col][:])\n",
    "    elif 'Reward' in col:\n",
    "        #print(col)\n",
    "        reward.append(data[col][:])\n",
    "    elif 'Switch' in col:\n",
    "        switch.append(data[col][:])\n",
    "\n",
    "choice = np.transpose(np.asarray(choice))\n",
    "reward = np.transpose(np.asarray(reward))\n",
    "switch = np.transpose(np.asarray(switch))"
   ]
  },
  {
   "cell_type": "markdown",
   "metadata": {},
   "source": [
    "### set up which datasets will be predictor and target"
   ]
  },
  {
   "cell_type": "code",
   "execution_count": 5,
   "metadata": {
    "collapsed": true
   },
   "outputs": [],
   "source": [
    "# set up as X and Y for logistic regression (X contains all predictors)\n",
    "X_choice = np.column_stack((choice_history, reward_history)) # n-1 to n-10 trial choices and outcomes\n",
    "X_switch = np.column_stack((switch_history, reward_history[:,0:9])) # n-1 to n-10 trial switches and outcomes\n",
    "X_choice_switch = np.column_stack((switch_history, choice_history[:,0:9], reward_history[:,0:9]))\n",
    "\n",
    "Y_choice = choice.ravel() # current trial choices\n",
    "Y_switch = switch.ravel() # current trial switches"
   ]
  },
  {
   "cell_type": "markdown",
   "metadata": {},
   "source": [
    "### split data into training and testing datasets\n",
    "--right now 70% to train, 30% test\n",
    "\n",
    "--X (train and test) mxn matrix with m trials and [n/2 choice, n/2 corresponding reward outcomes]\n",
    "            \n",
    "            X[:,0:9] = choice_history\n",
    "            \n",
    "            X[:,10:19] = reward_history\n",
    "\n",
    "--Y (train and test) mx1 matrix with m trials and 1 choice outcome\n"
   ]
  },
  {
   "cell_type": "code",
   "execution_count": 6,
   "metadata": {
    "collapsed": true
   },
   "outputs": [],
   "source": [
    "#train on proportion of data up to the 'cutoff.' hold out the rest as test data.\n",
    "idx = np.random.permutation(len(X_choice))\n",
    "cutoff = 0.7\n",
    "idx_train = idx[0:int(len(X_choice)*cutoff)]\n",
    "idx_test = idx[int(len(X_choice)*cutoff):]\n",
    "\n",
    "X_train = X_choice[idx_train]\n",
    "X_test = X_choice[idx_test]\n",
    "\n",
    "Y_train_choice = Y_choice[idx_train]\n",
    "Y_test_choice = Y_choice[idx_test]\n",
    "\n",
    "Y_train_switch = Y_switch[idx_train]\n",
    "Y_test_switch = Y_switch[idx_test]"
   ]
  },
  {
   "cell_type": "markdown",
   "metadata": {},
   "source": [
    "### Logistic regression\n",
    "Compare training on port choice (lr_port) vs training on switch (lr_switch)"
   ]
  },
  {
   "cell_type": "markdown",
   "metadata": {},
   "source": [
    "### lr1 - train on port choice to predict port choice\n",
    "#### Evaluate performance on predicting choice and predicting switches"
   ]
  },
  {
   "cell_type": "code",
   "execution_count": 7,
   "metadata": {},
   "outputs": [
    {
     "name": "stderr",
     "output_type": "stream",
     "text": [
      "/Users/celiaberon/anaconda/lib/python3.6/site-packages/sklearn/metrics/classification.py:1113: UndefinedMetricWarning: Precision and F-score are ill-defined and being set to 0.0 in labels with no predicted samples.\n",
      "  'precision', 'predicted', average, warn_for)\n"
     ]
    }
   ],
   "source": [
    "lr1_choice = LogisticRegression()\n",
    "lr1_choice.fit(X_train, Y_train_choice)\n",
    "\n",
    "lr1_choice_proba = lr1_choice.predict_proba(X_test)\n",
    "lr1_choice_predict = lr1_choice.predict(X_test)\n",
    "\n",
    "score_lr1_choice = lr1_choice.score(X_test, Y_test_choice)\n",
    "metrics_lr1_choice = sklearn.metrics.precision_recall_fscore_support(Y_test_choice, lr1_choice_predict)\n",
    "\n",
    "#switch_true = np.abs([Y_test_choice[n] - X_test[n,9] for n in range(len(Y_test_choice))]) # actual switches from test port (n) vs n-1 port (test[i,9]) -- matches Y_test_switch\n",
    "lr1_switch_predict = np.abs([lr1_choice_predict[n] - X_test[n,9] for n in range(len(lr1_choice_predict))])\n",
    "metrics_lr1_switch = sklearn.metrics.precision_recall_fscore_support(Y_test_switch, lr1_switch_predict)\n"
   ]
  },
  {
   "cell_type": "code",
   "execution_count": 8,
   "metadata": {},
   "outputs": [
    {
     "data": {
      "text/plain": [
       "(33033, 20)"
      ]
     },
     "execution_count": 8,
     "metadata": {},
     "output_type": "execute_result"
    }
   ],
   "source": [
    "X_test.shape"
   ]
  },
  {
   "cell_type": "code",
   "execution_count": 9,
   "metadata": {},
   "outputs": [
    {
     "data": {
      "text/plain": [
       "'\\nn_simulations = 10\\ncutoff = 0.7\\n\\ndef lr_bandit(X, y, n_simulations)\\n\\n# select seed for each simulation\\nseed = np.random.randint(100000, size=n_simulations)\\n\\n# initialize arrays for LR results\\nlr1_choice_predict = np.zeros((len(idx_test),n_simulations))\\nlr1_choice_proba = np.zeros((len(idx_test), 2))\\nlr1_score_choice = np.zeros(n_simulations)\\nlr1_metrics_full = np.zeros((4,2))\\n\\nfor i in range(n_simulations):\\n    np.random.seed(seed[i])\\n    idx = np.random.permutation(len(X_choice))\\n    idx_train = idx[0:int(len(X_choice)*cutoff)]\\n    idx_test = idx[int(len(X_choice)*cutoff):]\\n\\n    X_train = X_choice[idx_train]\\n    X_test = X_choice[idx_test]\\n\\n    Y_train_choice = Y_choice[idx_train]\\n    Y_test_choice = Y_choice[idx_test]\\n    Y_test_switch = Y_switch[idx_test]\\n\\n    lr1_choice = LogisticRegression()\\n    lr1_choice.fit(X_train, Y_train_choice)\\n\\n    lr1_choice_proba = np.dstack((lr1_choice_proba, lr1_choice.predict_proba(X_test)))\\n    lr1_choice_predict[:,i] = lr1_choice.predict(X_test)\\n    lr1_score_choice[i] = lr1_choice.score(X_test, Y_test_choice)\\n    \\n    lr1_switch_predict = np.abs([lr1_choice_predict[n] - X_test[n,9] for n in range(len(lr1_choice_predict))])\\n    lr1_metrics_switch = sklearn.metrics.precision_recall_fscore_support(Y_test_switch, lr1_switch_predict[:,i])\\n    lr1_metrics_full = np.dstack((lr1_metrics_full, np.array(lr1_metrics_switch)))\\n\\n    \\n# clean up from initializing 3d stacks with zeros\\nlr1_metrics_full = lr1_metrics_full[:,:,1:n_simulations+1]\\nlr1_choice_proba = lr1_choice_proba[:,:,1:n_simulations+1]\\n'"
      ]
     },
     "execution_count": 9,
     "metadata": {},
     "output_type": "execute_result"
    }
   ],
   "source": [
    "'''\n",
    "n_simulations = 10\n",
    "cutoff = 0.7\n",
    "\n",
    "def lr_bandit(X, y, n_simulations)\n",
    "\n",
    "# select seed for each simulation\n",
    "seed = np.random.randint(100000, size=n_simulations)\n",
    "\n",
    "# initialize arrays for LR results\n",
    "lr1_choice_predict = np.zeros((len(idx_test),n_simulations))\n",
    "lr1_choice_proba = np.zeros((len(idx_test), 2))\n",
    "lr1_score_choice = np.zeros(n_simulations)\n",
    "lr1_metrics_full = np.zeros((4,2))\n",
    "\n",
    "for i in range(n_simulations):\n",
    "    np.random.seed(seed[i])\n",
    "    idx = np.random.permutation(len(X_choice))\n",
    "    idx_train = idx[0:int(len(X_choice)*cutoff)]\n",
    "    idx_test = idx[int(len(X_choice)*cutoff):]\n",
    "\n",
    "    X_train = X_choice[idx_train]\n",
    "    X_test = X_choice[idx_test]\n",
    "\n",
    "    Y_train_choice = Y_choice[idx_train]\n",
    "    Y_test_choice = Y_choice[idx_test]\n",
    "    Y_test_switch = Y_switch[idx_test]\n",
    "\n",
    "    lr1_choice = LogisticRegression()\n",
    "    lr1_choice.fit(X_train, Y_train_choice)\n",
    "\n",
    "    lr1_choice_proba = np.dstack((lr1_choice_proba, lr1_choice.predict_proba(X_test)))\n",
    "    lr1_choice_predict[:,i] = lr1_choice.predict(X_test)\n",
    "    lr1_score_choice[i] = lr1_choice.score(X_test, Y_test_choice)\n",
    "    \n",
    "    lr1_switch_predict = np.abs([lr1_choice_predict[n] - X_test[n,9] for n in range(len(lr1_choice_predict))])\n",
    "    lr1_metrics_switch = sklearn.metrics.precision_recall_fscore_support(Y_test_switch, lr1_switch_predict[:,i])\n",
    "    lr1_metrics_full = np.dstack((lr1_metrics_full, np.array(lr1_metrics_switch)))\n",
    "\n",
    "    \n",
    "# clean up from initializing 3d stacks with zeros\n",
    "lr1_metrics_full = lr1_metrics_full[:,:,1:n_simulations+1]\n",
    "lr1_choice_proba = lr1_choice_proba[:,:,1:n_simulations+1]\n",
    "'''"
   ]
  },
  {
   "cell_type": "code",
   "execution_count": 10,
   "metadata": {},
   "outputs": [
    {
     "data": {
      "text/plain": [
       "\"\\nheight_a = [np.mean(lr1_score_choice), np.mean(lr1_metrics_full[2,0,:]), np.mean(lr1_metrics_full[2,1,:])]\\nystd1 = [np.std(lr1_score_choice), np.std(lr1_metrics_full[2,0,:]), np.std(lr1_metrics_full[2,1,:])]\\nyerr1 = [ystd1[i] / np.sqrt(n_simulations) for i in range(len(ystd1))]\\n\\nbarWidth = 0.3\\n# The x position of bars\\nr1 = np.arange(len(height_b))\\n\\nconditions = ['full', 'stay', 'switch']\\nplt.bar(r1, height_a, width=barWidth, label='lr_choice', yerr=yerr1, capsize=3)\\n\\nplt.xticks(range(len(height_b)), conditions)\\nplt.ylabel('accuracy (f1)')\\nplt.legend()\\n\""
      ]
     },
     "execution_count": 10,
     "metadata": {},
     "output_type": "execute_result"
    }
   ],
   "source": [
    "'''\n",
    "height_a = [np.mean(lr1_score_choice), np.mean(lr1_metrics_full[2,0,:]), np.mean(lr1_metrics_full[2,1,:])]\n",
    "ystd1 = [np.std(lr1_score_choice), np.std(lr1_metrics_full[2,0,:]), np.std(lr1_metrics_full[2,1,:])]\n",
    "yerr1 = [ystd1[i] / np.sqrt(n_simulations) for i in range(len(ystd1))]\n",
    "\n",
    "barWidth = 0.3\n",
    "# The x position of bars\n",
    "r1 = np.arange(len(height_b))\n",
    "\n",
    "conditions = ['full', 'stay', 'switch']\n",
    "plt.bar(r1, height_a, width=barWidth, label='lr_choice', yerr=yerr1, capsize=3)\n",
    "\n",
    "plt.xticks(range(len(height_b)), conditions)\n",
    "plt.ylabel('accuracy (f1)')\n",
    "plt.legend()\n",
    "'''"
   ]
  },
  {
   "cell_type": "markdown",
   "metadata": {},
   "source": [
    "### lr2 - train on switches to predict switches"
   ]
  },
  {
   "cell_type": "code",
   "execution_count": 11,
   "metadata": {},
   "outputs": [],
   "source": [
    "# redefine training and testing sets to use switch history and current switch decision\n",
    "X = np.column_stack((switch_history, reward_history[:,0:8]))\n",
    "X_train = X[idx_train]\n",
    "X_test = X[idx_test]\n",
    "\n",
    "\n",
    "# train and test LR\n",
    "lr2_switch = LogisticRegression()\n",
    "lr2_switch.fit(X_train, Y_train_switch)\n",
    "\n",
    "lr2_switch_proba = lr2_switch.predict_proba(X_test)\n",
    "lr2_switch_predict = lr2_switch.predict(X_test)\n",
    "\n",
    "score_lr2_switch = lr2_switch.score(X_test, Y_test_switch)\n",
    "metrics_lr2_switch = sklearn.metrics.precision_recall_fscore_support(Y_test_switch, lr2_switch_predict)\n"
   ]
  },
  {
   "cell_type": "code",
   "execution_count": 12,
   "metadata": {},
   "outputs": [
    {
     "data": {
      "text/plain": [
       "(array([  2.36200000e+04,   5.73200000e+03,   2.33700000e+03,\n",
       "          8.28000000e+02,   3.20000000e+02,   1.17000000e+02,\n",
       "          5.00000000e+01,   1.80000000e+01,   6.00000000e+00,\n",
       "          5.00000000e+00]),\n",
       " array([ 0.02704244,  0.07435788,  0.12167332,  0.16898877,  0.21630421,\n",
       "         0.26361966,  0.3109351 ,  0.35825055,  0.40556599,  0.45288143,\n",
       "         0.50019688]),\n",
       " <a list of 10 Patch objects>)"
      ]
     },
     "execution_count": 12,
     "metadata": {},
     "output_type": "execute_result"
    },
    {
     "data": {
      "image/png": "[encoded data removed]",
      "text/plain": [
       "<matplotlib.figure.Figure at 0x11a97da90>"
      ]
     },
     "metadata": {},
     "output_type": "display_data"
    }
   ],
   "source": [
    "plt.hist(lr2_switch_proba[:,1])"
   ]
  },
  {
   "cell_type": "markdown",
   "metadata": {},
   "source": [
    "### lr2.1 - change decision boundary"
   ]
  },
  {
   "cell_type": "code",
   "execution_count": 13,
   "metadata": {
    "collapsed": true
   },
   "outputs": [],
   "source": [
    "y_predict = np.zeros_like(lr2_switch_proba)\n",
    "y_predict[lr2_switch_proba > 0.1] = 1\n",
    "\n",
    "score_switch_2 = 1-(np.sum([np.abs(y_predict[i,1] - Y_test_switch[i]) for i in range(len(Y_test_switch))])/(len(Y_test_switch)))\n",
    "switch_predict_2 = np.abs([y_predict[n,1] - X_test[n,8] for n in range(len(y_predict))])\n",
    "\n",
    "metrics_switch_3 = sklearn.metrics.precision_recall_fscore_support(Y_test_switch, switch_predict_2)\n"
   ]
  },
  {
   "cell_type": "code",
   "execution_count": 14,
   "metadata": {},
   "outputs": [
    {
     "data": {
      "text/plain": [
       "<matplotlib.legend.Legend at 0x11db99390>"
      ]
     },
     "execution_count": 14,
     "metadata": {},
     "output_type": "execute_result"
    },
    {
     "data": {
      "image/png": "[encoded data removed]",
      "text/plain": [
       "<matplotlib.figure.Figure at 0x1200c4cc0>"
      ]
     },
     "metadata": {},
     "output_type": "display_data"
    }
   ],
   "source": [
    "height_a = [score_lr1_choice, metrics_lr1_switch[2][0], metrics_lr1_switch[2][1]]\n",
    "height_b = [score_lr2_switch, metrics_lr2_switch[2][0], metrics_lr2_switch[2][1]]\n",
    "height_c = [score_switch_2, metrics_switch_3[2][0], metrics_switch_3[2][1]]\n",
    "\n",
    "barWidth = 0.3\n",
    "# The x position of bars\n",
    "r1 = np.arange(len(height_b))\n",
    "r2 = [x + barWidth for x in r1]\n",
    "r3 = [x + barWidth for x in r2]\n",
    "\n",
    "\n",
    "conditions = ['full', 'stay', 'switch']\n",
    "plt.bar(r1, height_a, width=barWidth, label='lr_choice')\n",
    "plt.bar(r2, height_b, width=barWidth, label='lr_switch')\n",
    "plt.bar(r3, height_c, width=barWidth, label='lr_switch, db=.1')\n",
    "plt.xticks(range(len(height_b)), conditions)\n",
    "plt.ylabel('accuracy (f1)')\n",
    "plt.legend()"
   ]
  },
  {
   "cell_type": "markdown",
   "metadata": {},
   "source": [
    "### restructure dataset to reflect action value instead of raw actions"
   ]
  },
  {
   "cell_type": "code",
   "execution_count": 15,
   "metadata": {
    "collapsed": true
   },
   "outputs": [],
   "source": [
    "# value = L when choice = 0 and reward = 1 or when choice = 1 and reward = 0 \n",
    "# value = R when choice = 1 and reward = 1 or when choice = 0 and reward = 0\n",
    "value_history = (choice_history==reward_history).astype('int') # gives action value with R=1, L=0"
   ]
  },
  {
   "cell_type": "markdown",
   "metadata": {},
   "source": [
    "### lr3 - use action value to predict choice"
   ]
  },
  {
   "cell_type": "code",
   "execution_count": 16,
   "metadata": {
    "collapsed": true
   },
   "outputs": [],
   "source": [
    "# redefine training set to use value history\n",
    "X = value_history\n",
    "X_train = X[idx_train]\n",
    "X_test = X[idx_test]\n",
    "\n",
    "# train and test LR\n",
    "lr3_value = LogisticRegression()\n",
    "lr3_value.fit(X_train, Y_train_choice)\n",
    "\n",
    "lr3_value_proba = lr3_value.predict_proba(X_test)\n",
    "lr3_value_predict = lr3_value.predict(X_test)\n",
    "\n",
    "score_lr3_value_choice = lr3_value.score(X_test, Y_test_choice)\n",
    "metrics_lr3_value = sklearn.metrics.precision_recall_fscore_support(Y_test_choice, lr3_value_predict)\n",
    "\n",
    "lr3_switch_predict = np.abs([lr3_value_predict[n] - X_test[n,8] for n in range(len(lr3_value_predict))])\n",
    "metrics_lr3_switch = sklearn.metrics.precision_recall_fscore_support(Y_test_switch, lr3_switch_predict)\n",
    "\n",
    "score_switch_2 = 1-(np.sum([np.abs(lr3_value_predict[i] - Y_test_switch[i]) for i in range(len(Y_test_switch))])/(len(Y_test_switch)))\n"
   ]
  },
  {
   "cell_type": "code",
   "execution_count": 17,
   "metadata": {},
   "outputs": [
    {
     "data": {
      "text/plain": [
       "4058.0"
      ]
     },
     "execution_count": 17,
     "metadata": {},
     "output_type": "execute_result"
    }
   ],
   "source": [
    "np.sum(switch_predict_2)"
   ]
  },
  {
   "cell_type": "code",
   "execution_count": 18,
   "metadata": {},
   "outputs": [
    {
     "data": {
      "text/plain": [
       "<matplotlib.legend.Legend at 0x12884c4a8>"
      ]
     },
     "execution_count": 18,
     "metadata": {},
     "output_type": "execute_result"
    },
    {
     "data": {
      "image/png": "[encoded data removed]",
      "text/plain": [
       "<matplotlib.figure.Figure at 0x11a97d9e8>"
      ]
     },
     "metadata": {},
     "output_type": "display_data"
    }
   ],
   "source": [
    "from sklearn.metrics import roc_curve, roc_auc_score\n",
    "\n",
    "fpr, tpr, _ = roc_curve(Y_test_choice, lr1_choice_proba[:,1])\n",
    "plt.plot(fpr, tpr, label=\"LR1_PORT\")\n",
    "\n",
    "fpr, tpr, _ = roc_curve(Y_test_switch, lr2_switch_proba[:,1])\n",
    "plt.plot(fpr, tpr, label=\"LR2_SWITCH\")\n",
    "\n",
    "fpr, tpr, _ = roc_curve(Y_test_choice, lr3_value_proba[:,1])\n",
    "plt.plot(fpr, tpr, label=\"LR3_VALUE\")\n",
    "\n",
    "plt.plot([0, 1], [0, 1], ':k')\n",
    "plt.xlabel('false postive rate')\n",
    "plt.ylabel('true positive rate')\n",
    "\n",
    "plt.legend(loc='lower right')"
   ]
  },
  {
   "cell_type": "markdown",
   "metadata": {},
   "source": [
    "### what about a logistic regression with more inputs?"
   ]
  },
  {
   "cell_type": "code",
   "execution_count": 19,
   "metadata": {},
   "outputs": [],
   "source": [
    "#train on proportion of data up to the 'cutoff.' hold out the rest as test data.\n",
    "X_train = X_choice_switch[idx_train]\n",
    "X_test = X_choice_switch[idx_test]\n",
    "\n",
    "# train and test LR\n",
    "lr4_multi = LogisticRegression()\n",
    "lr4_multi.fit(X_train, Y_train_choice)\n",
    "\n",
    "lr4_multi_proba = lr4_multi.predict_proba(X_test)\n",
    "lr4_multi_predict = lr4_multi.predict(X_test)\n",
    "\n",
    "score_lr4_multi_choice = lr4_multi.score(X_test, Y_test_choice)\n",
    "metrics_lr4_choice = sklearn.metrics.precision_recall_fscore_support(Y_test_choice, lr4_multi_predict)\n",
    "\n",
    "lr4_switch_predict = np.abs([lr4_multi_predict[n] - X_test[n,8] for n in range(len(lr4_multi_predict))])\n",
    "metrics_lr4_switch = sklearn.metrics.precision_recall_fscore_support(Y_test_switch, lr4_switch_predict)\n",
    "\n",
    "score_switch_2 = 1-(np.sum([np.abs(lr4_multi_predict[i] - Y_test_switch[i]) for i in range(len(Y_test_switch))])/(len(Y_test_switch)))\n",
    "\n",
    "'''\n",
    "Now train to predict switches\n",
    "'''\n",
    "\n",
    "lr5_multi = LogisticRegression()\n",
    "lr5_multi.fit(X_train, Y_train_switch)\n",
    "\n",
    "lr5_multi_proba = lr5_multi.predict_proba(X_test)\n",
    "lr5_multi_predict = lr5_multi.predict(X_test)\n",
    "\n",
    "score_lr5_multi_switch = lr5_multi.score(X_test, Y_test_switch)\n",
    "metrics_lr5_switch = sklearn.metrics.precision_recall_fscore_support(Y_test_switch, lr5_multi_predict)\n"
   ]
  },
  {
   "cell_type": "code",
   "execution_count": 20,
   "metadata": {},
   "outputs": [
    {
     "data": {
      "text/plain": [
       "(array([ 0.93384401,  0.        ]),\n",
       " array([ 0.99983791,  0.        ]),\n",
       " array([ 0.96571482,  0.        ]),\n",
       " array([30848,  2185]))"
      ]
     },
     "execution_count": 20,
     "metadata": {},
     "output_type": "execute_result"
    }
   ],
   "source": [
    "metrics_lr5_switch"
   ]
  },
  {
   "cell_type": "code",
   "execution_count": 21,
   "metadata": {},
   "outputs": [
    {
     "data": {
      "text/plain": [
       "<matplotlib.legend.Legend at 0x12a6689e8>"
      ]
     },
     "execution_count": 21,
     "metadata": {},
     "output_type": "execute_result"
    },
    {
     "data": {
      "image/png": "[encoded data removed]",
      "text/plain": [
       "<matplotlib.figure.Figure at 0x125223fd0>"
      ]
     },
     "metadata": {},
     "output_type": "display_data"
    }
   ],
   "source": [
    "height_a = [score_lr1_choice, metrics_lr1_switch[2][0], metrics_lr1_switch[2][1]]\n",
    "height_b = [score_lr2_switch, metrics_lr2_switch[2][0], metrics_lr2_switch[2][1]]\n",
    "height_c = [score_lr3_value_choice, metrics_lr3_switch[2][0], metrics_lr3_switch[2][1]]\n",
    "height_d = [score_lr4_multi_choice, metrics_lr4_switch[2][0], metrics_lr4_switch[2][1]]\n",
    "height_e = [score_lr5_multi_switch, metrics_lr5_switch[2][0], metrics_lr5_switch[2][1]]\n",
    "\n",
    "\n",
    "barWidth = 0.1\n",
    "# The x position of bars\n",
    "r1 = np.arange(len(height_b))\n",
    "r2 = [x + barWidth for x in r1]\n",
    "r3 = [x + barWidth for x in r2]\n",
    "r4 = [x + barWidth for x in r3]\n",
    "r5 = [x + barWidth for x in r4]\n",
    "\n",
    "\n",
    "\n",
    "conditions = ['full', 'stay', 'switch']\n",
    "plt.bar(r1, height_a, width=barWidth, label='lr1_choice')\n",
    "plt.bar(r2, height_b, width=barWidth, label='lr2_switch')\n",
    "plt.bar(r3, height_c, width=barWidth, label='lr3_value')\n",
    "plt.bar(r4, height_d, width=barWidth, label='lr4_multi')\n",
    "plt.bar(r5, height_e, width=barWidth, label='lr5_multi')\n",
    "\n",
    "\n",
    "\n",
    "plt.xticks(range(len(height_b)), conditions)\n",
    "plt.ylabel('accuracy (f1)')\n",
    "plt.legend()"
   ]
  },
  {
   "cell_type": "code",
   "execution_count": 22,
   "metadata": {},
   "outputs": [
    {
     "data": {
      "text/plain": [
       "<matplotlib.legend.Legend at 0x11f27fda0>"
      ]
     },
     "execution_count": 22,
     "metadata": {},
     "output_type": "execute_result"
    },
    {
     "data": {
      "image/png": "[encoded data removed]",
      "text/plain": [
       "<matplotlib.figure.Figure at 0x1200b03c8>"
      ]
     },
     "metadata": {},
     "output_type": "display_data"
    }
   ],
   "source": [
    "from sklearn.metrics import roc_curve, roc_auc_score\n",
    "\n",
    "fpr, tpr, _ = roc_curve(Y_test_choice, lr1_choice_proba[:,1])\n",
    "plt.plot(fpr, tpr, label=\"LR1_PORT\")\n",
    "\n",
    "fpr, tpr, _ = roc_curve(Y_test_switch, lr2_switch_proba[:,1])\n",
    "plt.plot(fpr, tpr, label=\"LR2_SWITCH\")\n",
    "\n",
    "fpr, tpr, _ = roc_curve(Y_test_choice, lr3_value_proba[:,1])\n",
    "plt.plot(fpr, tpr, label=\"LR3_VALUE\")\n",
    "\n",
    "fpr, tpr, _ = roc_curve(Y_test_choice, lr4_multi_proba[:,1])\n",
    "plt.plot(fpr, tpr, label=\"LR4_MULTI\")\n",
    "\n",
    "fpr, tpr, _ = roc_curve(Y_test_switch, lr5_multi_proba[:,1])\n",
    "plt.plot(fpr, tpr, label=\"LR5_MULTI\")\n",
    "\n",
    "plt.plot([0, 1], [0, 1], ':k')\n",
    "plt.xlabel('false postive rate')\n",
    "plt.ylabel('true positive rate')\n",
    "\n",
    "plt.legend(loc='lower right')"
   ]
  },
  {
   "cell_type": "code",
   "execution_count": null,
   "metadata": {
    "collapsed": true
   },
   "outputs": [],
   "source": []
  }
 ],
 "metadata": {
  "kernelspec": {
   "display_name": "Python 3",
   "language": "python",
   "name": "python3"
  },
  "language_info": {
   "codemirror_mode": {
    "name": "ipython",
    "version": 3
   },
   "file_extension": ".py",
   "mimetype": "text/x-python",
   "name": "python",
   "nbconvert_exporter": "python",
   "pygments_lexer": "ipython3",
   "version": "3.6.1"
  }
 },
 "nbformat": 4,
 "nbformat_minor": 2
}
