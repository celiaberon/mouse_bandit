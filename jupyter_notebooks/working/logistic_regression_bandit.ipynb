{
 "cells": [
  {
   "cell_type": "code",
   "execution_count": 1,
   "metadata": {
    "collapsed": true
   },
   "outputs": [],
   "source": [
    "import numpy as np\n",
    "import pandas as pd\n",
    "import matplotlib.pyplot as plt\n",
    "from sklearn.linear_model import LogisticRegression\n",
    "%matplotlib inline"
   ]
  },
  {
   "cell_type": "code",
   "execution_count": 2,
   "metadata": {
    "collapsed": true
   },
   "outputs": [],
   "source": [
    "data = pd.read_csv('/Users/celiaberon/Dropbox (HMS)/mouse_bandit/markov_full.csv', index_col=0)"
   ]
  },
  {
   "cell_type": "code",
   "execution_count": 3,
   "metadata": {
    "collapsed": true
   },
   "outputs": [],
   "source": [
    "data = data[data['Session ID']=='01112018_Mustard']"
   ]
  },
  {
   "cell_type": "code",
   "execution_count": 4,
   "metadata": {},
   "outputs": [
    {
     "data": {
      "text/html": [
       "<div>\n",
       "<table border=\"1\" class=\"dataframe\">\n",
       "  <thead>\n",
       "    <tr style=\"text-align: right;\">\n",
       "      <th></th>\n",
       "      <th>index</th>\n",
       "      <th>Mouse ID</th>\n",
       "      <th>Session ID</th>\n",
       "      <th>Trial</th>\n",
       "      <th>Block Trial</th>\n",
       "      <th>Block Reward</th>\n",
       "      <th>Port Streak</th>\n",
       "      <th>Reward Streak</th>\n",
       "      <th>10_Port</th>\n",
       "      <th>10_Reward</th>\n",
       "      <th>...</th>\n",
       "      <th>1_trialDuration</th>\n",
       "      <th>0_ITI</th>\n",
       "      <th>0_trialDuration</th>\n",
       "      <th>Decision</th>\n",
       "      <th>Switch</th>\n",
       "      <th>Higher p port</th>\n",
       "      <th>Reward</th>\n",
       "      <th>Condition</th>\n",
       "      <th>Block ID</th>\n",
       "      <th>Current Block Length</th>\n",
       "    </tr>\n",
       "  </thead>\n",
       "  <tbody>\n",
       "    <tr>\n",
       "      <th>127983</th>\n",
       "      <td>0</td>\n",
       "      <td>Mustard</td>\n",
       "      <td>01112018_Mustard</td>\n",
       "      <td>11.0</td>\n",
       "      <td>11.0</td>\n",
       "      <td>7.0</td>\n",
       "      <td>5.0</td>\n",
       "      <td>3.0</td>\n",
       "      <td>1.0</td>\n",
       "      <td>0.0</td>\n",
       "      <td>...</td>\n",
       "      <td>0.554</td>\n",
       "      <td>2.543</td>\n",
       "      <td>0.565</td>\n",
       "      <td>0.0</td>\n",
       "      <td>0.0</td>\n",
       "      <td>1.0</td>\n",
       "      <td>1.0</td>\n",
       "      <td>80-20</td>\n",
       "      <td>1.0</td>\n",
       "      <td>42.0</td>\n",
       "    </tr>\n",
       "    <tr>\n",
       "      <th>127984</th>\n",
       "      <td>1</td>\n",
       "      <td>Mustard</td>\n",
       "      <td>01112018_Mustard</td>\n",
       "      <td>12.0</td>\n",
       "      <td>12.0</td>\n",
       "      <td>8.0</td>\n",
       "      <td>6.0</td>\n",
       "      <td>4.0</td>\n",
       "      <td>0.0</td>\n",
       "      <td>1.0</td>\n",
       "      <td>...</td>\n",
       "      <td>0.565</td>\n",
       "      <td>2.489</td>\n",
       "      <td>0.570</td>\n",
       "      <td>0.0</td>\n",
       "      <td>0.0</td>\n",
       "      <td>1.0</td>\n",
       "      <td>1.0</td>\n",
       "      <td>80-20</td>\n",
       "      <td>1.0</td>\n",
       "      <td>42.0</td>\n",
       "    </tr>\n",
       "    <tr>\n",
       "      <th>127985</th>\n",
       "      <td>2</td>\n",
       "      <td>Mustard</td>\n",
       "      <td>01112018_Mustard</td>\n",
       "      <td>13.0</td>\n",
       "      <td>13.0</td>\n",
       "      <td>9.0</td>\n",
       "      <td>7.0</td>\n",
       "      <td>5.0</td>\n",
       "      <td>1.0</td>\n",
       "      <td>1.0</td>\n",
       "      <td>...</td>\n",
       "      <td>0.570</td>\n",
       "      <td>1.840</td>\n",
       "      <td>0.423</td>\n",
       "      <td>0.0</td>\n",
       "      <td>0.0</td>\n",
       "      <td>1.0</td>\n",
       "      <td>0.0</td>\n",
       "      <td>80-20</td>\n",
       "      <td>1.0</td>\n",
       "      <td>42.0</td>\n",
       "    </tr>\n",
       "    <tr>\n",
       "      <th>127986</th>\n",
       "      <td>3</td>\n",
       "      <td>Mustard</td>\n",
       "      <td>01112018_Mustard</td>\n",
       "      <td>14.0</td>\n",
       "      <td>14.0</td>\n",
       "      <td>9.0</td>\n",
       "      <td>8.0</td>\n",
       "      <td>-1.0</td>\n",
       "      <td>1.0</td>\n",
       "      <td>1.0</td>\n",
       "      <td>...</td>\n",
       "      <td>0.423</td>\n",
       "      <td>1.305</td>\n",
       "      <td>0.632</td>\n",
       "      <td>0.0</td>\n",
       "      <td>0.0</td>\n",
       "      <td>1.0</td>\n",
       "      <td>1.0</td>\n",
       "      <td>80-20</td>\n",
       "      <td>1.0</td>\n",
       "      <td>42.0</td>\n",
       "    </tr>\n",
       "    <tr>\n",
       "      <th>127987</th>\n",
       "      <td>4</td>\n",
       "      <td>Mustard</td>\n",
       "      <td>01112018_Mustard</td>\n",
       "      <td>15.0</td>\n",
       "      <td>15.0</td>\n",
       "      <td>10.0</td>\n",
       "      <td>9.0</td>\n",
       "      <td>1.0</td>\n",
       "      <td>1.0</td>\n",
       "      <td>1.0</td>\n",
       "      <td>...</td>\n",
       "      <td>0.632</td>\n",
       "      <td>1.431</td>\n",
       "      <td>0.349</td>\n",
       "      <td>0.0</td>\n",
       "      <td>0.0</td>\n",
       "      <td>1.0</td>\n",
       "      <td>1.0</td>\n",
       "      <td>80-20</td>\n",
       "      <td>1.0</td>\n",
       "      <td>42.0</td>\n",
       "    </tr>\n",
       "  </tbody>\n",
       "</table>\n",
       "<p>5 rows × 57 columns</p>\n",
       "</div>"
      ],
      "text/plain": [
       "        index Mouse ID        Session ID  Trial  Block Trial  Block Reward  \\\n",
       "127983      0  Mustard  01112018_Mustard   11.0         11.0           7.0   \n",
       "127984      1  Mustard  01112018_Mustard   12.0         12.0           8.0   \n",
       "127985      2  Mustard  01112018_Mustard   13.0         13.0           9.0   \n",
       "127986      3  Mustard  01112018_Mustard   14.0         14.0           9.0   \n",
       "127987      4  Mustard  01112018_Mustard   15.0         15.0          10.0   \n",
       "\n",
       "        Port Streak  Reward Streak  10_Port  10_Reward          ...           \\\n",
       "127983          5.0            3.0      1.0        0.0          ...            \n",
       "127984          6.0            4.0      0.0        1.0          ...            \n",
       "127985          7.0            5.0      1.0        1.0          ...            \n",
       "127986          8.0           -1.0      1.0        1.0          ...            \n",
       "127987          9.0            1.0      1.0        1.0          ...            \n",
       "\n",
       "        1_trialDuration  0_ITI  0_trialDuration  Decision  Switch  \\\n",
       "127983            0.554  2.543            0.565       0.0     0.0   \n",
       "127984            0.565  2.489            0.570       0.0     0.0   \n",
       "127985            0.570  1.840            0.423       0.0     0.0   \n",
       "127986            0.423  1.305            0.632       0.0     0.0   \n",
       "127987            0.632  1.431            0.349       0.0     0.0   \n",
       "\n",
       "        Higher p port  Reward  Condition  Block ID  Current Block Length  \n",
       "127983            1.0     1.0      80-20       1.0                  42.0  \n",
       "127984            1.0     1.0      80-20       1.0                  42.0  \n",
       "127985            1.0     0.0      80-20       1.0                  42.0  \n",
       "127986            1.0     1.0      80-20       1.0                  42.0  \n",
       "127987            1.0     1.0      80-20       1.0                  42.0  \n",
       "\n",
       "[5 rows x 57 columns]"
      ]
     },
     "execution_count": 4,
     "metadata": {},
     "output_type": "execute_result"
    }
   ],
   "source": [
    "data.head()"
   ]
  },
  {
   "cell_type": "markdown",
   "metadata": {},
   "source": [
    "### make some new dataframes\n",
    "    X has predictor variables (choice and reward history for past n trials) relevant variables for logit model\n",
    "    Y has dependent variable (choice on current trial)"
   ]
  },
  {
   "cell_type": "code",
   "execution_count": 5,
   "metadata": {},
   "outputs": [],
   "source": [
    "### include past 10 choice and reward values (this is most convenient given the current data structure)\n",
    "choice_history = []\n",
    "reward_history = []\n",
    "for col in data.columns:\n",
    "    if '_Port' in col:\n",
    "        #print(col)\n",
    "        choice_history.append(data[col][:])\n",
    "    elif '_Reward' in col:\n",
    "        #print(col)\n",
    "        reward_history.append(data[col][:])\n",
    "        \n",
    "choice_history = np.transpose(np.asarray(choice_history))\n",
    "reward_history = np.transpose(np.asarray(reward_history))\n",
    "        \n",
    "choice = []\n",
    "reward = []\n",
    "for col in data.columns:\n",
    "    if 'Decision' in col:\n",
    "        #print(col)\n",
    "        choice.append(data[col][:])\n",
    "    elif 'Reward' in col:\n",
    "        #print(col)\n",
    "        reward.append(data[col][:])\n",
    "\n",
    "choice = np.transpose(np.asarray(choice))\n",
    "reward = np.transpose(np.asarray(reward))"
   ]
  },
  {
   "cell_type": "code",
   "execution_count": 6,
   "metadata": {},
   "outputs": [],
   "source": [
    "# set up as X and Y for logistic regression (X contains all predictors)\n",
    "X = np.column_stack((choice_history, reward_history))\n",
    "Y = choice.ravel()"
   ]
  },
  {
   "cell_type": "markdown",
   "metadata": {},
   "source": [
    "### split data into training and testing datasets"
   ]
  },
  {
   "cell_type": "code",
   "execution_count": 7,
   "metadata": {
    "collapsed": true
   },
   "outputs": [],
   "source": [
    "idx = np.random.permutation(len(X))\n",
    "cutoff = 0.7\n",
    "idx_train = idx[0:int(len(X)*cutoff)]\n",
    "idx_test = idx[int(len(X)*cutoff):]\n",
    "\n",
    "X_train = X[idx_train]\n",
    "X_test = X[idx_test]\n",
    "\n",
    "Y_train = Y[idx_train]\n",
    "Y_test = Y[idx_test]"
   ]
  },
  {
   "cell_type": "markdown",
   "metadata": {},
   "source": [
    "### Logistic regression"
   ]
  },
  {
   "cell_type": "code",
   "execution_count": 8,
   "metadata": {},
   "outputs": [
    {
     "data": {
      "text/plain": [
       "0.87943262411347523"
      ]
     },
     "execution_count": 8,
     "metadata": {},
     "output_type": "execute_result"
    }
   ],
   "source": [
    "lr = LogisticRegression()\n",
    "lr.fit(X_train, Y_train)\n",
    "\n",
    "lr_predict_prob = lr.predict_proba(X_test)\n",
    "lr_predict = lr.predict(X_test)\n",
    "score = lr.score(X_test, Y_test)\n",
    "score"
   ]
  },
  {
   "cell_type": "code",
   "execution_count": 9,
   "metadata": {},
   "outputs": [
    {
     "data": {
      "text/plain": [
       "'\\n# can determine accuracy by abs value of difference between test and prediction -- any mismatch = 1\\naccuracy_mat = np.abs(Y_test-lr_predict)\\naccuracy = (len(Y_test)-accuracy_mat.sum())/len(Y_test)\\naccuracy\\n'"
      ]
     },
     "execution_count": 9,
     "metadata": {},
     "output_type": "execute_result"
    }
   ],
   "source": [
    "'''\n",
    "# can determine accuracy by abs value of difference between test and prediction -- any mismatch = 1\n",
    "accuracy_mat = np.abs(Y_test-lr_predict)\n",
    "accuracy = (len(Y_test)-accuracy_mat.sum())/len(Y_test)\n",
    "accuracy\n",
    "'''"
   ]
  },
  {
   "cell_type": "code",
   "execution_count": 10,
   "metadata": {},
   "outputs": [
    {
     "name": "stdout",
     "output_type": "stream",
     "text": [
      "fraction of predicted switch trials = 0.043\n"
     ]
    }
   ],
   "source": [
    "switch = [lr_predict[i] - X_test[i,9] for i in range(len(Y_test))]\n",
    "switch = np.abs(switch).astype(bool)\n",
    "print('fraction of predicted switch trials = {:.3f}'.format(np.sum(switch)/len(switch)))"
   ]
  },
  {
   "cell_type": "code",
   "execution_count": 11,
   "metadata": {},
   "outputs": [
    {
     "name": "stdout",
     "output_type": "stream",
     "text": [
      "fraction of switch trials = 0.121\n"
     ]
    }
   ],
   "source": [
    "switch = [Y_test[i] - X_test[i,9] for i in range(len(Y_test))]\n",
    "switch = np.abs(switch).astype(bool)\n",
    "print('fraction of switch trials = {:.3f}'.format(np.sum(switch)/len(switch)))"
   ]
  },
  {
   "cell_type": "code",
   "execution_count": 12,
   "metadata": {},
   "outputs": [
    {
     "data": {
      "text/plain": [
       "17"
      ]
     },
     "execution_count": 12,
     "metadata": {},
     "output_type": "execute_result"
    }
   ],
   "source": [
    "switch.sum()"
   ]
  },
  {
   "cell_type": "code",
   "execution_count": 13,
   "metadata": {},
   "outputs": [
    {
     "data": {
      "text/plain": [
       "0.17647058823529413"
      ]
     },
     "execution_count": 13,
     "metadata": {},
     "output_type": "execute_result"
    }
   ],
   "source": [
    "accuracy_mat = np.abs(Y_test[switch] - lr_predict[switch])\n",
    "accuracy_switch = (np.sum(switch)-accuracy_mat.sum())/np.sum(switch)\n",
    "accuracy_switch"
   ]
  },
  {
   "cell_type": "code",
   "execution_count": 14,
   "metadata": {},
   "outputs": [
    {
     "data": {
      "text/plain": [
       "0.97580645161290325"
      ]
     },
     "execution_count": 14,
     "metadata": {},
     "output_type": "execute_result"
    }
   ],
   "source": [
    "accuracy_mat = np.abs(Y_test[~switch] - lr_predict[~switch])\n",
    "accuracy_stay = (np.sum(~switch)-accuracy_mat.sum())/np.sum(~switch)\n",
    "accuracy_stay"
   ]
  },
  {
   "cell_type": "code",
   "execution_count": 15,
   "metadata": {},
   "outputs": [
    {
     "data": {
      "text/plain": [
       "([<matplotlib.axis.XTick at 0x10ab63a90>,\n",
       "  <matplotlib.axis.XTick at 0x10abf1f60>,\n",
       "  <matplotlib.axis.XTick at 0x10abd1ba8>],\n",
       " <a list of 3 Text xticklabel objects>)"
      ]
     },
     "execution_count": 15,
     "metadata": {},
     "output_type": "execute_result"
    },
    {
     "data": {
      "image/png": "[encoded data removed]",
      "text/plain": [
       "<matplotlib.figure.Figure at 0x10ab39080>"
      ]
     },
     "metadata": {},
     "output_type": "display_data"
    }
   ],
   "source": [
    "height = [score, accuracy_stay, accuracy_switch]\n",
    "conditions = ['full', 'stay', 'switch']\n",
    "plt.bar(range(len(height)), height)\n",
    "plt.xticks(range(len(height)), conditions)"
   ]
  },
  {
   "cell_type": "code",
   "execution_count": null,
   "metadata": {
    "collapsed": true
   },
   "outputs": [],
   "source": []
  }
 ],
 "metadata": {
  "kernelspec": {
   "display_name": "Python 3",
   "language": "python",
   "name": "python3"
  },
  "language_info": {
   "codemirror_mode": {
    "name": "ipython",
    "version": 3
   },
   "file_extension": ".py",
   "mimetype": "text/x-python",
   "name": "python",
   "nbconvert_exporter": "python",
   "pygments_lexer": "ipython3",
   "version": "3.6.1"
  }
 },
 "nbformat": 4,
 "nbformat_minor": 2
}
